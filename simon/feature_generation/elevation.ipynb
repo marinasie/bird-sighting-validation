{
 "cells": [
  {
   "cell_type": "markdown",
   "metadata": {},
   "source": [
    "<img src=\"../../img/elevation.png\" alt=\"Outlier Detection\" style=\"width: 100%; border-radius: 20px;\"/>"
   ]
  },
  {
   "cell_type": "code",
   "execution_count": 1,
   "metadata": {},
   "outputs": [],
   "source": [
    "import pandas as pd\n",
    "import sys\n",
    "sys.path.append('../')\n",
    "from utils.copernicus import CopernicusDEM\n",
    "import requests"
   ]
  },
  {
   "cell_type": "code",
   "execution_count": 2,
   "metadata": {},
   "outputs": [],
   "source": [
    "pd.set_option('display.max_columns', None)\n",
    "pd.set_option('display.expand_frame_repr', False)\n",
    "pd.set_option('max_colwidth', False)"
   ]
  },
  {
   "cell_type": "code",
   "execution_count": 3,
   "metadata": {},
   "outputs": [
    {
     "name": "stderr",
     "output_type": "stream",
     "text": [
      "C:\\Users\\simon\\AppData\\Local\\Temp\\ipykernel_17476\\247923559.py:2: DtypeWarning: Columns (11) have mixed types. Specify dtype option on import or set low_memory=False.\n",
      "  df = pd.read_csv(df_path, index_col=0)\n"
     ]
    }
   ],
   "source": [
    "df_path = 'D:\\\\Simon\\\\Documents\\\\GP\\\\data\\\\datasets\\\\selected_bird_species_with_grids_50km.csv'\n",
    "df = pd.read_csv(df_path, index_col=0)\n",
    "df.reset_index(inplace=True, drop=True)"
   ]
  },
  {
   "cell_type": "code",
   "execution_count": 4,
   "metadata": {},
   "outputs": [
    {
     "data": {
      "text/html": [
       "<div>\n",
       "<style scoped>\n",
       "    .dataframe tbody tr th:only-of-type {\n",
       "        vertical-align: middle;\n",
       "    }\n",
       "\n",
       "    .dataframe tbody tr th {\n",
       "        vertical-align: top;\n",
       "    }\n",
       "\n",
       "    .dataframe thead th {\n",
       "        text-align: right;\n",
       "    }\n",
       "</style>\n",
       "<table border=\"1\" class=\"dataframe\">\n",
       "  <thead>\n",
       "    <tr style=\"text-align: right;\">\n",
       "      <th></th>\n",
       "      <th>id_sighting</th>\n",
       "      <th>id_species</th>\n",
       "      <th>name_species</th>\n",
       "      <th>date</th>\n",
       "      <th>timing</th>\n",
       "      <th>coord_lat</th>\n",
       "      <th>coord_lon</th>\n",
       "      <th>precision</th>\n",
       "      <th>altitude</th>\n",
       "      <th>total_count</th>\n",
       "      <th>atlas_code</th>\n",
       "      <th>id_observer</th>\n",
       "      <th>country</th>\n",
       "      <th>eea_grid_id</th>\n",
       "    </tr>\n",
       "  </thead>\n",
       "  <tbody>\n",
       "    <tr>\n",
       "      <th>0</th>\n",
       "      <td>29666972</td>\n",
       "      <td>8.0</td>\n",
       "      <td>Haubentaucher</td>\n",
       "      <td>2018-01-01</td>\n",
       "      <td>NaN</td>\n",
       "      <td>53.157760</td>\n",
       "      <td>8.676993</td>\n",
       "      <td>place</td>\n",
       "      <td>0</td>\n",
       "      <td>0.0</td>\n",
       "      <td>NaN</td>\n",
       "      <td>37718.0</td>\n",
       "      <td>de</td>\n",
       "      <td>50kmE4200N3300</td>\n",
       "    </tr>\n",
       "    <tr>\n",
       "      <th>1</th>\n",
       "      <td>29654244</td>\n",
       "      <td>397.0</td>\n",
       "      <td>Schwarzkehlchen</td>\n",
       "      <td>2018-01-01</td>\n",
       "      <td>NaN</td>\n",
       "      <td>53.127639</td>\n",
       "      <td>8.957263</td>\n",
       "      <td>square</td>\n",
       "      <td>0</td>\n",
       "      <td>2.0</td>\n",
       "      <td>NaN</td>\n",
       "      <td>37803.0</td>\n",
       "      <td>de</td>\n",
       "      <td>50kmE4250N3300</td>\n",
       "    </tr>\n",
       "    <tr>\n",
       "      <th>2</th>\n",
       "      <td>29654521</td>\n",
       "      <td>463.0</td>\n",
       "      <td>Wiesenpieper</td>\n",
       "      <td>2018-01-01</td>\n",
       "      <td>NaN</td>\n",
       "      <td>50.850941</td>\n",
       "      <td>12.146953</td>\n",
       "      <td>place</td>\n",
       "      <td>0</td>\n",
       "      <td>2.0</td>\n",
       "      <td>NaN</td>\n",
       "      <td>39627.0</td>\n",
       "      <td>de</td>\n",
       "      <td>50kmE4450N3050</td>\n",
       "    </tr>\n",
       "    <tr>\n",
       "      <th>3</th>\n",
       "      <td>29666414</td>\n",
       "      <td>8.0</td>\n",
       "      <td>Haubentaucher</td>\n",
       "      <td>2018-01-01</td>\n",
       "      <td>NaN</td>\n",
       "      <td>51.076006</td>\n",
       "      <td>11.038316</td>\n",
       "      <td>place</td>\n",
       "      <td>0</td>\n",
       "      <td>8.0</td>\n",
       "      <td>NaN</td>\n",
       "      <td>38301.0</td>\n",
       "      <td>de</td>\n",
       "      <td>50kmE4350N3100</td>\n",
       "    </tr>\n",
       "    <tr>\n",
       "      <th>4</th>\n",
       "      <td>29656211</td>\n",
       "      <td>8.0</td>\n",
       "      <td>Haubentaucher</td>\n",
       "      <td>2018-01-01</td>\n",
       "      <td>NaN</td>\n",
       "      <td>51.389380</td>\n",
       "      <td>7.067282</td>\n",
       "      <td>place</td>\n",
       "      <td>0</td>\n",
       "      <td>10.0</td>\n",
       "      <td>NaN</td>\n",
       "      <td>108167.0</td>\n",
       "      <td>de</td>\n",
       "      <td>50kmE4100N3100</td>\n",
       "    </tr>\n",
       "  </tbody>\n",
       "</table>\n",
       "</div>"
      ],
      "text/plain": [
       "   id_sighting  id_species     name_species        date timing  coord_lat  coord_lon precision  altitude  total_count atlas_code  id_observer country     eea_grid_id\n",
       "0  29666972     8.0         Haubentaucher    2018-01-01  NaN    53.157760  8.676993   place     0         0.0          NaN        37718.0      de      50kmE4200N3300\n",
       "1  29654244     397.0       Schwarzkehlchen  2018-01-01  NaN    53.127639  8.957263   square    0         2.0          NaN        37803.0      de      50kmE4250N3300\n",
       "2  29654521     463.0       Wiesenpieper     2018-01-01  NaN    50.850941  12.146953  place     0         2.0          NaN        39627.0      de      50kmE4450N3050\n",
       "3  29666414     8.0         Haubentaucher    2018-01-01  NaN    51.076006  11.038316  place     0         8.0          NaN        38301.0      de      50kmE4350N3100\n",
       "4  29656211     8.0         Haubentaucher    2018-01-01  NaN    51.389380  7.067282   place     0         10.0         NaN        108167.0     de      50kmE4100N3100"
      ]
     },
     "execution_count": 4,
     "metadata": {},
     "output_type": "execute_result"
    }
   ],
   "source": [
    "df.head(5)"
   ]
  },
  {
   "cell_type": "code",
   "execution_count": 5,
   "metadata": {},
   "outputs": [
    {
     "name": "stdout",
     "output_type": "stream",
     "text": [
      "altitude\n",
      "0       2018787\n",
      "430     86836  \n",
      "420     34345  \n",
      "400     32806  \n",
      "410     28031  \n",
      "        ...    \n",
      "1114    1      \n",
      "3200    1      \n",
      "3500    1      \n",
      "2667    1      \n",
      "2753    1      \n",
      "Name: count, Length: 2685, dtype: int64\n"
     ]
    }
   ],
   "source": [
    "print(df.altitude.value_counts())"
   ]
  },
  {
   "cell_type": "markdown",
   "metadata": {},
   "source": [
    "### Add elevation features"
   ]
  },
  {
   "cell_type": "code",
   "execution_count": 6,
   "metadata": {},
   "outputs": [],
   "source": [
    "copernicus = CopernicusDEM(raster_paths=['D:\\\\Simon\\\\Documents\\\\GP\\\\data\\\\util_files\\\\EU_DEM\\\\eu_dem_v11_E40N20.TIF', 'D:\\\\Simon\\\\Documents\\\\GP\\\\data\\\\util_files\\\\EU_DEM\\\\eu_dem_v11_E40N30.TIF'])"
   ]
  },
  {
   "cell_type": "code",
   "execution_count": 7,
   "metadata": {},
   "outputs": [],
   "source": [
    "df = copernicus.get_elevation(df, lat_col='coord_lat', lon_col='coord_lon')"
   ]
  },
  {
   "cell_type": "code",
   "execution_count": 8,
   "metadata": {},
   "outputs": [],
   "source": [
    "df['altitude'] = df['elevation']\n",
    "df.drop(columns=['elevation'], inplace=True)"
   ]
  },
  {
   "cell_type": "code",
   "execution_count": 9,
   "metadata": {},
   "outputs": [
    {
     "data": {
      "text/html": [
       "<div>\n",
       "<style scoped>\n",
       "    .dataframe tbody tr th:only-of-type {\n",
       "        vertical-align: middle;\n",
       "    }\n",
       "\n",
       "    .dataframe tbody tr th {\n",
       "        vertical-align: top;\n",
       "    }\n",
       "\n",
       "    .dataframe thead th {\n",
       "        text-align: right;\n",
       "    }\n",
       "</style>\n",
       "<table border=\"1\" class=\"dataframe\">\n",
       "  <thead>\n",
       "    <tr style=\"text-align: right;\">\n",
       "      <th></th>\n",
       "      <th>id_sighting</th>\n",
       "      <th>id_species</th>\n",
       "      <th>name_species</th>\n",
       "      <th>date</th>\n",
       "      <th>timing</th>\n",
       "      <th>coord_lat</th>\n",
       "      <th>coord_lon</th>\n",
       "      <th>precision</th>\n",
       "      <th>altitude</th>\n",
       "      <th>total_count</th>\n",
       "      <th>atlas_code</th>\n",
       "      <th>id_observer</th>\n",
       "      <th>country</th>\n",
       "      <th>eea_grid_id</th>\n",
       "    </tr>\n",
       "  </thead>\n",
       "  <tbody>\n",
       "    <tr>\n",
       "      <th>0</th>\n",
       "      <td>29666972</td>\n",
       "      <td>8.0</td>\n",
       "      <td>Haubentaucher</td>\n",
       "      <td>2018-01-01</td>\n",
       "      <td>NaN</td>\n",
       "      <td>53.157760</td>\n",
       "      <td>8.676993</td>\n",
       "      <td>place</td>\n",
       "      <td>-1.051010</td>\n",
       "      <td>0.0</td>\n",
       "      <td>NaN</td>\n",
       "      <td>37718.0</td>\n",
       "      <td>de</td>\n",
       "      <td>50kmE4200N3300</td>\n",
       "    </tr>\n",
       "    <tr>\n",
       "      <th>1</th>\n",
       "      <td>29654244</td>\n",
       "      <td>397.0</td>\n",
       "      <td>Schwarzkehlchen</td>\n",
       "      <td>2018-01-01</td>\n",
       "      <td>NaN</td>\n",
       "      <td>53.127639</td>\n",
       "      <td>8.957263</td>\n",
       "      <td>square</td>\n",
       "      <td>0.760781</td>\n",
       "      <td>2.0</td>\n",
       "      <td>NaN</td>\n",
       "      <td>37803.0</td>\n",
       "      <td>de</td>\n",
       "      <td>50kmE4250N3300</td>\n",
       "    </tr>\n",
       "    <tr>\n",
       "      <th>2</th>\n",
       "      <td>29654521</td>\n",
       "      <td>463.0</td>\n",
       "      <td>Wiesenpieper</td>\n",
       "      <td>2018-01-01</td>\n",
       "      <td>NaN</td>\n",
       "      <td>50.850941</td>\n",
       "      <td>12.146953</td>\n",
       "      <td>place</td>\n",
       "      <td>270.831299</td>\n",
       "      <td>2.0</td>\n",
       "      <td>NaN</td>\n",
       "      <td>39627.0</td>\n",
       "      <td>de</td>\n",
       "      <td>50kmE4450N3050</td>\n",
       "    </tr>\n",
       "    <tr>\n",
       "      <th>3</th>\n",
       "      <td>29666414</td>\n",
       "      <td>8.0</td>\n",
       "      <td>Haubentaucher</td>\n",
       "      <td>2018-01-01</td>\n",
       "      <td>NaN</td>\n",
       "      <td>51.076006</td>\n",
       "      <td>11.038316</td>\n",
       "      <td>place</td>\n",
       "      <td>158.941010</td>\n",
       "      <td>8.0</td>\n",
       "      <td>NaN</td>\n",
       "      <td>38301.0</td>\n",
       "      <td>de</td>\n",
       "      <td>50kmE4350N3100</td>\n",
       "    </tr>\n",
       "    <tr>\n",
       "      <th>4</th>\n",
       "      <td>29656211</td>\n",
       "      <td>8.0</td>\n",
       "      <td>Haubentaucher</td>\n",
       "      <td>2018-01-01</td>\n",
       "      <td>NaN</td>\n",
       "      <td>51.389380</td>\n",
       "      <td>7.067282</td>\n",
       "      <td>place</td>\n",
       "      <td>52.362160</td>\n",
       "      <td>10.0</td>\n",
       "      <td>NaN</td>\n",
       "      <td>108167.0</td>\n",
       "      <td>de</td>\n",
       "      <td>50kmE4100N3100</td>\n",
       "    </tr>\n",
       "  </tbody>\n",
       "</table>\n",
       "</div>"
      ],
      "text/plain": [
       "   id_sighting  id_species     name_species        date timing  coord_lat  coord_lon precision    altitude  total_count atlas_code  id_observer country     eea_grid_id\n",
       "0  29666972     8.0         Haubentaucher    2018-01-01  NaN    53.157760  8.676993   place    -1.051010    0.0          NaN        37718.0      de      50kmE4200N3300\n",
       "1  29654244     397.0       Schwarzkehlchen  2018-01-01  NaN    53.127639  8.957263   square    0.760781    2.0          NaN        37803.0      de      50kmE4250N3300\n",
       "2  29654521     463.0       Wiesenpieper     2018-01-01  NaN    50.850941  12.146953  place     270.831299  2.0          NaN        39627.0      de      50kmE4450N3050\n",
       "3  29666414     8.0         Haubentaucher    2018-01-01  NaN    51.076006  11.038316  place     158.941010  8.0          NaN        38301.0      de      50kmE4350N3100\n",
       "4  29656211     8.0         Haubentaucher    2018-01-01  NaN    51.389380  7.067282   place     52.362160   10.0         NaN        108167.0     de      50kmE4100N3100"
      ]
     },
     "execution_count": 9,
     "metadata": {},
     "output_type": "execute_result"
    }
   ],
   "source": [
    "df.head(5)"
   ]
  },
  {
   "cell_type": "markdown",
   "metadata": {},
   "source": [
    "### Check for high negative altitude values"
   ]
  },
  {
   "cell_type": "code",
   "execution_count": 10,
   "metadata": {},
   "outputs": [
    {
     "name": "stdout",
     "output_type": "stream",
     "text": [
      "altitude\n",
      "-3.402823e+38    51606\n",
      " 3.913700e+02    33840\n",
      " 4.265330e+02    28527\n",
      " 3.182081e+02    12550\n",
      " 3.718830e+02    9445 \n",
      "                 ...  \n",
      " 8.830636e+02    1    \n",
      " 9.352755e+02    1    \n",
      " 7.191224e+02    1    \n",
      " 9.459383e+02    1    \n",
      " 8.021597e+02    1    \n",
      "Name: count, Length: 910675, dtype: int64\n"
     ]
    }
   ],
   "source": [
    "print(df.altitude.value_counts())"
   ]
  },
  {
   "cell_type": "code",
   "execution_count": 11,
   "metadata": {},
   "outputs": [
    {
     "data": {
      "text/html": [
       "<div>\n",
       "<style scoped>\n",
       "    .dataframe tbody tr th:only-of-type {\n",
       "        vertical-align: middle;\n",
       "    }\n",
       "\n",
       "    .dataframe tbody tr th {\n",
       "        vertical-align: top;\n",
       "    }\n",
       "\n",
       "    .dataframe thead th {\n",
       "        text-align: right;\n",
       "    }\n",
       "</style>\n",
       "<table border=\"1\" class=\"dataframe\">\n",
       "  <thead>\n",
       "    <tr style=\"text-align: right;\">\n",
       "      <th></th>\n",
       "      <th>id_sighting</th>\n",
       "      <th>id_species</th>\n",
       "      <th>name_species</th>\n",
       "      <th>date</th>\n",
       "      <th>timing</th>\n",
       "      <th>coord_lat</th>\n",
       "      <th>coord_lon</th>\n",
       "      <th>precision</th>\n",
       "      <th>altitude</th>\n",
       "      <th>total_count</th>\n",
       "      <th>atlas_code</th>\n",
       "      <th>id_observer</th>\n",
       "      <th>country</th>\n",
       "      <th>eea_grid_id</th>\n",
       "    </tr>\n",
       "  </thead>\n",
       "  <tbody>\n",
       "    <tr>\n",
       "      <th>56</th>\n",
       "      <td>29660454</td>\n",
       "      <td>8.0</td>\n",
       "      <td>Haubentaucher</td>\n",
       "      <td>2018-01-01</td>\n",
       "      <td>NaN</td>\n",
       "      <td>53.780461</td>\n",
       "      <td>7.947729</td>\n",
       "      <td>precise</td>\n",
       "      <td>-3.402823e+38</td>\n",
       "      <td>1.0</td>\n",
       "      <td>NaN</td>\n",
       "      <td>77774.0</td>\n",
       "      <td>de</td>\n",
       "      <td>50kmE4150N3400</td>\n",
       "    </tr>\n",
       "    <tr>\n",
       "      <th>131</th>\n",
       "      <td>29652796</td>\n",
       "      <td>158.0</td>\n",
       "      <td>Seeadler</td>\n",
       "      <td>2018-01-01</td>\n",
       "      <td>NaN</td>\n",
       "      <td>53.702563</td>\n",
       "      <td>7.740776</td>\n",
       "      <td>square</td>\n",
       "      <td>-3.402823e+38</td>\n",
       "      <td>1.0</td>\n",
       "      <td>NaN</td>\n",
       "      <td>43003.0</td>\n",
       "      <td>de</td>\n",
       "      <td>50kmE4150N3400</td>\n",
       "    </tr>\n",
       "    <tr>\n",
       "      <th>278</th>\n",
       "      <td>29667163</td>\n",
       "      <td>8.0</td>\n",
       "      <td>Haubentaucher</td>\n",
       "      <td>2018-01-01</td>\n",
       "      <td>NaN</td>\n",
       "      <td>54.505650</td>\n",
       "      <td>9.553208</td>\n",
       "      <td>precise</td>\n",
       "      <td>-3.402823e+38</td>\n",
       "      <td>2.0</td>\n",
       "      <td>NaN</td>\n",
       "      <td>37768.0</td>\n",
       "      <td>de</td>\n",
       "      <td>50kmE4250N3450</td>\n",
       "    </tr>\n",
       "    <tr>\n",
       "      <th>301</th>\n",
       "      <td>29655667</td>\n",
       "      <td>8.0</td>\n",
       "      <td>Haubentaucher</td>\n",
       "      <td>2018-01-01</td>\n",
       "      <td>02:44</td>\n",
       "      <td>54.758682</td>\n",
       "      <td>8.295368</td>\n",
       "      <td>precise</td>\n",
       "      <td>-3.402823e+38</td>\n",
       "      <td>1.0</td>\n",
       "      <td>NaN</td>\n",
       "      <td>42717.0</td>\n",
       "      <td>de</td>\n",
       "      <td>50kmE4200N3500</td>\n",
       "    </tr>\n",
       "    <tr>\n",
       "      <th>302</th>\n",
       "      <td>29653528</td>\n",
       "      <td>8.0</td>\n",
       "      <td>Haubentaucher</td>\n",
       "      <td>2018-01-01</td>\n",
       "      <td>03:14</td>\n",
       "      <td>54.758271</td>\n",
       "      <td>8.294853</td>\n",
       "      <td>precise</td>\n",
       "      <td>-3.402823e+38</td>\n",
       "      <td>2.0</td>\n",
       "      <td>NaN</td>\n",
       "      <td>45902.0</td>\n",
       "      <td>de</td>\n",
       "      <td>50kmE4200N3500</td>\n",
       "    </tr>\n",
       "  </tbody>\n",
       "</table>\n",
       "</div>"
      ],
      "text/plain": [
       "     id_sighting  id_species   name_species        date timing  coord_lat  coord_lon precision      altitude  total_count atlas_code  id_observer country     eea_grid_id\n",
       "56   29660454     8.0         Haubentaucher  2018-01-01  NaN    53.780461  7.947729   precise  -3.402823e+38  1.0          NaN        77774.0      de      50kmE4150N3400\n",
       "131  29652796     158.0       Seeadler       2018-01-01  NaN    53.702563  7.740776   square   -3.402823e+38  1.0          NaN        43003.0      de      50kmE4150N3400\n",
       "278  29667163     8.0         Haubentaucher  2018-01-01  NaN    54.505650  9.553208   precise  -3.402823e+38  2.0          NaN        37768.0      de      50kmE4250N3450\n",
       "301  29655667     8.0         Haubentaucher  2018-01-01  02:44  54.758682  8.295368   precise  -3.402823e+38  1.0          NaN        42717.0      de      50kmE4200N3500\n",
       "302  29653528     8.0         Haubentaucher  2018-01-01  03:14  54.758271  8.294853   precise  -3.402823e+38  2.0          NaN        45902.0      de      50kmE4200N3500"
      ]
     },
     "execution_count": 11,
     "metadata": {},
     "output_type": "execute_result"
    }
   ],
   "source": [
    "min_altitude = df.altitude.min()\n",
    "df_min_altitude = df[df.altitude == min_altitude]\n",
    "df_min_altitude.head(5)"
   ]
  },
  {
   "cell_type": "markdown",
   "metadata": {},
   "source": [
    "### Set 3.402823e+38 altitude to 0"
   ]
  },
  {
   "cell_type": "code",
   "execution_count": null,
   "metadata": {},
   "outputs": [],
   "source": [
    "df.loc[df['altitude'] == df.altitude.min(), 'altitude'] = 0"
   ]
  },
  {
   "cell_type": "code",
   "execution_count": null,
   "metadata": {},
   "outputs": [],
   "source": [
    "print(df.altitude.value_counts())"
   ]
  },
  {
   "cell_type": "markdown",
   "metadata": {},
   "source": [
    "### Experiment with elevation APIs"
   ]
  },
  {
   "cell_type": "code",
   "execution_count": 12,
   "metadata": {},
   "outputs": [],
   "source": [
    "def get_elevation(lat, long):\n",
    "    query = f'https://api.open-elevation.com/api/v1/lookup?locations={lat},{long}'\n",
    "    r = requests.get(query).json()\n",
    "    print(r)\n",
    "    elevation = r['results'][0]['elevation']\n",
    "    return elevation"
   ]
  },
  {
   "cell_type": "code",
   "execution_count": 13,
   "metadata": {},
   "outputs": [],
   "source": [
    "def get_elevation2(lat, long):\n",
    "    query = f'https://api.opentopodata.org/v1/eudem25m?locations={lat},{long}'\n",
    "    r = requests.get(query).json()\n",
    "    elevation = r['results'][0]['elevation']\n",
    "    return elevation"
   ]
  },
  {
   "cell_type": "code",
   "execution_count": 14,
   "metadata": {},
   "outputs": [
    {
     "name": "stdout",
     "output_type": "stream",
     "text": [
      "{'results': [{'latitude': 53.780461, 'longitude': 7.947729, 'elevation': 0.0}]}\n",
      "{'results': [{'latitude': 53.702563, 'longitude': 7.740776, 'elevation': 0.0}]}\n",
      "{'results': [{'latitude': 54.50565, 'longitude': 9.553208, 'elevation': 0.0}]}\n",
      "{'results': [{'latitude': 54.758682, 'longitude': 8.295368, 'elevation': 4.0}]}\n",
      "{'results': [{'latitude': 54.758271, 'longitude': 8.294853, 'elevation': 1.0}]}\n",
      "{'results': [{'latitude': 54.34975, 'longitude': 10.624524, 'elevation': -3.0}]}\n",
      "{'results': [{'latitude': 54.34975, 'longitude': 10.624524, 'elevation': -3.0}]}\n",
      "{'results': [{'latitude': 54.34975, 'longitude': 10.624524, 'elevation': -3.0}]}\n",
      "{'results': [{'latitude': 54.266281, 'longitude': 13.313914, 'elevation': 0.0}]}\n",
      "{'results': [{'latitude': 54.34531, 'longitude': 13.581008, 'elevation': 0.0}]}\n"
     ]
    },
    {
     "name": "stderr",
     "output_type": "stream",
     "text": [
      "C:\\Users\\simon\\AppData\\Local\\Temp\\ipykernel_17476\\2604693980.py:1: SettingWithCopyWarning: \n",
      "A value is trying to be set on a copy of a slice from a DataFrame.\n",
      "Try using .loc[row_indexer,col_indexer] = value instead\n",
      "\n",
      "See the caveats in the documentation: https://pandas.pydata.org/pandas-docs/stable/user_guide/indexing.html#returning-a-view-versus-a-copy\n",
      "  df_min_altitude['altitude'] = df_min_altitude.head(10).apply(lambda row: get_elevation(row['coord_lat'], row['coord_lon']), axis=1)\n"
     ]
    }
   ],
   "source": [
    "df_min_altitude['altitude'] = df_min_altitude.head(10).apply(lambda row: get_elevation(row['coord_lat'], row['coord_lon']), axis=1)"
   ]
  },
  {
   "cell_type": "code",
   "execution_count": 15,
   "metadata": {},
   "outputs": [
    {
     "data": {
      "text/html": [
       "<div>\n",
       "<style scoped>\n",
       "    .dataframe tbody tr th:only-of-type {\n",
       "        vertical-align: middle;\n",
       "    }\n",
       "\n",
       "    .dataframe tbody tr th {\n",
       "        vertical-align: top;\n",
       "    }\n",
       "\n",
       "    .dataframe thead th {\n",
       "        text-align: right;\n",
       "    }\n",
       "</style>\n",
       "<table border=\"1\" class=\"dataframe\">\n",
       "  <thead>\n",
       "    <tr style=\"text-align: right;\">\n",
       "      <th></th>\n",
       "      <th>id_sighting</th>\n",
       "      <th>id_species</th>\n",
       "      <th>name_species</th>\n",
       "      <th>date</th>\n",
       "      <th>timing</th>\n",
       "      <th>coord_lat</th>\n",
       "      <th>coord_lon</th>\n",
       "      <th>precision</th>\n",
       "      <th>altitude</th>\n",
       "      <th>total_count</th>\n",
       "      <th>atlas_code</th>\n",
       "      <th>id_observer</th>\n",
       "      <th>country</th>\n",
       "      <th>eea_grid_id</th>\n",
       "    </tr>\n",
       "  </thead>\n",
       "  <tbody>\n",
       "    <tr>\n",
       "      <th>56</th>\n",
       "      <td>29660454</td>\n",
       "      <td>8.0</td>\n",
       "      <td>Haubentaucher</td>\n",
       "      <td>2018-01-01</td>\n",
       "      <td>NaN</td>\n",
       "      <td>53.780461</td>\n",
       "      <td>7.947729</td>\n",
       "      <td>precise</td>\n",
       "      <td>0.0</td>\n",
       "      <td>1.0</td>\n",
       "      <td>NaN</td>\n",
       "      <td>77774.0</td>\n",
       "      <td>de</td>\n",
       "      <td>50kmE4150N3400</td>\n",
       "    </tr>\n",
       "    <tr>\n",
       "      <th>131</th>\n",
       "      <td>29652796</td>\n",
       "      <td>158.0</td>\n",
       "      <td>Seeadler</td>\n",
       "      <td>2018-01-01</td>\n",
       "      <td>NaN</td>\n",
       "      <td>53.702563</td>\n",
       "      <td>7.740776</td>\n",
       "      <td>square</td>\n",
       "      <td>0.0</td>\n",
       "      <td>1.0</td>\n",
       "      <td>NaN</td>\n",
       "      <td>43003.0</td>\n",
       "      <td>de</td>\n",
       "      <td>50kmE4150N3400</td>\n",
       "    </tr>\n",
       "    <tr>\n",
       "      <th>278</th>\n",
       "      <td>29667163</td>\n",
       "      <td>8.0</td>\n",
       "      <td>Haubentaucher</td>\n",
       "      <td>2018-01-01</td>\n",
       "      <td>NaN</td>\n",
       "      <td>54.505650</td>\n",
       "      <td>9.553208</td>\n",
       "      <td>precise</td>\n",
       "      <td>0.0</td>\n",
       "      <td>2.0</td>\n",
       "      <td>NaN</td>\n",
       "      <td>37768.0</td>\n",
       "      <td>de</td>\n",
       "      <td>50kmE4250N3450</td>\n",
       "    </tr>\n",
       "    <tr>\n",
       "      <th>301</th>\n",
       "      <td>29655667</td>\n",
       "      <td>8.0</td>\n",
       "      <td>Haubentaucher</td>\n",
       "      <td>2018-01-01</td>\n",
       "      <td>02:44</td>\n",
       "      <td>54.758682</td>\n",
       "      <td>8.295368</td>\n",
       "      <td>precise</td>\n",
       "      <td>4.0</td>\n",
       "      <td>1.0</td>\n",
       "      <td>NaN</td>\n",
       "      <td>42717.0</td>\n",
       "      <td>de</td>\n",
       "      <td>50kmE4200N3500</td>\n",
       "    </tr>\n",
       "    <tr>\n",
       "      <th>302</th>\n",
       "      <td>29653528</td>\n",
       "      <td>8.0</td>\n",
       "      <td>Haubentaucher</td>\n",
       "      <td>2018-01-01</td>\n",
       "      <td>03:14</td>\n",
       "      <td>54.758271</td>\n",
       "      <td>8.294853</td>\n",
       "      <td>precise</td>\n",
       "      <td>1.0</td>\n",
       "      <td>2.0</td>\n",
       "      <td>NaN</td>\n",
       "      <td>45902.0</td>\n",
       "      <td>de</td>\n",
       "      <td>50kmE4200N3500</td>\n",
       "    </tr>\n",
       "  </tbody>\n",
       "</table>\n",
       "</div>"
      ],
      "text/plain": [
       "     id_sighting  id_species   name_species        date timing  coord_lat  coord_lon precision  altitude  total_count atlas_code  id_observer country     eea_grid_id\n",
       "56   29660454     8.0         Haubentaucher  2018-01-01  NaN    53.780461  7.947729   precise   0.0       1.0          NaN        77774.0      de      50kmE4150N3400\n",
       "131  29652796     158.0       Seeadler       2018-01-01  NaN    53.702563  7.740776   square    0.0       1.0          NaN        43003.0      de      50kmE4150N3400\n",
       "278  29667163     8.0         Haubentaucher  2018-01-01  NaN    54.505650  9.553208   precise   0.0       2.0          NaN        37768.0      de      50kmE4250N3450\n",
       "301  29655667     8.0         Haubentaucher  2018-01-01  02:44  54.758682  8.295368   precise   4.0       1.0          NaN        42717.0      de      50kmE4200N3500\n",
       "302  29653528     8.0         Haubentaucher  2018-01-01  03:14  54.758271  8.294853   precise   1.0       2.0          NaN        45902.0      de      50kmE4200N3500"
      ]
     },
     "execution_count": 15,
     "metadata": {},
     "output_type": "execute_result"
    }
   ],
   "source": [
    "df_min_altitude.head(5)"
   ]
  },
  {
   "cell_type": "markdown",
   "metadata": {},
   "source": [
    "### Merge new Altitude data into old data"
   ]
  },
  {
   "cell_type": "code",
   "execution_count": 16,
   "metadata": {},
   "outputs": [
    {
     "name": "stderr",
     "output_type": "stream",
     "text": [
      "C:\\Users\\simon\\AppData\\Local\\Temp\\ipykernel_17476\\247923559.py:2: DtypeWarning: Columns (11) have mixed types. Specify dtype option on import or set low_memory=False.\n",
      "  df = pd.read_csv(df_path, index_col=0)\n"
     ]
    }
   ],
   "source": [
    "df_path = 'D:\\\\Simon\\\\Documents\\\\GP\\\\data\\\\datasets\\\\selected_bird_species_with_grids_50km.csv'\n",
    "df = pd.read_csv(df_path, index_col=0)\n",
    "df.reset_index(inplace=True, drop=True)"
   ]
  },
  {
   "cell_type": "code",
   "execution_count": 17,
   "metadata": {},
   "outputs": [],
   "source": [
    "df_path_alt = 'D:\\\\Simon\\\\Documents\\\\GP\\\\data\\\\datasets\\\\altitude\\\\dbird_export_altitude_202312140925.csv'\n",
    "df_alt = pd.read_csv(df_path_alt, sep=';')"
   ]
  },
  {
   "cell_type": "code",
   "execution_count": null,
   "metadata": {},
   "outputs": [],
   "source": [
    "df_alt.head(3)"
   ]
  },
  {
   "cell_type": "code",
   "execution_count": 18,
   "metadata": {},
   "outputs": [],
   "source": [
    "df_de = df[df['country'] == 'de']\n",
    "\n",
    "merged_df_de = df_de.merge(df_alt, left_on='id_sighting', right_on='ornitho_id', how='left')\n",
    "merged_df_de.drop(columns=['ornitho_id', 'altitude_x'], inplace=True)\n",
    "merged_df_de.rename(columns={'altitude_y': 'altitude'}, inplace=True)\n",
    "\n",
    "df.update(merged_df_de)"
   ]
  },
  {
   "cell_type": "code",
   "execution_count": 19,
   "metadata": {},
   "outputs": [
    {
     "data": {
      "text/html": [
       "<div>\n",
       "<style scoped>\n",
       "    .dataframe tbody tr th:only-of-type {\n",
       "        vertical-align: middle;\n",
       "    }\n",
       "\n",
       "    .dataframe tbody tr th {\n",
       "        vertical-align: top;\n",
       "    }\n",
       "\n",
       "    .dataframe thead th {\n",
       "        text-align: right;\n",
       "    }\n",
       "</style>\n",
       "<table border=\"1\" class=\"dataframe\">\n",
       "  <thead>\n",
       "    <tr style=\"text-align: right;\">\n",
       "      <th></th>\n",
       "      <th>id_sighting</th>\n",
       "      <th>id_species</th>\n",
       "      <th>name_species</th>\n",
       "      <th>date</th>\n",
       "      <th>timing</th>\n",
       "      <th>coord_lat</th>\n",
       "      <th>coord_lon</th>\n",
       "      <th>precision</th>\n",
       "      <th>altitude</th>\n",
       "      <th>total_count</th>\n",
       "      <th>atlas_code</th>\n",
       "      <th>id_observer</th>\n",
       "      <th>country</th>\n",
       "      <th>eea_grid_id</th>\n",
       "    </tr>\n",
       "  </thead>\n",
       "  <tbody>\n",
       "    <tr>\n",
       "      <th>0</th>\n",
       "      <td>29666972</td>\n",
       "      <td>8.0</td>\n",
       "      <td>Haubentaucher</td>\n",
       "      <td>2018-01-01</td>\n",
       "      <td>NaN</td>\n",
       "      <td>53.157760</td>\n",
       "      <td>8.676993</td>\n",
       "      <td>place</td>\n",
       "      <td>-1</td>\n",
       "      <td>0.0</td>\n",
       "      <td>NaN</td>\n",
       "      <td>37718.0</td>\n",
       "      <td>de</td>\n",
       "      <td>50kmE4200N3300</td>\n",
       "    </tr>\n",
       "    <tr>\n",
       "      <th>1</th>\n",
       "      <td>29654244</td>\n",
       "      <td>397.0</td>\n",
       "      <td>Schwarzkehlchen</td>\n",
       "      <td>2018-01-01</td>\n",
       "      <td>NaN</td>\n",
       "      <td>53.127639</td>\n",
       "      <td>8.957263</td>\n",
       "      <td>square</td>\n",
       "      <td>1</td>\n",
       "      <td>2.0</td>\n",
       "      <td>NaN</td>\n",
       "      <td>37803.0</td>\n",
       "      <td>de</td>\n",
       "      <td>50kmE4250N3300</td>\n",
       "    </tr>\n",
       "    <tr>\n",
       "      <th>2</th>\n",
       "      <td>29654521</td>\n",
       "      <td>463.0</td>\n",
       "      <td>Wiesenpieper</td>\n",
       "      <td>2018-01-01</td>\n",
       "      <td>NaN</td>\n",
       "      <td>50.850941</td>\n",
       "      <td>12.146953</td>\n",
       "      <td>place</td>\n",
       "      <td>269</td>\n",
       "      <td>2.0</td>\n",
       "      <td>NaN</td>\n",
       "      <td>39627.0</td>\n",
       "      <td>de</td>\n",
       "      <td>50kmE4450N3050</td>\n",
       "    </tr>\n",
       "  </tbody>\n",
       "</table>\n",
       "</div>"
      ],
      "text/plain": [
       "   id_sighting  id_species     name_species        date timing  coord_lat  coord_lon precision  altitude  total_count atlas_code  id_observer country     eea_grid_id\n",
       "0  29666972     8.0         Haubentaucher    2018-01-01  NaN    53.157760  8.676993   place    -1         0.0          NaN        37718.0      de      50kmE4200N3300\n",
       "1  29654244     397.0       Schwarzkehlchen  2018-01-01  NaN    53.127639  8.957263   square    1         2.0          NaN        37803.0      de      50kmE4250N3300\n",
       "2  29654521     463.0       Wiesenpieper     2018-01-01  NaN    50.850941  12.146953  place     269       2.0          NaN        39627.0      de      50kmE4450N3050"
      ]
     },
     "execution_count": 19,
     "metadata": {},
     "output_type": "execute_result"
    }
   ],
   "source": [
    "df.head(3)"
   ]
  },
  {
   "cell_type": "code",
   "execution_count": 20,
   "metadata": {},
   "outputs": [
    {
     "name": "stdout",
     "output_type": "stream",
     "text": [
      "altitude\n",
      " 0       115450\n",
      " 430     88178 \n",
      "-1       51270 \n",
      "-2       43926 \n",
      " 400     38170 \n",
      "         ...   \n",
      " 2893    1     \n",
      " 3262    1     \n",
      " 3124    1     \n",
      " 3001    1     \n",
      " 2971    1     \n",
      "Name: count, Length: 2899, dtype: int64\n"
     ]
    }
   ],
   "source": [
    "print(df.altitude.value_counts())"
   ]
  },
  {
   "cell_type": "code",
   "execution_count": 21,
   "metadata": {},
   "outputs": [
    {
     "data": {
      "text/html": [
       "<div>\n",
       "<style scoped>\n",
       "    .dataframe tbody tr th:only-of-type {\n",
       "        vertical-align: middle;\n",
       "    }\n",
       "\n",
       "    .dataframe tbody tr th {\n",
       "        vertical-align: top;\n",
       "    }\n",
       "\n",
       "    .dataframe thead th {\n",
       "        text-align: right;\n",
       "    }\n",
       "</style>\n",
       "<table border=\"1\" class=\"dataframe\">\n",
       "  <thead>\n",
       "    <tr style=\"text-align: right;\">\n",
       "      <th></th>\n",
       "      <th>id_sighting</th>\n",
       "      <th>id_species</th>\n",
       "      <th>name_species</th>\n",
       "      <th>date</th>\n",
       "      <th>timing</th>\n",
       "      <th>coord_lat</th>\n",
       "      <th>coord_lon</th>\n",
       "      <th>precision</th>\n",
       "      <th>altitude</th>\n",
       "      <th>total_count</th>\n",
       "      <th>atlas_code</th>\n",
       "      <th>id_observer</th>\n",
       "      <th>country</th>\n",
       "      <th>eea_grid_id</th>\n",
       "    </tr>\n",
       "  </thead>\n",
       "  <tbody>\n",
       "    <tr>\n",
       "      <th>172472</th>\n",
       "      <td>57776355</td>\n",
       "      <td>463.0</td>\n",
       "      <td>Wiesenpieper</td>\n",
       "      <td>2021-05-03</td>\n",
       "      <td>12:08</td>\n",
       "      <td>50.958478</td>\n",
       "      <td>6.674523</td>\n",
       "      <td>precise</td>\n",
       "      <td>-34</td>\n",
       "      <td>1.0</td>\n",
       "      <td>NaN</td>\n",
       "      <td>84909.0</td>\n",
       "      <td>de</td>\n",
       "      <td>50kmE4050N3050</td>\n",
       "    </tr>\n",
       "    <tr>\n",
       "      <th>172473</th>\n",
       "      <td>57790281</td>\n",
       "      <td>463.0</td>\n",
       "      <td>Wiesenpieper</td>\n",
       "      <td>2021-05-03</td>\n",
       "      <td>12:08</td>\n",
       "      <td>50.958478</td>\n",
       "      <td>6.674523</td>\n",
       "      <td>precise</td>\n",
       "      <td>-34</td>\n",
       "      <td>1.0</td>\n",
       "      <td>NaN</td>\n",
       "      <td>88575.0</td>\n",
       "      <td>de</td>\n",
       "      <td>50kmE4050N3050</td>\n",
       "    </tr>\n",
       "  </tbody>\n",
       "</table>\n",
       "</div>"
      ],
      "text/plain": [
       "        id_sighting  id_species  name_species        date timing  coord_lat  coord_lon precision  altitude  total_count atlas_code  id_observer country     eea_grid_id\n",
       "172472  57776355     463.0       Wiesenpieper  2021-05-03  12:08  50.958478  6.674523   precise  -34        1.0          NaN        84909.0      de      50kmE4050N3050\n",
       "172473  57790281     463.0       Wiesenpieper  2021-05-03  12:08  50.958478  6.674523   precise  -34        1.0          NaN        88575.0      de      50kmE4050N3050"
      ]
     },
     "execution_count": 21,
     "metadata": {},
     "output_type": "execute_result"
    }
   ],
   "source": [
    "min_altitude = df.altitude.min()\n",
    "df_min_altitude = df[df.altitude == min_altitude]\n",
    "df_min_altitude.head(5)"
   ]
  },
  {
   "cell_type": "markdown",
   "metadata": {},
   "source": [
    "### PCA with elevation features"
   ]
  },
  {
   "cell_type": "code",
   "execution_count": 22,
   "metadata": {},
   "outputs": [
    {
     "data": {
      "text/plain": [
       "Text(7, 0.75, 'strong correlation')"
      ]
     },
     "execution_count": 22,
     "metadata": {},
     "output_type": "execute_result"
    },
    {
     "data": {
      "image/png": "[encoded data removed]",
      "text/plain": [
       "<Figure size 640x480 with 1 Axes>"
      ]
     },
     "metadata": {},
     "output_type": "display_data"
    }
   ],
   "source": [
    "import matplotlib.pyplot as plt\n",
    "df_for_pca = df.drop(columns=['name_species', 'date', 'timing', 'precision', 'atlas_code', 'country', 'eea_grid_id'])\n",
    "df_corr = df_for_pca.corr()['id_species'].abs().sort_values(ascending=False)\n",
    "df_corr.drop('id_species', inplace=True)\n",
    "ax = df_corr.plot.bar(color='green')\n",
    "\n",
    "ax.axhspan(0, 0.3, alpha=0.1, color='red')\n",
    "ax.axhspan(0.3, 0.5, alpha=0.1, color='orange')\n",
    "ax.axhspan(0.5, 1, alpha=0.1, color='green')\n",
    "ax.text(7,0.2, s='weak correlation', color='red')\n",
    "ax.text(7,0.4, s='moderate correlation', color='orange')\n",
    "ax.text(7,0.75, s='strong correlation', color='green')"
   ]
  },
  {
   "cell_type": "code",
   "execution_count": 23,
   "metadata": {},
   "outputs": [],
   "source": [
    "df_path = 'D:\\\\Simon\\\\Documents\\\\GP\\\\data\\\\datasets\\\\selected_bird_species_with_grids_50km.csv'\n",
    "# df_path = 'D:\\\\Simon\\\\Documents\\\\GP\\\\data\\\\datasets\\\\selected_bird_species_50km_elevation.csv'\n",
    "df.to_csv(df_path)"
   ]
  }
 ],
 "metadata": {
  "kernelspec": {
   "display_name": "Python 3",
   "language": "python",
   "name": "python3"
  },
  "language_info": {
   "codemirror_mode": {
    "name": "ipython",
    "version": 3
   },
   "file_extension": ".py",
   "mimetype": "text/x-python",
   "name": "python",
   "nbconvert_exporter": "python",
   "pygments_lexer": "ipython3",
   "version": "3.10.13"
  },
  "orig_nbformat": 4
 },
 "nbformat": 4,
 "nbformat_minor": 2
}
