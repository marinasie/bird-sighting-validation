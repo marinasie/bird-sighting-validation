{
 "cells": [
  {
   "cell_type": "markdown",
   "metadata": {},
   "source": [
    "<img src=\"../../img/elevation.png\" alt=\"\" style=\"width: 100%; border-radius: 20px;\"/>"
   ]
  },
  {
   "cell_type": "code",
   "execution_count": 2,
   "metadata": {},
   "outputs": [
    {
     "data": {
      "text/html": [
       "<style>\n",
       "    body {\n",
       "        --vscode-font-family: \"Itim\";\n",
       "        font color: #d8c0b5;\n",
       "    }\n",
       "</style>\n"
      ],
      "text/plain": [
       "<IPython.core.display.HTML object>"
      ]
     },
     "metadata": {},
     "output_type": "display_data"
    }
   ],
   "source": [
    "%%HTML\n",
    "<style>\n",
    "    body {\n",
    "        --vscode-font-family: \"Itim\";\n",
    "        font color: #d8c0b5;\n",
    "    }\n",
    "</style>"
   ]
  },
  {
   "cell_type": "markdown",
   "metadata": {},
   "source": [
    "## Objective\n",
    "This notebook aims to compute the elevation of each bird sighting in the bird sightings provided from *ornitho.ch* and *ornitho.de*, based on the latitude and longitude coordinates.\n",
    "\n",
    "We expect the incorporation of altitude information to provide additional decision support for our deployed models that detect implausible bird sightings. For instance, certain bird species are typically associated with specific altitude ranges; therefore, altitude data can serve as a valuable feature for validating the authenticity of a bird sighting.\n",
    "\n",
    "## Scope\n",
    "In this notebook, we aim to generate altitude values for bird sightings in Germany and Switzerland. The altitude values are inherently only given for the Swiss datasets. Based on the latitude and longitude values of the bird sighting, we can extract them for Germany as well. \n",
    "\n",
    "For this, three distinct approaches for computing altitude values were investigated:\n",
    "- **API-based**\n",
    "    - *api.open-elevation.com* and *api.opentopodata.org*: Utilizing an external API to obtain altitude information.\n",
    "    - Earth Engine: Leveraging Earth Engine data for altitude calculations.\n",
    "- **Local**\n",
    "    - DEM file: Employing a local Digital Elevation Model (EU_DEM tif file) for altitude computation.\n",
    "\n",
    "After evaluating the efficiency and accuracy of the three approaches, the local DEM file method was selected as the preferred choice due to its computational speed and satisfactory performance in altitude calculation.\n",
    "\n",
    "Additionally, an initial assessment is provided to determine the possible effectiveness of altitude values in supporting the detection of implausible bird data. In this context, we investigate the distinctive altitude ranges of two exemplatory bird species, i.e. the water pipit and White-tailed eagle.\n",
    "\n",
    "## Output data\n",
    "The resulting master dataset with elevation data is stored as selected_bird_species_with_grids.csv [here](https://drive.google.com/drive/folders/18XoTsDtWnN4QdIBNGGbq-jaa6U3nVb2e)."
   ]
  },
  {
   "cell_type": "code",
   "execution_count": 1,
   "metadata": {},
   "outputs": [],
   "source": [
    "import sys\n",
    "sys.path.append('../')\n",
    "\n",
    "import pandas as pd\n",
    "import ee\n",
    "from utils.copernicus import CopernicusDEM\n",
    "import requests"
   ]
  },
  {
   "cell_type": "code",
   "execution_count": 2,
   "metadata": {},
   "outputs": [],
   "source": [
    "pd.set_option('display.max_columns', None)\n",
    "pd.set_option('display.expand_frame_repr', False)\n",
    "pd.set_option('max_colwidth', False)"
   ]
  },
  {
   "cell_type": "markdown",
   "metadata": {},
   "source": [
    "# \n",
    "<p style=\"background-color:#4A3228;color:white;font-size:240%;border-radius:10px 10px 10px 10px;\"> &nbsp; 0️⃣ Specify your paths </p>\n",
    "\n",
    "In order to run the notebook, the following file is required:\n",
    "- Master dataset reduced to 27 species and enriched with EEA grids: *[selected_species_with_50km_grids.csv](https://drive.google.com/drive/folders/18XoTsDtWnN4QdIBNGGbq-jaa6U3nVb2e)*\n",
    "- European Digital Elevation Model (EU-DEM); downloadable [here](https://www.eea.europa.eu/en/datahub/datahubitem-view/d08852bc-7b5f-4835-a776-08362e2fbf4b). It should contain the files *eu_dem_v11_E40N20.TIF* and *eu_dem_v11_E40N30.TIF*\n",
    "\n",
    "If you wish to store the resulting dataframe enriched with elevation data, please specify a target path where it should be stored."
   ]
  },
  {
   "cell_type": "code",
   "execution_count": null,
   "metadata": {},
   "outputs": [],
   "source": [
    "df_path = 'D:\\Simon\\Documents\\GP\\data\\master_train.csv'  # please provide path to selected_bird_species_with_grids_50km.csv\n",
    "eu_dem_path = 'D:\\\\Simon\\\\Documents\\\\GP\\\\data\\\\util_files\\\\EU_DEM\\\\'  # please provide path to the EU_DEM folder\n",
    "\n",
    "target_path = 'D:\\\\Simon\\\\Documents\\\\GP\\\\data\\\\datasets\\\\selected_bird_species_50km_elevation.csv'  # please provide path where to save the dataset enriched with elevation data"
   ]
  },
  {
   "cell_type": "markdown",
   "metadata": {},
   "source": [
    "# \n",
    "<p style=\"background-color:#4A3228;color:white;font-size:240%;border-radius:10px 10px 10px 10px;\"> &nbsp; 1️⃣ Load data </p>\n",
    "\n",
    "In this notebook, we compute the elevation data for all given sightings from 2018-2022.\n",
    "\n",
    "There is already a column `altitude` which provide elevation information for all sightings in Switzerland. The German dataset only contains NaN values.\n",
    "\n",
    "Although altitude values are present in the Swiss dataset, they are recalculated to ensure consistency. Therefore, the `altitude` column is dropped."
   ]
  },
  {
   "cell_type": "code",
   "execution_count": 9,
   "metadata": {},
   "outputs": [
    {
     "data": {
      "text/html": [
       "<div>\n",
       "<style scoped>\n",
       "    .dataframe tbody tr th:only-of-type {\n",
       "        vertical-align: middle;\n",
       "    }\n",
       "\n",
       "    .dataframe tbody tr th {\n",
       "        vertical-align: top;\n",
       "    }\n",
       "\n",
       "    .dataframe thead th {\n",
       "        text-align: right;\n",
       "    }\n",
       "</style>\n",
       "<table border=\"1\" class=\"dataframe\">\n",
       "  <thead>\n",
       "    <tr style=\"text-align: right;\">\n",
       "      <th></th>\n",
       "      <th>id_sighting</th>\n",
       "      <th>id_species</th>\n",
       "      <th>name_species</th>\n",
       "      <th>date</th>\n",
       "      <th>coord_lat</th>\n",
       "      <th>coord_lon</th>\n",
       "      <th>altitude</th>\n",
       "      <th>total_count</th>\n",
       "      <th>atlas_code</th>\n",
       "      <th>country</th>\n",
       "      <th>eea_grid_id</th>\n",
       "      <th>urban_area_percent</th>\n",
       "      <th>industrial_area_percent</th>\n",
       "      <th>agriculture_area_percent</th>\n",
       "      <th>forest_area_percent</th>\n",
       "      <th>grassland_area_percent</th>\n",
       "      <th>shrubland_area_percent</th>\n",
       "      <th>coastal_area_percent</th>\n",
       "      <th>rocky_area_percent</th>\n",
       "      <th>sparsley_vegetated_area_percent</th>\n",
       "      <th>burnt_area_percent</th>\n",
       "      <th>glacier_area_percent</th>\n",
       "      <th>wetlands_area_percent</th>\n",
       "      <th>water_area_percent</th>\n",
       "      <th>land_use_coord</th>\n",
       "      <th>land_use_coord_numeric</th>\n",
       "      <th>unclassified_area_percent</th>\n",
       "    </tr>\n",
       "  </thead>\n",
       "  <tbody>\n",
       "    <tr>\n",
       "      <th>0</th>\n",
       "      <td>29666972</td>\n",
       "      <td>8</td>\n",
       "      <td>Haubentaucher</td>\n",
       "      <td>2018-01-01</td>\n",
       "      <td>53.157760</td>\n",
       "      <td>8.676993</td>\n",
       "      <td>-1</td>\n",
       "      <td>0</td>\n",
       "      <td>NaN</td>\n",
       "      <td>de</td>\n",
       "      <td>50kmE4200N3300</td>\n",
       "      <td>0.191298</td>\n",
       "      <td>0.000000</td>\n",
       "      <td>0.399560</td>\n",
       "      <td>0.000000</td>\n",
       "      <td>0.0</td>\n",
       "      <td>0.021766</td>\n",
       "      <td>0.0</td>\n",
       "      <td>0.0</td>\n",
       "      <td>0.0</td>\n",
       "      <td>0.0</td>\n",
       "      <td>0.0</td>\n",
       "      <td>0.0</td>\n",
       "      <td>0.387377</td>\n",
       "      <td>water</td>\n",
       "      <td>14</td>\n",
       "      <td>0.0</td>\n",
       "    </tr>\n",
       "    <tr>\n",
       "      <th>1</th>\n",
       "      <td>29654244</td>\n",
       "      <td>397</td>\n",
       "      <td>Schwarzkehlchen</td>\n",
       "      <td>2018-01-01</td>\n",
       "      <td>53.127639</td>\n",
       "      <td>8.957263</td>\n",
       "      <td>1</td>\n",
       "      <td>2</td>\n",
       "      <td>NaN</td>\n",
       "      <td>de</td>\n",
       "      <td>50kmE4250N3300</td>\n",
       "      <td>0.000000</td>\n",
       "      <td>0.000000</td>\n",
       "      <td>1.000000</td>\n",
       "      <td>0.000000</td>\n",
       "      <td>0.0</td>\n",
       "      <td>0.000000</td>\n",
       "      <td>0.0</td>\n",
       "      <td>0.0</td>\n",
       "      <td>0.0</td>\n",
       "      <td>0.0</td>\n",
       "      <td>0.0</td>\n",
       "      <td>0.0</td>\n",
       "      <td>0.000000</td>\n",
       "      <td>agriculture</td>\n",
       "      <td>3</td>\n",
       "      <td>0.0</td>\n",
       "    </tr>\n",
       "    <tr>\n",
       "      <th>2</th>\n",
       "      <td>29654521</td>\n",
       "      <td>463</td>\n",
       "      <td>Wiesenpieper</td>\n",
       "      <td>2018-01-01</td>\n",
       "      <td>50.850941</td>\n",
       "      <td>12.146953</td>\n",
       "      <td>269</td>\n",
       "      <td>2</td>\n",
       "      <td>NaN</td>\n",
       "      <td>de</td>\n",
       "      <td>50kmE4450N3050</td>\n",
       "      <td>0.405476</td>\n",
       "      <td>0.000000</td>\n",
       "      <td>0.594524</td>\n",
       "      <td>0.000000</td>\n",
       "      <td>0.0</td>\n",
       "      <td>0.000000</td>\n",
       "      <td>0.0</td>\n",
       "      <td>0.0</td>\n",
       "      <td>0.0</td>\n",
       "      <td>0.0</td>\n",
       "      <td>0.0</td>\n",
       "      <td>0.0</td>\n",
       "      <td>0.000000</td>\n",
       "      <td>urban</td>\n",
       "      <td>1</td>\n",
       "      <td>0.0</td>\n",
       "    </tr>\n",
       "    <tr>\n",
       "      <th>3</th>\n",
       "      <td>29666414</td>\n",
       "      <td>8</td>\n",
       "      <td>Haubentaucher</td>\n",
       "      <td>2018-01-01</td>\n",
       "      <td>51.076006</td>\n",
       "      <td>11.038316</td>\n",
       "      <td>157</td>\n",
       "      <td>8</td>\n",
       "      <td>NaN</td>\n",
       "      <td>de</td>\n",
       "      <td>50kmE4350N3100</td>\n",
       "      <td>0.000000</td>\n",
       "      <td>0.004445</td>\n",
       "      <td>0.376111</td>\n",
       "      <td>0.000000</td>\n",
       "      <td>0.0</td>\n",
       "      <td>0.000000</td>\n",
       "      <td>0.0</td>\n",
       "      <td>0.0</td>\n",
       "      <td>0.0</td>\n",
       "      <td>0.0</td>\n",
       "      <td>0.0</td>\n",
       "      <td>0.0</td>\n",
       "      <td>0.619445</td>\n",
       "      <td>water</td>\n",
       "      <td>14</td>\n",
       "      <td>0.0</td>\n",
       "    </tr>\n",
       "    <tr>\n",
       "      <th>4</th>\n",
       "      <td>29656211</td>\n",
       "      <td>8</td>\n",
       "      <td>Haubentaucher</td>\n",
       "      <td>2018-01-01</td>\n",
       "      <td>51.389380</td>\n",
       "      <td>7.067282</td>\n",
       "      <td>52</td>\n",
       "      <td>10</td>\n",
       "      <td>NaN</td>\n",
       "      <td>de</td>\n",
       "      <td>50kmE4100N3100</td>\n",
       "      <td>0.362214</td>\n",
       "      <td>0.000000</td>\n",
       "      <td>0.024020</td>\n",
       "      <td>0.211704</td>\n",
       "      <td>0.0</td>\n",
       "      <td>0.000000</td>\n",
       "      <td>0.0</td>\n",
       "      <td>0.0</td>\n",
       "      <td>0.0</td>\n",
       "      <td>0.0</td>\n",
       "      <td>0.0</td>\n",
       "      <td>0.0</td>\n",
       "      <td>0.402062</td>\n",
       "      <td>urban</td>\n",
       "      <td>1</td>\n",
       "      <td>0.0</td>\n",
       "    </tr>\n",
       "  </tbody>\n",
       "</table>\n",
       "</div>"
      ],
      "text/plain": [
       "   id_sighting  id_species     name_species        date  coord_lat  coord_lon  altitude  total_count atlas_code country     eea_grid_id  urban_area_percent  industrial_area_percent  agriculture_area_percent  forest_area_percent  grassland_area_percent  shrubland_area_percent  coastal_area_percent  rocky_area_percent  sparsley_vegetated_area_percent  burnt_area_percent  glacier_area_percent  wetlands_area_percent  water_area_percent land_use_coord  land_use_coord_numeric  unclassified_area_percent\n",
       "0  29666972     8           Haubentaucher    2018-01-01  53.157760  8.676993  -1         0            NaN        de      50kmE4200N3300  0.191298            0.000000                 0.399560                  0.000000             0.0                     0.021766                0.0                   0.0                 0.0                              0.0                 0.0                   0.0                    0.387377            water          14                      0.0                      \n",
       "1  29654244     397         Schwarzkehlchen  2018-01-01  53.127639  8.957263   1         2            NaN        de      50kmE4250N3300  0.000000            0.000000                 1.000000                  0.000000             0.0                     0.000000                0.0                   0.0                 0.0                              0.0                 0.0                   0.0                    0.000000            agriculture    3                       0.0                      \n",
       "2  29654521     463         Wiesenpieper     2018-01-01  50.850941  12.146953  269       2            NaN        de      50kmE4450N3050  0.405476            0.000000                 0.594524                  0.000000             0.0                     0.000000                0.0                   0.0                 0.0                              0.0                 0.0                   0.0                    0.000000            urban          1                       0.0                      \n",
       "3  29666414     8           Haubentaucher    2018-01-01  51.076006  11.038316  157       8            NaN        de      50kmE4350N3100  0.000000            0.004445                 0.376111                  0.000000             0.0                     0.000000                0.0                   0.0                 0.0                              0.0                 0.0                   0.0                    0.619445            water          14                      0.0                      \n",
       "4  29656211     8           Haubentaucher    2018-01-01  51.389380  7.067282   52        10           NaN        de      50kmE4100N3100  0.362214            0.000000                 0.024020                  0.211704             0.0                     0.000000                0.0                   0.0                 0.0                              0.0                 0.0                   0.0                    0.402062            urban          1                       0.0                      "
      ]
     },
     "execution_count": 9,
     "metadata": {},
     "output_type": "execute_result"
    }
   ],
   "source": [
    "df = pd.read_csv(df_path, index_col=0, low_memory=False)\n",
    "df.drop(columns=['altitude'], inplace=True)\n",
    "df.head(5)"
   ]
  },
  {
   "cell_type": "markdown",
   "metadata": {},
   "source": [
    "# \n",
    "<p style=\"background-color:#4A3228;color:white;font-size:240%;border-radius:10px 10px 10px 10px;\"> &nbsp; 2️⃣ Elevation generation </p>\n",
    "\n",
    "To calculate the altitude for each bird sighting based on the bird's location, three distinct approaches are employed:\n",
    "\n",
    "\n",
    "\n",
    "The first two approaches involve API-based methods, specifically utilizing public API's specializing on altitude data, as well as Google Earth Engine, leveraging external online resources for altitude information. \n",
    "\n",
    "The third approach involves local computation, utilizing a local Digital Elevation Model (DEM) file, specifically the *EU_DEM* from the European Environment Agency*, for altitude calculations."
   ]
  },
  {
   "cell_type": "markdown",
   "metadata": {},
   "source": [
    "## 1st approach: Public API's with no registration requirement\n",
    "*api.open-elevation.com* and *api.opentopodata.org* are prominent external APIs employed for obtaining elevation data in scientific and geospatial analyses. They do not require any authentication or registration, making it accessible for other developers to run this script.\n",
    "\n",
    "Api.open-elevation.com serves as an elevation data service, offering a straightforward API for querying elevation information based on latitude and longitude coordinates. It utilizes global datasets to provide elevation values, making it accessible for a wide range of locations. \n",
    "\n",
    "On the other hand, api.opentopodata.org is a versatile API designed to retrieve various topographic data, including elevation, slope, and aspect. It supports multiple data sources and formats, allowing users to customize queries based on specific topographic parameters.\n",
    "\n",
    "### Generation\n",
    "In order to generate elevation data, both API's require the latitude and longitude value of the bird sighting. As there is so option to pass a batch or list of multiple sightings at once, the API's must be queried once for each sighting."
   ]
  },
  {
   "cell_type": "code",
   "execution_count": null,
   "metadata": {},
   "outputs": [],
   "source": [
    "def get_elevation(lat, long):\n",
    "    query = f'https://api.open-elevation.com/api/v1/lookup?locations={lat},{long}'\n",
    "    r = requests.get(query).json()\n",
    "    print(r)\n",
    "    elevation = r['results'][0]['elevation']\n",
    "    return elevation"
   ]
  },
  {
   "cell_type": "code",
   "execution_count": null,
   "metadata": {},
   "outputs": [],
   "source": [
    "def get_elevation2(lat, long):\n",
    "    query = f'https://api.opentopodata.org/v1/eudem25m?locations={lat},{long}'\n",
    "    r = requests.get(query).json()\n",
    "    elevation = r['results'][0]['elevation']\n",
    "    return elevation"
   ]
  },
  {
   "cell_type": "code",
   "execution_count": null,
   "metadata": {},
   "outputs": [],
   "source": [
    "df['altitude'] = df.head(10).apply(lambda row: get_elevation(row['coord_lat'], row['coord_lon']), axis=1)"
   ]
  },
  {
   "cell_type": "markdown",
   "metadata": {},
   "source": [
    "### Issues\n",
    "The public APIs, *api.open-elevation.com* and *api.opentopodata.org*, deliver accurate results for the dataset. Yet, with a growing number of API calls, the time taken for each call also increases gradually. As a result, for the extensive dataset at hand, using either of these APIs becomes impractical due to the extended processing time for each data point.\n",
    "\n",
    "Therefore, the public API's are considered not feasible for generation elevation data for the bird sightings. "
   ]
  },
  {
   "cell_type": "markdown",
   "metadata": {},
   "source": [
    "## 2nd approach: *Earth Engine*\n",
    "<img src=\"https://www.appgeo.com/wp-content/uploads/GoogleEarthEngine.png\" alt=\"Google Earth Engine Icon\" style=\"border-radius: 7px; width: 400px; height: auto;\">\n",
    "\n",
    "Earth Engine is a cloud-based platform developed by Google that provides access to a vast amount of geospatial data and computational resources for analyzing and visualizing Earth's surface.\n",
    "\n",
    "In the context of extracting elevation data based on latitude and longitude values for Europe, Earth Engine can be utilized to access and process high-resolution digital elevation models (DEMs) and terrain data. DEMs represent the topography of the Earth's surface, providing information about elevation at different geographic locations.\n",
    "\n",
    "Contrary to *api.open-elevation.com* and *api.opentopodata.org*, Earth Engine utilizes Google's cloud infrastructure, providing significant computational resources for large-scale geospatial analyses. It is designed to handle massive datasets and complex computations efficiently, which may leverage the scalability issues that emerged when using *api.open-elevation.com* and *api.opentopodata.org*.\n",
    "\n",
    "\n",
    "### Generation\n",
    "The process of querying an altitude value for a sighting is similar to the the public API's *api.open-elevation.com* and *api.opentopodata.org* - Earth Engine also requires separate API requests for each individual bird sighting.\n",
    "\n",
    "<span style=\"color:red;\">In order to query the Earth Engine, you must... [describe registration and authentication]</span>"
   ]
  },
  {
   "cell_type": "code",
   "execution_count": null,
   "metadata": {},
   "outputs": [],
   "source": [
    "# Initialize the Earth Engine\n",
    "ee.Authenticate()\n",
    "ee.Initialize(project='ee-simonbirk')\n",
    "\n",
    "def get_elevation(lat, lon):\n",
    "    # Create a point with the coordinates\n",
    "    point = ee.Geometry.Point([lon, lat])\n",
    "\n",
    "    # Get the elevation data\n",
    "    dataset = ee.Image('USGS/SRTMGL1_003')\n",
    "\n",
    "    # Sample the point and get the elevation\n",
    "    elevation = dataset.sample(point, 30).first().get('elevation').getInfo()\n",
    "    return elevation\n",
    "\n",
    "df['altitude'] = df.apply(lambda row: get_elevation(row['coord_lat'], row['coord_lon']), axis=1)"
   ]
  },
  {
   "cell_type": "markdown",
   "metadata": {},
   "source": [
    "### Issues\n",
    "The shift from the two public API's to Earth Engine was expected to address previously encountered computational inefficiencies. Despite Earth Engine providing a robust geospatial analysis platform with extensive computational resources, the processing duration remains too high for our use case."
   ]
  },
  {
   "cell_type": "markdown",
   "metadata": {},
   "source": [
    "## 3rd approach: *European Digital Elevation Model* by EEA\n",
    "\n",
    "<img src=\"https://www.eea.europa.eu/logo.jpg\" alt=\"EEA Icon\" style=\"border-radius: 7px; width: 400px; height: auto;\">\n",
    "\n",
    "\n",
    "Due to prolonged computation times experienced with both registration-free API's and Earth Engine in extracting elevation data, it is opted to transition to a local computation approach. Despite the necessity to download files for this method, it holds the potential to address the issue of excessive processing times, as computations are now conducted locally rather than through an API.\n",
    "\n",
    "For this purpose, we are utilizing *EU_DEM* files. The EU_DEM (European Digital Elevation Model) is provided by the European Environment Agency (EEA). The EEA is an agency of the European Union that focuses on providing environmental information to support policy development and implementation in Europe. It is part of the Copernicus program, specifically managed by the Copernicus Land Monitoring Service (CLMS) [1]. \n",
    "\n",
    "The elevation data in the EU_DEM is derived from various sources, including satellite data and airborne measurements [1], and is processed to create a high-quality digital representation of the Earth's surface for the European continent. It is freely available for download and use.\n",
    "\n",
    "\n",
    "\n",
    "### Generation\n",
    "To retrieve the elevation data, EEA provides a module that allows to compute all elevation data for a dataframe at once. For more detailed code information, please visit *../utils/copernicus.py*."
   ]
  },
  {
   "cell_type": "code",
   "execution_count": 6,
   "metadata": {},
   "outputs": [],
   "source": [
    "copernicus = CopernicusDEM(raster_paths=[eu_dem_path + 'eu_dem_v11_E40N20.TIF', eu_dem_path + 'eu_dem_v11_E40N30.TIF'])\n",
    "df = copernicus.get_elevation(df, lat_col='coord_lat', lon_col='coord_lon')"
   ]
  },
  {
   "cell_type": "code",
   "execution_count": 8,
   "metadata": {},
   "outputs": [],
   "source": [
    "df['altitude'] = df['elevation']\n",
    "df.drop(columns=['elevation'], inplace=True)"
   ]
  },
  {
   "cell_type": "markdown",
   "metadata": {},
   "source": [
    "### Issues"
   ]
  },
  {
   "cell_type": "markdown",
   "metadata": {},
   "source": [
    "#### Issue: Incorrect altitude values due to EU_DEM borders"
   ]
  },
  {
   "cell_type": "code",
   "execution_count": null,
   "metadata": {},
   "outputs": [],
   "source": [
    "print(df.altitude.value_counts())"
   ]
  },
  {
   "cell_type": "code",
   "execution_count": null,
   "metadata": {},
   "outputs": [],
   "source": [
    "min_altitude = df.altitude.min()\n",
    "df_min_altitude = df[df.altitude == min_altitude]\n",
    "df_min_altitude.head(5)"
   ]
  },
  {
   "cell_type": "markdown",
   "metadata": {},
   "source": [
    "#### Solution: Incorporate Earth Engine"
   ]
  },
  {
   "cell_type": "code",
   "execution_count": null,
   "metadata": {},
   "outputs": [],
   "source": [
    "df.loc[df['altitude'] == df.altitude.min(), 'altitude'] = 0"
   ]
  },
  {
   "cell_type": "code",
   "execution_count": null,
   "metadata": {},
   "outputs": [],
   "source": [
    "print(df.altitude.value_counts())"
   ]
  },
  {
   "cell_type": "markdown",
   "metadata": {},
   "source": [
    "## Conclusion\n"
   ]
  },
  {
   "cell_type": "markdown",
   "metadata": {},
   "source": [
    "## Outlook"
   ]
  },
  {
   "cell_type": "markdown",
   "metadata": {},
   "source": [
    "# \n",
    "<p style=\"background-color:#4A3228;color:white;font-size:240%;border-radius:10px 10px 10px 10px;\"> &nbsp; 3️⃣ Add elevation feature to the dataset</p>"
   ]
  },
  {
   "cell_type": "code",
   "execution_count": 16,
   "metadata": {},
   "outputs": [
    {
     "name": "stderr",
     "output_type": "stream",
     "text": [
      "C:\\Users\\simon\\AppData\\Local\\Temp\\ipykernel_17476\\247923559.py:2: DtypeWarning: Columns (11) have mixed types. Specify dtype option on import or set low_memory=False.\n",
      "  df = pd.read_csv(df_path, index_col=0)\n"
     ]
    }
   ],
   "source": [
    "df_path = 'D:\\\\Simon\\\\Documents\\\\GP\\\\data\\\\datasets\\\\selected_bird_species_with_grids_50km.csv'\n",
    "df = pd.read_csv(df_path, index_col=0)\n",
    "df.reset_index(inplace=True, drop=True)"
   ]
  },
  {
   "cell_type": "code",
   "execution_count": 17,
   "metadata": {},
   "outputs": [],
   "source": [
    "df_path_alt = 'D:\\\\Simon\\\\Documents\\\\GP\\\\data\\\\datasets\\\\altitude\\\\dbird_export_altitude_202312140925.csv'\n",
    "df_alt = pd.read_csv(df_path_alt, sep=';')"
   ]
  },
  {
   "cell_type": "code",
   "execution_count": null,
   "metadata": {},
   "outputs": [],
   "source": [
    "df_alt.head(3)"
   ]
  },
  {
   "cell_type": "code",
   "execution_count": 18,
   "metadata": {},
   "outputs": [],
   "source": [
    "df_de = df[df['country'] == 'de']\n",
    "\n",
    "merged_df_de = df_de.merge(df_alt, left_on='id_sighting', right_on='ornitho_id', how='left')\n",
    "merged_df_de.drop(columns=['ornitho_id', 'altitude_x'], inplace=True)\n",
    "merged_df_de.rename(columns={'altitude_y': 'altitude'}, inplace=True)\n",
    "\n",
    "df.update(merged_df_de)"
   ]
  },
  {
   "cell_type": "code",
   "execution_count": 19,
   "metadata": {},
   "outputs": [
    {
     "data": {
      "text/html": [
       "<div>\n",
       "<style scoped>\n",
       "    .dataframe tbody tr th:only-of-type {\n",
       "        vertical-align: middle;\n",
       "    }\n",
       "\n",
       "    .dataframe tbody tr th {\n",
       "        vertical-align: top;\n",
       "    }\n",
       "\n",
       "    .dataframe thead th {\n",
       "        text-align: right;\n",
       "    }\n",
       "</style>\n",
       "<table border=\"1\" class=\"dataframe\">\n",
       "  <thead>\n",
       "    <tr style=\"text-align: right;\">\n",
       "      <th></th>\n",
       "      <th>id_sighting</th>\n",
       "      <th>id_species</th>\n",
       "      <th>name_species</th>\n",
       "      <th>date</th>\n",
       "      <th>timing</th>\n",
       "      <th>coord_lat</th>\n",
       "      <th>coord_lon</th>\n",
       "      <th>precision</th>\n",
       "      <th>altitude</th>\n",
       "      <th>total_count</th>\n",
       "      <th>atlas_code</th>\n",
       "      <th>id_observer</th>\n",
       "      <th>country</th>\n",
       "      <th>eea_grid_id</th>\n",
       "    </tr>\n",
       "  </thead>\n",
       "  <tbody>\n",
       "    <tr>\n",
       "      <th>0</th>\n",
       "      <td>29666972</td>\n",
       "      <td>8.0</td>\n",
       "      <td>Haubentaucher</td>\n",
       "      <td>2018-01-01</td>\n",
       "      <td>NaN</td>\n",
       "      <td>53.157760</td>\n",
       "      <td>8.676993</td>\n",
       "      <td>place</td>\n",
       "      <td>-1</td>\n",
       "      <td>0.0</td>\n",
       "      <td>NaN</td>\n",
       "      <td>37718.0</td>\n",
       "      <td>de</td>\n",
       "      <td>50kmE4200N3300</td>\n",
       "    </tr>\n",
       "    <tr>\n",
       "      <th>1</th>\n",
       "      <td>29654244</td>\n",
       "      <td>397.0</td>\n",
       "      <td>Schwarzkehlchen</td>\n",
       "      <td>2018-01-01</td>\n",
       "      <td>NaN</td>\n",
       "      <td>53.127639</td>\n",
       "      <td>8.957263</td>\n",
       "      <td>square</td>\n",
       "      <td>1</td>\n",
       "      <td>2.0</td>\n",
       "      <td>NaN</td>\n",
       "      <td>37803.0</td>\n",
       "      <td>de</td>\n",
       "      <td>50kmE4250N3300</td>\n",
       "    </tr>\n",
       "    <tr>\n",
       "      <th>2</th>\n",
       "      <td>29654521</td>\n",
       "      <td>463.0</td>\n",
       "      <td>Wiesenpieper</td>\n",
       "      <td>2018-01-01</td>\n",
       "      <td>NaN</td>\n",
       "      <td>50.850941</td>\n",
       "      <td>12.146953</td>\n",
       "      <td>place</td>\n",
       "      <td>269</td>\n",
       "      <td>2.0</td>\n",
       "      <td>NaN</td>\n",
       "      <td>39627.0</td>\n",
       "      <td>de</td>\n",
       "      <td>50kmE4450N3050</td>\n",
       "    </tr>\n",
       "  </tbody>\n",
       "</table>\n",
       "</div>"
      ],
      "text/plain": [
       "   id_sighting  id_species     name_species        date timing  coord_lat  coord_lon precision  altitude  total_count atlas_code  id_observer country     eea_grid_id\n",
       "0  29666972     8.0         Haubentaucher    2018-01-01  NaN    53.157760  8.676993   place    -1         0.0          NaN        37718.0      de      50kmE4200N3300\n",
       "1  29654244     397.0       Schwarzkehlchen  2018-01-01  NaN    53.127639  8.957263   square    1         2.0          NaN        37803.0      de      50kmE4250N3300\n",
       "2  29654521     463.0       Wiesenpieper     2018-01-01  NaN    50.850941  12.146953  place     269       2.0          NaN        39627.0      de      50kmE4450N3050"
      ]
     },
     "execution_count": 19,
     "metadata": {},
     "output_type": "execute_result"
    }
   ],
   "source": [
    "df.head(3)"
   ]
  },
  {
   "cell_type": "code",
   "execution_count": 20,
   "metadata": {},
   "outputs": [
    {
     "name": "stdout",
     "output_type": "stream",
     "text": [
      "altitude\n",
      " 0       115450\n",
      " 430     88178 \n",
      "-1       51270 \n",
      "-2       43926 \n",
      " 400     38170 \n",
      "         ...   \n",
      " 2893    1     \n",
      " 3262    1     \n",
      " 3124    1     \n",
      " 3001    1     \n",
      " 2971    1     \n",
      "Name: count, Length: 2899, dtype: int64\n"
     ]
    }
   ],
   "source": [
    "print(df.altitude.value_counts())"
   ]
  },
  {
   "cell_type": "code",
   "execution_count": 21,
   "metadata": {},
   "outputs": [
    {
     "data": {
      "text/html": [
       "<div>\n",
       "<style scoped>\n",
       "    .dataframe tbody tr th:only-of-type {\n",
       "        vertical-align: middle;\n",
       "    }\n",
       "\n",
       "    .dataframe tbody tr th {\n",
       "        vertical-align: top;\n",
       "    }\n",
       "\n",
       "    .dataframe thead th {\n",
       "        text-align: right;\n",
       "    }\n",
       "</style>\n",
       "<table border=\"1\" class=\"dataframe\">\n",
       "  <thead>\n",
       "    <tr style=\"text-align: right;\">\n",
       "      <th></th>\n",
       "      <th>id_sighting</th>\n",
       "      <th>id_species</th>\n",
       "      <th>name_species</th>\n",
       "      <th>date</th>\n",
       "      <th>timing</th>\n",
       "      <th>coord_lat</th>\n",
       "      <th>coord_lon</th>\n",
       "      <th>precision</th>\n",
       "      <th>altitude</th>\n",
       "      <th>total_count</th>\n",
       "      <th>atlas_code</th>\n",
       "      <th>id_observer</th>\n",
       "      <th>country</th>\n",
       "      <th>eea_grid_id</th>\n",
       "    </tr>\n",
       "  </thead>\n",
       "  <tbody>\n",
       "    <tr>\n",
       "      <th>172472</th>\n",
       "      <td>57776355</td>\n",
       "      <td>463.0</td>\n",
       "      <td>Wiesenpieper</td>\n",
       "      <td>2021-05-03</td>\n",
       "      <td>12:08</td>\n",
       "      <td>50.958478</td>\n",
       "      <td>6.674523</td>\n",
       "      <td>precise</td>\n",
       "      <td>-34</td>\n",
       "      <td>1.0</td>\n",
       "      <td>NaN</td>\n",
       "      <td>84909.0</td>\n",
       "      <td>de</td>\n",
       "      <td>50kmE4050N3050</td>\n",
       "    </tr>\n",
       "    <tr>\n",
       "      <th>172473</th>\n",
       "      <td>57790281</td>\n",
       "      <td>463.0</td>\n",
       "      <td>Wiesenpieper</td>\n",
       "      <td>2021-05-03</td>\n",
       "      <td>12:08</td>\n",
       "      <td>50.958478</td>\n",
       "      <td>6.674523</td>\n",
       "      <td>precise</td>\n",
       "      <td>-34</td>\n",
       "      <td>1.0</td>\n",
       "      <td>NaN</td>\n",
       "      <td>88575.0</td>\n",
       "      <td>de</td>\n",
       "      <td>50kmE4050N3050</td>\n",
       "    </tr>\n",
       "  </tbody>\n",
       "</table>\n",
       "</div>"
      ],
      "text/plain": [
       "        id_sighting  id_species  name_species        date timing  coord_lat  coord_lon precision  altitude  total_count atlas_code  id_observer country     eea_grid_id\n",
       "172472  57776355     463.0       Wiesenpieper  2021-05-03  12:08  50.958478  6.674523   precise  -34        1.0          NaN        84909.0      de      50kmE4050N3050\n",
       "172473  57790281     463.0       Wiesenpieper  2021-05-03  12:08  50.958478  6.674523   precise  -34        1.0          NaN        88575.0      de      50kmE4050N3050"
      ]
     },
     "execution_count": 21,
     "metadata": {},
     "output_type": "execute_result"
    }
   ],
   "source": [
    "min_altitude = df.altitude.min()\n",
    "df_min_altitude = df[df.altitude == min_altitude]\n",
    "df_min_altitude.head(5)"
   ]
  },
  {
   "cell_type": "code",
   "execution_count": 23,
   "metadata": {},
   "outputs": [],
   "source": [
    "df_path = 'D:\\\\Simon\\\\Documents\\\\GP\\\\data\\\\datasets\\\\selected_bird_species_with_grids_50km.csv'\n",
    "# df_path = 'D:\\\\Simon\\\\Documents\\\\GP\\\\data\\\\datasets\\\\selected_bird_species_50km_elevation.csv'\n",
    "df.to_csv(df_path)"
   ]
  },
  {
   "cell_type": "markdown",
   "metadata": {},
   "source": [
    "# \n",
    "<p style=\"background-color:#4A3228;color:white;font-size:240%;border-radius:10px 10px 10px 10px;\"> &nbsp; 4️⃣ Initial assessment of the elevation feature: Possible degree of decision support </p>\n",
    "\n",
    "Water pipit und Seeadler -> x-axis datum, y-axis elevatino; daran kann man sehen, dass species-specific elevation patterns auftreten; z.B. water pipit: fliegt im Sommer in höhere Lagen; Seeadler ist immer niedrig; daher kann man ausreißer schon an der elevation data allein feststellen, d.h. das könnte ein wichtiges feature in der outlier detection sein."
   ]
  },
  {
   "cell_type": "markdown",
   "metadata": {},
   "source": [
    "# References\n",
    "[1]  European Environment Agency. \"European Digital Elevation Model (EU-DEM), Version 1.1.\" (2016)."
   ]
  }
 ],
 "metadata": {
  "kernelspec": {
   "display_name": "Python 3",
   "language": "python",
   "name": "python3"
  },
  "language_info": {
   "codemirror_mode": {
    "name": "ipython",
    "version": 3
   },
   "file_extension": ".py",
   "mimetype": "text/x-python",
   "name": "python",
   "nbconvert_exporter": "python",
   "pygments_lexer": "ipython3",
   "version": "3.10.13"
  },
  "orig_nbformat": 4
 },
 "nbformat": 4,
 "nbformat_minor": 2
}
