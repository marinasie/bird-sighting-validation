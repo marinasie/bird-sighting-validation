{
 "cells": [
  {
   "cell_type": "code",
   "execution_count": 1,
   "metadata": {},
   "outputs": [],
   "source": [
    "import pandas as pd\n",
    "import sys\n",
    "sys.path.append('../')\n",
    "from utils.copernicus import CopernicusDEM"
   ]
  },
  {
   "cell_type": "code",
   "execution_count": 2,
   "metadata": {},
   "outputs": [],
   "source": [
    "pd.set_option('display.max_columns', None)\n",
    "pd.set_option('display.expand_frame_repr', False)\n",
    "pd.set_option('max_colwidth', 50)"
   ]
  },
  {
   "cell_type": "code",
   "execution_count": 3,
   "metadata": {},
   "outputs": [
    {
     "name": "stderr",
     "output_type": "stream",
     "text": [
      "C:\\Users\\simon\\AppData\\Local\\Temp\\ipykernel_9376\\4057329078.py:3: DtypeWarning: Columns (11) have mixed types. Specify dtype option on import or set low_memory=False.\n",
      "  df = pd.read_csv(df_path, index_col=0)\n"
     ]
    }
   ],
   "source": [
    "#path = 'D:\\\\Simon\\\\Documents\\\\GP\\\\data\\\\datasets\\\\selected_bird_species.csv'\n",
    "df_path = 'D:\\\\Simon\\\\Documents\\\\GP\\\\data\\\\datasets\\\\selected_bird_species_with_grids_50km.csv'\n",
    "df = pd.read_csv(df_path, index_col=0)"
   ]
  },
  {
   "cell_type": "code",
   "execution_count": 4,
   "metadata": {},
   "outputs": [
    {
     "data": {
      "text/html": [
       "<div>\n",
       "<style scoped>\n",
       "    .dataframe tbody tr th:only-of-type {\n",
       "        vertical-align: middle;\n",
       "    }\n",
       "\n",
       "    .dataframe tbody tr th {\n",
       "        vertical-align: top;\n",
       "    }\n",
       "\n",
       "    .dataframe thead th {\n",
       "        text-align: right;\n",
       "    }\n",
       "</style>\n",
       "<table border=\"1\" class=\"dataframe\">\n",
       "  <thead>\n",
       "    <tr style=\"text-align: right;\">\n",
       "      <th></th>\n",
       "      <th>id_sighting</th>\n",
       "      <th>id_species</th>\n",
       "      <th>name_species</th>\n",
       "      <th>date</th>\n",
       "      <th>timing</th>\n",
       "      <th>coord_lat</th>\n",
       "      <th>coord_lon</th>\n",
       "      <th>precision</th>\n",
       "      <th>altitude</th>\n",
       "      <th>total_count</th>\n",
       "      <th>atlas_code</th>\n",
       "      <th>id_observer</th>\n",
       "      <th>country</th>\n",
       "      <th>eea_grid_id</th>\n",
       "    </tr>\n",
       "  </thead>\n",
       "  <tbody>\n",
       "    <tr>\n",
       "      <th>0</th>\n",
       "      <td>29666972</td>\n",
       "      <td>8.0</td>\n",
       "      <td>Haubentaucher</td>\n",
       "      <td>2018-01-01</td>\n",
       "      <td>NaN</td>\n",
       "      <td>53.157760</td>\n",
       "      <td>8.676993</td>\n",
       "      <td>place</td>\n",
       "      <td>-1.051010</td>\n",
       "      <td>0.0</td>\n",
       "      <td>0</td>\n",
       "      <td>37718.0</td>\n",
       "      <td>de</td>\n",
       "      <td>50kmE4200N3300</td>\n",
       "    </tr>\n",
       "    <tr>\n",
       "      <th>1</th>\n",
       "      <td>29654244</td>\n",
       "      <td>397.0</td>\n",
       "      <td>Schwarzkehlchen</td>\n",
       "      <td>2018-01-01</td>\n",
       "      <td>NaN</td>\n",
       "      <td>53.127639</td>\n",
       "      <td>8.957263</td>\n",
       "      <td>square</td>\n",
       "      <td>0.760781</td>\n",
       "      <td>2.0</td>\n",
       "      <td>0</td>\n",
       "      <td>37803.0</td>\n",
       "      <td>de</td>\n",
       "      <td>50kmE4250N3300</td>\n",
       "    </tr>\n",
       "    <tr>\n",
       "      <th>2</th>\n",
       "      <td>29654521</td>\n",
       "      <td>463.0</td>\n",
       "      <td>Wiesenpieper</td>\n",
       "      <td>2018-01-01</td>\n",
       "      <td>NaN</td>\n",
       "      <td>50.850941</td>\n",
       "      <td>12.146953</td>\n",
       "      <td>place</td>\n",
       "      <td>270.831300</td>\n",
       "      <td>2.0</td>\n",
       "      <td>0</td>\n",
       "      <td>39627.0</td>\n",
       "      <td>de</td>\n",
       "      <td>50kmE4450N3050</td>\n",
       "    </tr>\n",
       "  </tbody>\n",
       "</table>\n",
       "</div>"
      ],
      "text/plain": [
       "   id_sighting  id_species     name_species        date timing  coord_lat  coord_lon precision    altitude  total_count atlas_code  id_observer country     eea_grid_id\n",
       "0     29666972         8.0    Haubentaucher  2018-01-01    NaN  53.157760   8.676993     place   -1.051010          0.0          0      37718.0      de  50kmE4200N3300\n",
       "1     29654244       397.0  Schwarzkehlchen  2018-01-01    NaN  53.127639   8.957263    square    0.760781          2.0          0      37803.0      de  50kmE4250N3300\n",
       "2     29654521       463.0     Wiesenpieper  2018-01-01    NaN  50.850941  12.146953     place  270.831300          2.0          0      39627.0      de  50kmE4450N3050"
      ]
     },
     "execution_count": 4,
     "metadata": {},
     "output_type": "execute_result"
    }
   ],
   "source": [
    "df.head(3)"
   ]
  },
  {
   "cell_type": "markdown",
   "metadata": {},
   "source": [
    "### Add elevation features"
   ]
  },
  {
   "cell_type": "code",
   "execution_count": 5,
   "metadata": {},
   "outputs": [],
   "source": [
    "copernicus = CopernicusDEM(raster_paths=['D:\\\\Simon\\\\Documents\\\\GP\\\\data\\\\util_files\\\\EU_DEM\\\\eu_dem_v11_E40N20.TIF', 'D:\\\\Simon\\\\Documents\\\\GP\\\\data\\\\util_files\\\\EU_DEM\\\\eu_dem_v11_E40N30.TIF'])\n",
    "df = copernicus.get_elevation(df, lat_col='coord_lat', lon_col='coord_lon')"
   ]
  },
  {
   "cell_type": "code",
   "execution_count": 6,
   "metadata": {},
   "outputs": [],
   "source": [
    "df['altitude'] = df['elevation']\n",
    "df.drop(columns=['elevation'], inplace=True)"
   ]
  },
  {
   "cell_type": "markdown",
   "metadata": {},
   "source": [
    "### PCA with elevation features"
   ]
  },
  {
   "cell_type": "code",
   "execution_count": 7,
   "metadata": {},
   "outputs": [
    {
     "data": {
      "text/plain": [
       "Text(7, 0.75, 'strong correlation')"
      ]
     },
     "execution_count": 7,
     "metadata": {},
     "output_type": "execute_result"
    },
    {
     "data": {
      "image/png": "[encoded data removed]",
      "text/plain": [
       "<Figure size 640x480 with 1 Axes>"
      ]
     },
     "metadata": {},
     "output_type": "display_data"
    }
   ],
   "source": [
    "import matplotlib.pyplot as plt\n",
    "df_for_pca = df.drop(columns=['name_species', 'date', 'timing', 'precision', 'atlas_code', 'country', 'eea_grid_id'])\n",
    "df_corr = df_for_pca.corr()['id_species'].abs().sort_values(ascending=False)\n",
    "df_corr.drop('id_species', inplace=True)\n",
    "ax = df_corr.plot.bar(color='green')\n",
    "\n",
    "ax.axhspan(0, 0.3, alpha=0.1, color='red')\n",
    "ax.axhspan(0.3, 0.5, alpha=0.1, color='orange')\n",
    "ax.axhspan(0.5, 1, alpha=0.1, color='green')\n",
    "ax.text(7,0.2, s='weak correlation', color='red')\n",
    "ax.text(7,0.4, s='moderate correlation', color='orange')\n",
    "ax.text(7,0.75, s='strong correlation', color='green')"
   ]
  },
  {
   "cell_type": "code",
   "execution_count": 8,
   "metadata": {},
   "outputs": [],
   "source": [
    "df.to_csv(df_path)"
   ]
  }
 ],
 "metadata": {
  "kernelspec": {
   "display_name": "Python 3",
   "language": "python",
   "name": "python3"
  },
  "language_info": {
   "codemirror_mode": {
    "name": "ipython",
    "version": 3
   },
   "file_extension": ".py",
   "mimetype": "text/x-python",
   "name": "python",
   "nbconvert_exporter": "python",
   "pygments_lexer": "ipython3",
   "version": "3.10.13"
  },
  "orig_nbformat": 4
 },
 "nbformat": 4,
 "nbformat_minor": 2
}
