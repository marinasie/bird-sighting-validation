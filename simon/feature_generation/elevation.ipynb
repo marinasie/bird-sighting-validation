{
 "cells": [
  {
   "cell_type": "markdown",
   "metadata": {},
   "source": [
    "<img src=\"../../img/elevation.png\" alt=\"\" style=\"width: 100%; border-radius: 20px;\"/>"
   ]
  },
  {
   "cell_type": "code",
   "execution_count": 1,
   "metadata": {},
   "outputs": [
    {
     "data": {
      "text/html": [
       "<style>\n",
       "    body {\n",
       "        --vscode-font-family: \"Itim\";\n",
       "        font color: #d8c0b5;\n",
       "    }\n",
       "</style>\n"
      ],
      "text/plain": [
       "<IPython.core.display.HTML object>"
      ]
     },
     "metadata": {},
     "output_type": "display_data"
    }
   ],
   "source": [
    "%%HTML\n",
    "<style>\n",
    "    body {\n",
    "        --vscode-font-family: \"Itim\";\n",
    "        font color: #d8c0b5;\n",
    "    }\n",
    "</style>"
   ]
  },
  {
   "cell_type": "markdown",
   "metadata": {},
   "source": [
    "## Objective\n",
    "This notebook aims to compute the elevation of each bird sighting in the bird sightings provided from *ornitho.ch* and *ornitho.de*, based on the latitude and longitude coordinates.\n",
    "\n",
    "We expect the incorporation of altitude information to provide additional decision support for our deployed models that detect implausible bird sightings. For instance, certain bird species are typically associated with specific altitude ranges; therefore, altitude data can serve as a valuable feature for validating the authenticity of a bird sighting.\n",
    "\n",
    "## Scope\n",
    "In this notebook, we aim to generate altitude values for bird sightings in Germany and Switzerland. The altitude values are inherently only given for the Swiss datasets. Based on the latitude and longitude values of the bird sighting, we can extract them for Germany as well. \n",
    "\n",
    "For this, three distinct approaches for computing altitude values were investigated:\n",
    "- **API-based**\n",
    "    - *api.open-elevation.com* and *api.opentopodata.org*: Utilizing an external API to obtain altitude information.\n",
    "    - Earth Engine: Leveraging Earth Engine data for altitude calculations.\n",
    "- **Local**\n",
    "    - DEM file: Employing a local Digital Elevation Model (EU_DEM tif file) for altitude computation.\n",
    "\n",
    "After evaluating the efficiency and accuracy of the three approaches, the local DEM file method was selected as the preferred choice due to its computational speed and satisfactory performance in altitude calculation.\n",
    "\n",
    "Additionally, an initial assessment is provided to determine the possible effectiveness of altitude values in supporting the detection of implausible bird data. In this context, we investigate the distinctive altitude ranges of two exemplatory bird species, i.e. the water pipit and White-tailed eagle.\n",
    "\n",
    "## Output data\n",
    "The resulting master dataset with elevation data is stored as selected_bird_species_with_grids.csv [here](https://drive.google.com/drive/folders/18XoTsDtWnN4QdIBNGGbq-jaa6U3nVb2e)."
   ]
  },
  {
   "cell_type": "code",
   "execution_count": 1,
   "metadata": {},
   "outputs": [],
   "source": [
    "import sys\n",
    "sys.path.append('../')\n",
    "\n",
    "import pandas as pd\n",
    "import ee\n",
    "from utils.copernicus import CopernicusDEM\n",
    "import requests\n",
    "\n",
    "import plotly.express as px\n",
    "import plotly.graph_objects as go\n",
    "import geopandas as gpd"
   ]
  },
  {
   "cell_type": "code",
   "execution_count": 2,
   "metadata": {},
   "outputs": [],
   "source": [
    "pd.set_option('display.max_columns', None)\n",
    "pd.set_option('display.expand_frame_repr', False)\n",
    "pd.set_option('max_colwidth', False)"
   ]
  },
  {
   "cell_type": "markdown",
   "metadata": {},
   "source": [
    "# \n",
    "<p style=\"background-color:#4A3228;color:white;font-size:240%;border-radius:10px 10px 10px 10px;\"> &nbsp; 0️⃣ Specify your paths </p>\n",
    "\n",
    "In order to run the notebook, the following file is required:\n",
    "- Master dataset reduced to 27 species and enriched with EEA grids: *[selected_species_with_50km_grids.csv](https://drive.google.com/drive/folders/18XoTsDtWnN4QdIBNGGbq-jaa6U3nVb2e)*\n",
    "- European Digital Elevation Model (EU-DEM); downloadable [here](https://www.eea.europa.eu/en/datahub/datahubitem-view/d08852bc-7b5f-4835-a776-08362e2fbf4b). It should contain the files *eu_dem_v11_E40N20.TIF* and *eu_dem_v11_E40N30.TIF*\n",
    "\n",
    "If you wish to store the resulting dataframe enriched with elevation data, please specify a target path where it should be stored."
   ]
  },
  {
   "cell_type": "code",
   "execution_count": 3,
   "metadata": {},
   "outputs": [],
   "source": [
    "df_path = r'D:\\\\Simon\\\\Documents\\\\GP\\\\data\\\\datasets\\\\selected_bird_species_with_grids_50km.csv'  # please provide path to selected_bird_species_with_grids_50km.csv\n",
    "eu_dem_path = r'D:\\\\Simon\\\\Documents\\\\GP\\\\data\\\\util_files\\\\EU_DEM\\\\'  # please provide path to the EU_DEM folder\n",
    "target_path = r'D:\\\\Simon\\\\Documents\\\\GP\\\\data\\\\datasets\\\\selected_bird_species_50km_elevation.csv'  # please provide path where to save the dataset enriched with elevation data"
   ]
  },
  {
   "cell_type": "markdown",
   "metadata": {},
   "source": [
    "# \n",
    "<p style=\"background-color:#4A3228;color:white;font-size:240%;border-radius:10px 10px 10px 10px;\"> &nbsp; 1️⃣ Load data </p>\n",
    "\n",
    "In this notebook, we compute the elevation data for all given sightings from 2018-2022.\n",
    "\n",
    "There is already a column `altitude` which provide elevation information for all sightings in Switzerland. The German dataset only contains NaN values.\n",
    "\n",
    "Although altitude values are present in the Swiss dataset, they are recalculated to ensure consistency. Therefore, the `altitude` column is dropped."
   ]
  },
  {
   "cell_type": "code",
   "execution_count": 4,
   "metadata": {},
   "outputs": [
    {
     "data": {
      "text/html": [
       "<div>\n",
       "<style scoped>\n",
       "    .dataframe tbody tr th:only-of-type {\n",
       "        vertical-align: middle;\n",
       "    }\n",
       "\n",
       "    .dataframe tbody tr th {\n",
       "        vertical-align: top;\n",
       "    }\n",
       "\n",
       "    .dataframe thead th {\n",
       "        text-align: right;\n",
       "    }\n",
       "</style>\n",
       "<table border=\"1\" class=\"dataframe\">\n",
       "  <thead>\n",
       "    <tr style=\"text-align: right;\">\n",
       "      <th></th>\n",
       "      <th>id_sighting</th>\n",
       "      <th>id_species</th>\n",
       "      <th>name_species</th>\n",
       "      <th>date</th>\n",
       "      <th>timing</th>\n",
       "      <th>coord_lat</th>\n",
       "      <th>coord_lon</th>\n",
       "      <th>precision</th>\n",
       "      <th>total_count</th>\n",
       "      <th>atlas_code</th>\n",
       "      <th>id_observer</th>\n",
       "      <th>country</th>\n",
       "      <th>eea_grid_id</th>\n",
       "    </tr>\n",
       "  </thead>\n",
       "  <tbody>\n",
       "    <tr>\n",
       "      <th>0</th>\n",
       "      <td>29666972</td>\n",
       "      <td>8.0</td>\n",
       "      <td>Haubentaucher</td>\n",
       "      <td>2018-01-01</td>\n",
       "      <td>NaN</td>\n",
       "      <td>53.157760</td>\n",
       "      <td>8.676993</td>\n",
       "      <td>place</td>\n",
       "      <td>0.0</td>\n",
       "      <td>0</td>\n",
       "      <td>37718.0</td>\n",
       "      <td>de</td>\n",
       "      <td>50kmE4200N3300</td>\n",
       "    </tr>\n",
       "    <tr>\n",
       "      <th>1</th>\n",
       "      <td>29654244</td>\n",
       "      <td>397.0</td>\n",
       "      <td>Schwarzkehlchen</td>\n",
       "      <td>2018-01-01</td>\n",
       "      <td>NaN</td>\n",
       "      <td>53.127639</td>\n",
       "      <td>8.957263</td>\n",
       "      <td>square</td>\n",
       "      <td>2.0</td>\n",
       "      <td>0</td>\n",
       "      <td>37803.0</td>\n",
       "      <td>de</td>\n",
       "      <td>50kmE4250N3300</td>\n",
       "    </tr>\n",
       "    <tr>\n",
       "      <th>2</th>\n",
       "      <td>29654521</td>\n",
       "      <td>463.0</td>\n",
       "      <td>Wiesenpieper</td>\n",
       "      <td>2018-01-01</td>\n",
       "      <td>NaN</td>\n",
       "      <td>50.850941</td>\n",
       "      <td>12.146953</td>\n",
       "      <td>place</td>\n",
       "      <td>2.0</td>\n",
       "      <td>0</td>\n",
       "      <td>39627.0</td>\n",
       "      <td>de</td>\n",
       "      <td>50kmE4450N3050</td>\n",
       "    </tr>\n",
       "    <tr>\n",
       "      <th>3</th>\n",
       "      <td>29666414</td>\n",
       "      <td>8.0</td>\n",
       "      <td>Haubentaucher</td>\n",
       "      <td>2018-01-01</td>\n",
       "      <td>NaN</td>\n",
       "      <td>51.076006</td>\n",
       "      <td>11.038316</td>\n",
       "      <td>place</td>\n",
       "      <td>8.0</td>\n",
       "      <td>0</td>\n",
       "      <td>38301.0</td>\n",
       "      <td>de</td>\n",
       "      <td>50kmE4350N3100</td>\n",
       "    </tr>\n",
       "    <tr>\n",
       "      <th>4</th>\n",
       "      <td>29656211</td>\n",
       "      <td>8.0</td>\n",
       "      <td>Haubentaucher</td>\n",
       "      <td>2018-01-01</td>\n",
       "      <td>NaN</td>\n",
       "      <td>51.389380</td>\n",
       "      <td>7.067282</td>\n",
       "      <td>place</td>\n",
       "      <td>10.0</td>\n",
       "      <td>0</td>\n",
       "      <td>108167.0</td>\n",
       "      <td>de</td>\n",
       "      <td>50kmE4100N3100</td>\n",
       "    </tr>\n",
       "  </tbody>\n",
       "</table>\n",
       "</div>"
      ],
      "text/plain": [
       "   id_sighting  id_species     name_species        date timing  coord_lat  coord_lon precision  total_count atlas_code  id_observer country     eea_grid_id\n",
       "0  29666972     8.0         Haubentaucher    2018-01-01  NaN    53.157760  8.676993   place     0.0          0          37718.0      de      50kmE4200N3300\n",
       "1  29654244     397.0       Schwarzkehlchen  2018-01-01  NaN    53.127639  8.957263   square    2.0          0          37803.0      de      50kmE4250N3300\n",
       "2  29654521     463.0       Wiesenpieper     2018-01-01  NaN    50.850941  12.146953  place     2.0          0          39627.0      de      50kmE4450N3050\n",
       "3  29666414     8.0         Haubentaucher    2018-01-01  NaN    51.076006  11.038316  place     8.0          0          38301.0      de      50kmE4350N3100\n",
       "4  29656211     8.0         Haubentaucher    2018-01-01  NaN    51.389380  7.067282   place     10.0         0          108167.0     de      50kmE4100N3100"
      ]
     },
     "execution_count": 4,
     "metadata": {},
     "output_type": "execute_result"
    }
   ],
   "source": [
    "df = pd.read_csv(df_path, index_col=0, low_memory=False)\n",
    "df.drop(columns=['altitude'], inplace=True)\n",
    "df.head(5)"
   ]
  },
  {
   "cell_type": "markdown",
   "metadata": {},
   "source": [
    "# \n",
    "<p style=\"background-color:#4A3228;color:white;font-size:240%;border-radius:10px 10px 10px 10px;\"> &nbsp; 2️⃣ Elevation generation </p>\n",
    "\n",
    "To calculate the altitude for each bird sighting based on the bird's location, three distinct approaches are employed:\n",
    "\n",
    "\n",
    "\n",
    "The first two approaches involve API-based methods, specifically utilizing public API's specializing on altitude data, as well as Google Earth Engine, leveraging external online resources for altitude information. \n",
    "\n",
    "The third approach involves local computation, utilizing a local Digital Elevation Model (DEM) file, specifically the *EU_DEM* from the European Environment Agency*, for altitude calculations."
   ]
  },
  {
   "cell_type": "markdown",
   "metadata": {},
   "source": [
    "## 1st approach: Public API's with no registration requirement\n",
    "*api.open-elevation.com* and *api.opentopodata.org* are prominent external APIs employed for obtaining elevation data in scientific and geospatial analyses. They do not require any authentication or registration, making it accessible for other developers to run this script.\n",
    "\n",
    "Api.open-elevation.com serves as an elevation data service, offering a straightforward API for querying elevation information based on latitude and longitude coordinates. It utilizes global datasets to provide elevation values, making it accessible for a wide range of locations. \n",
    "\n",
    "On the other hand, api.opentopodata.org is a versatile API designed to retrieve various topographic data, including elevation, slope, and aspect. It supports multiple data sources and formats, allowing users to customize queries based on specific topographic parameters.\n",
    "\n",
    "### Generation\n",
    "In order to generate elevation data, both API's require the latitude and longitude value of the bird sighting. As there is so option to pass a batch or list of multiple sightings at once, the API's must be queried once for each sighting."
   ]
  },
  {
   "cell_type": "code",
   "execution_count": 32,
   "metadata": {},
   "outputs": [],
   "source": [
    "def get_elevation_openelevation(lat, long):\n",
    "    query = f'https://api.open-elevation.com/api/v1/lookup?locations={lat},{long}'\n",
    "    r = requests.get(query).json()\n",
    "    elevation = r['results'][0]['elevation']\n",
    "    return elevation"
   ]
  },
  {
   "cell_type": "code",
   "execution_count": 22,
   "metadata": {},
   "outputs": [],
   "source": [
    "def get_elevation_opentopo(lat, long):\n",
    "    query = f'https://api.opentopodata.org/v1/eudem25m?locations={lat},{long}'\n",
    "    r = requests.get(query).json()\n",
    "    elevation = r['results'][0]['elevation']\n",
    "    return elevation"
   ]
  },
  {
   "cell_type": "code",
   "execution_count": 9,
   "metadata": {},
   "outputs": [
    {
     "data": {
      "text/html": [
       "<div>\n",
       "<style scoped>\n",
       "    .dataframe tbody tr th:only-of-type {\n",
       "        vertical-align: middle;\n",
       "    }\n",
       "\n",
       "    .dataframe tbody tr th {\n",
       "        vertical-align: top;\n",
       "    }\n",
       "\n",
       "    .dataframe thead th {\n",
       "        text-align: right;\n",
       "    }\n",
       "</style>\n",
       "<table border=\"1\" class=\"dataframe\">\n",
       "  <thead>\n",
       "    <tr style=\"text-align: right;\">\n",
       "      <th></th>\n",
       "      <th>id_sighting</th>\n",
       "      <th>id_species</th>\n",
       "      <th>name_species</th>\n",
       "      <th>date</th>\n",
       "      <th>timing</th>\n",
       "      <th>coord_lat</th>\n",
       "      <th>coord_lon</th>\n",
       "      <th>precision</th>\n",
       "      <th>total_count</th>\n",
       "      <th>atlas_code</th>\n",
       "      <th>id_observer</th>\n",
       "      <th>country</th>\n",
       "      <th>eea_grid_id</th>\n",
       "      <th>altitude</th>\n",
       "    </tr>\n",
       "  </thead>\n",
       "  <tbody>\n",
       "    <tr>\n",
       "      <th>0</th>\n",
       "      <td>29666972</td>\n",
       "      <td>8.0</td>\n",
       "      <td>Haubentaucher</td>\n",
       "      <td>2018-01-01</td>\n",
       "      <td>NaN</td>\n",
       "      <td>53.157760</td>\n",
       "      <td>8.676993</td>\n",
       "      <td>place</td>\n",
       "      <td>0.0</td>\n",
       "      <td>0</td>\n",
       "      <td>37718.0</td>\n",
       "      <td>de</td>\n",
       "      <td>50kmE4200N3300</td>\n",
       "      <td>-1.051010</td>\n",
       "    </tr>\n",
       "    <tr>\n",
       "      <th>1</th>\n",
       "      <td>29654244</td>\n",
       "      <td>397.0</td>\n",
       "      <td>Schwarzkehlchen</td>\n",
       "      <td>2018-01-01</td>\n",
       "      <td>NaN</td>\n",
       "      <td>53.127639</td>\n",
       "      <td>8.957263</td>\n",
       "      <td>square</td>\n",
       "      <td>2.0</td>\n",
       "      <td>0</td>\n",
       "      <td>37803.0</td>\n",
       "      <td>de</td>\n",
       "      <td>50kmE4250N3300</td>\n",
       "      <td>0.782160</td>\n",
       "    </tr>\n",
       "    <tr>\n",
       "      <th>2</th>\n",
       "      <td>29654521</td>\n",
       "      <td>463.0</td>\n",
       "      <td>Wiesenpieper</td>\n",
       "      <td>2018-01-01</td>\n",
       "      <td>NaN</td>\n",
       "      <td>50.850941</td>\n",
       "      <td>12.146953</td>\n",
       "      <td>place</td>\n",
       "      <td>2.0</td>\n",
       "      <td>0</td>\n",
       "      <td>39627.0</td>\n",
       "      <td>de</td>\n",
       "      <td>50kmE4450N3050</td>\n",
       "      <td>270.566223</td>\n",
       "    </tr>\n",
       "    <tr>\n",
       "      <th>3</th>\n",
       "      <td>29666414</td>\n",
       "      <td>8.0</td>\n",
       "      <td>Haubentaucher</td>\n",
       "      <td>2018-01-01</td>\n",
       "      <td>NaN</td>\n",
       "      <td>51.076006</td>\n",
       "      <td>11.038316</td>\n",
       "      <td>place</td>\n",
       "      <td>8.0</td>\n",
       "      <td>0</td>\n",
       "      <td>38301.0</td>\n",
       "      <td>de</td>\n",
       "      <td>50kmE4350N3100</td>\n",
       "      <td>158.941010</td>\n",
       "    </tr>\n",
       "    <tr>\n",
       "      <th>4</th>\n",
       "      <td>29656211</td>\n",
       "      <td>8.0</td>\n",
       "      <td>Haubentaucher</td>\n",
       "      <td>2018-01-01</td>\n",
       "      <td>NaN</td>\n",
       "      <td>51.389380</td>\n",
       "      <td>7.067282</td>\n",
       "      <td>place</td>\n",
       "      <td>10.0</td>\n",
       "      <td>0</td>\n",
       "      <td>108167.0</td>\n",
       "      <td>de</td>\n",
       "      <td>50kmE4100N3100</td>\n",
       "      <td>52.463722</td>\n",
       "    </tr>\n",
       "  </tbody>\n",
       "</table>\n",
       "</div>"
      ],
      "text/plain": [
       "   id_sighting  id_species     name_species        date timing  coord_lat  coord_lon precision  total_count atlas_code  id_observer country     eea_grid_id    altitude\n",
       "0  29666972     8.0         Haubentaucher    2018-01-01  NaN    53.157760  8.676993   place     0.0          0          37718.0      de      50kmE4200N3300 -1.051010  \n",
       "1  29654244     397.0       Schwarzkehlchen  2018-01-01  NaN    53.127639  8.957263   square    2.0          0          37803.0      de      50kmE4250N3300  0.782160  \n",
       "2  29654521     463.0       Wiesenpieper     2018-01-01  NaN    50.850941  12.146953  place     2.0          0          39627.0      de      50kmE4450N3050  270.566223\n",
       "3  29666414     8.0         Haubentaucher    2018-01-01  NaN    51.076006  11.038316  place     8.0          0          38301.0      de      50kmE4350N3100  158.941010\n",
       "4  29656211     8.0         Haubentaucher    2018-01-01  NaN    51.389380  7.067282   place     10.0         0          108167.0     de      50kmE4100N3100  52.463722 "
      ]
     },
     "execution_count": 9,
     "metadata": {},
     "output_type": "execute_result"
    }
   ],
   "source": [
    "df['altitude'] = df.head(10).apply(lambda row: get_elevation_opentopo(row['coord_lat'], row['coord_lon']), axis=1)\n",
    "df.head(5)"
   ]
  },
  {
   "cell_type": "code",
   "execution_count": 10,
   "metadata": {},
   "outputs": [
    {
     "data": {
      "text/html": [
       "<div>\n",
       "<style scoped>\n",
       "    .dataframe tbody tr th:only-of-type {\n",
       "        vertical-align: middle;\n",
       "    }\n",
       "\n",
       "    .dataframe tbody tr th {\n",
       "        vertical-align: top;\n",
       "    }\n",
       "\n",
       "    .dataframe thead th {\n",
       "        text-align: right;\n",
       "    }\n",
       "</style>\n",
       "<table border=\"1\" class=\"dataframe\">\n",
       "  <thead>\n",
       "    <tr style=\"text-align: right;\">\n",
       "      <th></th>\n",
       "      <th>id_sighting</th>\n",
       "      <th>id_species</th>\n",
       "      <th>name_species</th>\n",
       "      <th>date</th>\n",
       "      <th>timing</th>\n",
       "      <th>coord_lat</th>\n",
       "      <th>coord_lon</th>\n",
       "      <th>precision</th>\n",
       "      <th>total_count</th>\n",
       "      <th>atlas_code</th>\n",
       "      <th>id_observer</th>\n",
       "      <th>country</th>\n",
       "      <th>eea_grid_id</th>\n",
       "      <th>altitude</th>\n",
       "    </tr>\n",
       "  </thead>\n",
       "  <tbody>\n",
       "    <tr>\n",
       "      <th>0</th>\n",
       "      <td>29666972</td>\n",
       "      <td>8.0</td>\n",
       "      <td>Haubentaucher</td>\n",
       "      <td>2018-01-01</td>\n",
       "      <td>NaN</td>\n",
       "      <td>53.157760</td>\n",
       "      <td>8.676993</td>\n",
       "      <td>place</td>\n",
       "      <td>0.0</td>\n",
       "      <td>0</td>\n",
       "      <td>37718.0</td>\n",
       "      <td>de</td>\n",
       "      <td>50kmE4200N3300</td>\n",
       "      <td>-1.0</td>\n",
       "    </tr>\n",
       "    <tr>\n",
       "      <th>1</th>\n",
       "      <td>29654244</td>\n",
       "      <td>397.0</td>\n",
       "      <td>Schwarzkehlchen</td>\n",
       "      <td>2018-01-01</td>\n",
       "      <td>NaN</td>\n",
       "      <td>53.127639</td>\n",
       "      <td>8.957263</td>\n",
       "      <td>square</td>\n",
       "      <td>2.0</td>\n",
       "      <td>0</td>\n",
       "      <td>37803.0</td>\n",
       "      <td>de</td>\n",
       "      <td>50kmE4250N3300</td>\n",
       "      <td>0.0</td>\n",
       "    </tr>\n",
       "    <tr>\n",
       "      <th>2</th>\n",
       "      <td>29654521</td>\n",
       "      <td>463.0</td>\n",
       "      <td>Wiesenpieper</td>\n",
       "      <td>2018-01-01</td>\n",
       "      <td>NaN</td>\n",
       "      <td>50.850941</td>\n",
       "      <td>12.146953</td>\n",
       "      <td>place</td>\n",
       "      <td>2.0</td>\n",
       "      <td>0</td>\n",
       "      <td>39627.0</td>\n",
       "      <td>de</td>\n",
       "      <td>50kmE4450N3050</td>\n",
       "      <td>268.0</td>\n",
       "    </tr>\n",
       "    <tr>\n",
       "      <th>3</th>\n",
       "      <td>29666414</td>\n",
       "      <td>8.0</td>\n",
       "      <td>Haubentaucher</td>\n",
       "      <td>2018-01-01</td>\n",
       "      <td>NaN</td>\n",
       "      <td>51.076006</td>\n",
       "      <td>11.038316</td>\n",
       "      <td>place</td>\n",
       "      <td>8.0</td>\n",
       "      <td>0</td>\n",
       "      <td>38301.0</td>\n",
       "      <td>de</td>\n",
       "      <td>50kmE4350N3100</td>\n",
       "      <td>157.0</td>\n",
       "    </tr>\n",
       "    <tr>\n",
       "      <th>4</th>\n",
       "      <td>29656211</td>\n",
       "      <td>8.0</td>\n",
       "      <td>Haubentaucher</td>\n",
       "      <td>2018-01-01</td>\n",
       "      <td>NaN</td>\n",
       "      <td>51.389380</td>\n",
       "      <td>7.067282</td>\n",
       "      <td>place</td>\n",
       "      <td>10.0</td>\n",
       "      <td>0</td>\n",
       "      <td>108167.0</td>\n",
       "      <td>de</td>\n",
       "      <td>50kmE4100N3100</td>\n",
       "      <td>51.0</td>\n",
       "    </tr>\n",
       "  </tbody>\n",
       "</table>\n",
       "</div>"
      ],
      "text/plain": [
       "   id_sighting  id_species     name_species        date timing  coord_lat  coord_lon precision  total_count atlas_code  id_observer country     eea_grid_id  altitude\n",
       "0  29666972     8.0         Haubentaucher    2018-01-01  NaN    53.157760  8.676993   place     0.0          0          37718.0      de      50kmE4200N3300 -1.0     \n",
       "1  29654244     397.0       Schwarzkehlchen  2018-01-01  NaN    53.127639  8.957263   square    2.0          0          37803.0      de      50kmE4250N3300  0.0     \n",
       "2  29654521     463.0       Wiesenpieper     2018-01-01  NaN    50.850941  12.146953  place     2.0          0          39627.0      de      50kmE4450N3050  268.0   \n",
       "3  29666414     8.0         Haubentaucher    2018-01-01  NaN    51.076006  11.038316  place     8.0          0          38301.0      de      50kmE4350N3100  157.0   \n",
       "4  29656211     8.0         Haubentaucher    2018-01-01  NaN    51.389380  7.067282   place     10.0         0          108167.0     de      50kmE4100N3100  51.0    "
      ]
     },
     "execution_count": 10,
     "metadata": {},
     "output_type": "execute_result"
    }
   ],
   "source": [
    "df['altitude'] = df.head(10).apply(lambda row: get_elevation_openelevation(row['coord_lat'], row['coord_lon']), axis=1)\n",
    "df.head(5)"
   ]
  },
  {
   "cell_type": "markdown",
   "metadata": {},
   "source": [
    "### Issues\n",
    "The public APIs, *api.open-elevation.com* and *api.opentopodata.org*, deliver accurate results for the dataset. Yet, with a growing number of API calls, the time taken for each call also increases gradually. As a result, for the extensive dataset at hand, using either of these APIs becomes impractical due to the extended processing time for each data point.\n",
    "\n",
    "Therefore, the public API's are considered not feasible for generation elevation data for the bird sightings. "
   ]
  },
  {
   "cell_type": "markdown",
   "metadata": {},
   "source": [
    "## 2nd approach: *Earth Engine*\n",
    "<img src=\"https://www.appgeo.com/wp-content/uploads/GoogleEarthEngine.png\" alt=\"Google Earth Engine Icon\" style=\"border-radius: 7px; width: 400px; height: auto;\">\n",
    "\n",
    "Earth Engine is a cloud-based platform developed by Google that provides access to a vast amount of geospatial data and computational resources for analyzing and visualizing Earth's surface.\n",
    "\n",
    "In the context of extracting elevation data based on latitude and longitude values for Europe, Earth Engine can be utilized to access and process high-resolution digital elevation models (DEMs) and terrain data. DEMs represent the topography of the Earth's surface, providing information about elevation at different geographic locations.\n",
    "\n",
    "Contrary to *api.open-elevation.com* and *api.opentopodata.org*, Earth Engine utilizes Google's cloud infrastructure, providing significant computational resources for large-scale geospatial analyses. It is designed to handle massive datasets and complex computations efficiently, which may leverage the scalability issues that emerged when using *api.open-elevation.com* and *api.opentopodata.org*.\n",
    "\n",
    "\n",
    "### Generation\n",
    "The process of querying an altitude value for a sighting is similar to the the public API's *api.open-elevation.com* and *api.opentopodata.org* - Earth Engine also requires separate API requests for each individual bird sighting.\n",
    "\n",
    "<span style=\"color:red;\">In order to query the Earth Engine, you must... [describe registration and authentication]</span>"
   ]
  },
  {
   "cell_type": "code",
   "execution_count": 12,
   "metadata": {},
   "outputs": [],
   "source": [
    "ee.Authenticate()\n",
    "ee.Initialize(project='ee-simonbirk')\n",
    "\n",
    "def get_elevation_ee(lat, lon):\n",
    "    point = ee.Geometry.Point([lon, lat])\n",
    "    dataset = ee.Image('USGS/SRTMGL1_003')\n",
    "    elevation = dataset.sample(point, 30).first().get('elevation').getInfo()\n",
    "    return elevation"
   ]
  },
  {
   "cell_type": "code",
   "execution_count": 13,
   "metadata": {},
   "outputs": [
    {
     "data": {
      "text/html": [
       "<div>\n",
       "<style scoped>\n",
       "    .dataframe tbody tr th:only-of-type {\n",
       "        vertical-align: middle;\n",
       "    }\n",
       "\n",
       "    .dataframe tbody tr th {\n",
       "        vertical-align: top;\n",
       "    }\n",
       "\n",
       "    .dataframe thead th {\n",
       "        text-align: right;\n",
       "    }\n",
       "</style>\n",
       "<table border=\"1\" class=\"dataframe\">\n",
       "  <thead>\n",
       "    <tr style=\"text-align: right;\">\n",
       "      <th></th>\n",
       "      <th>id_sighting</th>\n",
       "      <th>id_species</th>\n",
       "      <th>name_species</th>\n",
       "      <th>date</th>\n",
       "      <th>timing</th>\n",
       "      <th>coord_lat</th>\n",
       "      <th>coord_lon</th>\n",
       "      <th>precision</th>\n",
       "      <th>total_count</th>\n",
       "      <th>atlas_code</th>\n",
       "      <th>id_observer</th>\n",
       "      <th>country</th>\n",
       "      <th>eea_grid_id</th>\n",
       "      <th>altitude</th>\n",
       "    </tr>\n",
       "  </thead>\n",
       "  <tbody>\n",
       "    <tr>\n",
       "      <th>0</th>\n",
       "      <td>29666972</td>\n",
       "      <td>8.0</td>\n",
       "      <td>Haubentaucher</td>\n",
       "      <td>2018-01-01</td>\n",
       "      <td>NaN</td>\n",
       "      <td>53.157760</td>\n",
       "      <td>8.676993</td>\n",
       "      <td>place</td>\n",
       "      <td>0.0</td>\n",
       "      <td>0</td>\n",
       "      <td>37718.0</td>\n",
       "      <td>de</td>\n",
       "      <td>50kmE4200N3300</td>\n",
       "      <td>-1.0</td>\n",
       "    </tr>\n",
       "    <tr>\n",
       "      <th>1</th>\n",
       "      <td>29654244</td>\n",
       "      <td>397.0</td>\n",
       "      <td>Schwarzkehlchen</td>\n",
       "      <td>2018-01-01</td>\n",
       "      <td>NaN</td>\n",
       "      <td>53.127639</td>\n",
       "      <td>8.957263</td>\n",
       "      <td>square</td>\n",
       "      <td>2.0</td>\n",
       "      <td>0</td>\n",
       "      <td>37803.0</td>\n",
       "      <td>de</td>\n",
       "      <td>50kmE4250N3300</td>\n",
       "      <td>0.0</td>\n",
       "    </tr>\n",
       "    <tr>\n",
       "      <th>2</th>\n",
       "      <td>29654521</td>\n",
       "      <td>463.0</td>\n",
       "      <td>Wiesenpieper</td>\n",
       "      <td>2018-01-01</td>\n",
       "      <td>NaN</td>\n",
       "      <td>50.850941</td>\n",
       "      <td>12.146953</td>\n",
       "      <td>place</td>\n",
       "      <td>2.0</td>\n",
       "      <td>0</td>\n",
       "      <td>39627.0</td>\n",
       "      <td>de</td>\n",
       "      <td>50kmE4450N3050</td>\n",
       "      <td>269.0</td>\n",
       "    </tr>\n",
       "    <tr>\n",
       "      <th>3</th>\n",
       "      <td>29666414</td>\n",
       "      <td>8.0</td>\n",
       "      <td>Haubentaucher</td>\n",
       "      <td>2018-01-01</td>\n",
       "      <td>NaN</td>\n",
       "      <td>51.076006</td>\n",
       "      <td>11.038316</td>\n",
       "      <td>place</td>\n",
       "      <td>8.0</td>\n",
       "      <td>0</td>\n",
       "      <td>38301.0</td>\n",
       "      <td>de</td>\n",
       "      <td>50kmE4350N3100</td>\n",
       "      <td>157.0</td>\n",
       "    </tr>\n",
       "    <tr>\n",
       "      <th>4</th>\n",
       "      <td>29656211</td>\n",
       "      <td>8.0</td>\n",
       "      <td>Haubentaucher</td>\n",
       "      <td>2018-01-01</td>\n",
       "      <td>NaN</td>\n",
       "      <td>51.389380</td>\n",
       "      <td>7.067282</td>\n",
       "      <td>place</td>\n",
       "      <td>10.0</td>\n",
       "      <td>0</td>\n",
       "      <td>108167.0</td>\n",
       "      <td>de</td>\n",
       "      <td>50kmE4100N3100</td>\n",
       "      <td>51.0</td>\n",
       "    </tr>\n",
       "  </tbody>\n",
       "</table>\n",
       "</div>"
      ],
      "text/plain": [
       "   id_sighting  id_species     name_species        date timing  coord_lat  coord_lon precision  total_count atlas_code  id_observer country     eea_grid_id  altitude\n",
       "0  29666972     8.0         Haubentaucher    2018-01-01  NaN    53.157760  8.676993   place     0.0          0          37718.0      de      50kmE4200N3300 -1.0     \n",
       "1  29654244     397.0       Schwarzkehlchen  2018-01-01  NaN    53.127639  8.957263   square    2.0          0          37803.0      de      50kmE4250N3300  0.0     \n",
       "2  29654521     463.0       Wiesenpieper     2018-01-01  NaN    50.850941  12.146953  place     2.0          0          39627.0      de      50kmE4450N3050  269.0   \n",
       "3  29666414     8.0         Haubentaucher    2018-01-01  NaN    51.076006  11.038316  place     8.0          0          38301.0      de      50kmE4350N3100  157.0   \n",
       "4  29656211     8.0         Haubentaucher    2018-01-01  NaN    51.389380  7.067282   place     10.0         0          108167.0     de      50kmE4100N3100  51.0    "
      ]
     },
     "execution_count": 13,
     "metadata": {},
     "output_type": "execute_result"
    }
   ],
   "source": [
    "df.loc[:, 'altitude'] = df.head(10).apply(lambda row: get_elevation_ee(row['coord_lat'], row['coord_lon']), axis=1)\n",
    "df.head(5)"
   ]
  },
  {
   "cell_type": "markdown",
   "metadata": {},
   "source": [
    "### Issues\n",
    "The shift from the two public API's to Earth Engine was expected to address previously encountered computational inefficiencies. Despite Earth Engine providing a robust geospatial analysis platform with extensive computational resources, the processing duration remains too high for our use case."
   ]
  },
  {
   "cell_type": "markdown",
   "metadata": {},
   "source": [
    "## 3rd approach: *European Digital Elevation Model* by EEA\n",
    "\n",
    "<img src=\"https://www.eea.europa.eu/logo.jpg\" alt=\"EEA Icon\" style=\"border-radius: 7px; width: 400px; height: auto;\">\n",
    "\n",
    "\n",
    "Due to prolonged computation times experienced with both registration-free API's and Earth Engine in extracting elevation data, it is opted to transition to a local computation approach. Despite the necessity to download files for this method, it holds the potential to address the issue of excessive processing times, as computations are now conducted locally rather than through an API.\n",
    "\n",
    "For this purpose, we are utilizing *EU_DEM* files. The EU_DEM (European Digital Elevation Model) is provided by the European Environment Agency (EEA). The EEA is an agency of the European Union that focuses on providing environmental information to support policy development and implementation in Europe. It is part of the Copernicus program, specifically managed by the Copernicus Land Monitoring Service (CLMS) [1]. \n",
    "\n",
    "The elevation data in the EU_DEM is derived from various sources, including satellite data and airborne measurements [1], and is processed to create a high-quality digital representation of the Earth's surface for the European continent. It is freely available for download and use.\n",
    "\n",
    "\n",
    "\n",
    "### Generation\n",
    "To retrieve the elevation data, EEA provides a module that allows to compute all elevation data for a dataframe at once. For more detailed code information, please visit *../utils/copernicus.py*."
   ]
  },
  {
   "cell_type": "code",
   "execution_count": 14,
   "metadata": {},
   "outputs": [],
   "source": [
    "copernicus = CopernicusDEM(raster_paths=[eu_dem_path + 'eu_dem_v11_E40N20.TIF', eu_dem_path + 'eu_dem_v11_E40N30.TIF'])\n",
    "df = copernicus.get_elevation(df, lat_col='coord_lat', lon_col='coord_lon')"
   ]
  },
  {
   "cell_type": "code",
   "execution_count": 15,
   "metadata": {},
   "outputs": [],
   "source": [
    "df['altitude'] = df['elevation']\n",
    "df.drop(columns=['elevation'], inplace=True)"
   ]
  },
  {
   "cell_type": "markdown",
   "metadata": {},
   "source": [
    "### Issues"
   ]
  },
  {
   "cell_type": "markdown",
   "metadata": {},
   "source": [
    "#### Issue: Incorrect altitude values due to EU_DEM borders"
   ]
  },
  {
   "cell_type": "code",
   "execution_count": 16,
   "metadata": {},
   "outputs": [
    {
     "name": "stdout",
     "output_type": "stream",
     "text": [
      "altitude\n",
      "-3.402823e+38    51606\n",
      " 3.913700e+02    33840\n",
      " 4.265330e+02    28527\n",
      " 3.182081e+02    12550\n",
      " 3.718830e+02    9445 \n",
      "                 ...  \n",
      " 8.830636e+02    1    \n",
      " 9.352755e+02    1    \n",
      " 7.191224e+02    1    \n",
      " 9.459383e+02    1    \n",
      " 8.021597e+02    1    \n",
      "Name: count, Length: 910675, dtype: int64\n"
     ]
    }
   ],
   "source": [
    "print(df.altitude.value_counts())"
   ]
  },
  {
   "cell_type": "code",
   "execution_count": 17,
   "metadata": {},
   "outputs": [
    {
     "data": {
      "text/html": [
       "<div>\n",
       "<style scoped>\n",
       "    .dataframe tbody tr th:only-of-type {\n",
       "        vertical-align: middle;\n",
       "    }\n",
       "\n",
       "    .dataframe tbody tr th {\n",
       "        vertical-align: top;\n",
       "    }\n",
       "\n",
       "    .dataframe thead th {\n",
       "        text-align: right;\n",
       "    }\n",
       "</style>\n",
       "<table border=\"1\" class=\"dataframe\">\n",
       "  <thead>\n",
       "    <tr style=\"text-align: right;\">\n",
       "      <th></th>\n",
       "      <th>id_sighting</th>\n",
       "      <th>id_species</th>\n",
       "      <th>name_species</th>\n",
       "      <th>date</th>\n",
       "      <th>timing</th>\n",
       "      <th>coord_lat</th>\n",
       "      <th>coord_lon</th>\n",
       "      <th>precision</th>\n",
       "      <th>total_count</th>\n",
       "      <th>atlas_code</th>\n",
       "      <th>id_observer</th>\n",
       "      <th>country</th>\n",
       "      <th>eea_grid_id</th>\n",
       "      <th>altitude</th>\n",
       "    </tr>\n",
       "  </thead>\n",
       "  <tbody>\n",
       "    <tr>\n",
       "      <th>56</th>\n",
       "      <td>29660454</td>\n",
       "      <td>8.0</td>\n",
       "      <td>Haubentaucher</td>\n",
       "      <td>2018-01-01</td>\n",
       "      <td>NaN</td>\n",
       "      <td>53.780461</td>\n",
       "      <td>7.947729</td>\n",
       "      <td>precise</td>\n",
       "      <td>1.0</td>\n",
       "      <td>0</td>\n",
       "      <td>77774.0</td>\n",
       "      <td>de</td>\n",
       "      <td>50kmE4150N3400</td>\n",
       "      <td>-3.402823e+38</td>\n",
       "    </tr>\n",
       "    <tr>\n",
       "      <th>131</th>\n",
       "      <td>29652796</td>\n",
       "      <td>158.0</td>\n",
       "      <td>Seeadler</td>\n",
       "      <td>2018-01-01</td>\n",
       "      <td>NaN</td>\n",
       "      <td>53.702563</td>\n",
       "      <td>7.740776</td>\n",
       "      <td>square</td>\n",
       "      <td>1.0</td>\n",
       "      <td>0</td>\n",
       "      <td>43003.0</td>\n",
       "      <td>de</td>\n",
       "      <td>50kmE4150N3400</td>\n",
       "      <td>-3.402823e+38</td>\n",
       "    </tr>\n",
       "    <tr>\n",
       "      <th>278</th>\n",
       "      <td>29667163</td>\n",
       "      <td>8.0</td>\n",
       "      <td>Haubentaucher</td>\n",
       "      <td>2018-01-01</td>\n",
       "      <td>NaN</td>\n",
       "      <td>54.505650</td>\n",
       "      <td>9.553208</td>\n",
       "      <td>precise</td>\n",
       "      <td>2.0</td>\n",
       "      <td>0</td>\n",
       "      <td>37768.0</td>\n",
       "      <td>de</td>\n",
       "      <td>50kmE4250N3450</td>\n",
       "      <td>-3.402823e+38</td>\n",
       "    </tr>\n",
       "    <tr>\n",
       "      <th>301</th>\n",
       "      <td>29655667</td>\n",
       "      <td>8.0</td>\n",
       "      <td>Haubentaucher</td>\n",
       "      <td>2018-01-01</td>\n",
       "      <td>02:44</td>\n",
       "      <td>54.758682</td>\n",
       "      <td>8.295368</td>\n",
       "      <td>precise</td>\n",
       "      <td>1.0</td>\n",
       "      <td>0</td>\n",
       "      <td>42717.0</td>\n",
       "      <td>de</td>\n",
       "      <td>50kmE4200N3500</td>\n",
       "      <td>-3.402823e+38</td>\n",
       "    </tr>\n",
       "    <tr>\n",
       "      <th>302</th>\n",
       "      <td>29653528</td>\n",
       "      <td>8.0</td>\n",
       "      <td>Haubentaucher</td>\n",
       "      <td>2018-01-01</td>\n",
       "      <td>03:14</td>\n",
       "      <td>54.758271</td>\n",
       "      <td>8.294853</td>\n",
       "      <td>precise</td>\n",
       "      <td>2.0</td>\n",
       "      <td>0</td>\n",
       "      <td>45902.0</td>\n",
       "      <td>de</td>\n",
       "      <td>50kmE4200N3500</td>\n",
       "      <td>-3.402823e+38</td>\n",
       "    </tr>\n",
       "  </tbody>\n",
       "</table>\n",
       "</div>"
      ],
      "text/plain": [
       "     id_sighting  id_species   name_species        date timing  coord_lat  coord_lon precision  total_count atlas_code  id_observer country     eea_grid_id      altitude\n",
       "56   29660454     8.0         Haubentaucher  2018-01-01  NaN    53.780461  7.947729   precise   1.0          0          77774.0      de      50kmE4150N3400 -3.402823e+38\n",
       "131  29652796     158.0       Seeadler       2018-01-01  NaN    53.702563  7.740776   square    1.0          0          43003.0      de      50kmE4150N3400 -3.402823e+38\n",
       "278  29667163     8.0         Haubentaucher  2018-01-01  NaN    54.505650  9.553208   precise   2.0          0          37768.0      de      50kmE4250N3450 -3.402823e+38\n",
       "301  29655667     8.0         Haubentaucher  2018-01-01  02:44  54.758682  8.295368   precise   1.0          0          42717.0      de      50kmE4200N3500 -3.402823e+38\n",
       "302  29653528     8.0         Haubentaucher  2018-01-01  03:14  54.758271  8.294853   precise   2.0          0          45902.0      de      50kmE4200N3500 -3.402823e+38"
      ]
     },
     "execution_count": 17,
     "metadata": {},
     "output_type": "execute_result"
    }
   ],
   "source": [
    "min_altitude = df.altitude.min()\n",
    "df_min_altitude = df[df.altitude == min_altitude]\n",
    "df_min_altitude.head(5)"
   ]
  },
  {
   "cell_type": "code",
   "execution_count": 18,
   "metadata": {},
   "outputs": [],
   "source": [
    "sample_rows = df_min_altitude.sample(n=100, random_state=1)"
   ]
  },
  {
   "cell_type": "code",
   "execution_count": 19,
   "metadata": {},
   "outputs": [
    {
     "data": {
      "application/vnd.plotly.v1+json": {
       "config": {
        "plotlyServerURL": "https://plot.ly"
       },
       "data": [
        {
         "hovertemplate": "<b>%{hovertext}</b><br><br>coord_lat=%{lat}<br>coord_lon=%{lon}<extra></extra>",
         "hovertext": [
          "Flussuferläufer"
         ],
         "lat": [
          53.937352
         ],
         "legendgroup": "",
         "lon": [
          11.395632
         ],
         "marker": {
          "color": [
           "#d00000"
          ]
         },
         "mode": "markers",
         "name": "",
         "showlegend": false,
         "subplot": "mapbox",
         "type": "scattermapbox"
        },
        {
         "hovertemplate": "<b>%{hovertext}</b><br><br>coord_lat=%{lat}<br>coord_lon=%{lon}<extra></extra>",
         "hovertext": [
          "Seeadler"
         ],
         "lat": [
          54.4858584960383
         ],
         "legendgroup": "",
         "lon": [
          12.5399826190539
         ],
         "marker": {
          "color": [
           "#d00000"
          ]
         },
         "mode": "markers",
         "name": "",
         "showlegend": false,
         "subplot": "mapbox",
         "type": "scattermapbox"
        },
        {
         "hovertemplate": "<b>%{hovertext}</b><br><br>coord_lat=%{lat}<br>coord_lon=%{lon}<extra></extra>",
         "hovertext": [
          "Bergente"
         ],
         "lat": [
          53.78009423159046
         ],
         "legendgroup": "",
         "lon": [
          7.6890369165352626
         ],
         "marker": {
          "color": [
           "#d00000"
          ]
         },
         "mode": "markers",
         "name": "",
         "showlegend": false,
         "subplot": "mapbox",
         "type": "scattermapbox"
        },
        {
         "hovertemplate": "<b>%{hovertext}</b><br><br>coord_lat=%{lat}<br>coord_lon=%{lon}<extra></extra>",
         "hovertext": [
          "Wiesenpieper"
         ],
         "lat": [
          54.2691741094404
         ],
         "legendgroup": "",
         "lon": [
          8.84058587697316
         ],
         "marker": {
          "color": [
           "#d00000"
          ]
         },
         "mode": "markers",
         "name": "",
         "showlegend": false,
         "subplot": "mapbox",
         "type": "scattermapbox"
        },
        {
         "hovertemplate": "<b>%{hovertext}</b><br><br>coord_lat=%{lat}<br>coord_lon=%{lon}<extra></extra>",
         "hovertext": [
          "Haubentaucher"
         ],
         "lat": [
          54.09046577017
         ],
         "legendgroup": "",
         "lon": [
          8.9879272667199
         ],
         "marker": {
          "color": [
           "#d00000"
          ]
         },
         "mode": "markers",
         "name": "",
         "showlegend": false,
         "subplot": "mapbox",
         "type": "scattermapbox"
        },
        {
         "hovertemplate": "<b>%{hovertext}</b><br><br>coord_lat=%{lat}<br>coord_lon=%{lon}<extra></extra>",
         "hovertext": [
          "Wiesenpieper"
         ],
         "lat": [
          54.178376
         ],
         "legendgroup": "",
         "lon": [
          7.882798
         ],
         "marker": {
          "color": [
           "#d00000"
          ]
         },
         "mode": "markers",
         "name": "",
         "showlegend": false,
         "subplot": "mapbox",
         "type": "scattermapbox"
        },
        {
         "hovertemplate": "<b>%{hovertext}</b><br><br>coord_lat=%{lat}<br>coord_lon=%{lon}<extra></extra>",
         "hovertext": [
          "Rohrammer"
         ],
         "lat": [
          53.894624044138
         ],
         "legendgroup": "",
         "lon": [
          9.0556497361084
         ],
         "marker": {
          "color": [
           "#d00000"
          ]
         },
         "mode": "markers",
         "name": "",
         "showlegend": false,
         "subplot": "mapbox",
         "type": "scattermapbox"
        },
        {
         "hovertemplate": "<b>%{hovertext}</b><br><br>coord_lat=%{lat}<br>coord_lon=%{lon}<extra></extra>",
         "hovertext": [
          "Wiesenpieper"
         ],
         "lat": [
          53.759993940898
         ],
         "legendgroup": "",
         "lon": [
          8.0155518986335
         ],
         "marker": {
          "color": [
           "#d00000"
          ]
         },
         "mode": "markers",
         "name": "",
         "showlegend": false,
         "subplot": "mapbox",
         "type": "scattermapbox"
        },
        {
         "hovertemplate": "<b>%{hovertext}</b><br><br>coord_lat=%{lat}<br>coord_lon=%{lon}<extra></extra>",
         "hovertext": [
          "Haubentaucher"
         ],
         "lat": [
          53.955986
         ],
         "legendgroup": "",
         "lon": [
          11.315247
         ],
         "marker": {
          "color": [
           "#d00000"
          ]
         },
         "mode": "markers",
         "name": "",
         "showlegend": false,
         "subplot": "mapbox",
         "type": "scattermapbox"
        },
        {
         "hovertemplate": "<b>%{hovertext}</b><br><br>coord_lat=%{lat}<br>coord_lon=%{lon}<extra></extra>",
         "hovertext": [
          "Haubentaucher"
         ],
         "lat": [
          54.168902
         ],
         "legendgroup": "",
         "lon": [
          11.970474
         ],
         "marker": {
          "color": [
           "#d00000"
          ]
         },
         "mode": "markers",
         "name": "",
         "showlegend": false,
         "subplot": "mapbox",
         "type": "scattermapbox"
        },
        {
         "hovertemplate": "<b>%{hovertext}</b><br><br>coord_lat=%{lat}<br>coord_lon=%{lon}<extra></extra>",
         "hovertext": [
          "Steinschmätzer"
         ],
         "lat": [
          54.19011256570325
         ],
         "legendgroup": "",
         "lon": [
          7.92008853698648
         ],
         "marker": {
          "color": [
           "#d00000"
          ]
         },
         "mode": "markers",
         "name": "",
         "showlegend": false,
         "subplot": "mapbox",
         "type": "scattermapbox"
        },
        {
         "hovertemplate": "<b>%{hovertext}</b><br><br>coord_lat=%{lat}<br>coord_lon=%{lon}<extra></extra>",
         "hovertext": [
          "Haubentaucher"
         ],
         "lat": [
          53.94708
         ],
         "legendgroup": "",
         "lon": [
          10.89568
         ],
         "marker": {
          "color": [
           "#d00000"
          ]
         },
         "mode": "markers",
         "name": "",
         "showlegend": false,
         "subplot": "mapbox",
         "type": "scattermapbox"
        },
        {
         "hovertemplate": "<b>%{hovertext}</b><br><br>coord_lat=%{lat}<br>coord_lon=%{lon}<extra></extra>",
         "hovertext": [
          "Bergente"
         ],
         "lat": [
          54.204889099509
         ],
         "legendgroup": "",
         "lon": [
          13.754956049859
         ],
         "marker": {
          "color": [
           "#d00000"
          ]
         },
         "mode": "markers",
         "name": "",
         "showlegend": false,
         "subplot": "mapbox",
         "type": "scattermapbox"
        },
        {
         "hovertemplate": "<b>%{hovertext}</b><br><br>coord_lat=%{lat}<br>coord_lon=%{lon}<extra></extra>",
         "hovertext": [
          "Wiesenpieper"
         ],
         "lat": [
          54.5191702271984
         ],
         "legendgroup": "",
         "lon": [
          11.173534748704
         ],
         "marker": {
          "color": [
           "#d00000"
          ]
         },
         "mode": "markers",
         "name": "",
         "showlegend": false,
         "subplot": "mapbox",
         "type": "scattermapbox"
        },
        {
         "hovertemplate": "<b>%{hovertext}</b><br><br>coord_lat=%{lat}<br>coord_lon=%{lon}<extra></extra>",
         "hovertext": [
          "Flussuferläufer"
         ],
         "lat": [
          53.727296335121
         ],
         "legendgroup": "",
         "lon": [
          7.3598595760233
         ],
         "marker": {
          "color": [
           "#d00000"
          ]
         },
         "mode": "markers",
         "name": "",
         "showlegend": false,
         "subplot": "mapbox",
         "type": "scattermapbox"
        },
        {
         "hovertemplate": "<b>%{hovertext}</b><br><br>coord_lat=%{lat}<br>coord_lon=%{lon}<extra></extra>",
         "hovertext": [
          "Wiesenpieper"
         ],
         "lat": [
          54.18273998754658
         ],
         "legendgroup": "",
         "lon": [
          7.919286608222827
         ],
         "marker": {
          "color": [
           "#d00000"
          ]
         },
         "mode": "markers",
         "name": "",
         "showlegend": false,
         "subplot": "mapbox",
         "type": "scattermapbox"
        },
        {
         "hovertemplate": "<b>%{hovertext}</b><br><br>coord_lat=%{lat}<br>coord_lon=%{lon}<extra></extra>",
         "hovertext": [
          "Haubentaucher"
         ],
         "lat": [
          54.094215195893
         ],
         "legendgroup": "",
         "lon": [
          10.8902617398948
         ],
         "marker": {
          "color": [
           "#d00000"
          ]
         },
         "mode": "markers",
         "name": "",
         "showlegend": false,
         "subplot": "mapbox",
         "type": "scattermapbox"
        },
        {
         "hovertemplate": "<b>%{hovertext}</b><br><br>coord_lat=%{lat}<br>coord_lon=%{lon}<extra></extra>",
         "hovertext": [
          "Steinschmätzer"
         ],
         "lat": [
          53.668974
         ],
         "legendgroup": "",
         "lon": [
          6.988549
         ],
         "marker": {
          "color": [
           "#d00000"
          ]
         },
         "mode": "markers",
         "name": "",
         "showlegend": false,
         "subplot": "mapbox",
         "type": "scattermapbox"
        },
        {
         "hovertemplate": "<b>%{hovertext}</b><br><br>coord_lat=%{lat}<br>coord_lon=%{lon}<extra></extra>",
         "hovertext": [
          "Bergente"
         ],
         "lat": [
          53.91
         ],
         "legendgroup": "",
         "lon": [
          10.927
         ],
         "marker": {
          "color": [
           "#d00000"
          ]
         },
         "mode": "markers",
         "name": "",
         "showlegend": false,
         "subplot": "mapbox",
         "type": "scattermapbox"
        },
        {
         "hovertemplate": "<b>%{hovertext}</b><br><br>coord_lat=%{lat}<br>coord_lon=%{lon}<extra></extra>",
         "hovertext": [
          "Seeadler"
         ],
         "lat": [
          54.287706
         ],
         "legendgroup": "",
         "lon": [
          8.848414
         ],
         "marker": {
          "color": [
           "#d00000"
          ]
         },
         "mode": "markers",
         "name": "",
         "showlegend": false,
         "subplot": "mapbox",
         "type": "scattermapbox"
        },
        {
         "hovertemplate": "<b>%{hovertext}</b><br><br>coord_lat=%{lat}<br>coord_lon=%{lon}<extra></extra>",
         "hovertext": [
          "Haubentaucher"
         ],
         "lat": [
          54.646436
         ],
         "legendgroup": "",
         "lon": [
          13.400857
         ],
         "marker": {
          "color": [
           "#d00000"
          ]
         },
         "mode": "markers",
         "name": "",
         "showlegend": false,
         "subplot": "mapbox",
         "type": "scattermapbox"
        },
        {
         "hovertemplate": "<b>%{hovertext}</b><br><br>coord_lat=%{lat}<br>coord_lon=%{lon}<extra></extra>",
         "hovertext": [
          "Seeadler"
         ],
         "lat": [
          54.14035995611
         ],
         "legendgroup": "",
         "lon": [
          13.426860382973
         ],
         "marker": {
          "color": [
           "#d00000"
          ]
         },
         "mode": "markers",
         "name": "",
         "showlegend": false,
         "subplot": "mapbox",
         "type": "scattermapbox"
        },
        {
         "hovertemplate": "<b>%{hovertext}</b><br><br>coord_lat=%{lat}<br>coord_lon=%{lon}<extra></extra>",
         "hovertext": [
          "Bergente"
         ],
         "lat": [
          54.68705
         ],
         "legendgroup": "",
         "lon": [
          13.3781
         ],
         "marker": {
          "color": [
           "#d00000"
          ]
         },
         "mode": "markers",
         "name": "",
         "showlegend": false,
         "subplot": "mapbox",
         "type": "scattermapbox"
        },
        {
         "hovertemplate": "<b>%{hovertext}</b><br><br>coord_lat=%{lat}<br>coord_lon=%{lon}<extra></extra>",
         "hovertext": [
          "Bergente"
         ],
         "lat": [
          53.956636290354
         ],
         "legendgroup": "",
         "lon": [
          11.283231328168
         ],
         "marker": {
          "color": [
           "#d00000"
          ]
         },
         "mode": "markers",
         "name": "",
         "showlegend": false,
         "subplot": "mapbox",
         "type": "scattermapbox"
        },
        {
         "hovertemplate": "<b>%{hovertext}</b><br><br>coord_lat=%{lat}<br>coord_lon=%{lon}<extra></extra>",
         "hovertext": [
          "Rohrammer"
         ],
         "lat": [
          54.530913
         ],
         "legendgroup": "",
         "lon": [
          11.059456
         ],
         "marker": {
          "color": [
           "#d00000"
          ]
         },
         "mode": "markers",
         "name": "",
         "showlegend": false,
         "subplot": "mapbox",
         "type": "scattermapbox"
        },
        {
         "hovertemplate": "<b>%{hovertext}</b><br><br>coord_lat=%{lat}<br>coord_lon=%{lon}<extra></extra>",
         "hovertext": [
          "Rostgans"
         ],
         "lat": [
          53.331108
         ],
         "legendgroup": "",
         "lon": [
          7.240254
         ],
         "marker": {
          "color": [
           "#d00000"
          ]
         },
         "mode": "markers",
         "name": "",
         "showlegend": false,
         "subplot": "mapbox",
         "type": "scattermapbox"
        },
        {
         "hovertemplate": "<b>%{hovertext}</b><br><br>coord_lat=%{lat}<br>coord_lon=%{lon}<extra></extra>",
         "hovertext": [
          "Bergente"
         ],
         "lat": [
          54.18590546025675
         ],
         "legendgroup": "",
         "lon": [
          13.72314786302417
         ],
         "marker": {
          "color": [
           "#d00000"
          ]
         },
         "mode": "markers",
         "name": "",
         "showlegend": false,
         "subplot": "mapbox",
         "type": "scattermapbox"
        },
        {
         "hovertemplate": "<b>%{hovertext}</b><br><br>coord_lat=%{lat}<br>coord_lon=%{lon}<extra></extra>",
         "hovertext": [
          "Seeadler"
         ],
         "lat": [
          54.4819
         ],
         "legendgroup": "",
         "lon": [
          12.535622
         ],
         "marker": {
          "color": [
           "#d00000"
          ]
         },
         "mode": "markers",
         "name": "",
         "showlegend": false,
         "subplot": "mapbox",
         "type": "scattermapbox"
        },
        {
         "hovertemplate": "<b>%{hovertext}</b><br><br>coord_lat=%{lat}<br>coord_lon=%{lon}<extra></extra>",
         "hovertext": [
          "Seeadler"
         ],
         "lat": [
          54.186425
         ],
         "legendgroup": "",
         "lon": [
          13.769761
         ],
         "marker": {
          "color": [
           "#d00000"
          ]
         },
         "mode": "markers",
         "name": "",
         "showlegend": false,
         "subplot": "mapbox",
         "type": "scattermapbox"
        },
        {
         "hovertemplate": "<b>%{hovertext}</b><br><br>coord_lat=%{lat}<br>coord_lon=%{lon}<extra></extra>",
         "hovertext": [
          "Steinschmätzer"
         ],
         "lat": [
          54.4608203059115
         ],
         "legendgroup": "",
         "lon": [
          8.9905565208412
         ],
         "marker": {
          "color": [
           "#d00000"
          ]
         },
         "mode": "markers",
         "name": "",
         "showlegend": false,
         "subplot": "mapbox",
         "type": "scattermapbox"
        },
        {
         "hovertemplate": "<b>%{hovertext}</b><br><br>coord_lat=%{lat}<br>coord_lon=%{lon}<extra></extra>",
         "hovertext": [
          "Knäkente"
         ],
         "lat": [
          54.870647978232
         ],
         "legendgroup": "",
         "lon": [
          8.3183953597741
         ],
         "marker": {
          "color": [
           "#d00000"
          ]
         },
         "mode": "markers",
         "name": "",
         "showlegend": false,
         "subplot": "mapbox",
         "type": "scattermapbox"
        },
        {
         "hovertemplate": "<b>%{hovertext}</b><br><br>coord_lat=%{lat}<br>coord_lon=%{lon}<extra></extra>",
         "hovertext": [
          "Flussuferläufer"
         ],
         "lat": [
          54.496729
         ],
         "legendgroup": "",
         "lon": [
          9.711914
         ],
         "marker": {
          "color": [
           "#d00000"
          ]
         },
         "mode": "markers",
         "name": "",
         "showlegend": false,
         "subplot": "mapbox",
         "type": "scattermapbox"
        },
        {
         "hovertemplate": "<b>%{hovertext}</b><br><br>coord_lat=%{lat}<br>coord_lon=%{lon}<extra></extra>",
         "hovertext": [
          "Wiesenpieper"
         ],
         "lat": [
          54.838864
         ],
         "legendgroup": "",
         "lon": [
          8.610749
         ],
         "marker": {
          "color": [
           "#d00000"
          ]
         },
         "mode": "markers",
         "name": "",
         "showlegend": false,
         "subplot": "mapbox",
         "type": "scattermapbox"
        },
        {
         "hovertemplate": "<b>%{hovertext}</b><br><br>coord_lat=%{lat}<br>coord_lon=%{lon}<extra></extra>",
         "hovertext": [
          "Seeadler"
         ],
         "lat": [
          53.48541
         ],
         "legendgroup": "",
         "lon": [
          8.061905
         ],
         "marker": {
          "color": [
           "#d00000"
          ]
         },
         "mode": "markers",
         "name": "",
         "showlegend": false,
         "subplot": "mapbox",
         "type": "scattermapbox"
        },
        {
         "hovertemplate": "<b>%{hovertext}</b><br><br>coord_lat=%{lat}<br>coord_lon=%{lon}<extra></extra>",
         "hovertext": [
          "Haubentaucher"
         ],
         "lat": [
          54.11486
         ],
         "legendgroup": "",
         "lon": [
          10.81008
         ],
         "marker": {
          "color": [
           "#d00000"
          ]
         },
         "mode": "markers",
         "name": "",
         "showlegend": false,
         "subplot": "mapbox",
         "type": "scattermapbox"
        },
        {
         "hovertemplate": "<b>%{hovertext}</b><br><br>coord_lat=%{lat}<br>coord_lon=%{lon}<extra></extra>",
         "hovertext": [
          "Schwarzkehlchen"
         ],
         "lat": [
          54.177168022246
         ],
         "legendgroup": "",
         "lon": [
          7.8864455223162
         ],
         "marker": {
          "color": [
           "#d00000"
          ]
         },
         "mode": "markers",
         "name": "",
         "showlegend": false,
         "subplot": "mapbox",
         "type": "scattermapbox"
        },
        {
         "hovertemplate": "<b>%{hovertext}</b><br><br>coord_lat=%{lat}<br>coord_lon=%{lon}<extra></extra>",
         "hovertext": [
          "Flussuferläufer"
         ],
         "lat": [
          54.18113
         ],
         "legendgroup": "",
         "lon": [
          7.880548
         ],
         "marker": {
          "color": [
           "#d00000"
          ]
         },
         "mode": "markers",
         "name": "",
         "showlegend": false,
         "subplot": "mapbox",
         "type": "scattermapbox"
        },
        {
         "hovertemplate": "<b>%{hovertext}</b><br><br>coord_lat=%{lat}<br>coord_lon=%{lon}<extra></extra>",
         "hovertext": [
          "Haubentaucher"
         ],
         "lat": [
          54.690301
         ],
         "legendgroup": "",
         "lon": [
          8.57401
         ],
         "marker": {
          "color": [
           "#d00000"
          ]
         },
         "mode": "markers",
         "name": "",
         "showlegend": false,
         "subplot": "mapbox",
         "type": "scattermapbox"
        },
        {
         "hovertemplate": "<b>%{hovertext}</b><br><br>coord_lat=%{lat}<br>coord_lon=%{lon}<extra></extra>",
         "hovertext": [
          "Seeadler"
         ],
         "lat": [
          53.9359042560841
         ],
         "legendgroup": "",
         "lon": [
          11.2568753713986
         ],
         "marker": {
          "color": [
           "#d00000"
          ]
         },
         "mode": "markers",
         "name": "",
         "showlegend": false,
         "subplot": "mapbox",
         "type": "scattermapbox"
        },
        {
         "hovertemplate": "<b>%{hovertext}</b><br><br>coord_lat=%{lat}<br>coord_lon=%{lon}<extra></extra>",
         "hovertext": [
          "Rostgans"
         ],
         "lat": [
          53.661069
         ],
         "legendgroup": "",
         "lon": [
          8.483332
         ],
         "marker": {
          "color": [
           "#d00000"
          ]
         },
         "mode": "markers",
         "name": "",
         "showlegend": false,
         "subplot": "mapbox",
         "type": "scattermapbox"
        },
        {
         "hovertemplate": "<b>%{hovertext}</b><br><br>coord_lat=%{lat}<br>coord_lon=%{lon}<extra></extra>",
         "hovertext": [
          "Braunkehlchen"
         ],
         "lat": [
          54.177629172196
         ],
         "legendgroup": "",
         "lon": [
          7.88419075744
         ],
         "marker": {
          "color": [
           "#d00000"
          ]
         },
         "mode": "markers",
         "name": "",
         "showlegend": false,
         "subplot": "mapbox",
         "type": "scattermapbox"
        },
        {
         "hovertemplate": "<b>%{hovertext}</b><br><br>coord_lat=%{lat}<br>coord_lon=%{lon}<extra></extra>",
         "hovertext": [
          "Steinschmätzer"
         ],
         "lat": [
          54.18635
         ],
         "legendgroup": "",
         "lon": [
          7.90262
         ],
         "marker": {
          "color": [
           "#d00000"
          ]
         },
         "mode": "markers",
         "name": "",
         "showlegend": false,
         "subplot": "mapbox",
         "type": "scattermapbox"
        },
        {
         "hovertemplate": "<b>%{hovertext}</b><br><br>coord_lat=%{lat}<br>coord_lon=%{lon}<extra></extra>",
         "hovertext": [
          "Schwarzkehlchen"
         ],
         "lat": [
          54.177168022246
         ],
         "legendgroup": "",
         "lon": [
          7.8864455223162
         ],
         "marker": {
          "color": [
           "#d00000"
          ]
         },
         "mode": "markers",
         "name": "",
         "showlegend": false,
         "subplot": "mapbox",
         "type": "scattermapbox"
        },
        {
         "hovertemplate": "<b>%{hovertext}</b><br><br>coord_lat=%{lat}<br>coord_lon=%{lon}<extra></extra>",
         "hovertext": [
          "Steinschmätzer"
         ],
         "lat": [
          53.721773
         ],
         "legendgroup": "",
         "lon": [
          8.502001
         ],
         "marker": {
          "color": [
           "#d00000"
          ]
         },
         "mode": "markers",
         "name": "",
         "showlegend": false,
         "subplot": "mapbox",
         "type": "scattermapbox"
        },
        {
         "hovertemplate": "<b>%{hovertext}</b><br><br>coord_lat=%{lat}<br>coord_lon=%{lon}<extra></extra>",
         "hovertext": [
          "Haubentaucher"
         ],
         "lat": [
          54.204444
         ],
         "legendgroup": "",
         "lon": [
          13.772821
         ],
         "marker": {
          "color": [
           "#d00000"
          ]
         },
         "mode": "markers",
         "name": "",
         "showlegend": false,
         "subplot": "mapbox",
         "type": "scattermapbox"
        },
        {
         "hovertemplate": "<b>%{hovertext}</b><br><br>coord_lat=%{lat}<br>coord_lon=%{lon}<extra></extra>",
         "hovertext": [
          "Schwarzkehlchen"
         ],
         "lat": [
          54.188431699542
         ],
         "legendgroup": "",
         "lon": [
          7.9109072685013
         ],
         "marker": {
          "color": [
           "#d00000"
          ]
         },
         "mode": "markers",
         "name": "",
         "showlegend": false,
         "subplot": "mapbox",
         "type": "scattermapbox"
        },
        {
         "hovertemplate": "<b>%{hovertext}</b><br><br>coord_lat=%{lat}<br>coord_lon=%{lon}<extra></extra>",
         "hovertext": [
          "Singschwan"
         ],
         "lat": [
          53.934193
         ],
         "legendgroup": "",
         "lon": [
          11.257582
         ],
         "marker": {
          "color": [
           "#d00000"
          ]
         },
         "mode": "markers",
         "name": "",
         "showlegend": false,
         "subplot": "mapbox",
         "type": "scattermapbox"
        },
        {
         "hovertemplate": "<b>%{hovertext}</b><br><br>coord_lat=%{lat}<br>coord_lon=%{lon}<extra></extra>",
         "hovertext": [
          "Seeadler"
         ],
         "lat": [
          54.0441999136515
         ],
         "legendgroup": "",
         "lon": [
          8.85725567301878
         ],
         "marker": {
          "color": [
           "#d00000"
          ]
         },
         "mode": "markers",
         "name": "",
         "showlegend": false,
         "subplot": "mapbox",
         "type": "scattermapbox"
        },
        {
         "hovertemplate": "<b>%{hovertext}</b><br><br>coord_lat=%{lat}<br>coord_lon=%{lon}<extra></extra>",
         "hovertext": [
          "Schwarzkehlchen"
         ],
         "lat": [
          53.666694642839
         ],
         "legendgroup": "",
         "lon": [
          6.9184825069029
         ],
         "marker": {
          "color": [
           "#d00000"
          ]
         },
         "mode": "markers",
         "name": "",
         "showlegend": false,
         "subplot": "mapbox",
         "type": "scattermapbox"
        },
        {
         "hovertemplate": "<b>%{hovertext}</b><br><br>coord_lat=%{lat}<br>coord_lon=%{lon}<extra></extra>",
         "hovertext": [
          "Wiesenpieper"
         ],
         "lat": [
          53.876088
         ],
         "legendgroup": "",
         "lon": [
          8.701
         ],
         "marker": {
          "color": [
           "#d00000"
          ]
         },
         "mode": "markers",
         "name": "",
         "showlegend": false,
         "subplot": "mapbox",
         "type": "scattermapbox"
        },
        {
         "hovertemplate": "<b>%{hovertext}</b><br><br>coord_lat=%{lat}<br>coord_lon=%{lon}<extra></extra>",
         "hovertext": [
          "Seeadler"
         ],
         "lat": [
          54.467594
         ],
         "legendgroup": "",
         "lon": [
          9.892443
         ],
         "marker": {
          "color": [
           "#d00000"
          ]
         },
         "mode": "markers",
         "name": "",
         "showlegend": false,
         "subplot": "mapbox",
         "type": "scattermapbox"
        },
        {
         "hovertemplate": "<b>%{hovertext}</b><br><br>coord_lat=%{lat}<br>coord_lon=%{lon}<extra></extra>",
         "hovertext": [
          "Haubentaucher"
         ],
         "lat": [
          53.890181425414895
         ],
         "legendgroup": "",
         "lon": [
          8.686159656923312
         ],
         "marker": {
          "color": [
           "#d00000"
          ]
         },
         "mode": "markers",
         "name": "",
         "showlegend": false,
         "subplot": "mapbox",
         "type": "scattermapbox"
        },
        {
         "hovertemplate": "<b>%{hovertext}</b><br><br>coord_lat=%{lat}<br>coord_lon=%{lon}<extra></extra>",
         "hovertext": [
          "Haubentaucher"
         ],
         "lat": [
          54.090832
         ],
         "legendgroup": "",
         "lon": [
          8.986601
         ],
         "marker": {
          "color": [
           "#d00000"
          ]
         },
         "mode": "markers",
         "name": "",
         "showlegend": false,
         "subplot": "mapbox",
         "type": "scattermapbox"
        },
        {
         "hovertemplate": "<b>%{hovertext}</b><br><br>coord_lat=%{lat}<br>coord_lon=%{lon}<extra></extra>",
         "hovertext": [
          "Braunkehlchen"
         ],
         "lat": [
          53.759993940898
         ],
         "legendgroup": "",
         "lon": [
          8.0155518986335
         ],
         "marker": {
          "color": [
           "#d00000"
          ]
         },
         "mode": "markers",
         "name": "",
         "showlegend": false,
         "subplot": "mapbox",
         "type": "scattermapbox"
        },
        {
         "hovertemplate": "<b>%{hovertext}</b><br><br>coord_lat=%{lat}<br>coord_lon=%{lon}<extra></extra>",
         "hovertext": [
          "Flussuferläufer"
         ],
         "lat": [
          54.27547
         ],
         "legendgroup": "",
         "lon": [
          8.875556
         ],
         "marker": {
          "color": [
           "#d00000"
          ]
         },
         "mode": "markers",
         "name": "",
         "showlegend": false,
         "subplot": "mapbox",
         "type": "scattermapbox"
        },
        {
         "hovertemplate": "<b>%{hovertext}</b><br><br>coord_lat=%{lat}<br>coord_lon=%{lon}<extra></extra>",
         "hovertext": [
          "Knäkente"
         ],
         "lat": [
          54.405475489743
         ],
         "legendgroup": "",
         "lon": [
          12.665705701524
         ],
         "marker": {
          "color": [
           "#d00000"
          ]
         },
         "mode": "markers",
         "name": "",
         "showlegend": false,
         "subplot": "mapbox",
         "type": "scattermapbox"
        },
        {
         "hovertemplate": "<b>%{hovertext}</b><br><br>coord_lat=%{lat}<br>coord_lon=%{lon}<extra></extra>",
         "hovertext": [
          "Braunkehlchen"
         ],
         "lat": [
          54.189215
         ],
         "legendgroup": "",
         "lon": [
          7.883507
         ],
         "marker": {
          "color": [
           "#d00000"
          ]
         },
         "mode": "markers",
         "name": "",
         "showlegend": false,
         "subplot": "mapbox",
         "type": "scattermapbox"
        },
        {
         "hovertemplate": "<b>%{hovertext}</b><br><br>coord_lat=%{lat}<br>coord_lon=%{lon}<extra></extra>",
         "hovertext": [
          "Schwarzkehlchen"
         ],
         "lat": [
          54.517578
         ],
         "legendgroup": "",
         "lon": [
          11.170666
         ],
         "marker": {
          "color": [
           "#d00000"
          ]
         },
         "mode": "markers",
         "name": "",
         "showlegend": false,
         "subplot": "mapbox",
         "type": "scattermapbox"
        },
        {
         "hovertemplate": "<b>%{hovertext}</b><br><br>coord_lat=%{lat}<br>coord_lon=%{lon}<extra></extra>",
         "hovertext": [
          "Seeadler"
         ],
         "lat": [
          53.70114
         ],
         "legendgroup": "",
         "lon": [
          14.220422
         ],
         "marker": {
          "color": [
           "#d00000"
          ]
         },
         "mode": "markers",
         "name": "",
         "showlegend": false,
         "subplot": "mapbox",
         "type": "scattermapbox"
        },
        {
         "hovertemplate": "<b>%{hovertext}</b><br><br>coord_lat=%{lat}<br>coord_lon=%{lon}<extra></extra>",
         "hovertext": [
          "Rohrammer"
         ],
         "lat": [
          53.68081300669001
         ],
         "legendgroup": "",
         "lon": [
          7.585191779802497
         ],
         "marker": {
          "color": [
           "#d00000"
          ]
         },
         "mode": "markers",
         "name": "",
         "showlegend": false,
         "subplot": "mapbox",
         "type": "scattermapbox"
        },
        {
         "hovertemplate": "<b>%{hovertext}</b><br><br>coord_lat=%{lat}<br>coord_lon=%{lon}<extra></extra>",
         "hovertext": [
          "Seeadler"
         ],
         "lat": [
          54.245165
         ],
         "legendgroup": "",
         "lon": [
          13.909464
         ],
         "marker": {
          "color": [
           "#d00000"
          ]
         },
         "mode": "markers",
         "name": "",
         "showlegend": false,
         "subplot": "mapbox",
         "type": "scattermapbox"
        },
        {
         "hovertemplate": "<b>%{hovertext}</b><br><br>coord_lat=%{lat}<br>coord_lon=%{lon}<extra></extra>",
         "hovertext": [
          "Haubentaucher"
         ],
         "lat": [
          54.182504041339
         ],
         "legendgroup": "",
         "lon": [
          12.09709014874
         ],
         "marker": {
          "color": [
           "#d00000"
          ]
         },
         "mode": "markers",
         "name": "",
         "showlegend": false,
         "subplot": "mapbox",
         "type": "scattermapbox"
        },
        {
         "hovertemplate": "<b>%{hovertext}</b><br><br>coord_lat=%{lat}<br>coord_lon=%{lon}<extra></extra>",
         "hovertext": [
          "Karmingimpel"
         ],
         "lat": [
          54.09849
         ],
         "legendgroup": "",
         "lon": [
          11.617918
         ],
         "marker": {
          "color": [
           "#d00000"
          ]
         },
         "mode": "markers",
         "name": "",
         "showlegend": false,
         "subplot": "mapbox",
         "type": "scattermapbox"
        },
        {
         "hovertemplate": "<b>%{hovertext}</b><br><br>coord_lat=%{lat}<br>coord_lon=%{lon}<extra></extra>",
         "hovertext": [
          "Flussuferläufer"
         ],
         "lat": [
          54.271841
         ],
         "legendgroup": "",
         "lon": [
          8.880518
         ],
         "marker": {
          "color": [
           "#d00000"
          ]
         },
         "mode": "markers",
         "name": "",
         "showlegend": false,
         "subplot": "mapbox",
         "type": "scattermapbox"
        },
        {
         "hovertemplate": "<b>%{hovertext}</b><br><br>coord_lat=%{lat}<br>coord_lon=%{lon}<extra></extra>",
         "hovertext": [
          "Flussuferläufer"
         ],
         "lat": [
          53.749361
         ],
         "legendgroup": "",
         "lon": [
          7.628993
         ],
         "marker": {
          "color": [
           "#d00000"
          ]
         },
         "mode": "markers",
         "name": "",
         "showlegend": false,
         "subplot": "mapbox",
         "type": "scattermapbox"
        },
        {
         "hovertemplate": "<b>%{hovertext}</b><br><br>coord_lat=%{lat}<br>coord_lon=%{lon}<extra></extra>",
         "hovertext": [
          "Seeadler"
         ],
         "lat": [
          54.572855
         ],
         "legendgroup": "",
         "lon": [
          13.487734
         ],
         "marker": {
          "color": [
           "#d00000"
          ]
         },
         "mode": "markers",
         "name": "",
         "showlegend": false,
         "subplot": "mapbox",
         "type": "scattermapbox"
        },
        {
         "hovertemplate": "<b>%{hovertext}</b><br><br>coord_lat=%{lat}<br>coord_lon=%{lon}<extra></extra>",
         "hovertext": [
          "Flussuferläufer"
         ],
         "lat": [
          54.342919
         ],
         "legendgroup": "",
         "lon": [
          10.155959
         ],
         "marker": {
          "color": [
           "#d00000"
          ]
         },
         "mode": "markers",
         "name": "",
         "showlegend": false,
         "subplot": "mapbox",
         "type": "scattermapbox"
        },
        {
         "hovertemplate": "<b>%{hovertext}</b><br><br>coord_lat=%{lat}<br>coord_lon=%{lon}<extra></extra>",
         "hovertext": [
          "Wiesenpieper"
         ],
         "lat": [
          53.759993940898
         ],
         "legendgroup": "",
         "lon": [
          8.0155518986335
         ],
         "marker": {
          "color": [
           "#d00000"
          ]
         },
         "mode": "markers",
         "name": "",
         "showlegend": false,
         "subplot": "mapbox",
         "type": "scattermapbox"
        },
        {
         "hovertemplate": "<b>%{hovertext}</b><br><br>coord_lat=%{lat}<br>coord_lon=%{lon}<extra></extra>",
         "hovertext": [
          "Haubentaucher"
         ],
         "lat": [
          54.76114793685
         ],
         "legendgroup": "",
         "lon": [
          8.2990342938223
         ],
         "marker": {
          "color": [
           "#d00000"
          ]
         },
         "mode": "markers",
         "name": "",
         "showlegend": false,
         "subplot": "mapbox",
         "type": "scattermapbox"
        },
        {
         "hovertemplate": "<b>%{hovertext}</b><br><br>coord_lat=%{lat}<br>coord_lon=%{lon}<extra></extra>",
         "hovertext": [
          "Berghänfling"
         ],
         "lat": [
          54.434751236307
         ],
         "legendgroup": "",
         "lon": [
          10.314400095911
         ],
         "marker": {
          "color": [
           "#d00000"
          ]
         },
         "mode": "markers",
         "name": "",
         "showlegend": false,
         "subplot": "mapbox",
         "type": "scattermapbox"
        },
        {
         "hovertemplate": "<b>%{hovertext}</b><br><br>coord_lat=%{lat}<br>coord_lon=%{lon}<extra></extra>",
         "hovertext": [
          "Flussuferläufer"
         ],
         "lat": [
          54.519607
         ],
         "legendgroup": "",
         "lon": [
          11.170092
         ],
         "marker": {
          "color": [
           "#d00000"
          ]
         },
         "mode": "markers",
         "name": "",
         "showlegend": false,
         "subplot": "mapbox",
         "type": "scattermapbox"
        },
        {
         "hovertemplate": "<b>%{hovertext}</b><br><br>coord_lat=%{lat}<br>coord_lon=%{lon}<extra></extra>",
         "hovertext": [
          "Haubentaucher"
         ],
         "lat": [
          53.764868
         ],
         "legendgroup": "",
         "lon": [
          7.69717
         ],
         "marker": {
          "color": [
           "#d00000"
          ]
         },
         "mode": "markers",
         "name": "",
         "showlegend": false,
         "subplot": "mapbox",
         "type": "scattermapbox"
        },
        {
         "hovertemplate": "<b>%{hovertext}</b><br><br>coord_lat=%{lat}<br>coord_lon=%{lon}<extra></extra>",
         "hovertext": [
          "Flussuferläufer"
         ],
         "lat": [
          53.686765
         ],
         "legendgroup": "",
         "lon": [
          8.479918
         ],
         "marker": {
          "color": [
           "#d00000"
          ]
         },
         "mode": "markers",
         "name": "",
         "showlegend": false,
         "subplot": "mapbox",
         "type": "scattermapbox"
        },
        {
         "hovertemplate": "<b>%{hovertext}</b><br><br>coord_lat=%{lat}<br>coord_lon=%{lon}<extra></extra>",
         "hovertext": [
          "Bergpieper"
         ],
         "lat": [
          53.4775837603614
         ],
         "legendgroup": "",
         "lon": [
          7.02422754053566
         ],
         "marker": {
          "color": [
           "#d00000"
          ]
         },
         "mode": "markers",
         "name": "",
         "showlegend": false,
         "subplot": "mapbox",
         "type": "scattermapbox"
        },
        {
         "hovertemplate": "<b>%{hovertext}</b><br><br>coord_lat=%{lat}<br>coord_lon=%{lon}<extra></extra>",
         "hovertext": [
          "Haubentaucher"
         ],
         "lat": [
          54.5191706316881
         ],
         "legendgroup": "",
         "lon": [
          11.2068627428334
         ],
         "marker": {
          "color": [
           "#d00000"
          ]
         },
         "mode": "markers",
         "name": "",
         "showlegend": false,
         "subplot": "mapbox",
         "type": "scattermapbox"
        },
        {
         "hovertemplate": "<b>%{hovertext}</b><br><br>coord_lat=%{lat}<br>coord_lon=%{lon}<extra></extra>",
         "hovertext": [
          "Flussuferläufer"
         ],
         "lat": [
          54.350888
         ],
         "legendgroup": "",
         "lon": [
          10.624988
         ],
         "marker": {
          "color": [
           "#d00000"
          ]
         },
         "mode": "markers",
         "name": "",
         "showlegend": false,
         "subplot": "mapbox",
         "type": "scattermapbox"
        },
        {
         "hovertemplate": "<b>%{hovertext}</b><br><br>coord_lat=%{lat}<br>coord_lon=%{lon}<extra></extra>",
         "hovertext": [
          "Haubentaucher"
         ],
         "lat": [
          54.152724
         ],
         "legendgroup": "",
         "lon": [
          11.87487
         ],
         "marker": {
          "color": [
           "#d00000"
          ]
         },
         "mode": "markers",
         "name": "",
         "showlegend": false,
         "subplot": "mapbox",
         "type": "scattermapbox"
        },
        {
         "hovertemplate": "<b>%{hovertext}</b><br><br>coord_lat=%{lat}<br>coord_lon=%{lon}<extra></extra>",
         "hovertext": [
          "Wiesenpieper"
         ],
         "lat": [
          54.518079284448
         ],
         "legendgroup": "",
         "lon": [
          13.085450730348
         ],
         "marker": {
          "color": [
           "#d00000"
          ]
         },
         "mode": "markers",
         "name": "",
         "showlegend": false,
         "subplot": "mapbox",
         "type": "scattermapbox"
        },
        {
         "hovertemplate": "<b>%{hovertext}</b><br><br>coord_lat=%{lat}<br>coord_lon=%{lon}<extra></extra>",
         "hovertext": [
          "Haubentaucher"
         ],
         "lat": [
          54.3608805312988
         ],
         "legendgroup": "",
         "lon": [
          13.0898997264083
         ],
         "marker": {
          "color": [
           "#d00000"
          ]
         },
         "mode": "markers",
         "name": "",
         "showlegend": false,
         "subplot": "mapbox",
         "type": "scattermapbox"
        },
        {
         "hovertemplate": "<b>%{hovertext}</b><br><br>coord_lat=%{lat}<br>coord_lon=%{lon}<extra></extra>",
         "hovertext": [
          "Haubentaucher"
         ],
         "lat": [
          54.193322
         ],
         "legendgroup": "",
         "lon": [
          7.907628
         ],
         "marker": {
          "color": [
           "#d00000"
          ]
         },
         "mode": "markers",
         "name": "",
         "showlegend": false,
         "subplot": "mapbox",
         "type": "scattermapbox"
        },
        {
         "hovertemplate": "<b>%{hovertext}</b><br><br>coord_lat=%{lat}<br>coord_lon=%{lon}<extra></extra>",
         "hovertext": [
          "Bergente"
         ],
         "lat": [
          53.9859014402464
         ],
         "legendgroup": "",
         "lon": [
          11.4901697742602
         ],
         "marker": {
          "color": [
           "#d00000"
          ]
         },
         "mode": "markers",
         "name": "",
         "showlegend": false,
         "subplot": "mapbox",
         "type": "scattermapbox"
        },
        {
         "hovertemplate": "<b>%{hovertext}</b><br><br>coord_lat=%{lat}<br>coord_lon=%{lon}<extra></extra>",
         "hovertext": [
          "Berghänfling"
         ],
         "lat": [
          54.4941499717657
         ],
         "legendgroup": "",
         "lon": [
          9.00721953974422
         ],
         "marker": {
          "color": [
           "#d00000"
          ]
         },
         "mode": "markers",
         "name": "",
         "showlegend": false,
         "subplot": "mapbox",
         "type": "scattermapbox"
        },
        {
         "hovertemplate": "<b>%{hovertext}</b><br><br>coord_lat=%{lat}<br>coord_lon=%{lon}<extra></extra>",
         "hovertext": [
          "Rohrammer"
         ],
         "lat": [
          54.748952779971
         ],
         "legendgroup": "",
         "lon": [
          8.6976514702425
         ],
         "marker": {
          "color": [
           "#d00000"
          ]
         },
         "mode": "markers",
         "name": "",
         "showlegend": false,
         "subplot": "mapbox",
         "type": "scattermapbox"
        },
        {
         "hovertemplate": "<b>%{hovertext}</b><br><br>coord_lat=%{lat}<br>coord_lon=%{lon}<extra></extra>",
         "hovertext": [
          "Rohrammer"
         ],
         "lat": [
          54.0108975650828
         ],
         "legendgroup": "",
         "lon": [
          11.4068488427977
         ],
         "marker": {
          "color": [
           "#d00000"
          ]
         },
         "mode": "markers",
         "name": "",
         "showlegend": false,
         "subplot": "mapbox",
         "type": "scattermapbox"
        },
        {
         "hovertemplate": "<b>%{hovertext}</b><br><br>coord_lat=%{lat}<br>coord_lon=%{lon}<extra></extra>",
         "hovertext": [
          "Haubentaucher"
         ],
         "lat": [
          54.155505
         ],
         "legendgroup": "",
         "lon": [
          11.717211
         ],
         "marker": {
          "color": [
           "#d00000"
          ]
         },
         "mode": "markers",
         "name": "",
         "showlegend": false,
         "subplot": "mapbox",
         "type": "scattermapbox"
        },
        {
         "hovertemplate": "<b>%{hovertext}</b><br><br>coord_lat=%{lat}<br>coord_lon=%{lon}<extra></extra>",
         "hovertext": [
          "Wiesenpieper"
         ],
         "lat": [
          54.3108338463463
         ],
         "legendgroup": "",
         "lon": [
          8.59062517557949
         ],
         "marker": {
          "color": [
           "#d00000"
          ]
         },
         "mode": "markers",
         "name": "",
         "showlegend": false,
         "subplot": "mapbox",
         "type": "scattermapbox"
        },
        {
         "hovertemplate": "<b>%{hovertext}</b><br><br>coord_lat=%{lat}<br>coord_lon=%{lon}<extra></extra>",
         "hovertext": [
          "Flussuferläufer"
         ],
         "lat": [
          54.909267426292
         ],
         "legendgroup": "",
         "lon": [
          8.2904504031879
         ],
         "marker": {
          "color": [
           "#d00000"
          ]
         },
         "mode": "markers",
         "name": "",
         "showlegend": false,
         "subplot": "mapbox",
         "type": "scattermapbox"
        },
        {
         "hovertemplate": "<b>%{hovertext}</b><br><br>coord_lat=%{lat}<br>coord_lon=%{lon}<extra></extra>",
         "hovertext": [
          "Wiesenpieper"
         ],
         "lat": [
          54.026539
         ],
         "legendgroup": "",
         "lon": [
          11.494961
         ],
         "marker": {
          "color": [
           "#d00000"
          ]
         },
         "mode": "markers",
         "name": "",
         "showlegend": false,
         "subplot": "mapbox",
         "type": "scattermapbox"
        },
        {
         "hovertemplate": "<b>%{hovertext}</b><br><br>coord_lat=%{lat}<br>coord_lon=%{lon}<extra></extra>",
         "hovertext": [
          "Bergente"
         ],
         "lat": [
          54.3108549214025
         ],
         "legendgroup": "",
         "lon": [
          10.6902865279801
         ],
         "marker": {
          "color": [
           "#d00000"
          ]
         },
         "mode": "markers",
         "name": "",
         "showlegend": false,
         "subplot": "mapbox",
         "type": "scattermapbox"
        },
        {
         "hovertemplate": "<b>%{hovertext}</b><br><br>coord_lat=%{lat}<br>coord_lon=%{lon}<extra></extra>",
         "hovertext": [
          "Seeadler"
         ],
         "lat": [
          54.88992570723616
         ],
         "legendgroup": "",
         "lon": [
          8.596394474106065
         ],
         "marker": {
          "color": [
           "#d00000"
          ]
         },
         "mode": "markers",
         "name": "",
         "showlegend": false,
         "subplot": "mapbox",
         "type": "scattermapbox"
        },
        {
         "hovertemplate": "<b>%{hovertext}</b><br><br>coord_lat=%{lat}<br>coord_lon=%{lon}<extra></extra>",
         "hovertext": [
          "Haubentaucher"
         ],
         "lat": [
          53.686995
         ],
         "legendgroup": "",
         "lon": [
          8.482468
         ],
         "marker": {
          "color": [
           "#d00000"
          ]
         },
         "mode": "markers",
         "name": "",
         "showlegend": false,
         "subplot": "mapbox",
         "type": "scattermapbox"
        },
        {
         "hovertemplate": "<b>%{hovertext}</b><br><br>coord_lat=%{lat}<br>coord_lon=%{lon}<extra></extra>",
         "hovertext": [
          "Haubentaucher"
         ],
         "lat": [
          53.9359042560841
         ],
         "legendgroup": "",
         "lon": [
          11.2568753713986
         ],
         "marker": {
          "color": [
           "#d00000"
          ]
         },
         "mode": "markers",
         "name": "",
         "showlegend": false,
         "subplot": "mapbox",
         "type": "scattermapbox"
        },
        {
         "hovertemplate": "<b>%{hovertext}</b><br><br>coord_lat=%{lat}<br>coord_lon=%{lon}<extra></extra>",
         "hovertext": [
          "Haubentaucher"
         ],
         "lat": [
          54.1442188529187
         ],
         "legendgroup": "",
         "lon": [
          11.6568041258399
         ],
         "marker": {
          "color": [
           "#d00000"
          ]
         },
         "mode": "markers",
         "name": "",
         "showlegend": false,
         "subplot": "mapbox",
         "type": "scattermapbox"
        },
        {
         "hovertemplate": "<b>%{hovertext}</b><br><br>coord_lat=%{lat}<br>coord_lon=%{lon}<extra></extra>",
         "hovertext": [
          "Haubentaucher"
         ],
         "lat": [
          54.430437
         ],
         "legendgroup": "",
         "lon": [
          10.295698
         ],
         "marker": {
          "color": [
           "#d00000"
          ]
         },
         "mode": "markers",
         "name": "",
         "showlegend": false,
         "subplot": "mapbox",
         "type": "scattermapbox"
        },
        {
         "hovertemplate": "<b>%{hovertext}</b><br><br>coord_lat=%{lat}<br>coord_lon=%{lon}<extra></extra>",
         "hovertext": [
          "Bergente"
         ],
         "lat": [
          54.349750101296
         ],
         "legendgroup": "",
         "lon": [
          10.624523793662
         ],
         "marker": {
          "color": [
           "#d00000"
          ]
         },
         "mode": "markers",
         "name": "",
         "showlegend": false,
         "subplot": "mapbox",
         "type": "scattermapbox"
        },
        {
         "hovertemplate": "<b>%{hovertext}</b><br><br>coord_lat=%{lat}<br>coord_lon=%{lon}<extra></extra>",
         "hovertext": [
          "Seeadler"
         ],
         "lat": [
          53.4026012973272
         ],
         "legendgroup": "",
         "lon": [
          8.25736684172322
         ],
         "marker": {
          "color": [
           "#d00000"
          ]
         },
         "mode": "markers",
         "name": "",
         "showlegend": false,
         "subplot": "mapbox",
         "type": "scattermapbox"
        },
        {
         "hovertemplate": "<b>%{hovertext}</b><br><br>coord_lat=%{lat}<br>coord_lon=%{lon}<extra></extra>",
         "hovertext": [
          "Steinschmätzer"
         ],
         "lat": [
          53.62978494260256
         ],
         "legendgroup": "",
         "lon": [
          8.50307721401819
         ],
         "marker": {
          "color": [
           "#d00000"
          ]
         },
         "mode": "markers",
         "name": "",
         "showlegend": false,
         "subplot": "mapbox",
         "type": "scattermapbox"
        },
        {
         "hovertemplate": "<b>%{hovertext}</b><br><br>coord_lat=%{lat}<br>coord_lon=%{lon}<extra></extra>",
         "hovertext": [
          "Berghänfling"
         ],
         "lat": [
          54.7191216131872
         ],
         "legendgroup": "",
         "lon": [
          8.70726232084424
         ],
         "marker": {
          "color": [
           "#d00000"
          ]
         },
         "mode": "markers",
         "name": "",
         "showlegend": false,
         "subplot": "mapbox",
         "type": "scattermapbox"
        },
        {
         "hovertemplate": "<b>%{hovertext}</b><br><br>coord_lat=%{lat}<br>coord_lon=%{lon}<extra></extra>",
         "hovertext": [
          "Flussuferläufer"
         ],
         "lat": [
          54.529406
         ],
         "legendgroup": "",
         "lon": [
          11.063573
         ],
         "marker": {
          "color": [
           "#d00000"
          ]
         },
         "mode": "markers",
         "name": "",
         "showlegend": false,
         "subplot": "mapbox",
         "type": "scattermapbox"
        },
        {
         "hovertemplate": "<b>%{hovertext}</b><br><br>coord_lat=%{lat}<br>coord_lon=%{lon}<extra></extra>",
         "hovertext": [
          "Flussuferläufer"
         ],
         "lat": [
          53.877027773082
         ],
         "legendgroup": "",
         "lon": [
          8.700407550993
         ],
         "marker": {
          "color": [
           "#d00000"
          ]
         },
         "mode": "markers",
         "name": "",
         "showlegend": false,
         "subplot": "mapbox",
         "type": "scattermapbox"
        }
       ],
       "layout": {
        "mapbox": {
         "center": {
          "lat": 55,
          "lon": 10
         },
         "style": "open-street-map",
         "zoom": 5
        },
        "margin": {
         "b": 0,
         "l": 0,
         "r": 0,
         "t": 0
        },
        "showlegend": false,
        "template": {
         "data": {
          "bar": [
           {
            "error_x": {
             "color": "#2a3f5f"
            },
            "error_y": {
             "color": "#2a3f5f"
            },
            "marker": {
             "line": {
              "color": "#E5ECF6",
              "width": 0.5
             },
             "pattern": {
              "fillmode": "overlay",
              "size": 10,
              "solidity": 0.2
             }
            },
            "type": "bar"
           }
          ],
          "barpolar": [
           {
            "marker": {
             "line": {
              "color": "#E5ECF6",
              "width": 0.5
             },
             "pattern": {
              "fillmode": "overlay",
              "size": 10,
              "solidity": 0.2
             }
            },
            "type": "barpolar"
           }
          ],
          "carpet": [
           {
            "aaxis": {
             "endlinecolor": "#2a3f5f",
             "gridcolor": "white",
             "linecolor": "white",
             "minorgridcolor": "white",
             "startlinecolor": "#2a3f5f"
            },
            "baxis": {
             "endlinecolor": "#2a3f5f",
             "gridcolor": "white",
             "linecolor": "white",
             "minorgridcolor": "white",
             "startlinecolor": "#2a3f5f"
            },
            "type": "carpet"
           }
          ],
          "choropleth": [
           {
            "colorbar": {
             "outlinewidth": 0,
             "ticks": ""
            },
            "type": "choropleth"
           }
          ],
          "contour": [
           {
            "colorbar": {
             "outlinewidth": 0,
             "ticks": ""
            },
            "colorscale": [
             [
              0,
              "#0d0887"
             ],
             [
              0.1111111111111111,
              "#46039f"
             ],
             [
              0.2222222222222222,
              "#7201a8"
             ],
             [
              0.3333333333333333,
              "#9c179e"
             ],
             [
              0.4444444444444444,
              "#bd3786"
             ],
             [
              0.5555555555555556,
              "#d8576b"
             ],
             [
              0.6666666666666666,
              "#ed7953"
             ],
             [
              0.7777777777777778,
              "#fb9f3a"
             ],
             [
              0.8888888888888888,
              "#fdca26"
             ],
             [
              1,
              "#f0f921"
             ]
            ],
            "type": "contour"
           }
          ],
          "contourcarpet": [
           {
            "colorbar": {
             "outlinewidth": 0,
             "ticks": ""
            },
            "type": "contourcarpet"
           }
          ],
          "heatmap": [
           {
            "colorbar": {
             "outlinewidth": 0,
             "ticks": ""
            },
            "colorscale": [
             [
              0,
              "#0d0887"
             ],
             [
              0.1111111111111111,
              "#46039f"
             ],
             [
              0.2222222222222222,
              "#7201a8"
             ],
             [
              0.3333333333333333,
              "#9c179e"
             ],
             [
              0.4444444444444444,
              "#bd3786"
             ],
             [
              0.5555555555555556,
              "#d8576b"
             ],
             [
              0.6666666666666666,
              "#ed7953"
             ],
             [
              0.7777777777777778,
              "#fb9f3a"
             ],
             [
              0.8888888888888888,
              "#fdca26"
             ],
             [
              1,
              "#f0f921"
             ]
            ],
            "type": "heatmap"
           }
          ],
          "heatmapgl": [
           {
            "colorbar": {
             "outlinewidth": 0,
             "ticks": ""
            },
            "colorscale": [
             [
              0,
              "#0d0887"
             ],
             [
              0.1111111111111111,
              "#46039f"
             ],
             [
              0.2222222222222222,
              "#7201a8"
             ],
             [
              0.3333333333333333,
              "#9c179e"
             ],
             [
              0.4444444444444444,
              "#bd3786"
             ],
             [
              0.5555555555555556,
              "#d8576b"
             ],
             [
              0.6666666666666666,
              "#ed7953"
             ],
             [
              0.7777777777777778,
              "#fb9f3a"
             ],
             [
              0.8888888888888888,
              "#fdca26"
             ],
             [
              1,
              "#f0f921"
             ]
            ],
            "type": "heatmapgl"
           }
          ],
          "histogram": [
           {
            "marker": {
             "pattern": {
              "fillmode": "overlay",
              "size": 10,
              "solidity": 0.2
             }
            },
            "type": "histogram"
           }
          ],
          "histogram2d": [
           {
            "colorbar": {
             "outlinewidth": 0,
             "ticks": ""
            },
            "colorscale": [
             [
              0,
              "#0d0887"
             ],
             [
              0.1111111111111111,
              "#46039f"
             ],
             [
              0.2222222222222222,
              "#7201a8"
             ],
             [
              0.3333333333333333,
              "#9c179e"
             ],
             [
              0.4444444444444444,
              "#bd3786"
             ],
             [
              0.5555555555555556,
              "#d8576b"
             ],
             [
              0.6666666666666666,
              "#ed7953"
             ],
             [
              0.7777777777777778,
              "#fb9f3a"
             ],
             [
              0.8888888888888888,
              "#fdca26"
             ],
             [
              1,
              "#f0f921"
             ]
            ],
            "type": "histogram2d"
           }
          ],
          "histogram2dcontour": [
           {
            "colorbar": {
             "outlinewidth": 0,
             "ticks": ""
            },
            "colorscale": [
             [
              0,
              "#0d0887"
             ],
             [
              0.1111111111111111,
              "#46039f"
             ],
             [
              0.2222222222222222,
              "#7201a8"
             ],
             [
              0.3333333333333333,
              "#9c179e"
             ],
             [
              0.4444444444444444,
              "#bd3786"
             ],
             [
              0.5555555555555556,
              "#d8576b"
             ],
             [
              0.6666666666666666,
              "#ed7953"
             ],
             [
              0.7777777777777778,
              "#fb9f3a"
             ],
             [
              0.8888888888888888,
              "#fdca26"
             ],
             [
              1,
              "#f0f921"
             ]
            ],
            "type": "histogram2dcontour"
           }
          ],
          "mesh3d": [
           {
            "colorbar": {
             "outlinewidth": 0,
             "ticks": ""
            },
            "type": "mesh3d"
           }
          ],
          "parcoords": [
           {
            "line": {
             "colorbar": {
              "outlinewidth": 0,
              "ticks": ""
             }
            },
            "type": "parcoords"
           }
          ],
          "pie": [
           {
            "automargin": true,
            "type": "pie"
           }
          ],
          "scatter": [
           {
            "fillpattern": {
             "fillmode": "overlay",
             "size": 10,
             "solidity": 0.2
            },
            "type": "scatter"
           }
          ],
          "scatter3d": [
           {
            "line": {
             "colorbar": {
              "outlinewidth": 0,
              "ticks": ""
             }
            },
            "marker": {
             "colorbar": {
              "outlinewidth": 0,
              "ticks": ""
             }
            },
            "type": "scatter3d"
           }
          ],
          "scattercarpet": [
           {
            "marker": {
             "colorbar": {
              "outlinewidth": 0,
              "ticks": ""
             }
            },
            "type": "scattercarpet"
           }
          ],
          "scattergeo": [
           {
            "marker": {
             "colorbar": {
              "outlinewidth": 0,
              "ticks": ""
             }
            },
            "type": "scattergeo"
           }
          ],
          "scattergl": [
           {
            "marker": {
             "colorbar": {
              "outlinewidth": 0,
              "ticks": ""
             }
            },
            "type": "scattergl"
           }
          ],
          "scattermapbox": [
           {
            "marker": {
             "colorbar": {
              "outlinewidth": 0,
              "ticks": ""
             }
            },
            "type": "scattermapbox"
           }
          ],
          "scatterpolar": [
           {
            "marker": {
             "colorbar": {
              "outlinewidth": 0,
              "ticks": ""
             }
            },
            "type": "scatterpolar"
           }
          ],
          "scatterpolargl": [
           {
            "marker": {
             "colorbar": {
              "outlinewidth": 0,
              "ticks": ""
             }
            },
            "type": "scatterpolargl"
           }
          ],
          "scatterternary": [
           {
            "marker": {
             "colorbar": {
              "outlinewidth": 0,
              "ticks": ""
             }
            },
            "type": "scatterternary"
           }
          ],
          "surface": [
           {
            "colorbar": {
             "outlinewidth": 0,
             "ticks": ""
            },
            "colorscale": [
             [
              0,
              "#0d0887"
             ],
             [
              0.1111111111111111,
              "#46039f"
             ],
             [
              0.2222222222222222,
              "#7201a8"
             ],
             [
              0.3333333333333333,
              "#9c179e"
             ],
             [
              0.4444444444444444,
              "#bd3786"
             ],
             [
              0.5555555555555556,
              "#d8576b"
             ],
             [
              0.6666666666666666,
              "#ed7953"
             ],
             [
              0.7777777777777778,
              "#fb9f3a"
             ],
             [
              0.8888888888888888,
              "#fdca26"
             ],
             [
              1,
              "#f0f921"
             ]
            ],
            "type": "surface"
           }
          ],
          "table": [
           {
            "cells": {
             "fill": {
              "color": "#EBF0F8"
             },
             "line": {
              "color": "white"
             }
            },
            "header": {
             "fill": {
              "color": "#C8D4E3"
             },
             "line": {
              "color": "white"
             }
            },
            "type": "table"
           }
          ]
         },
         "layout": {
          "annotationdefaults": {
           "arrowcolor": "#2a3f5f",
           "arrowhead": 0,
           "arrowwidth": 1
          },
          "autotypenumbers": "strict",
          "coloraxis": {
           "colorbar": {
            "outlinewidth": 0,
            "ticks": ""
           }
          },
          "colorscale": {
           "diverging": [
            [
             0,
             "#8e0152"
            ],
            [
             0.1,
             "#c51b7d"
            ],
            [
             0.2,
             "#de77ae"
            ],
            [
             0.3,
             "#f1b6da"
            ],
            [
             0.4,
             "#fde0ef"
            ],
            [
             0.5,
             "#f7f7f7"
            ],
            [
             0.6,
             "#e6f5d0"
            ],
            [
             0.7,
             "#b8e186"
            ],
            [
             0.8,
             "#7fbc41"
            ],
            [
             0.9,
             "#4d9221"
            ],
            [
             1,
             "#276419"
            ]
           ],
           "sequential": [
            [
             0,
             "#0d0887"
            ],
            [
             0.1111111111111111,
             "#46039f"
            ],
            [
             0.2222222222222222,
             "#7201a8"
            ],
            [
             0.3333333333333333,
             "#9c179e"
            ],
            [
             0.4444444444444444,
             "#bd3786"
            ],
            [
             0.5555555555555556,
             "#d8576b"
            ],
            [
             0.6666666666666666,
             "#ed7953"
            ],
            [
             0.7777777777777778,
             "#fb9f3a"
            ],
            [
             0.8888888888888888,
             "#fdca26"
            ],
            [
             1,
             "#f0f921"
            ]
           ],
           "sequentialminus": [
            [
             0,
             "#0d0887"
            ],
            [
             0.1111111111111111,
             "#46039f"
            ],
            [
             0.2222222222222222,
             "#7201a8"
            ],
            [
             0.3333333333333333,
             "#9c179e"
            ],
            [
             0.4444444444444444,
             "#bd3786"
            ],
            [
             0.5555555555555556,
             "#d8576b"
            ],
            [
             0.6666666666666666,
             "#ed7953"
            ],
            [
             0.7777777777777778,
             "#fb9f3a"
            ],
            [
             0.8888888888888888,
             "#fdca26"
            ],
            [
             1,
             "#f0f921"
            ]
           ]
          },
          "colorway": [
           "#636efa",
           "#EF553B",
           "#00cc96",
           "#ab63fa",
           "#FFA15A",
           "#19d3f3",
           "#FF6692",
           "#B6E880",
           "#FF97FF",
           "#FECB52"
          ],
          "font": {
           "color": "#2a3f5f"
          },
          "geo": {
           "bgcolor": "white",
           "lakecolor": "white",
           "landcolor": "#E5ECF6",
           "showlakes": true,
           "showland": true,
           "subunitcolor": "white"
          },
          "hoverlabel": {
           "align": "left"
          },
          "hovermode": "closest",
          "mapbox": {
           "style": "light"
          },
          "paper_bgcolor": "white",
          "plot_bgcolor": "#E5ECF6",
          "polar": {
           "angularaxis": {
            "gridcolor": "white",
            "linecolor": "white",
            "ticks": ""
           },
           "bgcolor": "#E5ECF6",
           "radialaxis": {
            "gridcolor": "white",
            "linecolor": "white",
            "ticks": ""
           }
          },
          "scene": {
           "xaxis": {
            "backgroundcolor": "#E5ECF6",
            "gridcolor": "white",
            "gridwidth": 2,
            "linecolor": "white",
            "showbackground": true,
            "ticks": "",
            "zerolinecolor": "white"
           },
           "yaxis": {
            "backgroundcolor": "#E5ECF6",
            "gridcolor": "white",
            "gridwidth": 2,
            "linecolor": "white",
            "showbackground": true,
            "ticks": "",
            "zerolinecolor": "white"
           },
           "zaxis": {
            "backgroundcolor": "#E5ECF6",
            "gridcolor": "white",
            "gridwidth": 2,
            "linecolor": "white",
            "showbackground": true,
            "ticks": "",
            "zerolinecolor": "white"
           }
          },
          "shapedefaults": {
           "line": {
            "color": "#2a3f5f"
           }
          },
          "ternary": {
           "aaxis": {
            "gridcolor": "white",
            "linecolor": "white",
            "ticks": ""
           },
           "baxis": {
            "gridcolor": "white",
            "linecolor": "white",
            "ticks": ""
           },
           "bgcolor": "#E5ECF6",
           "caxis": {
            "gridcolor": "white",
            "linecolor": "white",
            "ticks": ""
           }
          },
          "title": {
           "x": 0.05
          },
          "xaxis": {
           "automargin": true,
           "gridcolor": "white",
           "linecolor": "white",
           "ticks": "",
           "title": {
            "standoff": 15
           },
           "zerolinecolor": "white",
           "zerolinewidth": 2
          },
          "yaxis": {
           "automargin": true,
           "gridcolor": "white",
           "linecolor": "white",
           "ticks": "",
           "title": {
            "standoff": 15
           },
           "zerolinecolor": "white",
           "zerolinewidth": 2
          }
         }
        }
       }
      }
     },
     "metadata": {},
     "output_type": "display_data"
    }
   ],
   "source": [
    "layout = go.Layout(mapbox=dict(style='open-street-map', zoom=10), showlegend=False, margin=dict(l=0, r=0, t=0, b=0))\n",
    "fig = go.Figure(layout=layout)\n",
    "\n",
    "def add_trace(row):\n",
    "    bird_sighting = row.copy()\n",
    "    bird_sighting['color'] = '#d00000'\n",
    "    geometry = gpd.points_from_xy([bird_sighting['coord_lon']], [bird_sighting['coord_lat']])\n",
    "    gdf_data_point = gpd.GeoDataFrame([bird_sighting], geometry=geometry, crs='EPSG:4326')\n",
    "\n",
    "    fig.add_trace(px.scatter_mapbox(gdf_data_point,\n",
    "                    lat='coord_lat', lon='coord_lon', size_max=10, color_discrete_sequence=[gdf_data_point.color],\n",
    "                    hover_name=gdf_data_point['name_species']).data[0]) \n",
    "\n",
    "sample_rows.apply(add_trace, axis=1)\n",
    "\n",
    "fig.update_layout(mapbox_style='open-street-map', mapbox_zoom=5, mapbox_center={'lat': 55, 'lon': 10})\n",
    "fig.show()\n"
   ]
  },
  {
   "cell_type": "markdown",
   "metadata": {},
   "source": [
    "#### Solution: Incorporate one of the above mentioned APIs\n",
    "We can generate the elevation data agin for those values which were calculated not correctly.\n",
    "Later on we can replace them in the dataframe"
   ]
  },
  {
   "cell_type": "code",
   "execution_count": 33,
   "metadata": {},
   "outputs": [],
   "source": [
    "# runtime for 50k columns: about 3h\n",
    "df_min_altitude.loc[:, 'altitude'] = df_min_altitude.head(1000).apply(lambda row: get_elevation_ee(row['coord_lat'], row['coord_lon']), axis=1)"
   ]
  },
  {
   "cell_type": "code",
   "execution_count": null,
   "metadata": {},
   "outputs": [
    {
     "data": {
      "text/html": [
       "<div>\n",
       "<style scoped>\n",
       "    .dataframe tbody tr th:only-of-type {\n",
       "        vertical-align: middle;\n",
       "    }\n",
       "\n",
       "    .dataframe tbody tr th {\n",
       "        vertical-align: top;\n",
       "    }\n",
       "\n",
       "    .dataframe thead th {\n",
       "        text-align: right;\n",
       "    }\n",
       "</style>\n",
       "<table border=\"1\" class=\"dataframe\">\n",
       "  <thead>\n",
       "    <tr style=\"text-align: right;\">\n",
       "      <th></th>\n",
       "      <th>id_sighting</th>\n",
       "      <th>id_species</th>\n",
       "      <th>name_species</th>\n",
       "      <th>date</th>\n",
       "      <th>coord_lat</th>\n",
       "      <th>coord_lon</th>\n",
       "      <th>total_count</th>\n",
       "      <th>atlas_code</th>\n",
       "      <th>country</th>\n",
       "      <th>eea_grid_id</th>\n",
       "      <th>urban_area_percent</th>\n",
       "      <th>industrial_area_percent</th>\n",
       "      <th>agriculture_area_percent</th>\n",
       "      <th>forest_area_percent</th>\n",
       "      <th>grassland_area_percent</th>\n",
       "      <th>shrubland_area_percent</th>\n",
       "      <th>coastal_area_percent</th>\n",
       "      <th>rocky_area_percent</th>\n",
       "      <th>sparsley_vegetated_area_percent</th>\n",
       "      <th>burnt_area_percent</th>\n",
       "      <th>glacier_area_percent</th>\n",
       "      <th>wetlands_area_percent</th>\n",
       "      <th>water_area_percent</th>\n",
       "      <th>land_use_coord</th>\n",
       "      <th>land_use_coord_numeric</th>\n",
       "      <th>unclassified_area_percent</th>\n",
       "      <th>altitude</th>\n",
       "    </tr>\n",
       "  </thead>\n",
       "  <tbody>\n",
       "    <tr>\n",
       "      <th>2018382</th>\n",
       "      <td>63621895</td>\n",
       "      <td>463</td>\n",
       "      <td>Wiesenpieper</td>\n",
       "      <td>2021-12-31</td>\n",
       "      <td>53.720317</td>\n",
       "      <td>7.407022</td>\n",
       "      <td>3</td>\n",
       "      <td>NaN</td>\n",
       "      <td>de</td>\n",
       "      <td>50kmE4100N3400</td>\n",
       "      <td>0.000000</td>\n",
       "      <td>0.0</td>\n",
       "      <td>0.000000</td>\n",
       "      <td>0.000000</td>\n",
       "      <td>0.000106</td>\n",
       "      <td>0.0</td>\n",
       "      <td>0.0</td>\n",
       "      <td>0.0</td>\n",
       "      <td>0.0</td>\n",
       "      <td>0.0</td>\n",
       "      <td>0.0</td>\n",
       "      <td>0.999894</td>\n",
       "      <td>0.000000</td>\n",
       "      <td>wetlands</td>\n",
       "      <td>13</td>\n",
       "      <td>0.0</td>\n",
       "      <td>None</td>\n",
       "    </tr>\n",
       "    <tr>\n",
       "      <th>2018528</th>\n",
       "      <td>74075515</td>\n",
       "      <td>52</td>\n",
       "      <td>Singschwan</td>\n",
       "      <td>2022-12-31</td>\n",
       "      <td>54.567683</td>\n",
       "      <td>13.407219</td>\n",
       "      <td>0</td>\n",
       "      <td>NaN</td>\n",
       "      <td>de</td>\n",
       "      <td>50kmE4500N3500</td>\n",
       "      <td>0.000000</td>\n",
       "      <td>0.0</td>\n",
       "      <td>0.000000</td>\n",
       "      <td>0.030988</td>\n",
       "      <td>0.000000</td>\n",
       "      <td>0.0</td>\n",
       "      <td>0.0</td>\n",
       "      <td>0.0</td>\n",
       "      <td>0.0</td>\n",
       "      <td>0.0</td>\n",
       "      <td>0.0</td>\n",
       "      <td>0.000000</td>\n",
       "      <td>0.969012</td>\n",
       "      <td>water</td>\n",
       "      <td>14</td>\n",
       "      <td>0.0</td>\n",
       "      <td>None</td>\n",
       "    </tr>\n",
       "    <tr>\n",
       "      <th>2018690</th>\n",
       "      <td>74096151</td>\n",
       "      <td>503</td>\n",
       "      <td>Berghänfling</td>\n",
       "      <td>2022-12-31</td>\n",
       "      <td>54.395487</td>\n",
       "      <td>8.658754</td>\n",
       "      <td>100</td>\n",
       "      <td>NaN</td>\n",
       "      <td>de</td>\n",
       "      <td>50kmE4200N3450</td>\n",
       "      <td>0.000000</td>\n",
       "      <td>0.0</td>\n",
       "      <td>0.336060</td>\n",
       "      <td>0.000000</td>\n",
       "      <td>0.000000</td>\n",
       "      <td>0.0</td>\n",
       "      <td>0.0</td>\n",
       "      <td>0.0</td>\n",
       "      <td>0.0</td>\n",
       "      <td>0.0</td>\n",
       "      <td>0.0</td>\n",
       "      <td>0.663940</td>\n",
       "      <td>0.000000</td>\n",
       "      <td>wetlands</td>\n",
       "      <td>13</td>\n",
       "      <td>0.0</td>\n",
       "      <td>None</td>\n",
       "    </tr>\n",
       "    <tr>\n",
       "      <th>2018692</th>\n",
       "      <td>74096147</td>\n",
       "      <td>158</td>\n",
       "      <td>Seeadler</td>\n",
       "      <td>2022-12-31</td>\n",
       "      <td>54.400809</td>\n",
       "      <td>8.658721</td>\n",
       "      <td>1</td>\n",
       "      <td>NaN</td>\n",
       "      <td>de</td>\n",
       "      <td>50kmE4200N3450</td>\n",
       "      <td>0.000000</td>\n",
       "      <td>0.0</td>\n",
       "      <td>0.006298</td>\n",
       "      <td>0.000000</td>\n",
       "      <td>0.000000</td>\n",
       "      <td>0.0</td>\n",
       "      <td>0.0</td>\n",
       "      <td>0.0</td>\n",
       "      <td>0.0</td>\n",
       "      <td>0.0</td>\n",
       "      <td>0.0</td>\n",
       "      <td>0.874969</td>\n",
       "      <td>0.118733</td>\n",
       "      <td>wetlands</td>\n",
       "      <td>13</td>\n",
       "      <td>0.0</td>\n",
       "      <td>None</td>\n",
       "    </tr>\n",
       "    <tr>\n",
       "      <th>2018722</th>\n",
       "      <td>74043701</td>\n",
       "      <td>52</td>\n",
       "      <td>Singschwan</td>\n",
       "      <td>2022-12-31</td>\n",
       "      <td>54.144432</td>\n",
       "      <td>13.630751</td>\n",
       "      <td>16</td>\n",
       "      <td>NaN</td>\n",
       "      <td>de</td>\n",
       "      <td>50kmE4550N3450</td>\n",
       "      <td>0.030445</td>\n",
       "      <td>0.0</td>\n",
       "      <td>0.000000</td>\n",
       "      <td>0.277297</td>\n",
       "      <td>0.000000</td>\n",
       "      <td>0.0</td>\n",
       "      <td>0.0</td>\n",
       "      <td>0.0</td>\n",
       "      <td>0.0</td>\n",
       "      <td>0.0</td>\n",
       "      <td>0.0</td>\n",
       "      <td>0.000000</td>\n",
       "      <td>0.692258</td>\n",
       "      <td>water</td>\n",
       "      <td>14</td>\n",
       "      <td>0.0</td>\n",
       "      <td>None</td>\n",
       "    </tr>\n",
       "  </tbody>\n",
       "</table>\n",
       "</div>"
      ],
      "text/plain": [
       "         id_sighting  id_species  name_species        date  coord_lat  coord_lon  total_count atlas_code country     eea_grid_id  urban_area_percent  industrial_area_percent  agriculture_area_percent  forest_area_percent  grassland_area_percent  shrubland_area_percent  coastal_area_percent  rocky_area_percent  sparsley_vegetated_area_percent  burnt_area_percent  glacier_area_percent  wetlands_area_percent  water_area_percent land_use_coord  land_use_coord_numeric  unclassified_area_percent altitude\n",
       "2018382  63621895     463         Wiesenpieper  2021-12-31  53.720317  7.407022   3            NaN        de      50kmE4100N3400  0.000000            0.0                      0.000000                  0.000000             0.000106                0.0                     0.0                   0.0                 0.0                              0.0                 0.0                   0.999894               0.000000            wetlands       13                      0.0                        None   \n",
       "2018528  74075515     52          Singschwan    2022-12-31  54.567683  13.407219  0            NaN        de      50kmE4500N3500  0.000000            0.0                      0.000000                  0.030988             0.000000                0.0                     0.0                   0.0                 0.0                              0.0                 0.0                   0.000000               0.969012            water          14                      0.0                        None   \n",
       "2018690  74096151     503         Berghänfling  2022-12-31  54.395487  8.658754   100          NaN        de      50kmE4200N3450  0.000000            0.0                      0.336060                  0.000000             0.000000                0.0                     0.0                   0.0                 0.0                              0.0                 0.0                   0.663940               0.000000            wetlands       13                      0.0                        None   \n",
       "2018692  74096147     158         Seeadler      2022-12-31  54.400809  8.658721   1            NaN        de      50kmE4200N3450  0.000000            0.0                      0.006298                  0.000000             0.000000                0.0                     0.0                   0.0                 0.0                              0.0                 0.0                   0.874969               0.118733            wetlands       13                      0.0                        None   \n",
       "2018722  74043701     52          Singschwan    2022-12-31  54.144432  13.630751  16           NaN        de      50kmE4550N3450  0.030445            0.0                      0.000000                  0.277297             0.000000                0.0                     0.0                   0.0                 0.0                              0.0                 0.0                   0.000000               0.692258            water          14                      0.0                        None   "
      ]
     },
     "execution_count": 106,
     "metadata": {},
     "output_type": "execute_result"
    }
   ],
   "source": [
    "df_min_altitude.tail(5)"
   ]
  },
  {
   "cell_type": "code",
   "execution_count": null,
   "metadata": {},
   "outputs": [
    {
     "data": {
      "text/plain": [
       "id_sighting                        0    \n",
       "id_species                         0    \n",
       "name_species                       0    \n",
       "date                               0    \n",
       "coord_lat                          0    \n",
       "coord_lon                          0    \n",
       "total_count                        0    \n",
       "atlas_code                         48671\n",
       "country                            0    \n",
       "eea_grid_id                        0    \n",
       "urban_area_percent                 0    \n",
       "industrial_area_percent            0    \n",
       "agriculture_area_percent           0    \n",
       "forest_area_percent                0    \n",
       "grassland_area_percent             0    \n",
       "shrubland_area_percent             0    \n",
       "coastal_area_percent               0    \n",
       "rocky_area_percent                 0    \n",
       "sparsley_vegetated_area_percent    0    \n",
       "burnt_area_percent                 0    \n",
       "glacier_area_percent               0    \n",
       "wetlands_area_percent              0    \n",
       "water_area_percent                 0    \n",
       "land_use_coord                     0    \n",
       "land_use_coord_numeric             0    \n",
       "unclassified_area_percent          0    \n",
       "altitude                           51596\n",
       "dtype: int64"
      ]
     },
     "execution_count": 60,
     "metadata": {},
     "output_type": "execute_result"
    }
   ],
   "source": [
    "df_min_altitude.isna().sum()"
   ]
  },
  {
   "cell_type": "code",
   "execution_count": null,
   "metadata": {},
   "outputs": [],
   "source": [
    "df.loc[df['altitude'] == df.altitude.min(), 'altitude'] = 0"
   ]
  },
  {
   "cell_type": "code",
   "execution_count": null,
   "metadata": {},
   "outputs": [],
   "source": [
    "print(df.altitude.value_counts())"
   ]
  },
  {
   "cell_type": "markdown",
   "metadata": {},
   "source": [
    "## Conclusion\n"
   ]
  },
  {
   "cell_type": "markdown",
   "metadata": {},
   "source": [
    "## Outlook"
   ]
  },
  {
   "cell_type": "markdown",
   "metadata": {},
   "source": [
    "# \n",
    "<p style=\"background-color:#4A3228;color:white;font-size:240%;border-radius:10px 10px 10px 10px;\"> &nbsp; 3️⃣ Add elevation feature to the dataset</p>"
   ]
  },
  {
   "cell_type": "code",
   "execution_count": 16,
   "metadata": {},
   "outputs": [
    {
     "name": "stderr",
     "output_type": "stream",
     "text": [
      "C:\\Users\\simon\\AppData\\Local\\Temp\\ipykernel_17476\\247923559.py:2: DtypeWarning: Columns (11) have mixed types. Specify dtype option on import or set low_memory=False.\n",
      "  df = pd.read_csv(df_path, index_col=0)\n"
     ]
    }
   ],
   "source": [
    "df_path = 'D:\\\\Simon\\\\Documents\\\\GP\\\\data\\\\datasets\\\\selected_bird_species_with_grids_50km.csv'\n",
    "df = pd.read_csv(df_path, index_col=0)\n",
    "df.reset_index(inplace=True, drop=True)"
   ]
  },
  {
   "cell_type": "code",
   "execution_count": 17,
   "metadata": {},
   "outputs": [],
   "source": [
    "df_path_alt = 'D:\\\\Simon\\\\Documents\\\\GP\\\\data\\\\datasets\\\\altitude\\\\dbird_export_altitude_202312140925.csv'\n",
    "df_alt = pd.read_csv(df_path_alt, sep=';')"
   ]
  },
  {
   "cell_type": "code",
   "execution_count": null,
   "metadata": {},
   "outputs": [],
   "source": [
    "df_alt.head(3)"
   ]
  },
  {
   "cell_type": "code",
   "execution_count": 18,
   "metadata": {},
   "outputs": [],
   "source": [
    "df_de = df[df['country'] == 'de']\n",
    "\n",
    "merged_df_de = df_de.merge(df_alt, left_on='id_sighting', right_on='ornitho_id', how='left')\n",
    "merged_df_de.drop(columns=['ornitho_id', 'altitude_x'], inplace=True)\n",
    "merged_df_de.rename(columns={'altitude_y': 'altitude'}, inplace=True)\n",
    "\n",
    "df.update(merged_df_de)"
   ]
  },
  {
   "cell_type": "code",
   "execution_count": 19,
   "metadata": {},
   "outputs": [
    {
     "data": {
      "text/html": [
       "<div>\n",
       "<style scoped>\n",
       "    .dataframe tbody tr th:only-of-type {\n",
       "        vertical-align: middle;\n",
       "    }\n",
       "\n",
       "    .dataframe tbody tr th {\n",
       "        vertical-align: top;\n",
       "    }\n",
       "\n",
       "    .dataframe thead th {\n",
       "        text-align: right;\n",
       "    }\n",
       "</style>\n",
       "<table border=\"1\" class=\"dataframe\">\n",
       "  <thead>\n",
       "    <tr style=\"text-align: right;\">\n",
       "      <th></th>\n",
       "      <th>id_sighting</th>\n",
       "      <th>id_species</th>\n",
       "      <th>name_species</th>\n",
       "      <th>date</th>\n",
       "      <th>timing</th>\n",
       "      <th>coord_lat</th>\n",
       "      <th>coord_lon</th>\n",
       "      <th>precision</th>\n",
       "      <th>altitude</th>\n",
       "      <th>total_count</th>\n",
       "      <th>atlas_code</th>\n",
       "      <th>id_observer</th>\n",
       "      <th>country</th>\n",
       "      <th>eea_grid_id</th>\n",
       "    </tr>\n",
       "  </thead>\n",
       "  <tbody>\n",
       "    <tr>\n",
       "      <th>0</th>\n",
       "      <td>29666972</td>\n",
       "      <td>8.0</td>\n",
       "      <td>Haubentaucher</td>\n",
       "      <td>2018-01-01</td>\n",
       "      <td>NaN</td>\n",
       "      <td>53.157760</td>\n",
       "      <td>8.676993</td>\n",
       "      <td>place</td>\n",
       "      <td>-1</td>\n",
       "      <td>0.0</td>\n",
       "      <td>NaN</td>\n",
       "      <td>37718.0</td>\n",
       "      <td>de</td>\n",
       "      <td>50kmE4200N3300</td>\n",
       "    </tr>\n",
       "    <tr>\n",
       "      <th>1</th>\n",
       "      <td>29654244</td>\n",
       "      <td>397.0</td>\n",
       "      <td>Schwarzkehlchen</td>\n",
       "      <td>2018-01-01</td>\n",
       "      <td>NaN</td>\n",
       "      <td>53.127639</td>\n",
       "      <td>8.957263</td>\n",
       "      <td>square</td>\n",
       "      <td>1</td>\n",
       "      <td>2.0</td>\n",
       "      <td>NaN</td>\n",
       "      <td>37803.0</td>\n",
       "      <td>de</td>\n",
       "      <td>50kmE4250N3300</td>\n",
       "    </tr>\n",
       "    <tr>\n",
       "      <th>2</th>\n",
       "      <td>29654521</td>\n",
       "      <td>463.0</td>\n",
       "      <td>Wiesenpieper</td>\n",
       "      <td>2018-01-01</td>\n",
       "      <td>NaN</td>\n",
       "      <td>50.850941</td>\n",
       "      <td>12.146953</td>\n",
       "      <td>place</td>\n",
       "      <td>269</td>\n",
       "      <td>2.0</td>\n",
       "      <td>NaN</td>\n",
       "      <td>39627.0</td>\n",
       "      <td>de</td>\n",
       "      <td>50kmE4450N3050</td>\n",
       "    </tr>\n",
       "  </tbody>\n",
       "</table>\n",
       "</div>"
      ],
      "text/plain": [
       "   id_sighting  id_species     name_species        date timing  coord_lat  coord_lon precision  altitude  total_count atlas_code  id_observer country     eea_grid_id\n",
       "0  29666972     8.0         Haubentaucher    2018-01-01  NaN    53.157760  8.676993   place    -1         0.0          NaN        37718.0      de      50kmE4200N3300\n",
       "1  29654244     397.0       Schwarzkehlchen  2018-01-01  NaN    53.127639  8.957263   square    1         2.0          NaN        37803.0      de      50kmE4250N3300\n",
       "2  29654521     463.0       Wiesenpieper     2018-01-01  NaN    50.850941  12.146953  place     269       2.0          NaN        39627.0      de      50kmE4450N3050"
      ]
     },
     "execution_count": 19,
     "metadata": {},
     "output_type": "execute_result"
    }
   ],
   "source": [
    "df.head(3)"
   ]
  },
  {
   "cell_type": "code",
   "execution_count": 20,
   "metadata": {},
   "outputs": [
    {
     "name": "stdout",
     "output_type": "stream",
     "text": [
      "altitude\n",
      " 0       115450\n",
      " 430     88178 \n",
      "-1       51270 \n",
      "-2       43926 \n",
      " 400     38170 \n",
      "         ...   \n",
      " 2893    1     \n",
      " 3262    1     \n",
      " 3124    1     \n",
      " 3001    1     \n",
      " 2971    1     \n",
      "Name: count, Length: 2899, dtype: int64\n"
     ]
    }
   ],
   "source": [
    "print(df.altitude.value_counts())"
   ]
  },
  {
   "cell_type": "code",
   "execution_count": 21,
   "metadata": {},
   "outputs": [
    {
     "data": {
      "text/html": [
       "<div>\n",
       "<style scoped>\n",
       "    .dataframe tbody tr th:only-of-type {\n",
       "        vertical-align: middle;\n",
       "    }\n",
       "\n",
       "    .dataframe tbody tr th {\n",
       "        vertical-align: top;\n",
       "    }\n",
       "\n",
       "    .dataframe thead th {\n",
       "        text-align: right;\n",
       "    }\n",
       "</style>\n",
       "<table border=\"1\" class=\"dataframe\">\n",
       "  <thead>\n",
       "    <tr style=\"text-align: right;\">\n",
       "      <th></th>\n",
       "      <th>id_sighting</th>\n",
       "      <th>id_species</th>\n",
       "      <th>name_species</th>\n",
       "      <th>date</th>\n",
       "      <th>timing</th>\n",
       "      <th>coord_lat</th>\n",
       "      <th>coord_lon</th>\n",
       "      <th>precision</th>\n",
       "      <th>altitude</th>\n",
       "      <th>total_count</th>\n",
       "      <th>atlas_code</th>\n",
       "      <th>id_observer</th>\n",
       "      <th>country</th>\n",
       "      <th>eea_grid_id</th>\n",
       "    </tr>\n",
       "  </thead>\n",
       "  <tbody>\n",
       "    <tr>\n",
       "      <th>172472</th>\n",
       "      <td>57776355</td>\n",
       "      <td>463.0</td>\n",
       "      <td>Wiesenpieper</td>\n",
       "      <td>2021-05-03</td>\n",
       "      <td>12:08</td>\n",
       "      <td>50.958478</td>\n",
       "      <td>6.674523</td>\n",
       "      <td>precise</td>\n",
       "      <td>-34</td>\n",
       "      <td>1.0</td>\n",
       "      <td>NaN</td>\n",
       "      <td>84909.0</td>\n",
       "      <td>de</td>\n",
       "      <td>50kmE4050N3050</td>\n",
       "    </tr>\n",
       "    <tr>\n",
       "      <th>172473</th>\n",
       "      <td>57790281</td>\n",
       "      <td>463.0</td>\n",
       "      <td>Wiesenpieper</td>\n",
       "      <td>2021-05-03</td>\n",
       "      <td>12:08</td>\n",
       "      <td>50.958478</td>\n",
       "      <td>6.674523</td>\n",
       "      <td>precise</td>\n",
       "      <td>-34</td>\n",
       "      <td>1.0</td>\n",
       "      <td>NaN</td>\n",
       "      <td>88575.0</td>\n",
       "      <td>de</td>\n",
       "      <td>50kmE4050N3050</td>\n",
       "    </tr>\n",
       "  </tbody>\n",
       "</table>\n",
       "</div>"
      ],
      "text/plain": [
       "        id_sighting  id_species  name_species        date timing  coord_lat  coord_lon precision  altitude  total_count atlas_code  id_observer country     eea_grid_id\n",
       "172472  57776355     463.0       Wiesenpieper  2021-05-03  12:08  50.958478  6.674523   precise  -34        1.0          NaN        84909.0      de      50kmE4050N3050\n",
       "172473  57790281     463.0       Wiesenpieper  2021-05-03  12:08  50.958478  6.674523   precise  -34        1.0          NaN        88575.0      de      50kmE4050N3050"
      ]
     },
     "execution_count": 21,
     "metadata": {},
     "output_type": "execute_result"
    }
   ],
   "source": [
    "min_altitude = df.altitude.min()\n",
    "df_min_altitude = df[df.altitude == min_altitude]\n",
    "df_min_altitude.head(5)"
   ]
  },
  {
   "cell_type": "code",
   "execution_count": 23,
   "metadata": {},
   "outputs": [],
   "source": [
    "df_path = 'D:\\\\Simon\\\\Documents\\\\GP\\\\data\\\\datasets\\\\selected_bird_species_with_grids_50km.csv'\n",
    "# df_path = 'D:\\\\Simon\\\\Documents\\\\GP\\\\data\\\\datasets\\\\selected_bird_species_50km_elevation.csv'\n",
    "df.to_csv(df_path)"
   ]
  },
  {
   "cell_type": "markdown",
   "metadata": {},
   "source": [
    "# \n",
    "<p style=\"background-color:#4A3228;color:white;font-size:240%;border-radius:10px 10px 10px 10px;\"> &nbsp; 4️⃣ Initial assessment of the elevation feature: Possible degree of decision support </p>\n",
    "\n",
    "Water pipit und Seeadler -> x-axis datum, y-axis elevatino; daran kann man sehen, dass species-specific elevation patterns auftreten; z.B. water pipit: fliegt im Sommer in höhere Lagen; Seeadler ist immer niedrig; daher kann man ausreißer schon an der elevation data allein feststellen, d.h. das könnte ein wichtiges feature in der outlier detection sein."
   ]
  },
  {
   "cell_type": "markdown",
   "metadata": {},
   "source": [
    "# References\n",
    "[1]  European Environment Agency. \"European Digital Elevation Model (EU-DEM), Version 1.1.\" (2016)."
   ]
  }
 ],
 "metadata": {
  "kernelspec": {
   "display_name": "Python 3",
   "language": "python",
   "name": "python3"
  },
  "language_info": {
   "codemirror_mode": {
    "name": "ipython",
    "version": 3
   },
   "file_extension": ".py",
   "mimetype": "text/x-python",
   "name": "python",
   "nbconvert_exporter": "python",
   "pygments_lexer": "ipython3",
   "version": "3.10.13"
  },
  "orig_nbformat": 4
 },
 "nbformat": 4,
 "nbformat_minor": 2
}
