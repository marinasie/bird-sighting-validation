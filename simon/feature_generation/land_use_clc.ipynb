{
 "cells": [
  {
   "cell_type": "markdown",
   "metadata": {},
   "source": [
    "<img src=\"../../img/land_use_clc.png\" alt=\"\" style=\"width: 100%; border-radius: 20px;\"/>"
   ]
  },
  {
   "cell_type": "markdown",
   "metadata": {},
   "source": [
    "## Objective\n",
    "ToDo:\n",
    "\n",
    "why did we create this notebook? why landuse?\n",
    "\n",
    "## Scope\n",
    "\n",
    "In this file we process a bird dataframe and merge it with the Corine Land Cover Dataframe to get the land use on the location of a bird sighting. With the functions given in this file it is possible to get the land use on the coordinate, to get the most common land use in a square or to get all land uses per percentage in a square around the coordinate.\n",
    "\n",
    "The CLC was used because the LUCAS dataframe was used first and gave a much less detailed result. The LUCAS dataframe has points on a map which describe the land use whereas the CLC dataframe has polygons all over the map.\n",
    "\n",
    "To get the land use with LUCAS the nearest point to the coordinate has to be selected. To do the same with CLC (altough much more precises) the coordinates of the bird dataframe are checked whether they are in any polygon. Then the land use of this polygon is used.\n",
    "\n",
    "To get the most common land use within a square we create squares around each coordinate. Then each square is checked for the landuses within. Then the most common land uses gets returned.\n",
    "\n",
    "The probably best solution to get the land use is to get the percentage of landuses in each square. This can be done by checking how much of each polygon is in each square. This is really compute heavy and this is also why there might be a better option:\n",
    "\n",
    "To accomplish this another aspect of the CLC data is used. The CLC data also has points all over the map which can be used to get the land use. While those points also could be inaccurate if looking for the land use on a coordinate, those specific points inside of the square could be counted and calculated how much of each land use is in each square."
   ]
  },
  {
   "cell_type": "code",
   "execution_count": 1,
   "metadata": {},
   "outputs": [],
   "source": [
    "import geopandas as gpd\n",
    "from shapely.geometry import Point, box\n",
    "import pandas as pd\n",
    "\n",
    "import plotly.express as px\n",
    "import plotly.graph_objects as go"
   ]
  },
  {
   "cell_type": "code",
   "execution_count": 2,
   "metadata": {},
   "outputs": [],
   "source": [
    "pd.set_option('display.max_columns', None)\n",
    "pd.set_option('display.expand_frame_repr', False)"
   ]
  },
  {
   "cell_type": "code",
   "execution_count": 3,
   "metadata": {},
   "outputs": [],
   "source": [
    "df_path = r'D:\\\\Simon\\\\Documents\\\\GP\\\\data\\\\master_train.csv'\n",
    "df = pd.read_csv(df_path, index_col=0, low_memory=False)"
   ]
  },
  {
   "cell_type": "code",
   "execution_count": 5,
   "metadata": {},
   "outputs": [
    {
     "data": {
      "text/html": [
       "<div>\n",
       "<style scoped>\n",
       "    .dataframe tbody tr th:only-of-type {\n",
       "        vertical-align: middle;\n",
       "    }\n",
       "\n",
       "    .dataframe tbody tr th {\n",
       "        vertical-align: top;\n",
       "    }\n",
       "\n",
       "    .dataframe thead th {\n",
       "        text-align: right;\n",
       "    }\n",
       "</style>\n",
       "<table border=\"1\" class=\"dataframe\">\n",
       "  <thead>\n",
       "    <tr style=\"text-align: right;\">\n",
       "      <th></th>\n",
       "      <th>id_sighting</th>\n",
       "      <th>id_species</th>\n",
       "      <th>name_species</th>\n",
       "      <th>date</th>\n",
       "      <th>coord_lat</th>\n",
       "      <th>coord_lon</th>\n",
       "      <th>altitude</th>\n",
       "      <th>total_count</th>\n",
       "      <th>atlas_code</th>\n",
       "      <th>country</th>\n",
       "      <th>eea_grid_id</th>\n",
       "      <th>urban_area_percent</th>\n",
       "      <th>industrial_area_percent</th>\n",
       "      <th>agriculture_area_percent</th>\n",
       "      <th>forest_area_percent</th>\n",
       "      <th>grassland_area_percent</th>\n",
       "      <th>shrubland_area_percent</th>\n",
       "      <th>coastal_area_percent</th>\n",
       "      <th>rocky_area_percent</th>\n",
       "      <th>sparsley_vegetated_area_percent</th>\n",
       "      <th>burnt_area_percent</th>\n",
       "      <th>glacier_area_percent</th>\n",
       "      <th>wetlands_area_percent</th>\n",
       "      <th>water_area_percent</th>\n",
       "      <th>land_use_coord</th>\n",
       "      <th>land_use_coord_numeric</th>\n",
       "    </tr>\n",
       "  </thead>\n",
       "  <tbody>\n",
       "    <tr>\n",
       "      <th>2660041</th>\n",
       "      <td>15002282</td>\n",
       "      <td>8</td>\n",
       "      <td>Haubentaucher</td>\n",
       "      <td>2018-02-17</td>\n",
       "      <td>47.512154</td>\n",
       "      <td>9.436332</td>\n",
       "      <td>390</td>\n",
       "      <td>1</td>\n",
       "      <td>0</td>\n",
       "      <td>ch</td>\n",
       "      <td>50kmE4250N2700</td>\n",
       "      <td>0.519785</td>\n",
       "      <td>0.0</td>\n",
       "      <td>0.000000</td>\n",
       "      <td>0.0</td>\n",
       "      <td>0.0</td>\n",
       "      <td>0.0</td>\n",
       "      <td>0.0</td>\n",
       "      <td>0.0</td>\n",
       "      <td>0.0</td>\n",
       "      <td>0.0</td>\n",
       "      <td>0.0</td>\n",
       "      <td>0.0</td>\n",
       "      <td>0.480215</td>\n",
       "      <td>water</td>\n",
       "      <td>14</td>\n",
       "    </tr>\n",
       "    <tr>\n",
       "      <th>2660042</th>\n",
       "      <td>15002291</td>\n",
       "      <td>8</td>\n",
       "      <td>Haubentaucher</td>\n",
       "      <td>2018-02-17</td>\n",
       "      <td>47.121205</td>\n",
       "      <td>7.240961</td>\n",
       "      <td>430</td>\n",
       "      <td>1</td>\n",
       "      <td>0</td>\n",
       "      <td>ch</td>\n",
       "      <td>50kmE4100N2650</td>\n",
       "      <td>0.837752</td>\n",
       "      <td>0.0</td>\n",
       "      <td>0.060568</td>\n",
       "      <td>0.0</td>\n",
       "      <td>0.0</td>\n",
       "      <td>0.0</td>\n",
       "      <td>0.0</td>\n",
       "      <td>0.0</td>\n",
       "      <td>0.0</td>\n",
       "      <td>0.0</td>\n",
       "      <td>0.0</td>\n",
       "      <td>0.0</td>\n",
       "      <td>0.101679</td>\n",
       "      <td>urban</td>\n",
       "      <td>1</td>\n",
       "    </tr>\n",
       "  </tbody>\n",
       "</table>\n",
       "</div>"
      ],
      "text/plain": [
       "         id_sighting  id_species   name_species        date  coord_lat  coord_lon  altitude  total_count atlas_code country     eea_grid_id  urban_area_percent  industrial_area_percent  agriculture_area_percent  forest_area_percent  grassland_area_percent  shrubland_area_percent  coastal_area_percent  rocky_area_percent  sparsley_vegetated_area_percent  burnt_area_percent  glacier_area_percent  wetlands_area_percent  water_area_percent land_use_coord  land_use_coord_numeric\n",
       "2660041     15002282           8  Haubentaucher  2018-02-17  47.512154   9.436332       390            1          0      ch  50kmE4250N2700            0.519785                      0.0                  0.000000                  0.0                     0.0                     0.0                   0.0                 0.0                              0.0                 0.0                   0.0                    0.0            0.480215          water                      14\n",
       "2660042     15002291           8  Haubentaucher  2018-02-17  47.121205   7.240961       430            1          0      ch  50kmE4100N2650            0.837752                      0.0                  0.060568                  0.0                     0.0                     0.0                   0.0                 0.0                              0.0                 0.0                   0.0                    0.0            0.101679          urban                       1"
      ]
     },
     "execution_count": 5,
     "metadata": {},
     "output_type": "execute_result"
    }
   ],
   "source": [
    "df.tail(2)"
   ]
  },
  {
   "cell_type": "code",
   "execution_count": 14,
   "metadata": {},
   "outputs": [],
   "source": [
    "clc_path = r'D:\\\\Simon\\\\Documents\\\\GP\\\\data\\\\util_files\\\\CLC_2018\\\\U2018_CLC2018_V2020_20u1.shp'\n",
    "clc2 = gpd.read_file(clc_path)"
   ]
  },
  {
   "cell_type": "code",
   "execution_count": null,
   "metadata": {},
   "outputs": [],
   "source": [
    "clc['Code_18'].fillna(999, inplace=True)\n",
    "clc['Code_18'] = clc['Code_18'].astype(int)\n",
    "clc.drop(columns=['OBJECTID', 'Remark','Area_Ha','ID','Shape_Leng','Shape_Area'], axis=1, inplace=True)"
   ]
  },
  {
   "cell_type": "code",
   "execution_count": 8,
   "metadata": {},
   "outputs": [],
   "source": [
    "clc_path = r'D:\\\\Simon\\\\Documents\\\\GP\\\\data\\\\util_files\\\\CLC_2018_EU_Crop\\\\U2018_CLC2018_V2020_20u1_crop.gpkg'\n",
    "clc2 = gpd.read_file(clc_path)"
   ]
  },
  {
   "cell_type": "code",
   "execution_count": 9,
   "metadata": {},
   "outputs": [],
   "source": [
    "clc2['Code_18'].fillna(999, inplace=True)\n",
    "clc2['Code_18'] = clc2['Code_18'].astype(int)\n",
    "clc2.drop(columns=['Remark','Area_Ha','ID', 'OBJECTID'], axis=1, inplace=True)"
   ]
  },
  {
   "cell_type": "code",
   "execution_count": 10,
   "metadata": {},
   "outputs": [
    {
     "data": {
      "text/plain": [
       "<Projected CRS: EPSG:3035>\n",
       "Name: ETRS89-extended / LAEA Europe\n",
       "Axis Info [cartesian]:\n",
       "- Y[north]: Northing (metre)\n",
       "- X[east]: Easting (metre)\n",
       "Area of Use:\n",
       "- name: Europe - European Union (EU) countries and candidates. Europe - onshore and offshore: Albania; Andorra; Austria; Belgium; Bosnia and Herzegovina; Bulgaria; Croatia; Cyprus; Czechia; Denmark; Estonia; Faroe Islands; Finland; France; Germany; Gibraltar; Greece; Hungary; Iceland; Ireland; Italy; Kosovo; Latvia; Liechtenstein; Lithuania; Luxembourg; Malta; Monaco; Montenegro; Netherlands; North Macedonia; Norway including Svalbard and Jan Mayen; Poland; Portugal including Madeira and Azores; Romania; San Marino; Serbia; Slovakia; Slovenia; Spain including Canary Islands; Sweden; Switzerland; Türkiye (Turkey); United Kingdom (UK) including Channel Islands and Isle of Man; Vatican City State.\n",
       "- bounds: (-35.58, 24.6, 44.83, 84.73)\n",
       "Coordinate Operation:\n",
       "- name: Europe Equal Area 2001\n",
       "- method: Lambert Azimuthal Equal Area\n",
       "Datum: European Terrestrial Reference System 1989 ensemble\n",
       "- Ellipsoid: GRS 1980\n",
       "- Prime Meridian: Greenwich"
      ]
     },
     "execution_count": 10,
     "metadata": {},
     "output_type": "execute_result"
    }
   ],
   "source": [
    "clc2.crs"
   ]
  },
  {
   "cell_type": "code",
   "execution_count": 11,
   "metadata": {},
   "outputs": [
    {
     "data": {
      "text/html": [
       "<div>\n",
       "<style scoped>\n",
       "    .dataframe tbody tr th:only-of-type {\n",
       "        vertical-align: middle;\n",
       "    }\n",
       "\n",
       "    .dataframe tbody tr th {\n",
       "        vertical-align: top;\n",
       "    }\n",
       "\n",
       "    .dataframe thead th {\n",
       "        text-align: right;\n",
       "    }\n",
       "</style>\n",
       "<table border=\"1\" class=\"dataframe\">\n",
       "  <thead>\n",
       "    <tr style=\"text-align: right;\">\n",
       "      <th></th>\n",
       "      <th>Code_18</th>\n",
       "      <th>geometry</th>\n",
       "    </tr>\n",
       "  </thead>\n",
       "  <tbody>\n",
       "    <tr>\n",
       "      <th>0</th>\n",
       "      <td>112</td>\n",
       "      <td>MULTIPOLYGON (((3852601.053 2979540.102, 38526...</td>\n",
       "    </tr>\n",
       "    <tr>\n",
       "      <th>1</th>\n",
       "      <td>112</td>\n",
       "      <td>MULTIPOLYGON (((3851007.206 2981146.329, 38510...</td>\n",
       "    </tr>\n",
       "  </tbody>\n",
       "</table>\n",
       "</div>"
      ],
      "text/plain": [
       "   Code_18                                           geometry\n",
       "0      112  MULTIPOLYGON (((3852601.053 2979540.102, 38526...\n",
       "1      112  MULTIPOLYGON (((3851007.206 2981146.329, 38510..."
      ]
     },
     "execution_count": 11,
     "metadata": {},
     "output_type": "execute_result"
    }
   ],
   "source": [
    "clc2.head(2)"
   ]
  },
  {
   "cell_type": "code",
   "execution_count": 12,
   "metadata": {},
   "outputs": [],
   "source": [
    "clc_4326 = clc2.to_crs(\"EPSG:4326\")"
   ]
  },
  {
   "cell_type": "code",
   "execution_count": 13,
   "metadata": {},
   "outputs": [
    {
     "data": {
      "text/html": [
       "<div>\n",
       "<style scoped>\n",
       "    .dataframe tbody tr th:only-of-type {\n",
       "        vertical-align: middle;\n",
       "    }\n",
       "\n",
       "    .dataframe tbody tr th {\n",
       "        vertical-align: top;\n",
       "    }\n",
       "\n",
       "    .dataframe thead th {\n",
       "        text-align: right;\n",
       "    }\n",
       "</style>\n",
       "<table border=\"1\" class=\"dataframe\">\n",
       "  <thead>\n",
       "    <tr style=\"text-align: right;\">\n",
       "      <th></th>\n",
       "      <th>Code_18</th>\n",
       "      <th>geometry</th>\n",
       "    </tr>\n",
       "  </thead>\n",
       "  <tbody>\n",
       "    <tr>\n",
       "      <th>0</th>\n",
       "      <td>112</td>\n",
       "      <td>MULTIPOLYGON (((3.49281 49.74160, 3.49325 49.7...</td>\n",
       "    </tr>\n",
       "    <tr>\n",
       "      <th>1</th>\n",
       "      <td>112</td>\n",
       "      <td>MULTIPOLYGON (((3.46882 49.75471, 3.46911 49.7...</td>\n",
       "    </tr>\n",
       "  </tbody>\n",
       "</table>\n",
       "</div>"
      ],
      "text/plain": [
       "   Code_18                                           geometry\n",
       "0      112  MULTIPOLYGON (((3.49281 49.74160, 3.49325 49.7...\n",
       "1      112  MULTIPOLYGON (((3.46882 49.75471, 3.46911 49.7..."
      ]
     },
     "execution_count": 13,
     "metadata": {},
     "output_type": "execute_result"
    }
   ],
   "source": [
    "clc_4326.head(2)"
   ]
  },
  {
   "cell_type": "code",
   "execution_count": 14,
   "metadata": {},
   "outputs": [
    {
     "data": {
      "text/plain": [
       "Code_18     0\n",
       "geometry    0\n",
       "dtype: int64"
      ]
     },
     "execution_count": 14,
     "metadata": {},
     "output_type": "execute_result"
    }
   ],
   "source": [
    "clc_4326.isna().sum()"
   ]
  },
  {
   "cell_type": "markdown",
   "metadata": {},
   "source": [
    "## Get landuse on coordinate"
   ]
  },
  {
   "cell_type": "code",
   "execution_count": null,
   "metadata": {},
   "outputs": [],
   "source": [
    "df.drop(columns=['land_use_coord', 'land_use_coord_numeric'], inplace=True)"
   ]
  },
  {
   "cell_type": "code",
   "execution_count": 79,
   "metadata": {},
   "outputs": [
    {
     "data": {
      "text/html": [
       "<div>\n",
       "<style scoped>\n",
       "    .dataframe tbody tr th:only-of-type {\n",
       "        vertical-align: middle;\n",
       "    }\n",
       "\n",
       "    .dataframe tbody tr th {\n",
       "        vertical-align: top;\n",
       "    }\n",
       "\n",
       "    .dataframe thead th {\n",
       "        text-align: right;\n",
       "    }\n",
       "</style>\n",
       "<table border=\"1\" class=\"dataframe\">\n",
       "  <thead>\n",
       "    <tr style=\"text-align: right;\">\n",
       "      <th></th>\n",
       "      <th>id_sighting</th>\n",
       "      <th>id_species</th>\n",
       "      <th>name_species</th>\n",
       "      <th>date</th>\n",
       "      <th>coord_lat</th>\n",
       "      <th>coord_lon</th>\n",
       "      <th>altitude</th>\n",
       "      <th>total_count</th>\n",
       "      <th>atlas_code</th>\n",
       "      <th>country</th>\n",
       "      <th>eea_grid_id</th>\n",
       "      <th>urban_area_percent</th>\n",
       "      <th>industrial_area_percent</th>\n",
       "      <th>agriculture_area_percent</th>\n",
       "      <th>forest_area_percent</th>\n",
       "      <th>grassland_area_percent</th>\n",
       "      <th>shrubland_area_percent</th>\n",
       "      <th>coastal_area_percent</th>\n",
       "      <th>rocky_area_percent</th>\n",
       "      <th>sparsley_vegetated_area_percent</th>\n",
       "      <th>burnt_area_percent</th>\n",
       "      <th>glacier_area_percent</th>\n",
       "      <th>wetlands_area_percent</th>\n",
       "      <th>water_area_percent</th>\n",
       "    </tr>\n",
       "  </thead>\n",
       "  <tbody>\n",
       "    <tr>\n",
       "      <th>2660041</th>\n",
       "      <td>15002282</td>\n",
       "      <td>8</td>\n",
       "      <td>Haubentaucher</td>\n",
       "      <td>2018-02-17</td>\n",
       "      <td>47.512154</td>\n",
       "      <td>9.436332</td>\n",
       "      <td>390</td>\n",
       "      <td>1</td>\n",
       "      <td>0</td>\n",
       "      <td>ch</td>\n",
       "      <td>50kmE4250N2700</td>\n",
       "      <td>0.519785</td>\n",
       "      <td>0.0</td>\n",
       "      <td>0.000000</td>\n",
       "      <td>0.0</td>\n",
       "      <td>0.0</td>\n",
       "      <td>0.0</td>\n",
       "      <td>0.0</td>\n",
       "      <td>0.0</td>\n",
       "      <td>0.0</td>\n",
       "      <td>0.0</td>\n",
       "      <td>0.0</td>\n",
       "      <td>0.0</td>\n",
       "      <td>0.480215</td>\n",
       "    </tr>\n",
       "    <tr>\n",
       "      <th>2660042</th>\n",
       "      <td>15002291</td>\n",
       "      <td>8</td>\n",
       "      <td>Haubentaucher</td>\n",
       "      <td>2018-02-17</td>\n",
       "      <td>47.121205</td>\n",
       "      <td>7.240961</td>\n",
       "      <td>430</td>\n",
       "      <td>1</td>\n",
       "      <td>0</td>\n",
       "      <td>ch</td>\n",
       "      <td>50kmE4100N2650</td>\n",
       "      <td>0.837752</td>\n",
       "      <td>0.0</td>\n",
       "      <td>0.060568</td>\n",
       "      <td>0.0</td>\n",
       "      <td>0.0</td>\n",
       "      <td>0.0</td>\n",
       "      <td>0.0</td>\n",
       "      <td>0.0</td>\n",
       "      <td>0.0</td>\n",
       "      <td>0.0</td>\n",
       "      <td>0.0</td>\n",
       "      <td>0.0</td>\n",
       "      <td>0.101679</td>\n",
       "    </tr>\n",
       "  </tbody>\n",
       "</table>\n",
       "</div>"
      ],
      "text/plain": [
       "         id_sighting  id_species   name_species        date  coord_lat  coord_lon  altitude  total_count atlas_code country     eea_grid_id  urban_area_percent  industrial_area_percent  agriculture_area_percent  forest_area_percent  grassland_area_percent  shrubland_area_percent  coastal_area_percent  rocky_area_percent  sparsley_vegetated_area_percent  burnt_area_percent  glacier_area_percent  wetlands_area_percent  water_area_percent\n",
       "2660041     15002282           8  Haubentaucher  2018-02-17  47.512154   9.436332       390            1          0      ch  50kmE4250N2700            0.519785                      0.0                  0.000000                  0.0                     0.0                     0.0                   0.0                 0.0                              0.0                 0.0                   0.0                    0.0            0.480215\n",
       "2660042     15002291           8  Haubentaucher  2018-02-17  47.121205   7.240961       430            1          0      ch  50kmE4100N2650            0.837752                      0.0                  0.060568                  0.0                     0.0                     0.0                   0.0                 0.0                              0.0                 0.0                   0.0                    0.0            0.101679"
      ]
     },
     "execution_count": 79,
     "metadata": {},
     "output_type": "execute_result"
    }
   ],
   "source": [
    "df.tail(2)"
   ]
  },
  {
   "cell_type": "code",
   "execution_count": 80,
   "metadata": {},
   "outputs": [],
   "source": [
    "geometry = [Point(lon, lat) for lon, lat in zip(df['coord_lon'], df['coord_lat'])]\n",
    "# gdf = gpd.GeoDataFrame(df, geometry=geometry, crs=\"EPSG:3035\")\n",
    "gdf = gpd.GeoDataFrame(df, geometry=geometry, crs=\"EPSG:4326\")\n",
    "\n",
    "merged_gdf = gpd.sjoin(gdf, clc_4326, how=\"left\", predicate=\"within\")\n",
    "\n",
    "merged_gdf.drop(columns=['geometry','index_right'], axis=1, inplace=True)"
   ]
  },
  {
   "cell_type": "code",
   "execution_count": 50,
   "metadata": {},
   "outputs": [
    {
     "data": {
      "text/html": [
       "<div>\n",
       "<style scoped>\n",
       "    .dataframe tbody tr th:only-of-type {\n",
       "        vertical-align: middle;\n",
       "    }\n",
       "\n",
       "    .dataframe tbody tr th {\n",
       "        vertical-align: top;\n",
       "    }\n",
       "\n",
       "    .dataframe thead th {\n",
       "        text-align: right;\n",
       "    }\n",
       "</style>\n",
       "<table border=\"1\" class=\"dataframe\">\n",
       "  <thead>\n",
       "    <tr style=\"text-align: right;\">\n",
       "      <th></th>\n",
       "      <th>id_sighting</th>\n",
       "      <th>id_species</th>\n",
       "      <th>name_species</th>\n",
       "      <th>date</th>\n",
       "      <th>coord_lat</th>\n",
       "      <th>coord_lon</th>\n",
       "      <th>altitude</th>\n",
       "      <th>total_count</th>\n",
       "      <th>atlas_code</th>\n",
       "      <th>country</th>\n",
       "      <th>eea_grid_id</th>\n",
       "      <th>urban_area_percent</th>\n",
       "      <th>industrial_area_percent</th>\n",
       "      <th>agriculture_area_percent</th>\n",
       "      <th>forest_area_percent</th>\n",
       "      <th>grassland_area_percent</th>\n",
       "      <th>shrubland_area_percent</th>\n",
       "      <th>coastal_area_percent</th>\n",
       "      <th>rocky_area_percent</th>\n",
       "      <th>sparsley_vegetated_area_percent</th>\n",
       "      <th>burnt_area_percent</th>\n",
       "      <th>glacier_area_percent</th>\n",
       "      <th>wetlands_area_percent</th>\n",
       "      <th>water_area_percent</th>\n",
       "      <th>Code_18</th>\n",
       "    </tr>\n",
       "  </thead>\n",
       "  <tbody>\n",
       "    <tr>\n",
       "      <th>2660038</th>\n",
       "      <td>27523548</td>\n",
       "      <td>469</td>\n",
       "      <td>Bergpieper</td>\n",
       "      <td>2022-08-01</td>\n",
       "      <td>46.563896</td>\n",
       "      <td>8.551648</td>\n",
       "      <td>2085</td>\n",
       "      <td>4</td>\n",
       "      <td>0</td>\n",
       "      <td>ch</td>\n",
       "      <td>50kmE4200N2600</td>\n",
       "      <td>0.000000</td>\n",
       "      <td>0.0</td>\n",
       "      <td>0.000000</td>\n",
       "      <td>0.000000</td>\n",
       "      <td>0.580765</td>\n",
       "      <td>0.0</td>\n",
       "      <td>0.0</td>\n",
       "      <td>0.261244</td>\n",
       "      <td>0.005815</td>\n",
       "      <td>0.0</td>\n",
       "      <td>0.0</td>\n",
       "      <td>0.0</td>\n",
       "      <td>0.152176</td>\n",
       "      <td>321.0</td>\n",
       "    </tr>\n",
       "    <tr>\n",
       "      <th>2660039</th>\n",
       "      <td>27523686</td>\n",
       "      <td>338</td>\n",
       "      <td>Mittelspecht</td>\n",
       "      <td>2022-10-08</td>\n",
       "      <td>47.383318</td>\n",
       "      <td>7.666533</td>\n",
       "      <td>798</td>\n",
       "      <td>1</td>\n",
       "      <td>0</td>\n",
       "      <td>ch</td>\n",
       "      <td>50kmE4100N2650</td>\n",
       "      <td>0.000000</td>\n",
       "      <td>0.0</td>\n",
       "      <td>0.695808</td>\n",
       "      <td>0.304192</td>\n",
       "      <td>0.000000</td>\n",
       "      <td>0.0</td>\n",
       "      <td>0.0</td>\n",
       "      <td>0.000000</td>\n",
       "      <td>0.000000</td>\n",
       "      <td>0.0</td>\n",
       "      <td>0.0</td>\n",
       "      <td>0.0</td>\n",
       "      <td>0.000000</td>\n",
       "      <td>242.0</td>\n",
       "    </tr>\n",
       "    <tr>\n",
       "      <th>2660040</th>\n",
       "      <td>15002272</td>\n",
       "      <td>123</td>\n",
       "      <td>Bergente</td>\n",
       "      <td>2018-02-17</td>\n",
       "      <td>47.512154</td>\n",
       "      <td>9.436332</td>\n",
       "      <td>390</td>\n",
       "      <td>1</td>\n",
       "      <td>0</td>\n",
       "      <td>ch</td>\n",
       "      <td>50kmE4250N2700</td>\n",
       "      <td>0.519785</td>\n",
       "      <td>0.0</td>\n",
       "      <td>0.000000</td>\n",
       "      <td>0.000000</td>\n",
       "      <td>0.000000</td>\n",
       "      <td>0.0</td>\n",
       "      <td>0.0</td>\n",
       "      <td>0.000000</td>\n",
       "      <td>0.000000</td>\n",
       "      <td>0.0</td>\n",
       "      <td>0.0</td>\n",
       "      <td>0.0</td>\n",
       "      <td>0.480215</td>\n",
       "      <td>512.0</td>\n",
       "    </tr>\n",
       "    <tr>\n",
       "      <th>2660041</th>\n",
       "      <td>15002282</td>\n",
       "      <td>8</td>\n",
       "      <td>Haubentaucher</td>\n",
       "      <td>2018-02-17</td>\n",
       "      <td>47.512154</td>\n",
       "      <td>9.436332</td>\n",
       "      <td>390</td>\n",
       "      <td>1</td>\n",
       "      <td>0</td>\n",
       "      <td>ch</td>\n",
       "      <td>50kmE4250N2700</td>\n",
       "      <td>0.519785</td>\n",
       "      <td>0.0</td>\n",
       "      <td>0.000000</td>\n",
       "      <td>0.000000</td>\n",
       "      <td>0.000000</td>\n",
       "      <td>0.0</td>\n",
       "      <td>0.0</td>\n",
       "      <td>0.000000</td>\n",
       "      <td>0.000000</td>\n",
       "      <td>0.0</td>\n",
       "      <td>0.0</td>\n",
       "      <td>0.0</td>\n",
       "      <td>0.480215</td>\n",
       "      <td>512.0</td>\n",
       "    </tr>\n",
       "    <tr>\n",
       "      <th>2660042</th>\n",
       "      <td>15002291</td>\n",
       "      <td>8</td>\n",
       "      <td>Haubentaucher</td>\n",
       "      <td>2018-02-17</td>\n",
       "      <td>47.121205</td>\n",
       "      <td>7.240961</td>\n",
       "      <td>430</td>\n",
       "      <td>1</td>\n",
       "      <td>0</td>\n",
       "      <td>ch</td>\n",
       "      <td>50kmE4100N2650</td>\n",
       "      <td>0.837752</td>\n",
       "      <td>0.0</td>\n",
       "      <td>0.060568</td>\n",
       "      <td>0.000000</td>\n",
       "      <td>0.000000</td>\n",
       "      <td>0.0</td>\n",
       "      <td>0.0</td>\n",
       "      <td>0.000000</td>\n",
       "      <td>0.000000</td>\n",
       "      <td>0.0</td>\n",
       "      <td>0.0</td>\n",
       "      <td>0.0</td>\n",
       "      <td>0.101679</td>\n",
       "      <td>112.0</td>\n",
       "    </tr>\n",
       "  </tbody>\n",
       "</table>\n",
       "</div>"
      ],
      "text/plain": [
       "         id_sighting  id_species   name_species        date  coord_lat  coord_lon  altitude  total_count atlas_code country     eea_grid_id  urban_area_percent  industrial_area_percent  agriculture_area_percent  forest_area_percent  grassland_area_percent  shrubland_area_percent  coastal_area_percent  rocky_area_percent  sparsley_vegetated_area_percent  burnt_area_percent  glacier_area_percent  wetlands_area_percent  water_area_percent  Code_18\n",
       "2660038     27523548         469     Bergpieper  2022-08-01  46.563896   8.551648      2085            4          0      ch  50kmE4200N2600            0.000000                      0.0                  0.000000             0.000000                0.580765                     0.0                   0.0            0.261244                         0.005815                 0.0                   0.0                    0.0            0.152176    321.0\n",
       "2660039     27523686         338   Mittelspecht  2022-10-08  47.383318   7.666533       798            1          0      ch  50kmE4100N2650            0.000000                      0.0                  0.695808             0.304192                0.000000                     0.0                   0.0            0.000000                         0.000000                 0.0                   0.0                    0.0            0.000000    242.0\n",
       "2660040     15002272         123       Bergente  2018-02-17  47.512154   9.436332       390            1          0      ch  50kmE4250N2700            0.519785                      0.0                  0.000000             0.000000                0.000000                     0.0                   0.0            0.000000                         0.000000                 0.0                   0.0                    0.0            0.480215    512.0\n",
       "2660041     15002282           8  Haubentaucher  2018-02-17  47.512154   9.436332       390            1          0      ch  50kmE4250N2700            0.519785                      0.0                  0.000000             0.000000                0.000000                     0.0                   0.0            0.000000                         0.000000                 0.0                   0.0                    0.0            0.480215    512.0\n",
       "2660042     15002291           8  Haubentaucher  2018-02-17  47.121205   7.240961       430            1          0      ch  50kmE4100N2650            0.837752                      0.0                  0.060568             0.000000                0.000000                     0.0                   0.0            0.000000                         0.000000                 0.0                   0.0                    0.0            0.101679    112.0"
      ]
     },
     "execution_count": 50,
     "metadata": {},
     "output_type": "execute_result"
    }
   ],
   "source": [
    "merged_gdf.tail(5)"
   ]
  },
  {
   "cell_type": "code",
   "execution_count": 81,
   "metadata": {},
   "outputs": [
    {
     "data": {
      "text/plain": [
       "46"
      ]
     },
     "execution_count": 81,
     "metadata": {},
     "output_type": "execute_result"
    }
   ],
   "source": [
    "nan_rows = merged_gdf[merged_gdf['Code_18'].isna()]\n",
    "len(nan_rows)"
   ]
  },
  {
   "cell_type": "code",
   "execution_count": 82,
   "metadata": {},
   "outputs": [
    {
     "data": {
      "text/html": [
       "<div>\n",
       "<style scoped>\n",
       "    .dataframe tbody tr th:only-of-type {\n",
       "        vertical-align: middle;\n",
       "    }\n",
       "\n",
       "    .dataframe tbody tr th {\n",
       "        vertical-align: top;\n",
       "    }\n",
       "\n",
       "    .dataframe thead th {\n",
       "        text-align: right;\n",
       "    }\n",
       "</style>\n",
       "<table border=\"1\" class=\"dataframe\">\n",
       "  <thead>\n",
       "    <tr style=\"text-align: right;\">\n",
       "      <th></th>\n",
       "      <th>id_sighting</th>\n",
       "      <th>id_species</th>\n",
       "      <th>name_species</th>\n",
       "      <th>date</th>\n",
       "      <th>coord_lat</th>\n",
       "      <th>coord_lon</th>\n",
       "      <th>altitude</th>\n",
       "      <th>total_count</th>\n",
       "      <th>atlas_code</th>\n",
       "      <th>country</th>\n",
       "      <th>eea_grid_id</th>\n",
       "      <th>urban_area_percent</th>\n",
       "      <th>industrial_area_percent</th>\n",
       "      <th>agriculture_area_percent</th>\n",
       "      <th>forest_area_percent</th>\n",
       "      <th>grassland_area_percent</th>\n",
       "      <th>shrubland_area_percent</th>\n",
       "      <th>coastal_area_percent</th>\n",
       "      <th>rocky_area_percent</th>\n",
       "      <th>sparsley_vegetated_area_percent</th>\n",
       "      <th>burnt_area_percent</th>\n",
       "      <th>glacier_area_percent</th>\n",
       "      <th>wetlands_area_percent</th>\n",
       "      <th>water_area_percent</th>\n",
       "      <th>Code_18</th>\n",
       "    </tr>\n",
       "  </thead>\n",
       "  <tbody>\n",
       "    <tr>\n",
       "      <th>155188</th>\n",
       "      <td>38355619</td>\n",
       "      <td>463</td>\n",
       "      <td>Wiesenpieper</td>\n",
       "      <td>2019-04-03</td>\n",
       "      <td>54.033346</td>\n",
       "      <td>6.626898</td>\n",
       "      <td>0</td>\n",
       "      <td>2</td>\n",
       "      <td>NaN</td>\n",
       "      <td>de</td>\n",
       "      <td>50kmE4100N3400</td>\n",
       "      <td>NaN</td>\n",
       "      <td>NaN</td>\n",
       "      <td>NaN</td>\n",
       "      <td>NaN</td>\n",
       "      <td>NaN</td>\n",
       "      <td>NaN</td>\n",
       "      <td>NaN</td>\n",
       "      <td>NaN</td>\n",
       "      <td>NaN</td>\n",
       "      <td>NaN</td>\n",
       "      <td>NaN</td>\n",
       "      <td>NaN</td>\n",
       "      <td>NaN</td>\n",
       "      <td>NaN</td>\n",
       "    </tr>\n",
       "    <tr>\n",
       "      <th>257889</th>\n",
       "      <td>34581793</td>\n",
       "      <td>463</td>\n",
       "      <td>Wiesenpieper</td>\n",
       "      <td>2018-09-04</td>\n",
       "      <td>54.494140</td>\n",
       "      <td>7.874070</td>\n",
       "      <td>0</td>\n",
       "      <td>0</td>\n",
       "      <td>NaN</td>\n",
       "      <td>de</td>\n",
       "      <td>50kmE4150N3450</td>\n",
       "      <td>NaN</td>\n",
       "      <td>NaN</td>\n",
       "      <td>NaN</td>\n",
       "      <td>NaN</td>\n",
       "      <td>NaN</td>\n",
       "      <td>NaN</td>\n",
       "      <td>NaN</td>\n",
       "      <td>NaN</td>\n",
       "      <td>NaN</td>\n",
       "      <td>NaN</td>\n",
       "      <td>NaN</td>\n",
       "      <td>NaN</td>\n",
       "      <td>NaN</td>\n",
       "      <td>NaN</td>\n",
       "    </tr>\n",
       "    <tr>\n",
       "      <th>257890</th>\n",
       "      <td>34581823</td>\n",
       "      <td>399</td>\n",
       "      <td>Steinschmätzer</td>\n",
       "      <td>2018-09-04</td>\n",
       "      <td>54.052516</td>\n",
       "      <td>6.640945</td>\n",
       "      <td>0</td>\n",
       "      <td>1</td>\n",
       "      <td>NaN</td>\n",
       "      <td>de</td>\n",
       "      <td>50kmE4100N3400</td>\n",
       "      <td>NaN</td>\n",
       "      <td>NaN</td>\n",
       "      <td>NaN</td>\n",
       "      <td>NaN</td>\n",
       "      <td>NaN</td>\n",
       "      <td>NaN</td>\n",
       "      <td>NaN</td>\n",
       "      <td>NaN</td>\n",
       "      <td>NaN</td>\n",
       "      <td>NaN</td>\n",
       "      <td>NaN</td>\n",
       "      <td>NaN</td>\n",
       "      <td>NaN</td>\n",
       "      <td>NaN</td>\n",
       "    </tr>\n",
       "    <tr>\n",
       "      <th>286363</th>\n",
       "      <td>31552365</td>\n",
       "      <td>531</td>\n",
       "      <td>Rohrammer</td>\n",
       "      <td>2018-04-05</td>\n",
       "      <td>55.087171</td>\n",
       "      <td>6.038972</td>\n",
       "      <td>-1</td>\n",
       "      <td>0</td>\n",
       "      <td>NaN</td>\n",
       "      <td>de</td>\n",
       "      <td>50kmE4050N3550</td>\n",
       "      <td>NaN</td>\n",
       "      <td>NaN</td>\n",
       "      <td>NaN</td>\n",
       "      <td>NaN</td>\n",
       "      <td>NaN</td>\n",
       "      <td>NaN</td>\n",
       "      <td>NaN</td>\n",
       "      <td>NaN</td>\n",
       "      <td>NaN</td>\n",
       "      <td>NaN</td>\n",
       "      <td>NaN</td>\n",
       "      <td>NaN</td>\n",
       "      <td>NaN</td>\n",
       "      <td>NaN</td>\n",
       "    </tr>\n",
       "    <tr>\n",
       "      <th>324169</th>\n",
       "      <td>34581853</td>\n",
       "      <td>399</td>\n",
       "      <td>Steinschmätzer</td>\n",
       "      <td>2018-09-05</td>\n",
       "      <td>54.052516</td>\n",
       "      <td>6.640945</td>\n",
       "      <td>0</td>\n",
       "      <td>0</td>\n",
       "      <td>NaN</td>\n",
       "      <td>de</td>\n",
       "      <td>50kmE4100N3400</td>\n",
       "      <td>NaN</td>\n",
       "      <td>NaN</td>\n",
       "      <td>NaN</td>\n",
       "      <td>NaN</td>\n",
       "      <td>NaN</td>\n",
       "      <td>NaN</td>\n",
       "      <td>NaN</td>\n",
       "      <td>NaN</td>\n",
       "      <td>NaN</td>\n",
       "      <td>NaN</td>\n",
       "      <td>NaN</td>\n",
       "      <td>NaN</td>\n",
       "      <td>NaN</td>\n",
       "      <td>NaN</td>\n",
       "    </tr>\n",
       "  </tbody>\n",
       "</table>\n",
       "</div>"
      ],
      "text/plain": [
       "        id_sighting  id_species    name_species        date  coord_lat  coord_lon  altitude  total_count atlas_code country     eea_grid_id  urban_area_percent  industrial_area_percent  agriculture_area_percent  forest_area_percent  grassland_area_percent  shrubland_area_percent  coastal_area_percent  rocky_area_percent  sparsley_vegetated_area_percent  burnt_area_percent  glacier_area_percent  wetlands_area_percent  water_area_percent  Code_18\n",
       "155188     38355619         463    Wiesenpieper  2019-04-03  54.033346   6.626898         0            2        NaN      de  50kmE4100N3400                 NaN                      NaN                       NaN                  NaN                     NaN                     NaN                   NaN                 NaN                              NaN                 NaN                   NaN                    NaN                 NaN      NaN\n",
       "257889     34581793         463    Wiesenpieper  2018-09-04  54.494140   7.874070         0            0        NaN      de  50kmE4150N3450                 NaN                      NaN                       NaN                  NaN                     NaN                     NaN                   NaN                 NaN                              NaN                 NaN                   NaN                    NaN                 NaN      NaN\n",
       "257890     34581823         399  Steinschmätzer  2018-09-04  54.052516   6.640945         0            1        NaN      de  50kmE4100N3400                 NaN                      NaN                       NaN                  NaN                     NaN                     NaN                   NaN                 NaN                              NaN                 NaN                   NaN                    NaN                 NaN      NaN\n",
       "286363     31552365         531       Rohrammer  2018-04-05  55.087171   6.038972        -1            0        NaN      de  50kmE4050N3550                 NaN                      NaN                       NaN                  NaN                     NaN                     NaN                   NaN                 NaN                              NaN                 NaN                   NaN                    NaN                 NaN      NaN\n",
       "324169     34581853         399  Steinschmätzer  2018-09-05  54.052516   6.640945         0            0        NaN      de  50kmE4100N3400                 NaN                      NaN                       NaN                  NaN                     NaN                     NaN                   NaN                 NaN                              NaN                 NaN                   NaN                    NaN                 NaN      NaN"
      ]
     },
     "execution_count": 82,
     "metadata": {},
     "output_type": "execute_result"
    }
   ],
   "source": [
    "nan_rows.head(5)"
   ]
  },
  {
   "cell_type": "code",
   "execution_count": 83,
   "metadata": {},
   "outputs": [
    {
     "data": {
      "application/vnd.plotly.v1+json": {
       "config": {
        "plotlyServerURL": "https://plot.ly"
       },
       "data": [
        {
         "hovertemplate": "<b>%{hovertext}</b><br><br>coord_lat=%{lat}<br>coord_lon=%{lon}<extra></extra>",
         "hovertext": [
          "Wiesenpieper"
         ],
         "lat": [
          54.033346
         ],
         "legendgroup": "",
         "lon": [
          6.626898
         ],
         "marker": {
          "color": [
           "#d00000"
          ]
         },
         "mode": "markers",
         "name": "",
         "showlegend": false,
         "subplot": "mapbox",
         "type": "scattermapbox"
        },
        {
         "hovertemplate": "<b>%{hovertext}</b><br><br>coord_lat=%{lat}<br>coord_lon=%{lon}<extra></extra>",
         "hovertext": [
          "Wiesenpieper"
         ],
         "lat": [
          54.494140395526
         ],
         "legendgroup": "",
         "lon": [
          7.87407024306304
         ],
         "marker": {
          "color": [
           "#d00000"
          ]
         },
         "mode": "markers",
         "name": "",
         "showlegend": false,
         "subplot": "mapbox",
         "type": "scattermapbox"
        },
        {
         "hovertemplate": "<b>%{hovertext}</b><br><br>coord_lat=%{lat}<br>coord_lon=%{lon}<extra></extra>",
         "hovertext": [
          "Steinschmätzer"
         ],
         "lat": [
          54.0525156974975
         ],
         "legendgroup": "",
         "lon": [
          6.64094534767041
         ],
         "marker": {
          "color": [
           "#d00000"
          ]
         },
         "mode": "markers",
         "name": "",
         "showlegend": false,
         "subplot": "mapbox",
         "type": "scattermapbox"
        },
        {
         "hovertemplate": "<b>%{hovertext}</b><br><br>coord_lat=%{lat}<br>coord_lon=%{lon}<extra></extra>",
         "hovertext": [
          "Rohrammer"
         ],
         "lat": [
          55.087171
         ],
         "legendgroup": "",
         "lon": [
          6.038972
         ],
         "marker": {
          "color": [
           "#d00000"
          ]
         },
         "mode": "markers",
         "name": "",
         "showlegend": false,
         "subplot": "mapbox",
         "type": "scattermapbox"
        },
        {
         "hovertemplate": "<b>%{hovertext}</b><br><br>coord_lat=%{lat}<br>coord_lon=%{lon}<extra></extra>",
         "hovertext": [
          "Steinschmätzer"
         ],
         "lat": [
          54.0525156974975
         ],
         "legendgroup": "",
         "lon": [
          6.64094534767041
         ],
         "marker": {
          "color": [
           "#d00000"
          ]
         },
         "mode": "markers",
         "name": "",
         "showlegend": false,
         "subplot": "mapbox",
         "type": "scattermapbox"
        },
        {
         "hovertemplate": "<b>%{hovertext}</b><br><br>coord_lat=%{lat}<br>coord_lon=%{lon}<extra></extra>",
         "hovertext": [
          "Steinschmätzer"
         ],
         "lat": [
          54.032159
         ],
         "legendgroup": "",
         "lon": [
          6.644094
         ],
         "marker": {
          "color": [
           "#d00000"
          ]
         },
         "mode": "markers",
         "name": "",
         "showlegend": false,
         "subplot": "mapbox",
         "type": "scattermapbox"
        },
        {
         "hovertemplate": "<b>%{hovertext}</b><br><br>coord_lat=%{lat}<br>coord_lon=%{lon}<extra></extra>",
         "hovertext": [
          "Wiesenpieper"
         ],
         "lat": [
          54.028504
         ],
         "legendgroup": "",
         "lon": [
          6.629806
         ],
         "marker": {
          "color": [
           "#d00000"
          ]
         },
         "mode": "markers",
         "name": "",
         "showlegend": false,
         "subplot": "mapbox",
         "type": "scattermapbox"
        },
        {
         "hovertemplate": "<b>%{hovertext}</b><br><br>coord_lat=%{lat}<br>coord_lon=%{lon}<extra></extra>",
         "hovertext": [
          "Wiesenpieper"
         ],
         "lat": [
          54.8441578137318
         ],
         "legendgroup": "",
         "lon": [
          13.0065588457654
         ],
         "marker": {
          "color": [
           "#d00000"
          ]
         },
         "mode": "markers",
         "name": "",
         "showlegend": false,
         "subplot": "mapbox",
         "type": "scattermapbox"
        },
        {
         "hovertemplate": "<b>%{hovertext}</b><br><br>coord_lat=%{lat}<br>coord_lon=%{lon}<extra></extra>",
         "hovertext": [
          "Singschwan"
         ],
         "lat": [
          54.7691826444937
         ],
         "legendgroup": "",
         "lon": [
          14.0730567802753
         ],
         "marker": {
          "color": [
           "#d00000"
          ]
         },
         "mode": "markers",
         "name": "",
         "showlegend": false,
         "subplot": "mapbox",
         "type": "scattermapbox"
        },
        {
         "hovertemplate": "<b>%{hovertext}</b><br><br>coord_lat=%{lat}<br>coord_lon=%{lon}<extra></extra>",
         "hovertext": [
          "Flussuferläufer"
         ],
         "lat": [
          54.4191461083116
         ],
         "legendgroup": "",
         "lon": [
          7.49080084123681
         ],
         "marker": {
          "color": [
           "#d00000"
          ]
         },
         "mode": "markers",
         "name": "",
         "showlegend": false,
         "subplot": "mapbox",
         "type": "scattermapbox"
        },
        {
         "hovertemplate": "<b>%{hovertext}</b><br><br>coord_lat=%{lat}<br>coord_lon=%{lon}<extra></extra>",
         "hovertext": [
          "Wiesenpieper"
         ],
         "lat": [
          54.4691327642916
         ],
         "legendgroup": "",
         "lon": [
          6.29099501409296
         ],
         "marker": {
          "color": [
           "#d00000"
          ]
         },
         "mode": "markers",
         "name": "",
         "showlegend": false,
         "subplot": "mapbox",
         "type": "scattermapbox"
        },
        {
         "hovertemplate": "<b>%{hovertext}</b><br><br>coord_lat=%{lat}<br>coord_lon=%{lon}<extra></extra>",
         "hovertext": [
          "Haubentaucher"
         ],
         "lat": [
          54.7691826444937
         ],
         "legendgroup": "",
         "lon": [
          14.0730567802753
         ],
         "marker": {
          "color": [
           "#d00000"
          ]
         },
         "mode": "markers",
         "name": "",
         "showlegend": false,
         "subplot": "mapbox",
         "type": "scattermapbox"
        },
        {
         "hovertemplate": "<b>%{hovertext}</b><br><br>coord_lat=%{lat}<br>coord_lon=%{lon}<extra></extra>",
         "hovertext": [
          "Flussuferläufer"
         ],
         "lat": [
          54.4108061160684
         ],
         "legendgroup": "",
         "lon": [
          6.29099596775881
         ],
         "marker": {
          "color": [
           "#d00000"
          ]
         },
         "mode": "markers",
         "name": "",
         "showlegend": false,
         "subplot": "mapbox",
         "type": "scattermapbox"
        },
        {
         "hovertemplate": "<b>%{hovertext}</b><br><br>coord_lat=%{lat}<br>coord_lon=%{lon}<extra></extra>",
         "hovertext": [
          "Rohrammer"
         ],
         "lat": [
          54.534986
         ],
         "legendgroup": "",
         "lon": [
          14.154202
         ],
         "marker": {
          "color": [
           "#d00000"
          ]
         },
         "mode": "markers",
         "name": "",
         "showlegend": false,
         "subplot": "mapbox",
         "type": "scattermapbox"
        },
        {
         "hovertemplate": "<b>%{hovertext}</b><br><br>coord_lat=%{lat}<br>coord_lon=%{lon}<extra></extra>",
         "hovertext": [
          "Rohrammer"
         ],
         "lat": [
          54.534986
         ],
         "legendgroup": "",
         "lon": [
          14.154202
         ],
         "marker": {
          "color": [
           "#d00000"
          ]
         },
         "mode": "markers",
         "name": "",
         "showlegend": false,
         "subplot": "mapbox",
         "type": "scattermapbox"
        },
        {
         "hovertemplate": "<b>%{hovertext}</b><br><br>coord_lat=%{lat}<br>coord_lon=%{lon}<extra></extra>",
         "hovertext": [
          "Wiesenpieper"
         ],
         "lat": [
          54.4274708369823
         ],
         "legendgroup": "",
         "lon": [
          6.29099569563161
         ],
         "marker": {
          "color": [
           "#d00000"
          ]
         },
         "mode": "markers",
         "name": "",
         "showlegend": false,
         "subplot": "mapbox",
         "type": "scattermapbox"
        },
        {
         "hovertemplate": "<b>%{hovertext}</b><br><br>coord_lat=%{lat}<br>coord_lon=%{lon}<extra></extra>",
         "hovertext": [
          "Rohrammer"
         ],
         "lat": [
          54.3691436406332
         ],
         "legendgroup": "",
         "lon": [
          6.19101289076809
         ],
         "marker": {
          "color": [
           "#d00000"
          ]
         },
         "mode": "markers",
         "name": "",
         "showlegend": false,
         "subplot": "mapbox",
         "type": "scattermapbox"
        },
        {
         "hovertemplate": "<b>%{hovertext}</b><br><br>coord_lat=%{lat}<br>coord_lon=%{lon}<extra></extra>",
         "hovertext": [
          "Gelbspötter"
         ],
         "lat": [
          54.5108912032045
         ],
         "legendgroup": "",
         "lon": [
          14.8396133292402
         ],
         "marker": {
          "color": [
           "#d00000"
          ]
         },
         "mode": "markers",
         "name": "",
         "showlegend": false,
         "subplot": "mapbox",
         "type": "scattermapbox"
        },
        {
         "hovertemplate": "<b>%{hovertext}</b><br><br>coord_lat=%{lat}<br>coord_lon=%{lon}<extra></extra>",
         "hovertext": [
          "Haubentaucher"
         ],
         "lat": [
          54.5108912032045
         ],
         "legendgroup": "",
         "lon": [
          14.8396133292402
         ],
         "marker": {
          "color": [
           "#d00000"
          ]
         },
         "mode": "markers",
         "name": "",
         "showlegend": false,
         "subplot": "mapbox",
         "type": "scattermapbox"
        },
        {
         "hovertemplate": "<b>%{hovertext}</b><br><br>coord_lat=%{lat}<br>coord_lon=%{lon}<extra></extra>",
         "hovertext": [
          "Seeadler"
         ],
         "lat": [
          54.5108912032045
         ],
         "legendgroup": "",
         "lon": [
          14.8396133292402
         ],
         "marker": {
          "color": [
           "#d00000"
          ]
         },
         "mode": "markers",
         "name": "",
         "showlegend": false,
         "subplot": "mapbox",
         "type": "scattermapbox"
        },
        {
         "hovertemplate": "<b>%{hovertext}</b><br><br>coord_lat=%{lat}<br>coord_lon=%{lon}<extra></extra>",
         "hovertext": [
          "Wiesenpieper"
         ],
         "lat": [
          54.0275184535097
         ],
         "legendgroup": "",
         "lon": [
          6.62428177656537
         ],
         "marker": {
          "color": [
           "#d00000"
          ]
         },
         "mode": "markers",
         "name": "",
         "showlegend": false,
         "subplot": "mapbox",
         "type": "scattermapbox"
        },
        {
         "hovertemplate": "<b>%{hovertext}</b><br><br>coord_lat=%{lat}<br>coord_lon=%{lon}<extra></extra>",
         "hovertext": [
          "Wiesenpieper"
         ],
         "lat": [
          54.4274708369823
         ],
         "legendgroup": "",
         "lon": [
          6.29099569563161
         ],
         "marker": {
          "color": [
           "#d00000"
          ]
         },
         "mode": "markers",
         "name": "",
         "showlegend": false,
         "subplot": "mapbox",
         "type": "scattermapbox"
        },
        {
         "hovertemplate": "<b>%{hovertext}</b><br><br>coord_lat=%{lat}<br>coord_lon=%{lon}<extra></extra>",
         "hovertext": [
          "Steinschmätzer"
         ],
         "lat": [
          54.959225
         ],
         "legendgroup": "",
         "lon": [
          6.724844
         ],
         "marker": {
          "color": [
           "#d00000"
          ]
         },
         "mode": "markers",
         "name": "",
         "showlegend": false,
         "subplot": "mapbox",
         "type": "scattermapbox"
        },
        {
         "hovertemplate": "<b>%{hovertext}</b><br><br>coord_lat=%{lat}<br>coord_lon=%{lon}<extra></extra>",
         "hovertext": [
          "Wiesenpieper"
         ],
         "lat": [
          55.0024753813826
         ],
         "legendgroup": "",
         "lon": [
          13.1565275024428
         ],
         "marker": {
          "color": [
           "#d00000"
          ]
         },
         "mode": "markers",
         "name": "",
         "showlegend": false,
         "subplot": "mapbox",
         "type": "scattermapbox"
        },
        {
         "hovertemplate": "<b>%{hovertext}</b><br><br>coord_lat=%{lat}<br>coord_lon=%{lon}<extra></extra>",
         "hovertext": [
          "Wiesenpieper"
         ],
         "lat": [
          54.029744
         ],
         "legendgroup": "",
         "lon": [
          6.630409
         ],
         "marker": {
          "color": [
           "#d00000"
          ]
         },
         "mode": "markers",
         "name": "",
         "showlegend": false,
         "subplot": "mapbox",
         "type": "scattermapbox"
        },
        {
         "hovertemplate": "<b>%{hovertext}</b><br><br>coord_lat=%{lat}<br>coord_lon=%{lon}<extra></extra>",
         "hovertext": [
          "Flussuferläufer"
         ],
         "lat": [
          54.3441480846687
         ],
         "legendgroup": "",
         "lon": [
          6.47430060891153
         ],
         "marker": {
          "color": [
           "#d00000"
          ]
         },
         "mode": "markers",
         "name": "",
         "showlegend": false,
         "subplot": "mapbox",
         "type": "scattermapbox"
        },
        {
         "hovertemplate": "<b>%{hovertext}</b><br><br>coord_lat=%{lat}<br>coord_lon=%{lon}<extra></extra>",
         "hovertext": [
          "Wiesenpieper"
         ],
         "lat": [
          54.8608392219355
         ],
         "legendgroup": "",
         "lon": [
          14.0897163754832
         ],
         "marker": {
          "color": [
           "#d00000"
          ]
         },
         "mode": "markers",
         "name": "",
         "showlegend": false,
         "subplot": "mapbox",
         "type": "scattermapbox"
        },
        {
         "hovertemplate": "<b>%{hovertext}</b><br><br>coord_lat=%{lat}<br>coord_lon=%{lon}<extra></extra>",
         "hovertext": [
          "Wiesenpieper"
         ],
         "lat": [
          54.028415
         ],
         "legendgroup": "",
         "lon": [
          6.62177
         ],
         "marker": {
          "color": [
           "#d00000"
          ]
         },
         "mode": "markers",
         "name": "",
         "showlegend": false,
         "subplot": "mapbox",
         "type": "scattermapbox"
        },
        {
         "hovertemplate": "<b>%{hovertext}</b><br><br>coord_lat=%{lat}<br>coord_lon=%{lon}<extra></extra>",
         "hovertext": [
          "Wiesenpieper"
         ],
         "lat": [
          54.0275184535097
         ],
         "legendgroup": "",
         "lon": [
          6.62428177656537
         ],
         "marker": {
          "color": [
           "#d00000"
          ]
         },
         "mode": "markers",
         "name": "",
         "showlegend": false,
         "subplot": "mapbox",
         "type": "scattermapbox"
        },
        {
         "hovertemplate": "<b>%{hovertext}</b><br><br>coord_lat=%{lat}<br>coord_lon=%{lon}<extra></extra>",
         "hovertext": [
          "Wiesenpieper"
         ],
         "lat": [
          54.866478
         ],
         "legendgroup": "",
         "lon": [
          13.768379
         ],
         "marker": {
          "color": [
           "#d00000"
          ]
         },
         "mode": "markers",
         "name": "",
         "showlegend": false,
         "subplot": "mapbox",
         "type": "scattermapbox"
        },
        {
         "hovertemplate": "<b>%{hovertext}</b><br><br>coord_lat=%{lat}<br>coord_lon=%{lon}<extra></extra>",
         "hovertext": [
          "Wiesenpieper"
         ],
         "lat": [
          54.911643
         ],
         "legendgroup": "",
         "lon": [
          12.991344
         ],
         "marker": {
          "color": [
           "#d00000"
          ]
         },
         "mode": "markers",
         "name": "",
         "showlegend": false,
         "subplot": "mapbox",
         "type": "scattermapbox"
        },
        {
         "hovertemplate": "<b>%{hovertext}</b><br><br>coord_lat=%{lat}<br>coord_lon=%{lon}<extra></extra>",
         "hovertext": [
          "Singschwan"
         ],
         "lat": [
          54.3775645947061
         ],
         "legendgroup": "",
         "lon": [
          14.3396995264787
         ],
         "marker": {
          "color": [
           "#d00000"
          ]
         },
         "mode": "markers",
         "name": "",
         "showlegend": false,
         "subplot": "mapbox",
         "type": "scattermapbox"
        },
        {
         "hovertemplate": "<b>%{hovertext}</b><br><br>coord_lat=%{lat}<br>coord_lon=%{lon}<extra></extra>",
         "hovertext": [
          "Wiesenpieper"
         ],
         "lat": [
          54.911643
         ],
         "legendgroup": "",
         "lon": [
          12.991344
         ],
         "marker": {
          "color": [
           "#d00000"
          ]
         },
         "mode": "markers",
         "name": "",
         "showlegend": false,
         "subplot": "mapbox",
         "type": "scattermapbox"
        },
        {
         "hovertemplate": "<b>%{hovertext}</b><br><br>coord_lat=%{lat}<br>coord_lon=%{lon}<extra></extra>",
         "hovertext": [
          "Wiesenpieper"
         ],
         "lat": [
          54.9774777220418
         ],
         "legendgroup": "",
         "lon": [
          13.1232006588476
         ],
         "marker": {
          "color": [
           "#d00000"
          ]
         },
         "mode": "markers",
         "name": "",
         "showlegend": false,
         "subplot": "mapbox",
         "type": "scattermapbox"
        },
        {
         "hovertemplate": "<b>%{hovertext}</b><br><br>coord_lat=%{lat}<br>coord_lon=%{lon}<extra></extra>",
         "hovertext": [
          "Wiesenpieper"
         ],
         "lat": [
          54.0275184535097
         ],
         "legendgroup": "",
         "lon": [
          6.62428177656537
         ],
         "marker": {
          "color": [
           "#d00000"
          ]
         },
         "mode": "markers",
         "name": "",
         "showlegend": false,
         "subplot": "mapbox",
         "type": "scattermapbox"
        },
        {
         "hovertemplate": "<b>%{hovertext}</b><br><br>coord_lat=%{lat}<br>coord_lon=%{lon}<extra></extra>",
         "hovertext": [
          "Steinschmätzer"
         ],
         "lat": [
          54.0275184535097
         ],
         "legendgroup": "",
         "lon": [
          6.62428177656537
         ],
         "marker": {
          "color": [
           "#d00000"
          ]
         },
         "mode": "markers",
         "name": "",
         "showlegend": false,
         "subplot": "mapbox",
         "type": "scattermapbox"
        },
        {
         "hovertemplate": "<b>%{hovertext}</b><br><br>coord_lat=%{lat}<br>coord_lon=%{lon}<extra></extra>",
         "hovertext": [
          "Wiesenpieper"
         ],
         "lat": [
          54.0275184535097
         ],
         "legendgroup": "",
         "lon": [
          6.62428177656537
         ],
         "marker": {
          "color": [
           "#d00000"
          ]
         },
         "mode": "markers",
         "name": "",
         "showlegend": false,
         "subplot": "mapbox",
         "type": "scattermapbox"
        },
        {
         "hovertemplate": "<b>%{hovertext}</b><br><br>coord_lat=%{lat}<br>coord_lon=%{lon}<extra></extra>",
         "hovertext": [
          "Rohrammer"
         ],
         "lat": [
          54.9524820416747
         ],
         "legendgroup": "",
         "lon": [
          13.2231855592161
         ],
         "marker": {
          "color": [
           "#d00000"
          ]
         },
         "mode": "markers",
         "name": "",
         "showlegend": false,
         "subplot": "mapbox",
         "type": "scattermapbox"
        },
        {
         "hovertemplate": "<b>%{hovertext}</b><br><br>coord_lat=%{lat}<br>coord_lon=%{lon}<extra></extra>",
         "hovertext": [
          "Schwarzmilan"
         ],
         "lat": [
          54.9524820416747
         ],
         "legendgroup": "",
         "lon": [
          13.2231855592161
         ],
         "marker": {
          "color": [
           "#d00000"
          ]
         },
         "mode": "markers",
         "name": "",
         "showlegend": false,
         "subplot": "mapbox",
         "type": "scattermapbox"
        },
        {
         "hovertemplate": "<b>%{hovertext}</b><br><br>coord_lat=%{lat}<br>coord_lon=%{lon}<extra></extra>",
         "hovertext": [
          "Singschwan"
         ],
         "lat": [
          54.9524820416747
         ],
         "legendgroup": "",
         "lon": [
          13.2231855592161
         ],
         "marker": {
          "color": [
           "#d00000"
          ]
         },
         "mode": "markers",
         "name": "",
         "showlegend": false,
         "subplot": "mapbox",
         "type": "scattermapbox"
        },
        {
         "hovertemplate": "<b>%{hovertext}</b><br><br>coord_lat=%{lat}<br>coord_lon=%{lon}<extra></extra>",
         "hovertext": [
          "Wiesenpieper"
         ],
         "lat": [
          54.0525157976222
         ],
         "legendgroup": "",
         "lon": [
          6.65760928741553
         ],
         "marker": {
          "color": [
           "#d00000"
          ]
         },
         "mode": "markers",
         "name": "",
         "showlegend": false,
         "subplot": "mapbox",
         "type": "scattermapbox"
        },
        {
         "hovertemplate": "<b>%{hovertext}</b><br><br>coord_lat=%{lat}<br>coord_lon=%{lon}<extra></extra>",
         "hovertext": [
          "Haubentaucher"
         ],
         "lat": [
          54.4442240100208
         ],
         "legendgroup": "",
         "lon": [
          14.3563603626213
         ],
         "marker": {
          "color": [
           "#d00000"
          ]
         },
         "mode": "markers",
         "name": "",
         "showlegend": false,
         "subplot": "mapbox",
         "type": "scattermapbox"
        },
        {
         "hovertemplate": "<b>%{hovertext}</b><br><br>coord_lat=%{lat}<br>coord_lon=%{lon}<extra></extra>",
         "hovertext": [
          "Steinschmätzer"
         ],
         "lat": [
          54.0275184535097
         ],
         "legendgroup": "",
         "lon": [
          6.62428177656537
         ],
         "marker": {
          "color": [
           "#d00000"
          ]
         },
         "mode": "markers",
         "name": "",
         "showlegend": false,
         "subplot": "mapbox",
         "type": "scattermapbox"
        },
        {
         "hovertemplate": "<b>%{hovertext}</b><br><br>coord_lat=%{lat}<br>coord_lon=%{lon}<extra></extra>",
         "hovertext": [
          "Singschwan"
         ],
         "lat": [
          54.9524820416747
         ],
         "legendgroup": "",
         "lon": [
          13.2231855592161
         ],
         "marker": {
          "color": [
           "#d00000"
          ]
         },
         "mode": "markers",
         "name": "",
         "showlegend": false,
         "subplot": "mapbox",
         "type": "scattermapbox"
        },
        {
         "hovertemplate": "<b>%{hovertext}</b><br><br>coord_lat=%{lat}<br>coord_lon=%{lon}<extra></extra>",
         "hovertext": [
          "Steinschmätzer"
         ],
         "lat": [
          54.025731355332674
         ],
         "legendgroup": "",
         "lon": [
          6.620409084020444
         ],
         "marker": {
          "color": [
           "#d00000"
          ]
         },
         "mode": "markers",
         "name": "",
         "showlegend": false,
         "subplot": "mapbox",
         "type": "scattermapbox"
        },
        {
         "hovertemplate": "<b>%{hovertext}</b><br><br>coord_lat=%{lat}<br>coord_lon=%{lon}<extra></extra>",
         "hovertext": [
          "Wiesenpieper"
         ],
         "lat": [
          54.90368
         ],
         "legendgroup": "",
         "lon": [
          13.750534
         ],
         "marker": {
          "color": [
           "#d00000"
          ]
         },
         "mode": "markers",
         "name": "",
         "showlegend": false,
         "subplot": "mapbox",
         "type": "scattermapbox"
        }
       ],
       "layout": {
        "mapbox": {
         "center": {
          "lat": 54.90368,
          "lon": 13.750534
         },
         "style": "open-street-map",
         "zoom": 5
        },
        "margin": {
         "b": 0,
         "l": 0,
         "r": 0,
         "t": 0
        },
        "showlegend": false,
        "template": {
         "data": {
          "bar": [
           {
            "error_x": {
             "color": "#2a3f5f"
            },
            "error_y": {
             "color": "#2a3f5f"
            },
            "marker": {
             "line": {
              "color": "#E5ECF6",
              "width": 0.5
             },
             "pattern": {
              "fillmode": "overlay",
              "size": 10,
              "solidity": 0.2
             }
            },
            "type": "bar"
           }
          ],
          "barpolar": [
           {
            "marker": {
             "line": {
              "color": "#E5ECF6",
              "width": 0.5
             },
             "pattern": {
              "fillmode": "overlay",
              "size": 10,
              "solidity": 0.2
             }
            },
            "type": "barpolar"
           }
          ],
          "carpet": [
           {
            "aaxis": {
             "endlinecolor": "#2a3f5f",
             "gridcolor": "white",
             "linecolor": "white",
             "minorgridcolor": "white",
             "startlinecolor": "#2a3f5f"
            },
            "baxis": {
             "endlinecolor": "#2a3f5f",
             "gridcolor": "white",
             "linecolor": "white",
             "minorgridcolor": "white",
             "startlinecolor": "#2a3f5f"
            },
            "type": "carpet"
           }
          ],
          "choropleth": [
           {
            "colorbar": {
             "outlinewidth": 0,
             "ticks": ""
            },
            "type": "choropleth"
           }
          ],
          "contour": [
           {
            "colorbar": {
             "outlinewidth": 0,
             "ticks": ""
            },
            "colorscale": [
             [
              0,
              "#0d0887"
             ],
             [
              0.1111111111111111,
              "#46039f"
             ],
             [
              0.2222222222222222,
              "#7201a8"
             ],
             [
              0.3333333333333333,
              "#9c179e"
             ],
             [
              0.4444444444444444,
              "#bd3786"
             ],
             [
              0.5555555555555556,
              "#d8576b"
             ],
             [
              0.6666666666666666,
              "#ed7953"
             ],
             [
              0.7777777777777778,
              "#fb9f3a"
             ],
             [
              0.8888888888888888,
              "#fdca26"
             ],
             [
              1,
              "#f0f921"
             ]
            ],
            "type": "contour"
           }
          ],
          "contourcarpet": [
           {
            "colorbar": {
             "outlinewidth": 0,
             "ticks": ""
            },
            "type": "contourcarpet"
           }
          ],
          "heatmap": [
           {
            "colorbar": {
             "outlinewidth": 0,
             "ticks": ""
            },
            "colorscale": [
             [
              0,
              "#0d0887"
             ],
             [
              0.1111111111111111,
              "#46039f"
             ],
             [
              0.2222222222222222,
              "#7201a8"
             ],
             [
              0.3333333333333333,
              "#9c179e"
             ],
             [
              0.4444444444444444,
              "#bd3786"
             ],
             [
              0.5555555555555556,
              "#d8576b"
             ],
             [
              0.6666666666666666,
              "#ed7953"
             ],
             [
              0.7777777777777778,
              "#fb9f3a"
             ],
             [
              0.8888888888888888,
              "#fdca26"
             ],
             [
              1,
              "#f0f921"
             ]
            ],
            "type": "heatmap"
           }
          ],
          "heatmapgl": [
           {
            "colorbar": {
             "outlinewidth": 0,
             "ticks": ""
            },
            "colorscale": [
             [
              0,
              "#0d0887"
             ],
             [
              0.1111111111111111,
              "#46039f"
             ],
             [
              0.2222222222222222,
              "#7201a8"
             ],
             [
              0.3333333333333333,
              "#9c179e"
             ],
             [
              0.4444444444444444,
              "#bd3786"
             ],
             [
              0.5555555555555556,
              "#d8576b"
             ],
             [
              0.6666666666666666,
              "#ed7953"
             ],
             [
              0.7777777777777778,
              "#fb9f3a"
             ],
             [
              0.8888888888888888,
              "#fdca26"
             ],
             [
              1,
              "#f0f921"
             ]
            ],
            "type": "heatmapgl"
           }
          ],
          "histogram": [
           {
            "marker": {
             "pattern": {
              "fillmode": "overlay",
              "size": 10,
              "solidity": 0.2
             }
            },
            "type": "histogram"
           }
          ],
          "histogram2d": [
           {
            "colorbar": {
             "outlinewidth": 0,
             "ticks": ""
            },
            "colorscale": [
             [
              0,
              "#0d0887"
             ],
             [
              0.1111111111111111,
              "#46039f"
             ],
             [
              0.2222222222222222,
              "#7201a8"
             ],
             [
              0.3333333333333333,
              "#9c179e"
             ],
             [
              0.4444444444444444,
              "#bd3786"
             ],
             [
              0.5555555555555556,
              "#d8576b"
             ],
             [
              0.6666666666666666,
              "#ed7953"
             ],
             [
              0.7777777777777778,
              "#fb9f3a"
             ],
             [
              0.8888888888888888,
              "#fdca26"
             ],
             [
              1,
              "#f0f921"
             ]
            ],
            "type": "histogram2d"
           }
          ],
          "histogram2dcontour": [
           {
            "colorbar": {
             "outlinewidth": 0,
             "ticks": ""
            },
            "colorscale": [
             [
              0,
              "#0d0887"
             ],
             [
              0.1111111111111111,
              "#46039f"
             ],
             [
              0.2222222222222222,
              "#7201a8"
             ],
             [
              0.3333333333333333,
              "#9c179e"
             ],
             [
              0.4444444444444444,
              "#bd3786"
             ],
             [
              0.5555555555555556,
              "#d8576b"
             ],
             [
              0.6666666666666666,
              "#ed7953"
             ],
             [
              0.7777777777777778,
              "#fb9f3a"
             ],
             [
              0.8888888888888888,
              "#fdca26"
             ],
             [
              1,
              "#f0f921"
             ]
            ],
            "type": "histogram2dcontour"
           }
          ],
          "mesh3d": [
           {
            "colorbar": {
             "outlinewidth": 0,
             "ticks": ""
            },
            "type": "mesh3d"
           }
          ],
          "parcoords": [
           {
            "line": {
             "colorbar": {
              "outlinewidth": 0,
              "ticks": ""
             }
            },
            "type": "parcoords"
           }
          ],
          "pie": [
           {
            "automargin": true,
            "type": "pie"
           }
          ],
          "scatter": [
           {
            "fillpattern": {
             "fillmode": "overlay",
             "size": 10,
             "solidity": 0.2
            },
            "type": "scatter"
           }
          ],
          "scatter3d": [
           {
            "line": {
             "colorbar": {
              "outlinewidth": 0,
              "ticks": ""
             }
            },
            "marker": {
             "colorbar": {
              "outlinewidth": 0,
              "ticks": ""
             }
            },
            "type": "scatter3d"
           }
          ],
          "scattercarpet": [
           {
            "marker": {
             "colorbar": {
              "outlinewidth": 0,
              "ticks": ""
             }
            },
            "type": "scattercarpet"
           }
          ],
          "scattergeo": [
           {
            "marker": {
             "colorbar": {
              "outlinewidth": 0,
              "ticks": ""
             }
            },
            "type": "scattergeo"
           }
          ],
          "scattergl": [
           {
            "marker": {
             "colorbar": {
              "outlinewidth": 0,
              "ticks": ""
             }
            },
            "type": "scattergl"
           }
          ],
          "scattermapbox": [
           {
            "marker": {
             "colorbar": {
              "outlinewidth": 0,
              "ticks": ""
             }
            },
            "type": "scattermapbox"
           }
          ],
          "scatterpolar": [
           {
            "marker": {
             "colorbar": {
              "outlinewidth": 0,
              "ticks": ""
             }
            },
            "type": "scatterpolar"
           }
          ],
          "scatterpolargl": [
           {
            "marker": {
             "colorbar": {
              "outlinewidth": 0,
              "ticks": ""
             }
            },
            "type": "scatterpolargl"
           }
          ],
          "scatterternary": [
           {
            "marker": {
             "colorbar": {
              "outlinewidth": 0,
              "ticks": ""
             }
            },
            "type": "scatterternary"
           }
          ],
          "surface": [
           {
            "colorbar": {
             "outlinewidth": 0,
             "ticks": ""
            },
            "colorscale": [
             [
              0,
              "#0d0887"
             ],
             [
              0.1111111111111111,
              "#46039f"
             ],
             [
              0.2222222222222222,
              "#7201a8"
             ],
             [
              0.3333333333333333,
              "#9c179e"
             ],
             [
              0.4444444444444444,
              "#bd3786"
             ],
             [
              0.5555555555555556,
              "#d8576b"
             ],
             [
              0.6666666666666666,
              "#ed7953"
             ],
             [
              0.7777777777777778,
              "#fb9f3a"
             ],
             [
              0.8888888888888888,
              "#fdca26"
             ],
             [
              1,
              "#f0f921"
             ]
            ],
            "type": "surface"
           }
          ],
          "table": [
           {
            "cells": {
             "fill": {
              "color": "#EBF0F8"
             },
             "line": {
              "color": "white"
             }
            },
            "header": {
             "fill": {
              "color": "#C8D4E3"
             },
             "line": {
              "color": "white"
             }
            },
            "type": "table"
           }
          ]
         },
         "layout": {
          "annotationdefaults": {
           "arrowcolor": "#2a3f5f",
           "arrowhead": 0,
           "arrowwidth": 1
          },
          "autotypenumbers": "strict",
          "coloraxis": {
           "colorbar": {
            "outlinewidth": 0,
            "ticks": ""
           }
          },
          "colorscale": {
           "diverging": [
            [
             0,
             "#8e0152"
            ],
            [
             0.1,
             "#c51b7d"
            ],
            [
             0.2,
             "#de77ae"
            ],
            [
             0.3,
             "#f1b6da"
            ],
            [
             0.4,
             "#fde0ef"
            ],
            [
             0.5,
             "#f7f7f7"
            ],
            [
             0.6,
             "#e6f5d0"
            ],
            [
             0.7,
             "#b8e186"
            ],
            [
             0.8,
             "#7fbc41"
            ],
            [
             0.9,
             "#4d9221"
            ],
            [
             1,
             "#276419"
            ]
           ],
           "sequential": [
            [
             0,
             "#0d0887"
            ],
            [
             0.1111111111111111,
             "#46039f"
            ],
            [
             0.2222222222222222,
             "#7201a8"
            ],
            [
             0.3333333333333333,
             "#9c179e"
            ],
            [
             0.4444444444444444,
             "#bd3786"
            ],
            [
             0.5555555555555556,
             "#d8576b"
            ],
            [
             0.6666666666666666,
             "#ed7953"
            ],
            [
             0.7777777777777778,
             "#fb9f3a"
            ],
            [
             0.8888888888888888,
             "#fdca26"
            ],
            [
             1,
             "#f0f921"
            ]
           ],
           "sequentialminus": [
            [
             0,
             "#0d0887"
            ],
            [
             0.1111111111111111,
             "#46039f"
            ],
            [
             0.2222222222222222,
             "#7201a8"
            ],
            [
             0.3333333333333333,
             "#9c179e"
            ],
            [
             0.4444444444444444,
             "#bd3786"
            ],
            [
             0.5555555555555556,
             "#d8576b"
            ],
            [
             0.6666666666666666,
             "#ed7953"
            ],
            [
             0.7777777777777778,
             "#fb9f3a"
            ],
            [
             0.8888888888888888,
             "#fdca26"
            ],
            [
             1,
             "#f0f921"
            ]
           ]
          },
          "colorway": [
           "#636efa",
           "#EF553B",
           "#00cc96",
           "#ab63fa",
           "#FFA15A",
           "#19d3f3",
           "#FF6692",
           "#B6E880",
           "#FF97FF",
           "#FECB52"
          ],
          "font": {
           "color": "#2a3f5f"
          },
          "geo": {
           "bgcolor": "white",
           "lakecolor": "white",
           "landcolor": "#E5ECF6",
           "showlakes": true,
           "showland": true,
           "subunitcolor": "white"
          },
          "hoverlabel": {
           "align": "left"
          },
          "hovermode": "closest",
          "mapbox": {
           "style": "light"
          },
          "paper_bgcolor": "white",
          "plot_bgcolor": "#E5ECF6",
          "polar": {
           "angularaxis": {
            "gridcolor": "white",
            "linecolor": "white",
            "ticks": ""
           },
           "bgcolor": "#E5ECF6",
           "radialaxis": {
            "gridcolor": "white",
            "linecolor": "white",
            "ticks": ""
           }
          },
          "scene": {
           "xaxis": {
            "backgroundcolor": "#E5ECF6",
            "gridcolor": "white",
            "gridwidth": 2,
            "linecolor": "white",
            "showbackground": true,
            "ticks": "",
            "zerolinecolor": "white"
           },
           "yaxis": {
            "backgroundcolor": "#E5ECF6",
            "gridcolor": "white",
            "gridwidth": 2,
            "linecolor": "white",
            "showbackground": true,
            "ticks": "",
            "zerolinecolor": "white"
           },
           "zaxis": {
            "backgroundcolor": "#E5ECF6",
            "gridcolor": "white",
            "gridwidth": 2,
            "linecolor": "white",
            "showbackground": true,
            "ticks": "",
            "zerolinecolor": "white"
           }
          },
          "shapedefaults": {
           "line": {
            "color": "#2a3f5f"
           }
          },
          "ternary": {
           "aaxis": {
            "gridcolor": "white",
            "linecolor": "white",
            "ticks": ""
           },
           "baxis": {
            "gridcolor": "white",
            "linecolor": "white",
            "ticks": ""
           },
           "bgcolor": "#E5ECF6",
           "caxis": {
            "gridcolor": "white",
            "linecolor": "white",
            "ticks": ""
           }
          },
          "title": {
           "x": 0.05
          },
          "xaxis": {
           "automargin": true,
           "gridcolor": "white",
           "linecolor": "white",
           "ticks": "",
           "title": {
            "standoff": 15
           },
           "zerolinecolor": "white",
           "zerolinewidth": 2
          },
          "yaxis": {
           "automargin": true,
           "gridcolor": "white",
           "linecolor": "white",
           "ticks": "",
           "title": {
            "standoff": 15
           },
           "zerolinecolor": "white",
           "zerolinewidth": 2
          }
         }
        }
       }
      }
     },
     "metadata": {},
     "output_type": "display_data"
    }
   ],
   "source": [
    "layout = go.Layout(\n",
    "    mapbox=dict(\n",
    "        style='open-street-map',\n",
    "        zoom=10), showlegend=False, margin=dict(l=0, r=0, t=0, b=0))\n",
    "fig = go.Figure(layout=layout)\n",
    "\n",
    "for i in range(len(nan_rows)):\n",
    "    # Get bird sighting\n",
    "    bird_sighting = nan_rows.iloc[i].copy()\n",
    "    bird_sighting['color'] = '#d00000'\n",
    "    geometry = gpd.points_from_xy([bird_sighting['coord_lon']], [bird_sighting['coord_lat']])\n",
    "    gdf_data_point = gpd.GeoDataFrame([bird_sighting], geometry=geometry, crs='EPSG:4326')\n",
    "\n",
    "    # Add point to map\n",
    "    fig.add_trace(px.scatter_mapbox(gdf_data_point,\n",
    "                    lat='coord_lat', lon='coord_lon', size_max=10, color_discrete_sequence=[gdf_data_point.color],\n",
    "                    hover_name=gdf_data_point['name_species']).data[0])  # Add hover name\n",
    "\n",
    "# Show the plot\n",
    "fig.update_layout(mapbox_style='open-street-map', mapbox_zoom=5,\n",
    "                  mapbox_center={'lat': bird_sighting['coord_lat'], 'lon': bird_sighting['coord_lon']})\n",
    "fig.show()\n"
   ]
  },
  {
   "cell_type": "code",
   "execution_count": 1,
   "metadata": {},
   "outputs": [
    {
     "ename": "NameError",
     "evalue": "name 'nan_rows' is not defined",
     "output_type": "error",
     "traceback": [
      "\u001b[1;31m---------------------------------------------------------------------------\u001b[0m",
      "\u001b[1;31mNameError\u001b[0m                                 Traceback (most recent call last)",
      "Cell \u001b[1;32mIn[1], line 1\u001b[0m\n\u001b[1;32m----> 1\u001b[0m \u001b[43mnan_rows\u001b[49m\u001b[38;5;241m.\u001b[39mhead(\u001b[38;5;241m5\u001b[39m)\n",
      "\u001b[1;31mNameError\u001b[0m: name 'nan_rows' is not defined"
     ]
    }
   ],
   "source": [
    "nan_rows.head(5)"
   ]
  },
  {
   "cell_type": "code",
   "execution_count": 25,
   "metadata": {},
   "outputs": [],
   "source": [
    "merged_gdf['Code_18'].fillna(999, inplace=True)"
   ]
  },
  {
   "cell_type": "code",
   "execution_count": 26,
   "metadata": {},
   "outputs": [],
   "source": [
    "clc_code_to_landuse = {\n",
    "    111: 'urban', # 1\n",
    "    112: 'urban',\n",
    "    121: 'urban',\n",
    "    122: 'urban',\n",
    "    123: 'urban',\n",
    "    124: 'urban',\n",
    "    131: 'industrial', # 2\n",
    "    132: 'industrial',\n",
    "    133: 'industrial',\n",
    "    141: 'urban', \n",
    "    142: 'urban',\n",
    "    211: 'agriculture', # 3\n",
    "    212: 'agriculture',\n",
    "    213: 'agriculture',\n",
    "    221: 'agriculture',\n",
    "    222: 'agriculture',\n",
    "    223: 'agriculture',\n",
    "    231: 'agriculture',\n",
    "    241: 'agriculture',\n",
    "    242: 'agriculture',\n",
    "    243: 'agriculture',\n",
    "    244: 'agriculture',\n",
    "    311: 'forest', # 4\n",
    "    312: 'forest',\n",
    "    313: 'forest',\n",
    "    321: 'grassland', # 5 \n",
    "    322: 'grassland',\n",
    "    323: 'mediterranean_vegetation', # 6 \n",
    "    324: 'shrubland', # 7 \n",
    "    331: 'coastal', # 8 \n",
    "    332: 'rocky_area',# 9\n",
    "    333: 'sparsley_vegetated', # 10\n",
    "    334: 'burnt_area', # 11\n",
    "    335: 'glacier', # 12\n",
    "    411: 'wetlands', # 13\n",
    "    412: 'wetlands',\n",
    "    421: 'wetlands',\n",
    "    422: 'wetlands',\n",
    "    423: 'wetlands',\n",
    "    511: 'water', # 14\n",
    "    512: 'water',\n",
    "    521: 'water',\n",
    "    522: 'water',\n",
    "    523: 'water',\n",
    "    990: 'unclassified_land', # 15\n",
    "    995: 'unclassified_water', # 16\n",
    "    999: 'unclassified' # 17\n",
    "}\n",
    "merged_gdf['land_use_coord'] = merged_gdf['Code_18'].map(clc_code_to_landuse)\n",
    "merged_gdf.drop(columns=['Code_18'], axis=1, inplace=True)"
   ]
  },
  {
   "cell_type": "code",
   "execution_count": 27,
   "metadata": {},
   "outputs": [
    {
     "data": {
      "text/html": [
       "<div>\n",
       "<style scoped>\n",
       "    .dataframe tbody tr th:only-of-type {\n",
       "        vertical-align: middle;\n",
       "    }\n",
       "\n",
       "    .dataframe tbody tr th {\n",
       "        vertical-align: top;\n",
       "    }\n",
       "\n",
       "    .dataframe thead th {\n",
       "        text-align: right;\n",
       "    }\n",
       "</style>\n",
       "<table border=\"1\" class=\"dataframe\">\n",
       "  <thead>\n",
       "    <tr style=\"text-align: right;\">\n",
       "      <th></th>\n",
       "      <th>id_sighting</th>\n",
       "      <th>id_species</th>\n",
       "      <th>name_species</th>\n",
       "      <th>date</th>\n",
       "      <th>coord_lat</th>\n",
       "      <th>coord_lon</th>\n",
       "      <th>altitude</th>\n",
       "      <th>total_count</th>\n",
       "      <th>atlas_code</th>\n",
       "      <th>country</th>\n",
       "      <th>eea_grid_id</th>\n",
       "      <th>urban_area_percent</th>\n",
       "      <th>industrial_area_percent</th>\n",
       "      <th>agriculture_area_percent</th>\n",
       "      <th>forest_area_percent</th>\n",
       "      <th>grassland_area_percent</th>\n",
       "      <th>shrubland_area_percent</th>\n",
       "      <th>coastal_area_percent</th>\n",
       "      <th>rocky_area_percent</th>\n",
       "      <th>sparsley_vegetated_area_percent</th>\n",
       "      <th>burnt_area_percent</th>\n",
       "      <th>glacier_area_percent</th>\n",
       "      <th>wetlands_area_percent</th>\n",
       "      <th>water_area_percent</th>\n",
       "      <th>land_use_coord</th>\n",
       "    </tr>\n",
       "  </thead>\n",
       "  <tbody>\n",
       "    <tr>\n",
       "      <th>0</th>\n",
       "      <td>29666972</td>\n",
       "      <td>8</td>\n",
       "      <td>Haubentaucher</td>\n",
       "      <td>2018-01-01</td>\n",
       "      <td>53.157760</td>\n",
       "      <td>8.676993</td>\n",
       "      <td>-1</td>\n",
       "      <td>0</td>\n",
       "      <td>NaN</td>\n",
       "      <td>de</td>\n",
       "      <td>50kmE4200N3300</td>\n",
       "      <td>0.191298</td>\n",
       "      <td>0.000000</td>\n",
       "      <td>0.399560</td>\n",
       "      <td>0.000000</td>\n",
       "      <td>0.0</td>\n",
       "      <td>0.021766</td>\n",
       "      <td>0.0</td>\n",
       "      <td>0.0</td>\n",
       "      <td>0.0</td>\n",
       "      <td>0.0</td>\n",
       "      <td>0.0</td>\n",
       "      <td>0.0</td>\n",
       "      <td>0.387377</td>\n",
       "      <td>water</td>\n",
       "    </tr>\n",
       "    <tr>\n",
       "      <th>1</th>\n",
       "      <td>29654244</td>\n",
       "      <td>397</td>\n",
       "      <td>Schwarzkehlchen</td>\n",
       "      <td>2018-01-01</td>\n",
       "      <td>53.127639</td>\n",
       "      <td>8.957263</td>\n",
       "      <td>1</td>\n",
       "      <td>2</td>\n",
       "      <td>NaN</td>\n",
       "      <td>de</td>\n",
       "      <td>50kmE4250N3300</td>\n",
       "      <td>0.000000</td>\n",
       "      <td>0.000000</td>\n",
       "      <td>1.000000</td>\n",
       "      <td>0.000000</td>\n",
       "      <td>0.0</td>\n",
       "      <td>0.000000</td>\n",
       "      <td>0.0</td>\n",
       "      <td>0.0</td>\n",
       "      <td>0.0</td>\n",
       "      <td>0.0</td>\n",
       "      <td>0.0</td>\n",
       "      <td>0.0</td>\n",
       "      <td>0.000000</td>\n",
       "      <td>agriculture</td>\n",
       "    </tr>\n",
       "    <tr>\n",
       "      <th>2</th>\n",
       "      <td>29654521</td>\n",
       "      <td>463</td>\n",
       "      <td>Wiesenpieper</td>\n",
       "      <td>2018-01-01</td>\n",
       "      <td>50.850941</td>\n",
       "      <td>12.146953</td>\n",
       "      <td>269</td>\n",
       "      <td>2</td>\n",
       "      <td>NaN</td>\n",
       "      <td>de</td>\n",
       "      <td>50kmE4450N3050</td>\n",
       "      <td>0.405476</td>\n",
       "      <td>0.000000</td>\n",
       "      <td>0.594524</td>\n",
       "      <td>0.000000</td>\n",
       "      <td>0.0</td>\n",
       "      <td>0.000000</td>\n",
       "      <td>0.0</td>\n",
       "      <td>0.0</td>\n",
       "      <td>0.0</td>\n",
       "      <td>0.0</td>\n",
       "      <td>0.0</td>\n",
       "      <td>0.0</td>\n",
       "      <td>0.000000</td>\n",
       "      <td>urban</td>\n",
       "    </tr>\n",
       "    <tr>\n",
       "      <th>3</th>\n",
       "      <td>29666414</td>\n",
       "      <td>8</td>\n",
       "      <td>Haubentaucher</td>\n",
       "      <td>2018-01-01</td>\n",
       "      <td>51.076006</td>\n",
       "      <td>11.038316</td>\n",
       "      <td>157</td>\n",
       "      <td>8</td>\n",
       "      <td>NaN</td>\n",
       "      <td>de</td>\n",
       "      <td>50kmE4350N3100</td>\n",
       "      <td>0.000000</td>\n",
       "      <td>0.004445</td>\n",
       "      <td>0.376111</td>\n",
       "      <td>0.000000</td>\n",
       "      <td>0.0</td>\n",
       "      <td>0.000000</td>\n",
       "      <td>0.0</td>\n",
       "      <td>0.0</td>\n",
       "      <td>0.0</td>\n",
       "      <td>0.0</td>\n",
       "      <td>0.0</td>\n",
       "      <td>0.0</td>\n",
       "      <td>0.619445</td>\n",
       "      <td>water</td>\n",
       "    </tr>\n",
       "    <tr>\n",
       "      <th>4</th>\n",
       "      <td>29656211</td>\n",
       "      <td>8</td>\n",
       "      <td>Haubentaucher</td>\n",
       "      <td>2018-01-01</td>\n",
       "      <td>51.389380</td>\n",
       "      <td>7.067282</td>\n",
       "      <td>52</td>\n",
       "      <td>10</td>\n",
       "      <td>NaN</td>\n",
       "      <td>de</td>\n",
       "      <td>50kmE4100N3100</td>\n",
       "      <td>0.362214</td>\n",
       "      <td>0.000000</td>\n",
       "      <td>0.024020</td>\n",
       "      <td>0.211704</td>\n",
       "      <td>0.0</td>\n",
       "      <td>0.000000</td>\n",
       "      <td>0.0</td>\n",
       "      <td>0.0</td>\n",
       "      <td>0.0</td>\n",
       "      <td>0.0</td>\n",
       "      <td>0.0</td>\n",
       "      <td>0.0</td>\n",
       "      <td>0.402062</td>\n",
       "      <td>urban</td>\n",
       "    </tr>\n",
       "  </tbody>\n",
       "</table>\n",
       "</div>"
      ],
      "text/plain": [
       "   id_sighting  id_species     name_species        date  coord_lat  coord_lon  altitude  total_count atlas_code country     eea_grid_id  urban_area_percent  industrial_area_percent  agriculture_area_percent  forest_area_percent  grassland_area_percent  shrubland_area_percent  coastal_area_percent  rocky_area_percent  sparsley_vegetated_area_percent  burnt_area_percent  glacier_area_percent  wetlands_area_percent  water_area_percent land_use_coord\n",
       "0     29666972           8    Haubentaucher  2018-01-01  53.157760   8.676993        -1            0        NaN      de  50kmE4200N3300            0.191298                 0.000000                  0.399560             0.000000                     0.0                0.021766                   0.0                 0.0                              0.0                 0.0                   0.0                    0.0            0.387377          water\n",
       "1     29654244         397  Schwarzkehlchen  2018-01-01  53.127639   8.957263         1            2        NaN      de  50kmE4250N3300            0.000000                 0.000000                  1.000000             0.000000                     0.0                0.000000                   0.0                 0.0                              0.0                 0.0                   0.0                    0.0            0.000000    agriculture\n",
       "2     29654521         463     Wiesenpieper  2018-01-01  50.850941  12.146953       269            2        NaN      de  50kmE4450N3050            0.405476                 0.000000                  0.594524             0.000000                     0.0                0.000000                   0.0                 0.0                              0.0                 0.0                   0.0                    0.0            0.000000          urban\n",
       "3     29666414           8    Haubentaucher  2018-01-01  51.076006  11.038316       157            8        NaN      de  50kmE4350N3100            0.000000                 0.004445                  0.376111             0.000000                     0.0                0.000000                   0.0                 0.0                              0.0                 0.0                   0.0                    0.0            0.619445          water\n",
       "4     29656211           8    Haubentaucher  2018-01-01  51.389380   7.067282        52           10        NaN      de  50kmE4100N3100            0.362214                 0.000000                  0.024020             0.211704                     0.0                0.000000                   0.0                 0.0                              0.0                 0.0                   0.0                    0.0            0.402062          urban"
      ]
     },
     "execution_count": 27,
     "metadata": {},
     "output_type": "execute_result"
    }
   ],
   "source": [
    "merged_gdf.head(5)"
   ]
  },
  {
   "cell_type": "code",
   "execution_count": 28,
   "metadata": {},
   "outputs": [],
   "source": [
    "landuse_to_numerical = {\n",
    "    'urban': 1,\n",
    "    'industrial': 2,\n",
    "    'agriculture': 3,\n",
    "    'forest': 4,\n",
    "    'grassland': 5,\n",
    "    'mediterranean_vegetation': 6,\n",
    "    'shrubland': 7,\n",
    "    'coastal': 8,\n",
    "    'rocky_area': 9,\n",
    "    'sparsley_vegetated': 10,\n",
    "    'burnt_area': 11,\n",
    "    'glacier': 12,\n",
    "    'wetlands': 13,\n",
    "    'water': 14,\n",
    "    'unclassified_land': 15,\n",
    "    'unclassified_water': 16,\n",
    "    'unclassified': 17\n",
    "}\n",
    "merged_gdf['land_use_coord_numeric'] = merged_gdf['land_use_coord'].map(landuse_to_numerical)"
   ]
  },
  {
   "cell_type": "code",
   "execution_count": 29,
   "metadata": {},
   "outputs": [
    {
     "data": {
      "text/html": [
       "<div>\n",
       "<style scoped>\n",
       "    .dataframe tbody tr th:only-of-type {\n",
       "        vertical-align: middle;\n",
       "    }\n",
       "\n",
       "    .dataframe tbody tr th {\n",
       "        vertical-align: top;\n",
       "    }\n",
       "\n",
       "    .dataframe thead th {\n",
       "        text-align: right;\n",
       "    }\n",
       "</style>\n",
       "<table border=\"1\" class=\"dataframe\">\n",
       "  <thead>\n",
       "    <tr style=\"text-align: right;\">\n",
       "      <th></th>\n",
       "      <th>id_sighting</th>\n",
       "      <th>id_species</th>\n",
       "      <th>name_species</th>\n",
       "      <th>date</th>\n",
       "      <th>coord_lat</th>\n",
       "      <th>coord_lon</th>\n",
       "      <th>altitude</th>\n",
       "      <th>total_count</th>\n",
       "      <th>atlas_code</th>\n",
       "      <th>country</th>\n",
       "      <th>eea_grid_id</th>\n",
       "      <th>urban_area_percent</th>\n",
       "      <th>industrial_area_percent</th>\n",
       "      <th>agriculture_area_percent</th>\n",
       "      <th>forest_area_percent</th>\n",
       "      <th>grassland_area_percent</th>\n",
       "      <th>shrubland_area_percent</th>\n",
       "      <th>coastal_area_percent</th>\n",
       "      <th>rocky_area_percent</th>\n",
       "      <th>sparsley_vegetated_area_percent</th>\n",
       "      <th>burnt_area_percent</th>\n",
       "      <th>glacier_area_percent</th>\n",
       "      <th>wetlands_area_percent</th>\n",
       "      <th>water_area_percent</th>\n",
       "      <th>land_use_coord</th>\n",
       "      <th>land_use_coord_numeric</th>\n",
       "    </tr>\n",
       "  </thead>\n",
       "  <tbody>\n",
       "    <tr>\n",
       "      <th>0</th>\n",
       "      <td>29666972</td>\n",
       "      <td>8</td>\n",
       "      <td>Haubentaucher</td>\n",
       "      <td>2018-01-01</td>\n",
       "      <td>53.157760</td>\n",
       "      <td>8.676993</td>\n",
       "      <td>-1</td>\n",
       "      <td>0</td>\n",
       "      <td>NaN</td>\n",
       "      <td>de</td>\n",
       "      <td>50kmE4200N3300</td>\n",
       "      <td>0.191298</td>\n",
       "      <td>0.000000</td>\n",
       "      <td>0.399560</td>\n",
       "      <td>0.000000</td>\n",
       "      <td>0.0</td>\n",
       "      <td>0.021766</td>\n",
       "      <td>0.0</td>\n",
       "      <td>0.0</td>\n",
       "      <td>0.0</td>\n",
       "      <td>0.0</td>\n",
       "      <td>0.0</td>\n",
       "      <td>0.0</td>\n",
       "      <td>0.387377</td>\n",
       "      <td>water</td>\n",
       "      <td>14</td>\n",
       "    </tr>\n",
       "    <tr>\n",
       "      <th>1</th>\n",
       "      <td>29654244</td>\n",
       "      <td>397</td>\n",
       "      <td>Schwarzkehlchen</td>\n",
       "      <td>2018-01-01</td>\n",
       "      <td>53.127639</td>\n",
       "      <td>8.957263</td>\n",
       "      <td>1</td>\n",
       "      <td>2</td>\n",
       "      <td>NaN</td>\n",
       "      <td>de</td>\n",
       "      <td>50kmE4250N3300</td>\n",
       "      <td>0.000000</td>\n",
       "      <td>0.000000</td>\n",
       "      <td>1.000000</td>\n",
       "      <td>0.000000</td>\n",
       "      <td>0.0</td>\n",
       "      <td>0.000000</td>\n",
       "      <td>0.0</td>\n",
       "      <td>0.0</td>\n",
       "      <td>0.0</td>\n",
       "      <td>0.0</td>\n",
       "      <td>0.0</td>\n",
       "      <td>0.0</td>\n",
       "      <td>0.000000</td>\n",
       "      <td>agriculture</td>\n",
       "      <td>3</td>\n",
       "    </tr>\n",
       "    <tr>\n",
       "      <th>2</th>\n",
       "      <td>29654521</td>\n",
       "      <td>463</td>\n",
       "      <td>Wiesenpieper</td>\n",
       "      <td>2018-01-01</td>\n",
       "      <td>50.850941</td>\n",
       "      <td>12.146953</td>\n",
       "      <td>269</td>\n",
       "      <td>2</td>\n",
       "      <td>NaN</td>\n",
       "      <td>de</td>\n",
       "      <td>50kmE4450N3050</td>\n",
       "      <td>0.405476</td>\n",
       "      <td>0.000000</td>\n",
       "      <td>0.594524</td>\n",
       "      <td>0.000000</td>\n",
       "      <td>0.0</td>\n",
       "      <td>0.000000</td>\n",
       "      <td>0.0</td>\n",
       "      <td>0.0</td>\n",
       "      <td>0.0</td>\n",
       "      <td>0.0</td>\n",
       "      <td>0.0</td>\n",
       "      <td>0.0</td>\n",
       "      <td>0.000000</td>\n",
       "      <td>urban</td>\n",
       "      <td>1</td>\n",
       "    </tr>\n",
       "    <tr>\n",
       "      <th>3</th>\n",
       "      <td>29666414</td>\n",
       "      <td>8</td>\n",
       "      <td>Haubentaucher</td>\n",
       "      <td>2018-01-01</td>\n",
       "      <td>51.076006</td>\n",
       "      <td>11.038316</td>\n",
       "      <td>157</td>\n",
       "      <td>8</td>\n",
       "      <td>NaN</td>\n",
       "      <td>de</td>\n",
       "      <td>50kmE4350N3100</td>\n",
       "      <td>0.000000</td>\n",
       "      <td>0.004445</td>\n",
       "      <td>0.376111</td>\n",
       "      <td>0.000000</td>\n",
       "      <td>0.0</td>\n",
       "      <td>0.000000</td>\n",
       "      <td>0.0</td>\n",
       "      <td>0.0</td>\n",
       "      <td>0.0</td>\n",
       "      <td>0.0</td>\n",
       "      <td>0.0</td>\n",
       "      <td>0.0</td>\n",
       "      <td>0.619445</td>\n",
       "      <td>water</td>\n",
       "      <td>14</td>\n",
       "    </tr>\n",
       "    <tr>\n",
       "      <th>4</th>\n",
       "      <td>29656211</td>\n",
       "      <td>8</td>\n",
       "      <td>Haubentaucher</td>\n",
       "      <td>2018-01-01</td>\n",
       "      <td>51.389380</td>\n",
       "      <td>7.067282</td>\n",
       "      <td>52</td>\n",
       "      <td>10</td>\n",
       "      <td>NaN</td>\n",
       "      <td>de</td>\n",
       "      <td>50kmE4100N3100</td>\n",
       "      <td>0.362214</td>\n",
       "      <td>0.000000</td>\n",
       "      <td>0.024020</td>\n",
       "      <td>0.211704</td>\n",
       "      <td>0.0</td>\n",
       "      <td>0.000000</td>\n",
       "      <td>0.0</td>\n",
       "      <td>0.0</td>\n",
       "      <td>0.0</td>\n",
       "      <td>0.0</td>\n",
       "      <td>0.0</td>\n",
       "      <td>0.0</td>\n",
       "      <td>0.402062</td>\n",
       "      <td>urban</td>\n",
       "      <td>1</td>\n",
       "    </tr>\n",
       "  </tbody>\n",
       "</table>\n",
       "</div>"
      ],
      "text/plain": [
       "   id_sighting  id_species     name_species        date  coord_lat  coord_lon  altitude  total_count atlas_code country     eea_grid_id  urban_area_percent  industrial_area_percent  agriculture_area_percent  forest_area_percent  grassland_area_percent  shrubland_area_percent  coastal_area_percent  rocky_area_percent  sparsley_vegetated_area_percent  burnt_area_percent  glacier_area_percent  wetlands_area_percent  water_area_percent land_use_coord  land_use_coord_numeric\n",
       "0     29666972           8    Haubentaucher  2018-01-01  53.157760   8.676993        -1            0        NaN      de  50kmE4200N3300            0.191298                 0.000000                  0.399560             0.000000                     0.0                0.021766                   0.0                 0.0                              0.0                 0.0                   0.0                    0.0            0.387377          water                      14\n",
       "1     29654244         397  Schwarzkehlchen  2018-01-01  53.127639   8.957263         1            2        NaN      de  50kmE4250N3300            0.000000                 0.000000                  1.000000             0.000000                     0.0                0.000000                   0.0                 0.0                              0.0                 0.0                   0.0                    0.0            0.000000    agriculture                       3\n",
       "2     29654521         463     Wiesenpieper  2018-01-01  50.850941  12.146953       269            2        NaN      de  50kmE4450N3050            0.405476                 0.000000                  0.594524             0.000000                     0.0                0.000000                   0.0                 0.0                              0.0                 0.0                   0.0                    0.0            0.000000          urban                       1\n",
       "3     29666414           8    Haubentaucher  2018-01-01  51.076006  11.038316       157            8        NaN      de  50kmE4350N3100            0.000000                 0.004445                  0.376111             0.000000                     0.0                0.000000                   0.0                 0.0                              0.0                 0.0                   0.0                    0.0            0.619445          water                      14\n",
       "4     29656211           8    Haubentaucher  2018-01-01  51.389380   7.067282        52           10        NaN      de  50kmE4100N3100            0.362214                 0.000000                  0.024020             0.211704                     0.0                0.000000                   0.0                 0.0                              0.0                 0.0                   0.0                    0.0            0.402062          urban                       1"
      ]
     },
     "execution_count": 29,
     "metadata": {},
     "output_type": "execute_result"
    }
   ],
   "source": [
    "merged_gdf.head(5)"
   ]
  },
  {
   "cell_type": "code",
   "execution_count": 30,
   "metadata": {},
   "outputs": [
    {
     "data": {
      "text/plain": [
       "land_use_coord\n",
       "agriculture           1211268\n",
       "water                  641127\n",
       "urban                  203556\n",
       "forest                 202359\n",
       "wetlands               189058\n",
       "grassland              147757\n",
       "industrial              22706\n",
       "shrubland               21436\n",
       "sparsley_vegetated      10726\n",
       "rocky_area               5078\n",
       "coastal                  4771\n",
       "burnt_area                110\n",
       "unclassified               46\n",
       "glacier                    45\n",
       "Name: count, dtype: int64"
      ]
     },
     "execution_count": 30,
     "metadata": {},
     "output_type": "execute_result"
    }
   ],
   "source": [
    "merged_gdf.value_counts('land_use_coord', dropna=False)"
   ]
  },
  {
   "cell_type": "code",
   "execution_count": 31,
   "metadata": {},
   "outputs": [
    {
     "data": {
      "text/plain": [
       "0"
      ]
     },
     "execution_count": 31,
     "metadata": {},
     "output_type": "execute_result"
    }
   ],
   "source": [
    "merged_gdf.land_use_coord.isnull().sum()"
   ]
  },
  {
   "cell_type": "code",
   "execution_count": null,
   "metadata": {},
   "outputs": [],
   "source": [
    "# write\n",
    "df_path = 'D:\\Simon\\Documents\\GP\\data\\datasets\\land_use\\land_use_on_coord_validata_ch.csv'\n",
    "merged_gdf.to_csv(df_path)"
   ]
  },
  {
   "cell_type": "code",
   "execution_count": null,
   "metadata": {},
   "outputs": [],
   "source": [
    "# write to other csvs\n",
    "df_path = \"D:\\Simon\\Documents\\GP\\data\\master_validata.csv\"\n",
    "merged_gdf.to_csv(df_path)"
   ]
  },
  {
   "cell_type": "markdown",
   "metadata": {},
   "source": [
    "### Create squares around each coordinate\n",
    "This is to determine the most common land use and also the land use in percentage within a square"
   ]
  },
  {
   "cell_type": "code",
   "execution_count": null,
   "metadata": {},
   "outputs": [],
   "source": [
    "# Convert 1km to degrees\n",
    "km_to_degrees = 1 / 111.0\n",
    "\n",
    "# Define the size of the square in degrees\n",
    "square_size_horizontal = 1 * km_to_degrees\n",
    "square_size_vertical = square_size_horizontal * 1.6667  # To make it a square\n",
    "\n",
    "# Create a GeoDataFrame with square polygons around each point\n",
    "geometry = [Point(lon, lat) for lon, lat in zip(df['coord_lon'], df['coord_lat'])]\n",
    "gdf = gpd.GeoDataFrame(df, geometry=geometry, crs=\"EPSG:3035\")\n",
    "\n",
    "# Create squares around each point\n",
    "squares_gdf = gdf.copy()\n",
    "squares_gdf['geometry'] = gdf['geometry'].apply(lambda point: box(\n",
    "    point.x - square_size_vertical/2, \n",
    "    point.y - square_size_horizontal/2,\n",
    "    point.x + square_size_vertical/2, \n",
    "    point.y + square_size_horizontal/2\n",
    "))"
   ]
  },
  {
   "cell_type": "code",
   "execution_count": null,
   "metadata": {},
   "outputs": [],
   "source": [
    "squares_gdf.tail(5)"
   ]
  },
  {
   "cell_type": "code",
   "execution_count": null,
   "metadata": {},
   "outputs": [],
   "source": [
    "squares_gdf.crs"
   ]
  },
  {
   "cell_type": "markdown",
   "metadata": {},
   "source": [
    "## Get land use percentage \n",
    "(better version - old oversion is below in the notebook)"
   ]
  },
  {
   "cell_type": "code",
   "execution_count": null,
   "metadata": {},
   "outputs": [],
   "source": [
    "df.drop(columns=['urban_area_percent','industrial_area_percent','agriculture_area_percent','forest_area_percent','grassland_area_percent','shrubland_area_percent','coastal_area_percent','rocky_area_percent','sparsley_vegetated_area_percent','burnt_area_percent','glacier_area_percent','wetlands_area_percent','water_area_percent'], inplace=True)"
   ]
  },
  {
   "cell_type": "code",
   "execution_count": null,
   "metadata": {},
   "outputs": [],
   "source": [
    "# execution time: 215m (8 Core CPU)\n",
    "# crs_projected = \"EPSG:4326\"\n",
    "crs_projected = \"EPSG:3035\"\n",
    "\n",
    "# Transform your data to the projected CRS \n",
    "squares_gdf_projected = squares_gdf.to_crs(crs_projected)\n",
    "clc_projected = clc.to_crs(crs_projected)\n",
    "\n",
    "# Perform a spatial join between squares_gdf and clc\n",
    "joined = gpd.sjoin(squares_gdf_projected, clc_projected, how=\"inner\", predicate='intersects')\n",
    "\n",
    "# Calculate the area of intersection \n",
    "joined['intersection_area'] = joined.apply(lambda x: x['geometry'].intersection(clc_projected.loc[x['index_right'], 'geometry']).area, axis=1)\n",
    "\n",
    "# Group by the index of squares_gdf and Code_18, and sum the intersection areas \n",
    "grouped = joined.groupby([joined.index, 'Code_18'])['intersection_area'].sum()\n",
    "\n",
    "# Calculate the square area - all squares have the same size so we can just take the area of the first square\n",
    "total_area = squares_gdf_projected.geometry.area.loc[grouped.index.get_level_values(0)].iloc[0]\n",
    "\n",
    "# Calculate the percentage of each land use type within each square \n",
    "percentage_land_use = grouped / total_area\n",
    "\n",
    "# Unstack the grouped dataframe to get a dataframe where each row corresponds to a square and each column corresponds to a land use type\n",
    "land_use_df = percentage_land_use.unstack(fill_value=0)\n",
    "\n",
    "# Join the land use dataframe with squares_gdf \n",
    "result = pd.concat([squares_gdf_projected, land_use_df], axis=1)\n",
    "result.drop(columns=['geometry'], inplace=True)"
   ]
  },
  {
   "cell_type": "code",
   "execution_count": 33,
   "metadata": {},
   "outputs": [
    {
     "data": {
      "text/html": [
       "<div>\n",
       "<style scoped>\n",
       "    .dataframe tbody tr th:only-of-type {\n",
       "        vertical-align: middle;\n",
       "    }\n",
       "\n",
       "    .dataframe tbody tr th {\n",
       "        vertical-align: top;\n",
       "    }\n",
       "\n",
       "    .dataframe thead th {\n",
       "        text-align: right;\n",
       "    }\n",
       "</style>\n",
       "<table border=\"1\" class=\"dataframe\">\n",
       "  <thead>\n",
       "    <tr style=\"text-align: right;\">\n",
       "      <th></th>\n",
       "      <th>id_sighting</th>\n",
       "      <th>id_species</th>\n",
       "      <th>name_species</th>\n",
       "      <th>date</th>\n",
       "      <th>coord_lat</th>\n",
       "      <th>coord_lon</th>\n",
       "      <th>altitude</th>\n",
       "      <th>total_count</th>\n",
       "      <th>atlas_code</th>\n",
       "      <th>country</th>\n",
       "      <th>eea_grid_id</th>\n",
       "      <th>urban_area_percent</th>\n",
       "      <th>industrial_area_percent</th>\n",
       "      <th>agriculture_area_percent</th>\n",
       "      <th>forest_area_percent</th>\n",
       "      <th>grassland_area_percent</th>\n",
       "      <th>shrubland_area_percent</th>\n",
       "      <th>coastal_area_percent</th>\n",
       "      <th>rocky_area_percent</th>\n",
       "      <th>sparsley_vegetated_area_percent</th>\n",
       "      <th>burnt_area_percent</th>\n",
       "      <th>glacier_area_percent</th>\n",
       "      <th>wetlands_area_percent</th>\n",
       "      <th>water_area_percent</th>\n",
       "      <th>land_use_coord</th>\n",
       "      <th>land_use_coord_numeric</th>\n",
       "    </tr>\n",
       "  </thead>\n",
       "  <tbody>\n",
       "    <tr>\n",
       "      <th>0</th>\n",
       "      <td>29666972</td>\n",
       "      <td>8</td>\n",
       "      <td>Haubentaucher</td>\n",
       "      <td>2018-01-01</td>\n",
       "      <td>53.157760</td>\n",
       "      <td>8.676993</td>\n",
       "      <td>-1</td>\n",
       "      <td>0</td>\n",
       "      <td>NaN</td>\n",
       "      <td>de</td>\n",
       "      <td>50kmE4200N3300</td>\n",
       "      <td>0.191298</td>\n",
       "      <td>0.0</td>\n",
       "      <td>0.399560</td>\n",
       "      <td>0.0</td>\n",
       "      <td>0.0</td>\n",
       "      <td>0.021766</td>\n",
       "      <td>0.0</td>\n",
       "      <td>0.0</td>\n",
       "      <td>0.0</td>\n",
       "      <td>0.0</td>\n",
       "      <td>0.0</td>\n",
       "      <td>0.0</td>\n",
       "      <td>0.387377</td>\n",
       "      <td>water</td>\n",
       "      <td>14</td>\n",
       "    </tr>\n",
       "    <tr>\n",
       "      <th>1</th>\n",
       "      <td>29654244</td>\n",
       "      <td>397</td>\n",
       "      <td>Schwarzkehlchen</td>\n",
       "      <td>2018-01-01</td>\n",
       "      <td>53.127639</td>\n",
       "      <td>8.957263</td>\n",
       "      <td>1</td>\n",
       "      <td>2</td>\n",
       "      <td>NaN</td>\n",
       "      <td>de</td>\n",
       "      <td>50kmE4250N3300</td>\n",
       "      <td>0.000000</td>\n",
       "      <td>0.0</td>\n",
       "      <td>1.000000</td>\n",
       "      <td>0.0</td>\n",
       "      <td>0.0</td>\n",
       "      <td>0.000000</td>\n",
       "      <td>0.0</td>\n",
       "      <td>0.0</td>\n",
       "      <td>0.0</td>\n",
       "      <td>0.0</td>\n",
       "      <td>0.0</td>\n",
       "      <td>0.0</td>\n",
       "      <td>0.000000</td>\n",
       "      <td>agriculture</td>\n",
       "      <td>3</td>\n",
       "    </tr>\n",
       "    <tr>\n",
       "      <th>2</th>\n",
       "      <td>29654521</td>\n",
       "      <td>463</td>\n",
       "      <td>Wiesenpieper</td>\n",
       "      <td>2018-01-01</td>\n",
       "      <td>50.850941</td>\n",
       "      <td>12.146953</td>\n",
       "      <td>269</td>\n",
       "      <td>2</td>\n",
       "      <td>NaN</td>\n",
       "      <td>de</td>\n",
       "      <td>50kmE4450N3050</td>\n",
       "      <td>0.405476</td>\n",
       "      <td>0.0</td>\n",
       "      <td>0.594524</td>\n",
       "      <td>0.0</td>\n",
       "      <td>0.0</td>\n",
       "      <td>0.000000</td>\n",
       "      <td>0.0</td>\n",
       "      <td>0.0</td>\n",
       "      <td>0.0</td>\n",
       "      <td>0.0</td>\n",
       "      <td>0.0</td>\n",
       "      <td>0.0</td>\n",
       "      <td>0.000000</td>\n",
       "      <td>urban</td>\n",
       "      <td>1</td>\n",
       "    </tr>\n",
       "  </tbody>\n",
       "</table>\n",
       "</div>"
      ],
      "text/plain": [
       "   id_sighting  id_species     name_species        date  coord_lat  coord_lon  altitude  total_count atlas_code country     eea_grid_id  urban_area_percent  industrial_area_percent  agriculture_area_percent  forest_area_percent  grassland_area_percent  shrubland_area_percent  coastal_area_percent  rocky_area_percent  sparsley_vegetated_area_percent  burnt_area_percent  glacier_area_percent  wetlands_area_percent  water_area_percent land_use_coord  land_use_coord_numeric\n",
       "0     29666972           8    Haubentaucher  2018-01-01  53.157760   8.676993        -1            0        NaN      de  50kmE4200N3300            0.191298                      0.0                  0.399560                  0.0                     0.0                0.021766                   0.0                 0.0                              0.0                 0.0                   0.0                    0.0            0.387377          water                      14\n",
       "1     29654244         397  Schwarzkehlchen  2018-01-01  53.127639   8.957263         1            2        NaN      de  50kmE4250N3300            0.000000                      0.0                  1.000000                  0.0                     0.0                0.000000                   0.0                 0.0                              0.0                 0.0                   0.0                    0.0            0.000000    agriculture                       3\n",
       "2     29654521         463     Wiesenpieper  2018-01-01  50.850941  12.146953       269            2        NaN      de  50kmE4450N3050            0.405476                      0.0                  0.594524                  0.0                     0.0                0.000000                   0.0                 0.0                              0.0                 0.0                   0.0                    0.0            0.000000          urban                       1"
      ]
     },
     "execution_count": 33,
     "metadata": {},
     "output_type": "execute_result"
    }
   ],
   "source": [
    "result.head(3)"
   ]
  },
  {
   "cell_type": "code",
   "execution_count": 32,
   "metadata": {},
   "outputs": [],
   "source": [
    "result = merged_gdf.copy()"
   ]
  },
  {
   "cell_type": "code",
   "execution_count": null,
   "metadata": {},
   "outputs": [],
   "source": [
    "nan_rows = result[result[112].isna()]\n",
    "len(nan_rows)"
   ]
  },
  {
   "cell_type": "code",
   "execution_count": 34,
   "metadata": {},
   "outputs": [],
   "source": [
    "category_dict = {\n",
    "    111: 'urban_area_percent',\n",
    "    112: 'urban_area_percent',\n",
    "    121: 'urban_area_percent',\n",
    "    122: 'urban_area_percent',\n",
    "    123: 'urban_area_percent',\n",
    "    124: 'urban_area_percent',\n",
    "    131: 'industrial_area_percent',\n",
    "    132: 'industrial_area_percent',\n",
    "    133: 'industrial_area_percent',\n",
    "    141: 'urban_area_percent',\n",
    "    142: 'urban_area_percent',\n",
    "    211: 'agriculture_area_percent',\n",
    "    212: 'agriculture_area_percent',\n",
    "    213: 'agriculture_area_percent',\n",
    "    221: 'agriculture_area_percent',\n",
    "    222: 'agriculture_area_percent',\n",
    "    223: 'agriculture_area_percent',\n",
    "    231: 'agriculture_area_percent',\n",
    "    241: 'agriculture_area_percent',\n",
    "    242: 'agriculture_area_percent',\n",
    "    243: 'agriculture_area_percent',\n",
    "    244: 'agriculture_area_percent',\n",
    "    311: 'forest_area_percent',\n",
    "    312: 'forest_area_percent',\n",
    "    313: 'forest_area_percent',\n",
    "    321: 'grassland_area_percent',\n",
    "    322: 'grassland_area_percent',\n",
    "    323: 'mediterranean_vegetation_area_percent',\n",
    "    324: 'shrubland_area_percent',\n",
    "    331: 'coastal_area_percent',\n",
    "    332: 'rocky_area_percent',\n",
    "    333: 'sparsley_vegetated_area_percent',\n",
    "    334: 'burnt_area_percent',\n",
    "    335: 'glacier_area_percent',\n",
    "    411: 'wetlands_area_percent',\n",
    "    412: 'wetlands_area_percent',\n",
    "    421: 'wetlands_area_percent',\n",
    "    422: 'wetlands_area_percent',\n",
    "    423: 'wetlands_area_percent',\n",
    "    511: 'water_area_percent',\n",
    "    512: 'water_area_percent',\n",
    "    521: 'water_area_percent',\n",
    "    522: 'water_area_percent',\n",
    "    523: 'water_area_percent',\n",
    "    990: 'unclassified_land_area_percent',\n",
    "    995: 'unclassified_water_area_percent',\n",
    "    999: 'unclassified_area_percent'\n",
    "}\n",
    "\n",
    "category_df = result.copy()\n",
    "for code, category in category_dict.items():\n",
    "    if code in result.columns:\n",
    "        if category not in category_df.columns:\n",
    "            category_df[category] = result[code]\n",
    "        else:\n",
    "            category_df[category] += result[code]\n",
    "\n",
    "\n",
    "columns_to_drop = [col for col in category_dict.keys() if col in category_df.columns]\n",
    "category_df.drop(columns=columns_to_drop, inplace=True)\n"
   ]
  },
  {
   "cell_type": "code",
   "execution_count": 35,
   "metadata": {},
   "outputs": [
    {
     "name": "stdout",
     "output_type": "stream",
     "text": [
      "(127, 26)\n"
     ]
    },
    {
     "data": {
      "text/html": [
       "<div>\n",
       "<style scoped>\n",
       "    .dataframe tbody tr th:only-of-type {\n",
       "        vertical-align: middle;\n",
       "    }\n",
       "\n",
       "    .dataframe tbody tr th {\n",
       "        vertical-align: top;\n",
       "    }\n",
       "\n",
       "    .dataframe thead th {\n",
       "        text-align: right;\n",
       "    }\n",
       "</style>\n",
       "<table border=\"1\" class=\"dataframe\">\n",
       "  <thead>\n",
       "    <tr style=\"text-align: right;\">\n",
       "      <th></th>\n",
       "      <th>id_sighting</th>\n",
       "      <th>id_species</th>\n",
       "      <th>name_species</th>\n",
       "      <th>date</th>\n",
       "      <th>coord_lat</th>\n",
       "      <th>coord_lon</th>\n",
       "      <th>altitude</th>\n",
       "      <th>total_count</th>\n",
       "      <th>atlas_code</th>\n",
       "      <th>country</th>\n",
       "      <th>eea_grid_id</th>\n",
       "      <th>urban_area_percent</th>\n",
       "      <th>industrial_area_percent</th>\n",
       "      <th>agriculture_area_percent</th>\n",
       "      <th>forest_area_percent</th>\n",
       "      <th>grassland_area_percent</th>\n",
       "      <th>shrubland_area_percent</th>\n",
       "      <th>coastal_area_percent</th>\n",
       "      <th>rocky_area_percent</th>\n",
       "      <th>sparsley_vegetated_area_percent</th>\n",
       "      <th>burnt_area_percent</th>\n",
       "      <th>glacier_area_percent</th>\n",
       "      <th>wetlands_area_percent</th>\n",
       "      <th>water_area_percent</th>\n",
       "      <th>land_use_coord</th>\n",
       "      <th>land_use_coord_numeric</th>\n",
       "    </tr>\n",
       "  </thead>\n",
       "  <tbody>\n",
       "    <tr>\n",
       "      <th>125574</th>\n",
       "      <td>70838383</td>\n",
       "      <td>158</td>\n",
       "      <td>Seeadler</td>\n",
       "      <td>2022-08-02</td>\n",
       "      <td>55.151639</td>\n",
       "      <td>8.648124</td>\n",
       "      <td>0</td>\n",
       "      <td>1</td>\n",
       "      <td>NaN</td>\n",
       "      <td>de</td>\n",
       "      <td>50kmE4200N3550</td>\n",
       "      <td>NaN</td>\n",
       "      <td>NaN</td>\n",
       "      <td>NaN</td>\n",
       "      <td>NaN</td>\n",
       "      <td>NaN</td>\n",
       "      <td>NaN</td>\n",
       "      <td>NaN</td>\n",
       "      <td>NaN</td>\n",
       "      <td>NaN</td>\n",
       "      <td>NaN</td>\n",
       "      <td>NaN</td>\n",
       "      <td>NaN</td>\n",
       "      <td>NaN</td>\n",
       "      <td>wetlands</td>\n",
       "      <td>13</td>\n",
       "    </tr>\n",
       "    <tr>\n",
       "      <th>126132</th>\n",
       "      <td>70837521</td>\n",
       "      <td>233</td>\n",
       "      <td>Flussuferläufer</td>\n",
       "      <td>2022-08-02</td>\n",
       "      <td>55.112247</td>\n",
       "      <td>8.561053</td>\n",
       "      <td>0</td>\n",
       "      <td>1</td>\n",
       "      <td>NaN</td>\n",
       "      <td>de</td>\n",
       "      <td>50kmE4200N3550</td>\n",
       "      <td>NaN</td>\n",
       "      <td>NaN</td>\n",
       "      <td>NaN</td>\n",
       "      <td>NaN</td>\n",
       "      <td>NaN</td>\n",
       "      <td>NaN</td>\n",
       "      <td>NaN</td>\n",
       "      <td>NaN</td>\n",
       "      <td>NaN</td>\n",
       "      <td>NaN</td>\n",
       "      <td>NaN</td>\n",
       "      <td>NaN</td>\n",
       "      <td>NaN</td>\n",
       "      <td>wetlands</td>\n",
       "      <td>13</td>\n",
       "    </tr>\n",
       "    <tr>\n",
       "      <th>150515</th>\n",
       "      <td>45087020</td>\n",
       "      <td>463</td>\n",
       "      <td>Wiesenpieper</td>\n",
       "      <td>2020-03-03</td>\n",
       "      <td>55.177401</td>\n",
       "      <td>8.573939</td>\n",
       "      <td>0</td>\n",
       "      <td>12</td>\n",
       "      <td>NaN</td>\n",
       "      <td>de</td>\n",
       "      <td>50kmE4200N3550</td>\n",
       "      <td>NaN</td>\n",
       "      <td>NaN</td>\n",
       "      <td>NaN</td>\n",
       "      <td>NaN</td>\n",
       "      <td>NaN</td>\n",
       "      <td>NaN</td>\n",
       "      <td>NaN</td>\n",
       "      <td>NaN</td>\n",
       "      <td>NaN</td>\n",
       "      <td>NaN</td>\n",
       "      <td>NaN</td>\n",
       "      <td>NaN</td>\n",
       "      <td>NaN</td>\n",
       "      <td>agriculture</td>\n",
       "      <td>3</td>\n",
       "    </tr>\n",
       "    <tr>\n",
       "      <th>155188</th>\n",
       "      <td>38355619</td>\n",
       "      <td>463</td>\n",
       "      <td>Wiesenpieper</td>\n",
       "      <td>2019-04-03</td>\n",
       "      <td>54.033346</td>\n",
       "      <td>6.626898</td>\n",
       "      <td>0</td>\n",
       "      <td>2</td>\n",
       "      <td>NaN</td>\n",
       "      <td>de</td>\n",
       "      <td>50kmE4100N3400</td>\n",
       "      <td>NaN</td>\n",
       "      <td>NaN</td>\n",
       "      <td>NaN</td>\n",
       "      <td>NaN</td>\n",
       "      <td>NaN</td>\n",
       "      <td>NaN</td>\n",
       "      <td>NaN</td>\n",
       "      <td>NaN</td>\n",
       "      <td>NaN</td>\n",
       "      <td>NaN</td>\n",
       "      <td>NaN</td>\n",
       "      <td>NaN</td>\n",
       "      <td>NaN</td>\n",
       "      <td>unclassified</td>\n",
       "      <td>17</td>\n",
       "    </tr>\n",
       "  </tbody>\n",
       "</table>\n",
       "</div>"
      ],
      "text/plain": [
       "        id_sighting  id_species     name_species        date  coord_lat  coord_lon  altitude  total_count atlas_code country     eea_grid_id  urban_area_percent  industrial_area_percent  agriculture_area_percent  forest_area_percent  grassland_area_percent  shrubland_area_percent  coastal_area_percent  rocky_area_percent  sparsley_vegetated_area_percent  burnt_area_percent  glacier_area_percent  wetlands_area_percent  water_area_percent land_use_coord  land_use_coord_numeric\n",
       "125574     70838383         158         Seeadler  2022-08-02  55.151639   8.648124         0            1        NaN      de  50kmE4200N3550                 NaN                      NaN                       NaN                  NaN                     NaN                     NaN                   NaN                 NaN                              NaN                 NaN                   NaN                    NaN                 NaN       wetlands                      13\n",
       "126132     70837521         233  Flussuferläufer  2022-08-02  55.112247   8.561053         0            1        NaN      de  50kmE4200N3550                 NaN                      NaN                       NaN                  NaN                     NaN                     NaN                   NaN                 NaN                              NaN                 NaN                   NaN                    NaN                 NaN       wetlands                      13\n",
       "150515     45087020         463     Wiesenpieper  2020-03-03  55.177401   8.573939         0           12        NaN      de  50kmE4200N3550                 NaN                      NaN                       NaN                  NaN                     NaN                     NaN                   NaN                 NaN                              NaN                 NaN                   NaN                    NaN                 NaN    agriculture                       3\n",
       "155188     38355619         463     Wiesenpieper  2019-04-03  54.033346   6.626898         0            2        NaN      de  50kmE4100N3400                 NaN                      NaN                       NaN                  NaN                     NaN                     NaN                   NaN                 NaN                              NaN                 NaN                   NaN                    NaN                 NaN   unclassified                      17"
      ]
     },
     "execution_count": 35,
     "metadata": {},
     "output_type": "execute_result"
    }
   ],
   "source": [
    "nan_rows = category_df[category_df['urban_area_percent'].isna()]\n",
    "print(nan_rows.shape)\n",
    "nan_rows.head(4)"
   ]
  },
  {
   "cell_type": "code",
   "execution_count": 36,
   "metadata": {},
   "outputs": [
    {
     "data": {
      "text/plain": [
       "id_sighting                              42289691\n",
       "id_species                                    463\n",
       "name_species                         Wiesenpieper\n",
       "date                                   2019-10-05\n",
       "coord_lat                               51.208738\n",
       "coord_lon                                8.826114\n",
       "altitude                                      405\n",
       "total_count                                    11\n",
       "atlas_code                                    NaN\n",
       "country                                        de\n",
       "eea_grid_id                        50kmE4200N3100\n",
       "urban_area_percent                            0.0\n",
       "industrial_area_percent                       0.0\n",
       "agriculture_area_percent                      1.0\n",
       "forest_area_percent                           0.0\n",
       "grassland_area_percent                        0.0\n",
       "shrubland_area_percent                        0.0\n",
       "coastal_area_percent                          0.0\n",
       "rocky_area_percent                            0.0\n",
       "sparsley_vegetated_area_percent               0.0\n",
       "burnt_area_percent                            0.0\n",
       "glacier_area_percent                          0.0\n",
       "wetlands_area_percent                         0.0\n",
       "water_area_percent                            0.0\n",
       "land_use_coord                        agriculture\n",
       "land_use_coord_numeric                          3\n",
       "Name: 330499, dtype: object"
      ]
     },
     "execution_count": 36,
     "metadata": {},
     "output_type": "execute_result"
    }
   ],
   "source": [
    "category_df.iloc[330499]"
   ]
  },
  {
   "cell_type": "code",
   "execution_count": 37,
   "metadata": {},
   "outputs": [],
   "source": [
    "cols_to_check = list(set(category_df.columns).intersection(set(category_dict.values())))\n",
    "\n",
    "all_nan_rows = category_df[cols_to_check].isna().all(axis=1)\n",
    "\n",
    "category_df.loc[all_nan_rows, cols_to_check] = 0\n",
    "\n",
    "category_df.loc[all_nan_rows, 'unclassified_area_percent'] = 1\n",
    "\n",
    "category_df.loc[~all_nan_rows, 'unclassified_area_percent'] = 0"
   ]
  },
  {
   "cell_type": "code",
   "execution_count": 38,
   "metadata": {},
   "outputs": [
    {
     "data": {
      "text/plain": [
       "id_sighting                              42289691\n",
       "id_species                                    463\n",
       "name_species                         Wiesenpieper\n",
       "date                                   2019-10-05\n",
       "coord_lat                               51.208738\n",
       "coord_lon                                8.826114\n",
       "altitude                                      405\n",
       "total_count                                    11\n",
       "atlas_code                                    NaN\n",
       "country                                        de\n",
       "eea_grid_id                        50kmE4200N3100\n",
       "urban_area_percent                            0.0\n",
       "industrial_area_percent                       0.0\n",
       "agriculture_area_percent                      1.0\n",
       "forest_area_percent                           0.0\n",
       "grassland_area_percent                        0.0\n",
       "shrubland_area_percent                        0.0\n",
       "coastal_area_percent                          0.0\n",
       "rocky_area_percent                            0.0\n",
       "sparsley_vegetated_area_percent               0.0\n",
       "burnt_area_percent                            0.0\n",
       "glacier_area_percent                          0.0\n",
       "wetlands_area_percent                         0.0\n",
       "water_area_percent                            0.0\n",
       "land_use_coord                        agriculture\n",
       "land_use_coord_numeric                          3\n",
       "unclassified_area_percent                     0.0\n",
       "Name: 330499, dtype: object"
      ]
     },
     "execution_count": 38,
     "metadata": {},
     "output_type": "execute_result"
    }
   ],
   "source": [
    "category_df.iloc[330499]"
   ]
  },
  {
   "cell_type": "code",
   "execution_count": 39,
   "metadata": {},
   "outputs": [
    {
     "name": "stdout",
     "output_type": "stream",
     "text": [
      "(0, 27)\n"
     ]
    },
    {
     "data": {
      "text/html": [
       "<div>\n",
       "<style scoped>\n",
       "    .dataframe tbody tr th:only-of-type {\n",
       "        vertical-align: middle;\n",
       "    }\n",
       "\n",
       "    .dataframe tbody tr th {\n",
       "        vertical-align: top;\n",
       "    }\n",
       "\n",
       "    .dataframe thead th {\n",
       "        text-align: right;\n",
       "    }\n",
       "</style>\n",
       "<table border=\"1\" class=\"dataframe\">\n",
       "  <thead>\n",
       "    <tr style=\"text-align: right;\">\n",
       "      <th></th>\n",
       "      <th>id_sighting</th>\n",
       "      <th>id_species</th>\n",
       "      <th>name_species</th>\n",
       "      <th>date</th>\n",
       "      <th>coord_lat</th>\n",
       "      <th>coord_lon</th>\n",
       "      <th>altitude</th>\n",
       "      <th>total_count</th>\n",
       "      <th>atlas_code</th>\n",
       "      <th>country</th>\n",
       "      <th>eea_grid_id</th>\n",
       "      <th>urban_area_percent</th>\n",
       "      <th>industrial_area_percent</th>\n",
       "      <th>agriculture_area_percent</th>\n",
       "      <th>forest_area_percent</th>\n",
       "      <th>grassland_area_percent</th>\n",
       "      <th>shrubland_area_percent</th>\n",
       "      <th>coastal_area_percent</th>\n",
       "      <th>rocky_area_percent</th>\n",
       "      <th>sparsley_vegetated_area_percent</th>\n",
       "      <th>burnt_area_percent</th>\n",
       "      <th>glacier_area_percent</th>\n",
       "      <th>wetlands_area_percent</th>\n",
       "      <th>water_area_percent</th>\n",
       "      <th>land_use_coord</th>\n",
       "      <th>land_use_coord_numeric</th>\n",
       "      <th>unclassified_area_percent</th>\n",
       "    </tr>\n",
       "  </thead>\n",
       "  <tbody>\n",
       "  </tbody>\n",
       "</table>\n",
       "</div>"
      ],
      "text/plain": [
       "Empty DataFrame\n",
       "Columns: [id_sighting, id_species, name_species, date, coord_lat, coord_lon, altitude, total_count, atlas_code, country, eea_grid_id, urban_area_percent, industrial_area_percent, agriculture_area_percent, forest_area_percent, grassland_area_percent, shrubland_area_percent, coastal_area_percent, rocky_area_percent, sparsley_vegetated_area_percent, burnt_area_percent, glacier_area_percent, wetlands_area_percent, water_area_percent, land_use_coord, land_use_coord_numeric, unclassified_area_percent]\n",
       "Index: []"
      ]
     },
     "execution_count": 39,
     "metadata": {},
     "output_type": "execute_result"
    }
   ],
   "source": [
    "nan_rows3 = category_df[category_df['unclassified_area_percent'].isna()]\n",
    "print(nan_rows3.shape)\n",
    "nan_rows3.head(2)"
   ]
  },
  {
   "cell_type": "code",
   "execution_count": 40,
   "metadata": {},
   "outputs": [
    {
     "data": {
      "text/html": [
       "<div>\n",
       "<style scoped>\n",
       "    .dataframe tbody tr th:only-of-type {\n",
       "        vertical-align: middle;\n",
       "    }\n",
       "\n",
       "    .dataframe tbody tr th {\n",
       "        vertical-align: top;\n",
       "    }\n",
       "\n",
       "    .dataframe thead th {\n",
       "        text-align: right;\n",
       "    }\n",
       "</style>\n",
       "<table border=\"1\" class=\"dataframe\">\n",
       "  <thead>\n",
       "    <tr style=\"text-align: right;\">\n",
       "      <th></th>\n",
       "      <th>id_sighting</th>\n",
       "      <th>id_species</th>\n",
       "      <th>name_species</th>\n",
       "      <th>date</th>\n",
       "      <th>coord_lat</th>\n",
       "      <th>coord_lon</th>\n",
       "      <th>altitude</th>\n",
       "      <th>total_count</th>\n",
       "      <th>atlas_code</th>\n",
       "      <th>country</th>\n",
       "      <th>eea_grid_id</th>\n",
       "      <th>urban_area_percent</th>\n",
       "      <th>industrial_area_percent</th>\n",
       "      <th>agriculture_area_percent</th>\n",
       "      <th>forest_area_percent</th>\n",
       "      <th>grassland_area_percent</th>\n",
       "      <th>shrubland_area_percent</th>\n",
       "      <th>coastal_area_percent</th>\n",
       "      <th>rocky_area_percent</th>\n",
       "      <th>sparsley_vegetated_area_percent</th>\n",
       "      <th>burnt_area_percent</th>\n",
       "      <th>glacier_area_percent</th>\n",
       "      <th>wetlands_area_percent</th>\n",
       "      <th>water_area_percent</th>\n",
       "      <th>land_use_coord</th>\n",
       "      <th>land_use_coord_numeric</th>\n",
       "      <th>unclassified_area_percent</th>\n",
       "    </tr>\n",
       "  </thead>\n",
       "  <tbody>\n",
       "    <tr>\n",
       "      <th>0</th>\n",
       "      <td>29666972</td>\n",
       "      <td>8</td>\n",
       "      <td>Haubentaucher</td>\n",
       "      <td>2018-01-01</td>\n",
       "      <td>53.157760</td>\n",
       "      <td>8.676993</td>\n",
       "      <td>-1</td>\n",
       "      <td>0</td>\n",
       "      <td>NaN</td>\n",
       "      <td>de</td>\n",
       "      <td>50kmE4200N3300</td>\n",
       "      <td>0.191298</td>\n",
       "      <td>0.0</td>\n",
       "      <td>0.399560</td>\n",
       "      <td>0.0</td>\n",
       "      <td>0.0</td>\n",
       "      <td>0.021766</td>\n",
       "      <td>0.0</td>\n",
       "      <td>0.0</td>\n",
       "      <td>0.0</td>\n",
       "      <td>0.0</td>\n",
       "      <td>0.0</td>\n",
       "      <td>0.0</td>\n",
       "      <td>0.387377</td>\n",
       "      <td>water</td>\n",
       "      <td>14</td>\n",
       "      <td>0.0</td>\n",
       "    </tr>\n",
       "    <tr>\n",
       "      <th>1</th>\n",
       "      <td>29654244</td>\n",
       "      <td>397</td>\n",
       "      <td>Schwarzkehlchen</td>\n",
       "      <td>2018-01-01</td>\n",
       "      <td>53.127639</td>\n",
       "      <td>8.957263</td>\n",
       "      <td>1</td>\n",
       "      <td>2</td>\n",
       "      <td>NaN</td>\n",
       "      <td>de</td>\n",
       "      <td>50kmE4250N3300</td>\n",
       "      <td>0.000000</td>\n",
       "      <td>0.0</td>\n",
       "      <td>1.000000</td>\n",
       "      <td>0.0</td>\n",
       "      <td>0.0</td>\n",
       "      <td>0.000000</td>\n",
       "      <td>0.0</td>\n",
       "      <td>0.0</td>\n",
       "      <td>0.0</td>\n",
       "      <td>0.0</td>\n",
       "      <td>0.0</td>\n",
       "      <td>0.0</td>\n",
       "      <td>0.000000</td>\n",
       "      <td>agriculture</td>\n",
       "      <td>3</td>\n",
       "      <td>0.0</td>\n",
       "    </tr>\n",
       "    <tr>\n",
       "      <th>2</th>\n",
       "      <td>29654521</td>\n",
       "      <td>463</td>\n",
       "      <td>Wiesenpieper</td>\n",
       "      <td>2018-01-01</td>\n",
       "      <td>50.850941</td>\n",
       "      <td>12.146953</td>\n",
       "      <td>269</td>\n",
       "      <td>2</td>\n",
       "      <td>NaN</td>\n",
       "      <td>de</td>\n",
       "      <td>50kmE4450N3050</td>\n",
       "      <td>0.405476</td>\n",
       "      <td>0.0</td>\n",
       "      <td>0.594524</td>\n",
       "      <td>0.0</td>\n",
       "      <td>0.0</td>\n",
       "      <td>0.000000</td>\n",
       "      <td>0.0</td>\n",
       "      <td>0.0</td>\n",
       "      <td>0.0</td>\n",
       "      <td>0.0</td>\n",
       "      <td>0.0</td>\n",
       "      <td>0.0</td>\n",
       "      <td>0.000000</td>\n",
       "      <td>urban</td>\n",
       "      <td>1</td>\n",
       "      <td>0.0</td>\n",
       "    </tr>\n",
       "  </tbody>\n",
       "</table>\n",
       "</div>"
      ],
      "text/plain": [
       "   id_sighting  id_species     name_species        date  coord_lat  coord_lon  altitude  total_count atlas_code country     eea_grid_id  urban_area_percent  industrial_area_percent  agriculture_area_percent  forest_area_percent  grassland_area_percent  shrubland_area_percent  coastal_area_percent  rocky_area_percent  sparsley_vegetated_area_percent  burnt_area_percent  glacier_area_percent  wetlands_area_percent  water_area_percent land_use_coord  land_use_coord_numeric  unclassified_area_percent\n",
       "0     29666972           8    Haubentaucher  2018-01-01  53.157760   8.676993        -1            0        NaN      de  50kmE4200N3300            0.191298                      0.0                  0.399560                  0.0                     0.0                0.021766                   0.0                 0.0                              0.0                 0.0                   0.0                    0.0            0.387377          water                      14                        0.0\n",
       "1     29654244         397  Schwarzkehlchen  2018-01-01  53.127639   8.957263         1            2        NaN      de  50kmE4250N3300            0.000000                      0.0                  1.000000                  0.0                     0.0                0.000000                   0.0                 0.0                              0.0                 0.0                   0.0                    0.0            0.000000    agriculture                       3                        0.0\n",
       "2     29654521         463     Wiesenpieper  2018-01-01  50.850941  12.146953       269            2        NaN      de  50kmE4450N3050            0.405476                      0.0                  0.594524                  0.0                     0.0                0.000000                   0.0                 0.0                              0.0                 0.0                   0.0                    0.0            0.000000          urban                       1                        0.0"
      ]
     },
     "execution_count": 40,
     "metadata": {},
     "output_type": "execute_result"
    }
   ],
   "source": [
    "category_df.head(3)"
   ]
  },
  {
   "cell_type": "code",
   "execution_count": null,
   "metadata": {},
   "outputs": [],
   "source": [
    "# write\n",
    "df_path = 'D:\\Simon\\Documents\\GP\\data\\datasets\\land_use\\land_use_percentage.csv'\n",
    "category_df.to_csv(df_path)"
   ]
  },
  {
   "cell_type": "code",
   "execution_count": 41,
   "metadata": {},
   "outputs": [],
   "source": [
    "# write to other csvs\n",
    "df_path = 'D:\\Simon\\Documents\\GP\\data\\master_train.csv'\n",
    "category_df.to_csv(df_path)"
   ]
  },
  {
   "cell_type": "markdown",
   "metadata": {},
   "source": [
    "## Get most common landuse within square"
   ]
  },
  {
   "cell_type": "code",
   "execution_count": null,
   "metadata": {},
   "outputs": [],
   "source": [
    "# execution time: 132m\n",
    "merged_squares = gpd.sjoin(squares_gdf, clc, how=\"left\", predicate=\"intersects\")"
   ]
  },
  {
   "cell_type": "code",
   "execution_count": null,
   "metadata": {},
   "outputs": [],
   "source": [
    "merged_squares.head(1)"
   ]
  },
  {
   "cell_type": "code",
   "execution_count": null,
   "metadata": {},
   "outputs": [],
   "source": [
    "merged_squares.reset_index(drop=True, inplace=True)"
   ]
  },
  {
   "cell_type": "code",
   "execution_count": null,
   "metadata": {},
   "outputs": [],
   "source": [
    "common_land_use = merged_squares.groupby(merged_squares.index)['Code_18'].agg(lambda x: x.value_counts().idxmax() if not x.empty and not x.value_counts().empty else None)\n",
    "\n",
    "common_land_use_df = pd.DataFrame({'Code_18_sq': common_land_use.values}, index=common_land_use.index)"
   ]
  },
  {
   "cell_type": "code",
   "execution_count": null,
   "metadata": {},
   "outputs": [],
   "source": [
    "common_land_use_df.head(2)"
   ]
  },
  {
   "cell_type": "code",
   "execution_count": null,
   "metadata": {},
   "outputs": [],
   "source": [
    "# write\n",
    "df_path = 'D:\\Simon\\Documents\\GP\\data\\datasets\\land_use\\land_use_most_common.csv'\n",
    "common_land_use_df.to_csv(df_path)"
   ]
  },
  {
   "cell_type": "markdown",
   "metadata": {},
   "source": [
    "## Get land use percentage "
   ]
  },
  {
   "cell_type": "code",
   "execution_count": null,
   "metadata": {},
   "outputs": [],
   "source": [
    "squares_with_clc = gpd.sjoin(clc, squares_gdf, how='inner', predicate='intersects')\n",
    "\n",
    "# Calculate area of intersection between squares and CLC polygons for each Code_18 within each square\n",
    "intersection_areas = squares_with_clc.groupby(['index_right', 'Code_18'])['geometry'].apply(lambda x: x.area)\n",
    "total_areas = intersection_areas.groupby('index_right').sum()\n",
    "\n",
    "# Calculate percentages of each Code_18 within each square\n",
    "results = {}\n",
    "for square_id, group in intersection_areas.groupby(level=0):\n",
    "    percentages = {}\n",
    "    for code_18, area in group.items():\n",
    "        percentages[code_18[1]] = (area / total_areas[square_id])\n",
    "    results[square_id] = percentages\n",
    "\n",
    "# Create a DataFrame from the results dictionary\n",
    "results_df = pd.DataFrame(results).T.fillna(0)"
   ]
  },
  {
   "cell_type": "code",
   "execution_count": null,
   "metadata": {},
   "outputs": [],
   "source": [
    "results_df.head(2)"
   ]
  },
  {
   "cell_type": "code",
   "execution_count": null,
   "metadata": {},
   "outputs": [],
   "source": [
    "# Reset the index of results_df to make it easier to merge\n",
    "results_df.reset_index(inplace=True)\n",
    "\n",
    "# Merge the original DataFrame 'df' with results_df on the common index or a column\n",
    "merged_df = pd.merge(df, results_df, left_index=True, right_on='index')"
   ]
  },
  {
   "cell_type": "code",
   "execution_count": null,
   "metadata": {},
   "outputs": [],
   "source": [
    "merged_df.head(2)"
   ]
  },
  {
   "cell_type": "code",
   "execution_count": null,
   "metadata": {},
   "outputs": [],
   "source": [
    "# write\n",
    "df_path = 'D:\\Simon\\Documents\\GP\\data\\datasets\\land_use\\land_use_percentage.csv'\n",
    "merged_df.to_csv(df_path)"
   ]
  },
  {
   "cell_type": "code",
   "execution_count": null,
   "metadata": {},
   "outputs": [],
   "source": [
    "common_land_use_df.head(3)"
   ]
  },
  {
   "cell_type": "code",
   "execution_count": null,
   "metadata": {},
   "outputs": [],
   "source": [
    "# Merge the common land use DataFrame with the original DataFrame based on the index\n",
    "merged_gdf = merged_squares.merge(common_land_use_df, left_index=True, right_index=True)\n",
    "merged_gdf.drop(columns=['geometry'], axis=1, inplace=True)"
   ]
  },
  {
   "cell_type": "code",
   "execution_count": null,
   "metadata": {},
   "outputs": [],
   "source": [
    "merged_gdf.head(3)"
   ]
  },
  {
   "cell_type": "code",
   "execution_count": null,
   "metadata": {},
   "outputs": [],
   "source": [
    "clc_code_to_numerical_label = {\n",
    "    111: 'urban', # 1\n",
    "    112: 'urban',\n",
    "    121: 'urban',\n",
    "    122: 'urban',\n",
    "    123: 'urban',\n",
    "    124: 'urban',\n",
    "    131: 'industrial', # 2\n",
    "    132: 'industrial',\n",
    "    133: 'industrial',\n",
    "    141: 'urban', \n",
    "    142: 'urban',\n",
    "    211: 'agriculture', # 3\n",
    "    212: 'agriculture',\n",
    "    213: 'agriculture',\n",
    "    221: 'agriculture',\n",
    "    222: 'agriculture',\n",
    "    223: 'agriculture',\n",
    "    231: 'agriculture',\n",
    "    241: 'agriculture',\n",
    "    242: 'agriculture',\n",
    "    243: 'agriculture',\n",
    "    244: 'agriculture',\n",
    "    311: 'forest', # 4\n",
    "    312: 'forest',\n",
    "    313: 'forest',\n",
    "    321: 'grassland', # 5 \n",
    "    322: 'grassland',\n",
    "    323: 'mediterranean_vegetation', # 6 \n",
    "    324: 'shrubland', # 7 \n",
    "    331: 'coastal', # 8 \n",
    "    332: 'rocky_area',# 9\n",
    "    333: 'sparsley_vegetated', # 10\n",
    "    334: 'burnt_area', # 11\n",
    "    335: 'glacier', # 12\n",
    "    411: 'wetlands', # 13\n",
    "    412: 'wetlands',\n",
    "    421: 'wetlands',\n",
    "    422: 'wetlands',\n",
    "    423: 'wetlands',\n",
    "    511: 'water', # 14\n",
    "    512: 'water',\n",
    "    521: 'water',\n",
    "    522: 'water',\n",
    "    523: 'water',\n",
    "    990: 'unclassified_land', # 15\n",
    "    995: 'unclassified_water', # 16\n",
    "    999: 'unclassified' # 17\n",
    "}\n",
    "merged_gdf['land_use_coord'] = merged_gdf['Code_18'].map(clc_code_to_numerical_label)\n",
    "merged_gdf['land_use_sq'] = merged_gdf['Code_18_sq'].map(clc_code_to_numerical_label)"
   ]
  },
  {
   "cell_type": "code",
   "execution_count": null,
   "metadata": {},
   "outputs": [],
   "source": [
    "merged_gdf.head(3)"
   ]
  },
  {
   "cell_type": "code",
   "execution_count": null,
   "metadata": {},
   "outputs": [],
   "source": [
    "merged_gdf['atlas_code'].fillna(0, inplace=True)"
   ]
  },
  {
   "cell_type": "code",
   "execution_count": null,
   "metadata": {},
   "outputs": [],
   "source": [
    "merged_gdf.drop(columns=['Code_18', 'Code_18_sq'], axis=1, inplace=True)"
   ]
  },
  {
   "cell_type": "code",
   "execution_count": null,
   "metadata": {},
   "outputs": [],
   "source": [
    "df_path = 'D:\\Simon\\Documents\\GP\\data\\datasets\\selected_species_50km_luse.csv'\n",
    "merged_gdf.to_csv(df_path)"
   ]
  }
 ],
 "metadata": {
  "kernelspec": {
   "display_name": "gp",
   "language": "python",
   "name": "python3"
  },
  "language_info": {
   "codemirror_mode": {
    "name": "ipython",
    "version": 3
   },
   "file_extension": ".py",
   "mimetype": "text/x-python",
   "name": "python",
   "nbconvert_exporter": "python",
   "pygments_lexer": "ipython3",
   "version": "3.10.13"
  },
  "orig_nbformat": 4
 },
 "nbformat": 4,
 "nbformat_minor": 2
}
