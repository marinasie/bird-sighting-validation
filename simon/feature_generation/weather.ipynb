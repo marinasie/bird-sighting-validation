{
 "cells": [
  {
   "cell_type": "code",
   "execution_count": 1,
   "metadata": {},
   "outputs": [],
   "source": [
    "from datetime import datetime, timedelta\n",
    "from meteostat import Point, Daily\n",
    "\n",
    "import pandas as pd\n",
    "import geopandas as gpd"
   ]
  },
  {
   "cell_type": "code",
   "execution_count": 3,
   "metadata": {},
   "outputs": [],
   "source": [
    "eea_shapefile_path = 'D:\\Simon\\Documents\\GP\\\\feature_generation_info_files\\eea_grid_files\\eea_europe_grids_50km\\inspire_compatible_grid_50km.shp'\n",
    "eea_grid = gpd.read_file(eea_shapefile_path)\n",
    "eea_grid = eea_grid.to_crs('EPSG:4326')"
   ]
  },
  {
   "cell_type": "code",
   "execution_count": 3,
   "metadata": {},
   "outputs": [
    {
     "name": "stderr",
     "output_type": "stream",
     "text": [
      "DtypeWarning: Columns (11) have mixed types. Specify dtype option on import or set low_memory=False.\n"
     ]
    }
   ],
   "source": [
    "df_path = 'D:\\Simon\\Documents\\GP\\data\\datasets\\\\selected_bird_species_with_grids_50km.csv'\n",
    "df = pd.read_csv(df_path, index_col=0)\n",
    "df = df.head(10)"
   ]
  },
  {
   "cell_type": "code",
   "execution_count": 4,
   "metadata": {},
   "outputs": [
    {
     "data": {
      "text/html": [
       "<div>\n",
       "<style scoped>\n",
       "    .dataframe tbody tr th:only-of-type {\n",
       "        vertical-align: middle;\n",
       "    }\n",
       "\n",
       "    .dataframe tbody tr th {\n",
       "        vertical-align: top;\n",
       "    }\n",
       "\n",
       "    .dataframe thead th {\n",
       "        text-align: right;\n",
       "    }\n",
       "</style>\n",
       "<table border=\"1\" class=\"dataframe\">\n",
       "  <thead>\n",
       "    <tr style=\"text-align: right;\">\n",
       "      <th></th>\n",
       "      <th>id_sighting</th>\n",
       "      <th>id_species</th>\n",
       "      <th>name_species</th>\n",
       "      <th>date</th>\n",
       "      <th>timing</th>\n",
       "      <th>coord_lat</th>\n",
       "      <th>coord_lon</th>\n",
       "      <th>precision</th>\n",
       "      <th>altitude</th>\n",
       "      <th>total_count</th>\n",
       "      <th>atlas_code</th>\n",
       "      <th>id_observer</th>\n",
       "      <th>country</th>\n",
       "      <th>eea_grid_id</th>\n",
       "    </tr>\n",
       "  </thead>\n",
       "  <tbody>\n",
       "    <tr>\n",
       "      <th>0</th>\n",
       "      <td>29666972</td>\n",
       "      <td>8.0</td>\n",
       "      <td>Haubentaucher</td>\n",
       "      <td>2018-01-01</td>\n",
       "      <td>NaN</td>\n",
       "      <td>53.157760</td>\n",
       "      <td>8.676993</td>\n",
       "      <td>place</td>\n",
       "      <td>-1.051010</td>\n",
       "      <td>0.0</td>\n",
       "      <td>0</td>\n",
       "      <td>37718.0</td>\n",
       "      <td>de</td>\n",
       "      <td>50kmE4200N3300</td>\n",
       "    </tr>\n",
       "    <tr>\n",
       "      <th>1</th>\n",
       "      <td>29654244</td>\n",
       "      <td>397.0</td>\n",
       "      <td>Schwarzkehlchen</td>\n",
       "      <td>2018-01-01</td>\n",
       "      <td>NaN</td>\n",
       "      <td>53.127639</td>\n",
       "      <td>8.957263</td>\n",
       "      <td>square</td>\n",
       "      <td>0.760781</td>\n",
       "      <td>2.0</td>\n",
       "      <td>0</td>\n",
       "      <td>37803.0</td>\n",
       "      <td>de</td>\n",
       "      <td>50kmE4250N3300</td>\n",
       "    </tr>\n",
       "    <tr>\n",
       "      <th>2</th>\n",
       "      <td>29654521</td>\n",
       "      <td>463.0</td>\n",
       "      <td>Wiesenpieper</td>\n",
       "      <td>2018-01-01</td>\n",
       "      <td>NaN</td>\n",
       "      <td>50.850941</td>\n",
       "      <td>12.146953</td>\n",
       "      <td>place</td>\n",
       "      <td>270.831300</td>\n",
       "      <td>2.0</td>\n",
       "      <td>0</td>\n",
       "      <td>39627.0</td>\n",
       "      <td>de</td>\n",
       "      <td>50kmE4450N3050</td>\n",
       "    </tr>\n",
       "    <tr>\n",
       "      <th>3</th>\n",
       "      <td>29666414</td>\n",
       "      <td>8.0</td>\n",
       "      <td>Haubentaucher</td>\n",
       "      <td>2018-01-01</td>\n",
       "      <td>NaN</td>\n",
       "      <td>51.076006</td>\n",
       "      <td>11.038316</td>\n",
       "      <td>place</td>\n",
       "      <td>158.941010</td>\n",
       "      <td>8.0</td>\n",
       "      <td>0</td>\n",
       "      <td>38301.0</td>\n",
       "      <td>de</td>\n",
       "      <td>50kmE4350N3100</td>\n",
       "    </tr>\n",
       "    <tr>\n",
       "      <th>4</th>\n",
       "      <td>29656211</td>\n",
       "      <td>8.0</td>\n",
       "      <td>Haubentaucher</td>\n",
       "      <td>2018-01-01</td>\n",
       "      <td>NaN</td>\n",
       "      <td>51.389380</td>\n",
       "      <td>7.067282</td>\n",
       "      <td>place</td>\n",
       "      <td>52.362160</td>\n",
       "      <td>10.0</td>\n",
       "      <td>0</td>\n",
       "      <td>108167.0</td>\n",
       "      <td>de</td>\n",
       "      <td>50kmE4100N3100</td>\n",
       "    </tr>\n",
       "  </tbody>\n",
       "</table>\n",
       "</div>"
      ],
      "text/plain": [
       "   id_sighting  id_species     name_species        date timing  coord_lat  \\\n",
       "0     29666972         8.0    Haubentaucher  2018-01-01    NaN  53.157760   \n",
       "1     29654244       397.0  Schwarzkehlchen  2018-01-01    NaN  53.127639   \n",
       "2     29654521       463.0     Wiesenpieper  2018-01-01    NaN  50.850941   \n",
       "3     29666414         8.0    Haubentaucher  2018-01-01    NaN  51.076006   \n",
       "4     29656211         8.0    Haubentaucher  2018-01-01    NaN  51.389380   \n",
       "\n",
       "   coord_lon precision    altitude  total_count atlas_code  id_observer  \\\n",
       "0   8.676993     place   -1.051010          0.0          0      37718.0   \n",
       "1   8.957263    square    0.760781          2.0          0      37803.0   \n",
       "2  12.146953     place  270.831300          2.0          0      39627.0   \n",
       "3  11.038316     place  158.941010          8.0          0      38301.0   \n",
       "4   7.067282     place   52.362160         10.0          0     108167.0   \n",
       "\n",
       "  country     eea_grid_id  \n",
       "0      de  50kmE4200N3300  \n",
       "1      de  50kmE4250N3300  \n",
       "2      de  50kmE4450N3050  \n",
       "3      de  50kmE4350N3100  \n",
       "4      de  50kmE4100N3100  "
      ]
     },
     "execution_count": 4,
     "metadata": {},
     "output_type": "execute_result"
    }
   ],
   "source": [
    "df.head(5)"
   ]
  },
  {
   "cell_type": "markdown",
   "metadata": {},
   "source": [
    "## Weather with EE"
   ]
  },
  {
   "cell_type": "code",
   "execution_count": 9,
   "metadata": {},
   "outputs": [],
   "source": [
    "import ee\n",
    "import pandas as pd"
   ]
  },
  {
   "cell_type": "code",
   "execution_count": 15,
   "metadata": {},
   "outputs": [
    {
     "data": {
      "text/plain": [
       "True"
      ]
     },
     "execution_count": 15,
     "metadata": {},
     "output_type": "execute_result"
    }
   ],
   "source": [
    "ee.Authenticate()"
   ]
  },
  {
   "cell_type": "code",
   "execution_count": 16,
   "metadata": {},
   "outputs": [
    {
     "ename": "EEException",
     "evalue": "Not signed up for Earth Engine or project is not registered. Visit https://developers.google.com/earth-engine/guides/access",
     "output_type": "error",
     "traceback": [
      "\u001b[1;31m---------------------------------------------------------------------------\u001b[0m",
      "\u001b[1;31mHttpError\u001b[0m                                 Traceback (most recent call last)",
      "File \u001b[1;32md:\\Programme\\Miniconda\\envs\\gp\\lib\\site-packages\\ee\\data.py:379\u001b[0m, in \u001b[0;36m_execute_cloud_call\u001b[1;34m(call, num_retries)\u001b[0m\n\u001b[0;32m    378\u001b[0m \u001b[38;5;28;01mtry\u001b[39;00m:\n\u001b[1;32m--> 379\u001b[0m   \u001b[38;5;28;01mreturn\u001b[39;00m \u001b[43mcall\u001b[49m\u001b[38;5;241;43m.\u001b[39;49m\u001b[43mexecute\u001b[49m\u001b[43m(\u001b[49m\u001b[43mnum_retries\u001b[49m\u001b[38;5;241;43m=\u001b[39;49m\u001b[43mnum_retries\u001b[49m\u001b[43m)\u001b[49m\n\u001b[0;32m    380\u001b[0m \u001b[38;5;28;01mexcept\u001b[39;00m googleapiclient\u001b[38;5;241m.\u001b[39merrors\u001b[38;5;241m.\u001b[39mHttpError \u001b[38;5;28;01mas\u001b[39;00m e:\n",
      "File \u001b[1;32md:\\Programme\\Miniconda\\envs\\gp\\lib\\site-packages\\googleapiclient\\_helpers.py:130\u001b[0m, in \u001b[0;36mpositional.<locals>.positional_decorator.<locals>.positional_wrapper\u001b[1;34m(*args, **kwargs)\u001b[0m\n\u001b[0;32m    129\u001b[0m         logger\u001b[38;5;241m.\u001b[39mwarning(message)\n\u001b[1;32m--> 130\u001b[0m \u001b[38;5;28;01mreturn\u001b[39;00m wrapped(\u001b[38;5;241m*\u001b[39margs, \u001b[38;5;241m*\u001b[39m\u001b[38;5;241m*\u001b[39mkwargs)\n",
      "File \u001b[1;32md:\\Programme\\Miniconda\\envs\\gp\\lib\\site-packages\\googleapiclient\\http.py:938\u001b[0m, in \u001b[0;36mHttpRequest.execute\u001b[1;34m(self, http, num_retries)\u001b[0m\n\u001b[0;32m    937\u001b[0m \u001b[38;5;28;01mif\u001b[39;00m resp\u001b[38;5;241m.\u001b[39mstatus \u001b[38;5;241m>\u001b[39m\u001b[38;5;241m=\u001b[39m \u001b[38;5;241m300\u001b[39m:\n\u001b[1;32m--> 938\u001b[0m     \u001b[38;5;28;01mraise\u001b[39;00m HttpError(resp, content, uri\u001b[38;5;241m=\u001b[39m\u001b[38;5;28mself\u001b[39m\u001b[38;5;241m.\u001b[39muri)\n\u001b[0;32m    939\u001b[0m \u001b[38;5;28;01mreturn\u001b[39;00m \u001b[38;5;28mself\u001b[39m\u001b[38;5;241m.\u001b[39mpostproc(resp, content)\n",
      "\u001b[1;31mHttpError\u001b[0m: <HttpError 403 when requesting https://earthengine.googleapis.com/v1/projects/earthengine-legacy/algorithms?prettyPrint=false&alt=json returned \"Not signed up for Earth Engine or project is not registered. Visit https://developers.google.com/earth-engine/guides/access\". Details: \"Not signed up for Earth Engine or project is not registered. Visit https://developers.google.com/earth-engine/guides/access\">",
      "\nDuring handling of the above exception, another exception occurred:\n",
      "\u001b[1;31mEEException\u001b[0m                               Traceback (most recent call last)",
      "Cell \u001b[1;32mIn[16], line 1\u001b[0m\n\u001b[1;32m----> 1\u001b[0m \u001b[43mee\u001b[49m\u001b[38;5;241;43m.\u001b[39;49m\u001b[43mInitialize\u001b[49m\u001b[43m(\u001b[49m\u001b[43m)\u001b[49m\n",
      "File \u001b[1;32md:\\Programme\\Miniconda\\envs\\gp\\lib\\site-packages\\ee\\_utils.py:39\u001b[0m, in \u001b[0;36maccept_opt_prefix.<locals>.opt_fixed.<locals>.wrapper\u001b[1;34m(*args, **kwargs)\u001b[0m\n\u001b[0;32m     37\u001b[0m     \u001b[38;5;28;01mif\u001b[39;00m new_key \u001b[38;5;129;01mnot\u001b[39;00m \u001b[38;5;129;01min\u001b[39;00m kwargs:\n\u001b[0;32m     38\u001b[0m       kwargs[new_key] \u001b[38;5;241m=\u001b[39m old_key_val\n\u001b[1;32m---> 39\u001b[0m \u001b[38;5;28;01mreturn\u001b[39;00m func(\u001b[38;5;241m*\u001b[39margs, \u001b[38;5;241m*\u001b[39m\u001b[38;5;241m*\u001b[39mkwargs)\n",
      "File \u001b[1;32md:\\Programme\\Miniconda\\envs\\gp\\lib\\site-packages\\ee\\__init__.py:151\u001b[0m, in \u001b[0;36mInitialize\u001b[1;34m(credentials, url, cloud_api_key, http_transport, project)\u001b[0m\n\u001b[0;32m    140\u001b[0m data\u001b[38;5;241m.\u001b[39minitialize(\n\u001b[0;32m    141\u001b[0m     credentials\u001b[38;5;241m=\u001b[39mcredentials,\n\u001b[0;32m    142\u001b[0m     api_base_url\u001b[38;5;241m=\u001b[39m(url \u001b[38;5;241m+\u001b[39m \u001b[38;5;124m'\u001b[39m\u001b[38;5;124m/api\u001b[39m\u001b[38;5;124m'\u001b[39m \u001b[38;5;28;01mif\u001b[39;00m url \u001b[38;5;28;01melse\u001b[39;00m \u001b[38;5;28;01mNone\u001b[39;00m),\n\u001b[1;32m   (...)\u001b[0m\n\u001b[0;32m    147\u001b[0m     http_transport\u001b[38;5;241m=\u001b[39mhttp_transport,\n\u001b[0;32m    148\u001b[0m )\n\u001b[0;32m    150\u001b[0m \u001b[38;5;66;03m# Initialize the dynamically loaded functions on the objects that want them.\u001b[39;00m\n\u001b[1;32m--> 151\u001b[0m \u001b[43mApiFunction\u001b[49m\u001b[38;5;241;43m.\u001b[39;49m\u001b[43minitialize\u001b[49m\u001b[43m(\u001b[49m\u001b[43m)\u001b[49m\n\u001b[0;32m    152\u001b[0m Blob\u001b[38;5;241m.\u001b[39minitialize()\n\u001b[0;32m    153\u001b[0m Collection\u001b[38;5;241m.\u001b[39minitialize()\n",
      "File \u001b[1;32md:\\Programme\\Miniconda\\envs\\gp\\lib\\site-packages\\ee\\apifunction.py:162\u001b[0m, in \u001b[0;36mApiFunction.initialize\u001b[1;34m(cls)\u001b[0m\n\u001b[0;32m    160\u001b[0m \u001b[38;5;250m\u001b[39m\u001b[38;5;124;03m\"\"\"Initializes the list of signatures from the Earth Engine front-end.\"\"\"\u001b[39;00m\n\u001b[0;32m    161\u001b[0m \u001b[38;5;28;01mif\u001b[39;00m \u001b[38;5;129;01mnot\u001b[39;00m \u001b[38;5;28mcls\u001b[39m\u001b[38;5;241m.\u001b[39m_api:\n\u001b[1;32m--> 162\u001b[0m   signatures \u001b[38;5;241m=\u001b[39m \u001b[43mdata\u001b[49m\u001b[38;5;241;43m.\u001b[39;49m\u001b[43mgetAlgorithms\u001b[49m\u001b[43m(\u001b[49m\u001b[43m)\u001b[49m\n\u001b[0;32m    163\u001b[0m   api \u001b[38;5;241m=\u001b[39m {}\n\u001b[0;32m    164\u001b[0m   \u001b[38;5;28;01mfor\u001b[39;00m name, sig \u001b[38;5;129;01min\u001b[39;00m signatures\u001b[38;5;241m.\u001b[39mitems():\n\u001b[0;32m    165\u001b[0m     \u001b[38;5;66;03m# Strip type parameters.\u001b[39;00m\n",
      "File \u001b[1;32md:\\Programme\\Miniconda\\envs\\gp\\lib\\site-packages\\ee\\data.py:1445\u001b[0m, in \u001b[0;36mgetAlgorithms\u001b[1;34m()\u001b[0m\n\u001b[0;32m   1440\u001b[0m     \u001b[38;5;28mprint\u001b[39m(\n\u001b[0;32m   1441\u001b[0m         \u001b[38;5;124m'\u001b[39m\u001b[38;5;124m*** Earth Engine ***\u001b[39m\u001b[38;5;124m'\u001b[39m,\n\u001b[0;32m   1442\u001b[0m         response[_INIT_MESSAGE_HEADER],\n\u001b[0;32m   1443\u001b[0m         file\u001b[38;5;241m=\u001b[39msys\u001b[38;5;241m.\u001b[39mstderr)\n\u001b[0;32m   1444\u001b[0m call\u001b[38;5;241m.\u001b[39madd_response_callback(inspect)\n\u001b[1;32m-> 1445\u001b[0m \u001b[38;5;28;01mreturn\u001b[39;00m _cloud_api_utils\u001b[38;5;241m.\u001b[39mconvert_algorithms(\u001b[43m_execute_cloud_call\u001b[49m\u001b[43m(\u001b[49m\u001b[43mcall\u001b[49m\u001b[43m)\u001b[49m)\n",
      "File \u001b[1;32md:\\Programme\\Miniconda\\envs\\gp\\lib\\site-packages\\ee\\data.py:381\u001b[0m, in \u001b[0;36m_execute_cloud_call\u001b[1;34m(call, num_retries)\u001b[0m\n\u001b[0;32m    379\u001b[0m   \u001b[38;5;28;01mreturn\u001b[39;00m call\u001b[38;5;241m.\u001b[39mexecute(num_retries\u001b[38;5;241m=\u001b[39mnum_retries)\n\u001b[0;32m    380\u001b[0m \u001b[38;5;28;01mexcept\u001b[39;00m googleapiclient\u001b[38;5;241m.\u001b[39merrors\u001b[38;5;241m.\u001b[39mHttpError \u001b[38;5;28;01mas\u001b[39;00m e:\n\u001b[1;32m--> 381\u001b[0m   \u001b[38;5;28;01mraise\u001b[39;00m _translate_cloud_exception(e)\n",
      "\u001b[1;31mEEException\u001b[0m: Not signed up for Earth Engine or project is not registered. Visit https://developers.google.com/earth-engine/guides/access"
     ]
    }
   ],
   "source": [
    "ee.Initialize()"
   ]
  },
  {
   "cell_type": "code",
   "execution_count": null,
   "metadata": {},
   "outputs": [],
   "source": [
    "def get_weather_data(dataset, date, lat, lon):\n",
    "    point = ee.Geometry.Point([lon, lat])\n",
    "    image = ee.ImageCollection(dataset).filterDate(date, date).mean()\n",
    "    data = image.reduceRegion(ee.Reducer.mean(), point, 500).getInfo()\n",
    "    return data"
   ]
  },
  {
   "cell_type": "code",
   "execution_count": null,
   "metadata": {},
   "outputs": [],
   "source": [
    "df['weather_data'] = df.apply(lambda row: get_weather_data('dataset', row['date'], row['coord_lat'], row['coord_lon']), axis=1)\n"
   ]
  },
  {
   "cell_type": "markdown",
   "metadata": {},
   "source": [
    "### Get center of every grid"
   ]
  },
  {
   "cell_type": "code",
   "execution_count": 5,
   "metadata": {},
   "outputs": [
    {
     "name": "stderr",
     "output_type": "stream",
     "text": [
      "UserWarning: Geometry is in a geographic CRS. Results from 'centroid' are likely incorrect. Use 'GeoSeries.to_crs()' to re-project geometries to a projected CRS before this operation.\n",
      "\n"
     ]
    },
    {
     "data": {
      "text/html": [
       "<div>\n",
       "<style scoped>\n",
       "    .dataframe tbody tr th:only-of-type {\n",
       "        vertical-align: middle;\n",
       "    }\n",
       "\n",
       "    .dataframe tbody tr th {\n",
       "        vertical-align: top;\n",
       "    }\n",
       "\n",
       "    .dataframe thead th {\n",
       "        text-align: right;\n",
       "    }\n",
       "</style>\n",
       "<table border=\"1\" class=\"dataframe\">\n",
       "  <thead>\n",
       "    <tr style=\"text-align: right;\">\n",
       "      <th></th>\n",
       "      <th>eea_grid_id</th>\n",
       "      <th>centroid_lon</th>\n",
       "      <th>centroid_lat</th>\n",
       "    </tr>\n",
       "  </thead>\n",
       "  <tbody>\n",
       "    <tr>\n",
       "      <th>0</th>\n",
       "      <td>50kmE3850N2450</td>\n",
       "      <td>4.323137</td>\n",
       "      <td>45.234056</td>\n",
       "    </tr>\n",
       "    <tr>\n",
       "      <th>1</th>\n",
       "      <td>50kmE3900N2450</td>\n",
       "      <td>4.957784</td>\n",
       "      <td>45.266404</td>\n",
       "    </tr>\n",
       "    <tr>\n",
       "      <th>2</th>\n",
       "      <td>50kmE3950N2450</td>\n",
       "      <td>5.593060</td>\n",
       "      <td>45.294926</td>\n",
       "    </tr>\n",
       "    <tr>\n",
       "      <th>3</th>\n",
       "      <td>50kmE4000N2450</td>\n",
       "      <td>6.228888</td>\n",
       "      <td>45.319616</td>\n",
       "    </tr>\n",
       "    <tr>\n",
       "      <th>4</th>\n",
       "      <td>50kmE4050N2450</td>\n",
       "      <td>6.865188</td>\n",
       "      <td>45.340468</td>\n",
       "    </tr>\n",
       "    <tr>\n",
       "      <th>...</th>\n",
       "      <td>...</td>\n",
       "      <td>...</td>\n",
       "      <td>...</td>\n",
       "    </tr>\n",
       "    <tr>\n",
       "      <th>431</th>\n",
       "      <td>50kmE4650N3600</td>\n",
       "      <td>15.620184</td>\n",
       "      <td>55.604916</td>\n",
       "    </tr>\n",
       "    <tr>\n",
       "      <th>432</th>\n",
       "      <td>50kmE4700N3600</td>\n",
       "      <td>16.410233</td>\n",
       "      <td>55.567411</td>\n",
       "    </tr>\n",
       "    <tr>\n",
       "      <th>433</th>\n",
       "      <td>50kmE4600N3650</td>\n",
       "      <td>14.884182</td>\n",
       "      <td>56.085675</td>\n",
       "    </tr>\n",
       "    <tr>\n",
       "      <th>434</th>\n",
       "      <td>50kmE4650N3650</td>\n",
       "      <td>15.684511</td>\n",
       "      <td>56.052664</td>\n",
       "    </tr>\n",
       "    <tr>\n",
       "      <th>435</th>\n",
       "      <td>50kmE4700N3650</td>\n",
       "      <td>16.483487</td>\n",
       "      <td>56.014671</td>\n",
       "    </tr>\n",
       "  </tbody>\n",
       "</table>\n",
       "<p>436 rows × 3 columns</p>\n",
       "</div>"
      ],
      "text/plain": [
       "        eea_grid_id  centroid_lon  centroid_lat\n",
       "0    50kmE3850N2450      4.323137     45.234056\n",
       "1    50kmE3900N2450      4.957784     45.266404\n",
       "2    50kmE3950N2450      5.593060     45.294926\n",
       "3    50kmE4000N2450      6.228888     45.319616\n",
       "4    50kmE4050N2450      6.865188     45.340468\n",
       "..              ...           ...           ...\n",
       "431  50kmE4650N3600     15.620184     55.604916\n",
       "432  50kmE4700N3600     16.410233     55.567411\n",
       "433  50kmE4600N3650     14.884182     56.085675\n",
       "434  50kmE4650N3650     15.684511     56.052664\n",
       "435  50kmE4700N3650     16.483487     56.014671\n",
       "\n",
       "[436 rows x 3 columns]"
      ]
     },
     "execution_count": 5,
     "metadata": {},
     "output_type": "execute_result"
    }
   ],
   "source": [
    "germany_switzerland_bbox = eea_grid.cx[5.210942:15.669926, 45.614516:55.379499]\n",
    "eea_grid_filtered = eea_grid[eea_grid.intersects(germany_switzerland_bbox.unary_union)]\n",
    "eea_grid_filtered.reset_index(drop=True, inplace=True)\n",
    "\n",
    "centroid_gdf = eea_grid_filtered.copy()\n",
    "centroid_gdf['centroid'] = eea_grid_filtered['geometry'].centroid\n",
    "\n",
    "centroid_gdf['centroid_lon'] = centroid_gdf['centroid'].x\n",
    "centroid_gdf['centroid_lat'] = centroid_gdf['centroid'].y\n",
    "centroid_gdf.drop(columns=['geometry', 'noforigin', 'eoforigin', 'gid', 'centroid'], inplace=True)\n",
    "centroid_gdf.rename(columns={'cellcode': 'eea_grid_id'}, inplace=True)\n",
    "centroid_gdf"
   ]
  },
  {
   "cell_type": "code",
   "execution_count": 6,
   "metadata": {},
   "outputs": [
    {
     "data": {
      "text/html": [
       "<div>\n",
       "<style scoped>\n",
       "    .dataframe tbody tr th:only-of-type {\n",
       "        vertical-align: middle;\n",
       "    }\n",
       "\n",
       "    .dataframe tbody tr th {\n",
       "        vertical-align: top;\n",
       "    }\n",
       "\n",
       "    .dataframe thead th {\n",
       "        text-align: right;\n",
       "    }\n",
       "</style>\n",
       "<table border=\"1\" class=\"dataframe\">\n",
       "  <thead>\n",
       "    <tr style=\"text-align: right;\">\n",
       "      <th></th>\n",
       "      <th>date</th>\n",
       "      <th>eea_grid_id</th>\n",
       "      <th>centroid_lat</th>\n",
       "      <th>centroid_lon</th>\n",
       "    </tr>\n",
       "  </thead>\n",
       "  <tbody>\n",
       "    <tr>\n",
       "      <th>0</th>\n",
       "      <td>2018-01-01</td>\n",
       "      <td>50kmE3850N2450</td>\n",
       "      <td>45.234056</td>\n",
       "      <td>4.323137</td>\n",
       "    </tr>\n",
       "    <tr>\n",
       "      <th>1</th>\n",
       "      <td>2018-01-02</td>\n",
       "      <td>50kmE3850N2450</td>\n",
       "      <td>45.234056</td>\n",
       "      <td>4.323137</td>\n",
       "    </tr>\n",
       "    <tr>\n",
       "      <th>2</th>\n",
       "      <td>2018-01-03</td>\n",
       "      <td>50kmE3850N2450</td>\n",
       "      <td>45.234056</td>\n",
       "      <td>4.323137</td>\n",
       "    </tr>\n",
       "    <tr>\n",
       "      <th>3</th>\n",
       "      <td>2018-01-04</td>\n",
       "      <td>50kmE3850N2450</td>\n",
       "      <td>45.234056</td>\n",
       "      <td>4.323137</td>\n",
       "    </tr>\n",
       "    <tr>\n",
       "      <th>4</th>\n",
       "      <td>2018-01-05</td>\n",
       "      <td>50kmE3850N2450</td>\n",
       "      <td>45.234056</td>\n",
       "      <td>4.323137</td>\n",
       "    </tr>\n",
       "    <tr>\n",
       "      <th>...</th>\n",
       "      <td>...</td>\n",
       "      <td>...</td>\n",
       "      <td>...</td>\n",
       "      <td>...</td>\n",
       "    </tr>\n",
       "    <tr>\n",
       "      <th>796131</th>\n",
       "      <td>2022-12-27</td>\n",
       "      <td>50kmE4700N3650</td>\n",
       "      <td>56.014671</td>\n",
       "      <td>16.483487</td>\n",
       "    </tr>\n",
       "    <tr>\n",
       "      <th>796132</th>\n",
       "      <td>2022-12-28</td>\n",
       "      <td>50kmE4700N3650</td>\n",
       "      <td>56.014671</td>\n",
       "      <td>16.483487</td>\n",
       "    </tr>\n",
       "    <tr>\n",
       "      <th>796133</th>\n",
       "      <td>2022-12-29</td>\n",
       "      <td>50kmE4700N3650</td>\n",
       "      <td>56.014671</td>\n",
       "      <td>16.483487</td>\n",
       "    </tr>\n",
       "    <tr>\n",
       "      <th>796134</th>\n",
       "      <td>2022-12-30</td>\n",
       "      <td>50kmE4700N3650</td>\n",
       "      <td>56.014671</td>\n",
       "      <td>16.483487</td>\n",
       "    </tr>\n",
       "    <tr>\n",
       "      <th>796135</th>\n",
       "      <td>2022-12-31</td>\n",
       "      <td>50kmE4700N3650</td>\n",
       "      <td>56.014671</td>\n",
       "      <td>16.483487</td>\n",
       "    </tr>\n",
       "  </tbody>\n",
       "</table>\n",
       "<p>796136 rows × 4 columns</p>\n",
       "</div>"
      ],
      "text/plain": [
       "             date     eea_grid_id  centroid_lat  centroid_lon\n",
       "0      2018-01-01  50kmE3850N2450     45.234056      4.323137\n",
       "1      2018-01-02  50kmE3850N2450     45.234056      4.323137\n",
       "2      2018-01-03  50kmE3850N2450     45.234056      4.323137\n",
       "3      2018-01-04  50kmE3850N2450     45.234056      4.323137\n",
       "4      2018-01-05  50kmE3850N2450     45.234056      4.323137\n",
       "...           ...             ...           ...           ...\n",
       "796131 2022-12-27  50kmE4700N3650     56.014671     16.483487\n",
       "796132 2022-12-28  50kmE4700N3650     56.014671     16.483487\n",
       "796133 2022-12-29  50kmE4700N3650     56.014671     16.483487\n",
       "796134 2022-12-30  50kmE4700N3650     56.014671     16.483487\n",
       "796135 2022-12-31  50kmE4700N3650     56.014671     16.483487\n",
       "\n",
       "[796136 rows x 4 columns]"
      ]
     },
     "execution_count": 6,
     "metadata": {},
     "output_type": "execute_result"
    }
   ],
   "source": [
    "eea_grid_id = centroid_gdf.eea_grid_id\n",
    "lat = centroid_gdf.centroid_lat\n",
    "lon = centroid_gdf.centroid_lon\n",
    "\n",
    "start_date = pd.Timestamp('2018-01-01')\n",
    "end_date = pd.Timestamp('2022-12-31')\n",
    "# end_date = pd.Timestamp('2018-01-1')\n",
    "date = pd.date_range(start_date, end_date)\n",
    "\n",
    "\n",
    "all_combinations = pd.MultiIndex.from_product([date, eea_grid_id], names=['date', 'eea_grid_id'])\n",
    "all_combinations = pd.DataFrame(index=all_combinations).reset_index()\n",
    "all_combinations = pd.merge(all_combinations, centroid_gdf[['eea_grid_id', 'centroid_lat', 'centroid_lon']], on='eea_grid_id', how='right')\n",
    "all_combinations"
   ]
  },
  {
   "cell_type": "code",
   "execution_count": null,
   "metadata": {},
   "outputs": [],
   "source": [
    "def fetch_weather(row):\n",
    "    location = Point(row.centroid_lat, row.centroid_lon)\n",
    "    data = Daily(location, row.date, row.date).fetch()\n",
    "    if data.empty:\n",
    "        return None\n",
    "    print(round((row.name / 796136), 3), '%')\n",
    "    return data.iloc[0]\n",
    "\n",
    "weather_df = all_combinations.copy()\n",
    "weather_df[['tavg', 'tmin', 'tmax', 'prcp', 'snow', 'wdir', 'wspd', 'wpgt', 'pres', 'tsun']] = weather_df.apply(fetch_weather, axis=1)\n",
    "weather_df"
   ]
  },
  {
   "cell_type": "code",
   "execution_count": null,
   "metadata": {},
   "outputs": [],
   "source": [
    "from concurrent.futures import ThreadPoolExecutor\n",
    "\n",
    "num_threads = 8\n",
    "\n",
    "with ThreadPoolExecutor(max_workers=num_threads) as executor:\n",
    "    def fetch_weather_concurrent(row):\n",
    "        location = Point(row['centroid_lat'], row['centroid_lon'])\n",
    "        data = Daily(location, row['date'], row['date']).fetch()\n",
    "        if data.empty:\n",
    "            return None\n",
    "        return data.iloc[0]\n",
    "\n",
    "    weather_data_list = list(executor.map(fetch_weather_concurrent, all_combinations.to_dict('records')))\n",
    "\n",
    "weather_df = all_combinations.copy()\n",
    "weather_df[['tavg', 'tmin', 'tmax', 'prcp', 'snow', 'wdir', 'wspd', 'wpgt', 'pres', 'tsun']] = weather_data_list\n"
   ]
  },
  {
   "cell_type": "code",
   "execution_count": null,
   "metadata": {},
   "outputs": [],
   "source": [
    "weather_df_path = 'D:\\Simon\\Documents\\GP\\Raw_Data\\weather_per_day_per_grid.csv'\n",
    "weather_df.to_csv(weather_df_path)"
   ]
  },
  {
   "cell_type": "code",
   "execution_count": null,
   "metadata": {},
   "outputs": [],
   "source": [
    "# merged_df = df.merge(centroid_gdf[['eea_grid_id', 'centroid_lon', 'centroid_lat']], on='eea_grid_id', how='left')\n",
    "# merged_df"
   ]
  },
  {
   "cell_type": "markdown",
   "metadata": {},
   "source": [
    "### Add weather features and merge with dataframe"
   ]
  },
  {
   "cell_type": "code",
   "execution_count": null,
   "metadata": {},
   "outputs": [],
   "source": [
    "# df = pd.merge(df, df_weather, left_index=True, right_index=True)"
   ]
  }
 ],
 "metadata": {
  "kernelspec": {
   "display_name": "gp",
   "language": "python",
   "name": "python3"
  },
  "language_info": {
   "codemirror_mode": {
    "name": "ipython",
    "version": 3
   },
   "file_extension": ".py",
   "mimetype": "text/x-python",
   "name": "python",
   "nbconvert_exporter": "python",
   "pygments_lexer": "ipython3",
   "version": "3.10.13"
  },
  "orig_nbformat": 4
 },
 "nbformat": 4,
 "nbformat_minor": 2
}
