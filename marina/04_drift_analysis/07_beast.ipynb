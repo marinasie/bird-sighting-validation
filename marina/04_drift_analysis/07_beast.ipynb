{
 "cells": [
  {
   "cell_type": "code",
   "execution_count": 11,
   "metadata": {},
   "outputs": [],
   "source": [
    "%reload_ext autoreload\n",
    "%autoreload 2\n",
    "\n",
    "import sys\n",
    "sys.path.append('../')\n",
    "\n",
    "import pandas as pd\n",
    "import Rbeast as rb\n",
    "\n",
    "from utils.plotting import *"
   ]
  },
  {
   "cell_type": "code",
   "execution_count": 31,
   "metadata": {},
   "outputs": [],
   "source": [
    "path = '../../../01_Data/datasets/time_series_feldsperling_week_counts.csv'\n",
    "df = pd.read_csv(path)"
   ]
  },
  {
   "cell_type": "code",
   "execution_count": 34,
   "metadata": {},
   "outputs": [
    {
     "data": {
      "application/vnd.plotly.v1+json": {
       "config": {
        "plotlyServerURL": "https://plot.ly"
       },
       "data": [
        {
         "fill": "tozeroy",
         "fillcolor": "rgba(102, 197, 204, 0.1)",
         "hovertemplate": "year=2018<br>week=%{x}<br>sighting_ratio=%{y}<extra></extra>",
         "legendgroup": "2018",
         "line": {
          "color": "rgb(102, 197, 204)",
          "dash": "solid",
          "shape": "spline"
         },
         "marker": {
          "symbol": "circle"
         },
         "mode": "lines",
         "name": "2018",
         "orientation": "v",
         "showlegend": true,
         "type": "scatter",
         "x": [
          1,
          2,
          3,
          4,
          5,
          6,
          7,
          8,
          9,
          10,
          11,
          12,
          13,
          14,
          15,
          16,
          17,
          18,
          19,
          20,
          21,
          22,
          23,
          24,
          25,
          26,
          27,
          28,
          29,
          30,
          31,
          32,
          33,
          34,
          35,
          36,
          37,
          38,
          39,
          40,
          41,
          42,
          43,
          44,
          45,
          46,
          47,
          48,
          49,
          50,
          51,
          52
         ],
         "xaxis": "x",
         "y": [
          0.71,
          0.43,
          0.29,
          0.57,
          0.57,
          0.43,
          0.57,
          0.14,
          0.71,
          0.86,
          1,
          1,
          1,
          1,
          1,
          0.71,
          1,
          0.43,
          1,
          0.71,
          0.86,
          0.71,
          0.57,
          0.43,
          0.86,
          0.57,
          0.71,
          0.43,
          0.43,
          0.29,
          0.57,
          0.71,
          0.71,
          0.71,
          0.43,
          0.86,
          0.43,
          0.29,
          0.86,
          0.71,
          1,
          1,
          0.71,
          0.71,
          0.86,
          0.57,
          0.43,
          0.14,
          0.57,
          0.71,
          0.71,
          0.86
         ],
         "yaxis": "y"
        },
        {
         "fill": "tozeroy",
         "fillcolor": "rgba(246, 207, 113, 0.1)",
         "hovertemplate": "year=2019<br>week=%{x}<br>sighting_ratio=%{y}<extra></extra>",
         "legendgroup": "2019",
         "line": {
          "color": "rgb(246, 207, 113)",
          "dash": "solid",
          "shape": "spline"
         },
         "marker": {
          "symbol": "circle"
         },
         "mode": "lines",
         "name": "2019",
         "orientation": "v",
         "showlegend": true,
         "type": "scatter",
         "x": [
          1,
          2,
          3,
          4,
          5,
          6,
          7,
          8,
          9,
          10,
          11,
          12,
          13,
          14,
          15,
          16,
          17,
          18,
          19,
          20,
          21,
          22,
          23,
          24,
          25,
          26,
          27,
          28,
          29,
          30,
          31,
          32,
          33,
          34,
          35,
          36,
          37,
          38,
          39,
          40,
          41,
          42,
          43,
          44,
          45,
          46,
          47,
          48,
          49,
          50,
          51,
          52
         ],
         "xaxis": "x",
         "y": [
          0.86,
          0.43,
          0.57,
          0.71,
          0.71,
          0.86,
          1,
          1,
          0.43,
          0.71,
          0.71,
          0.86,
          0.86,
          0.57,
          0.43,
          0.57,
          0.71,
          0.86,
          0.57,
          0.57,
          1,
          0.71,
          0.86,
          0.57,
          0.71,
          0.57,
          0.57,
          0.43,
          0.86,
          0.43,
          0.86,
          0.57,
          0.57,
          0.14,
          0.29,
          0.57,
          0.57,
          0.86,
          0.71,
          0.86,
          1,
          0.86,
          0.71,
          0.57,
          1,
          0.86,
          0.29,
          0.57,
          0.86,
          0.57,
          0.71,
          0.57
         ],
         "yaxis": "y"
        },
        {
         "fill": "tozeroy",
         "fillcolor": "rgba(248, 156, 116, 0.1)",
         "hovertemplate": "year=2020<br>week=%{x}<br>sighting_ratio=%{y}<extra></extra>",
         "legendgroup": "2020",
         "line": {
          "color": "rgb(248, 156, 116)",
          "dash": "solid",
          "shape": "spline"
         },
         "marker": {
          "symbol": "circle"
         },
         "mode": "lines",
         "name": "2020",
         "orientation": "v",
         "showlegend": true,
         "type": "scatter",
         "x": [
          1,
          2,
          3,
          4,
          5,
          6,
          7,
          8,
          9,
          10,
          11,
          12,
          13,
          14,
          15,
          16,
          17,
          18,
          19,
          20,
          21,
          22,
          23,
          24,
          25,
          26,
          27,
          28,
          29,
          30,
          31,
          32,
          33,
          34,
          35,
          36,
          37,
          38,
          39,
          40,
          41,
          42,
          43,
          44,
          45,
          46,
          47,
          48,
          49,
          50,
          51,
          52
         ],
         "xaxis": "x",
         "y": [
          1,
          0.57,
          0.29,
          0.71,
          0.57,
          0.57,
          0.29,
          0.71,
          0.86,
          0.43,
          0.71,
          1,
          0.86,
          1,
          1,
          1,
          0.71,
          0.57,
          0.86,
          0.86,
          1,
          0.86,
          0.43,
          0.86,
          1,
          0.86,
          0.71,
          0.86,
          0.29,
          0.71,
          0.29,
          0.57,
          0.86,
          0.43,
          0.43,
          1,
          0.86,
          0.71,
          0.57,
          0.71,
          0.71,
          0.71,
          0.57,
          0.29,
          1,
          0.71,
          0.57,
          0.71,
          0.43,
          0.29,
          0.71,
          0.29
         ],
         "yaxis": "y"
        },
        {
         "fill": "tozeroy",
         "fillcolor": "rgba(220, 176, 242, 0.1)",
         "hovertemplate": "year=2021<br>week=%{x}<br>sighting_ratio=%{y}<extra></extra>",
         "legendgroup": "2021",
         "line": {
          "color": "rgb(220, 176, 242)",
          "dash": "solid",
          "shape": "spline"
         },
         "marker": {
          "symbol": "circle"
         },
         "mode": "lines",
         "name": "2021",
         "orientation": "v",
         "showlegend": true,
         "type": "scatter",
         "x": [
          1,
          2,
          3,
          4,
          5,
          6,
          7,
          8,
          9,
          10,
          11,
          12,
          13,
          14,
          15,
          16,
          17,
          18,
          19,
          20,
          21,
          22,
          23,
          24,
          25,
          26,
          27,
          28,
          29,
          30,
          31,
          32,
          33,
          34,
          35,
          36,
          37,
          38,
          39,
          40,
          41,
          42,
          43,
          44,
          45,
          46,
          47,
          48,
          49,
          50,
          51,
          52
         ],
         "xaxis": "x",
         "y": [
          0.86,
          0.43,
          1,
          0.86,
          0.71,
          0.43,
          0.86,
          0.86,
          0.86,
          0.71,
          0.86,
          1,
          0.86,
          0.57,
          0.86,
          1,
          0.86,
          0.57,
          0.86,
          0.86,
          0.57,
          0.86,
          0.57,
          1,
          0.86,
          0.57,
          0.57,
          0.57,
          1,
          0.57,
          0.71,
          0.86,
          0.71,
          0.86,
          0.86,
          0.71,
          0.29,
          0.86,
          0.43,
          0.57,
          0.86,
          0.57,
          0.43,
          0.57,
          0.57,
          0.43,
          0.29,
          0.57,
          0.43,
          0.43,
          0.14,
          0
         ],
         "yaxis": "y"
        },
        {
         "fill": "tozeroy",
         "fillcolor": "rgba(135, 197, 95, 0.1)",
         "hovertemplate": "year=2022<br>week=%{x}<br>sighting_ratio=%{y}<extra></extra>",
         "legendgroup": "2022",
         "line": {
          "color": "rgb(135, 197, 95)",
          "dash": "solid",
          "shape": "spline"
         },
         "marker": {
          "symbol": "circle"
         },
         "mode": "lines",
         "name": "2022",
         "orientation": "v",
         "showlegend": true,
         "type": "scatter",
         "x": [
          1,
          2,
          3,
          4,
          5,
          6,
          7,
          8,
          9,
          10,
          11,
          12,
          13,
          14,
          15,
          16,
          17,
          18,
          19,
          20,
          21,
          22,
          23,
          24,
          25,
          26,
          27,
          28,
          29,
          30,
          31,
          32,
          33,
          34,
          35,
          36,
          37,
          38,
          39,
          40,
          41,
          42,
          43,
          44,
          45,
          46,
          47,
          48,
          49,
          50,
          51,
          52
         ],
         "xaxis": "x",
         "y": [
          0.43,
          0.29,
          0.29,
          0.43,
          0.29,
          0.71,
          0.71,
          0.43,
          0.43,
          0.71,
          0.86,
          0.86,
          0.29,
          0.57,
          0.71,
          0.86,
          0.86,
          0.57,
          0.71,
          0.86,
          1,
          1,
          0.86,
          0.71,
          0.57,
          0.86,
          0.86,
          1,
          1,
          0.71,
          0.57,
          0.71,
          0.86,
          0.71,
          0.57,
          0.43,
          0.14,
          0.71,
          0.29,
          0.43,
          0.86,
          0.71,
          0.57,
          0.29,
          0.43,
          0.29,
          0.29,
          0.29,
          0.29,
          0,
          0.29,
          0.14
         ],
         "yaxis": "y"
        },
        {
         "marker": {
          "color": "rgba(0,0,0,0)"
         },
         "mode": "markers",
         "showlegend": false,
         "type": "scatter",
         "x": [
          "2023-01-31T00:00:00",
          "2023-02-28T00:00:00",
          "2023-03-31T00:00:00",
          "2023-04-30T00:00:00",
          "2023-05-31T00:00:00",
          "2023-06-30T00:00:00",
          "2023-07-31T00:00:00",
          "2023-08-31T00:00:00",
          "2023-09-30T00:00:00",
          "2023-10-31T00:00:00",
          "2023-11-30T00:00:00",
          "2023-12-31T00:00:00",
          "2024-01-31T00:00:00"
         ],
         "xaxis": "x2",
         "y": [
          0,
          0,
          0,
          0,
          0,
          0,
          0,
          0,
          0,
          0,
          0,
          0,
          0
         ]
        }
       ],
       "layout": {
        "font": {
         "color": "#4d5f81",
         "family": "Aleo",
         "size": 15
        },
        "legend": {
         "title": {
          "text": "year"
         },
         "tracegroupgap": 0
        },
        "margin": {
         "t": 60
        },
        "shapes": [
         {
          "line": {
           "color": "rgba(102, 197, 204, 0.5)",
           "width": 15
          },
          "type": "line",
          "x0": 1,
          "x1": 1,
          "y0": 0,
          "y1": 0.71
         },
         {
          "line": {
           "color": "rgba(102, 197, 204, 0.5)",
           "width": 15
          },
          "type": "line",
          "x0": 2,
          "x1": 2,
          "y0": 0,
          "y1": 0.43
         },
         {
          "line": {
           "color": "rgba(102, 197, 204, 0.5)",
           "width": 15
          },
          "type": "line",
          "x0": 3,
          "x1": 3,
          "y0": 0,
          "y1": 0.29
         },
         {
          "line": {
           "color": "rgba(102, 197, 204, 0.5)",
           "width": 15
          },
          "type": "line",
          "x0": 4,
          "x1": 4,
          "y0": 0,
          "y1": 0.57
         },
         {
          "line": {
           "color": "rgba(102, 197, 204, 0.5)",
           "width": 15
          },
          "type": "line",
          "x0": 5,
          "x1": 5,
          "y0": 0,
          "y1": 0.57
         },
         {
          "line": {
           "color": "rgba(102, 197, 204, 0.5)",
           "width": 15
          },
          "type": "line",
          "x0": 6,
          "x1": 6,
          "y0": 0,
          "y1": 0.43
         },
         {
          "line": {
           "color": "rgba(102, 197, 204, 0.5)",
           "width": 15
          },
          "type": "line",
          "x0": 7,
          "x1": 7,
          "y0": 0,
          "y1": 0.57
         },
         {
          "line": {
           "color": "rgba(102, 197, 204, 0.5)",
           "width": 15
          },
          "type": "line",
          "x0": 8,
          "x1": 8,
          "y0": 0,
          "y1": 0.14
         },
         {
          "line": {
           "color": "rgba(102, 197, 204, 0.5)",
           "width": 15
          },
          "type": "line",
          "x0": 9,
          "x1": 9,
          "y0": 0,
          "y1": 0.71
         },
         {
          "line": {
           "color": "rgba(102, 197, 204, 0.5)",
           "width": 15
          },
          "type": "line",
          "x0": 10,
          "x1": 10,
          "y0": 0,
          "y1": 0.86
         },
         {
          "line": {
           "color": "rgba(102, 197, 204, 0.5)",
           "width": 15
          },
          "type": "line",
          "x0": 11,
          "x1": 11,
          "y0": 0,
          "y1": 1
         },
         {
          "line": {
           "color": "rgba(102, 197, 204, 0.5)",
           "width": 15
          },
          "type": "line",
          "x0": 12,
          "x1": 12,
          "y0": 0,
          "y1": 1
         },
         {
          "line": {
           "color": "rgba(102, 197, 204, 0.5)",
           "width": 15
          },
          "type": "line",
          "x0": 13,
          "x1": 13,
          "y0": 0,
          "y1": 1
         },
         {
          "line": {
           "color": "rgba(102, 197, 204, 0.5)",
           "width": 15
          },
          "type": "line",
          "x0": 14,
          "x1": 14,
          "y0": 0,
          "y1": 1
         },
         {
          "line": {
           "color": "rgba(102, 197, 204, 0.5)",
           "width": 15
          },
          "type": "line",
          "x0": 15,
          "x1": 15,
          "y0": 0,
          "y1": 1
         },
         {
          "line": {
           "color": "rgba(102, 197, 204, 0.5)",
           "width": 15
          },
          "type": "line",
          "x0": 16,
          "x1": 16,
          "y0": 0,
          "y1": 0.71
         },
         {
          "line": {
           "color": "rgba(102, 197, 204, 0.5)",
           "width": 15
          },
          "type": "line",
          "x0": 17,
          "x1": 17,
          "y0": 0,
          "y1": 1
         },
         {
          "line": {
           "color": "rgba(102, 197, 204, 0.5)",
           "width": 15
          },
          "type": "line",
          "x0": 18,
          "x1": 18,
          "y0": 0,
          "y1": 0.43
         },
         {
          "line": {
           "color": "rgba(102, 197, 204, 0.5)",
           "width": 15
          },
          "type": "line",
          "x0": 19,
          "x1": 19,
          "y0": 0,
          "y1": 1
         },
         {
          "line": {
           "color": "rgba(102, 197, 204, 0.5)",
           "width": 15
          },
          "type": "line",
          "x0": 20,
          "x1": 20,
          "y0": 0,
          "y1": 0.71
         },
         {
          "line": {
           "color": "rgba(102, 197, 204, 0.5)",
           "width": 15
          },
          "type": "line",
          "x0": 21,
          "x1": 21,
          "y0": 0,
          "y1": 0.86
         },
         {
          "line": {
           "color": "rgba(102, 197, 204, 0.5)",
           "width": 15
          },
          "type": "line",
          "x0": 22,
          "x1": 22,
          "y0": 0,
          "y1": 0.71
         },
         {
          "line": {
           "color": "rgba(102, 197, 204, 0.5)",
           "width": 15
          },
          "type": "line",
          "x0": 23,
          "x1": 23,
          "y0": 0,
          "y1": 0.57
         },
         {
          "line": {
           "color": "rgba(102, 197, 204, 0.5)",
           "width": 15
          },
          "type": "line",
          "x0": 24,
          "x1": 24,
          "y0": 0,
          "y1": 0.43
         },
         {
          "line": {
           "color": "rgba(102, 197, 204, 0.5)",
           "width": 15
          },
          "type": "line",
          "x0": 25,
          "x1": 25,
          "y0": 0,
          "y1": 0.86
         },
         {
          "line": {
           "color": "rgba(102, 197, 204, 0.5)",
           "width": 15
          },
          "type": "line",
          "x0": 26,
          "x1": 26,
          "y0": 0,
          "y1": 0.57
         },
         {
          "line": {
           "color": "rgba(102, 197, 204, 0.5)",
           "width": 15
          },
          "type": "line",
          "x0": 27,
          "x1": 27,
          "y0": 0,
          "y1": 0.71
         },
         {
          "line": {
           "color": "rgba(102, 197, 204, 0.5)",
           "width": 15
          },
          "type": "line",
          "x0": 28,
          "x1": 28,
          "y0": 0,
          "y1": 0.43
         },
         {
          "line": {
           "color": "rgba(102, 197, 204, 0.5)",
           "width": 15
          },
          "type": "line",
          "x0": 29,
          "x1": 29,
          "y0": 0,
          "y1": 0.43
         },
         {
          "line": {
           "color": "rgba(102, 197, 204, 0.5)",
           "width": 15
          },
          "type": "line",
          "x0": 30,
          "x1": 30,
          "y0": 0,
          "y1": 0.29
         },
         {
          "line": {
           "color": "rgba(102, 197, 204, 0.5)",
           "width": 15
          },
          "type": "line",
          "x0": 31,
          "x1": 31,
          "y0": 0,
          "y1": 0.57
         },
         {
          "line": {
           "color": "rgba(102, 197, 204, 0.5)",
           "width": 15
          },
          "type": "line",
          "x0": 32,
          "x1": 32,
          "y0": 0,
          "y1": 0.71
         },
         {
          "line": {
           "color": "rgba(102, 197, 204, 0.5)",
           "width": 15
          },
          "type": "line",
          "x0": 33,
          "x1": 33,
          "y0": 0,
          "y1": 0.71
         },
         {
          "line": {
           "color": "rgba(102, 197, 204, 0.5)",
           "width": 15
          },
          "type": "line",
          "x0": 34,
          "x1": 34,
          "y0": 0,
          "y1": 0.71
         },
         {
          "line": {
           "color": "rgba(102, 197, 204, 0.5)",
           "width": 15
          },
          "type": "line",
          "x0": 35,
          "x1": 35,
          "y0": 0,
          "y1": 0.43
         },
         {
          "line": {
           "color": "rgba(102, 197, 204, 0.5)",
           "width": 15
          },
          "type": "line",
          "x0": 36,
          "x1": 36,
          "y0": 0,
          "y1": 0.86
         },
         {
          "line": {
           "color": "rgba(102, 197, 204, 0.5)",
           "width": 15
          },
          "type": "line",
          "x0": 37,
          "x1": 37,
          "y0": 0,
          "y1": 0.43
         },
         {
          "line": {
           "color": "rgba(102, 197, 204, 0.5)",
           "width": 15
          },
          "type": "line",
          "x0": 38,
          "x1": 38,
          "y0": 0,
          "y1": 0.29
         },
         {
          "line": {
           "color": "rgba(102, 197, 204, 0.5)",
           "width": 15
          },
          "type": "line",
          "x0": 39,
          "x1": 39,
          "y0": 0,
          "y1": 0.86
         },
         {
          "line": {
           "color": "rgba(102, 197, 204, 0.5)",
           "width": 15
          },
          "type": "line",
          "x0": 40,
          "x1": 40,
          "y0": 0,
          "y1": 0.71
         },
         {
          "line": {
           "color": "rgba(102, 197, 204, 0.5)",
           "width": 15
          },
          "type": "line",
          "x0": 41,
          "x1": 41,
          "y0": 0,
          "y1": 1
         },
         {
          "line": {
           "color": "rgba(102, 197, 204, 0.5)",
           "width": 15
          },
          "type": "line",
          "x0": 42,
          "x1": 42,
          "y0": 0,
          "y1": 1
         },
         {
          "line": {
           "color": "rgba(102, 197, 204, 0.5)",
           "width": 15
          },
          "type": "line",
          "x0": 43,
          "x1": 43,
          "y0": 0,
          "y1": 0.71
         },
         {
          "line": {
           "color": "rgba(102, 197, 204, 0.5)",
           "width": 15
          },
          "type": "line",
          "x0": 44,
          "x1": 44,
          "y0": 0,
          "y1": 0.71
         },
         {
          "line": {
           "color": "rgba(102, 197, 204, 0.5)",
           "width": 15
          },
          "type": "line",
          "x0": 45,
          "x1": 45,
          "y0": 0,
          "y1": 0.86
         },
         {
          "line": {
           "color": "rgba(102, 197, 204, 0.5)",
           "width": 15
          },
          "type": "line",
          "x0": 46,
          "x1": 46,
          "y0": 0,
          "y1": 0.57
         },
         {
          "line": {
           "color": "rgba(102, 197, 204, 0.5)",
           "width": 15
          },
          "type": "line",
          "x0": 47,
          "x1": 47,
          "y0": 0,
          "y1": 0.43
         },
         {
          "line": {
           "color": "rgba(102, 197, 204, 0.5)",
           "width": 15
          },
          "type": "line",
          "x0": 48,
          "x1": 48,
          "y0": 0,
          "y1": 0.14
         },
         {
          "line": {
           "color": "rgba(102, 197, 204, 0.5)",
           "width": 15
          },
          "type": "line",
          "x0": 49,
          "x1": 49,
          "y0": 0,
          "y1": 0.57
         },
         {
          "line": {
           "color": "rgba(102, 197, 204, 0.5)",
           "width": 15
          },
          "type": "line",
          "x0": 50,
          "x1": 50,
          "y0": 0,
          "y1": 0.71
         },
         {
          "line": {
           "color": "rgba(102, 197, 204, 0.5)",
           "width": 15
          },
          "type": "line",
          "x0": 51,
          "x1": 51,
          "y0": 0,
          "y1": 0.71
         },
         {
          "line": {
           "color": "rgba(102, 197, 204, 0.5)",
           "width": 15
          },
          "type": "line",
          "x0": 52,
          "x1": 52,
          "y0": 0,
          "y1": 0.86
         },
         {
          "line": {
           "color": "rgba(246, 207, 113, 0.5)",
           "width": 15
          },
          "type": "line",
          "x0": 1,
          "x1": 1,
          "y0": 0,
          "y1": 0.86
         },
         {
          "line": {
           "color": "rgba(246, 207, 113, 0.5)",
           "width": 15
          },
          "type": "line",
          "x0": 2,
          "x1": 2,
          "y0": 0,
          "y1": 0.43
         },
         {
          "line": {
           "color": "rgba(246, 207, 113, 0.5)",
           "width": 15
          },
          "type": "line",
          "x0": 3,
          "x1": 3,
          "y0": 0,
          "y1": 0.57
         },
         {
          "line": {
           "color": "rgba(246, 207, 113, 0.5)",
           "width": 15
          },
          "type": "line",
          "x0": 4,
          "x1": 4,
          "y0": 0,
          "y1": 0.71
         },
         {
          "line": {
           "color": "rgba(246, 207, 113, 0.5)",
           "width": 15
          },
          "type": "line",
          "x0": 5,
          "x1": 5,
          "y0": 0,
          "y1": 0.71
         },
         {
          "line": {
           "color": "rgba(246, 207, 113, 0.5)",
           "width": 15
          },
          "type": "line",
          "x0": 6,
          "x1": 6,
          "y0": 0,
          "y1": 0.86
         },
         {
          "line": {
           "color": "rgba(246, 207, 113, 0.5)",
           "width": 15
          },
          "type": "line",
          "x0": 7,
          "x1": 7,
          "y0": 0,
          "y1": 1
         },
         {
          "line": {
           "color": "rgba(246, 207, 113, 0.5)",
           "width": 15
          },
          "type": "line",
          "x0": 8,
          "x1": 8,
          "y0": 0,
          "y1": 1
         },
         {
          "line": {
           "color": "rgba(246, 207, 113, 0.5)",
           "width": 15
          },
          "type": "line",
          "x0": 9,
          "x1": 9,
          "y0": 0,
          "y1": 0.43
         },
         {
          "line": {
           "color": "rgba(246, 207, 113, 0.5)",
           "width": 15
          },
          "type": "line",
          "x0": 10,
          "x1": 10,
          "y0": 0,
          "y1": 0.71
         },
         {
          "line": {
           "color": "rgba(246, 207, 113, 0.5)",
           "width": 15
          },
          "type": "line",
          "x0": 11,
          "x1": 11,
          "y0": 0,
          "y1": 0.71
         },
         {
          "line": {
           "color": "rgba(246, 207, 113, 0.5)",
           "width": 15
          },
          "type": "line",
          "x0": 12,
          "x1": 12,
          "y0": 0,
          "y1": 0.86
         },
         {
          "line": {
           "color": "rgba(246, 207, 113, 0.5)",
           "width": 15
          },
          "type": "line",
          "x0": 13,
          "x1": 13,
          "y0": 0,
          "y1": 0.86
         },
         {
          "line": {
           "color": "rgba(246, 207, 113, 0.5)",
           "width": 15
          },
          "type": "line",
          "x0": 14,
          "x1": 14,
          "y0": 0,
          "y1": 0.57
         },
         {
          "line": {
           "color": "rgba(246, 207, 113, 0.5)",
           "width": 15
          },
          "type": "line",
          "x0": 15,
          "x1": 15,
          "y0": 0,
          "y1": 0.43
         },
         {
          "line": {
           "color": "rgba(246, 207, 113, 0.5)",
           "width": 15
          },
          "type": "line",
          "x0": 16,
          "x1": 16,
          "y0": 0,
          "y1": 0.57
         },
         {
          "line": {
           "color": "rgba(246, 207, 113, 0.5)",
           "width": 15
          },
          "type": "line",
          "x0": 17,
          "x1": 17,
          "y0": 0,
          "y1": 0.71
         },
         {
          "line": {
           "color": "rgba(246, 207, 113, 0.5)",
           "width": 15
          },
          "type": "line",
          "x0": 18,
          "x1": 18,
          "y0": 0,
          "y1": 0.86
         },
         {
          "line": {
           "color": "rgba(246, 207, 113, 0.5)",
           "width": 15
          },
          "type": "line",
          "x0": 19,
          "x1": 19,
          "y0": 0,
          "y1": 0.57
         },
         {
          "line": {
           "color": "rgba(246, 207, 113, 0.5)",
           "width": 15
          },
          "type": "line",
          "x0": 20,
          "x1": 20,
          "y0": 0,
          "y1": 0.57
         },
         {
          "line": {
           "color": "rgba(246, 207, 113, 0.5)",
           "width": 15
          },
          "type": "line",
          "x0": 21,
          "x1": 21,
          "y0": 0,
          "y1": 1
         },
         {
          "line": {
           "color": "rgba(246, 207, 113, 0.5)",
           "width": 15
          },
          "type": "line",
          "x0": 22,
          "x1": 22,
          "y0": 0,
          "y1": 0.71
         },
         {
          "line": {
           "color": "rgba(246, 207, 113, 0.5)",
           "width": 15
          },
          "type": "line",
          "x0": 23,
          "x1": 23,
          "y0": 0,
          "y1": 0.86
         },
         {
          "line": {
           "color": "rgba(246, 207, 113, 0.5)",
           "width": 15
          },
          "type": "line",
          "x0": 24,
          "x1": 24,
          "y0": 0,
          "y1": 0.57
         },
         {
          "line": {
           "color": "rgba(246, 207, 113, 0.5)",
           "width": 15
          },
          "type": "line",
          "x0": 25,
          "x1": 25,
          "y0": 0,
          "y1": 0.71
         },
         {
          "line": {
           "color": "rgba(246, 207, 113, 0.5)",
           "width": 15
          },
          "type": "line",
          "x0": 26,
          "x1": 26,
          "y0": 0,
          "y1": 0.57
         },
         {
          "line": {
           "color": "rgba(246, 207, 113, 0.5)",
           "width": 15
          },
          "type": "line",
          "x0": 27,
          "x1": 27,
          "y0": 0,
          "y1": 0.57
         },
         {
          "line": {
           "color": "rgba(246, 207, 113, 0.5)",
           "width": 15
          },
          "type": "line",
          "x0": 28,
          "x1": 28,
          "y0": 0,
          "y1": 0.43
         },
         {
          "line": {
           "color": "rgba(246, 207, 113, 0.5)",
           "width": 15
          },
          "type": "line",
          "x0": 29,
          "x1": 29,
          "y0": 0,
          "y1": 0.86
         },
         {
          "line": {
           "color": "rgba(246, 207, 113, 0.5)",
           "width": 15
          },
          "type": "line",
          "x0": 30,
          "x1": 30,
          "y0": 0,
          "y1": 0.43
         },
         {
          "line": {
           "color": "rgba(246, 207, 113, 0.5)",
           "width": 15
          },
          "type": "line",
          "x0": 31,
          "x1": 31,
          "y0": 0,
          "y1": 0.86
         },
         {
          "line": {
           "color": "rgba(246, 207, 113, 0.5)",
           "width": 15
          },
          "type": "line",
          "x0": 32,
          "x1": 32,
          "y0": 0,
          "y1": 0.57
         },
         {
          "line": {
           "color": "rgba(246, 207, 113, 0.5)",
           "width": 15
          },
          "type": "line",
          "x0": 33,
          "x1": 33,
          "y0": 0,
          "y1": 0.57
         },
         {
          "line": {
           "color": "rgba(246, 207, 113, 0.5)",
           "width": 15
          },
          "type": "line",
          "x0": 34,
          "x1": 34,
          "y0": 0,
          "y1": 0.14
         },
         {
          "line": {
           "color": "rgba(246, 207, 113, 0.5)",
           "width": 15
          },
          "type": "line",
          "x0": 35,
          "x1": 35,
          "y0": 0,
          "y1": 0.29
         },
         {
          "line": {
           "color": "rgba(246, 207, 113, 0.5)",
           "width": 15
          },
          "type": "line",
          "x0": 36,
          "x1": 36,
          "y0": 0,
          "y1": 0.57
         },
         {
          "line": {
           "color": "rgba(246, 207, 113, 0.5)",
           "width": 15
          },
          "type": "line",
          "x0": 37,
          "x1": 37,
          "y0": 0,
          "y1": 0.57
         },
         {
          "line": {
           "color": "rgba(246, 207, 113, 0.5)",
           "width": 15
          },
          "type": "line",
          "x0": 38,
          "x1": 38,
          "y0": 0,
          "y1": 0.86
         },
         {
          "line": {
           "color": "rgba(246, 207, 113, 0.5)",
           "width": 15
          },
          "type": "line",
          "x0": 39,
          "x1": 39,
          "y0": 0,
          "y1": 0.71
         },
         {
          "line": {
           "color": "rgba(246, 207, 113, 0.5)",
           "width": 15
          },
          "type": "line",
          "x0": 40,
          "x1": 40,
          "y0": 0,
          "y1": 0.86
         },
         {
          "line": {
           "color": "rgba(246, 207, 113, 0.5)",
           "width": 15
          },
          "type": "line",
          "x0": 41,
          "x1": 41,
          "y0": 0,
          "y1": 1
         },
         {
          "line": {
           "color": "rgba(246, 207, 113, 0.5)",
           "width": 15
          },
          "type": "line",
          "x0": 42,
          "x1": 42,
          "y0": 0,
          "y1": 0.86
         },
         {
          "line": {
           "color": "rgba(246, 207, 113, 0.5)",
           "width": 15
          },
          "type": "line",
          "x0": 43,
          "x1": 43,
          "y0": 0,
          "y1": 0.71
         },
         {
          "line": {
           "color": "rgba(246, 207, 113, 0.5)",
           "width": 15
          },
          "type": "line",
          "x0": 44,
          "x1": 44,
          "y0": 0,
          "y1": 0.57
         },
         {
          "line": {
           "color": "rgba(246, 207, 113, 0.5)",
           "width": 15
          },
          "type": "line",
          "x0": 45,
          "x1": 45,
          "y0": 0,
          "y1": 1
         },
         {
          "line": {
           "color": "rgba(246, 207, 113, 0.5)",
           "width": 15
          },
          "type": "line",
          "x0": 46,
          "x1": 46,
          "y0": 0,
          "y1": 0.86
         },
         {
          "line": {
           "color": "rgba(246, 207, 113, 0.5)",
           "width": 15
          },
          "type": "line",
          "x0": 47,
          "x1": 47,
          "y0": 0,
          "y1": 0.29
         },
         {
          "line": {
           "color": "rgba(246, 207, 113, 0.5)",
           "width": 15
          },
          "type": "line",
          "x0": 48,
          "x1": 48,
          "y0": 0,
          "y1": 0.57
         },
         {
          "line": {
           "color": "rgba(246, 207, 113, 0.5)",
           "width": 15
          },
          "type": "line",
          "x0": 49,
          "x1": 49,
          "y0": 0,
          "y1": 0.86
         },
         {
          "line": {
           "color": "rgba(246, 207, 113, 0.5)",
           "width": 15
          },
          "type": "line",
          "x0": 50,
          "x1": 50,
          "y0": 0,
          "y1": 0.57
         },
         {
          "line": {
           "color": "rgba(246, 207, 113, 0.5)",
           "width": 15
          },
          "type": "line",
          "x0": 51,
          "x1": 51,
          "y0": 0,
          "y1": 0.71
         },
         {
          "line": {
           "color": "rgba(246, 207, 113, 0.5)",
           "width": 15
          },
          "type": "line",
          "x0": 52,
          "x1": 52,
          "y0": 0,
          "y1": 0.57
         },
         {
          "line": {
           "color": "rgba(248, 156, 116, 0.5)",
           "width": 15
          },
          "type": "line",
          "x0": 1,
          "x1": 1,
          "y0": 0,
          "y1": 1
         },
         {
          "line": {
           "color": "rgba(248, 156, 116, 0.5)",
           "width": 15
          },
          "type": "line",
          "x0": 2,
          "x1": 2,
          "y0": 0,
          "y1": 0.57
         },
         {
          "line": {
           "color": "rgba(248, 156, 116, 0.5)",
           "width": 15
          },
          "type": "line",
          "x0": 3,
          "x1": 3,
          "y0": 0,
          "y1": 0.29
         },
         {
          "line": {
           "color": "rgba(248, 156, 116, 0.5)",
           "width": 15
          },
          "type": "line",
          "x0": 4,
          "x1": 4,
          "y0": 0,
          "y1": 0.71
         },
         {
          "line": {
           "color": "rgba(248, 156, 116, 0.5)",
           "width": 15
          },
          "type": "line",
          "x0": 5,
          "x1": 5,
          "y0": 0,
          "y1": 0.57
         },
         {
          "line": {
           "color": "rgba(248, 156, 116, 0.5)",
           "width": 15
          },
          "type": "line",
          "x0": 6,
          "x1": 6,
          "y0": 0,
          "y1": 0.57
         },
         {
          "line": {
           "color": "rgba(248, 156, 116, 0.5)",
           "width": 15
          },
          "type": "line",
          "x0": 7,
          "x1": 7,
          "y0": 0,
          "y1": 0.29
         },
         {
          "line": {
           "color": "rgba(248, 156, 116, 0.5)",
           "width": 15
          },
          "type": "line",
          "x0": 8,
          "x1": 8,
          "y0": 0,
          "y1": 0.71
         },
         {
          "line": {
           "color": "rgba(248, 156, 116, 0.5)",
           "width": 15
          },
          "type": "line",
          "x0": 9,
          "x1": 9,
          "y0": 0,
          "y1": 0.86
         },
         {
          "line": {
           "color": "rgba(248, 156, 116, 0.5)",
           "width": 15
          },
          "type": "line",
          "x0": 10,
          "x1": 10,
          "y0": 0,
          "y1": 0.43
         },
         {
          "line": {
           "color": "rgba(248, 156, 116, 0.5)",
           "width": 15
          },
          "type": "line",
          "x0": 11,
          "x1": 11,
          "y0": 0,
          "y1": 0.71
         },
         {
          "line": {
           "color": "rgba(248, 156, 116, 0.5)",
           "width": 15
          },
          "type": "line",
          "x0": 12,
          "x1": 12,
          "y0": 0,
          "y1": 1
         },
         {
          "line": {
           "color": "rgba(248, 156, 116, 0.5)",
           "width": 15
          },
          "type": "line",
          "x0": 13,
          "x1": 13,
          "y0": 0,
          "y1": 0.86
         },
         {
          "line": {
           "color": "rgba(248, 156, 116, 0.5)",
           "width": 15
          },
          "type": "line",
          "x0": 14,
          "x1": 14,
          "y0": 0,
          "y1": 1
         },
         {
          "line": {
           "color": "rgba(248, 156, 116, 0.5)",
           "width": 15
          },
          "type": "line",
          "x0": 15,
          "x1": 15,
          "y0": 0,
          "y1": 1
         },
         {
          "line": {
           "color": "rgba(248, 156, 116, 0.5)",
           "width": 15
          },
          "type": "line",
          "x0": 16,
          "x1": 16,
          "y0": 0,
          "y1": 1
         },
         {
          "line": {
           "color": "rgba(248, 156, 116, 0.5)",
           "width": 15
          },
          "type": "line",
          "x0": 17,
          "x1": 17,
          "y0": 0,
          "y1": 0.71
         },
         {
          "line": {
           "color": "rgba(248, 156, 116, 0.5)",
           "width": 15
          },
          "type": "line",
          "x0": 18,
          "x1": 18,
          "y0": 0,
          "y1": 0.57
         },
         {
          "line": {
           "color": "rgba(248, 156, 116, 0.5)",
           "width": 15
          },
          "type": "line",
          "x0": 19,
          "x1": 19,
          "y0": 0,
          "y1": 0.86
         },
         {
          "line": {
           "color": "rgba(248, 156, 116, 0.5)",
           "width": 15
          },
          "type": "line",
          "x0": 20,
          "x1": 20,
          "y0": 0,
          "y1": 0.86
         },
         {
          "line": {
           "color": "rgba(248, 156, 116, 0.5)",
           "width": 15
          },
          "type": "line",
          "x0": 21,
          "x1": 21,
          "y0": 0,
          "y1": 1
         },
         {
          "line": {
           "color": "rgba(248, 156, 116, 0.5)",
           "width": 15
          },
          "type": "line",
          "x0": 22,
          "x1": 22,
          "y0": 0,
          "y1": 0.86
         },
         {
          "line": {
           "color": "rgba(248, 156, 116, 0.5)",
           "width": 15
          },
          "type": "line",
          "x0": 23,
          "x1": 23,
          "y0": 0,
          "y1": 0.43
         },
         {
          "line": {
           "color": "rgba(248, 156, 116, 0.5)",
           "width": 15
          },
          "type": "line",
          "x0": 24,
          "x1": 24,
          "y0": 0,
          "y1": 0.86
         },
         {
          "line": {
           "color": "rgba(248, 156, 116, 0.5)",
           "width": 15
          },
          "type": "line",
          "x0": 25,
          "x1": 25,
          "y0": 0,
          "y1": 1
         },
         {
          "line": {
           "color": "rgba(248, 156, 116, 0.5)",
           "width": 15
          },
          "type": "line",
          "x0": 26,
          "x1": 26,
          "y0": 0,
          "y1": 0.86
         },
         {
          "line": {
           "color": "rgba(248, 156, 116, 0.5)",
           "width": 15
          },
          "type": "line",
          "x0": 27,
          "x1": 27,
          "y0": 0,
          "y1": 0.71
         },
         {
          "line": {
           "color": "rgba(248, 156, 116, 0.5)",
           "width": 15
          },
          "type": "line",
          "x0": 28,
          "x1": 28,
          "y0": 0,
          "y1": 0.86
         },
         {
          "line": {
           "color": "rgba(248, 156, 116, 0.5)",
           "width": 15
          },
          "type": "line",
          "x0": 29,
          "x1": 29,
          "y0": 0,
          "y1": 0.29
         },
         {
          "line": {
           "color": "rgba(248, 156, 116, 0.5)",
           "width": 15
          },
          "type": "line",
          "x0": 30,
          "x1": 30,
          "y0": 0,
          "y1": 0.71
         },
         {
          "line": {
           "color": "rgba(248, 156, 116, 0.5)",
           "width": 15
          },
          "type": "line",
          "x0": 31,
          "x1": 31,
          "y0": 0,
          "y1": 0.29
         },
         {
          "line": {
           "color": "rgba(248, 156, 116, 0.5)",
           "width": 15
          },
          "type": "line",
          "x0": 32,
          "x1": 32,
          "y0": 0,
          "y1": 0.57
         },
         {
          "line": {
           "color": "rgba(248, 156, 116, 0.5)",
           "width": 15
          },
          "type": "line",
          "x0": 33,
          "x1": 33,
          "y0": 0,
          "y1": 0.86
         },
         {
          "line": {
           "color": "rgba(248, 156, 116, 0.5)",
           "width": 15
          },
          "type": "line",
          "x0": 34,
          "x1": 34,
          "y0": 0,
          "y1": 0.43
         },
         {
          "line": {
           "color": "rgba(248, 156, 116, 0.5)",
           "width": 15
          },
          "type": "line",
          "x0": 35,
          "x1": 35,
          "y0": 0,
          "y1": 0.43
         },
         {
          "line": {
           "color": "rgba(248, 156, 116, 0.5)",
           "width": 15
          },
          "type": "line",
          "x0": 36,
          "x1": 36,
          "y0": 0,
          "y1": 1
         },
         {
          "line": {
           "color": "rgba(248, 156, 116, 0.5)",
           "width": 15
          },
          "type": "line",
          "x0": 37,
          "x1": 37,
          "y0": 0,
          "y1": 0.86
         },
         {
          "line": {
           "color": "rgba(248, 156, 116, 0.5)",
           "width": 15
          },
          "type": "line",
          "x0": 38,
          "x1": 38,
          "y0": 0,
          "y1": 0.71
         },
         {
          "line": {
           "color": "rgba(248, 156, 116, 0.5)",
           "width": 15
          },
          "type": "line",
          "x0": 39,
          "x1": 39,
          "y0": 0,
          "y1": 0.57
         },
         {
          "line": {
           "color": "rgba(248, 156, 116, 0.5)",
           "width": 15
          },
          "type": "line",
          "x0": 40,
          "x1": 40,
          "y0": 0,
          "y1": 0.71
         },
         {
          "line": {
           "color": "rgba(248, 156, 116, 0.5)",
           "width": 15
          },
          "type": "line",
          "x0": 41,
          "x1": 41,
          "y0": 0,
          "y1": 0.71
         },
         {
          "line": {
           "color": "rgba(248, 156, 116, 0.5)",
           "width": 15
          },
          "type": "line",
          "x0": 42,
          "x1": 42,
          "y0": 0,
          "y1": 0.71
         },
         {
          "line": {
           "color": "rgba(248, 156, 116, 0.5)",
           "width": 15
          },
          "type": "line",
          "x0": 43,
          "x1": 43,
          "y0": 0,
          "y1": 0.57
         },
         {
          "line": {
           "color": "rgba(248, 156, 116, 0.5)",
           "width": 15
          },
          "type": "line",
          "x0": 44,
          "x1": 44,
          "y0": 0,
          "y1": 0.29
         },
         {
          "line": {
           "color": "rgba(248, 156, 116, 0.5)",
           "width": 15
          },
          "type": "line",
          "x0": 45,
          "x1": 45,
          "y0": 0,
          "y1": 1
         },
         {
          "line": {
           "color": "rgba(248, 156, 116, 0.5)",
           "width": 15
          },
          "type": "line",
          "x0": 46,
          "x1": 46,
          "y0": 0,
          "y1": 0.71
         },
         {
          "line": {
           "color": "rgba(248, 156, 116, 0.5)",
           "width": 15
          },
          "type": "line",
          "x0": 47,
          "x1": 47,
          "y0": 0,
          "y1": 0.57
         },
         {
          "line": {
           "color": "rgba(248, 156, 116, 0.5)",
           "width": 15
          },
          "type": "line",
          "x0": 48,
          "x1": 48,
          "y0": 0,
          "y1": 0.71
         },
         {
          "line": {
           "color": "rgba(248, 156, 116, 0.5)",
           "width": 15
          },
          "type": "line",
          "x0": 49,
          "x1": 49,
          "y0": 0,
          "y1": 0.43
         },
         {
          "line": {
           "color": "rgba(248, 156, 116, 0.5)",
           "width": 15
          },
          "type": "line",
          "x0": 50,
          "x1": 50,
          "y0": 0,
          "y1": 0.29
         },
         {
          "line": {
           "color": "rgba(248, 156, 116, 0.5)",
           "width": 15
          },
          "type": "line",
          "x0": 51,
          "x1": 51,
          "y0": 0,
          "y1": 0.71
         },
         {
          "line": {
           "color": "rgba(248, 156, 116, 0.5)",
           "width": 15
          },
          "type": "line",
          "x0": 52,
          "x1": 52,
          "y0": 0,
          "y1": 0.29
         },
         {
          "line": {
           "color": "rgba(220, 176, 242, 0.5)",
           "width": 15
          },
          "type": "line",
          "x0": 1,
          "x1": 1,
          "y0": 0,
          "y1": 0.86
         },
         {
          "line": {
           "color": "rgba(220, 176, 242, 0.5)",
           "width": 15
          },
          "type": "line",
          "x0": 2,
          "x1": 2,
          "y0": 0,
          "y1": 0.43
         },
         {
          "line": {
           "color": "rgba(220, 176, 242, 0.5)",
           "width": 15
          },
          "type": "line",
          "x0": 3,
          "x1": 3,
          "y0": 0,
          "y1": 1
         },
         {
          "line": {
           "color": "rgba(220, 176, 242, 0.5)",
           "width": 15
          },
          "type": "line",
          "x0": 4,
          "x1": 4,
          "y0": 0,
          "y1": 0.86
         },
         {
          "line": {
           "color": "rgba(220, 176, 242, 0.5)",
           "width": 15
          },
          "type": "line",
          "x0": 5,
          "x1": 5,
          "y0": 0,
          "y1": 0.71
         },
         {
          "line": {
           "color": "rgba(220, 176, 242, 0.5)",
           "width": 15
          },
          "type": "line",
          "x0": 6,
          "x1": 6,
          "y0": 0,
          "y1": 0.43
         },
         {
          "line": {
           "color": "rgba(220, 176, 242, 0.5)",
           "width": 15
          },
          "type": "line",
          "x0": 7,
          "x1": 7,
          "y0": 0,
          "y1": 0.86
         },
         {
          "line": {
           "color": "rgba(220, 176, 242, 0.5)",
           "width": 15
          },
          "type": "line",
          "x0": 8,
          "x1": 8,
          "y0": 0,
          "y1": 0.86
         },
         {
          "line": {
           "color": "rgba(220, 176, 242, 0.5)",
           "width": 15
          },
          "type": "line",
          "x0": 9,
          "x1": 9,
          "y0": 0,
          "y1": 0.86
         },
         {
          "line": {
           "color": "rgba(220, 176, 242, 0.5)",
           "width": 15
          },
          "type": "line",
          "x0": 10,
          "x1": 10,
          "y0": 0,
          "y1": 0.71
         },
         {
          "line": {
           "color": "rgba(220, 176, 242, 0.5)",
           "width": 15
          },
          "type": "line",
          "x0": 11,
          "x1": 11,
          "y0": 0,
          "y1": 0.86
         },
         {
          "line": {
           "color": "rgba(220, 176, 242, 0.5)",
           "width": 15
          },
          "type": "line",
          "x0": 12,
          "x1": 12,
          "y0": 0,
          "y1": 1
         },
         {
          "line": {
           "color": "rgba(220, 176, 242, 0.5)",
           "width": 15
          },
          "type": "line",
          "x0": 13,
          "x1": 13,
          "y0": 0,
          "y1": 0.86
         },
         {
          "line": {
           "color": "rgba(220, 176, 242, 0.5)",
           "width": 15
          },
          "type": "line",
          "x0": 14,
          "x1": 14,
          "y0": 0,
          "y1": 0.57
         },
         {
          "line": {
           "color": "rgba(220, 176, 242, 0.5)",
           "width": 15
          },
          "type": "line",
          "x0": 15,
          "x1": 15,
          "y0": 0,
          "y1": 0.86
         },
         {
          "line": {
           "color": "rgba(220, 176, 242, 0.5)",
           "width": 15
          },
          "type": "line",
          "x0": 16,
          "x1": 16,
          "y0": 0,
          "y1": 1
         },
         {
          "line": {
           "color": "rgba(220, 176, 242, 0.5)",
           "width": 15
          },
          "type": "line",
          "x0": 17,
          "x1": 17,
          "y0": 0,
          "y1": 0.86
         },
         {
          "line": {
           "color": "rgba(220, 176, 242, 0.5)",
           "width": 15
          },
          "type": "line",
          "x0": 18,
          "x1": 18,
          "y0": 0,
          "y1": 0.57
         },
         {
          "line": {
           "color": "rgba(220, 176, 242, 0.5)",
           "width": 15
          },
          "type": "line",
          "x0": 19,
          "x1": 19,
          "y0": 0,
          "y1": 0.86
         },
         {
          "line": {
           "color": "rgba(220, 176, 242, 0.5)",
           "width": 15
          },
          "type": "line",
          "x0": 20,
          "x1": 20,
          "y0": 0,
          "y1": 0.86
         },
         {
          "line": {
           "color": "rgba(220, 176, 242, 0.5)",
           "width": 15
          },
          "type": "line",
          "x0": 21,
          "x1": 21,
          "y0": 0,
          "y1": 0.57
         },
         {
          "line": {
           "color": "rgba(220, 176, 242, 0.5)",
           "width": 15
          },
          "type": "line",
          "x0": 22,
          "x1": 22,
          "y0": 0,
          "y1": 0.86
         },
         {
          "line": {
           "color": "rgba(220, 176, 242, 0.5)",
           "width": 15
          },
          "type": "line",
          "x0": 23,
          "x1": 23,
          "y0": 0,
          "y1": 0.57
         },
         {
          "line": {
           "color": "rgba(220, 176, 242, 0.5)",
           "width": 15
          },
          "type": "line",
          "x0": 24,
          "x1": 24,
          "y0": 0,
          "y1": 1
         },
         {
          "line": {
           "color": "rgba(220, 176, 242, 0.5)",
           "width": 15
          },
          "type": "line",
          "x0": 25,
          "x1": 25,
          "y0": 0,
          "y1": 0.86
         },
         {
          "line": {
           "color": "rgba(220, 176, 242, 0.5)",
           "width": 15
          },
          "type": "line",
          "x0": 26,
          "x1": 26,
          "y0": 0,
          "y1": 0.57
         },
         {
          "line": {
           "color": "rgba(220, 176, 242, 0.5)",
           "width": 15
          },
          "type": "line",
          "x0": 27,
          "x1": 27,
          "y0": 0,
          "y1": 0.57
         },
         {
          "line": {
           "color": "rgba(220, 176, 242, 0.5)",
           "width": 15
          },
          "type": "line",
          "x0": 28,
          "x1": 28,
          "y0": 0,
          "y1": 0.57
         },
         {
          "line": {
           "color": "rgba(220, 176, 242, 0.5)",
           "width": 15
          },
          "type": "line",
          "x0": 29,
          "x1": 29,
          "y0": 0,
          "y1": 1
         },
         {
          "line": {
           "color": "rgba(220, 176, 242, 0.5)",
           "width": 15
          },
          "type": "line",
          "x0": 30,
          "x1": 30,
          "y0": 0,
          "y1": 0.57
         },
         {
          "line": {
           "color": "rgba(220, 176, 242, 0.5)",
           "width": 15
          },
          "type": "line",
          "x0": 31,
          "x1": 31,
          "y0": 0,
          "y1": 0.71
         },
         {
          "line": {
           "color": "rgba(220, 176, 242, 0.5)",
           "width": 15
          },
          "type": "line",
          "x0": 32,
          "x1": 32,
          "y0": 0,
          "y1": 0.86
         },
         {
          "line": {
           "color": "rgba(220, 176, 242, 0.5)",
           "width": 15
          },
          "type": "line",
          "x0": 33,
          "x1": 33,
          "y0": 0,
          "y1": 0.71
         },
         {
          "line": {
           "color": "rgba(220, 176, 242, 0.5)",
           "width": 15
          },
          "type": "line",
          "x0": 34,
          "x1": 34,
          "y0": 0,
          "y1": 0.86
         },
         {
          "line": {
           "color": "rgba(220, 176, 242, 0.5)",
           "width": 15
          },
          "type": "line",
          "x0": 35,
          "x1": 35,
          "y0": 0,
          "y1": 0.86
         },
         {
          "line": {
           "color": "rgba(220, 176, 242, 0.5)",
           "width": 15
          },
          "type": "line",
          "x0": 36,
          "x1": 36,
          "y0": 0,
          "y1": 0.71
         },
         {
          "line": {
           "color": "rgba(220, 176, 242, 0.5)",
           "width": 15
          },
          "type": "line",
          "x0": 37,
          "x1": 37,
          "y0": 0,
          "y1": 0.29
         },
         {
          "line": {
           "color": "rgba(220, 176, 242, 0.5)",
           "width": 15
          },
          "type": "line",
          "x0": 38,
          "x1": 38,
          "y0": 0,
          "y1": 0.86
         },
         {
          "line": {
           "color": "rgba(220, 176, 242, 0.5)",
           "width": 15
          },
          "type": "line",
          "x0": 39,
          "x1": 39,
          "y0": 0,
          "y1": 0.43
         },
         {
          "line": {
           "color": "rgba(220, 176, 242, 0.5)",
           "width": 15
          },
          "type": "line",
          "x0": 40,
          "x1": 40,
          "y0": 0,
          "y1": 0.57
         },
         {
          "line": {
           "color": "rgba(220, 176, 242, 0.5)",
           "width": 15
          },
          "type": "line",
          "x0": 41,
          "x1": 41,
          "y0": 0,
          "y1": 0.86
         },
         {
          "line": {
           "color": "rgba(220, 176, 242, 0.5)",
           "width": 15
          },
          "type": "line",
          "x0": 42,
          "x1": 42,
          "y0": 0,
          "y1": 0.57
         },
         {
          "line": {
           "color": "rgba(220, 176, 242, 0.5)",
           "width": 15
          },
          "type": "line",
          "x0": 43,
          "x1": 43,
          "y0": 0,
          "y1": 0.43
         },
         {
          "line": {
           "color": "rgba(220, 176, 242, 0.5)",
           "width": 15
          },
          "type": "line",
          "x0": 44,
          "x1": 44,
          "y0": 0,
          "y1": 0.57
         },
         {
          "line": {
           "color": "rgba(220, 176, 242, 0.5)",
           "width": 15
          },
          "type": "line",
          "x0": 45,
          "x1": 45,
          "y0": 0,
          "y1": 0.57
         },
         {
          "line": {
           "color": "rgba(220, 176, 242, 0.5)",
           "width": 15
          },
          "type": "line",
          "x0": 46,
          "x1": 46,
          "y0": 0,
          "y1": 0.43
         },
         {
          "line": {
           "color": "rgba(220, 176, 242, 0.5)",
           "width": 15
          },
          "type": "line",
          "x0": 47,
          "x1": 47,
          "y0": 0,
          "y1": 0.29
         },
         {
          "line": {
           "color": "rgba(220, 176, 242, 0.5)",
           "width": 15
          },
          "type": "line",
          "x0": 48,
          "x1": 48,
          "y0": 0,
          "y1": 0.57
         },
         {
          "line": {
           "color": "rgba(220, 176, 242, 0.5)",
           "width": 15
          },
          "type": "line",
          "x0": 49,
          "x1": 49,
          "y0": 0,
          "y1": 0.43
         },
         {
          "line": {
           "color": "rgba(220, 176, 242, 0.5)",
           "width": 15
          },
          "type": "line",
          "x0": 50,
          "x1": 50,
          "y0": 0,
          "y1": 0.43
         },
         {
          "line": {
           "color": "rgba(220, 176, 242, 0.5)",
           "width": 15
          },
          "type": "line",
          "x0": 51,
          "x1": 51,
          "y0": 0,
          "y1": 0.14
         },
         {
          "line": {
           "color": "rgba(220, 176, 242, 0.5)",
           "width": 15
          },
          "type": "line",
          "x0": 52,
          "x1": 52,
          "y0": 0,
          "y1": 0
         },
         {
          "line": {
           "color": "rgba(135, 197, 95, 0.5)",
           "width": 15
          },
          "type": "line",
          "x0": 1,
          "x1": 1,
          "y0": 0,
          "y1": 0.43
         },
         {
          "line": {
           "color": "rgba(135, 197, 95, 0.5)",
           "width": 15
          },
          "type": "line",
          "x0": 2,
          "x1": 2,
          "y0": 0,
          "y1": 0.29
         },
         {
          "line": {
           "color": "rgba(135, 197, 95, 0.5)",
           "width": 15
          },
          "type": "line",
          "x0": 3,
          "x1": 3,
          "y0": 0,
          "y1": 0.29
         },
         {
          "line": {
           "color": "rgba(135, 197, 95, 0.5)",
           "width": 15
          },
          "type": "line",
          "x0": 4,
          "x1": 4,
          "y0": 0,
          "y1": 0.43
         },
         {
          "line": {
           "color": "rgba(135, 197, 95, 0.5)",
           "width": 15
          },
          "type": "line",
          "x0": 5,
          "x1": 5,
          "y0": 0,
          "y1": 0.29
         },
         {
          "line": {
           "color": "rgba(135, 197, 95, 0.5)",
           "width": 15
          },
          "type": "line",
          "x0": 6,
          "x1": 6,
          "y0": 0,
          "y1": 0.71
         },
         {
          "line": {
           "color": "rgba(135, 197, 95, 0.5)",
           "width": 15
          },
          "type": "line",
          "x0": 7,
          "x1": 7,
          "y0": 0,
          "y1": 0.71
         },
         {
          "line": {
           "color": "rgba(135, 197, 95, 0.5)",
           "width": 15
          },
          "type": "line",
          "x0": 8,
          "x1": 8,
          "y0": 0,
          "y1": 0.43
         },
         {
          "line": {
           "color": "rgba(135, 197, 95, 0.5)",
           "width": 15
          },
          "type": "line",
          "x0": 9,
          "x1": 9,
          "y0": 0,
          "y1": 0.43
         },
         {
          "line": {
           "color": "rgba(135, 197, 95, 0.5)",
           "width": 15
          },
          "type": "line",
          "x0": 10,
          "x1": 10,
          "y0": 0,
          "y1": 0.71
         },
         {
          "line": {
           "color": "rgba(135, 197, 95, 0.5)",
           "width": 15
          },
          "type": "line",
          "x0": 11,
          "x1": 11,
          "y0": 0,
          "y1": 0.86
         },
         {
          "line": {
           "color": "rgba(135, 197, 95, 0.5)",
           "width": 15
          },
          "type": "line",
          "x0": 12,
          "x1": 12,
          "y0": 0,
          "y1": 0.86
         },
         {
          "line": {
           "color": "rgba(135, 197, 95, 0.5)",
           "width": 15
          },
          "type": "line",
          "x0": 13,
          "x1": 13,
          "y0": 0,
          "y1": 0.29
         },
         {
          "line": {
           "color": "rgba(135, 197, 95, 0.5)",
           "width": 15
          },
          "type": "line",
          "x0": 14,
          "x1": 14,
          "y0": 0,
          "y1": 0.57
         },
         {
          "line": {
           "color": "rgba(135, 197, 95, 0.5)",
           "width": 15
          },
          "type": "line",
          "x0": 15,
          "x1": 15,
          "y0": 0,
          "y1": 0.71
         },
         {
          "line": {
           "color": "rgba(135, 197, 95, 0.5)",
           "width": 15
          },
          "type": "line",
          "x0": 16,
          "x1": 16,
          "y0": 0,
          "y1": 0.86
         },
         {
          "line": {
           "color": "rgba(135, 197, 95, 0.5)",
           "width": 15
          },
          "type": "line",
          "x0": 17,
          "x1": 17,
          "y0": 0,
          "y1": 0.86
         },
         {
          "line": {
           "color": "rgba(135, 197, 95, 0.5)",
           "width": 15
          },
          "type": "line",
          "x0": 18,
          "x1": 18,
          "y0": 0,
          "y1": 0.57
         },
         {
          "line": {
           "color": "rgba(135, 197, 95, 0.5)",
           "width": 15
          },
          "type": "line",
          "x0": 19,
          "x1": 19,
          "y0": 0,
          "y1": 0.71
         },
         {
          "line": {
           "color": "rgba(135, 197, 95, 0.5)",
           "width": 15
          },
          "type": "line",
          "x0": 20,
          "x1": 20,
          "y0": 0,
          "y1": 0.86
         },
         {
          "line": {
           "color": "rgba(135, 197, 95, 0.5)",
           "width": 15
          },
          "type": "line",
          "x0": 21,
          "x1": 21,
          "y0": 0,
          "y1": 1
         },
         {
          "line": {
           "color": "rgba(135, 197, 95, 0.5)",
           "width": 15
          },
          "type": "line",
          "x0": 22,
          "x1": 22,
          "y0": 0,
          "y1": 1
         },
         {
          "line": {
           "color": "rgba(135, 197, 95, 0.5)",
           "width": 15
          },
          "type": "line",
          "x0": 23,
          "x1": 23,
          "y0": 0,
          "y1": 0.86
         },
         {
          "line": {
           "color": "rgba(135, 197, 95, 0.5)",
           "width": 15
          },
          "type": "line",
          "x0": 24,
          "x1": 24,
          "y0": 0,
          "y1": 0.71
         },
         {
          "line": {
           "color": "rgba(135, 197, 95, 0.5)",
           "width": 15
          },
          "type": "line",
          "x0": 25,
          "x1": 25,
          "y0": 0,
          "y1": 0.57
         },
         {
          "line": {
           "color": "rgba(135, 197, 95, 0.5)",
           "width": 15
          },
          "type": "line",
          "x0": 26,
          "x1": 26,
          "y0": 0,
          "y1": 0.86
         },
         {
          "line": {
           "color": "rgba(135, 197, 95, 0.5)",
           "width": 15
          },
          "type": "line",
          "x0": 27,
          "x1": 27,
          "y0": 0,
          "y1": 0.86
         },
         {
          "line": {
           "color": "rgba(135, 197, 95, 0.5)",
           "width": 15
          },
          "type": "line",
          "x0": 28,
          "x1": 28,
          "y0": 0,
          "y1": 1
         },
         {
          "line": {
           "color": "rgba(135, 197, 95, 0.5)",
           "width": 15
          },
          "type": "line",
          "x0": 29,
          "x1": 29,
          "y0": 0,
          "y1": 1
         },
         {
          "line": {
           "color": "rgba(135, 197, 95, 0.5)",
           "width": 15
          },
          "type": "line",
          "x0": 30,
          "x1": 30,
          "y0": 0,
          "y1": 0.71
         },
         {
          "line": {
           "color": "rgba(135, 197, 95, 0.5)",
           "width": 15
          },
          "type": "line",
          "x0": 31,
          "x1": 31,
          "y0": 0,
          "y1": 0.57
         },
         {
          "line": {
           "color": "rgba(135, 197, 95, 0.5)",
           "width": 15
          },
          "type": "line",
          "x0": 32,
          "x1": 32,
          "y0": 0,
          "y1": 0.71
         },
         {
          "line": {
           "color": "rgba(135, 197, 95, 0.5)",
           "width": 15
          },
          "type": "line",
          "x0": 33,
          "x1": 33,
          "y0": 0,
          "y1": 0.86
         },
         {
          "line": {
           "color": "rgba(135, 197, 95, 0.5)",
           "width": 15
          },
          "type": "line",
          "x0": 34,
          "x1": 34,
          "y0": 0,
          "y1": 0.71
         },
         {
          "line": {
           "color": "rgba(135, 197, 95, 0.5)",
           "width": 15
          },
          "type": "line",
          "x0": 35,
          "x1": 35,
          "y0": 0,
          "y1": 0.57
         },
         {
          "line": {
           "color": "rgba(135, 197, 95, 0.5)",
           "width": 15
          },
          "type": "line",
          "x0": 36,
          "x1": 36,
          "y0": 0,
          "y1": 0.43
         },
         {
          "line": {
           "color": "rgba(135, 197, 95, 0.5)",
           "width": 15
          },
          "type": "line",
          "x0": 37,
          "x1": 37,
          "y0": 0,
          "y1": 0.14
         },
         {
          "line": {
           "color": "rgba(135, 197, 95, 0.5)",
           "width": 15
          },
          "type": "line",
          "x0": 38,
          "x1": 38,
          "y0": 0,
          "y1": 0.71
         },
         {
          "line": {
           "color": "rgba(135, 197, 95, 0.5)",
           "width": 15
          },
          "type": "line",
          "x0": 39,
          "x1": 39,
          "y0": 0,
          "y1": 0.29
         },
         {
          "line": {
           "color": "rgba(135, 197, 95, 0.5)",
           "width": 15
          },
          "type": "line",
          "x0": 40,
          "x1": 40,
          "y0": 0,
          "y1": 0.43
         },
         {
          "line": {
           "color": "rgba(135, 197, 95, 0.5)",
           "width": 15
          },
          "type": "line",
          "x0": 41,
          "x1": 41,
          "y0": 0,
          "y1": 0.86
         },
         {
          "line": {
           "color": "rgba(135, 197, 95, 0.5)",
           "width": 15
          },
          "type": "line",
          "x0": 42,
          "x1": 42,
          "y0": 0,
          "y1": 0.71
         },
         {
          "line": {
           "color": "rgba(135, 197, 95, 0.5)",
           "width": 15
          },
          "type": "line",
          "x0": 43,
          "x1": 43,
          "y0": 0,
          "y1": 0.57
         },
         {
          "line": {
           "color": "rgba(135, 197, 95, 0.5)",
           "width": 15
          },
          "type": "line",
          "x0": 44,
          "x1": 44,
          "y0": 0,
          "y1": 0.29
         },
         {
          "line": {
           "color": "rgba(135, 197, 95, 0.5)",
           "width": 15
          },
          "type": "line",
          "x0": 45,
          "x1": 45,
          "y0": 0,
          "y1": 0.43
         },
         {
          "line": {
           "color": "rgba(135, 197, 95, 0.5)",
           "width": 15
          },
          "type": "line",
          "x0": 46,
          "x1": 46,
          "y0": 0,
          "y1": 0.29
         },
         {
          "line": {
           "color": "rgba(135, 197, 95, 0.5)",
           "width": 15
          },
          "type": "line",
          "x0": 47,
          "x1": 47,
          "y0": 0,
          "y1": 0.29
         },
         {
          "line": {
           "color": "rgba(135, 197, 95, 0.5)",
           "width": 15
          },
          "type": "line",
          "x0": 48,
          "x1": 48,
          "y0": 0,
          "y1": 0.29
         },
         {
          "line": {
           "color": "rgba(135, 197, 95, 0.5)",
           "width": 15
          },
          "type": "line",
          "x0": 49,
          "x1": 49,
          "y0": 0,
          "y1": 0.29
         },
         {
          "line": {
           "color": "rgba(135, 197, 95, 0.5)",
           "width": 15
          },
          "type": "line",
          "x0": 50,
          "x1": 50,
          "y0": 0,
          "y1": 0
         },
         {
          "line": {
           "color": "rgba(135, 197, 95, 0.5)",
           "width": 15
          },
          "type": "line",
          "x0": 51,
          "x1": 51,
          "y0": 0,
          "y1": 0.29
         },
         {
          "line": {
           "color": "rgba(135, 197, 95, 0.5)",
           "width": 15
          },
          "type": "line",
          "x0": 52,
          "x1": 52,
          "y0": 0,
          "y1": 0.14
         }
        ],
        "template": {
         "data": {
          "bar": [
           {
            "error_x": {
             "color": "#2a3f5f"
            },
            "error_y": {
             "color": "#2a3f5f"
            },
            "marker": {
             "line": {
              "color": "#E5ECF6",
              "width": 0.5
             },
             "pattern": {
              "fillmode": "overlay",
              "size": 10,
              "solidity": 0.2
             }
            },
            "type": "bar"
           }
          ],
          "barpolar": [
           {
            "marker": {
             "line": {
              "color": "#E5ECF6",
              "width": 0.5
             },
             "pattern": {
              "fillmode": "overlay",
              "size": 10,
              "solidity": 0.2
             }
            },
            "type": "barpolar"
           }
          ],
          "carpet": [
           {
            "aaxis": {
             "endlinecolor": "#2a3f5f",
             "gridcolor": "white",
             "linecolor": "white",
             "minorgridcolor": "white",
             "startlinecolor": "#2a3f5f"
            },
            "baxis": {
             "endlinecolor": "#2a3f5f",
             "gridcolor": "white",
             "linecolor": "white",
             "minorgridcolor": "white",
             "startlinecolor": "#2a3f5f"
            },
            "type": "carpet"
           }
          ],
          "choropleth": [
           {
            "colorbar": {
             "outlinewidth": 0,
             "ticks": ""
            },
            "type": "choropleth"
           }
          ],
          "contour": [
           {
            "colorbar": {
             "outlinewidth": 0,
             "ticks": ""
            },
            "colorscale": [
             [
              0,
              "#0d0887"
             ],
             [
              0.1111111111111111,
              "#46039f"
             ],
             [
              0.2222222222222222,
              "#7201a8"
             ],
             [
              0.3333333333333333,
              "#9c179e"
             ],
             [
              0.4444444444444444,
              "#bd3786"
             ],
             [
              0.5555555555555556,
              "#d8576b"
             ],
             [
              0.6666666666666666,
              "#ed7953"
             ],
             [
              0.7777777777777778,
              "#fb9f3a"
             ],
             [
              0.8888888888888888,
              "#fdca26"
             ],
             [
              1,
              "#f0f921"
             ]
            ],
            "type": "contour"
           }
          ],
          "contourcarpet": [
           {
            "colorbar": {
             "outlinewidth": 0,
             "ticks": ""
            },
            "type": "contourcarpet"
           }
          ],
          "heatmap": [
           {
            "colorbar": {
             "outlinewidth": 0,
             "ticks": ""
            },
            "colorscale": [
             [
              0,
              "#0d0887"
             ],
             [
              0.1111111111111111,
              "#46039f"
             ],
             [
              0.2222222222222222,
              "#7201a8"
             ],
             [
              0.3333333333333333,
              "#9c179e"
             ],
             [
              0.4444444444444444,
              "#bd3786"
             ],
             [
              0.5555555555555556,
              "#d8576b"
             ],
             [
              0.6666666666666666,
              "#ed7953"
             ],
             [
              0.7777777777777778,
              "#fb9f3a"
             ],
             [
              0.8888888888888888,
              "#fdca26"
             ],
             [
              1,
              "#f0f921"
             ]
            ],
            "type": "heatmap"
           }
          ],
          "heatmapgl": [
           {
            "colorbar": {
             "outlinewidth": 0,
             "ticks": ""
            },
            "colorscale": [
             [
              0,
              "#0d0887"
             ],
             [
              0.1111111111111111,
              "#46039f"
             ],
             [
              0.2222222222222222,
              "#7201a8"
             ],
             [
              0.3333333333333333,
              "#9c179e"
             ],
             [
              0.4444444444444444,
              "#bd3786"
             ],
             [
              0.5555555555555556,
              "#d8576b"
             ],
             [
              0.6666666666666666,
              "#ed7953"
             ],
             [
              0.7777777777777778,
              "#fb9f3a"
             ],
             [
              0.8888888888888888,
              "#fdca26"
             ],
             [
              1,
              "#f0f921"
             ]
            ],
            "type": "heatmapgl"
           }
          ],
          "histogram": [
           {
            "marker": {
             "pattern": {
              "fillmode": "overlay",
              "size": 10,
              "solidity": 0.2
             }
            },
            "type": "histogram"
           }
          ],
          "histogram2d": [
           {
            "colorbar": {
             "outlinewidth": 0,
             "ticks": ""
            },
            "colorscale": [
             [
              0,
              "#0d0887"
             ],
             [
              0.1111111111111111,
              "#46039f"
             ],
             [
              0.2222222222222222,
              "#7201a8"
             ],
             [
              0.3333333333333333,
              "#9c179e"
             ],
             [
              0.4444444444444444,
              "#bd3786"
             ],
             [
              0.5555555555555556,
              "#d8576b"
             ],
             [
              0.6666666666666666,
              "#ed7953"
             ],
             [
              0.7777777777777778,
              "#fb9f3a"
             ],
             [
              0.8888888888888888,
              "#fdca26"
             ],
             [
              1,
              "#f0f921"
             ]
            ],
            "type": "histogram2d"
           }
          ],
          "histogram2dcontour": [
           {
            "colorbar": {
             "outlinewidth": 0,
             "ticks": ""
            },
            "colorscale": [
             [
              0,
              "#0d0887"
             ],
             [
              0.1111111111111111,
              "#46039f"
             ],
             [
              0.2222222222222222,
              "#7201a8"
             ],
             [
              0.3333333333333333,
              "#9c179e"
             ],
             [
              0.4444444444444444,
              "#bd3786"
             ],
             [
              0.5555555555555556,
              "#d8576b"
             ],
             [
              0.6666666666666666,
              "#ed7953"
             ],
             [
              0.7777777777777778,
              "#fb9f3a"
             ],
             [
              0.8888888888888888,
              "#fdca26"
             ],
             [
              1,
              "#f0f921"
             ]
            ],
            "type": "histogram2dcontour"
           }
          ],
          "mesh3d": [
           {
            "colorbar": {
             "outlinewidth": 0,
             "ticks": ""
            },
            "type": "mesh3d"
           }
          ],
          "parcoords": [
           {
            "line": {
             "colorbar": {
              "outlinewidth": 0,
              "ticks": ""
             }
            },
            "type": "parcoords"
           }
          ],
          "pie": [
           {
            "automargin": true,
            "type": "pie"
           }
          ],
          "scatter": [
           {
            "fillpattern": {
             "fillmode": "overlay",
             "size": 10,
             "solidity": 0.2
            },
            "type": "scatter"
           }
          ],
          "scatter3d": [
           {
            "line": {
             "colorbar": {
              "outlinewidth": 0,
              "ticks": ""
             }
            },
            "marker": {
             "colorbar": {
              "outlinewidth": 0,
              "ticks": ""
             }
            },
            "type": "scatter3d"
           }
          ],
          "scattercarpet": [
           {
            "marker": {
             "colorbar": {
              "outlinewidth": 0,
              "ticks": ""
             }
            },
            "type": "scattercarpet"
           }
          ],
          "scattergeo": [
           {
            "marker": {
             "colorbar": {
              "outlinewidth": 0,
              "ticks": ""
             }
            },
            "type": "scattergeo"
           }
          ],
          "scattergl": [
           {
            "marker": {
             "colorbar": {
              "outlinewidth": 0,
              "ticks": ""
             }
            },
            "type": "scattergl"
           }
          ],
          "scattermapbox": [
           {
            "marker": {
             "colorbar": {
              "outlinewidth": 0,
              "ticks": ""
             }
            },
            "type": "scattermapbox"
           }
          ],
          "scatterpolar": [
           {
            "marker": {
             "colorbar": {
              "outlinewidth": 0,
              "ticks": ""
             }
            },
            "type": "scatterpolar"
           }
          ],
          "scatterpolargl": [
           {
            "marker": {
             "colorbar": {
              "outlinewidth": 0,
              "ticks": ""
             }
            },
            "type": "scatterpolargl"
           }
          ],
          "scatterternary": [
           {
            "marker": {
             "colorbar": {
              "outlinewidth": 0,
              "ticks": ""
             }
            },
            "type": "scatterternary"
           }
          ],
          "surface": [
           {
            "colorbar": {
             "outlinewidth": 0,
             "ticks": ""
            },
            "colorscale": [
             [
              0,
              "#0d0887"
             ],
             [
              0.1111111111111111,
              "#46039f"
             ],
             [
              0.2222222222222222,
              "#7201a8"
             ],
             [
              0.3333333333333333,
              "#9c179e"
             ],
             [
              0.4444444444444444,
              "#bd3786"
             ],
             [
              0.5555555555555556,
              "#d8576b"
             ],
             [
              0.6666666666666666,
              "#ed7953"
             ],
             [
              0.7777777777777778,
              "#fb9f3a"
             ],
             [
              0.8888888888888888,
              "#fdca26"
             ],
             [
              1,
              "#f0f921"
             ]
            ],
            "type": "surface"
           }
          ],
          "table": [
           {
            "cells": {
             "fill": {
              "color": "#EBF0F8"
             },
             "line": {
              "color": "white"
             }
            },
            "header": {
             "fill": {
              "color": "#C8D4E3"
             },
             "line": {
              "color": "white"
             }
            },
            "type": "table"
           }
          ]
         },
         "layout": {
          "annotationdefaults": {
           "arrowcolor": "#2a3f5f",
           "arrowhead": 0,
           "arrowwidth": 1
          },
          "autotypenumbers": "strict",
          "coloraxis": {
           "colorbar": {
            "outlinewidth": 0,
            "ticks": ""
           }
          },
          "colorscale": {
           "diverging": [
            [
             0,
             "#8e0152"
            ],
            [
             0.1,
             "#c51b7d"
            ],
            [
             0.2,
             "#de77ae"
            ],
            [
             0.3,
             "#f1b6da"
            ],
            [
             0.4,
             "#fde0ef"
            ],
            [
             0.5,
             "#f7f7f7"
            ],
            [
             0.6,
             "#e6f5d0"
            ],
            [
             0.7,
             "#b8e186"
            ],
            [
             0.8,
             "#7fbc41"
            ],
            [
             0.9,
             "#4d9221"
            ],
            [
             1,
             "#276419"
            ]
           ],
           "sequential": [
            [
             0,
             "#0d0887"
            ],
            [
             0.1111111111111111,
             "#46039f"
            ],
            [
             0.2222222222222222,
             "#7201a8"
            ],
            [
             0.3333333333333333,
             "#9c179e"
            ],
            [
             0.4444444444444444,
             "#bd3786"
            ],
            [
             0.5555555555555556,
             "#d8576b"
            ],
            [
             0.6666666666666666,
             "#ed7953"
            ],
            [
             0.7777777777777778,
             "#fb9f3a"
            ],
            [
             0.8888888888888888,
             "#fdca26"
            ],
            [
             1,
             "#f0f921"
            ]
           ],
           "sequentialminus": [
            [
             0,
             "#0d0887"
            ],
            [
             0.1111111111111111,
             "#46039f"
            ],
            [
             0.2222222222222222,
             "#7201a8"
            ],
            [
             0.3333333333333333,
             "#9c179e"
            ],
            [
             0.4444444444444444,
             "#bd3786"
            ],
            [
             0.5555555555555556,
             "#d8576b"
            ],
            [
             0.6666666666666666,
             "#ed7953"
            ],
            [
             0.7777777777777778,
             "#fb9f3a"
            ],
            [
             0.8888888888888888,
             "#fdca26"
            ],
            [
             1,
             "#f0f921"
            ]
           ]
          },
          "colorway": [
           "#636efa",
           "#EF553B",
           "#00cc96",
           "#ab63fa",
           "#FFA15A",
           "#19d3f3",
           "#FF6692",
           "#B6E880",
           "#FF97FF",
           "#FECB52"
          ],
          "font": {
           "color": "#2a3f5f"
          },
          "geo": {
           "bgcolor": "white",
           "lakecolor": "white",
           "landcolor": "#E5ECF6",
           "showlakes": true,
           "showland": true,
           "subunitcolor": "white"
          },
          "hoverlabel": {
           "align": "left"
          },
          "hovermode": "closest",
          "mapbox": {
           "style": "light"
          },
          "paper_bgcolor": "white",
          "plot_bgcolor": "#E5ECF6",
          "polar": {
           "angularaxis": {
            "gridcolor": "white",
            "linecolor": "white",
            "ticks": ""
           },
           "bgcolor": "#E5ECF6",
           "radialaxis": {
            "gridcolor": "white",
            "linecolor": "white",
            "ticks": ""
           }
          },
          "scene": {
           "xaxis": {
            "backgroundcolor": "#E5ECF6",
            "gridcolor": "white",
            "gridwidth": 2,
            "linecolor": "white",
            "showbackground": true,
            "ticks": "",
            "zerolinecolor": "white"
           },
           "yaxis": {
            "backgroundcolor": "#E5ECF6",
            "gridcolor": "white",
            "gridwidth": 2,
            "linecolor": "white",
            "showbackground": true,
            "ticks": "",
            "zerolinecolor": "white"
           },
           "zaxis": {
            "backgroundcolor": "#E5ECF6",
            "gridcolor": "white",
            "gridwidth": 2,
            "linecolor": "white",
            "showbackground": true,
            "ticks": "",
            "zerolinecolor": "white"
           }
          },
          "shapedefaults": {
           "line": {
            "color": "#2a3f5f"
           }
          },
          "ternary": {
           "aaxis": {
            "gridcolor": "white",
            "linecolor": "white",
            "ticks": ""
           },
           "baxis": {
            "gridcolor": "white",
            "linecolor": "white",
            "ticks": ""
           },
           "bgcolor": "#E5ECF6",
           "caxis": {
            "gridcolor": "white",
            "linecolor": "white",
            "ticks": ""
           }
          },
          "title": {
           "x": 0.05
          },
          "xaxis": {
           "automargin": true,
           "gridcolor": "white",
           "linecolor": "white",
           "ticks": "",
           "title": {
            "standoff": 15
           },
           "zerolinecolor": "white",
           "zerolinewidth": 2
          },
          "yaxis": {
           "automargin": true,
           "gridcolor": "white",
           "linecolor": "white",
           "ticks": "",
           "title": {
            "standoff": 15
           },
           "zerolinecolor": "white",
           "zerolinewidth": 2
          }
         }
        },
        "title": {
         "text": "Icterine warbler (Gelbspötter) sighting ratios in grid 50kmE4350N3250",
         "x": 0.5,
         "xanchor": "center"
        },
        "xaxis": {
         "anchor": "y",
         "domain": [
          0,
          1
         ],
         "range": [
          1,
          52
         ],
         "showticklabels": false,
         "title": {
          "text": ""
         }
        },
        "xaxis2": {
         "anchor": "y",
         "overlaying": "x",
         "position": 0,
         "range": [
          "2023-01-31T00:00:00",
          "2024-01-31T00:00:00"
         ],
         "side": "bottom",
         "ticktext": [
          "Jan",
          "Feb",
          "Mar",
          "Apr",
          "May",
          "Jun",
          "Jul",
          "Aug",
          "Sep",
          "Oct",
          "Nov",
          "Dec",
          "Jan"
         ],
         "tickvals": [
          "2023-01-31T00:00:00",
          "2023-02-28T00:00:00",
          "2023-03-31T00:00:00",
          "2023-04-30T00:00:00",
          "2023-05-31T00:00:00",
          "2023-06-30T00:00:00",
          "2023-07-31T00:00:00",
          "2023-08-31T00:00:00",
          "2023-09-30T00:00:00",
          "2023-10-31T00:00:00",
          "2023-11-30T00:00:00",
          "2023-12-31T00:00:00",
          "2024-01-31T00:00:00"
         ],
         "title": {
          "text": "month"
         }
        },
        "yaxis": {
         "anchor": "x",
         "domain": [
          0,
          1
         ],
         "title": {
          "text": "sighting ratio"
         }
        }
       }
      }
     },
     "metadata": {},
     "output_type": "display_data"
    }
   ],
   "source": [
    "warbler = df[(df['name_species'] == 'Feldsperling') & (df['eea_grid_id'] == '50kmE4100N2700')]\n",
    "plot_sighting_ratios_over_year(warbler, title='Icterine warbler (Gelbspötter) sighting ratios in grid 50kmE4350N3250')"
   ]
  },
  {
   "cell_type": "code",
   "execution_count": 37,
   "metadata": {},
   "outputs": [
    {
     "name": "stdout",
     "output_type": "stream",
     "text": [
      "\n",
      "INFO: To supress printing the parameers in beast(),      set print.options = 0 \n",
      "INFO: To supress printing the parameers in beast_irreg(),set print.options = 0 \n",
      "INFO: To supress printing the parameers in beast123(),   set extra.printOptions = 0  \n",
      "INFO: To supress warning messages in beast(),            set quiet = 1 \n",
      "INFO: To supress warning messages in beast_irreg(),      set quiet = 1 \n",
      "INFO: To supress warning messages in beast123(),         set extra.quiet = 1  \n",
      "\n",
      "#--------------------------------------------------#\n",
      "#       Brief summary of Input Data                #\n",
      "#--------------------------------------------------#\n",
      "Data Dimension: One signal of length 260\n",
      "IsOrdered     : Yes, ordered in time\n",
      "IsRegular     : Yes, evenly spaced at interval of  0.0191781 year = 0.230137 months = 7 days\n",
      "HasSeasonCmpnt: True  | period = 1 year = 12 months = 365 days. The model 'Y=Trend+Season+Error' is fitted.\n",
      "              : Num_of_DataPoints_per_Period = period/deltaTime = 1/0.0191781 = 52.1429\n",
      "HasOutlierCmpt: False | If true, Y=Trend+Season+Outlier+Error fitted instead of Y=Trend+Season+Error\n",
      "Deseasonalize : False | If true, remove a global seasonal  cmpnt before running BEAST & add it back after BEAST\n",
      "Detrend       : False | If true, remove a global trend component before running BEAST & add it back after BEAST\n",
      "MissingValue  : NaN  flagged as missing values \n",
      "MaxMissingRate: if more than 75% of data is missing, BEAST will skip it.\n",
      "\n",
      "\n",
      "#--------------------------------------------------#\n",
      "#      OPTIONS used in the MCMC inference          #\n",
      "#--------------------------------------------------#\n",
      "\n",
      "#......Start of displaying 'MetaData' ......\n",
      "metadata                =  rb.args() ### or 'lambda: None': just get an empty object### # metadata is used to interpret the input data Y\n",
      "metadata.season         = 'harmonic' # fit a harmonic model to the periodic component\n",
      "metadata.startTime      = 1          # 0001-01-01\n",
      "metadata.deltaTime      = 0.0191781  # 0.0191781 year(s) = 0.230137 month(s) = 7 day(s)\n",
      "metadata.period         = 1          # 1 year(s) = 12 month(s) = 365 day(s) \n",
      "metadata.maxMissingRate = 0.75       # if more than 75% of data is missing, BEAST will skip it.\n",
      "metadata.deseasonalize  = False      # if true,remove a global seasonal cmpnt before running BEAST & add it back later\n",
      "metadata.detrend        = False      # if true,remove a global trend  cmpnt before running BEAST & add it back later\n",
      "#........End of displaying MetaData ........\n",
      "\n",
      "#......Start of displaying 'prior' ......\n",
      "prior                   =  rb.args() ### or 'lambda: None': just get an empty object### # prior is the true model parameters of BEAST\n",
      "prior.seasonMinOrder    = 1          # sorder.minmax[1]: min harmonic order alllowed\n",
      "prior.seasonMaxOrder    = 5          # sorder.minmax[2]: max harmonic order alllowed\n",
      "prior.seasonMinKnotNum  = 0          # scp.minmax[1]   : min num of seasonal chngpts allowed\n",
      "prior.seasonMaxKnotNum  = 8          # scp.minmax[2]   : max num of seasonal chngpts allowed\n",
      "prior.seasonMinSepDist  = 26         # sseg.min        : min seasonal segment length in terms of datapoints\n",
      "prior.seasonLeftMargin  = 26         # sseg.leftmargin : no season chngpts in the first 26 datapoints\n",
      "prior.seasonRightMargin = 26         # sseg.rightmargin: no seoson chngpts in the last 26 datapoints\n",
      "prior.trendMinOrder     = 0          # torder.minmax[1]: min trend polynomial order alllowed\n",
      "prior.trendMaxOrder     = 1          # torder.minmax[2]: max trend polynomial order alllowed\n",
      "prior.trendMinKnotNum   = 0          # tcp.minmax[1]   : min num of chngpts in trend allowed\n",
      "prior.trendMaxKnotNum   = 8          # tcp.minmax[2]   : max num of chngpts in trend allowed\n",
      "prior.trendMinSepDist   = 26         # tseg.min        : min trend segment length in terms of datapoints\n",
      "prior.trendLeftMargin   = 26         # tseg.leftmargin : no trend chngpts in the first 26 datapoints\n",
      "prior.trendRightMargin  = 26         # tseg.rightmargin: no trend chngpts in the last 26 datapoints\n",
      "prior.K_MAX             = 108        # max number of terms in general linear model (relevant only at small values)\n",
      "prior.precValue         = 1.5        # useful mainly when precPriorType='constant'\n",
      "prior.modelPriorType    = 1         \n",
      "prior.precPriorType     = 'componentwise'\n",
      "#......End of displaying prior ......\n",
      "\n",
      "#......Start of displaying 'mcmc' ......\n",
      "mcmc                           =  rb.args() ### or 'lambda: None': just get an empty object### # mcmc is not BEAST parameters but MCMC sampler options\n",
      "mcmc.seed                      = 0          # A nonzero seed to replicate among runs\n",
      "mcmc.samples                   = 8000       # Number of samples saved per chain: the larger, the better\n",
      "mcmc.thinningFactor            = 5          # Thinning the chain: the larger, the better \n",
      "mcmc.burnin                    = 200        # Number of initial samples discarded: the larger, the better\n",
      "mcmc.chainNumber               = 3          # Number of chains: the larger, the better\n",
      "mcmc.maxMoveStepSize           = 6          # Max step of jumping from current changepoint: No need to change\n",
      "mcmc.trendResamplingOrderProb  = 0.1        # Proposal probability of sampling trend polynominal order \n",
      "mcmc.seasonResamplingOrderProb = 0.17       # Proposal probability of sampling seasoanl order \n",
      "mcmc.credIntervalAlphaLevel    = 0.95       # The alphal level for Credible Intervals\n",
      "# Total number of models randomly visited in BEAST is (burnin+sampples*thinFactor)*chainNumber=120600\n",
      "#......End of displaying mcmc ......\n",
      "\n",
      "#......Start of displaying 'extra' ......\n",
      "extra                      =  rb.args() ### or 'lambda: None': just get an empty object### # extra is used to configure output/computing options\n",
      "extra.dumpInputData        = True  # if true, dump a copy of the input data as o.data \n",
      "extra.whichOutputDimIsTime = 1     # 1,2 or 3; which dim of the result is time; used for a 2D/3D input Y\n",
      "extra.computeCredible      = True  # if true, compute  credibiel interval of estimated Y (e.g., o.trend.CI)\n",
      "extra.fastCIComputation    = True  # if true, do not sort but approximiate CI \n",
      "extra.computeSeasonOrder   = True  # if true, dump the estimated time-varying seasonal order: o.season.order \n",
      "extra.computeTrendOrder    = True  # if true, dump the estimated trend polynomial order \n",
      "extra.computeSeasonChngpt  = True  # if true, dump the seasoanl changepoints (scp) in the output \n",
      "extra.computeTrendChngpt   = True  # if true, dump the trend changepoints (tcp) in the output \n",
      "extra.computeSeasonAmp     = False #  compute time-varying seasonal mangitude if season=harmonic  \n",
      "extra.computeTrendSlope    = True  # if true, dump the time-varying slope in trend\n",
      "extra.tallyPosNegSeasonJump= False # differentiate postive/negative jumps at scp\n",
      "extra.tallyPosNegTrendJump = False # differentiate postive/negative jumps at tcp\n",
      "extra.tallyIncDecTrendJump = False # differentiate increased/decreased slopes at tcp\n",
      "extra.printProgressBar     = True  # if true, show an ascii progressbar\n",
      "extra.printOptions         = True  # if true, print the option of the BEAST run\n",
      "extra.consoleWidth         = 85    # an integer specifying the console width for printing\n",
      "extra.numThreadsPerCPU     = 2     # each cpu core spawns 2 concurrent threads (for beast123())\n",
      "extra.numParThreads        = 0     # total number of threads (for beast123() only)\n",
      "#......End of displaying extra ......\n",
      "\n",
      "/Progress:100.0% done[==============================================================]\n"
     ]
    },
    {
     "ename": "TypeError",
     "evalue": "plot() got an unexpected keyword argument 'figsize'",
     "output_type": "error",
     "traceback": [
      "\u001b[0;31m---------------------------------------------------------------------------\u001b[0m",
      "\u001b[0;31mTypeError\u001b[0m                                 Traceback (most recent call last)",
      "Cell \u001b[0;32mIn[37], line 1\u001b[0m\n\u001b[0;32m----> 1\u001b[0m \u001b[43mrb\u001b[49m\u001b[38;5;241;43m.\u001b[39;49m\u001b[43mplot\u001b[49m\u001b[43m(\u001b[49m\u001b[43mrb\u001b[49m\u001b[38;5;241;43m.\u001b[39;49m\u001b[43mbeast\u001b[49m\u001b[43m(\u001b[49m\u001b[43mwarbler\u001b[49m\u001b[38;5;241;43m.\u001b[39;49m\u001b[43msighting_ratio\u001b[49m\u001b[43m,\u001b[49m\u001b[43m \u001b[49m\u001b[43mdeltat\u001b[49m\u001b[38;5;241;43m=\u001b[39;49m\u001b[38;5;124;43m'\u001b[39;49m\u001b[38;5;124;43m7 days\u001b[39;49m\u001b[38;5;124;43m'\u001b[39;49m\u001b[43m,\u001b[49m\u001b[43m \u001b[49m\u001b[43mperiod\u001b[49m\u001b[38;5;241;43m=\u001b[39;49m\u001b[38;5;124;43m'\u001b[39;49m\u001b[38;5;124;43m1 year\u001b[39;49m\u001b[38;5;124;43m'\u001b[39;49m\u001b[43m)\u001b[49m\u001b[43m,\u001b[49m\u001b[43m \u001b[49m\u001b[43mfigsize\u001b[49m\u001b[38;5;241;43m=\u001b[39;49m\u001b[43m(\u001b[49m\u001b[38;5;241;43m12\u001b[39;49m\u001b[43m,\u001b[49m\u001b[43m \u001b[49m\u001b[38;5;241;43m8\u001b[39;49m\u001b[43m)\u001b[49m\u001b[43m)\u001b[49m\n",
      "\u001b[0;31mTypeError\u001b[0m: plot() got an unexpected keyword argument 'figsize'"
     ]
    }
   ],
   "source": [
    "rb.plot(rb.beast(warbler.sighting_ratio, deltat='7 days', period='1 year'), figsize=(12, 8))"
   ]
  }
 ],
 "metadata": {
  "kernelspec": {
   "display_name": "bird",
   "language": "python",
   "name": "python3"
  },
  "language_info": {
   "codemirror_mode": {
    "name": "ipython",
    "version": 3
   },
   "file_extension": ".py",
   "mimetype": "text/x-python",
   "name": "python",
   "nbconvert_exporter": "python",
   "pygments_lexer": "ipython3",
   "version": "3.10.11"
  }
 },
 "nbformat": 4,
 "nbformat_minor": 2
}
