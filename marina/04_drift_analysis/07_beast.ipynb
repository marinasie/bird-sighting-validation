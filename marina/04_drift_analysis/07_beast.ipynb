{
 "cells": [
  {
   "cell_type": "code",
   "execution_count": 1,
   "metadata": {},
   "outputs": [
    {
     "data": {
      "text/plain": [
       "\"\\n%reload_ext autoreload\\n%autoreload 2\\n\\nimport sys\\nsys.path.append('../')\\n\\nimport pandas as pd\\nfrom utils.plotting import *\\n\\nimport warnings\\nwarnings.filterwarnings('ignore')\\n\\nrepo_path = '/Users/marinasiebold/Library/Mobile Documents/com~apple~CloudDocs/Studium/Bird_Research/Rbeast/Python/py_src'\\nif repo_path not in sys.path:\\n    sys.path.insert(0, repo_path)\\n\\nprint(sys.path)\\nimport Rbeast\\n\""
      ]
     },
     "execution_count": 1,
     "metadata": {},
     "output_type": "execute_result"
    }
   ],
   "source": [
    "\"\"\"\n",
    "%reload_ext autoreload\n",
    "%autoreload 2\n",
    "\n",
    "import sys\n",
    "sys.path.append('../')\n",
    "\n",
    "import pandas as pd\n",
    "from utils.plotting import *\n",
    "\n",
    "import warnings\n",
    "warnings.filterwarnings('ignore')\n",
    "\n",
    "repo_path = '/Users/marinasiebold/Library/Mobile Documents/com~apple~CloudDocs/Studium/Bird_Research/Rbeast/Python/py_src'\n",
    "if repo_path not in sys.path:\n",
    "    sys.path.insert(0, repo_path)\n",
    "\n",
    "print(sys.path)\n",
    "import Rbeast\n",
    "\"\"\""
   ]
  },
  {
   "cell_type": "code",
   "execution_count": 2,
   "metadata": {},
   "outputs": [],
   "source": [
    "%reload_ext autoreload\n",
    "%autoreload 2\n",
    "\n",
    "import sys\n",
    "sys.path.append('../')\n",
    "\n",
    "import matplotlib.pyplot as plt\n",
    "import Rbeast as rb\n",
    "import pandas as pd\n",
    "import geopandas as gpd\n",
    "from datetime import datetime, timedelta\n",
    "\n",
    "import warnings\n",
    "warnings.filterwarnings('ignore')\n"
   ]
  },
  {
   "cell_type": "code",
   "execution_count": 3,
   "metadata": {},
   "outputs": [],
   "source": [
    "path = '../../../01_Data/datasets/time_series_27_species_week_counts.csv'\n",
    "#path = '../../../01_Data/datasets/time_series_feldsperling_week_counts.csv'\n",
    "df = pd.read_csv(path)"
   ]
  },
  {
   "cell_type": "code",
   "execution_count": 90,
   "metadata": {},
   "outputs": [],
   "source": [
    "from math import isnan\n",
    "def decimal_year_to_datetime(decimal_year):\n",
    "    if isnan(decimal_year):\n",
    "        return None\n",
    "    year = int(decimal_year)\n",
    "    remainder = decimal_year - year\n",
    "    start_of_year = datetime(year, 1, 1)\n",
    "    start_of_next_year = datetime(year + 1, 1, 1)\n",
    "    year_duration = start_of_next_year - start_of_year\n",
    "    date_time = start_of_year + timedelta(seconds=remainder * year_duration.total_seconds())\n",
    "    return date_time.strftime('%d-%m-%Y')\n"
   ]
  },
  {
   "cell_type": "code",
   "execution_count": null,
   "metadata": {},
   "outputs": [],
   "source": [
    "\"\"\"\n",
    "o = rb.beast(bird.sighting_ratio, deltat='7 days', period='1 year',\n",
    "             start='2018-01-01', end='2022-12-31',\n",
    "             hasOutlier=True, print_options=False, print_progress=False)\n",
    "fig = plt.figure(figsize=(15, 10))\n",
    "fig = rb.plot(o, fig=fig, title=f'BEAST analysis for {species} in {grid_id}')\n",
    "\"\"\""
   ]
  },
  {
   "cell_type": "markdown",
   "metadata": {},
   "source": [
    "### **Changepoint map of a Bergente**"
   ]
  },
  {
   "cell_type": "markdown",
   "metadata": {},
   "source": [
    "#### Calculate change points"
   ]
  },
  {
   "cell_type": "code",
   "execution_count": 5,
   "metadata": {},
   "outputs": [],
   "source": [
    "species = 'Bergente'\n",
    "bird = df[df['name_species'] == species]\n",
    "all_grids = bird.eea_grid_id.unique()"
   ]
  },
  {
   "cell_type": "code",
   "execution_count": 6,
   "metadata": {},
   "outputs": [],
   "source": [
    "slices = {}\n",
    "for grid in all_grids:\n",
    "    slice = bird[bird['eea_grid_id'] == grid].sighting_ratio\n",
    "    slices[species, grid] = slice"
   ]
  },
  {
   "cell_type": "code",
   "execution_count": 91,
   "metadata": {},
   "outputs": [
    {
     "data": {
      "text/html": [
       "<div>\n",
       "<style scoped>\n",
       "    .dataframe tbody tr th:only-of-type {\n",
       "        vertical-align: middle;\n",
       "    }\n",
       "\n",
       "    .dataframe tbody tr th {\n",
       "        vertical-align: top;\n",
       "    }\n",
       "\n",
       "    .dataframe thead th {\n",
       "        text-align: right;\n",
       "    }\n",
       "</style>\n",
       "<table border=\"1\" class=\"dataframe\">\n",
       "  <thead>\n",
       "    <tr style=\"text-align: right;\">\n",
       "      <th></th>\n",
       "      <th>species</th>\n",
       "      <th>grid_id</th>\n",
       "      <th>pos_cp</th>\n",
       "      <th>dates_pos</th>\n",
       "      <th>probs_pos</th>\n",
       "      <th>neg_cp</th>\n",
       "      <th>dates_neg</th>\n",
       "      <th>probs_neg</th>\n",
       "    </tr>\n",
       "  </thead>\n",
       "  <tbody>\n",
       "    <tr>\n",
       "      <th>0</th>\n",
       "      <td>Bergente</td>\n",
       "      <td>50kmE4000N2500</td>\n",
       "      <td>0</td>\n",
       "      <td>[]</td>\n",
       "      <td>[]</td>\n",
       "      <td>1</td>\n",
       "      <td>10-02-2020</td>\n",
       "      <td>[0.114]</td>\n",
       "    </tr>\n",
       "    <tr>\n",
       "      <th>1</th>\n",
       "      <td>Bergente</td>\n",
       "      <td>50kmE4000N2550</td>\n",
       "      <td>0</td>\n",
       "      <td>[]</td>\n",
       "      <td>[]</td>\n",
       "      <td>1</td>\n",
       "      <td>24-12-2018</td>\n",
       "      <td>[0.211]</td>\n",
       "    </tr>\n",
       "    <tr>\n",
       "      <th>2</th>\n",
       "      <td>Bergente</td>\n",
       "      <td>50kmE4000N2600</td>\n",
       "      <td>0</td>\n",
       "      <td>[]</td>\n",
       "      <td>[]</td>\n",
       "      <td>2</td>\n",
       "      <td>12-10-2021</td>\n",
       "      <td>[0.929, 0.591]</td>\n",
       "    </tr>\n",
       "    <tr>\n",
       "      <th>3</th>\n",
       "      <td>Bergente</td>\n",
       "      <td>50kmE4000N2850</td>\n",
       "      <td>0</td>\n",
       "      <td>[]</td>\n",
       "      <td>[]</td>\n",
       "      <td>1</td>\n",
       "      <td>30-03-2020</td>\n",
       "      <td>[0.116]</td>\n",
       "    </tr>\n",
       "    <tr>\n",
       "      <th>4</th>\n",
       "      <td>Bergente</td>\n",
       "      <td>50kmE4000N2900</td>\n",
       "      <td>0</td>\n",
       "      <td>[]</td>\n",
       "      <td>[]</td>\n",
       "      <td>1</td>\n",
       "      <td>20-01-2020</td>\n",
       "      <td>[0.118]</td>\n",
       "    </tr>\n",
       "    <tr>\n",
       "      <th>...</th>\n",
       "      <td>...</td>\n",
       "      <td>...</td>\n",
       "      <td>...</td>\n",
       "      <td>...</td>\n",
       "      <td>...</td>\n",
       "      <td>...</td>\n",
       "      <td>...</td>\n",
       "      <td>...</td>\n",
       "    </tr>\n",
       "    <tr>\n",
       "      <th>225</th>\n",
       "      <td>Bergente</td>\n",
       "      <td>50kmE4600N3400</td>\n",
       "      <td>1</td>\n",
       "      <td>09-02-2021</td>\n",
       "      <td>[0.181]</td>\n",
       "      <td>0</td>\n",
       "      <td>[]</td>\n",
       "      <td>[]</td>\n",
       "    </tr>\n",
       "    <tr>\n",
       "      <th>226</th>\n",
       "      <td>Bergente</td>\n",
       "      <td>50kmE4600N3450</td>\n",
       "      <td>0</td>\n",
       "      <td>[]</td>\n",
       "      <td>[]</td>\n",
       "      <td>1</td>\n",
       "      <td>20-01-2020</td>\n",
       "      <td>[0.116]</td>\n",
       "    </tr>\n",
       "    <tr>\n",
       "      <th>227</th>\n",
       "      <td>Bergente</td>\n",
       "      <td>50kmE4650N3050</td>\n",
       "      <td>1</td>\n",
       "      <td>26-01-2021</td>\n",
       "      <td>[0.405]</td>\n",
       "      <td>0</td>\n",
       "      <td>[]</td>\n",
       "      <td>[]</td>\n",
       "    </tr>\n",
       "    <tr>\n",
       "      <th>228</th>\n",
       "      <td>Bergente</td>\n",
       "      <td>50kmE4650N3100</td>\n",
       "      <td>1</td>\n",
       "      <td>18-01-2022</td>\n",
       "      <td>[0.702]</td>\n",
       "      <td>0</td>\n",
       "      <td>[]</td>\n",
       "      <td>[]</td>\n",
       "    </tr>\n",
       "    <tr>\n",
       "      <th>229</th>\n",
       "      <td>Bergente</td>\n",
       "      <td>50kmE4650N3150</td>\n",
       "      <td>0</td>\n",
       "      <td>[]</td>\n",
       "      <td>[]</td>\n",
       "      <td>1</td>\n",
       "      <td>24-02-2020</td>\n",
       "      <td>[0.116]</td>\n",
       "    </tr>\n",
       "  </tbody>\n",
       "</table>\n",
       "<p>230 rows × 8 columns</p>\n",
       "</div>"
      ],
      "text/plain": [
       "      species         grid_id  pos_cp   dates_pos probs_pos  neg_cp  \\\n",
       "0    Bergente  50kmE4000N2500       0          []        []       1   \n",
       "1    Bergente  50kmE4000N2550       0          []        []       1   \n",
       "2    Bergente  50kmE4000N2600       0          []        []       2   \n",
       "3    Bergente  50kmE4000N2850       0          []        []       1   \n",
       "4    Bergente  50kmE4000N2900       0          []        []       1   \n",
       "..        ...             ...     ...         ...       ...     ...   \n",
       "225  Bergente  50kmE4600N3400       1  09-02-2021   [0.181]       0   \n",
       "226  Bergente  50kmE4600N3450       0          []        []       1   \n",
       "227  Bergente  50kmE4650N3050       1  26-01-2021   [0.405]       0   \n",
       "228  Bergente  50kmE4650N3100       1  18-01-2022   [0.702]       0   \n",
       "229  Bergente  50kmE4650N3150       0          []        []       1   \n",
       "\n",
       "      dates_neg       probs_neg  \n",
       "0    10-02-2020         [0.114]  \n",
       "1    24-12-2018         [0.211]  \n",
       "2    12-10-2021  [0.929, 0.591]  \n",
       "3    30-03-2020         [0.116]  \n",
       "4    20-01-2020         [0.118]  \n",
       "..          ...             ...  \n",
       "225          []              []  \n",
       "226  20-01-2020         [0.116]  \n",
       "227          []              []  \n",
       "228          []              []  \n",
       "229  24-02-2020         [0.116]  \n",
       "\n",
       "[230 rows x 8 columns]"
      ]
     },
     "execution_count": 91,
     "metadata": {},
     "output_type": "execute_result"
    }
   ],
   "source": [
    "results = []\n",
    "for (species, grid_id), sighting_ratios in slices.items():\n",
    "    o = rb.beast(sighting_ratios, deltat='7 days', period='1 year', \n",
    "                 start='2018-01-01', end='2022-12-31',\n",
    "                 hasOutlier=False,\n",
    "                 print_progress=False, quiet=True)\n",
    "    num_cp = int(o.trend.ncp_median)\n",
    "    cps = o.trend.cp[:num_cp]\n",
    "    cp_probs = o.trend.cpPr[:num_cp]\n",
    "    \n",
    "    pos_cps = 0\n",
    "    neg_cps = 0\n",
    "    date_pos = []\n",
    "    prob_pos = []\n",
    "    date_neg = []\n",
    "    prob_neg = []\n",
    "    for cp, cp_prob in zip(cps, cp_probs):\n",
    "        closest_index = np.argmin(np.abs(o.time -  cp))\n",
    "        pos_slope_prob = o.trend.slpSgnPosPr[closest_index]\n",
    "        neg_slope_prob = 1- pos_slope_prob - o.trend.slpSgnZeroPr[closest_index]\n",
    "        if pos_slope_prob > neg_slope_prob:\n",
    "            pos_cps += 1\n",
    "            date_pos = decimal_year_to_datetime(cp)\n",
    "            prob_pos.append(round(cp_prob, 3))\n",
    "        else:\n",
    "            neg_cps += 1\n",
    "            date_neg = decimal_year_to_datetime(cp)\n",
    "            prob_neg.append(round(cp_prob, 3))\n",
    "    result = {'species': species, 'grid_id': grid_id,\n",
    "              'pos_cp': pos_cps, 'dates_pos': date_pos, 'probs_pos': prob_pos,\n",
    "              'neg_cp': neg_cps, 'dates_neg': date_neg, 'probs_neg': prob_neg\n",
    "              }\n",
    "    results.append(result)\n",
    "\n",
    "beast_results = pd.DataFrame(results)\n",
    "beast_results"
   ]
  },
  {
   "cell_type": "markdown",
   "metadata": {},
   "source": [
    "#### Load grid info"
   ]
  },
  {
   "cell_type": "code",
   "execution_count": 92,
   "metadata": {},
   "outputs": [],
   "source": [
    "eea_shapefile_path = '../../../01_Data/shp_files/grids/eea_europe_grids_50km/inspire_compatible_grid_50km.shp'\n",
    "eea_grid = gpd.read_file(eea_shapefile_path)\n",
    "eea_grid = eea_grid.to_crs('EPSG:4326')\n",
    "\n",
    "germany_switzerland_bbox = eea_grid.cx[5.210942:15.669926, 45.614516:55.379499]\n",
    "\n",
    "eea_grid_filtered = eea_grid[eea_grid.intersects(germany_switzerland_bbox.unary_union)].copy()\n",
    "eea_grid_filtered.rename(columns={'cellcode': 'grid_id'}, inplace=True)\n",
    "eea_grid_filtered.reset_index(drop=True, inplace=True)"
   ]
  },
  {
   "cell_type": "code",
   "execution_count": 95,
   "metadata": {},
   "outputs": [
    {
     "data": {
      "text/html": [
       "<div>\n",
       "<style scoped>\n",
       "    .dataframe tbody tr th:only-of-type {\n",
       "        vertical-align: middle;\n",
       "    }\n",
       "\n",
       "    .dataframe tbody tr th {\n",
       "        vertical-align: top;\n",
       "    }\n",
       "\n",
       "    .dataframe thead th {\n",
       "        text-align: right;\n",
       "    }\n",
       "</style>\n",
       "<table border=\"1\" class=\"dataframe\">\n",
       "  <thead>\n",
       "    <tr style=\"text-align: right;\">\n",
       "      <th></th>\n",
       "      <th>species</th>\n",
       "      <th>grid_id</th>\n",
       "      <th>pos_cp</th>\n",
       "      <th>dates_pos</th>\n",
       "      <th>probs_pos</th>\n",
       "      <th>neg_cp</th>\n",
       "      <th>dates_neg</th>\n",
       "      <th>probs_neg</th>\n",
       "      <th>geometry</th>\n",
       "    </tr>\n",
       "  </thead>\n",
       "  <tbody>\n",
       "    <tr>\n",
       "      <th>0</th>\n",
       "      <td>Bergente</td>\n",
       "      <td>50kmE4000N2500</td>\n",
       "      <td>0</td>\n",
       "      <td>[]</td>\n",
       "      <td>[]</td>\n",
       "      <td>1</td>\n",
       "      <td>10-02-2020</td>\n",
       "      <td>[0.114]</td>\n",
       "      <td>POLYGON ((5.89422 45.53284, 5.86021 45.98253, ...</td>\n",
       "    </tr>\n",
       "    <tr>\n",
       "      <th>1</th>\n",
       "      <td>Bergente</td>\n",
       "      <td>50kmE4000N2550</td>\n",
       "      <td>0</td>\n",
       "      <td>[]</td>\n",
       "      <td>[]</td>\n",
       "      <td>1</td>\n",
       "      <td>24-12-2018</td>\n",
       "      <td>[0.211]</td>\n",
       "      <td>POLYGON ((5.86021 45.98253, 5.82545 46.43207, ...</td>\n",
       "    </tr>\n",
       "    <tr>\n",
       "      <th>2</th>\n",
       "      <td>Bergente</td>\n",
       "      <td>50kmE4000N2600</td>\n",
       "      <td>0</td>\n",
       "      <td>[]</td>\n",
       "      <td>[]</td>\n",
       "      <td>2</td>\n",
       "      <td>12-10-2021</td>\n",
       "      <td>[0.929, 0.591]</td>\n",
       "      <td>POLYGON ((5.82545 46.43207, 5.78994 46.88148, ...</td>\n",
       "    </tr>\n",
       "    <tr>\n",
       "      <th>3</th>\n",
       "      <td>Bergente</td>\n",
       "      <td>50kmE4000N2850</td>\n",
       "      <td>0</td>\n",
       "      <td>[]</td>\n",
       "      <td>[]</td>\n",
       "      <td>1</td>\n",
       "      <td>30-03-2020</td>\n",
       "      <td>[0.116]</td>\n",
       "      <td>POLYGON ((5.63974 48.67790, 5.60003 49.12673, ...</td>\n",
       "    </tr>\n",
       "    <tr>\n",
       "      <th>4</th>\n",
       "      <td>Bergente</td>\n",
       "      <td>50kmE4000N2900</td>\n",
       "      <td>0</td>\n",
       "      <td>[]</td>\n",
       "      <td>[]</td>\n",
       "      <td>1</td>\n",
       "      <td>20-01-2020</td>\n",
       "      <td>[0.118]</td>\n",
       "      <td>POLYGON ((5.60003 49.12673, 5.55939 49.57547, ...</td>\n",
       "    </tr>\n",
       "    <tr>\n",
       "      <th>...</th>\n",
       "      <td>...</td>\n",
       "      <td>...</td>\n",
       "      <td>...</td>\n",
       "      <td>...</td>\n",
       "      <td>...</td>\n",
       "      <td>...</td>\n",
       "      <td>...</td>\n",
       "      <td>...</td>\n",
       "      <td>...</td>\n",
       "    </tr>\n",
       "    <tr>\n",
       "      <th>225</th>\n",
       "      <td>Bergente</td>\n",
       "      <td>50kmE4600N3400</td>\n",
       "      <td>1</td>\n",
       "      <td>09-02-2021</td>\n",
       "      <td>[0.181]</td>\n",
       "      <td>0</td>\n",
       "      <td>[]</td>\n",
       "      <td>[]</td>\n",
       "      <td>POLYGON ((14.21996 53.63443, 14.26508 54.08284...</td>\n",
       "    </tr>\n",
       "    <tr>\n",
       "      <th>226</th>\n",
       "      <td>Bergente</td>\n",
       "      <td>50kmE4600N3450</td>\n",
       "      <td>0</td>\n",
       "      <td>[]</td>\n",
       "      <td>[]</td>\n",
       "      <td>1</td>\n",
       "      <td>20-01-2020</td>\n",
       "      <td>[0.116]</td>\n",
       "      <td>POLYGON ((14.26508 54.08284, 14.31139 54.53123...</td>\n",
       "    </tr>\n",
       "    <tr>\n",
       "      <th>227</th>\n",
       "      <td>Bergente</td>\n",
       "      <td>50kmE4650N3050</td>\n",
       "      <td>1</td>\n",
       "      <td>26-01-2021</td>\n",
       "      <td>[0.405]</td>\n",
       "      <td>0</td>\n",
       "      <td>[]</td>\n",
       "      <td>[]</td>\n",
       "      <td>POLYGON ((14.63728 50.46819, 14.68196 50.91663...</td>\n",
       "    </tr>\n",
       "    <tr>\n",
       "      <th>228</th>\n",
       "      <td>Bergente</td>\n",
       "      <td>50kmE4650N3100</td>\n",
       "      <td>1</td>\n",
       "      <td>18-01-2022</td>\n",
       "      <td>[0.702]</td>\n",
       "      <td>0</td>\n",
       "      <td>[]</td>\n",
       "      <td>[]</td>\n",
       "      <td>POLYGON ((14.68196 50.91663, 14.72772 51.36499...</td>\n",
       "    </tr>\n",
       "    <tr>\n",
       "      <th>229</th>\n",
       "      <td>Bergente</td>\n",
       "      <td>50kmE4650N3150</td>\n",
       "      <td>0</td>\n",
       "      <td>[]</td>\n",
       "      <td>[]</td>\n",
       "      <td>1</td>\n",
       "      <td>24-02-2020</td>\n",
       "      <td>[0.116]</td>\n",
       "      <td>POLYGON ((14.72772 51.36499, 14.77460 51.81329...</td>\n",
       "    </tr>\n",
       "  </tbody>\n",
       "</table>\n",
       "<p>230 rows × 9 columns</p>\n",
       "</div>"
      ],
      "text/plain": [
       "      species         grid_id  pos_cp   dates_pos probs_pos  neg_cp  \\\n",
       "0    Bergente  50kmE4000N2500       0          []        []       1   \n",
       "1    Bergente  50kmE4000N2550       0          []        []       1   \n",
       "2    Bergente  50kmE4000N2600       0          []        []       2   \n",
       "3    Bergente  50kmE4000N2850       0          []        []       1   \n",
       "4    Bergente  50kmE4000N2900       0          []        []       1   \n",
       "..        ...             ...     ...         ...       ...     ...   \n",
       "225  Bergente  50kmE4600N3400       1  09-02-2021   [0.181]       0   \n",
       "226  Bergente  50kmE4600N3450       0          []        []       1   \n",
       "227  Bergente  50kmE4650N3050       1  26-01-2021   [0.405]       0   \n",
       "228  Bergente  50kmE4650N3100       1  18-01-2022   [0.702]       0   \n",
       "229  Bergente  50kmE4650N3150       0          []        []       1   \n",
       "\n",
       "      dates_neg       probs_neg  \\\n",
       "0    10-02-2020         [0.114]   \n",
       "1    24-12-2018         [0.211]   \n",
       "2    12-10-2021  [0.929, 0.591]   \n",
       "3    30-03-2020         [0.116]   \n",
       "4    20-01-2020         [0.118]   \n",
       "..          ...             ...   \n",
       "225          []              []   \n",
       "226  20-01-2020         [0.116]   \n",
       "227          []              []   \n",
       "228          []              []   \n",
       "229  24-02-2020         [0.116]   \n",
       "\n",
       "                                              geometry  \n",
       "0    POLYGON ((5.89422 45.53284, 5.86021 45.98253, ...  \n",
       "1    POLYGON ((5.86021 45.98253, 5.82545 46.43207, ...  \n",
       "2    POLYGON ((5.82545 46.43207, 5.78994 46.88148, ...  \n",
       "3    POLYGON ((5.63974 48.67790, 5.60003 49.12673, ...  \n",
       "4    POLYGON ((5.60003 49.12673, 5.55939 49.57547, ...  \n",
       "..                                                 ...  \n",
       "225  POLYGON ((14.21996 53.63443, 14.26508 54.08284...  \n",
       "226  POLYGON ((14.26508 54.08284, 14.31139 54.53123...  \n",
       "227  POLYGON ((14.63728 50.46819, 14.68196 50.91663...  \n",
       "228  POLYGON ((14.68196 50.91663, 14.72772 51.36499...  \n",
       "229  POLYGON ((14.72772 51.36499, 14.77460 51.81329...  \n",
       "\n",
       "[230 rows x 9 columns]"
      ]
     },
     "execution_count": 95,
     "metadata": {},
     "output_type": "execute_result"
    }
   ],
   "source": [
    "merged_df = pd.merge(beast_results, eea_grid_filtered, on='grid_id')\n",
    "merged_df.drop(columns=['eoforigin', 'noforigin', 'gid'], inplace=True)\n",
    "\n",
    "gdf = gpd.GeoDataFrame(merged_df, geometry='geometry', crs='EPSG:4326')\n",
    "gdf = gdf.reset_index(drop=True)\n",
    "gdf"
   ]
  },
  {
   "cell_type": "code",
   "execution_count": 101,
   "metadata": {},
   "outputs": [
    {
     "data": {
      "application/vnd.plotly.v1+json": {
       "config": {
        "plotlyServerURL": "https://plot.ly"
       },
       "data": [
        {
         "coloraxis": "coloraxis",
         "customdata": [
          [
           [],
           [],
           0
          ],
          [
           [],
           [],
           0
          ],
          [
           [],
           [],
           0
          ],
          [
           [],
           [],
           0
          ],
          [
           [],
           [],
           0
          ],
          [
           [],
           [],
           0
          ],
          [
           [],
           [],
           0
          ],
          [
           [],
           [],
           0
          ],
          [
           "08-03-2022",
           [
            0.7720000147819519
           ],
           1
          ],
          [
           [],
           [],
           0
          ],
          [
           [],
           [],
           0
          ],
          [
           [],
           [],
           0
          ],
          [
           [],
           [],
           0
          ],
          [
           [],
           [],
           0
          ],
          [
           [],
           [],
           0
          ],
          [
           [],
           [],
           0
          ],
          [
           [],
           [],
           0
          ],
          [
           "01-09-2020",
           [
            0.9950000047683716,
            0.7720000147819519,
            0.7699999809265137
           ],
           3
          ],
          [
           [],
           [],
           0
          ],
          [
           [],
           [],
           0
          ],
          [
           [],
           [],
           0
          ],
          [
           "09-07-2018",
           [
            0.5320000052452087
           ],
           1
          ],
          [
           "21-12-2021",
           [
            0.9580000042915344,
            0.9549999833106995,
            0.8700000047683716,
            0.7170000076293945
           ],
           4
          ],
          [
           [],
           [],
           0
          ],
          [
           [],
           [],
           0
          ],
          [
           [],
           [],
           0
          ],
          [
           [],
           [],
           0
          ],
          [
           [],
           [],
           0
          ],
          [
           [],
           [],
           0
          ],
          [
           [],
           [],
           0
          ],
          [
           [],
           [],
           0
          ],
          [
           "16-11-2021",
           [
            0.23399999737739563
           ],
           1
          ],
          [
           [],
           [],
           0
          ],
          [
           "11-01-2022",
           [
            0.3540000021457672
           ],
           1
          ],
          [
           [],
           [],
           0
          ],
          [
           [],
           [],
           0
          ],
          [
           [],
           [],
           0
          ],
          [
           [],
           [],
           0
          ],
          [
           [],
           [],
           0
          ],
          [
           "15-12-2020",
           [
            0.20200000703334808
           ],
           1
          ],
          [
           [],
           [],
           0
          ],
          [
           "22-12-2020",
           [
            0.1860000044107437
           ],
           1
          ],
          [
           "28-12-2021",
           [
            0.8610000014305115
           ],
           1
          ],
          [
           [],
           [],
           0
          ],
          [
           [],
           [],
           0
          ],
          [
           [],
           [],
           0
          ],
          [
           "05-10-2021",
           [
            0.2460000067949295
           ],
           1
          ],
          [
           "20-10-2020",
           [
            0.16500000655651093
           ],
           1
          ],
          [
           [],
           [],
           0
          ],
          [
           [],
           [],
           0
          ],
          [
           [],
           [],
           0
          ],
          [
           [],
           [],
           0
          ],
          [
           [],
           [],
           0
          ],
          [
           [],
           [],
           0
          ],
          [
           [],
           [],
           0
          ],
          [
           "05-01-2021",
           [
            0.17100000381469727
           ],
           1
          ],
          [
           "09-02-2021",
           [
            0.9980000257492065,
            0.9850000143051147,
            0.8109999895095825
           ],
           3
          ],
          [
           [],
           [],
           0
          ],
          [
           [],
           [],
           0
          ],
          [
           [],
           [],
           0
          ],
          [
           [],
           [],
           0
          ],
          [
           [],
           [],
           0
          ],
          [
           [],
           [],
           0
          ],
          [
           "11-02-2019",
           [
            0.8410000205039978
           ],
           1
          ],
          [
           "05-10-2021",
           [
            0.25699999928474426
           ],
           1
          ],
          [
           [],
           [],
           0
          ],
          [
           "03-11-2020",
           [
            0.15299999713897705
           ],
           1
          ],
          [
           "29-09-2020",
           [
            0.15800000727176666
           ],
           1
          ],
          [
           [],
           [],
           0
          ],
          [
           "05-01-2021",
           [
            0.3050000071525574
           ],
           1
          ],
          [
           [],
           [],
           0
          ],
          [
           "02-03-2021",
           [
            0.28999999165534973
           ],
           1
          ],
          [
           "09-03-2020",
           [
            0.3790000081062317
           ],
           1
          ],
          [
           [],
           [],
           0
          ],
          [
           [],
           [],
           0
          ],
          [
           [],
           [],
           0
          ],
          [
           [],
           [],
           0
          ],
          [
           "29-12-2020",
           [
            0.42399999499320984
           ],
           1
          ],
          [
           "23-12-2019",
           [
            1,
            0.9800000190734863,
            0.5009999871253967
           ],
           3
          ],
          [
           "15-03-2022",
           [
            0.9980000257492065
           ],
           1
          ],
          [
           "07-12-2021",
           [
            0.972000002861023
           ],
           1
          ],
          [
           [],
           [],
           0
          ],
          [
           "23-12-2019",
           [
            0.8330000042915344
           ],
           1
          ],
          [
           "11-01-2022",
           [
            0.6489999890327454
           ],
           1
          ],
          [
           "28-10-2019",
           [
            0.24199999868869781
           ],
           1
          ],
          [
           "16-11-2021",
           [
            0.5139999985694885
           ],
           1
          ],
          [
           [],
           [],
           0
          ],
          [
           "24-11-2020",
           [
            0.28200000524520874
           ],
           1
          ],
          [
           "03-11-2020",
           [
            0.17900000512599945
           ],
           1
          ],
          [
           "06-10-2020",
           [
            0.20399999618530273
           ],
           1
          ],
          [
           [],
           [],
           0
          ],
          [
           [],
           [],
           0
          ],
          [
           "16-03-2021",
           [
            0.032999999821186066
           ],
           1
          ],
          [
           [],
           [],
           0
          ],
          [
           "06-01-2020",
           [
            0.17399999499320984
           ],
           1
          ],
          [
           [],
           [],
           0
          ],
          [
           [],
           [],
           0
          ],
          [
           "25-02-2019",
           [
            0.9890000224113464
           ],
           1
          ],
          [
           [],
           [],
           0
          ],
          [
           "28-12-2021",
           [
            0.33799999952316284
           ],
           1
          ],
          [
           [],
           [],
           0
          ],
          [
           [],
           [],
           0
          ],
          [
           [],
           [],
           0
          ],
          [
           [],
           [],
           0
          ],
          [
           "15-03-2022",
           [
            0.6539999842643738,
            0.6150000095367432
           ],
           2
          ],
          [
           "28-12-2021",
           [
            0.9490000009536743
           ],
           1
          ],
          [
           [],
           [],
           0
          ],
          [
           "28-09-2021",
           [
            0.9169999957084656
           ],
           1
          ],
          [
           [],
           [],
           0
          ],
          [
           "30-11-2021",
           [
            0.1979999989271164
           ],
           1
          ],
          [
           "30-11-2021",
           [
            0.20999999344348907
           ],
           1
          ],
          [
           [],
           [],
           0
          ],
          [
           [],
           [],
           0
          ],
          [
           [],
           [],
           0
          ],
          [
           [],
           [],
           0
          ],
          [
           [],
           [],
           0
          ],
          [
           [],
           [],
           0
          ],
          [
           [],
           [],
           0
          ],
          [
           [],
           [],
           0
          ],
          [
           "01-02-2022",
           [
            0.8050000071525574,
            0.8040000200271606
           ],
           2
          ],
          [
           [],
           [],
           0
          ],
          [
           [],
           [],
           0
          ],
          [
           [],
           [],
           0
          ],
          [
           "16-11-2021",
           [
            0.9929999709129333,
            0.9850000143051147
           ],
           2
          ],
          [
           "28-12-2021",
           [
            0.28200000524520874
           ],
           1
          ],
          [
           [],
           [],
           0
          ],
          [
           [],
           [],
           0
          ],
          [
           "18-03-2019",
           [
            0.8069999814033508
           ],
           1
          ],
          [
           "16-02-2021",
           [
            0.21299999952316284
           ],
           1
          ],
          [
           "23-02-2021",
           [
            0.1770000010728836
           ],
           1
          ],
          [
           "30-12-2019",
           [
            0.16300000250339508
           ],
           1
          ],
          [
           [],
           [],
           0
          ],
          [
           [],
           [],
           0
          ],
          [
           [],
           [],
           0
          ],
          [
           [],
           [],
           0
          ],
          [
           "09-03-2021",
           [
            0.2370000034570694
           ],
           1
          ],
          [
           [],
           [],
           0
          ],
          [
           [],
           [],
           0
          ],
          [
           [],
           [],
           0
          ],
          [
           "26-11-2018",
           [
            0.23399999737739563
           ],
           1
          ],
          [
           [],
           [],
           0
          ],
          [
           "20-01-2020",
           [
            0.21299999952316284
           ],
           1
          ],
          [
           [],
           [],
           0
          ],
          [
           "29-12-2020",
           [
            0.20399999618530273
           ],
           1
          ],
          [
           [],
           [],
           0
          ],
          [
           [],
           [],
           0
          ],
          [
           [],
           [],
           0
          ],
          [
           "16-02-2021",
           [
            0.1469999998807907
           ],
           1
          ],
          [
           "19-01-2021",
           [
            0.26100000739097595
           ],
           1
          ],
          [
           [],
           [],
           0
          ],
          [
           [],
           [],
           0
          ],
          [
           "28-12-2021",
           [
            0.3580000102519989
           ],
           1
          ],
          [
           "05-01-2021",
           [
            0.421999990940094
           ],
           1
          ],
          [
           "02-02-2021",
           [
            0.949999988079071
           ],
           1
          ],
          [
           [],
           [],
           0
          ],
          [
           "03-02-2020",
           [
            0.7559999823570251
           ],
           1
          ],
          [
           [],
           [],
           0
          ],
          [
           [],
           [],
           0
          ],
          [
           [],
           [],
           0
          ],
          [
           "15-02-2022",
           [
            0.29600000381469727
           ],
           1
          ],
          [
           "21-12-2021",
           [
            0.2759999930858612
           ],
           1
          ],
          [
           [],
           [],
           0
          ],
          [
           [],
           [],
           0
          ],
          [
           [],
           [],
           0
          ],
          [
           [],
           [],
           0
          ],
          [
           "24-11-2020",
           [
            0.1979999989271164
           ],
           1
          ],
          [
           "12-01-2021",
           [
            0.8539999723434448
           ],
           1
          ],
          [
           [],
           [],
           0
          ],
          [
           [],
           [],
           0
          ],
          [
           [],
           [],
           0
          ],
          [
           [],
           [],
           0
          ],
          [
           [],
           [],
           0
          ],
          [
           "09-03-2021",
           [
            1,
            0.023000000044703484
           ],
           2
          ],
          [
           [],
           [],
           0
          ],
          [
           "23-03-2021",
           [
            0.31700000166893005
           ],
           1
          ],
          [
           [],
           [],
           0
          ],
          [
           "08-12-2020",
           [
            0.8389999866485596
           ],
           1
          ],
          [
           "22-12-2020",
           [
            0.7129999995231628
           ],
           1
          ],
          [
           "11-01-2022",
           [
            0.9990000128746033
           ],
           1
          ],
          [
           "22-03-2022",
           [
            0.17499999701976776
           ],
           1
          ],
          [
           [],
           [],
           0
          ],
          [
           "05-10-2021",
           [
            0.9679999947547913,
            0.6340000033378601
           ],
           2
          ],
          [
           [],
           [],
           0
          ],
          [
           "29-12-2020",
           [
            0.6990000009536743
           ],
           1
          ],
          [
           [],
           [],
           0
          ],
          [
           "13-01-2020",
           [
            0.45899999141693115
           ],
           1
          ],
          [
           "13-04-2021",
           [
            0.9819999933242798,
            0.5220000147819519
           ],
           2
          ],
          [
           [],
           [],
           0
          ],
          [
           [],
           [],
           0
          ],
          [
           [],
           [],
           0
          ],
          [
           [],
           [],
           0
          ],
          [
           [],
           [],
           0
          ],
          [
           [],
           [],
           0
          ],
          [
           "11-01-2022",
           [
            0.6610000133514404,
            0.3499999940395355
           ],
           2
          ],
          [
           [],
           [],
           0
          ],
          [
           [],
           [],
           0
          ],
          [
           [],
           [],
           0
          ],
          [
           [],
           [],
           0
          ],
          [
           "01-12-2020",
           [
            0.5809999704360962
           ],
           1
          ],
          [
           "17-08-2021",
           [
            0.9729999899864197
           ],
           1
          ],
          [
           "28-09-2021",
           [
            0.7829999923706055
           ],
           1
          ],
          [
           [],
           [],
           0
          ],
          [
           [],
           [],
           0
          ],
          [
           [],
           [],
           0
          ],
          [
           [],
           [],
           0
          ],
          [
           [],
           [],
           0
          ],
          [
           "30-07-2018",
           [
            0.23600000143051147
           ],
           1
          ],
          [
           [],
           [],
           0
          ],
          [
           "21-12-2021",
           [
            0.7020000219345093
           ],
           1
          ],
          [
           "15-02-2022",
           [
            0.17100000381469727
           ],
           1
          ],
          [
           [],
           [],
           0
          ],
          [
           "29-12-2020",
           [
            0.24400000274181366
           ],
           1
          ],
          [
           [],
           [],
           0
          ],
          [
           "06-10-2020",
           [
            0.597000002861023
           ],
           1
          ],
          [
           "13-04-2020",
           [
            0.13899999856948853
           ],
           1
          ],
          [
           [],
           [],
           0
          ],
          [
           [],
           [],
           0
          ],
          [
           [],
           [],
           0
          ],
          [
           [],
           [],
           0
          ],
          [
           [],
           [],
           0
          ],
          [
           "04-11-2019",
           [
            0.4580000042915344
           ],
           1
          ],
          [
           "21-12-2021",
           [
            0.9700000286102295,
            0.9620000123977661
           ],
           2
          ],
          [
           "01-04-2019",
           [
            0.6100000143051147
           ],
           1
          ],
          [
           "16-02-2021",
           [
            0.36500000953674316
           ],
           1
          ],
          [
           "15-02-2022",
           [
            0.23399999737739563
           ],
           1
          ],
          [
           "09-02-2021",
           [
            0.1809999942779541
           ],
           1
          ],
          [
           [],
           [],
           0
          ],
          [
           "26-01-2021",
           [
            0.4050000011920929
           ],
           1
          ],
          [
           "18-01-2022",
           [
            0.7020000219345093
           ],
           1
          ],
          [
           [],
           [],
           0
          ]
         ],
         "geojson": {
          "bbox": [
           5.294320277146393,
           45.53284159514133,
           15.497854793523238,
           55.49972348703258
          ],
          "features": [
           {
            "bbox": [
             5.8602054563840325,
             45.53284159514133,
             6.532877813541479,
             46.005623280024516
            ],
            "geometry": {
             "coordinates": [
              [
               [
                5.894217926409395,
                45.53284159514133
               ],
               [
                5.8602054563840325,
                45.98252552838547
               ],
               [
                6.504134109097187,
                46.005623280024516
               ],
               [
                6.532877813541479,
                45.55572004934728
               ],
               [
                5.894217926409395,
                45.53284159514133
               ]
              ]
             ],
             "type": "Polygon"
            },
            "id": "0",
            "properties": {
             "dates_neg": "10-02-2020",
             "dates_pos": [],
             "grid_id": "50kmE4000N2500",
             "neg_cp": 1,
             "pos_cp": 0,
             "probs_neg": [
              0.11400000005960464
             ],
             "probs_pos": [],
             "species": "Bergente"
            },
            "type": "Feature"
           },
           {
            "bbox": [
             5.8254524414603255,
             45.98252552838547,
             6.504134109097187,
             46.45539062852486
            ],
            "geometry": {
             "coordinates": [
              [
               [
                5.8602054563840325,
                45.98252552838547
               ],
               [
                5.8254524414603255,
                46.43206863752983
               ],
               [
                6.474763981639731,
                46.45539062852486
               ],
               [
                6.504134109097187,
                46.005623280024516
               ],
               [
                5.8602054563840325,
                45.98252552838547
               ]
              ]
             ],
             "type": "Polygon"
            },
            "id": "1",
            "properties": {
             "dates_neg": "24-12-2018",
             "dates_pos": [],
             "grid_id": "50kmE4000N2550",
             "neg_cp": 1,
             "pos_cp": 0,
             "probs_neg": [
              0.210999995470047
             ],
             "probs_pos": [],
             "species": "Bergente"
            },
            "type": "Feature"
           },
           {
            "bbox": [
             5.7899359469752305,
             46.43206863752983,
             6.474763981639731,
             46.9050287598452
            ],
            "geometry": {
             "coordinates": [
              [
               [
                5.8254524414603255,
                46.43206863752983
               ],
               [
                5.7899359469752305,
                46.88147743237545
               ],
               [
                6.44474800307047,
                46.9050287598452
               ],
               [
                6.474763981639731,
                46.45539062852486
               ],
               [
                5.8254524414603255,
                46.43206863752983
               ]
              ]
             ],
             "type": "Polygon"
            },
            "id": "2",
            "properties": {
             "dates_neg": "12-10-2021",
             "dates_pos": [],
             "grid_id": "50kmE4000N2600",
             "neg_cp": 2,
             "pos_cp": 0,
             "probs_neg": [
              0.9290000200271606,
              0.5910000205039978
             ],
             "probs_pos": [],
             "species": "Bergente"
            },
            "type": "Feature"
           },
           {
            "bbox": [
             5.60002674943289,
             48.67789862984333,
             6.317806875605944,
             49.151512844189114
            ],
            "geometry": {
             "coordinates": [
              [
               [
                5.639740964056352,
                48.67789862984333
               ],
               [
                5.60002674943289,
                49.12673246004108
               ],
               [
                6.284239411125867,
                49.151512844189114
               ],
               [
                6.317806875605944,
                48.702421618492984
               ],
               [
                5.639740964056352,
                48.67789862984333
               ]
              ]
             ],
             "type": "Polygon"
            },
            "id": "3",
            "properties": {
             "dates_neg": "30-03-2020",
             "dates_pos": [],
             "grid_id": "50kmE4000N2850",
             "neg_cp": 1,
             "pos_cp": 0,
             "probs_neg": [
              0.11599999666213989
             ],
             "probs_pos": [],
             "species": "Bergente"
            },
            "type": "Feature"
           },
           {
            "bbox": [
             5.559388847803098,
             49.12673246004108,
             6.284239411125867,
             49.60051436539798
            ],
            "geometry": {
             "coordinates": [
              [
               [
                5.60002674943289,
                49.12673246004108
               ],
               [
                5.559388847803098,
                49.57547040463253
               ],
               [
                6.249890345763067,
                49.60051436539798
               ],
               [
                6.284239411125867,
                49.151512844189114
               ],
               [
                5.60002674943289,
                49.12673246004108
               ]
              ]
             ],
             "type": "Polygon"
            },
            "id": "4",
            "properties": {
             "dates_neg": "20-01-2020",
             "dates_pos": [],
             "grid_id": "50kmE4000N2900",
             "neg_cp": 1,
             "pos_cp": 0,
             "probs_neg": [
              0.11800000071525574
             ],
             "probs_pos": [],
             "species": "Bergente"
            },
            "type": "Feature"
           },
           {
            "bbox": [
             5.517796212442044,
             49.57547040463253,
             6.249890345763067,
             50.049432687094125
            ],
            "geometry": {
             "coordinates": [
              [
               [
                5.559388847803098,
                49.57547040463253
               ],
               [
                5.517796212442044,
                50.024118758541924
               ],
               [
                6.2147333651716865,
                50.049432687094125
               ],
               [
                6.249890345763067,
                49.60051436539798
               ],
               [
                5.559388847803098,
                49.57547040463253
               ]
              ]
             ],
             "type": "Polygon"
            },
            "id": "5",
            "properties": {
             "dates_neg": "11-01-2022",
             "dates_pos": [],
             "grid_id": "50kmE4000N2950",
             "neg_cp": 1,
             "pos_cp": 0,
             "probs_neg": [
              0.11699999868869781
             ],
             "probs_pos": [],
             "species": "Bergente"
            },
            "type": "Feature"
           },
           {
            "bbox": [
             5.475216363766722,
             50.024118758541924,
             6.2147333651716865,
             50.49827429053195
            ],
            "geometry": {
             "coordinates": [
              [
               [
                5.517796212442044,
                50.024118758541924
               ],
               [
                5.475216363766722,
                50.4726837832855
               ],
               [
                6.178740938087519,
                50.49827429053195
               ],
               [
                6.2147333651716865,
                50.049432687094125
               ],
               [
                5.517796212442044,
                50.024118758541924
               ]
              ]
             ],
             "type": "Polygon"
            },
            "id": "6",
            "properties": {
             "dates_neg": "30-12-2019",
             "dates_pos": [],
             "grid_id": "50kmE4000N3000",
             "neg_cp": 1,
             "pos_cp": 0,
             "probs_neg": [
              0.11699999868869781
             ],
             "probs_pos": [],
             "species": "Bergente"
            },
            "type": "Feature"
           },
           {
            "bbox": [
             5.431615306309049,
             50.4726837832855,
             6.178740938087519,
             50.947045632773616
            ],
            "geometry": {
             "coordinates": [
              [
               [
                5.475216363766722,
                50.4726837832855
               ],
               [
                5.431615306309049,
                50.9211717059387
               ],
               [
                6.141884245635442,
                50.947045632773616
               ],
               [
                6.178740938087519,
                50.49827429053195
               ],
               [
                5.475216363766722,
                50.4726837832855
               ]
              ]
             ],
             "type": "Polygon"
            },
            "id": "7",
            "properties": {
             "dates_neg": "24-11-2020",
             "dates_pos": [],
             "grid_id": "50kmE4000N3050",
             "neg_cp": 1,
             "pos_cp": 0,
             "probs_neg": [
              0.12099999934434891
             ],
             "probs_pos": [],
             "species": "Bergente"
            },
            "type": "Feature"
           },
           {
            "bbox": [
             5.386957439844263,
             50.9211717059387,
             6.141884245635442,
             51.39575314611473
            ],
            "geometry": {
             "coordinates": [
              [
               [
                5.431615306309049,
                50.9211717059387
               ],
               [
                5.386957439844263,
                51.369588717961896
               ],
               [
                6.104133105645625,
                51.39575314611473
               ],
               [
                6.141884245635442,
                50.947045632773616
               ],
               [
                5.431615306309049,
                50.9211717059387
               ]
              ]
             ],
             "type": "Polygon"
            },
            "id": "8",
            "properties": {
             "dates_neg": [],
             "dates_pos": "08-03-2022",
             "grid_id": "50kmE4000N3100",
             "neg_cp": 0,
             "pos_cp": 1,
             "probs_neg": [],
             "probs_pos": [
              0.7720000147819519
             ],
             "species": "Bergente"
            },
            "type": "Feature"
           },
           {
            "bbox": [
             5.341205464190187,
             51.369588717961896,
             6.104133105645625,
             51.84440323740014
            ],
            "geometry": {
             "coordinates": [
              [
               [
                5.386957439844263,
                51.369588717961896
               ],
               [
                5.341205464190187,
                51.81794097387337
               ],
               [
                6.065455891563244,
                51.84440323740014
               ],
               [
                6.104133105645625,
                51.39575314611473
               ],
               [
                5.386957439844263,
                51.369588717961896
               ]
              ]
             ],
             "type": "Polygon"
            },
            "id": "9",
            "properties": {
             "dates_neg": "04-05-2021",
             "dates_pos": [],
             "grid_id": "50kmE4000N3150",
             "neg_cp": 1,
             "pos_cp": 0,
             "probs_neg": [
              0.11599999666213989
             ],
             "probs_pos": [],
             "species": "Bergente"
            },
            "type": "Feature"
           },
           {
            "bbox": [
             5.294320277146393,
             51.81794097387337,
             6.065455891563244,
             52.293002287220716
            ],
            "geometry": {
             "coordinates": [
              [
               [
                5.341205464190187,
                51.81794097387337
               ],
               [
                5.294320277146393,
                52.2662345897571
               ],
               [
                6.025819445496514,
                52.293002287220716
               ],
               [
                6.065455891563244,
                51.84440323740014
               ],
               [
                5.341205464190187,
                51.81794097387337
               ]
              ]
             ],
             "type": "Polygon"
            },
            "id": "10",
            "properties": {
             "dates_neg": "18-05-2020",
             "dates_pos": [],
             "grid_id": "50kmE4000N3200",
             "neg_cp": 1,
             "pos_cp": 0,
             "probs_neg": [
              0.11900000274181366
             ],
             "probs_pos": [],
             "species": "Bergente"
            },
            "type": "Feature"
           },
           {
            "bbox": [
             6.504134109097187,
             45.55572004934728,
             7.17197792153269,
             46.024826663152446
            ],
            "geometry": {
             "coordinates": [
              [
               [
                6.532877813541479,
                45.55572004934728
               ],
               [
                6.504134109097187,
                46.005623280024516
               ],
               [
                7.148517707465846,
                46.024826663152446
               ],
               [
                7.17197792153269,
                45.574740931513396
               ],
               [
                6.532877813541479,
                45.55572004934728
               ]
              ]
             ],
             "type": "Polygon"
            },
            "id": "11",
            "properties": {
             "dates_neg": "11-02-2019",
             "dates_pos": [],
             "grid_id": "50kmE4050N2500",
             "neg_cp": 1,
             "pos_cp": 0,
             "probs_neg": [
              0.11800000071525574
             ],
             "probs_pos": [],
             "species": "Bergente"
            },
            "type": "Feature"
           },
           {
            "bbox": [
             6.474763981639731,
             46.005623280024516,
             7.148517707465846,
             46.47478063046314
            ],
            "geometry": {
             "coordinates": [
              [
               [
                6.504134109097187,
                46.005623280024516
               ],
               [
                6.474763981639731,
                46.45539062852486
               ],
               [
                7.124545812172288,
                46.47478063046314
               ],
               [
                7.148517707465846,
                46.024826663152446
               ],
               [
                6.504134109097187,
                46.005623280024516
               ]
              ]
             ],
             "type": "Polygon"
            },
            "id": "12",
            "properties": {
             "dates_neg": "16-12-2019",
             "dates_pos": [],
             "grid_id": "50kmE4050N2550",
             "neg_cp": 1,
             "pos_cp": 0,
             "probs_neg": [
              0.20800000429153442
             ],
             "probs_pos": [],
             "species": "Bergente"
            },
            "type": "Feature"
           },
           {
            "bbox": [
             6.44474800307047,
             46.45539062852486,
             7.124545812172288,
             46.92460962800396
            ],
            "geometry": {
             "coordinates": [
              [
               [
                6.474763981639731,
                46.45539062852486
               ],
               [
                6.44474800307047,
                46.9050287598452
               ],
               [
                7.100046347295531,
                46.92460962800396
               ],
               [
                7.124545812172288,
                46.47478063046314
               ],
               [
                6.474763981639731,
                46.45539062852486
               ]
              ]
             ],
             "type": "Polygon"
            },
            "id": "13",
            "properties": {
             "dates_neg": "02-03-2021",
             "dates_pos": [],
             "grid_id": "50kmE4050N2600",
             "neg_cp": 1,
             "pos_cp": 0,
             "probs_neg": [
              0.40700000524520874
             ],
             "probs_pos": [],
             "species": "Bergente"
            },
            "type": "Feature"
           },
           {
            "bbox": [
             6.414065911585941,
             46.9050287598452,
             7.100046347295531,
             47.37432043315503
            ],
            "geometry": {
             "coordinates": [
              [
               [
                6.44474800307047,
                46.9050287598452
               ],
               [
                6.414065911585941,
                47.35454431624454
               ],
               [
                7.0750027416925745,
                47.37432043315503
               ],
               [
                7.100046347295531,
                46.92460962800396
               ],
               [
                6.44474800307047,
                46.9050287598452
               ]
              ]
             ],
             "type": "Polygon"
            },
            "id": "14",
            "properties": {
             "dates_neg": "19-01-2021",
             "dates_pos": [],
             "grid_id": "50kmE4050N2650",
             "neg_cp": 1,
             "pos_cp": 0,
             "probs_neg": [
              0.20100000500679016
             ],
             "probs_pos": [],
             "species": "Bergente"
            },
            "type": "Feature"
           },
           {
            "bbox": [
             6.382696566927923,
             47.35454431624454,
             7.0750027416925745,
             47.82391980648829
            ],
            "geometry": {
             "coordinates": [
              [
               [
                6.414065911585941,
                47.35454431624454
               ],
               [
                6.382696566927923,
                47.80394391731532
               ],
               [
                7.049397704718675,
                47.82391980648829
               ],
               [
                7.0750027416925745,
                47.37432043315503
               ],
               [
                6.414065911585941,
                47.35454431624454
               ]
              ]
             ],
             "type": "Polygon"
            },
            "id": "15",
            "properties": {
             "dates_neg": "08-06-2020",
             "dates_pos": [],
             "grid_id": "50kmE4050N2700",
             "neg_cp": 1,
             "pos_cp": 0,
             "probs_neg": [
              0.1120000034570694
             ],
             "probs_pos": [],
             "species": "Bergente"
            },
            "type": "Feature"
           },
           {
            "bbox": [
             6.284239411125867,
             48.702421618492984,
             6.996430339276242,
             49.172116695710706
            ],
            "geometry": {
             "coordinates": [
              [
               [
                6.317806875605944,
                48.702421618492984
               ],
               [
                6.284239411125867,
                49.151512844189114
               ],
               [
                6.969029466810232,
                49.172116695710706
               ],
               [
                6.996430339276242,
                48.72281121786176
               ],
               [
                6.317806875605944,
                48.702421618492984
               ]
              ]
             ],
             "type": "Polygon"
            },
            "id": "16",
            "properties": {
             "dates_neg": "06-10-2020",
             "dates_pos": [],
             "grid_id": "50kmE4050N2850",
             "neg_cp": 1,
             "pos_cp": 0,
             "probs_neg": [
              0.11999999731779099
             ],
             "probs_pos": [],
             "species": "Bergente"
            },
            "type": "Feature"
           },
           {
            "bbox": [
             6.249890345763067,
             49.151512844189114,
             6.969029466810232,
             49.62133762176975
            ],
            "geometry": {
             "coordinates": [
              [
               [
                6.284239411125867,
                49.151512844189114
               ],
               [
                6.249890345763067,
                49.60051436539798
               ],
               [
                6.940989982980571,
                49.62133762176975
               ],
               [
                6.969029466810232,
                49.172116695710706
               ],
               [
                6.284239411125867,
                49.151512844189114
               ]
              ]
             ],
             "type": "Polygon"
            },
            "id": "17",
            "properties": {
             "dates_neg": [],
             "dates_pos": "01-09-2020",
             "grid_id": "50kmE4050N2900",
             "neg_cp": 0,
             "pos_cp": 3,
             "probs_neg": [],
             "probs_pos": [
              0.9950000047683716,
              0.7720000147819519,
              0.7699999809265137
             ],
             "species": "Bergente"
            },
            "type": "Feature"
           },
           {
            "bbox": [
             6.2147333651716865,
             49.60051436539798,
             6.940989982980571,
             50.07048067650014
            ],
            "geometry": {
             "coordinates": [
              [
               [
                6.249890345763067,
                49.60051436539798
               ],
               [
                6.2147333651716865,
                50.049432687094125
               ],
               [
                6.9122903579819175,
                50.07048067650014
               ],
               [
                6.940989982980571,
                49.62133762176975
               ],
               [
                6.249890345763067,
                49.60051436539798
               ]
              ]
             ],
             "type": "Polygon"
            },
            "id": "18",
            "properties": {
             "dates_neg": "10-05-2022",
             "dates_pos": [],
             "grid_id": "50kmE4050N2950",
             "neg_cp": 1,
             "pos_cp": 0,
             "probs_neg": [
              0.11599999666213989
             ],
             "probs_pos": [],
             "species": "Bergente"
            },
            "type": "Feature"
           },
           {
            "bbox": [
             6.178740938087519,
             50.049432687094125,
             6.9122903579819175,
             50.51955252475898
            ],
            "geometry": {
             "coordinates": [
              [
               [
                6.2147333651716865,
                50.049432687094125
               ],
               [
                6.178740938087519,
                50.49827429053195
               ],
               [
                6.882908064672625,
                50.51955252475898
               ],
               [
                6.9122903579819175,
                50.07048067650014
               ],
               [
                6.2147333651716865,
                50.049432687094125
               ]
              ]
             ],
             "type": "Polygon"
            },
            "id": "19",
            "properties": {
             "dates_neg": "16-02-2021",
             "dates_pos": [],
             "grid_id": "50kmE4050N3000",
             "neg_cp": 1,
             "pos_cp": 0,
             "probs_neg": [
              0.11500000208616257
             ],
             "probs_pos": [],
             "species": "Bergente"
            },
            "type": "Feature"
           },
           {
            "bbox": [
             6.141884245635442,
             50.49827429053195,
             6.882908064672625,
             50.968559815798535
            ],
            "geometry": {
             "coordinates": [
              [
               [
                6.178740938087519,
                50.49827429053195
               ],
               [
                6.141884245635442,
                50.947045632773616
               ],
               [
                6.852819520516474,
                50.968559815798535
               ],
               [
                6.882908064672625,
                50.51955252475898
               ],
               [
                6.178740938087519,
                50.49827429053195
               ]
              ]
             ],
             "type": "Polygon"
            },
            "id": "20",
            "properties": {
             "dates_neg": "02-03-2021",
             "dates_pos": [],
             "grid_id": "50kmE4050N3050",
             "neg_cp": 3,
             "pos_cp": 0,
             "probs_neg": [
              0.8519999980926514,
              0.5659999847412109,
              0.5080000162124634
             ],
             "probs_pos": [],
             "species": "Bergente"
            },
            "type": "Feature"
           },
           {
            "bbox": [
             6.104133105645625,
             50.947045632773616,
             6.852819520516474,
             51.41750918319662
            ],
            "geometry": {
             "coordinates": [
              [
               [
                6.141884245635442,
                50.947045632773616
               ],
               [
                6.104133105645625,
                51.39575314611473
               ],
               [
                6.82200002541504,
                51.41750918319662
               ],
               [
                6.852819520516474,
                50.968559815798535
               ],
               [
                6.141884245635442,
                50.947045632773616
               ]
              ]
             ],
             "type": "Polygon"
            },
            "id": "21",
            "properties": {
             "dates_neg": [],
             "dates_pos": "09-07-2018",
             "grid_id": "50kmE4050N3100",
             "neg_cp": 0,
             "pos_cp": 1,
             "probs_neg": [],
             "probs_pos": [
              0.5320000052452087
             ],
             "species": "Bergente"
            },
            "type": "Feature"
           },
           {
            "bbox": [
             6.065455891563244,
             51.39575314611473,
             6.82200002541504,
             51.86640724471291
            ],
            "geometry": {
             "coordinates": [
              [
               [
                6.104133105645625,
                51.39575314611473
               ],
               [
                6.065455891563244,
                51.84440323740014
               ],
               [
                6.790423695087806,
                51.86640724471291
               ],
               [
                6.82200002541504,
                51.41750918319662
               ],
               [
                6.104133105645625,
                51.39575314611473
               ]
              ]
             ],
             "type": "Polygon"
            },
            "id": "22",
            "properties": {
             "dates_neg": [],
             "dates_pos": "21-12-2021",
             "grid_id": "50kmE4050N3150",
             "neg_cp": 0,
             "pos_cp": 4,
             "probs_neg": [],
             "probs_pos": [
              0.9580000042915344,
              0.9549999833106995,
              0.8700000047683716,
              0.7170000076293945
             ],
             "species": "Bergente"
            },
            "type": "Feature"
           },
           {
            "bbox": [
             6.025819445496514,
             51.84440323740014,
             6.790423695087806,
             52.31526060206531
            ],
            "geometry": {
             "coordinates": [
              [
               [
                6.065455891563244,
                51.84440323740014
               ],
               [
                6.025819445496514,
                52.293002287220716
               ],
               [
                6.758063389624033,
                52.31526060206531
               ],
               [
                6.790423695087806,
                51.86640724471291
               ],
               [
                6.065455891563244,
                51.84440323740014
               ]
              ]
             ],
             "type": "Polygon"
            },
            "id": "23",
            "properties": {
             "dates_neg": "08-12-2020",
             "dates_pos": [],
             "grid_id": "50kmE4050N3200",
             "neg_cp": 1,
             "pos_cp": 0,
             "probs_neg": [
              0.12099999934434891
             ],
             "probs_pos": [],
             "species": "Bergente"
            },
            "type": "Feature"
           },
           {
            "bbox": [
             5.985188984903533,
             52.293002287220716,
             6.758063389624033,
             52.764075840619874
            ],
            "geometry": {
             "coordinates": [
              [
               [
                6.025819445496514,
                52.293002287220716
               ],
               [
                5.985188984903533,
                52.741556648981295
               ],
               [
                6.724890636793732,
                52.764075840619874
               ],
               [
                6.758063389624033,
                52.31526060206531
               ],
               [
                6.025819445496514,
                52.293002287220716
               ]
              ]
             ],
             "type": "Polygon"
            },
            "id": "24",
            "properties": {
             "dates_neg": "24-11-2020",
             "dates_pos": [],
             "grid_id": "50kmE4050N3250",
             "neg_cp": 1,
             "pos_cp": 0,
             "probs_neg": [
              0.11800000071525574
             ],
             "probs_pos": [],
             "species": "Bergente"
            },
            "type": "Feature"
           },
           {
            "bbox": [
             5.900798157869414,
             53.19007264782961,
             6.690875549664229,
             53.661618218519415
            ],
            "geometry": {
             "coordinates": [
              [
               [
                5.943528002369289,
                53.19007264782961
               ],
               [
                5.900798157869414,
                53.63855657943358
               ],
               [
                6.65598673802355,
                53.661618218519415
               ],
               [
                6.690875549664229,
                53.21285952898756
               ],
               [
                5.943528002369289,
                53.19007264782961
               ]
              ]
             ],
             "type": "Polygon"
            },
            "id": "25",
            "properties": {
             "dates_neg": "30-11-2021",
             "dates_pos": [],
             "grid_id": "50kmE4050N3350",
             "neg_cp": 1,
             "pos_cp": 0,
             "probs_neg": [
              0.4519999921321869
             ],
             "probs_pos": [],
             "species": "Bergente"
            },
            "type": "Feature"
           },
           {
            "bbox": [
             5.856959162856438,
             53.63855657943358,
             6.65598673802355,
             54.110358442692295
            ],
            "geometry": {
             "coordinates": [
              [
               [
                5.900798157869414,
                53.63855657943358
               ],
               [
                5.856959162856438,
                54.087014708594744
               ],
               [
                6.620191213061184,
                54.110358442692295
               ],
               [
                6.65598673802355,
                53.661618218519415
               ],
               [
                5.900798157869414,
                53.63855657943358
               ]
              ]
             ],
             "type": "Polygon"
            },
            "id": "26",
            "properties": {
             "dates_neg": "22-04-2019",
             "dates_pos": [],
             "grid_id": "50kmE4050N3400",
             "neg_cp": 1,
             "pos_cp": 0,
             "probs_neg": [
              0.11400000005960464
             ],
             "probs_pos": [],
             "species": "Bergente"
            },
            "type": "Feature"
           },
           {
            "bbox": [
             5.811968655436324,
             54.087014708594744,
             6.620191213061184,
             54.55908671637455
            ],
            "geometry": {
             "coordinates": [
              [
               [
                5.856959162856438,
                54.087014708594744
               ],
               [
                5.811968655436324,
                54.53545326768263
               ],
               [
                6.583454284700534,
                54.55908671637455
               ],
               [
                6.620191213061184,
                54.110358442692295
               ],
               [
                5.856959162856438,
                54.087014708594744
               ]
              ]
             ],
             "type": "Polygon"
            },
            "id": "27",
            "properties": {
             "dates_neg": "23-09-2019",
             "dates_pos": [],
             "grid_id": "50kmE4050N3450",
             "neg_cp": 1,
             "pos_cp": 0,
             "probs_neg": [
              0.11500000208616257
             ],
             "probs_pos": [],
             "species": "Bergente"
            },
            "type": "Feature"
           },
           {
            "bbox": [
             5.718352471208469,
             54.98387845487468,
             6.545739450914322,
             55.45653337337241
            ],
            "geometry": {
             "coordinates": [
              [
               [
                5.765782065827332,
                54.98387845487468
               ],
               [
                5.718352471208469,
                55.432296432183634
               ],
               [
                6.507008278283883,
                55.45653337337241
               ],
               [
                6.545739450914322,
                55.0078095349621
               ],
               [
                5.765782065827332,
                54.98387845487468
               ]
              ]
             ],
             "type": "Polygon"
            },
            "id": "28",
            "properties": {
             "dates_neg": "30-03-2021",
             "dates_pos": [],
             "grid_id": "50kmE4050N3550",
             "neg_cp": 1,
             "pos_cp": 0,
             "probs_neg": [
              0.11900000274181366
             ],
             "probs_pos": [],
             "species": "Bergente"
            },
            "type": "Feature"
           },
           {
            "bbox": [
             7.148517707465846,
             45.574740931513396,
             7.811437649241108,
             46.04013165540312
            ],
            "geometry": {
             "coordinates": [
              [
               [
                7.17197792153269,
                45.574740931513396
               ],
               [
                7.148517707465846,
                46.024826663152446
               ],
               [
                7.793272966283078,
                46.04013165540312
               ],
               [
                7.811437649241108,
                45.58990035566735
               ],
               [
                7.17197792153269,
                45.574740931513396
               ]
              ]
             ],
             "type": "Polygon"
            },
            "id": "29",
            "properties": {
             "dates_neg": "23-12-2019",
             "dates_pos": [],
             "grid_id": "50kmE4100N2500",
             "neg_cp": 1,
             "pos_cp": 0,
             "probs_neg": [
              0.11299999803304672
             ],
             "probs_pos": [],
             "species": "Bergente"
            },
            "type": "Feature"
           },
           {
            "bbox": [
             7.124545812172288,
             46.024826663152446,
             7.793272966283078,
             46.49023447867831
            ],
            "geometry": {
             "coordinates": [
              [
               [
                7.148517707465846,
                46.024826663152446
               ],
               [
                7.124545812172288,
                46.47478063046314
               ],
               [
                7.774711851520301,
                46.49023447867831
               ],
               [
                7.793272966283078,
                46.04013165540312
               ],
               [
                7.148517707465846,
                46.024826663152446
               ]
              ]
             ],
             "type": "Polygon"
            },
            "id": "30",
            "properties": {
             "dates_neg": "24-08-2021",
             "dates_pos": [],
             "grid_id": "50kmE4100N2550",
             "neg_cp": 1,
             "pos_cp": 0,
             "probs_neg": [
              0.11400000005960464
             ],
             "probs_pos": [],
             "species": "Bergente"
            },
            "type": "Feature"
           },
           {
            "bbox": [
             7.100046347295531,
             46.47478063046314,
             7.774711851520301,
             46.940215723658554
            ],
            "geometry": {
             "coordinates": [
              [
               [
                7.124545812172288,
                46.47478063046314
               ],
               [
                7.100046347295531,
                46.92460962800396
               ],
               [
                7.75574198355447,
                46.940215723658554
               ],
               [
                7.774711851520301,
                46.49023447867831
               ],
               [
                7.124545812172288,
                46.47478063046314
               ]
              ]
             ],
             "type": "Polygon"
            },
            "id": "31",
            "properties": {
             "dates_neg": [],
             "dates_pos": "16-11-2021",
             "grid_id": "50kmE4100N2600",
             "neg_cp": 0,
             "pos_cp": 1,
             "probs_neg": [],
             "probs_pos": [
              0.23399999737739563
             ],
             "species": "Bergente"
            },
            "type": "Feature"
           },
           {
            "bbox": [
             7.0750027416925745,
             46.92460962800396,
             7.75574198355447,
             47.39008227578561
            ],
            "geometry": {
             "coordinates": [
              [
               [
                7.100046347295531,
                46.92460962800396
               ],
               [
                7.0750027416925745,
                47.37432043315503
               ],
               [
                7.736350510880769,
                47.39008227578561
               ],
               [
                7.75574198355447,
                46.940215723658554
               ],
               [
                7.100046347295531,
                46.92460962800396
               ]
              ]
             ],
             "type": "Polygon"
            },
            "id": "32",
            "properties": {
             "dates_neg": "28-01-2019",
             "dates_pos": [],
             "grid_id": "50kmE4100N2650",
             "neg_cp": 1,
             "pos_cp": 0,
             "probs_neg": [
              0.20399999618530273
             ],
             "probs_pos": [],
             "species": "Bergente"
            },
            "type": "Feature"
           },
           {
            "bbox": [
             7.049397704718675,
             47.37432043315503,
             7.736350510880769,
             47.83984100838725
            ],
            "geometry": {
             "coordinates": [
              [
               [
                7.0750027416925745,
                47.37432043315503
               ],
               [
                7.049397704718675,
                47.82391980648829
               ],
               [
                7.716524023341792,
                47.83984100838725
               ],
               [
                7.736350510880769,
                47.39008227578561
               ],
               [
                7.0750027416925745,
                47.37432043315503
               ]
              ]
             ],
             "type": "Polygon"
            },
            "id": "33",
            "properties": {
             "dates_neg": [],
             "dates_pos": "11-01-2022",
             "grid_id": "50kmE4100N2700",
             "neg_cp": 0,
             "pos_cp": 1,
             "probs_neg": [],
             "probs_pos": [
              0.3540000021457672
             ],
             "species": "Bergente"
            },
            "type": "Feature"
           },
           {
            "bbox": [
             7.023213187109591,
             47.82391980648829,
             7.716524023341792,
             48.289498783259496
            ],
            "geometry": {
             "coordinates": [
              [
               [
                7.049397704718675,
                47.82391980648829
               ],
               [
                7.023213187109591,
                48.273414492094105
               ],
               [
                7.696248521710374,
                48.289498783259496
               ],
               [
                7.716524023341792,
                47.83984100838725
               ],
               [
                7.049397704718675,
                47.82391980648829
               ]
              ]
             ],
             "type": "Polygon"
            },
            "id": "34",
            "properties": {
             "dates_neg": "07-12-2021",
             "dates_pos": [],
             "grid_id": "50kmE4100N2750",
             "neg_cp": 2,
             "pos_cp": 0,
             "probs_neg": [
              0.6539999842643738,
              0.13699999451637268
             ],
             "probs_pos": [],
             "species": "Bergente"
            },
            "type": "Feature"
           },
           {
            "bbox": [
             6.996430339276242,
             48.273414492094105,
             7.696248521710374,
             48.73906245121938
            ],
            "geometry": {
             "coordinates": [
              [
               [
                7.023213187109591,
                48.273414492094105
               ],
               [
                6.996430339276242,
                48.72281121786176
               ],
               [
                7.675509385256852,
                48.73906245121938
               ],
               [
                7.696248521710374,
                48.289498783259496
               ],
               [
                7.023213187109591,
                48.273414492094105
               ]
              ]
             ],
             "type": "Polygon"
            },
            "id": "35",
            "properties": {
             "dates_neg": "12-01-2021",
             "dates_pos": [],
             "grid_id": "50kmE4100N2800",
             "neg_cp": 1,
             "pos_cp": 0,
             "probs_neg": [
              0.11500000208616257
             ],
             "probs_pos": [],
             "species": "Bergente"
            },
            "type": "Feature"
           },
           {
            "bbox": [
             6.969029466810232,
             48.72281121786176,
             7.675509385256852,
             49.188538852627005
            ],
            "geometry": {
             "coordinates": [
              [
               [
                6.996430339276242,
                48.72281121786176
               ],
               [
                6.969029466810232,
                49.172116695710706
               ],
               [
                7.654291337143541,
                49.188538852627005
               ],
               [
                7.675509385256852,
                48.73906245121938
               ],
               [
                6.996430339276242,
                48.72281121786176
               ]
              ]
             ],
             "type": "Polygon"
            },
            "id": "36",
            "properties": {
             "dates_neg": "23-03-2021",
             "dates_pos": [],
             "grid_id": "50kmE4100N2850",
             "neg_cp": 1,
             "pos_cp": 0,
             "probs_neg": [
              0.11599999666213989
             ],
             "probs_pos": [],
             "species": "Bergente"
            },
            "type": "Feature"
           },
           {
            "bbox": [
             6.940989982980571,
             49.172116695710706,
             7.654291337143541,
             49.63793481787473
            ],
            "geometry": {
             "coordinates": [
              [
               [
                6.969029466810232,
                49.172116695710706
               ],
               [
                6.940989982980571,
                49.62133762176975
               ],
               [
                7.632578407474879,
                49.63793481787473
               ],
               [
                7.654291337143541,
                49.188538852627005
               ],
               [
                6.969029466810232,
                49.172116695710706
               ]
              ]
             ],
             "type": "Polygon"
            },
            "id": "37",
            "properties": {
             "dates_neg": "08-12-2020",
             "dates_pos": [],
             "grid_id": "50kmE4100N2900",
             "neg_cp": 1,
             "pos_cp": 0,
             "probs_neg": [
              0.11599999666213989
             ],
             "probs_pos": [],
             "species": "Bergente"
            },
            "type": "Feature"
           },
           {
            "bbox": [
             6.9122903579819175,
             49.62133762176975,
             7.632578407474879,
             50.08725716784181
            ],
            "geometry": {
             "coordinates": [
              [
               [
                6.940989982980571,
                49.62133762176975
               ],
               [
                6.9122903579819175,
                50.07048067650014
               ],
               [
                7.610353893816139,
                50.08725716784181
               ],
               [
                7.632578407474879,
                49.63793481787473
               ],
               [
                6.940989982980571,
                49.62133762176975
               ]
              ]
             ],
             "type": "Polygon"
            },
            "id": "38",
            "properties": {
             "dates_neg": "05-01-2021",
             "dates_pos": [],
             "grid_id": "50kmE4100N2950",
             "neg_cp": 1,
             "pos_cp": 0,
             "probs_neg": [
              0.11699999868869781
             ],
             "probs_pos": [],
             "species": "Bergente"
            },
            "type": "Feature"
           },
           {
            "bbox": [
             6.882908064672625,
             50.07048067650014,
             7.610353893816139,
             50.53651271431218
            ],
            "geometry": {
             "coordinates": [
              [
               [
                6.9122903579819175,
                50.07048067650014
               ],
               [
                6.882908064672625,
                50.51955252475898
               ],
               [
                7.587600318976294,
                50.53651271431218
               ],
               [
                7.610353893816139,
                50.08725716784181
               ],
               [
                6.9122903579819175,
                50.07048067650014
               ]
              ]
             ],
             "type": "Polygon"
            },
            "id": "39",
            "properties": {
             "dates_neg": [],
             "dates_pos": "15-12-2020",
             "grid_id": "50kmE4100N3000",
             "neg_cp": 0,
             "pos_cp": 1,
             "probs_neg": [],
             "probs_pos": [
              0.20200000703334808
             ],
             "species": "Bergente"
            },
            "type": "Feature"
           },
           {
            "bbox": [
             6.852819520516474,
             50.51955252475898,
             7.587600318976294,
             50.985708260352766
            ],
            "geometry": {
             "coordinates": [
              [
               [
                6.882908064672625,
                50.51955252475898
               ],
               [
                6.852819520516474,
                50.968559815798535
               ],
               [
                7.564299385831565,
                50.985708260352766
               ],
               [
                7.587600318976294,
                50.53651271431218
               ],
               [
                6.882908064672625,
                50.51955252475898
               ]
              ]
             ],
             "type": "Polygon"
            },
            "id": "40",
            "properties": {
             "dates_neg": "10-02-2020",
             "dates_pos": [],
             "grid_id": "50kmE4100N3050",
             "neg_cp": 1,
             "pos_cp": 0,
             "probs_neg": [
              0.21799999475479126
             ],
             "probs_pos": [],
             "species": "Bergente"
            },
            "type": "Feature"
           },
           {
            "bbox": [
             6.82200002541504,
             50.968559815798535,
             7.564299385831565,
             51.434850600649796
            ],
            "geometry": {
             "coordinates": [
              [
               [
                6.852819520516474,
                50.968559815798535
               ],
               [
                6.82200002541504,
                51.41750918319662
               ],
               [
                7.540431928945065,
                51.434850600649796
               ],
               [
                7.564299385831565,
                50.985708260352766
               ],
               [
                6.852819520516474,
                50.968559815798535
               ]
              ]
             ],
             "type": "Polygon"
            },
            "id": "41",
            "properties": {
             "dates_neg": [],
             "dates_pos": "22-12-2020",
             "grid_id": "50kmE4100N3100",
             "neg_cp": 0,
             "pos_cp": 1,
             "probs_neg": [],
             "probs_pos": [
              0.1860000044107437
             ],
             "species": "Bergente"
            },
            "type": "Feature"
           },
           {
            "bbox": [
             6.790423695087806,
             51.41750918319662,
             7.540431928945065,
             51.88394652180013
            ],
            "geometry": {
             "coordinates": [
              [
               [
                6.82200002541504,
                51.41750918319662
               ],
               [
                6.790423695087806,
                51.86640724471291
               ],
               [
                7.515977862714568,
                51.88394652180013
               ],
               [
                7.540431928945065,
                51.434850600649796
               ],
               [
                6.82200002541504,
                51.41750918319662
               ]
              ]
             ],
             "type": "Polygon"
            },
            "id": "42",
            "properties": {
             "dates_neg": [],
             "dates_pos": "28-12-2021",
             "grid_id": "50kmE4100N3150",
             "neg_cp": 0,
             "pos_cp": 1,
             "probs_neg": [],
             "probs_pos": [
              0.8610000014305115
             ],
             "species": "Bergente"
            },
            "type": "Feature"
           },
           {
            "bbox": [
             6.758063389624033,
             51.86640724471291,
             7.515977862714568,
             52.333002802553914
            ],
            "geometry": {
             "coordinates": [
              [
               [
                6.790423695087806,
                51.86640724471291
               ],
               [
                6.758063389624033,
                52.31526060206531
               ],
               [
                7.490916125754547,
                52.333002802553914
               ],
               [
                7.515977862714568,
                51.88394652180013
               ],
               [
                6.790423695087806,
                51.86640724471291
               ]
              ]
             ],
             "type": "Polygon"
            },
            "id": "43",
            "properties": {
             "dates_neg": "09-09-2019",
             "dates_pos": [],
             "grid_id": "50kmE4100N3200",
             "neg_cp": 3,
             "pos_cp": 0,
             "probs_neg": [
              0.7250000238418579,
              0.6349999904632568,
              0.34299999475479126
             ],
             "probs_pos": [],
             "species": "Bergente"
            },
            "type": "Feature"
           },
           {
            "bbox": [
             6.724890636793732,
             52.31526060206531,
             7.490916125754547,
             52.78202621400537
            ],
            "geometry": {
             "coordinates": [
              [
               [
                6.758063389624033,
                52.31526060206531
               ],
               [
                6.724890636793732,
                52.764075840619874
               ],
               [
                7.465224621189807,
                52.78202621400537
               ],
               [
                7.490916125754547,
                52.333002802553914
               ],
               [
                6.758063389624033,
                52.31526060206531
               ]
              ]
             ],
             "type": "Polygon"
            },
            "id": "44",
            "properties": {
             "dates_neg": "07-01-2019",
             "dates_pos": [],
             "grid_id": "50kmE4100N3250",
             "neg_cp": 1,
             "pos_cp": 0,
             "probs_neg": [
              0.20200000703334808
             ],
             "probs_pos": [],
             "species": "Bergente"
            },
            "type": "Feature"
           },
           {
            "bbox": [
             6.690875549664229,
             52.764075840619874,
             7.465224621189807,
             53.23102351972704
            ],
            "geometry": {
             "coordinates": [
              [
               [
                6.724890636793732,
                52.764075840619874
               ],
               [
                6.690875549664229,
                53.21285952898756
               ],
               [
                7.43888015250612,
                53.23102351972704
               ],
               [
                7.465224621189807,
                52.78202621400537
               ],
               [
                6.724890636793732,
                52.764075840619874
               ]
              ]
             ],
             "type": "Polygon"
            },
            "id": "45",
            "properties": {
             "dates_neg": "08-07-2019",
             "dates_pos": [],
             "grid_id": "50kmE4100N3300",
             "neg_cp": 1,
             "pos_cp": 0,
             "probs_neg": [
              0.11500000208616257
             ],
             "probs_pos": [],
             "species": "Bergente"
            },
            "type": "Feature"
           },
           {
            "bbox": [
             6.65598673802355,
             53.21285952898756,
             7.43888015250612,
             53.680001475843305
            ],
            "geometry": {
             "coordinates": [
              [
               [
                6.690875549664229,
                53.21285952898756
               ],
               [
                6.65598673802355,
                53.661618218519415
               ],
               [
                7.411858354567622,
                53.680001475843305
               ],
               [
                7.43888015250612,
                53.23102351972704
               ],
               [
                6.690875549664229,
                53.21285952898756
               ]
              ]
             ],
             "type": "Polygon"
            },
            "id": "46",
            "properties": {
             "dates_neg": [],
             "dates_pos": "05-10-2021",
             "grid_id": "50kmE4100N3350",
             "neg_cp": 0,
             "pos_cp": 1,
             "probs_neg": [],
             "probs_pos": [
              0.2460000067949295
             ],
             "species": "Bergente"
            },
            "type": "Feature"
           },
           {
            "bbox": [
             6.620191213061184,
             53.661618218519415,
             7.411858354567622,
             54.128966831038035
            ],
            "geometry": {
             "coordinates": [
              [
               [
                6.65598673802355,
                53.661618218519415
               ],
               [
                6.620191213061184,
                54.110358442692295
               ],
               [
                7.384133619371156,
                54.128966831038035
               ],
               [
                7.411858354567622,
                53.680001475843305
               ],
               [
                6.65598673802355,
                53.661618218519415
               ]
              ]
             ],
             "type": "Polygon"
            },
            "id": "47",
            "properties": {
             "dates_neg": [],
             "dates_pos": "20-10-2020",
             "grid_id": "50kmE4100N3400",
             "neg_cp": 0,
             "pos_cp": 1,
             "probs_neg": [],
             "probs_pos": [
              0.16500000655651093
             ],
             "species": "Bergente"
            },
            "type": "Feature"
           },
           {
            "bbox": [
             6.545739450914322,
             54.55908671637455,
             7.355679016063438,
             55.02688669573351
            ],
            "geometry": {
             "coordinates": [
              [
               [
                6.583454284700534,
                54.55908671637455
               ],
               [
                6.545739450914322,
                55.0078095349621
               ],
               [
                7.326466204697555,
                55.02688669573351
               ],
               [
                7.355679016063438,
                54.57792632649046
               ],
               [
                6.583454284700534,
                54.55908671637455
               ]
              ]
             ],
             "type": "Polygon"
            },
            "id": "48",
            "properties": {
             "dates_neg": "14-07-2020",
             "dates_pos": [],
             "grid_id": "50kmE4100N3500",
             "neg_cp": 1,
             "pos_cp": 0,
             "probs_neg": [
              0.11400000005960464
             ],
             "probs_pos": [],
             "species": "Bergente"
            },
            "type": "Feature"
           },
           {
            "bbox": [
             7.793272966283078,
             45.58990035566735,
             8.451176018047393,
             46.05153504541659
            ],
            "geometry": {
             "coordinates": [
              [
               [
                7.811437649241108,
                45.58990035566735
               ],
               [
                7.793272966283078,
                46.04013165540312
               ],
               [
                8.438316202995853,
                46.05153504541659
               ],
               [
                8.451176018047393,
                45.60119521945546
               ],
               [
                7.811437649241108,
                45.58990035566735
               ]
              ]
             ],
             "type": "Polygon"
            },
            "id": "49",
            "properties": {
             "dates_neg": "25-08-2020",
             "dates_pos": [],
             "grid_id": "50kmE4150N2500",
             "neg_cp": 1,
             "pos_cp": 0,
             "probs_neg": [
              0.11400000005960464
             ],
             "probs_pos": [],
             "species": "Bergente"
            },
            "type": "Feature"
           },
           {
            "bbox": [
             7.774711851520301,
             46.04013165540312,
             8.438316202995853,
             46.501748848076275
            ],
            "geometry": {
             "coordinates": [
              [
               [
                7.793272966283078,
                46.04013165540312
               ],
               [
                7.774711851520301,
                46.49023447867831
               ],
               [
                8.425175599651874,
                46.501748848076275
               ],
               [
                8.438316202995853,
                46.05153504541659
               ],
               [
                7.793272966283078,
                46.04013165540312
               ]
              ]
             ],
             "type": "Polygon"
            },
            "id": "50",
            "properties": {
             "dates_neg": "10-09-2018",
             "dates_pos": [],
             "grid_id": "50kmE4150N2550",
             "neg_cp": 1,
             "pos_cp": 0,
             "probs_neg": [
              0.11599999666213989
             ],
             "probs_pos": [],
             "species": "Bergente"
            },
            "type": "Feature"
           },
           {
            "bbox": [
             7.75574198355447,
             46.49023447867831,
             8.425175599651874,
             46.95184360299633
            ],
            "geometry": {
             "coordinates": [
              [
               [
                7.774711851520301,
                46.49023447867831
               ],
               [
                7.75574198355447,
                46.940215723658554
               ],
               [
                8.411745474732808,
                46.95184360299633
               ],
               [
                8.425175599651874,
                46.501748848076275
               ],
               [
                7.774711851520301,
                46.49023447867831
               ]
              ]
             ],
             "type": "Polygon"
            },
            "id": "51",
            "properties": {
             "dates_neg": "11-11-2019",
             "dates_pos": [],
             "grid_id": "50kmE4150N2600",
             "neg_cp": 1,
             "pos_cp": 0,
             "probs_neg": [
              0.3009999990463257
             ],
             "probs_pos": [],
             "species": "Bergente"
            },
            "type": "Feature"
           },
           {
            "bbox": [
             7.736350510880769,
             46.940215723658554,
             8.411745474732808,
             47.401826276347066
            ],
            "geometry": {
             "coordinates": [
              [
               [
                7.75574198355447,
                46.940215723658554
               ],
               [
                7.736350510880769,
                47.39008227578561
               ],
               [
                8.398016718901296,
                47.401826276347066
               ],
               [
                8.411745474732808,
                46.95184360299633
               ],
               [
                7.75574198355447,
                46.940215723658554
               ]
              ]
             ],
             "type": "Polygon"
            },
            "id": "52",
            "properties": {
             "dates_neg": [],
             "dates_pos": [],
             "grid_id": "50kmE4150N2650",
             "neg_cp": 0,
             "pos_cp": 0,
             "probs_neg": [],
             "probs_pos": [],
             "species": "Bergente"
            },
            "type": "Feature"
           },
           {
            "bbox": [
             7.716524023341792,
             47.39008227578561,
             8.398016718901296,
             47.85170382569705
            ],
            "geometry": {
             "coordinates": [
              [
               [
                7.736350510880769,
                47.39008227578561
               ],
               [
                7.716524023341792,
                47.83984100838725
               ],
               [
                8.383979826493244,
                47.85170382569705
               ],
               [
                8.398016718901296,
                47.401826276347066
               ],
               [
                7.736350510880769,
                47.39008227578561
               ]
              ]
             ],
             "type": "Polygon"
            },
            "id": "53",
            "properties": {
             "dates_neg": "28-10-2019",
             "dates_pos": [],
             "grid_id": "50kmE4150N2700",
             "neg_cp": 1,
             "pos_cp": 0,
             "probs_neg": [
              0.33000001311302185
             ],
             "probs_pos": [],
             "species": "Bergente"
            },
            "type": "Feature"
           },
           {
            "bbox": [
             7.696248521710374,
             47.83984100838725,
             8.383979826493244,
             48.301483200786855
            ],
            "geometry": {
             "coordinates": [
              [
               [
                7.716524023341792,
                47.83984100838725
               ],
               [
                7.696248521710374,
                48.289498783259496
               ],
               [
                8.369624873915331,
                48.301483200786855
               ],
               [
                8.383979826493244,
                47.85170382569705
               ],
               [
                7.716524023341792,
                47.83984100838725
               ]
              ]
             ],
             "type": "Polygon"
            },
            "id": "54",
            "properties": {
             "dates_neg": "21-10-2019",
             "dates_pos": [],
             "grid_id": "50kmE4150N2750",
             "neg_cp": 1,
             "pos_cp": 0,
             "probs_neg": [
              0.11400000005960464
             ],
             "probs_pos": [],
             "species": "Bergente"
            },
            "type": "Feature"
           },
           {
            "bbox": [
             7.675509385256852,
             48.289498783259496,
             8.369624873915331,
             48.751171344286014
            ],
            "geometry": {
             "coordinates": [
              [
               [
                7.696248521710374,
                48.289498783259496
               ],
               [
                7.675509385256852,
                48.73906245121938
               ],
               [
                8.354941496609259,
                48.751171344286014
               ],
               [
                8.369624873915331,
                48.301483200786855
               ],
               [
                7.696248521710374,
                48.289498783259496
               ]
              ]
             ],
             "type": "Polygon"
            },
            "id": "55",
            "properties": {
             "dates_neg": [],
             "dates_pos": "05-01-2021",
             "grid_id": "50kmE4150N2800",
             "neg_cp": 0,
             "pos_cp": 1,
             "probs_neg": [],
             "probs_pos": [
              0.17100000381469727
             ],
             "species": "Bergente"
            },
            "type": "Feature"
           },
           {
            "bbox": [
             7.654291337143541,
             48.73906245121938,
             8.354941496609259,
             49.20077519253294
            ],
            "geometry": {
             "coordinates": [
              [
               [
                7.675509385256852,
                48.73906245121938
               ],
               [
                7.654291337143541,
                49.188538852627005
               ],
               [
                8.339918864470704,
                49.20077519253294
               ],
               [
                8.354941496609259,
                48.751171344286014
               ],
               [
                7.675509385256852,
                48.73906245121938
               ]
              ]
             ],
             "type": "Polygon"
            },
            "id": "56",
            "properties": {
             "dates_neg": [],
             "dates_pos": "09-02-2021",
             "grid_id": "50kmE4150N2850",
             "neg_cp": 0,
             "pos_cp": 3,
             "probs_neg": [],
             "probs_pos": [
              0.9980000257492065,
              0.9850000143051147,
              0.8109999895095825
             ],
             "species": "Bergente"
            },
            "type": "Feature"
           },
           {
            "bbox": [
             7.632578407474879,
             49.188538852627005,
             8.339918864470704,
             49.65030167625689
            ],
            "geometry": {
             "coordinates": [
              [
               [
                7.654291337143541,
                49.188538852627005
               ],
               [
                7.632578407474879,
                49.63793481787473
               ],
               [
                8.32454565560083,
                49.65030167625689
               ],
               [
                8.339918864470704,
                49.20077519253294
               ],
               [
                7.654291337143541,
                49.188538852627005
               ]
              ]
             ],
             "type": "Polygon"
            },
            "id": "57",
            "properties": {
             "dates_neg": "13-04-2020",
             "dates_pos": [],
             "grid_id": "50kmE4150N2900",
             "neg_cp": 1,
             "pos_cp": 0,
             "probs_neg": [
              0.1120000034570694
             ],
             "probs_pos": [],
             "species": "Bergente"
            },
            "type": "Feature"
           },
           {
            "bbox": [
             7.610353893816139,
             49.63793481787473,
             8.32454565560083,
             50.09975772128108
            ],
            "geometry": {
             "coordinates": [
              [
               [
                7.632578407474879,
                49.63793481787473
               ],
               [
                7.610353893816139,
                50.08725716784181
               ],
               [
                8.308810028257028,
                50.09975772128108
               ],
               [
                8.32454565560083,
                49.65030167625689
               ],
               [
                7.632578407474879,
                49.63793481787473
               ]
              ]
             ],
             "type": "Polygon"
            },
            "id": "58",
            "properties": {
             "dates_neg": "18-01-2022",
             "dates_pos": [],
             "grid_id": "50kmE4150N2950",
             "neg_cp": 2,
             "pos_cp": 0,
             "probs_neg": [
              0.5370000004768372,
              0.5270000100135803
             ],
             "probs_pos": [],
             "species": "Bergente"
            },
            "type": "Feature"
           },
           {
            "bbox": [
             7.587600318976294,
             50.08725716784181,
             8.308810028257028,
             50.549150249206306
            ],
            "geometry": {
             "coordinates": [
              [
               [
                7.610353893816139,
                50.08725716784181
               ],
               [
                7.587600318976294,
                50.53651271431218
               ],
               [
                8.292699590857294,
                50.549150249206306
               ],
               [
                8.308810028257028,
                50.09975772128108
               ],
               [
                7.610353893816139,
                50.08725716784181
               ]
              ]
             ],
             "type": "Polygon"
            },
            "id": "59",
            "properties": {
             "dates_neg": "15-07-2019",
             "dates_pos": [],
             "grid_id": "50kmE4150N3000",
             "neg_cp": 1,
             "pos_cp": 0,
             "probs_neg": [
              0.11699999868869781
             ],
             "probs_pos": [],
             "species": "Bergente"
            },
            "type": "Feature"
           },
           {
            "bbox": [
             7.564299385831565,
             50.53651271431218,
             8.292699590857294,
             50.998486178073684
            ],
            "geometry": {
             "coordinates": [
              [
               [
                7.587600318976294,
                50.53651271431218
               ],
               [
                7.564299385831565,
                50.985708260352766
               ],
               [
                8.276201369878942,
                50.998486178073684
               ],
               [
                8.292699590857294,
                50.549150249206306
               ],
               [
                7.587600318976294,
                50.53651271431218
               ]
              ]
             ],
             "type": "Polygon"
            },
            "id": "60",
            "properties": {
             "dates_neg": [],
             "dates_pos": [],
             "grid_id": "50kmE4150N3050",
             "neg_cp": 0,
             "pos_cp": 0,
             "probs_neg": [],
             "probs_pos": [],
             "species": "Bergente"
            },
            "type": "Feature"
           },
           {
            "bbox": [
             7.540431928945065,
             50.985708260352766,
             8.276201369878942,
             51.4477724230056
            ],
            "geometry": {
             "coordinates": [
              [
               [
                7.564299385831565,
                50.985708260352766
               ],
               [
                7.540431928945065,
                51.434850600649796
               ],
               [
                8.259301775477372,
                51.4477724230056
               ],
               [
                8.276201369878942,
                50.998486178073684
               ],
               [
                7.564299385831565,
                50.985708260352766
               ]
              ]
             ],
             "type": "Polygon"
            },
            "id": "61",
            "properties": {
             "dates_neg": "24-12-2018",
             "dates_pos": [],
             "grid_id": "50kmE4150N3100",
             "neg_cp": 1,
             "pos_cp": 0,
             "probs_neg": [
              0.23000000417232513
             ],
             "probs_pos": [],
             "species": "Bergente"
            },
            "type": "Feature"
           },
           {
            "bbox": [
             7.515977862714568,
             51.434850600649796,
             8.259301775477372,
             51.8970158968234
            ],
            "geometry": {
             "coordinates": [
              [
               [
                7.540431928945065,
                51.434850600649796
               ],
               [
                7.515977862714568,
                51.88394652180013
               ],
               [
                8.241986564633853,
                51.8970158968234
               ],
               [
                8.259301775477372,
                51.4477724230056
               ],
               [
                7.540431928945065,
                51.434850600649796
               ]
              ]
             ],
             "type": "Polygon"
            },
            "id": "62",
            "properties": {
             "dates_neg": "27-01-2020",
             "dates_pos": [],
             "grid_id": "50kmE4150N3150",
             "neg_cp": 1,
             "pos_cp": 0,
             "probs_neg": [
              0.2290000021457672
             ],
             "probs_pos": [],
             "species": "Bergente"
            },
            "type": "Feature"
           },
           {
            "bbox": [
             7.490916125754547,
             51.88394652180013,
             8.241986564633853,
             52.34622351064028
            ],
            "geometry": {
             "coordinates": [
              [
               [
                7.515977862714568,
                51.88394652180013
               ],
               [
                7.490916125754547,
                52.333002802553914
               ],
               [
                8.224240801622818,
                52.34622351064028
               ],
               [
                8.241986564633853,
                51.8970158968234
               ],
               [
                7.515977862714568,
                51.88394652180013
               ]
              ]
             ],
             "type": "Polygon"
            },
            "id": "63",
            "properties": {
             "dates_neg": "23-02-2021",
             "dates_pos": "11-02-2019",
             "grid_id": "50kmE4150N3200",
             "neg_cp": 3,
             "pos_cp": 1,
             "probs_neg": [
              0.621999979019165,
              0.4830000102519989,
              0.028999999165534973
             ],
             "probs_pos": [
              0.8410000205039978
             ],
             "species": "Bergente"
            },
            "type": "Feature"
           },
           {
            "bbox": [
             7.465224621189807,
             52.333002802553914,
             8.224240801622818,
             52.79540217442788
            ],
            "geometry": {
             "coordinates": [
              [
               [
                7.490916125754547,
                52.333002802553914
               ],
               [
                7.465224621189807,
                52.78202621400537
               ],
               [
                8.206048815568566,
                52.79540217442788
               ],
               [
                8.224240801622818,
                52.34622351064028
               ],
               [
                7.490916125754547,
                52.333002802553914
               ]
              ]
             ],
             "type": "Polygon"
            },
            "id": "64",
            "properties": {
             "dates_neg": [],
             "dates_pos": "05-10-2021",
             "grid_id": "50kmE4150N3250",
             "neg_cp": 0,
             "pos_cp": 1,
             "probs_neg": [],
             "probs_pos": [
              0.25699999928474426
             ],
             "species": "Bergente"
            },
            "type": "Feature"
           },
           {
            "bbox": [
             7.43888015250612,
             52.78202621400537,
             8.206048815568566,
             53.244558797554404
            ],
            "geometry": {
             "coordinates": [
              [
               [
                7.465224621189807,
                52.78202621400537
               ],
               [
                7.43888015250612,
                53.23102351972704
               ],
               [
                8.187394154838481,
                53.244558797554404
               ],
               [
                8.206048815568566,
                52.79540217442788
               ],
               [
                7.465224621189807,
                52.78202621400537
               ]
              ]
             ],
             "type": "Polygon"
            },
            "id": "65",
            "properties": {
             "dates_neg": [],
             "dates_pos": [],
             "grid_id": "50kmE4150N3300",
             "neg_cp": 0,
             "pos_cp": 0,
             "probs_neg": [],
             "probs_pos": [],
             "species": "Bergente"
            },
            "type": "Feature"
           },
           {
            "bbox": [
             7.411858354567622,
             53.23102351972704,
             8.187394154838481,
             53.693700289292444
            ],
            "geometry": {
             "coordinates": [
              [
               [
                7.43888015250612,
                53.23102351972704
               ],
               [
                7.411858354567622,
                53.680001475843305
               ],
               [
                8.168259537994377,
                53.693700289292444
               ],
               [
                8.187394154838481,
                53.244558797554404
               ],
               [
                7.43888015250612,
                53.23102351972704
               ]
              ]
             ],
             "type": "Polygon"
            },
            "id": "66",
            "properties": {
             "dates_neg": [],
             "dates_pos": "03-11-2020",
             "grid_id": "50kmE4150N3350",
             "neg_cp": 0,
             "pos_cp": 1,
             "probs_neg": [],
             "probs_pos": [
              0.15299999713897705
             ],
             "species": "Bergente"
            },
            "type": "Feature"
           },
           {
            "bbox": [
             7.384133619371156,
             53.680001475843305,
             8.168259537994377,
             54.142833559293834
            ],
            "geometry": {
             "coordinates": [
              [
               [
                7.411858354567622,
                53.680001475843305
               ],
               [
                7.384133619371156,
                54.128966831038035
               ],
               [
                8.148626800995276,
                54.142833559293834
               ],
               [
                8.168259537994377,
                53.693700289292444
               ],
               [
                7.411858354567622,
                53.680001475843305
               ]
              ]
             ],
             "type": "Polygon"
            },
            "id": "67",
            "properties": {
             "dates_neg": [],
             "dates_pos": "29-09-2020",
             "grid_id": "50kmE4150N3400",
             "neg_cp": 0,
             "pos_cp": 1,
             "probs_neg": [],
             "probs_pos": [
              0.15800000727176666
             ],
             "species": "Bergente"
            },
            "type": "Feature"
           },
           {
            "bbox": [
             7.355679016063438,
             54.128966831038035,
             8.148626800995276,
             54.59196551802927
            ],
            "geometry": {
             "coordinates": [
              [
               [
                7.384133619371156,
                54.128966831038035
               ],
               [
                7.355679016063438,
                54.57792632649046
               ],
               [
                8.128476840313308,
                54.59196551802927
               ],
               [
                8.148626800995276,
                54.142833559293834
               ],
               [
                7.384133619371156,
                54.128966831038035
               ]
              ]
             ],
             "type": "Polygon"
            },
            "id": "68",
            "properties": {
             "dates_neg": "08-12-2020",
             "dates_pos": [],
             "grid_id": "50kmE4150N3450",
             "neg_cp": 1,
             "pos_cp": 0,
             "probs_neg": [
              0.19200000166893005
             ],
             "probs_pos": [],
             "species": "Bergente"
            },
            "type": "Feature"
           },
           {
            "bbox": [
             8.438316202995853,
             45.60119521945546,
             9.09111175632257,
             46.05903443727465
            ],
            "geometry": {
             "coordinates": [
              [
               [
                8.451176018047393,
                45.60119521945546
               ],
               [
                8.438316202995853,
                46.05153504541659
               ],
               [
                9.083563426597431,
                46.05903443727465
               ],
               [
                9.09111175632257,
                45.60862320835171
               ],
               [
                8.451176018047393,
                45.60119521945546
               ]
              ]
             ],
             "type": "Polygon"
            },
            "id": "69",
            "properties": {
             "dates_neg": [],
             "dates_pos": "05-01-2021",
             "grid_id": "50kmE4200N2500",
             "neg_cp": 0,
             "pos_cp": 1,
             "probs_neg": [],
             "probs_pos": [
              0.3050000071525574
             ],
             "species": "Bergente"
            },
            "type": "Feature"
           },
           {
            "bbox": [
             8.425175599651874,
             46.05153504541659,
             9.083563426597431,
             46.509321257812296
            ],
            "geometry": {
             "coordinates": [
              [
               [
                8.438316202995853,
                46.05153504541659
               ],
               [
                8.425175599651874,
                46.501748848076275
               ],
               [
                9.075850231641201,
                46.509321257812296
               ],
               [
                9.083563426597431,
                46.05903443727465
               ],
               [
                8.438316202995853,
                46.05153504541659
               ]
              ]
             ],
             "type": "Polygon"
            },
            "id": "70",
            "properties": {
             "dates_neg": "15-12-2020",
             "dates_pos": [],
             "grid_id": "50kmE4200N2550",
             "neg_cp": 1,
             "pos_cp": 0,
             "probs_neg": [
              0.289000004529953
             ],
             "probs_pos": [],
             "species": "Bergente"
            },
            "type": "Feature"
           },
           {
            "bbox": [
             8.411745474732808,
             46.501748848076275,
             9.075850231641201,
             46.95949069651937
            ],
            "geometry": {
             "coordinates": [
              [
               [
                8.425175599651874,
                46.501748848076275
               ],
               [
                8.411745474732808,
                46.95184360299633
               ],
               [
                9.067967041310354,
                46.95949069651937
               ],
               [
                9.075850231641201,
                46.509321257812296
               ],
               [
                8.425175599651874,
                46.501748848076275
               ]
              ]
             ],
             "type": "Polygon"
            },
            "id": "71",
            "properties": {
             "dates_neg": [],
             "dates_pos": "02-03-2021",
             "grid_id": "50kmE4200N2600",
             "neg_cp": 0,
             "pos_cp": 1,
             "probs_neg": [],
             "probs_pos": [
              0.28999999165534973
             ],
             "species": "Bergente"
            },
            "type": "Feature"
           },
           {
            "bbox": [
             8.398016718901296,
             46.95184360299633,
             9.067967041310354,
             47.409549772757046
            ],
            "geometry": {
             "coordinates": [
              [
               [
                8.411745474732808,
                46.95184360299633
               ],
               [
                8.398016718901296,
                47.401826276347066
               ],
               [
                9.059908504433732,
                47.409549772757046
               ],
               [
                9.067967041310354,
                46.95949069651937
               ],
               [
                8.411745474732808,
                46.95184360299633
               ]
              ]
             ],
             "type": "Polygon"
            },
            "id": "72",
            "properties": {
             "dates_neg": [],
             "dates_pos": "09-03-2020",
             "grid_id": "50kmE4200N2650",
             "neg_cp": 0,
             "pos_cp": 1,
             "probs_neg": [],
             "probs_pos": [
              0.3790000081062317
             ],
             "species": "Bergente"
            },
            "type": "Feature"
           },
           {
            "bbox": [
             8.383979826493244,
             47.401826276347066,
             9.059908504433732,
             47.85950549960135
            ],
            "geometry": {
             "coordinates": [
              [
               [
                8.398016718901296,
                47.401826276347066
               ],
               [
                8.383979826493244,
                47.85170382569705
               ],
               [
                9.051669036889214,
                47.85950549960135
               ],
               [
                9.059908504433732,
                47.409549772757046
               ],
               [
                8.398016718901296,
                47.401826276347066
               ]
              ]
             ],
             "type": "Polygon"
            },
            "id": "73",
            "properties": {
             "dates_neg": "11-01-2022",
             "dates_pos": [],
             "grid_id": "50kmE4200N2700",
             "neg_cp": 1,
             "pos_cp": 0,
             "probs_neg": [
              0.16099999845027924
             ],
             "probs_pos": [],
             "species": "Bergente"
            },
            "type": "Feature"
           },
           {
            "bbox": [
             8.369624873915331,
             47.85170382569705,
             9.051669036889214,
             48.309364884743395
            ],
            "geometry": {
             "coordinates": [
              [
               [
                8.383979826493244,
                47.85170382569705
               ],
               [
                8.369624873915331,
                48.301483200786855
               ],
               [
                9.043242808897237,
                48.309364884743395
               ],
               [
                9.051669036889214,
                47.85950549960135
               ],
               [
                8.383979826493244,
                47.85170382569705
               ]
              ]
             ],
             "type": "Polygon"
            },
            "id": "74",
            "properties": {
             "dates_neg": "31-12-2018",
             "dates_pos": [],
             "grid_id": "50kmE4200N2750",
             "neg_cp": 2,
             "pos_cp": 0,
             "probs_neg": [
              0.6970000267028809,
              0.6600000262260437
             ],
             "probs_pos": [],
             "species": "Bergente"
            },
            "type": "Feature"
           },
           {
            "bbox": [
             8.354941496609259,
             48.301483200786855,
             9.043242808897237,
             48.75913493138134
            ],
            "geometry": {
             "coordinates": [
              [
               [
                8.369624873915331,
                48.301483200786855
               ],
               [
                8.354941496609259,
                48.751171344286014
               ],
               [
                9.034623731470543,
                48.75913493138134
               ],
               [
                9.043242808897237,
                48.309364884743395
               ],
               [
                8.369624873915331,
                48.301483200786855
               ]
              ]
             ],
             "type": "Polygon"
            },
            "id": "75",
            "properties": {
             "dates_neg": "09-02-2021",
             "dates_pos": [],
             "grid_id": "50kmE4200N2800",
             "neg_cp": 1,
             "pos_cp": 0,
             "probs_neg": [
              0.11400000005960464
             ],
             "probs_pos": [],
             "species": "Bergente"
            },
            "type": "Feature"
           },
           {
            "bbox": [
             8.339918864470704,
             48.751171344286014,
             9.034623731470543,
             49.208822639104156
            ],
            "geometry": {
             "coordinates": [
              [
               [
                8.354941496609259,
                48.751171344286014
               ],
               [
                8.339918864470704,
                49.20077519253294
               ],
               [
                9.025805441954168,
                49.208822639104156
               ],
               [
                9.034623731470543,
                48.75913493138134
               ],
               [
                8.354941496609259,
                48.751171344286014
               ]
              ]
             ],
             "type": "Polygon"
            },
            "id": "76",
            "properties": {
             "dates_neg": "06-07-2021",
             "dates_pos": [],
             "grid_id": "50kmE4200N2850",
             "neg_cp": 2,
             "pos_cp": 0,
             "probs_neg": [
              1,
              0.33500000834465027
             ],
             "probs_pos": [],
             "species": "Bergente"
            },
            "type": "Feature"
           },
           {
            "bbox": [
             8.32454565560083,
             49.20077519253294,
             9.025805441954168,
             49.658435004767256
            ],
            "geometry": {
             "coordinates": [
              [
               [
                8.339918864470704,
                49.20077519253294
               ],
               [
                8.32454565560083,
                49.65030167625689
               ],
               [
                9.016781288583688,
                49.658435004767256
               ],
               [
                9.025805441954168,
                49.208822639104156
               ],
               [
                8.339918864470704,
                49.20077519253294
               ]
              ]
             ],
             "type": "Polygon"
            },
            "id": "77",
            "properties": {
             "dates_neg": [],
             "dates_pos": "29-12-2020",
             "grid_id": "50kmE4200N2900",
             "neg_cp": 0,
             "pos_cp": 1,
             "probs_neg": [],
             "probs_pos": [
              0.42399999499320984
             ],
             "species": "Bergente"
            },
            "type": "Feature"
           },
           {
            "bbox": [
             8.308810028257028,
             49.65030167625689,
             9.016781288583688,
             50.10797902336005
            ],
            "geometry": {
             "coordinates": [
              [
               [
                8.32454565560083,
                49.65030167625689
               ],
               [
                8.308810028257028,
                50.09975772128108
               ],
               [
                9.007544313983132,
                50.10797902336005
               ],
               [
                9.016781288583688,
                49.658435004767256
               ],
               [
                8.32454565560083,
                49.65030167625689
               ]
              ]
             ],
             "type": "Polygon"
            },
            "id": "78",
            "properties": {
             "dates_neg": [],
             "dates_pos": "23-12-2019",
             "grid_id": "50kmE4200N2950",
             "neg_cp": 0,
             "pos_cp": 3,
             "probs_neg": [],
             "probs_pos": [
              1,
              0.9800000190734863,
              0.5009999871253967
             ],
             "species": "Bergente"
            },
            "type": "Feature"
           },
           {
            "bbox": [
             8.292699590857294,
             50.09975772128108,
             9.007544313983132,
             50.55746168886497
            ],
            "geometry": {
             "coordinates": [
              [
               [
                8.308810028257028,
                50.09975772128108
               ],
               [
                8.292699590857294,
                50.549150249206306
               ],
               [
                8.998087237516723,
                50.55746168886497
               ],
               [
                9.007544313983132,
                50.10797902336005
               ],
               [
                8.308810028257028,
                50.09975772128108
               ]
              ]
             ],
             "type": "Polygon"
            },
            "id": "79",
            "properties": {
             "dates_neg": [],
             "dates_pos": "15-03-2022",
             "grid_id": "50kmE4200N3000",
             "neg_cp": 0,
             "pos_cp": 1,
             "probs_neg": [],
             "probs_pos": [
              0.9980000257492065
             ],
             "species": "Bergente"
            },
            "type": "Feature"
           },
           {
            "bbox": [
             8.276201369878942,
             50.549150249206306,
             8.998087237516723,
             51.006889995108345
            ],
            "geometry": {
             "coordinates": [
              [
               [
                8.292699590857294,
                50.549150249206306
               ],
               [
                8.276201369878942,
                50.998486178073684
               ],
               [
                8.988402436400596,
                51.006889995108345
               ],
               [
                8.998087237516723,
                50.55746168886497
               ],
               [
                8.292699590857294,
                50.549150249206306
               ]
              ]
             ],
             "type": "Polygon"
            },
            "id": "80",
            "properties": {
             "dates_neg": [],
             "dates_pos": "07-12-2021",
             "grid_id": "50kmE4200N3050",
             "neg_cp": 0,
             "pos_cp": 1,
             "probs_neg": [],
             "probs_pos": [
              0.972000002861023
             ],
             "species": "Bergente"
            },
            "type": "Feature"
           },
           {
            "bbox": [
             8.259301775477372,
             50.998486178073684,
             8.988402436400596,
             51.45627093660271
            ],
            "geometry": {
             "coordinates": [
              [
               [
                8.276201369878942,
                50.998486178073684
               ],
               [
                8.259301775477372,
                51.4477724230056
               ],
               [
                8.978481925471693,
                51.45627093660271
               ],
               [
                8.988402436400596,
                51.006889995108345
               ],
               [
                8.276201369878942,
                50.998486178073684
               ]
              ]
             ],
             "type": "Polygon"
            },
            "id": "81",
            "properties": {
             "dates_neg": "31-12-2018",
             "dates_pos": [],
             "grid_id": "50kmE4200N3100",
             "neg_cp": 1,
             "pos_cp": 0,
             "probs_neg": [
              0.6499999761581421
             ],
             "probs_pos": [],
             "species": "Bergente"
            },
            "type": "Feature"
           },
           {
            "bbox": [
             8.241986564633853,
             51.4477724230056,
             8.978481925471693,
             51.905611509380115
            ],
            "geometry": {
             "coordinates": [
              [
               [
                8.259301775477372,
                51.4477724230056
               ],
               [
                8.241986564633853,
                51.8970158968234
               ],
               [
                8.968317335501196,
                51.905611509380115
               ],
               [
                8.978481925471693,
                51.45627093660271
               ],
               [
                8.259301775477372,
                51.4477724230056
               ]
              ]
             ],
             "type": "Polygon"
            },
            "id": "82",
            "properties": {
             "dates_neg": "29-06-2020",
             "dates_pos": "23-12-2019",
             "grid_id": "50kmE4200N3150",
             "neg_cp": 1,
             "pos_cp": 1,
             "probs_neg": [
              0.7950000166893005
             ],
             "probs_pos": [
              0.8330000042915344
             ],
             "species": "Bergente"
            },
            "type": "Feature"
           },
           {
            "bbox": [
             8.224240801622818,
             51.8970158968234,
             8.968317335501196,
             52.35491871181676
            ],
            "geometry": {
             "coordinates": [
              [
               [
                8.241986564633853,
                51.8970158968234
               ],
               [
                8.224240801622818,
                52.34622351064028
               ],
               [
                8.95789988992899,
                52.35491871181676
               ],
               [
                8.968317335501196,
                51.905611509380115
               ],
               [
                8.241986564633853,
                51.8970158968234
               ]
              ]
             ],
             "type": "Polygon"
            },
            "id": "83",
            "properties": {
             "dates_neg": [],
             "dates_pos": "11-01-2022",
             "grid_id": "50kmE4200N3200",
             "neg_cp": 0,
             "pos_cp": 1,
             "probs_neg": [],
             "probs_pos": [
              0.6489999890327454
             ],
             "species": "Bergente"
            },
            "type": "Feature"
           },
           {
            "bbox": [
             8.206048815568566,
             52.34622351064028,
             8.95789988992899,
             52.80419954544785
            ],
            "geometry": {
             "coordinates": [
              [
               [
                8.224240801622818,
                52.34622351064028
               ],
               [
                8.206048815568566,
                52.79540217442788
               ],
               [
                8.947220379883412,
                52.80419954544785
               ],
               [
                8.95789988992899,
                52.35491871181676
               ],
               [
                8.224240801622818,
                52.34622351064028
               ]
              ]
             ],
             "type": "Polygon"
            },
            "id": "84",
            "properties": {
             "dates_neg": [],
             "dates_pos": "28-10-2019",
             "grid_id": "50kmE4200N3250",
             "neg_cp": 0,
             "pos_cp": 1,
             "probs_neg": [],
             "probs_pos": [
              0.24199999868869781
             ],
             "species": "Bergente"
            },
            "type": "Feature"
           },
           {
            "bbox": [
             8.187394154838481,
             52.79540217442788,
             8.947220379883412,
             53.25346101577304
            ],
            "geometry": {
             "coordinates": [
              [
               [
                8.206048815568566,
                52.79540217442788
               ],
               [
                8.187394154838481,
                53.244558797554404
               ],
               [
                8.936269137337133,
                53.25346101577304
               ],
               [
                8.947220379883412,
                52.80419954544785
               ],
               [
                8.206048815568566,
                52.79540217442788
               ]
              ]
             ],
             "type": "Polygon"
            },
            "id": "85",
            "properties": {
             "dates_neg": [],
             "dates_pos": "16-11-2021",
             "grid_id": "50kmE4200N3300",
             "neg_cp": 0,
             "pos_cp": 1,
             "probs_neg": [],
             "probs_pos": [
              0.5139999985694885
             ],
             "species": "Bergente"
            },
            "type": "Feature"
           },
           {
            "bbox": [
             8.168259537994377,
             53.244558797554404,
             8.936269137337133,
             53.7027101330513
            ],
            "geometry": {
             "coordinates": [
              [
               [
                8.187394154838481,
                53.244558797554404
               ],
               [
                8.168259537994377,
                53.693700289292444
               ],
               [
                8.925036006234967,
                53.7027101330513
               ],
               [
                8.936269137337133,
                53.25346101577304
               ],
               [
                8.187394154838481,
                53.244558797554404
               ]
              ]
             ],
             "type": "Polygon"
            },
            "id": "86",
            "properties": {
             "dates_neg": "01-12-2020",
             "dates_pos": [],
             "grid_id": "50kmE4200N3350",
             "neg_cp": 1,
             "pos_cp": 0,
             "probs_neg": [
              0.16699999570846558
             ],
             "probs_pos": [],
             "species": "Bergente"
            },
            "type": "Feature"
           },
           {
            "bbox": [
             8.148626800995276,
             53.693700289292444,
             8.925036006234967,
             54.15195391308504
            ],
            "geometry": {
             "coordinates": [
              [
               [
                8.168259537994377,
                53.693700289292444
               ],
               [
                8.148626800995276,
                54.142833559293834
               ],
               [
                8.91351031141262,
                54.15195391308504
               ],
               [
                8.925036006234967,
                53.7027101330513
               ],
               [
                8.168259537994377,
                53.693700289292444
               ]
              ]
             ],
             "type": "Polygon"
            },
            "id": "87",
            "properties": {
             "dates_neg": [],
             "dates_pos": "24-11-2020",
             "grid_id": "50kmE4200N3400",
             "neg_cp": 0,
             "pos_cp": 1,
             "probs_neg": [],
             "probs_pos": [
              0.28200000524520874
             ],
             "species": "Bergente"
            },
            "type": "Feature"
           },
           {
            "bbox": [
             8.128476840313308,
             54.142833559293834,
             8.91351031141262,
             54.60119937799277
            ],
            "geometry": {
             "coordinates": [
              [
               [
                8.148626800995276,
                54.142833559293834
               ],
               [
                8.128476840313308,
                54.59196551802927
               ],
               [
                8.901680825106796,
                54.60119937799277
               ],
               [
                8.91351031141262,
                54.15195391308504
               ],
               [
                8.148626800995276,
                54.142833559293834
               ]
              ]
             ],
             "type": "Polygon"
            },
            "id": "88",
            "properties": {
             "dates_neg": [],
             "dates_pos": "03-11-2020",
             "grid_id": "50kmE4200N3450",
             "neg_cp": 0,
             "pos_cp": 1,
             "probs_neg": [],
             "probs_pos": [
              0.17900000512599945
             ],
             "species": "Bergente"
            },
            "type": "Feature"
           },
           {
            "bbox": [
             8.10778955158899,
             54.59196551802927,
             8.901680825106796,
             55.050453556969224
            ],
            "geometry": {
             "coordinates": [
              [
               [
                8.128476840313308,
                54.59196551802927
               ],
               [
                8.10778955158899,
                55.04110307718915
               ],
               [
                8.889535730836064,
                55.050453556969224
               ],
               [
                8.901680825106796,
                54.60119937799277
               ],
               [
                8.128476840313308,
                54.59196551802927
               ]
              ]
             ],
             "type": "Polygon"
            },
            "id": "89",
            "properties": {
             "dates_neg": [],
             "dates_pos": "06-10-2020",
             "grid_id": "50kmE4200N3500",
             "neg_cp": 0,
             "pos_cp": 1,
             "probs_neg": [],
             "probs_pos": [
              0.20399999618530273
             ],
             "species": "Bergente"
            },
            "type": "Feature"
           },
           {
            "bbox": [
             8.086543763412685,
             55.04110307718915,
             8.889535730836064,
             55.49972348703258
            ],
            "geometry": {
             "coordinates": [
              [
               [
                8.10778955158899,
                55.04110307718915
               ],
               [
                8.086543763412685,
                55.490253150043
               ],
               [
                8.877062584408613,
                55.49972348703258
               ],
               [
                8.889535730836064,
                55.050453556969224
               ],
               [
                8.10778955158899,
                55.04110307718915
               ]
              ]
             ],
             "type": "Polygon"
            },
            "id": "90",
            "properties": {
             "dates_neg": "13-10-2020",
             "dates_pos": [],
             "grid_id": "50kmE4200N3550",
             "neg_cp": 1,
             "pos_cp": 0,
             "probs_neg": [
              0.11500000208616257
             ],
             "probs_pos": [],
             "species": "Bergente"
            },
            "type": "Feature"
           },
           {
            "bbox": [
             9.075850231641201,
             46.05903443727465,
             9.728930427287091,
             46.512950074786744
            ],
            "geometry": {
             "coordinates": [
              [
               [
                9.083563426597431,
                46.05903443727465
               ],
               [
                9.075850231641201,
                46.509321257812296
               ],
               [
                9.726648692094773,
                46.512950074786744
               ],
               [
                9.728930427287091,
                46.06262825381603
               ],
               [
                9.083563426597431,
                46.05903443727465
               ]
              ]
             ],
             "type": "Polygon"
            },
            "id": "91",
            "properties": {
             "dates_neg": "05-01-2021",
             "dates_pos": [],
             "grid_id": "50kmE4250N2550",
             "neg_cp": 1,
             "pos_cp": 0,
             "probs_neg": [
              0.11699999868869781
             ],
             "probs_pos": [],
             "species": "Bergente"
            },
            "type": "Feature"
           },
           {
            "bbox": [
             9.067967041310354,
             46.509321257812296,
             9.726648692094773,
             46.96315531273302
            ],
            "geometry": {
             "coordinates": [
              [
               [
                9.075850231641201,
                46.509321257812296
               ],
               [
                9.067967041310354,
                46.95949069651937
               ],
               [
                9.724316660863664,
                46.96315531273302
               ],
               [
                9.726648692094773,
                46.512950074786744
               ],
               [
                9.075850231641201,
                46.509321257812296
               ]
              ]
             ],
             "type": "Polygon"
            },
            "id": "92",
            "properties": {
             "dates_neg": "26-10-2021",
             "dates_pos": "16-03-2021",
             "grid_id": "50kmE4250N2600",
             "neg_cp": 1,
             "pos_cp": 1,
             "probs_neg": [
              0.7319999933242798
             ],
             "probs_pos": [
              0.032999999821186066
             ],
             "species": "Bergente"
            },
            "type": "Feature"
           },
           {
            "bbox": [
             9.059908504433732,
             46.95949069651937,
             9.724316660863664,
             47.413251012534026
            ],
            "geometry": {
             "coordinates": [
              [
               [
                9.067967041310354,
                46.95949069651937
               ],
               [
                9.059908504433732,
                47.409549772757046
               ],
               [
                9.721932749998519,
                47.413251012534026
               ],
               [
                9.724316660863664,
                46.96315531273302
               ],
               [
                9.067967041310354,
                46.95949069651937
               ]
              ]
             ],
             "type": "Polygon"
            },
            "id": "93",
            "properties": {
             "dates_neg": "03-12-2018",
             "dates_pos": [],
             "grid_id": "50kmE4250N2650",
             "neg_cp": 1,
             "pos_cp": 0,
             "probs_neg": [
              0.11599999666213989
             ],
             "probs_pos": [],
             "species": "Bergente"
            },
            "type": "Feature"
           },
           {
            "bbox": [
             9.051669036889214,
             47.409549772757046,
             9.721932749998519,
             47.86324421389587
            ],
            "geometry": {
             "coordinates": [
              [
               [
                9.059908504433732,
                47.409549772757046
               ],
               [
                9.051669036889214,
                47.85950549960135
               ],
               [
                9.719495306946975,
                47.86324421389587
               ],
               [
                9.721932749998519,
                47.413251012534026
               ],
               [
                9.059908504433732,
                47.409549772757046
               ]
              ]
             ],
             "type": "Polygon"
            },
            "id": "94",
            "properties": {
             "dates_neg": [],
             "dates_pos": "06-01-2020",
             "grid_id": "50kmE4250N2700",
             "neg_cp": 0,
             "pos_cp": 1,
             "probs_neg": [],
             "probs_pos": [
              0.17399999499320984
             ],
             "species": "Bergente"
            },
            "type": "Feature"
           },
           {
            "bbox": [
             9.043242808897237,
             47.85950549960135,
             9.719495306946975,
             48.313141952312556
            ],
            "geometry": {
             "coordinates": [
              [
               [
                9.051669036889214,
                47.85950549960135
               ],
               [
                9.043242808897237,
                48.309364884743395
               ],
               [
                9.717002606436914,
                48.313141952312556
               ],
               [
                9.719495306946975,
                47.86324421389587
               ],
               [
                9.051669036889214,
                47.85950549960135
               ]
              ]
             ],
             "type": "Polygon"
            },
            "id": "95",
            "properties": {
             "dates_neg": "09-03-2021",
             "dates_pos": [],
             "grid_id": "50kmE4250N2750",
             "neg_cp": 1,
             "pos_cp": 0,
             "probs_neg": [
              0.2840000092983246
             ],
             "probs_pos": [],
             "species": "Bergente"
            },
            "type": "Feature"
           },
           {
            "bbox": [
             9.034623731470543,
             48.309364884743395,
             9.717002606436914,
             48.762951260022845
            ],
            "geometry": {
             "coordinates": [
              [
               [
                9.043242808897237,
                48.309364884743395
               ],
               [
                9.034623731470543,
                48.75913493138134
               ],
               [
                9.714452846463924,
                48.762951260022845
               ],
               [
                9.717002606436914,
                48.313141952312556
               ],
               [
                9.043242808897237,
                48.309364884743395
               ]
              ]
             ],
             "type": "Polygon"
            },
            "id": "96",
            "properties": {
             "dates_neg": "01-06-2021",
             "dates_pos": [],
             "grid_id": "50kmE4250N2800",
             "neg_cp": 1,
             "pos_cp": 0,
             "probs_neg": [
              0.11699999868869781
             ],
             "probs_pos": [],
             "species": "Bergente"
            },
            "type": "Feature"
           },
           {
            "bbox": [
             9.025805441954168,
             48.75913493138134,
             9.714452846463924,
             49.21267916696309
            ],
            "geometry": {
             "coordinates": [
              [
               [
                9.034623731470543,
                48.75913493138134
               ],
               [
                9.025805441954168,
                49.208822639104156
               ],
               [
                9.711844144009213,
                49.21267916696309
               ],
               [
                9.714452846463924,
                48.762951260022845
               ],
               [
                9.034623731470543,
                48.75913493138134
               ]
              ]
             ],
             "type": "Polygon"
            },
            "id": "97",
            "properties": {
             "dates_neg": "04-11-2019",
             "dates_pos": "25-02-2019",
             "grid_id": "50kmE4250N2850",
             "neg_cp": 1,
             "pos_cp": 1,
             "probs_neg": [
              0.9879999756813049
             ],
             "probs_pos": [
              0.9890000224113464
             ],
             "species": "Bergente"
            },
            "type": "Feature"
           },
           {
            "bbox": [
             9.016781288583688,
             49.208822639104156,
             9.711844144009213,
             49.66233270171688
            ],
            "geometry": {
             "coordinates": [
              [
               [
                9.025805441954168,
                49.208822639104156
               ],
               [
                9.016781288583688,
                49.658435004767256
               ],
               [
                9.709174530466672,
                49.66233270171688
               ],
               [
                9.711844144009213,
                49.21267916696309
               ],
               [
                9.025805441954168,
                49.208822639104156
               ]
              ]
             ],
             "type": "Polygon"
            },
            "id": "98",
            "properties": {
             "dates_neg": "03-11-2020",
             "dates_pos": [],
             "grid_id": "50kmE4250N2900",
             "neg_cp": 1,
             "pos_cp": 0,
             "probs_neg": [
              0.125
             ],
             "probs_pos": [],
             "species": "Bergente"
            },
            "type": "Feature"
           },
           {
            "bbox": [
             9.007544313983132,
             49.658435004767256,
             9.709174530466672,
             50.11191889246122
            ],
            "geometry": {
             "coordinates": [
              [
               [
                9.016781288583688,
                49.658435004767256
               ],
               [
                9.007544313983132,
                50.10797902336005
               ],
               [
                9.706441946755833,
                50.11191889246122
               ],
               [
                9.709174530466672,
                49.66233270171688
               ],
               [
                9.016781288583688,
                49.658435004767256
               ]
              ]
             ],
             "type": "Polygon"
            },
            "id": "99",
            "properties": {
             "dates_neg": [],
             "dates_pos": "28-12-2021",
             "grid_id": "50kmE4250N2950",
             "neg_cp": 0,
             "pos_cp": 1,
             "probs_neg": [],
             "probs_pos": [
              0.33799999952316284
             ],
             "species": "Bergente"
            },
            "type": "Feature"
           },
           {
            "bbox": [
             8.998087237516723,
             50.10797902336005,
             9.706441946755833,
             50.561444767910345
            ],
            "geometry": {
             "coordinates": [
              [
               [
                9.007544313983132,
                50.10797902336005
               ],
               [
                8.998087237516723,
                50.55746168886497
               ],
               [
                9.7036442380952,
                50.561444767910345
               ],
               [
                9.706441946755833,
                50.11191889246122
               ],
               [
                9.007544313983132,
                50.10797902336005
               ]
              ]
             ],
             "type": "Polygon"
            },
            "id": "100",
            "properties": {
             "dates_neg": "12-01-2021",
             "dates_pos": [],
             "grid_id": "50kmE4250N3000",
             "neg_cp": 2,
             "pos_cp": 0,
             "probs_neg": [
              0.6439999938011169,
              0.041999999433755875
             ],
             "probs_pos": [],
             "species": "Bergente"
            },
            "type": "Feature"
           },
           {
            "bbox": [
             8.988402436400596,
             50.55746168886497,
             9.7036442380952,
             51.01091735825666
            ],
            "geometry": {
             "coordinates": [
              [
               [
                8.998087237516723,
                50.55746168886497
               ],
               [
                8.988402436400596,
                51.006889995108345
               ],
               [
                9.70077914840818,
                51.01091735825666
               ],
               [
                9.7036442380952,
                50.561444767910345
               ],
               [
                8.998087237516723,
                50.55746168886497
               ]
              ]
             ],
             "type": "Polygon"
            },
            "id": "101",
            "properties": {
             "dates_neg": [],
             "dates_pos": [],
             "grid_id": "50kmE4250N3050",
             "neg_cp": 0,
             "pos_cp": 0,
             "probs_neg": [],
             "probs_pos": [],
             "species": "Bergente"
            },
            "type": "Feature"
           },
           {
            "bbox": [
             8.978481925471693,
             51.006889995108345,
             9.70077914840818,
             51.46034369610987
            ],
            "geometry": {
             "coordinates": [
              [
               [
                8.988402436400596,
                51.006889995108345
               ],
               [
                8.978481925471693,
                51.45627093660271
               ],
               [
                9.697844314331167,
                51.46034369610987
               ],
               [
                9.70077914840818,
                51.01091735825666
               ],
               [
                8.988402436400596,
                51.006889995108345
               ]
              ]
             ],
             "type": "Polygon"
            },
            "id": "102",
            "properties": {
             "dates_neg": "31-12-2018",
             "dates_pos": [],
             "grid_id": "50kmE4250N3100",
             "neg_cp": 1,
             "pos_cp": 0,
             "probs_neg": [
              0.9610000252723694
             ],
             "probs_pos": [],
             "species": "Bergente"
            },
            "type": "Feature"
           },
           {
            "bbox": [
             8.968317335501196,
             51.45627093660271,
             9.697844314331167,
             51.90973081743419
            ],
            "geometry": {
             "coordinates": [
              [
               [
                8.978481925471693,
                51.45627093660271
               ],
               [
                8.968317335501196,
                51.905611509380115
               ],
               [
                9.694837258790294,
                51.90973081743419
               ],
               [
                9.697844314331167,
                51.46034369610987
               ],
               [
                8.978481925471693,
                51.45627093660271
               ]
              ]
             ],
             "type": "Polygon"
            },
            "id": "103",
            "properties": {
             "dates_neg": "18-11-2019",
             "dates_pos": [],
             "grid_id": "50kmE4250N3150",
             "neg_cp": 1,
             "pos_cp": 0,
             "probs_neg": [
              0.2630000114440918
             ],
             "probs_pos": [],
             "species": "Bergente"
            },
            "type": "Feature"
           },
           {
            "bbox": [
             8.95789988992899,
             51.905611509380115,
             9.694837258790294,
             52.35908576248396
            ],
            "geometry": {
             "coordinates": [
              [
               [
                8.968317335501196,
                51.905611509380115
               ],
               [
                8.95789988992899,
                52.35491871181676
               ],
               [
                9.691755384110342,
                52.35908576248396
               ],
               [
                9.694837258790294,
                51.90973081743419
               ],
               [
                8.968317335501196,
                51.905611509380115
               ]
              ]
             ],
             "type": "Polygon"
            },
            "id": "104",
            "properties": {
             "dates_neg": [],
             "dates_pos": "15-03-2022",
             "grid_id": "50kmE4250N3200",
             "neg_cp": 0,
             "pos_cp": 2,
             "probs_neg": [],
             "probs_pos": [
              0.6539999842643738,
              0.6150000095367432
             ],
             "species": "Bergente"
            },
            "type": "Feature"
           },
           {
            "bbox": [
             8.947220379883412,
             52.35491871181676,
             9.691755384110342,
             52.80841557673825
            ],
            "geometry": {
             "coordinates": [
              [
               [
                8.95789988992899,
                52.35491871181676
               ],
               [
                8.947220379883412,
                52.80419954544785
               ],
               [
                9.688595964615486,
                52.80841557673825
               ],
               [
                9.691755384110342,
                52.35908576248396
               ],
               [
                8.95789988992899,
                52.35491871181676
               ]
              ]
             ],
             "type": "Polygon"
            },
            "id": "105",
            "properties": {
             "dates_neg": "26-01-2021",
             "dates_pos": "28-12-2021",
             "grid_id": "50kmE4250N3250",
             "neg_cp": 2,
             "pos_cp": 1,
             "probs_neg": [
              0.9139999747276306,
              0.75
             ],
             "probs_pos": [
              0.9490000009536743
             ],
             "species": "Bergente"
            },
            "type": "Feature"
           },
           {
            "bbox": [
             8.936269137337133,
             52.80419954544785,
             9.688595964615486,
             53.25772731183458
            ],
            "geometry": {
             "coordinates": [
              [
               [
                8.947220379883412,
                52.80419954544785
               ],
               [
                8.936269137337133,
                53.25346101577304
               ],
               [
                9.68535613867767,
                53.25772731183458
               ],
               [
                9.688595964615486,
                52.80841557673825
               ],
               [
                8.947220379883412,
                52.80419954544785
               ]
              ]
             ],
             "type": "Polygon"
            },
            "id": "106",
            "properties": {
             "dates_neg": "21-10-2019",
             "dates_pos": [],
             "grid_id": "50kmE4250N3300",
             "neg_cp": 1,
             "pos_cp": 0,
             "probs_neg": [
              0.45899999141693115
             ],
             "probs_pos": [],
             "species": "Bergente"
            },
            "type": "Feature"
           },
           {
            "bbox": [
             8.925036006234967,
             53.25346101577304,
             9.68535613867767,
             53.70702802650191
            ],
            "geometry": {
             "coordinates": [
              [
               [
                8.936269137337133,
                53.25346101577304
               ],
               [
                8.925036006234967,
                53.7027101330513
               ],
               [
                9.682032900163954,
                53.70702802650191
               ],
               [
                9.68535613867767,
                53.25772731183458
               ],
               [
                8.936269137337133,
                53.25346101577304
               ]
              ]
             ],
             "type": "Polygon"
            },
            "id": "107",
            "properties": {
             "dates_neg": "25-11-2019",
             "dates_pos": "28-09-2021",
             "grid_id": "50kmE4250N3350",
             "neg_cp": 3,
             "pos_cp": 1,
             "probs_neg": [
              0.9330000281333923,
              0.8989999890327454,
              0.02199999988079071
             ],
             "probs_pos": [
              0.9169999957084656
             ],
             "species": "Bergente"
            },
            "type": "Feature"
           },
           {
            "bbox": [
             8.91351031141262,
             53.7027101330513,
             9.682032900163954,
             54.15632478749346
            ],
            "geometry": {
             "coordinates": [
              [
               [
                8.925036006234967,
                53.7027101330513
               ],
               [
                8.91351031141262,
                54.15195391308504
               ],
               [
                9.678623089229086,
                54.15632478749346
               ],
               [
                9.682032900163954,
                53.70702802650191
               ],
               [
                8.925036006234967,
                53.7027101330513
               ]
              ]
             ],
             "type": "Polygon"
            },
            "id": "108",
            "properties": {
             "dates_neg": "22-07-2019",
             "dates_pos": [],
             "grid_id": "50kmE4250N3400",
             "neg_cp": 1,
             "pos_cp": 0,
             "probs_neg": [
              0.23600000143051147
             ],
             "probs_pos": [],
             "species": "Bergente"
            },
            "type": "Feature"
           },
           {
            "bbox": [
             8.901680825106796,
             54.15195391308504,
             9.678623089229086,
             54.60562467051945
            ],
            "geometry": {
             "coordinates": [
              [
               [
                8.91351031141262,
                54.15195391308504
               ],
               [
                8.901680825106796,
                54.60119937799277
               ],
               [
                9.675123382394194,
                54.60562467051945
               ],
               [
                9.678623089229086,
                54.15632478749346
               ],
               [
                8.91351031141262,
                54.15195391308504
               ]
              ]
             ],
             "type": "Polygon"
            },
            "id": "109",
            "properties": {
             "dates_neg": [],
             "dates_pos": "30-11-2021",
             "grid_id": "50kmE4250N3450",
             "neg_cp": 0,
             "pos_cp": 1,
             "probs_neg": [],
             "probs_pos": [
              0.1979999989271164
             ],
             "species": "Bergente"
            },
            "type": "Feature"
           },
           {
            "bbox": [
             8.889535730836064,
             54.60119937799277,
             9.675123382394194,
             55.05493476118021
            ],
            "geometry": {
             "coordinates": [
              [
               [
                8.901680825106796,
                54.60119937799277
               ],
               [
                8.889535730836064,
                55.050453556969224
               ],
               [
                9.67153028184612,
                55.05493476118021
               ],
               [
                9.675123382394194,
                54.60562467051945
               ],
               [
                8.901680825106796,
                54.60119937799277
               ]
              ]
             ],
             "type": "Polygon"
            },
            "id": "110",
            "properties": {
             "dates_neg": [],
             "dates_pos": "30-11-2021",
             "grid_id": "50kmE4250N3500",
             "neg_cp": 0,
             "pos_cp": 1,
             "probs_neg": [],
             "probs_pos": [
              0.20999999344348907
             ],
             "species": "Bergente"
            },
            "type": "Feature"
           },
           {
            "bbox": [
             9.726648692094773,
             46.06231573882135,
             10.377483790164764,
             46.512950074786744
            ],
            "geometry": {
             "coordinates": [
              [
               [
                9.728930427287091,
                46.06262825381603
               ],
               [
                9.726648692094773,
                46.512950074786744
               ],
               [
                10.377483790164764,
                46.51263451594939
               ],
               [
                10.37433286667538,
                46.06231573882135
               ],
               [
                9.728930427287091,
                46.06262825381603
               ]
              ]
             ],
             "type": "Polygon"
            },
            "id": "111",
            "properties": {
             "dates_neg": "15-09-2020",
             "dates_pos": [],
             "grid_id": "50kmE4300N2550",
             "neg_cp": 1,
             "pos_cp": 0,
             "probs_neg": [
              0.11299999803304672
             ],
             "probs_pos": [],
             "species": "Bergente"
            },
            "type": "Feature"
           },
           {
            "bbox": [
             9.724316660863664,
             46.51263451594939,
             10.380704168200957,
             46.96315531273302
            ],
            "geometry": {
             "coordinates": [
              [
               [
                9.726648692094773,
                46.512950074786744
               ],
               [
                9.724316660863664,
                46.96315531273302
               ],
               [
                10.380704168200957,
                46.96283664057722
               ],
               [
                10.377483790164764,
                46.51263451594939
               ],
               [
                9.726648692094773,
                46.512950074786744
               ]
              ]
             ],
             "type": "Polygon"
            },
            "id": "112",
            "properties": {
             "dates_neg": "12-01-2021",
             "dates_pos": [],
             "grid_id": "50kmE4300N2600",
             "neg_cp": 1,
             "pos_cp": 0,
             "probs_neg": [
              0.11800000071525574
             ],
             "probs_pos": [],
             "species": "Bergente"
            },
            "type": "Feature"
           },
           {
            "bbox": [
             9.721932749998519,
             46.96283664057722,
             10.383996187550931,
             47.413251012534026
            ],
            "geometry": {
             "coordinates": [
              [
               [
                9.724316660863664,
                46.96315531273302
               ],
               [
                9.721932749998519,
                47.413251012534026
               ],
               [
                10.383996187550931,
                47.41292915536426
               ],
               [
                10.380704168200957,
                46.96283664057722
               ],
               [
                9.724316660863664,
                46.96315531273302
               ]
              ]
             ],
             "type": "Polygon"
            },
            "id": "113",
            "properties": {
             "dates_neg": "08-09-2020",
             "dates_pos": [],
             "grid_id": "50kmE4300N2650",
             "neg_cp": 1,
             "pos_cp": 0,
             "probs_neg": [
              0.11599999666213989
             ],
             "probs_pos": [],
             "species": "Bergente"
            },
            "type": "Feature"
           },
           {
            "bbox": [
             9.719495306946975,
             47.41292915536426,
             10.38736213020143,
             47.86324421389587
            ],
            "geometry": {
             "coordinates": [
              [
               [
                9.721932749998519,
                47.413251012534026
               ],
               [
                9.719495306946975,
                47.86324421389587
               ],
               [
                10.38736213020143,
                47.862919097700136
               ],
               [
                10.383996187550931,
                47.41292915536426
               ],
               [
                9.721932749998519,
                47.413251012534026
               ]
              ]
             ],
             "type": "Polygon"
            },
            "id": "114",
            "properties": {
             "dates_neg": "14-01-2019",
             "dates_pos": [],
             "grid_id": "50kmE4300N2700",
             "neg_cp": 2,
             "pos_cp": 0,
             "probs_neg": [
              0.7910000085830688,
              0.7419999837875366
             ],
             "probs_pos": [],
             "species": "Bergente"
            },
            "type": "Feature"
           },
           {
            "bbox": [
             9.717002606436914,
             47.862919097700136,
             10.390804378554437,
             48.313141952312556
            ],
            "geometry": {
             "coordinates": [
              [
               [
                9.719495306946975,
                47.86324421389587
               ],
               [
                9.717002606436914,
                48.313141952312556
               ],
               [
                10.390804378554437,
                48.312813500660305
               ],
               [
                10.38736213020143,
                47.862919097700136
               ],
               [
                9.719495306946975,
                47.86324421389587
               ]
              ]
             ],
             "type": "Polygon"
            },
            "id": "115",
            "properties": {
             "dates_neg": [],
             "dates_pos": [],
             "grid_id": "50kmE4300N2750",
             "neg_cp": 0,
             "pos_cp": 0,
             "probs_neg": [],
             "probs_pos": [],
             "species": "Bergente"
            },
            "type": "Feature"
           },
           {
            "bbox": [
             9.714452846463924,
             48.312813500660305,
             10.394325420967748,
             48.762951260022845
            ],
            "geometry": {
             "coordinates": [
              [
               [
                9.717002606436914,
                48.313141952312556
               ],
               [
                9.714452846463924,
                48.762951260022845
               ],
               [
                10.394325420967748,
                48.76261939395727
               ],
               [
                10.390804378554437,
                48.312813500660305
               ],
               [
                9.717002606436914,
                48.313141952312556
               ]
              ]
             ],
             "type": "Polygon"
            },
            "id": "116",
            "properties": {
             "dates_neg": "04-02-2019",
             "dates_pos": [],
             "grid_id": "50kmE4300N2800",
             "neg_cp": 1,
             "pos_cp": 0,
             "probs_neg": [
              0.41600000858306885
             ],
             "probs_pos": [],
             "species": "Bergente"
            },
            "type": "Feature"
           },
           {
            "bbox": [
             9.711844144009213,
             48.76261939395727,
             10.397927857667705,
             49.21267916696309
            ],
            "geometry": {
             "coordinates": [
              [
               [
                9.714452846463924,
                48.762951260022845
               ],
               [
                9.711844144009213,
                49.21267916696309
               ],
               [
                10.397927857667705,
                49.21234380488751
               ],
               [
                10.394325420967748,
                48.76261939395727
               ],
               [
                9.714452846463924,
                48.762951260022845
               ]
              ]
             ],
             "type": "Polygon"
            },
            "id": "117",
            "properties": {
             "dates_neg": "27-04-2020",
             "dates_pos": [],
             "grid_id": "50kmE4300N2850",
             "neg_cp": 1,
             "pos_cp": 0,
             "probs_neg": [
              0.11299999803304672
             ],
             "probs_pos": [],
             "species": "Bergente"
            },
            "type": "Feature"
           },
           {
            "bbox": [
             9.709174530466672,
             49.21234380488751,
             10.401614407063505,
             49.66233270171688
            ],
            "geometry": {
             "coordinates": [
              [
               [
                9.711844144009213,
                49.21267916696309
               ],
               [
                9.709174530466672,
                49.66233270171688
               ],
               [
                10.401614407063505,
                49.66199375927449
               ],
               [
                10.397927857667705,
                49.21234380488751
               ],
               [
                9.711844144009213,
                49.21267916696309
               ]
              ]
             ],
             "type": "Polygon"
            },
            "id": "118",
            "properties": {
             "dates_neg": "20-04-2021",
             "dates_pos": [],
             "grid_id": "50kmE4300N2900",
             "neg_cp": 1,
             "pos_cp": 0,
             "probs_neg": [
              0.11999999731779099
             ],
             "probs_pos": [],
             "species": "Bergente"
            },
            "type": "Feature"
           },
           {
            "bbox": [
             9.706441946755833,
             49.66199375927449,
             10.405387912495268,
             50.11191889246122
            ],
            "geometry": {
             "coordinates": [
              [
               [
                9.709174530466672,
                49.66233270171688
               ],
               [
                9.706441946755833,
                50.11191889246122
               ],
               [
                10.405387912495268,
                50.11157628240819
               ],
               [
                10.401614407063505,
                49.66199375927449
               ],
               [
                9.709174530466672,
                49.66233270171688
               ]
              ]
             ],
             "type": "Polygon"
            },
            "id": "119",
            "properties": {
             "dates_neg": [],
             "dates_pos": "01-02-2022",
             "grid_id": "50kmE4300N2950",
             "neg_cp": 0,
             "pos_cp": 2,
             "probs_neg": [],
             "probs_pos": [
              0.8050000071525574,
              0.8040000200271606
             ],
             "species": "Bergente"
            },
            "type": "Feature"
           },
           {
            "bbox": [
             9.7036442380952,
             50.11157628240819,
             10.40925134945098,
             50.561444767910345
            ],
            "geometry": {
             "coordinates": [
              [
               [
                9.706441946755833,
                50.11191889246122
               ],
               [
                9.7036442380952,
                50.561444767910345
               ],
               [
                10.40925134945098,
                50.561098399981404
               ],
               [
                10.405387912495268,
                50.11157628240819
               ],
               [
                9.706441946755833,
                50.11191889246122
               ]
              ]
             ],
             "type": "Polygon"
            },
            "id": "120",
            "properties": {
             "dates_neg": "06-07-2021",
             "dates_pos": [],
             "grid_id": "50kmE4300N3000",
             "neg_cp": 1,
             "pos_cp": 0,
             "probs_neg": [
              0.11500000208616257
             ],
             "probs_pos": [],
             "species": "Bergente"
            },
            "type": "Feature"
           },
           {
            "bbox": [
             9.70077914840818,
             50.561098399981404,
             10.413207833290741,
             51.01091735825666
            ],
            "geometry": {
             "coordinates": [
              [
               [
                9.7036442380952,
                50.561444767910345
               ],
               [
                9.70077914840818,
                51.01091735825666
               ],
               [
                10.413207833290741,
                51.01056713902299
               ],
               [
                10.40925134945098,
                50.561098399981404
               ],
               [
                9.7036442380952,
                50.561444767910345
               ]
              ]
             ],
             "type": "Polygon"
            },
            "id": "121",
            "properties": {
             "dates_neg": "15-03-2022",
             "dates_pos": [],
             "grid_id": "50kmE4300N3050",
             "neg_cp": 1,
             "pos_cp": 0,
             "probs_neg": [
              0.23600000143051147
             ],
             "probs_pos": [],
             "species": "Bergente"
            },
            "type": "Feature"
           },
           {
            "bbox": [
             9.697844314331167,
             51.01056713902299,
             10.41726062752039,
             51.46034369610987
            ],
            "geometry": {
             "coordinates": [
              [
               [
                9.70077914840818,
                51.01091735825666
               ],
               [
                9.697844314331167,
                51.46034369610987
               ],
               [
                10.41726062752039,
                51.459989528828345
               ],
               [
                10.413207833290741,
                51.01056713902299
               ],
               [
                9.70077914840818,
                51.01091735825666
               ]
              ]
             ],
             "type": "Polygon"
            },
            "id": "122",
            "properties": {
             "dates_neg": "15-02-2022",
             "dates_pos": [],
             "grid_id": "50kmE4300N3100",
             "neg_cp": 1,
             "pos_cp": 0,
             "probs_neg": [
              0.2070000022649765
             ],
             "probs_pos": [],
             "species": "Bergente"
            },
            "type": "Feature"
           },
           {
            "bbox": [
             9.694837258790294,
             51.459989528828345,
             10.421413152660579,
             51.90973081743419
            ],
            "geometry": {
             "coordinates": [
              [
               [
                9.697844314331167,
                51.46034369610987
               ],
               [
                9.694837258790294,
                51.90973081743419
               ],
               [
                10.421413152660579,
                51.90937260188778
               ],
               [
                10.41726062752039,
                51.459989528828345
               ],
               [
                9.697844314331167,
                51.46034369610987
               ]
              ]
             ],
             "type": "Polygon"
            },
            "id": "123",
            "properties": {
             "dates_neg": "16-07-2018",
             "dates_pos": "16-11-2021",
             "grid_id": "50kmE4300N3150",
             "neg_cp": 1,
             "pos_cp": 2,
             "probs_neg": [
              0.7549999952316284
             ],
             "probs_pos": [
              0.9929999709129333,
              0.9850000143051147
             ],
             "species": "Bergente"
            },
            "type": "Feature"
           },
           {
            "bbox": [
             9.691755384110342,
             51.90937260188778,
             10.425668995761901,
             52.35908576248396
            ],
            "geometry": {
             "coordinates": [
              [
               [
                9.694837258790294,
                51.90973081743419
               ],
               [
                9.691755384110342,
                52.35908576248396
               ],
               [
                10.425668995761901,
                52.35872339481241
               ],
               [
                10.421413152660579,
                51.90937260188778
               ],
               [
                9.694837258790294,
                51.90973081743419
               ]
              ]
             ],
             "type": "Polygon"
            },
            "id": "124",
            "properties": {
             "dates_neg": [],
             "dates_pos": "28-12-2021",
             "grid_id": "50kmE4300N3200",
             "neg_cp": 0,
             "pos_cp": 1,
             "probs_neg": [],
             "probs_pos": [
              0.28200000524520874
             ],
             "species": "Bergente"
            },
            "type": "Feature"
           },
           {
            "bbox": [
             9.688595964615486,
             52.35872339481241,
             10.430031920621625,
             52.80841557673825
            ],
            "geometry": {
             "coordinates": [
              [
               [
                9.691755384110342,
                52.35908576248396
               ],
               [
                9.688595964615486,
                52.80841557673825
               ],
               [
                10.430031920621625,
                52.808048949258314
               ],
               [
                10.425668995761901,
                52.35872339481241
               ],
               [
                9.691755384110342,
                52.35908576248396
               ]
              ]
             ],
             "type": "Polygon"
            },
            "id": "125",
            "properties": {
             "dates_neg": "25-11-2019",
             "dates_pos": [],
             "grid_id": "50kmE4300N3250",
             "neg_cp": 1,
             "pos_cp": 0,
             "probs_neg": [
              0.30399999022483826
             ],
             "probs_pos": [],
             "species": "Bergente"
            },
            "type": "Feature"
           },
           {
            "bbox": [
             9.68535613867767,
             52.808048949258314,
             10.434505878763062,
             53.25772731183458
            ],
            "geometry": {
             "coordinates": [
              [
               [
                9.688595964615486,
                52.80841557673825
               ],
               [
                9.68535613867767,
                53.25772731183458
               ],
               [
                10.434505878763062,
                53.25735631284906
               ],
               [
                10.430031920621625,
                52.808048949258314
               ],
               [
                9.688595964615486,
                52.80841557673825
               ]
              ]
             ],
             "type": "Polygon"
            },
            "id": "126",
            "properties": {
             "dates_neg": "19-08-2019",
             "dates_pos": [],
             "grid_id": "50kmE4300N3300",
             "neg_cp": 1,
             "pos_cp": 0,
             "probs_neg": [
              0.11599999666213989
             ],
             "probs_pos": [],
             "species": "Bergente"
            },
            "type": "Feature"
           },
           {
            "bbox": [
             9.682032900163954,
             53.25735631284906,
             10.439095021244855,
             53.70702802650191
            ],
            "geometry": {
             "coordinates": [
              [
               [
                9.68535613867767,
                53.25772731183458
               ],
               [
                9.682032900163954,
                53.70702802650191
               ],
               [
                10.439095021244855,
                53.70665254009678
               ],
               [
                10.434505878763062,
                53.25735631284906
               ],
               [
                9.68535613867767,
                53.25772731183458
               ]
              ]
             ],
             "type": "Polygon"
            },
            "id": "127",
            "properties": {
             "dates_neg": [],
             "dates_pos": "18-03-2019",
             "grid_id": "50kmE4300N3350",
             "neg_cp": 0,
             "pos_cp": 1,
             "probs_neg": [],
             "probs_pos": [
              0.8069999814033508
             ],
             "species": "Bergente"
            },
            "type": "Feature"
           },
           {
            "bbox": [
             9.678623089229086,
             53.70665254009678,
             10.443803711374215,
             54.15632478749346
            ],
            "geometry": {
             "coordinates": [
              [
               [
                9.682032900163954,
                53.70702802650191
               ],
               [
                9.678623089229086,
                54.15632478749346
               ],
               [
                10.443803711374215,
                54.15594469332192
               ],
               [
                10.439095021244855,
                53.70665254009678
               ],
               [
                9.682032900163954,
                53.70702802650191
               ]
              ]
             ],
             "type": "Polygon"
            },
            "id": "128",
            "properties": {
             "dates_neg": [],
             "dates_pos": "16-02-2021",
             "grid_id": "50kmE4300N3400",
             "neg_cp": 0,
             "pos_cp": 1,
             "probs_neg": [],
             "probs_pos": [
              0.21299999952316284
             ],
             "species": "Bergente"
            },
            "type": "Feature"
           },
           {
            "bbox": [
             9.675123382394194,
             54.15594469332192,
             10.448636538405916,
             54.60562467051945
            ],
            "geometry": {
             "coordinates": [
              [
               [
                9.678623089229086,
                54.15632478749346
               ],
               [
                9.675123382394194,
                54.60562467051945
               ],
               [
                10.448636538405916,
                54.605239843572164
               ],
               [
                10.443803711374215,
                54.15594469332192
               ],
               [
                9.678623089229086,
                54.15632478749346
               ]
              ]
             ],
             "type": "Polygon"
            },
            "id": "129",
            "properties": {
             "dates_neg": [],
             "dates_pos": "23-02-2021",
             "grid_id": "50kmE4300N3450",
             "neg_cp": 0,
             "pos_cp": 1,
             "probs_neg": [],
             "probs_pos": [
              0.1770000010728836
             ],
             "species": "Bergente"
            },
            "type": "Feature"
           },
           {
            "bbox": [
             9.67153028184612,
             54.605239843572164,
             10.453598332317283,
             55.05493476118021
            ],
            "geometry": {
             "coordinates": [
              [
               [
                9.675123382394194,
                54.60562467051945
               ],
               [
                9.67153028184612,
                55.05493476118021
               ],
               [
                10.453598332317283,
                55.0545450715404
               ],
               [
                10.448636538405916,
                54.605239843572164
               ],
               [
                9.675123382394194,
                54.60562467051945
               ]
              ]
             ],
             "type": "Polygon"
            },
            "id": "130",
            "properties": {
             "dates_neg": [],
             "dates_pos": "30-12-2019",
             "grid_id": "50kmE4300N3500",
             "neg_cp": 0,
             "pos_cp": 1,
             "probs_neg": [],
             "probs_pos": [
              0.16300000250339508
             ],
             "species": "Bergente"
            },
            "type": "Feature"
           },
           {
            "bbox": [
             10.377483790164764,
             46.508374649405006,
             11.037039355869384,
             46.96283664057722
            ],
            "geometry": {
             "coordinates": [
              [
               [
                10.377483790164764,
                46.51263451594939
               ],
               [
                10.380704168200957,
                46.96283664057722
               ],
               [
                11.037039355869384,
                46.958534750593124
               ],
               [
                11.028268294907988,
                46.508374649405006
               ],
               [
                10.377483790164764,
                46.51263451594939
               ]
              ]
             ],
             "type": "Polygon"
            },
            "id": "131",
            "properties": {
             "dates_neg": "27-10-2020",
             "dates_pos": [],
             "grid_id": "50kmE4350N2600",
             "neg_cp": 1,
             "pos_cp": 0,
             "probs_neg": [
              0.11800000071525574
             ],
             "probs_pos": [],
             "species": "Bergente"
            },
            "type": "Feature"
           },
           {
            "bbox": [
             10.380704168200957,
             46.958534750593124,
             11.046005504476401,
             47.41292915536426
            ],
            "geometry": {
             "coordinates": [
              [
               [
                10.380704168200957,
                46.96283664057722
               ],
               [
                10.383996187550931,
                47.41292915536426
               ],
               [
                11.046005504476401,
                47.40858427433351
               ],
               [
                11.037039355869384,
                46.958534750593124
               ],
               [
                10.380704168200957,
                46.96283664057722
               ]
              ]
             ],
             "type": "Polygon"
            },
            "id": "132",
            "properties": {
             "dates_neg": "30-12-2019",
             "dates_pos": [],
             "grid_id": "50kmE4350N2650",
             "neg_cp": 1,
             "pos_cp": 0,
             "probs_neg": [
              0.11900000274181366
             ],
             "probs_pos": [],
             "species": "Bergente"
            },
            "type": "Feature"
           },
           {
            "bbox": [
             10.383996187550931,
             47.40858427433351,
             11.055172953154765,
             47.862919097700136
            ],
            "geometry": {
             "coordinates": [
              [
               [
                10.383996187550931,
                47.41292915536426
               ],
               [
                10.38736213020143,
                47.862919097700136
               ],
               [
                11.055172953154765,
                47.85853022675874
               ],
               [
                11.046005504476401,
                47.40858427433351
               ],
               [
                10.383996187550931,
                47.41292915536426
               ]
              ]
             ],
             "type": "Polygon"
            },
            "id": "133",
            "properties": {
             "dates_neg": "28-09-2021",
             "dates_pos": [],
             "grid_id": "50kmE4350N2700",
             "neg_cp": 1,
             "pos_cp": 0,
             "probs_neg": [
              0.19200000166893005
             ],
             "probs_pos": [],
             "species": "Bergente"
            },
            "type": "Feature"
           },
           {
            "bbox": [
             10.38736213020143,
             47.85853022675874,
             11.064548187608006,
             48.312813500660305
            ],
            "geometry": {
             "coordinates": [
              [
               [
                10.38736213020143,
                47.862919097700136
               ],
               [
                10.390804378554437,
                48.312813500660305
               ],
               [
                11.064548187608006,
                48.3083796083107
               ],
               [
                11.055172953154765,
                47.85853022675874
               ],
               [
                10.38736213020143,
                47.862919097700136
               ]
              ]
             ],
             "type": "Polygon"
            },
            "id": "134",
            "properties": {
             "dates_neg": "04-03-2019",
             "dates_pos": [],
             "grid_id": "50kmE4350N2750",
             "neg_cp": 1,
             "pos_cp": 0,
             "probs_neg": [
              0.2540000081062317
             ],
             "probs_pos": [],
             "species": "Bergente"
            },
            "type": "Feature"
           },
           {
            "bbox": [
             10.390804378554437,
             48.3083796083107,
             11.074137981889884,
             48.76261939395727
            ],
            "geometry": {
             "coordinates": [
              [
               [
                10.390804378554437,
                48.312813500660305
               ],
               [
                10.394325420967748,
                48.76261939395727
               ],
               [
                11.074137981889884,
                48.75813941461569
               ],
               [
                11.064548187608006,
                48.3083796083107
               ],
               [
                10.390804378554437,
                48.312813500660305
               ]
              ]
             ],
             "type": "Polygon"
            },
            "id": "135",
            "properties": {
             "dates_neg": [],
             "dates_pos": "09-03-2021",
             "grid_id": "50kmE4350N2800",
             "neg_cp": 0,
             "pos_cp": 1,
             "probs_neg": [],
             "probs_pos": [
              0.2370000034570694
             ],
             "species": "Bergente"
            },
            "type": "Feature"
           },
           {
            "bbox": [
             10.394325420967748,
             48.75813941461569,
             11.083949414488579,
             49.21234380488751
            ],
            "geometry": {
             "coordinates": [
              [
               [
                10.394325420967748,
                48.76261939395727
               ],
               [
                10.397927857667705,
                49.21234380488751
               ],
               [
                11.083949414488579,
                49.20781663735025
               ],
               [
                11.074137981889884,
                48.75813941461569
               ],
               [
                10.394325420967748,
                48.76261939395727
               ]
              ]
             ],
             "type": "Polygon"
            },
            "id": "136",
            "properties": {
             "dates_neg": "14-01-2019",
             "dates_pos": [],
             "grid_id": "50kmE4350N2850",
             "neg_cp": 1,
             "pos_cp": 0,
             "probs_neg": [
              0.9639999866485596
             ],
             "probs_pos": [],
             "species": "Bergente"
            },
            "type": "Feature"
           },
           {
            "bbox": [
             10.397927857667705,
             49.20781663735025,
             11.093989885502877,
             49.66199375927449
            ],
            "geometry": {
             "coordinates": [
              [
               [
                10.397927857667705,
                49.21234380488751
               ],
               [
                10.401614407063505,
                49.66199375927449
               ],
               [
                11.093989885502877,
                49.65741826509745
               ],
               [
                11.083949414488579,
                49.20781663735025
               ],
               [
                10.397927857667705,
                49.21234380488751
               ]
              ]
             ],
             "type": "Polygon"
            },
            "id": "137",
            "properties": {
             "dates_neg": [],
             "dates_pos": [],
             "grid_id": "50kmE4350N2900",
             "neg_cp": 0,
             "pos_cp": 0,
             "probs_neg": [],
             "probs_pos": [],
             "species": "Bergente"
            },
            "type": "Feature"
           },
           {
            "bbox": [
             10.401614407063505,
             49.65741826509745,
             11.104267134997565,
             50.11157628240819
            ],
            "geometry": {
             "coordinates": [
              [
               [
                10.401614407063505,
                49.66199375927449
               ],
               [
                10.405387912495268,
                50.11157628240819
               ],
               [
                11.104267134997565,
                50.10695128419386
               ],
               [
                11.093989885502877,
                49.65741826509745
               ],
               [
                10.401614407063505,
                49.66199375927449
               ]
              ]
             ],
             "type": "Polygon"
            },
            "id": "138",
            "properties": {
             "dates_neg": "31-12-2018",
             "dates_pos": [],
             "grid_id": "50kmE4350N2950",
             "neg_cp": 1,
             "pos_cp": 0,
             "probs_neg": [
              0.26899999380111694
             ],
             "probs_pos": [],
             "species": "Bergente"
            },
            "type": "Feature"
           },
           {
            "bbox": [
             10.405387912495268,
             50.10695128419386,
             11.114789262633622,
             50.561098399981404
            ],
            "geometry": {
             "coordinates": [
              [
               [
                10.405387912495268,
                50.11157628240819
               ],
               [
                10.40925134945098,
                50.561098399981404
               ],
               [
                11.114789262633622,
                50.556422679566694
               ],
               [
                11.104267134997565,
                50.10695128419386
               ],
               [
                10.405387912495268,
                50.11157628240819
               ]
              ]
             ],
             "type": "Polygon"
            },
            "id": "139",
            "properties": {
             "dates_neg": [],
             "dates_pos": "26-11-2018",
             "grid_id": "50kmE4350N3000",
             "neg_cp": 0,
             "pos_cp": 1,
             "probs_neg": [],
             "probs_pos": [
              0.23399999737739563
             ],
             "species": "Bergente"
            },
            "type": "Feature"
           },
           {
            "bbox": [
             10.40925134945098,
             50.556422679566694,
             11.12556474867751,
             51.01056713902299
            ],
            "geometry": {
             "coordinates": [
              [
               [
                10.40925134945098,
                50.561098399981404
               ],
               [
                10.413207833290741,
                51.01056713902299
               ],
               [
                11.12556474867751,
                51.005839435561086
               ],
               [
                11.114789262633622,
                50.556422679566694
               ],
               [
                10.40925134945098,
                50.561098399981404
               ]
              ]
             ],
             "type": "Polygon"
            },
            "id": "140",
            "properties": {
             "dates_neg": "30-07-2018",
             "dates_pos": [],
             "grid_id": "50kmE4350N3050",
             "neg_cp": 1,
             "pos_cp": 0,
             "probs_neg": [
              0.15199999511241913
             ],
             "probs_pos": [],
             "species": "Bergente"
            },
            "type": "Feature"
           },
           {
            "bbox": [
             10.413207833290741,
             51.005839435561086,
             11.136602476503915,
             51.459989528828345
            ],
            "geometry": {
             "coordinates": [
              [
               [
                10.413207833290741,
                51.01056713902299
               ],
               [
                10.41726062752039,
                51.459989528828345
               ],
               [
                11.136602476503915,
                51.45520853675709
               ],
               [
                11.12556474867751,
                51.005839435561086
               ],
               [
                10.413207833290741,
                51.01056713902299
               ]
              ]
             ],
             "type": "Polygon"
            },
            "id": "141",
            "properties": {
             "dates_neg": [],
             "dates_pos": "20-01-2020",
             "grid_id": "50kmE4350N3100",
             "neg_cp": 0,
             "pos_cp": 1,
             "probs_neg": [],
             "probs_pos": [
              0.21299999952316284
             ],
             "species": "Bergente"
            },
            "type": "Feature"
           },
           {
            "bbox": [
             10.41726062752039,
             51.45520853675709,
             11.147911756717152,
             51.90937260188778
            ],
            "geometry": {
             "coordinates": [
              [
               [
                10.41726062752039,
                51.459989528828345
               ],
               [
                10.421413152660579,
                51.90937260188778
               ],
               [
                11.147911756717152,
                51.904536968776156
               ],
               [
                11.136602476503915,
                51.45520853675709
               ],
               [
                10.41726062752039,
                51.459989528828345
               ]
              ]
             ],
             "type": "Polygon"
            },
            "id": "142",
            "properties": {
             "dates_neg": "10-02-2020",
             "dates_pos": [],
             "grid_id": "50kmE4350N3150",
             "neg_cp": 1,
             "pos_cp": 0,
             "probs_neg": [
              0.335999995470047
             ],
             "probs_pos": [],
             "species": "Bergente"
            },
            "type": "Feature"
           },
           {
            "bbox": [
             10.421413152660579,
             51.904536968776156,
             11.159502353028607,
             52.35872339481241
            ],
            "geometry": {
             "coordinates": [
              [
               [
                10.421413152660579,
                51.90937260188778
               ],
               [
                10.425668995761901,
                52.35872339481241
               ],
               [
                11.159502353028607,
                52.353831719076595
               ],
               [
                11.147911756717152,
                51.904536968776156
               ],
               [
                10.421413152660579,
                51.90937260188778
               ]
              ]
             ],
             "type": "Polygon"
            },
            "id": "143",
            "properties": {
             "dates_neg": [],
             "dates_pos": "29-12-2020",
             "grid_id": "50kmE4350N3200",
             "neg_cp": 0,
             "pos_cp": 1,
             "probs_neg": [],
             "probs_pos": [
              0.20399999618530273
             ],
             "species": "Bergente"
            },
            "type": "Feature"
           },
           {
            "bbox": [
             10.425668995761901,
             52.353831719076595,
             11.171384510041166,
             52.808048949258314
            ],
            "geometry": {
             "coordinates": [
              [
               [
                10.425668995761901,
                52.35872339481241
               ],
               [
                10.430031920621625,
                52.808048949258314
               ],
               [
                11.171384510041166,
                52.80309977773747
               ],
               [
                11.159502353028607,
                52.353831719076595
               ],
               [
                10.425668995761901,
                52.35872339481241
               ]
              ]
             ],
             "type": "Polygon"
            },
            "id": "144",
            "properties": {
             "dates_neg": "16-03-2021",
             "dates_pos": [],
             "grid_id": "50kmE4350N3250",
             "neg_cp": 1,
             "pos_cp": 0,
             "probs_neg": [
              0.2840000092983246
             ],
             "probs_pos": [],
             "species": "Bergente"
            },
            "type": "Feature"
           },
           {
            "bbox": [
             10.430031920621625,
             52.80309977773747,
             11.183568983106415,
             53.25735631284906
            ],
            "geometry": {
             "coordinates": [
              [
               [
                10.430031920621625,
                52.808048949258314
               ],
               [
                10.434505878763062,
                53.25735631284906
               ],
               [
                11.183568983106415,
                53.25234813823044
               ],
               [
                11.171384510041166,
                52.80309977773747
               ],
               [
                10.430031920621625,
                52.808048949258314
               ]
              ]
             ],
             "type": "Polygon"
            },
            "id": "145",
            "properties": {
             "dates_neg": "04-01-2022",
             "dates_pos": [],
             "grid_id": "50kmE4350N3300",
             "neg_cp": 1,
             "pos_cp": 0,
             "probs_neg": [
              0.5870000123977661
             ],
             "probs_pos": [],
             "species": "Bergente"
            },
            "type": "Feature"
           },
           {
            "bbox": [
             10.434505878763062,
             53.25234813823044,
             11.196067070437314,
             53.70665254009678
            ],
            "geometry": {
             "coordinates": [
              [
               [
                10.434505878763062,
                53.25735631284906
               ],
               [
                10.439095021244855,
                53.70665254009678
               ],
               [
                11.196067070437314,
                53.70158379817872
               ],
               [
                11.183568983106415,
                53.25234813823044
               ],
               [
                10.434505878763062,
                53.25735631284906
               ]
              ]
             ],
             "type": "Polygon"
            },
            "id": "146",
            "properties": {
             "dates_neg": "26-01-2021",
             "dates_pos": [],
             "grid_id": "50kmE4350N3350",
             "neg_cp": 1,
             "pos_cp": 0,
             "probs_neg": [
              0.20900000631809235
             ],
             "probs_pos": [],
             "species": "Bergente"
            },
            "type": "Feature"
           },
           {
            "bbox": [
             10.439095021244855,
             53.70158379817872,
             11.208890647677459,
             54.15594469332192
            ],
            "geometry": {
             "coordinates": [
              [
               [
                10.439095021244855,
                53.70665254009678
               ],
               [
                10.443803711374215,
                54.15594469332192
               ],
               [
                11.208890647677459,
                54.1508137601025
               ],
               [
                11.196067070437314,
                53.70158379817872
               ],
               [
                10.439095021244855,
                53.70665254009678
               ]
              ]
             ],
             "type": "Polygon"
            },
            "id": "147",
            "properties": {
             "dates_neg": [],
             "dates_pos": "16-02-2021",
             "grid_id": "50kmE4350N3400",
             "neg_cp": 0,
             "pos_cp": 1,
             "probs_neg": [],
             "probs_pos": [
              0.1469999998807907
             ],
             "species": "Bergente"
            },
            "type": "Feature"
           },
           {
            "bbox": [
             10.443803711374215,
             54.1508137601025,
             11.222052205148952,
             54.605239843572164
            ],
            "geometry": {
             "coordinates": [
              [
               [
                10.443803711374215,
                54.15594469332192
               ],
               [
                10.448636538405916,
                54.605239843572164
               ],
               [
                11.222052205148952,
                54.60004503214982
               ],
               [
                11.208890647677459,
                54.1508137601025
               ],
               [
                10.443803711374215,
                54.15594469332192
               ]
              ]
             ],
             "type": "Polygon"
            },
            "id": "148",
            "properties": {
             "dates_neg": [],
             "dates_pos": "19-01-2021",
             "grid_id": "50kmE4350N3450",
             "neg_cp": 0,
             "pos_cp": 1,
             "probs_neg": [],
             "probs_pos": [
              0.26100000739097595
             ],
             "species": "Bergente"
            },
            "type": "Feature"
           },
           {
            "bbox": [
             10.448636538405916,
             54.60004503214982,
             11.23556488802409,
             55.0545450715404
            ],
            "geometry": {
             "coordinates": [
              [
               [
                10.448636538405916,
                54.605239843572164
               ],
               [
                10.453598332317283,
                55.0545450715404
               ],
               [
                11.23556488802409,
                55.04928462881177
               ],
               [
                11.222052205148952,
                54.60004503214982
               ],
               [
                10.448636538405916,
                54.605239843572164
               ]
              ]
             ],
             "type": "Polygon"
            },
            "id": "149",
            "properties": {
             "dates_neg": "18-02-2019",
             "dates_pos": [],
             "grid_id": "50kmE4350N3500",
             "neg_cp": 1,
             "pos_cp": 0,
             "probs_neg": [
              0.3330000042915344
             ],
             "probs_pos": [],
             "species": "Bergente"
            },
            "type": "Feature"
           },
           {
            "bbox": [
             11.037039355869384,
             46.95025059482167,
             11.707867449704809,
             47.40858427433351
            ],
            "geometry": {
             "coordinates": [
              [
               [
                11.037039355869384,
                46.958534750593124
               ],
               [
                11.046005504476401,
                47.40858427433351
               ],
               [
                11.707867449704809,
                47.40021735581991
               ],
               [
                11.693232074772558,
                46.95025059482167
               ],
               [
                11.037039355869384,
                46.958534750593124
               ]
              ]
             ],
             "type": "Polygon"
            },
            "id": "150",
            "properties": {
             "dates_neg": "13-07-2021",
             "dates_pos": [],
             "grid_id": "50kmE4400N2650",
             "neg_cp": 1,
             "pos_cp": 0,
             "probs_neg": [
              0.11699999868869781
             ],
             "probs_pos": [],
             "species": "Bergente"
            },
            "type": "Feature"
           },
           {
            "bbox": [
             11.046005504476401,
             47.40021735581991,
             11.722831287254383,
             47.85853022675874
            ],
            "geometry": {
             "coordinates": [
              [
               [
                11.046005504476401,
                47.40858427433351
               ],
               [
                11.055172953154765,
                47.85853022675874
               ],
               [
                11.722831287254383,
                47.85007862332814
               ],
               [
                11.707867449704809,
                47.40021735581991
               ],
               [
                11.046005504476401,
                47.40858427433351
               ]
              ]
             ],
             "type": "Polygon"
            },
            "id": "151",
            "properties": {
             "dates_neg": [],
             "dates_pos": "28-12-2021",
             "grid_id": "50kmE4400N2700",
             "neg_cp": 0,
             "pos_cp": 1,
             "probs_neg": [],
             "probs_pos": [
              0.3580000102519989
             ],
             "species": "Bergente"
            },
            "type": "Feature"
           },
           {
            "bbox": [
             11.055172953154765,
             47.85007862332814,
             11.738134164531402,
             48.3083796083107
            ],
            "geometry": {
             "coordinates": [
              [
               [
                11.055172953154765,
                47.85853022675874
               ],
               [
                11.064548187608006,
                48.3083796083107
               ],
               [
                11.738134164531402,
                48.29984133502623
               ],
               [
                11.722831287254383,
                47.85007862332814
               ],
               [
                11.055172953154765,
                47.85853022675874
               ]
              ]
             ],
             "type": "Polygon"
            },
            "id": "152",
            "properties": {
             "dates_neg": [],
             "dates_pos": "05-01-2021",
             "grid_id": "50kmE4400N2750",
             "neg_cp": 0,
             "pos_cp": 1,
             "probs_neg": [],
             "probs_pos": [
              0.421999990940094
             ],
             "species": "Bergente"
            },
            "type": "Feature"
           },
           {
            "bbox": [
             11.064548187608006,
             48.29984133502623,
             11.753787128591897,
             48.75813941461569
            ],
            "geometry": {
             "coordinates": [
              [
               [
                11.064548187608006,
                48.3083796083107
               ],
               [
                11.074137981889884,
                48.75813941461569
               ],
               [
                11.753787128591897,
                48.74951242098684
               ],
               [
                11.738134164531402,
                48.29984133502623
               ],
               [
                11.064548187608006,
                48.3083796083107
               ]
              ]
             ],
             "type": "Polygon"
            },
            "id": "153",
            "properties": {
             "dates_neg": "18-01-2022",
             "dates_pos": "02-02-2021",
             "grid_id": "50kmE4400N2800",
             "neg_cp": 1,
             "pos_cp": 1,
             "probs_neg": [
              0.906000018119812
             ],
             "probs_pos": [
              0.949999988079071
             ],
             "species": "Bergente"
            },
            "type": "Feature"
           },
           {
            "bbox": [
             11.074137981889884,
             48.74951242098684,
             11.769801722630278,
             49.20781663735025
            ],
            "geometry": {
             "coordinates": [
              [
               [
                11.074137981889884,
                48.75813941461569
               ],
               [
                11.083949414488579,
                49.20781663735025
               ],
               [
                11.769801722630278,
                49.199098804385365
               ],
               [
                11.753787128591897,
                48.74951242098684
               ],
               [
                11.074137981889884,
                48.75813941461569
               ]
              ]
             ],
             "type": "Polygon"
            },
            "id": "154",
            "properties": {
             "dates_neg": "19-04-2022",
             "dates_pos": [],
             "grid_id": "50kmE4400N2850",
             "neg_cp": 1,
             "pos_cp": 0,
             "probs_neg": [
              0.10700000077486038
             ],
             "probs_pos": [],
             "species": "Bergente"
            },
            "type": "Feature"
           },
           {
            "bbox": [
             11.083949414488579,
             49.199098804385365,
             11.786190013948252,
             49.65741826509745
            ],
            "geometry": {
             "coordinates": [
              [
               [
                11.083949414488579,
                49.20781663735025
               ],
               [
                11.093989885502877,
                49.65741826509745
               ],
               [
                11.786190013948252,
                49.64860740218985
               ],
               [
                11.769801722630278,
                49.199098804385365
               ],
               [
                11.083949414488579,
                49.20781663735025
               ]
              ]
             ],
             "type": "Polygon"
            },
            "id": "155",
            "properties": {
             "dates_neg": "30-03-2021",
             "dates_pos": "03-02-2020",
             "grid_id": "50kmE4400N2900",
             "neg_cp": 1,
             "pos_cp": 1,
             "probs_neg": [
              0.968999981880188
             ],
             "probs_pos": [
              0.7559999823570251
             ],
             "species": "Bergente"
            },
            "type": "Feature"
           },
           {
            "bbox": [
             11.093989885502877,
             49.64860740218985,
             11.802964623842145,
             50.10695128419386
            ],
            "geometry": {
             "coordinates": [
              [
               [
                11.093989885502877,
                49.65741826509745
               ],
               [
                11.104267134997565,
                50.10695128419386
               ],
               [
                11.802964623842145,
                50.09804512583014
               ],
               [
                11.786190013948252,
                49.64860740218985
               ],
               [
                11.093989885502877,
                49.65741826509745
               ]
              ]
             ],
             "type": "Polygon"
            },
            "id": "156",
            "properties": {
             "dates_neg": "15-09-2020",
             "dates_pos": [],
             "grid_id": "50kmE4400N2950",
             "neg_cp": 1,
             "pos_cp": 0,
             "probs_neg": [
              0.11699999868869781
             ],
             "probs_pos": [],
             "species": "Bergente"
            },
            "type": "Feature"
           },
           {
            "bbox": [
             11.104267134997565,
             50.09804512583014,
             11.82013875956377,
             50.556422679566694
            ],
            "geometry": {
             "coordinates": [
              [
               [
                11.104267134997565,
                50.10695128419386
               ],
               [
                11.114789262633622,
                50.556422679566694
               ],
               [
                11.82013875956377,
                50.54741888184476
               ],
               [
                11.802964623842145,
                50.09804512583014
               ],
               [
                11.104267134997565,
                50.10695128419386
               ]
              ]
             ],
             "type": "Polygon"
            },
            "id": "157",
            "properties": {
             "dates_neg": "17-05-2022",
             "dates_pos": [],
             "grid_id": "50kmE4400N3000",
             "neg_cp": 1,
             "pos_cp": 0,
             "probs_neg": [
              0.11800000071525574
             ],
             "probs_pos": [],
             "species": "Bergente"
            },
            "type": "Feature"
           },
           {
            "bbox": [
             11.114789262633622,
             50.54741888184476,
             11.837726248524454,
             51.005839435561086
            ],
            "geometry": {
             "coordinates": [
              [
               [
                11.114789262633622,
                50.556422679566694
               ],
               [
                11.12556474867751,
                51.005839435561086
               ],
               [
                11.837726248524454,
                50.99673557250485
               ],
               [
                11.82013875956377,
                50.54741888184476
               ],
               [
                11.114789262633622,
                50.556422679566694
               ]
              ]
             ],
             "type": "Polygon"
            },
            "id": "158",
            "properties": {
             "dates_neg": "26-10-2021",
             "dates_pos": [],
             "grid_id": "50kmE4400N3050",
             "neg_cp": 1,
             "pos_cp": 0,
             "probs_neg": [
              0.11500000208616257
             ],
             "probs_pos": [],
             "species": "Bergente"
            },
            "type": "Feature"
           },
           {
            "bbox": [
             11.12556474867751,
             50.99673557250485,
             11.855741574927876,
             51.45520853675709
            ],
            "geometry": {
             "coordinates": [
              [
               [
                11.12556474867751,
                51.005839435561086
               ],
               [
                11.136602476503915,
                51.45520853675709
               ],
               [
                11.855741574927876,
                51.4460020964131
               ],
               [
                11.837726248524454,
                50.99673557250485
               ],
               [
                11.12556474867751,
                51.005839435561086
               ]
              ]
             ],
             "type": "Polygon"
            },
            "id": "159",
            "properties": {
             "dates_neg": [],
             "dates_pos": "15-02-2022",
             "grid_id": "50kmE4400N3100",
             "neg_cp": 0,
             "pos_cp": 1,
             "probs_neg": [],
             "probs_pos": [
              0.29600000381469727
             ],
             "species": "Bergente"
            },
            "type": "Feature"
           },
           {
            "bbox": [
             11.136602476503915,
             51.4460020964131,
             11.874199919035165,
             51.904536968776156
            ],
            "geometry": {
             "coordinates": [
              [
               [
                11.136602476503915,
                51.45520853675709
               ],
               [
                11.147911756717152,
                51.904536968776156
               ],
               [
                11.874199919035165,
                51.89522534907663
               ],
               [
                11.855741574927876,
                51.4460020964131
               ],
               [
                11.136602476503915,
                51.45520853675709
               ]
              ]
             ],
             "type": "Polygon"
            },
            "id": "160",
            "properties": {
             "dates_neg": [],
             "dates_pos": "21-12-2021",
             "grid_id": "50kmE4400N3150",
             "neg_cp": 0,
             "pos_cp": 1,
             "probs_neg": [],
             "probs_pos": [
              0.2759999930858612
             ],
             "species": "Bergente"
            },
            "type": "Feature"
           },
           {
            "bbox": [
             11.147911756717152,
             51.89522534907663,
             11.893117199285397,
             52.353831719076595
            ],
            "geometry": {
             "coordinates": [
              [
               [
                11.147911756717152,
                51.904536968776156
               ],
               [
                11.159502353028607,
                52.353831719076595
               ],
               [
                11.893117199285397,
                52.34441222345187
               ],
               [
                11.874199919035165,
                51.89522534907663
               ],
               [
                11.147911756717152,
                51.904536968776156
               ]
              ]
             ],
             "type": "Polygon"
            },
            "id": "161",
            "properties": {
             "dates_neg": "14-01-2019",
             "dates_pos": [],
             "grid_id": "50kmE4400N3200",
             "neg_cp": 1,
             "pos_cp": 0,
             "probs_neg": [
              0.20100000500679016
             ],
             "probs_pos": [],
             "species": "Bergente"
            },
            "type": "Feature"
           },
           {
            "bbox": [
             11.159502353028607,
             52.34441222345187,
             11.912510117516529,
             52.80309977773747
            ],
            "geometry": {
             "coordinates": [
              [
               [
                11.159502353028607,
                52.353831719076595
               ],
               [
                11.171384510041166,
                52.80309977773747
               ],
               [
                11.912510117516529,
                52.79356961045933
               ],
               [
                11.893117199285397,
                52.34441222345187
               ],
               [
                11.159502353028607,
                52.353831719076595
               ]
              ]
             ],
             "type": "Polygon"
            },
            "id": "162",
            "properties": {
             "dates_neg": null,
             "dates_pos": [],
             "grid_id": "50kmE4400N3250",
             "neg_cp": 2,
             "pos_cp": 0,
             "probs_neg": [
              0.824999988079071,
              null
             ],
             "probs_pos": [],
             "species": "Bergente"
            },
            "type": "Feature"
           },
           {
            "bbox": [
             11.171384510041166,
             52.79356961045933,
             11.93239620755612,
             53.25234813823044
            ],
            "geometry": {
             "coordinates": [
              [
               [
                11.171384510041166,
                52.80309977773747
               ],
               [
                11.183568983106415,
                53.25234813823044
               ],
               [
                11.93239620755612,
                53.24270439946643
               ],
               [
                11.912510117516529,
                52.79356961045933
               ],
               [
                11.171384510041166,
                52.80309977773747
               ]
              ]
             ],
             "type": "Polygon"
            },
            "id": "163",
            "properties": {
             "dates_neg": "20-08-2018",
             "dates_pos": [],
             "grid_id": "50kmE4400N3300",
             "neg_cp": 4,
             "pos_cp": 0,
             "probs_neg": [
              0.8169999718666077,
              0.7760000228881836,
              0.7760000228881836,
              0.013000000268220901
             ],
             "probs_pos": [],
             "species": "Bergente"
            },
            "type": "Feature"
           },
           {
            "bbox": [
             11.183568983106415,
             53.24270439946643,
             11.952793887478254,
             53.70158379817872
            ],
            "geometry": {
             "coordinates": [
              [
               [
                11.183568983106415,
                53.25234813823044
               ],
               [
                11.196067070437314,
                53.70158379817872
               ],
               [
                11.952793887478254,
                53.691823478735564
               ],
               [
                11.93239620755612,
                53.24270439946643
               ],
               [
                11.183568983106415,
                53.25234813823044
               ]
              ]
             ],
             "type": "Polygon"
            },
            "id": "164",
            "properties": {
             "dates_neg": "24-12-2018",
             "dates_pos": [],
             "grid_id": "50kmE4400N3350",
             "neg_cp": 1,
             "pos_cp": 0,
             "probs_neg": [
              0.3009999990463257
             ],
             "probs_pos": [],
             "species": "Bergente"
            },
            "type": "Feature"
           },
           {
            "bbox": [
             11.196067070437314,
             53.691823478735564,
             11.973722515853325,
             54.1508137601025
            ],
            "geometry": {
             "coordinates": [
              [
               [
                11.196067070437314,
                53.70158379817872
               ],
               [
                11.208890647677459,
                54.1508137601025
               ],
               [
                11.973722515853325,
                54.140933735834714
               ],
               [
                11.952793887478254,
                53.691823478735564
               ],
               [
                11.196067070437314,
                53.70158379817872
               ]
              ]
             ],
             "type": "Polygon"
            },
            "id": "165",
            "properties": {
             "dates_neg": [],
             "dates_pos": "24-11-2020",
             "grid_id": "50kmE4400N3400",
             "neg_cp": 0,
             "pos_cp": 1,
             "probs_neg": [],
             "probs_pos": [
              0.1979999989271164
             ],
             "species": "Bergente"
            },
            "type": "Feature"
           },
           {
            "bbox": [
             11.208890647677459,
             54.140933735834714,
             11.995202452350906,
             54.60004503214982
            ],
            "geometry": {
             "coordinates": [
              [
               [
                11.208890647677459,
                54.1508137601025
               ],
               [
                11.222052205148952,
                54.60004503214982
               ],
               [
                11.995202452350906,
                54.59004205800784
               ],
               [
                11.973722515853325,
                54.140933735834714
               ],
               [
                11.208890647677459,
                54.1508137601025
               ]
              ]
             ],
             "type": "Polygon"
            },
            "id": "166",
            "properties": {
             "dates_neg": "01-03-2022",
             "dates_pos": "12-01-2021",
             "grid_id": "50kmE4400N3450",
             "neg_cp": 1,
             "pos_cp": 1,
             "probs_neg": [
              0.9710000157356262
             ],
             "probs_pos": [
              0.8539999723434448
             ],
             "species": "Bergente"
            },
            "type": "Feature"
           },
           {
            "bbox": [
             11.222052205148952,
             54.59004205800784,
             12.017255123093673,
             55.04928462881177
            ],
            "geometry": {
             "coordinates": [
              [
               [
                11.222052205148952,
                54.60004503214982
               ],
               [
                11.23556488802409,
                55.04928462881177
               ],
               [
                12.017255123093673,
                55.039155332501274
               ],
               [
                11.995202452350906,
                54.59004205800784
               ],
               [
                11.222052205148952,
                54.60004503214982
               ]
              ]
             ],
             "type": "Polygon"
            },
            "id": "167",
            "properties": {
             "dates_neg": "12-08-2019",
             "dates_pos": [],
             "grid_id": "50kmE4400N3500",
             "neg_cp": 1,
             "pos_cp": 0,
             "probs_neg": [
              0.11500000208616257
             ],
             "probs_pos": [],
             "species": "Bergente"
            },
            "type": "Feature"
           },
           {
            "bbox": [
             11.707867449704809,
             47.38783029804821,
             12.390240820693707,
             47.85007862332814
            ],
            "geometry": {
             "coordinates": [
              [
               [
                11.707867449704809,
                47.40021735581991
               ],
               [
                11.722831287254383,
                47.85007862332814
               ],
               [
                12.390240820693707,
                47.83756625464926
               ],
               [
                12.36948893966052,
                47.38783029804821
               ],
               [
                11.707867449704809,
                47.40021735581991
               ]
              ]
             ],
             "type": "Polygon"
            },
            "id": "168",
            "properties": {
             "dates_neg": "15-10-2018",
             "dates_pos": [],
             "grid_id": "50kmE4450N2700",
             "neg_cp": 1,
             "pos_cp": 0,
             "probs_neg": [
              0.11500000208616257
             ],
             "probs_pos": [],
             "species": "Bergente"
            },
            "type": "Feature"
           },
           {
            "bbox": [
             11.722831287254383,
             47.83756625464926,
             12.411462626880093,
             48.29984133502623
            ],
            "geometry": {
             "coordinates": [
              [
               [
                11.722831287254383,
                47.85007862332814
               ],
               [
                11.738134164531402,
                48.29984133502623
               ],
               [
                12.411462626880093,
                48.2872007201933
               ],
               [
                12.390240820693707,
                47.83756625464926
               ],
               [
                11.722831287254383,
                47.85007862332814
               ]
              ]
             ],
             "type": "Polygon"
            },
            "id": "169",
            "properties": {
             "dates_neg": "30-09-2019",
             "dates_pos": [],
             "grid_id": "50kmE4450N2750",
             "neg_cp": 1,
             "pos_cp": 0,
             "probs_neg": [
              0.19699999690055847
             ],
             "probs_pos": [],
             "species": "Bergente"
            },
            "type": "Feature"
           },
           {
            "bbox": [
             11.738134164531402,
             48.2872007201933,
             12.433169657606465,
             48.74951242098684
            ],
            "geometry": {
             "coordinates": [
              [
               [
                11.738134164531402,
                48.29984133502623
               ],
               [
                11.753787128591897,
                48.74951242098684
               ],
               [
                12.433169657606465,
                48.736740527909475
               ],
               [
                12.411462626880093,
                48.2872007201933
               ],
               [
                11.738134164531402,
                48.29984133502623
               ]
              ]
             ],
             "type": "Polygon"
            },
            "id": "170",
            "properties": {
             "dates_neg": "18-01-2022",
             "dates_pos": [],
             "grid_id": "50kmE4450N2800",
             "neg_cp": 1,
             "pos_cp": 0,
             "probs_neg": [
              0.9990000128746033
             ],
             "probs_pos": [],
             "species": "Bergente"
            },
            "type": "Feature"
           },
           {
            "bbox": [
             11.753787128591897,
             48.736740527909475,
             12.455377898699574,
             49.199098804385365
            ],
            "geometry": {
             "coordinates": [
              [
               [
                11.753787128591897,
                48.74951242098684
               ],
               [
                11.769801722630278,
                49.199098804385365
               ],
               [
                12.455377898699574,
                49.186192499780745
               ],
               [
                12.433169657606465,
                48.736740527909475
               ],
               [
                11.753787128591897,
                48.74951242098684
               ]
              ]
             ],
             "type": "Polygon"
            },
            "id": "171",
            "properties": {
             "dates_neg": "15-03-2022",
             "dates_pos": [],
             "grid_id": "50kmE4450N2850",
             "neg_cp": 1,
             "pos_cp": 0,
             "probs_neg": [
              0.6700000166893005
             ],
             "probs_pos": [],
             "species": "Bergente"
            },
            "type": "Feature"
           },
           {
            "bbox": [
             11.769801722630278,
             49.186192499780745,
             12.478104061075566,
             49.64860740218985
            ],
            "geometry": {
             "coordinates": [
              [
               [
                11.769801722630278,
                49.199098804385365
               ],
               [
                11.786190013948252,
                49.64860740218985
               ],
               [
                12.478104061075566,
                49.635563446988414
               ],
               [
                12.455377898699574,
                49.186192499780745
               ],
               [
                11.769801722630278,
                49.199098804385365
               ]
              ]
             ],
             "type": "Polygon"
            },
            "id": "172",
            "properties": {
             "dates_neg": [],
             "dates_pos": "09-03-2021",
             "grid_id": "50kmE4450N2900",
             "neg_cp": 0,
             "pos_cp": 2,
             "probs_neg": [],
             "probs_pos": [
              1,
              0.023000000044703484
             ],
             "species": "Bergente"
            },
            "type": "Feature"
           },
           {
            "bbox": [
             11.786190013948252,
             49.635563446988414,
             12.501365622036607,
             50.09804512583014
            ],
            "geometry": {
             "coordinates": [
              [
               [
                11.786190013948252,
                49.64860740218985
               ],
               [
                11.802964623842145,
                50.09804512583014
               ],
               [
                12.501365622036607,
                50.08486017031944
               ],
               [
                12.478104061075566,
                49.635563446988414
               ],
               [
                11.786190013948252,
                49.64860740218985
               ]
              ]
             ],
             "type": "Polygon"
            },
            "id": "173",
            "properties": {
             "dates_neg": "24-11-2020",
             "dates_pos": [],
             "grid_id": "50kmE4450N2950",
             "neg_cp": 1,
             "pos_cp": 0,
             "probs_neg": [
              0.11400000005960464
             ],
             "probs_pos": [],
             "species": "Bergente"
            },
            "type": "Feature"
           },
           {
            "bbox": [
             11.802964623842145,
             50.08486017031944,
             12.525180869428343,
             50.54741888184476
            ],
            "geometry": {
             "coordinates": [
              [
               [
                11.802964623842145,
                50.09804512583014
               ],
               [
                11.82013875956377,
                50.54741888184476
               ],
               [
                12.525180869428343,
                50.5340894605332
               ],
               [
                12.501365622036607,
                50.08486017031944
               ],
               [
                11.802964623842145,
                50.09804512583014
               ]
              ]
             ],
             "type": "Polygon"
            },
            "id": "174",
            "properties": {
             "dates_neg": [],
             "dates_pos": "23-03-2021",
             "grid_id": "50kmE4450N3000",
             "neg_cp": 0,
             "pos_cp": 1,
             "probs_neg": [],
             "probs_pos": [
              0.31700000166893005
             ],
             "species": "Bergente"
            },
            "type": "Feature"
           },
           {
            "bbox": [
             11.82013875956377,
             50.5340894605332,
             12.549568948891887,
             50.99673557250485
            ],
            "geometry": {
             "coordinates": [
              [
               [
                11.82013875956377,
                50.54741888184476
               ],
               [
                11.837726248524454,
                50.99673557250485
               ],
               [
                12.549568948891887,
                50.983258098685695
               ],
               [
                12.525180869428343,
                50.5340894605332
               ],
               [
                11.82013875956377,
                50.54741888184476
               ]
              ]
             ],
             "type": "Polygon"
            },
            "id": "175",
            "properties": {
             "dates_neg": [],
             "dates_pos": [],
             "grid_id": "50kmE4450N3050",
             "neg_cp": 0,
             "pos_cp": 0,
             "probs_neg": [],
             "probs_pos": [],
             "species": "Bergente"
            },
            "type": "Feature"
           },
           {
            "bbox": [
             11.837726248524454,
             50.983258098685695,
             12.574549914465914,
             51.4460020964131
            ],
            "geometry": {
             "coordinates": [
              [
               [
                11.837726248524454,
                50.99673557250485
               ],
               [
                11.855741574927876,
                51.4460020964131
               ],
               [
                12.574549914465914,
                51.432372856407504
               ],
               [
                12.549568948891887,
                50.983258098685695
               ],
               [
                11.837726248524454,
                50.99673557250485
               ]
              ]
             ],
             "type": "Polygon"
            },
            "id": "176",
            "properties": {
             "dates_neg": "11-02-2019",
             "dates_pos": "08-12-2020",
             "grid_id": "50kmE4450N3100",
             "neg_cp": 2,
             "pos_cp": 1,
             "probs_neg": [
              0.675000011920929,
              0.3449999988079071
             ],
             "probs_pos": [
              0.8389999866485596
             ],
             "species": "Bergente"
            },
            "type": "Feature"
           },
           {
            "bbox": [
             11.855741574927876,
             51.432372856407504,
             12.600144782819065,
             51.89522534907663
            ],
            "geometry": {
             "coordinates": [
              [
               [
                11.855741574927876,
                51.4460020964131
               ],
               [
                11.874199919035165,
                51.89522534907663
               ],
               [
                12.600144782819065,
                51.881440496132775
               ],
               [
                12.574549914465914,
                51.432372856407504
               ],
               [
                11.855741574927876,
                51.4460020964131
               ]
              ]
             ],
             "type": "Polygon"
            },
            "id": "177",
            "properties": {
             "dates_neg": "03-05-2022",
             "dates_pos": "22-12-2020",
             "grid_id": "50kmE4450N3150",
             "neg_cp": 1,
             "pos_cp": 1,
             "probs_neg": [
              0.5659999847412109
             ],
             "probs_pos": [
              0.7129999995231628
             ],
             "species": "Bergente"
            },
            "type": "Feature"
           },
           {
            "bbox": [
             11.874199919035165,
             51.881440496132775,
             12.626375591419725,
             52.34441222345187
            ],
            "geometry": {
             "coordinates": [
              [
               [
                11.874199919035165,
                51.89522534907663
               ],
               [
                11.893117199285397,
                52.34441222345187
               ],
               [
                12.626375591419725,
                52.33046777127508
               ],
               [
                12.600144782819065,
                51.881440496132775
               ],
               [
                11.874199919035165,
                51.89522534907663
               ]
              ]
             ],
             "type": "Polygon"
            },
            "id": "178",
            "properties": {
             "dates_neg": [],
             "dates_pos": "11-01-2022",
             "grid_id": "50kmE4450N3200",
             "neg_cp": 0,
             "pos_cp": 1,
             "probs_neg": [],
             "probs_pos": [
              0.9990000128746033
             ],
             "species": "Bergente"
            },
            "type": "Feature"
           },
           {
            "bbox": [
             11.893117199285397,
             52.33046777127508,
             12.653265460980554,
             52.79356961045933
            ],
            "geometry": {
             "coordinates": [
              [
               [
                11.893117199285397,
                52.34441222345187
               ],
               [
                11.912510117516529,
                52.79356961045933
               ],
               [
                12.653265460980554,
                52.77946142634623
               ],
               [
                12.626375591419725,
                52.33046777127508
               ],
               [
                11.893117199285397,
                52.34441222345187
               ]
              ]
             ],
             "type": "Polygon"
            },
            "id": "179",
            "properties": {
             "dates_neg": [],
             "dates_pos": "22-03-2022",
             "grid_id": "50kmE4450N3250",
             "neg_cp": 0,
             "pos_cp": 1,
             "probs_neg": [],
             "probs_pos": [
              0.17499999701976776
             ],
             "species": "Bergente"
            },
            "type": "Feature"
           },
           {
            "bbox": [
             11.912510117516529,
             52.77946142634623,
             12.680838662548283,
             53.24270439946643
            ],
            "geometry": {
             "coordinates": [
              [
               [
                11.912510117516529,
                52.79356961045933
               ],
               [
                11.93239620755612,
                53.24270439946643
               ],
               [
                12.680838662548283,
                53.228428197013606
               ],
               [
                12.653265460980554,
                52.77946142634623
               ],
               [
                11.912510117516529,
                52.79356961045933
               ]
              ]
             ],
             "type": "Polygon"
            },
            "id": "180",
            "properties": {
             "dates_neg": "08-12-2020",
             "dates_pos": [],
             "grid_id": "50kmE4450N3300",
             "neg_cp": 1,
             "pos_cp": 0,
             "probs_neg": [
              0.3319999873638153
             ],
             "probs_pos": [],
             "species": "Bergente"
            },
            "type": "Feature"
           },
           {
            "bbox": [
             11.93239620755612,
             53.228428197013606,
             12.709120689646689,
             53.691823478735564
            ],
            "geometry": {
             "coordinates": [
              [
               [
                11.93239620755612,
                53.24270439946643
               ],
               [
                11.952793887478254,
                53.691823478735564
               ],
               [
                12.709120689646689,
                53.67737481009061
               ],
               [
                12.680838662548283,
                53.228428197013606
               ],
               [
                11.93239620755612,
                53.24270439946643
               ]
              ]
             ],
             "type": "Polygon"
            },
            "id": "181",
            "properties": {
             "dates_neg": null,
             "dates_pos": "05-10-2021",
             "grid_id": "50kmE4450N3350",
             "neg_cp": 1,
             "pos_cp": 2,
             "probs_neg": [
              null
             ],
             "probs_pos": [
              0.9679999947547913,
              0.6340000033378601
             ],
             "species": "Bergente"
            },
            "type": "Feature"
           },
           {
            "bbox": [
             11.952793887478254,
             53.67737481009061,
             12.73813833592199,
             54.140933735834714
            ],
            "geometry": {
             "coordinates": [
              [
               [
                11.952793887478254,
                53.691823478735564
               ],
               [
                11.973722515853325,
                54.140933735834714
               ],
               [
                12.73813833592199,
                54.12630798345504
               ],
               [
                12.709120689646689,
                53.67737481009061
               ],
               [
                11.952793887478254,
                53.691823478735564
               ]
              ]
             ],
             "type": "Polygon"
            },
            "id": "182",
            "properties": {
             "dates_neg": "07-01-2019",
             "dates_pos": [],
             "grid_id": "50kmE4450N3400",
             "neg_cp": 1,
             "pos_cp": 0,
             "probs_neg": [
              0.1850000023841858
             ],
             "probs_pos": [],
             "species": "Bergente"
            },
            "type": "Feature"
           },
           {
            "bbox": [
             11.973722515853325,
             54.12630798345504,
             12.76791977878606,
             54.59004205800784
            ],
            "geometry": {
             "coordinates": [
              [
               [
                11.973722515853325,
                54.140933735834714
               ],
               [
                11.995202452350906,
                54.59004205800784
               ],
               [
                12.76791977878606,
                54.57523442588902
               ],
               [
                12.73813833592199,
                54.12630798345504
               ],
               [
                11.973722515853325,
                54.140933735834714
               ]
              ]
             ],
             "type": "Polygon"
            },
            "id": "183",
            "properties": {
             "dates_neg": [],
             "dates_pos": "29-12-2020",
             "grid_id": "50kmE4450N3450",
             "neg_cp": 0,
             "pos_cp": 1,
             "probs_neg": [],
             "probs_pos": [
              0.6990000009536743
             ],
             "species": "Bergente"
            },
            "type": "Feature"
           },
           {
            "bbox": [
             12.36948893966052,
             47.37142590830987,
             13.057305529731265,
             47.83756625464926
            ],
            "geometry": {
             "coordinates": [
              [
               [
                12.36948893966052,
                47.38783029804821
               ],
               [
                12.390240820693707,
                47.83756625464926
               ],
               [
                13.057305529731265,
                47.82099603001101
               ],
               [
                13.030777163766034,
                47.37142590830987
               ],
               [
                12.36948893966052,
                47.38783029804821
               ]
              ]
             ],
             "type": "Polygon"
            },
            "id": "184",
            "properties": {
             "dates_neg": "16-09-2019",
             "dates_pos": [],
             "grid_id": "50kmE4500N2700",
             "neg_cp": 1,
             "pos_cp": 0,
             "probs_neg": [
              0.11400000005960464
             ],
             "probs_pos": [],
             "species": "Bergente"
            },
            "type": "Feature"
           },
           {
            "bbox": [
             12.390240820693707,
             47.82099603001101,
             13.084434196357215,
             48.2872007201933
            ],
            "geometry": {
             "coordinates": [
              [
               [
                12.390240820693707,
                47.83756625464926
               ],
               [
                12.411462626880093,
                48.2872007201933
               ],
               [
                13.084434196357215,
                48.27046077971817
               ],
               [
                13.057305529731265,
                47.82099603001101
               ],
               [
                12.390240820693707,
                47.83756625464926
               ]
              ]
             ],
             "type": "Polygon"
            },
            "id": "185",
            "properties": {
             "dates_neg": [],
             "dates_pos": "13-01-2020",
             "grid_id": "50kmE4500N2750",
             "neg_cp": 0,
             "pos_cp": 1,
             "probs_neg": [],
             "probs_pos": [
              0.45899999141693115
             ],
             "species": "Bergente"
            },
            "type": "Feature"
           },
           {
            "bbox": [
             12.411462626880093,
             48.27046077971817,
             13.112182686792604,
             48.736740527909475
            ],
            "geometry": {
             "coordinates": [
              [
               [
                12.411462626880093,
                48.2872007201933
               ],
               [
                12.433169657606465,
                48.736740527909475
               ],
               [
                13.112182686792604,
                48.719826862789326
               ],
               [
                13.084434196357215,
                48.27046077971817
               ],
               [
                12.411462626880093,
                48.2872007201933
               ]
              ]
             ],
             "type": "Polygon"
            },
            "id": "186",
            "properties": {
             "dates_neg": [],
             "dates_pos": "13-04-2021",
             "grid_id": "50kmE4500N2800",
             "neg_cp": 0,
             "pos_cp": 2,
             "probs_neg": [],
             "probs_pos": [
              0.9819999933242798,
              0.5220000147819519
             ],
             "species": "Bergente"
            },
            "type": "Feature"
           },
           {
            "bbox": [
             12.433169657606465,
             48.719826862789326,
             13.14057139899229,
             49.186192499780745
            ],
            "geometry": {
             "coordinates": [
              [
               [
                12.433169657606465,
                48.736740527909475
               ],
               [
                12.455377898699574,
                49.186192499780745
               ],
               [
                13.14057139899229,
                49.16910096760349
               ],
               [
                13.112182686792604,
                48.719826862789326
               ],
               [
                12.433169657606465,
                48.736740527909475
               ]
              ]
             ],
             "type": "Polygon"
            },
            "id": "187",
            "properties": {
             "dates_neg": "07-01-2019",
             "dates_pos": [],
             "grid_id": "50kmE4500N2850",
             "neg_cp": 1,
             "pos_cp": 0,
             "probs_neg": [
              0.9860000014305115
             ],
             "probs_pos": [],
             "species": "Bergente"
            },
            "type": "Feature"
           },
           {
            "bbox": [
             12.455377898699574,
             49.16910096760349,
             13.169621654892614,
             49.635563446988414
            ],
            "geometry": {
             "coordinates": [
              [
               [
                12.455377898699574,
                49.186192499780745
               ],
               [
                12.478104061075566,
                49.635563446988414
               ],
               [
                13.169621654892614,
                49.61828976568286
               ],
               [
                13.14057139899229,
                49.16910096760349
               ],
               [
                12.455377898699574,
                49.186192499780745
               ]
              ]
             ],
             "type": "Polygon"
            },
            "id": "188",
            "properties": {
             "dates_neg": "26-10-2021",
             "dates_pos": [],
             "grid_id": "50kmE4500N2900",
             "neg_cp": 1,
             "pos_cp": 0,
             "probs_neg": [
              0.11299999803304672
             ],
             "probs_pos": [],
             "species": "Bergente"
            },
            "type": "Feature"
           },
           {
            "bbox": [
             12.478104061075566,
             49.61828976568286,
             13.199355752948362,
             50.08486017031944
            ],
            "geometry": {
             "coordinates": [
              [
               [
                12.478104061075566,
                49.635563446988414
               ],
               [
                12.501365622036607,
                50.08486017031944
               ],
               [
                13.199355752948362,
                50.067399911755466
               ],
               [
                13.169621654892614,
                49.61828976568286
               ],
               [
                12.478104061075566,
                49.635563446988414
               ]
              ]
             ],
             "type": "Polygon"
            },
            "id": "189",
            "properties": {
             "dates_neg": "16-03-2020",
             "dates_pos": [],
             "grid_id": "50kmE4500N2950",
             "neg_cp": 1,
             "pos_cp": 0,
             "probs_neg": [
              0.11800000071525574
             ],
             "probs_pos": [],
             "species": "Bergente"
            },
            "type": "Feature"
           },
           {
            "bbox": [
             12.501365622036607,
             50.067399911755466,
             13.229797024302176,
             50.5340894605332
            ],
            "geometry": {
             "coordinates": [
              [
               [
                12.501365622036607,
                50.08486017031944
               ],
               [
                12.525180869428343,
                50.5340894605332
               ],
               [
                13.229797024302176,
                50.51643804375384
               ],
               [
                13.199355752948362,
                50.067399911755466
               ],
               [
                12.501365622036607,
                50.08486017031944
               ]
              ]
             ],
             "type": "Polygon"
            },
            "id": "190",
            "properties": {
             "dates_neg": "08-09-2020",
             "dates_pos": [],
             "grid_id": "50kmE4500N3000",
             "neg_cp": 1,
             "pos_cp": 0,
             "probs_neg": [
              0.11800000071525574
             ],
             "probs_pos": [],
             "species": "Bergente"
            },
            "type": "Feature"
           },
           {
            "bbox": [
             12.525180869428343,
             50.51643804375384,
             13.260969892882333,
             50.983258098685695
            ],
            "geometry": {
             "coordinates": [
              [
               [
                12.525180869428343,
                50.5340894605332
               ],
               [
                12.549568948891887,
                50.983258098685695
               ],
               [
                13.260969892882333,
                50.96541078274497
               ],
               [
                13.229797024302176,
                50.51643804375384
               ],
               [
                12.525180869428343,
                50.5340894605332
               ]
              ]
             ],
             "type": "Polygon"
            },
            "id": "191",
            "properties": {
             "dates_neg": "07-07-2020",
             "dates_pos": [],
             "grid_id": "50kmE4500N3050",
             "neg_cp": 1,
             "pos_cp": 0,
             "probs_neg": [
              0.11299999803304672
             ],
             "probs_pos": [],
             "species": "Bergente"
            },
            "type": "Feature"
           },
           {
            "bbox": [
             12.549568948891887,
             50.96541078274497,
             13.292899939752683,
             51.432372856407504
            ],
            "geometry": {
             "coordinates": [
              [
               [
                12.549568948891887,
                50.983258098685695
               ],
               [
                12.574549914465914,
                51.432372856407504
               ],
               [
                13.292899939752683,
                51.41432473278651
               ],
               [
                13.260969892882333,
                50.96541078274497
               ],
               [
                12.549568948891887,
                50.983258098685695
               ]
              ]
             ],
             "type": "Polygon"
            },
            "id": "192",
            "properties": {
             "dates_neg": "24-12-2018",
             "dates_pos": [],
             "grid_id": "50kmE4500N3100",
             "neg_cp": 1,
             "pos_cp": 0,
             "probs_neg": [
              0.7139999866485596
             ],
             "probs_pos": [],
             "species": "Bergente"
            },
            "type": "Feature"
           },
           {
            "bbox": [
             12.574549914465914,
             51.41432473278651,
             13.325613972069442,
             51.881440496132775
            ],
            "geometry": {
             "coordinates": [
              [
               [
                12.574549914465914,
                51.432372856407504
               ],
               [
                12.600144782819065,
                51.881440496132775
               ],
               [
                13.325613972069442,
                51.8631864807036
               ],
               [
                13.292899939752683,
                51.41432473278651
               ],
               [
                12.574549914465914,
                51.432372856407504
               ]
              ]
             ],
             "type": "Polygon"
            },
            "id": "193",
            "properties": {
             "dates_neg": [],
             "dates_pos": "11-01-2022",
             "grid_id": "50kmE4500N3150",
             "neg_cp": 0,
             "pos_cp": 2,
             "probs_neg": [],
             "probs_pos": [
              0.6610000133514404,
              0.3499999940395355
             ],
             "species": "Bergente"
            },
            "type": "Feature"
           },
           {
            "bbox": [
             12.600144782819065,
             51.8631864807036,
             13.35914009703368,
             52.33046777127508
            ],
            "geometry": {
             "coordinates": [
              [
               [
                12.600144782819065,
                51.881440496132775
               ],
               [
                12.626375591419725,
                52.33046777127508
               ],
               [
                13.35914009703368,
                52.312002595780086
               ],
               [
                13.325613972069442,
                51.8631864807036
               ],
               [
                12.600144782819065,
                51.881440496132775
               ]
              ]
             ],
             "type": "Polygon"
            },
            "id": "194",
            "properties": {
             "dates_neg": "22-02-2022",
             "dates_pos": [],
             "grid_id": "50kmE4500N3200",
             "neg_cp": 1,
             "pos_cp": 0,
             "probs_neg": [
              0.20100000500679016
             ],
             "probs_pos": [],
             "species": "Bergente"
            },
            "type": "Feature"
           },
           {
            "bbox": [
             12.626375591419725,
             52.312002595780086,
             13.393507801266303,
             52.77946142634623
            ],
            "geometry": {
             "coordinates": [
              [
               [
                12.626375591419725,
                52.33046777127508
               ],
               [
                12.653265460980554,
                52.77946142634623
               ],
               [
                13.393507801266303,
                52.760779629356904
               ],
               [
                13.35914009703368,
                52.312002595780086
               ],
               [
                12.626375591419725,
                52.33046777127508
               ]
              ]
             ],
             "type": "Polygon"
            },
            "id": "195",
            "properties": {
             "dates_neg": "20-01-2020",
             "dates_pos": [],
             "grid_id": "50kmE4500N3250",
             "neg_cp": 1,
             "pos_cp": 0,
             "probs_neg": [
              0.1589999943971634
             ],
             "probs_pos": [],
             "species": "Bergente"
            },
            "type": "Feature"
           },
           {
            "bbox": [
             12.653265460980554,
             52.760779629356904,
             13.4287480360745,
             53.228428197013606
            ],
            "geometry": {
             "coordinates": [
              [
               [
                12.653265460980554,
                52.77946142634623
               ],
               [
                12.680838662548283,
                53.228428197013606
               ],
               [
                13.4287480360745,
                53.20952411433065
               ],
               [
                13.393507801266303,
                52.760779629356904
               ],
               [
                12.653265460980554,
                52.77946142634623
               ]
              ]
             ],
             "type": "Polygon"
            },
            "id": "196",
            "properties": {
             "dates_neg": "30-07-2018",
             "dates_pos": [],
             "grid_id": "50kmE4500N3300",
             "neg_cp": 1,
             "pos_cp": 0,
             "probs_neg": [
              0.12600000202655792
             ],
             "probs_pos": [],
             "species": "Bergente"
            },
            "type": "Feature"
           },
           {
            "bbox": [
             12.680838662548283,
             53.20952411433065,
             13.464893309125529,
             53.67737481009061
            ],
            "geometry": {
             "coordinates": [
              [
               [
                12.680838662548283,
                53.228428197013606
               ],
               [
                12.709120689646689,
                53.67737481009061
               ],
               [
                13.464893309125529,
                53.65824256454321
               ],
               [
                13.4287480360745,
                53.20952411433065
               ],
               [
                12.680838662548283,
                53.228428197013606
               ]
              ]
             ],
             "type": "Polygon"
            },
            "id": "197",
            "properties": {
             "dates_neg": [],
             "dates_pos": [],
             "grid_id": "50kmE4500N3350",
             "neg_cp": 0,
             "pos_cp": 0,
             "probs_neg": [],
             "probs_pos": [],
             "species": "Bergente"
            },
            "type": "Feature"
           },
           {
            "bbox": [
             12.709120689646689,
             53.65824256454321,
             13.50197778309589,
             54.12630798345504
            ],
            "geometry": {
             "coordinates": [
              [
               [
                12.709120689646689,
                53.67737481009061
               ],
               [
                12.73813833592199,
                54.12630798345504
               ],
               [
                13.50197778309589,
                54.106941474053635
               ],
               [
                13.464893309125529,
                53.65824256454321
               ],
               [
                12.709120689646689,
                53.67737481009061
               ]
              ]
             ],
             "type": "Polygon"
            },
            "id": "198",
            "properties": {
             "dates_neg": [],
             "dates_pos": "01-12-2020",
             "grid_id": "50kmE4500N3400",
             "neg_cp": 0,
             "pos_cp": 1,
             "probs_neg": [],
             "probs_pos": [
              0.5809999704360962
             ],
             "species": "Bergente"
            },
            "type": "Feature"
           },
           {
            "bbox": [
             12.73813833592199,
             54.106941474053635,
             13.54003738192231,
             54.57523442588902
            ],
            "geometry": {
             "coordinates": [
              [
               [
                12.73813833592199,
                54.12630798345504
               ],
               [
                12.76791977878606,
                54.57523442588902
               ],
               [
                13.54003738192231,
                54.555627316281914
               ],
               [
                13.50197778309589,
                54.106941474053635
               ],
               [
                12.73813833592199,
                54.12630798345504
               ]
              ]
             ],
             "type": "Polygon"
            },
            "id": "199",
            "properties": {
             "dates_neg": "26-04-2022",
             "dates_pos": "17-08-2021",
             "grid_id": "50kmE4500N3450",
             "neg_cp": 1,
             "pos_cp": 1,
             "probs_neg": [
              0.9169999957084656
             ],
             "probs_pos": [
              0.9729999899864197
             ],
             "species": "Bergente"
            },
            "type": "Feature"
           },
           {
            "bbox": [
             12.76791977878606,
             54.555627316281914,
             13.579109905345867,
             55.0241608368334
            ],
            "geometry": {
             "coordinates": [
              [
               [
                12.76791977878606,
                54.57523442588902
               ],
               [
                12.798494669604638,
                55.0241608368334
               ],
               [
                13.579109905345867,
                55.004306543012895
               ],
               [
                13.54003738192231,
                54.555627316281914
               ],
               [
                12.76791977878606,
                54.57523442588902
               ]
              ]
             ],
             "type": "Polygon"
            },
            "id": "200",
            "properties": {
             "dates_neg": [],
             "dates_pos": "28-09-2021",
             "grid_id": "50kmE4500N3500",
             "neg_cp": 0,
             "pos_cp": 1,
             "probs_neg": [],
             "probs_pos": [
              0.7829999923706055
             ],
             "species": "Bergente"
            },
            "type": "Feature"
           },
           {
            "bbox": [
             13.030777163766034,
             47.35100789885775,
             13.723929789226002,
             47.82099603001101
            ],
            "geometry": {
             "coordinates": [
              [
               [
                13.030777163766034,
                47.37142590830987
               ],
               [
                13.057305529731265,
                47.82099603001101
               ],
               [
                13.723929789226002,
                47.80037179641359
               ],
               [
                13.691639689219139,
                47.35100789885775
               ],
               [
                13.030777163766034,
                47.37142590830987
               ]
              ]
             ],
             "type": "Polygon"
            },
            "id": "201",
            "properties": {
             "dates_neg": "17-05-2022",
             "dates_pos": [],
             "grid_id": "50kmE4550N2700",
             "neg_cp": 1,
             "pos_cp": 0,
             "probs_neg": [
              0.11599999666213989
             ],
             "probs_pos": [],
             "species": "Bergente"
            },
            "type": "Feature"
           },
           {
            "bbox": [
             13.057305529731265,
             47.80037179641359,
             13.756949915493268,
             48.27046077971817
            ],
            "geometry": {
             "coordinates": [
              [
               [
                13.057305529731265,
                47.82099603001101
               ],
               [
                13.084434196357215,
                48.27046077971817
               ],
               [
                13.756949915493268,
                48.249625501443475
               ],
               [
                13.723929789226002,
                47.80037179641359
               ],
               [
                13.057305529731265,
                47.82099603001101
               ]
              ]
             ],
             "type": "Polygon"
            },
            "id": "202",
            "properties": {
             "dates_neg": "12-04-2022",
             "dates_pos": [],
             "grid_id": "50kmE4550N2750",
             "neg_cp": 1,
             "pos_cp": 0,
             "probs_neg": [
              0.11400000005960464
             ],
             "probs_pos": [],
             "species": "Bergente"
            },
            "type": "Feature"
           },
           {
            "bbox": [
             13.084434196357215,
             48.249625501443475,
             13.790723778576401,
             48.719826862789326
            ],
            "geometry": {
             "coordinates": [
              [
               [
                13.084434196357215,
                48.27046077971817
               ],
               [
                13.112182686792604,
                48.719826862789326
               ],
               [
                13.790723778576401,
                48.6987755607516
               ],
               [
                13.756949915493268,
                48.249625501443475
               ],
               [
                13.084434196357215,
                48.27046077971817
               ]
              ]
             ],
             "type": "Polygon"
            },
            "id": "203",
            "properties": {
             "dates_neg": [],
             "dates_pos": [],
             "grid_id": "50kmE4550N2800",
             "neg_cp": 0,
             "pos_cp": 0,
             "probs_neg": [],
             "probs_pos": [],
             "species": "Bergente"
            },
            "type": "Feature"
           },
           {
            "bbox": [
             13.112182686792604,
             48.6987755607516,
             13.825276149744958,
             49.16910096760349
            ],
            "geometry": {
             "coordinates": [
              [
               [
                13.112182686792604,
                48.719826862789326
               ],
               [
                13.14057139899229,
                49.16910096760349
               ],
               [
                13.825276149744958,
                49.14782849707013
               ],
               [
                13.790723778576401,
                48.6987755607516
               ],
               [
                13.112182686792604,
                48.719826862789326
               ]
              ]
             ],
             "type": "Polygon"
            },
            "id": "204",
            "properties": {
             "dates_neg": "11-05-2021",
             "dates_pos": [],
             "grid_id": "50kmE4550N2850",
             "neg_cp": 1,
             "pos_cp": 0,
             "probs_neg": [
              0.11900000274181366
             ],
             "probs_pos": [],
             "species": "Bergente"
            },
            "type": "Feature"
           },
           {
            "bbox": [
             13.199355752948362,
             50.04566896956719,
             13.933869213511642,
             50.51643804375384
            ],
            "geometry": {
             "coordinates": [
              [
               [
                13.199355752948362,
                50.067399911755466
               ],
               [
                13.229797024302176,
                50.51643804375384
               ],
               [
                13.933869213511642,
                50.49446942792948
               ],
               [
                13.896821166076204,
                50.04566896956719
               ],
               [
                13.199355752948362,
                50.067399911755466
               ]
              ]
             ],
             "type": "Polygon"
            },
            "id": "205",
            "properties": {
             "dates_neg": "15-09-2020",
             "dates_pos": [],
             "grid_id": "50kmE4550N3000",
             "neg_cp": 1,
             "pos_cp": 0,
             "probs_neg": [
              0.11599999666213989
             ],
             "probs_pos": [],
             "species": "Bergente"
            },
            "type": "Feature"
           },
           {
            "bbox": [
             13.229797024302176,
             50.49446942792948,
             13.971806714212924,
             50.96541078274497
            ],
            "geometry": {
             "coordinates": [
              [
               [
                13.229797024302176,
                50.51643804375384
               ],
               [
                13.260969892882333,
                50.96541078274497
               ],
               [
                13.971806714212924,
                50.9431986066582
               ],
               [
                13.933869213511642,
                50.49446942792948
               ],
               [
                13.229797024302176,
                50.51643804375384
               ]
              ]
             ],
             "type": "Polygon"
            },
            "id": "206",
            "properties": {
             "dates_neg": [],
             "dates_pos": "30-07-2018",
             "grid_id": "50kmE4550N3050",
             "neg_cp": 0,
             "pos_cp": 1,
             "probs_neg": [],
             "probs_pos": [
              0.23600000143051147
             ],
             "species": "Bergente"
            },
            "type": "Feature"
           },
           {
            "bbox": [
             13.260969892882333,
             50.9431986066582,
             14.010664721833768,
             51.41432473278651
            ],
            "geometry": {
             "coordinates": [
              [
               [
                13.260969892882333,
                50.96541078274497
               ],
               [
                13.292899939752683,
                51.41432473278651
               ],
               [
                14.010664721833768,
                51.39186290215551
               ],
               [
                13.971806714212924,
                50.9431986066582
               ],
               [
                13.260969892882333,
                50.96541078274497
               ]
              ]
             ],
             "type": "Polygon"
            },
            "id": "207",
            "properties": {
             "dates_neg": [],
             "dates_pos": [],
             "grid_id": "50kmE4550N3100",
             "neg_cp": 0,
             "pos_cp": 0,
             "probs_neg": [],
             "probs_pos": [],
             "species": "Bergente"
            },
            "type": "Feature"
           },
           {
            "bbox": [
             13.292899939752683,
             51.39186290215551,
             14.050475775636494,
             51.8631864807036
            ],
            "geometry": {
             "coordinates": [
              [
               [
                13.292899939752683,
                51.41432473278651
               ],
               [
                13.325613972069442,
                51.8631864807036
               ],
               [
                14.050475775636494,
                51.84046868365779
               ],
               [
                14.010664721833768,
                51.39186290215551
               ],
               [
                13.292899939752683,
                51.41432473278651
               ]
              ]
             ],
             "type": "Polygon"
            },
            "id": "208",
            "properties": {
             "dates_neg": "16-03-2020",
             "dates_pos": "21-12-2021",
             "grid_id": "50kmE4550N3150",
             "neg_cp": 1,
             "pos_cp": 1,
             "probs_neg": [
              0.42399999499320984
             ],
             "probs_pos": [
              0.7020000219345093
             ],
             "species": "Bergente"
            },
            "type": "Feature"
           },
           {
            "bbox": [
             13.325613972069442,
             51.84046868365779,
             14.091273989889709,
             52.312002595780086
            ],
            "geometry": {
             "coordinates": [
              [
               [
                13.325613972069442,
                51.8631864807036
               ],
               [
                13.35914009703368,
                52.312002595780086
               ],
               [
                14.091273989889709,
                52.289022292329356
               ],
               [
                14.050475775636494,
                51.84046868365779
               ],
               [
                13.325613972069442,
                51.8631864807036
               ]
              ]
             ],
             "type": "Polygon"
            },
            "id": "209",
            "properties": {
             "dates_neg": [],
             "dates_pos": "15-02-2022",
             "grid_id": "50kmE4550N3200",
             "neg_cp": 0,
             "pos_cp": 1,
             "probs_neg": [],
             "probs_pos": [
              0.17100000381469727
             ],
             "species": "Bergente"
            },
            "type": "Feature"
           },
           {
            "bbox": [
             13.35914009703368,
             52.289022292329356,
             14.13309514980295,
             52.760779629356904
            ],
            "geometry": {
             "coordinates": [
              [
               [
                13.35914009703368,
                52.312002595780086
               ],
               [
                13.393507801266303,
                52.760779629356904
               ],
               [
                14.13309514980295,
                52.73753004022016
               ],
               [
                14.091273989889709,
                52.289022292329356
               ],
               [
                13.35914009703368,
                52.312002595780086
               ]
              ]
             ],
             "type": "Polygon"
            },
            "id": "210",
            "properties": {
             "dates_neg": "12-11-2018",
             "dates_pos": [],
             "grid_id": "50kmE4550N3250",
             "neg_cp": 1,
             "pos_cp": 0,
             "probs_neg": [
              0.17100000381469727
             ],
             "probs_pos": [],
             "species": "Bergente"
            },
            "type": "Feature"
           },
           {
            "bbox": [
             13.393507801266303,
             52.73753004022016,
             14.175976814561848,
             53.20952411433065
            ],
            "geometry": {
             "coordinates": [
              [
               [
                13.393507801266303,
                52.760779629356904
               ],
               [
                13.4287480360745,
                53.20952411433065
               ],
               [
                14.175976814561848,
                53.18599820907573
               ],
               [
                14.13309514980295,
                52.73753004022016
               ],
               [
                13.393507801266303,
                52.760779629356904
               ]
              ]
             ],
             "type": "Polygon"
            },
            "id": "211",
            "properties": {
             "dates_neg": [],
             "dates_pos": "29-12-2020",
             "grid_id": "50kmE4550N3300",
             "neg_cp": 0,
             "pos_cp": 1,
             "probs_neg": [],
             "probs_pos": [
              0.24400000274181366
             ],
             "species": "Bergente"
            },
            "type": "Feature"
           },
           {
            "bbox": [
             13.4287480360745,
             53.18599820907573,
             14.219958428083434,
             53.65824256454321
            ],
            "geometry": {
             "coordinates": [
              [
               [
                13.4287480360745,
                53.20952411433065
               ],
               [
                13.464893309125529,
                53.65824256454321
               ],
               [
                14.219958428083434,
                53.63443304898739
               ],
               [
                14.175976814561848,
                53.18599820907573
               ],
               [
                13.4287480360745,
                53.20952411433065
               ]
              ]
             ],
             "type": "Polygon"
            },
            "id": "212",
            "properties": {
             "dates_neg": "27-04-2020",
             "dates_pos": [],
             "grid_id": "50kmE4550N3350",
             "neg_cp": 2,
             "pos_cp": 0,
             "probs_neg": [
              0.7409999966621399,
              0.3540000021457672
             ],
             "probs_pos": [],
             "species": "Bergente"
            },
            "type": "Feature"
           },
           {
            "bbox": [
             13.464893309125529,
             53.63443304898739,
             14.265081438173851,
             54.106941474053635
            ],
            "geometry": {
             "coordinates": [
              [
               [
                13.464893309125529,
                53.65824256454321
               ],
               [
                13.50197778309589,
                54.106941474053635
               ],
               [
                14.265081438173851,
                54.08284077686821
               ],
               [
                14.219958428083434,
                53.63443304898739
               ],
               [
                13.464893309125529,
                53.65824256454321
               ]
              ]
             ],
             "type": "Polygon"
            },
            "id": "213",
            "properties": {
             "dates_neg": [],
             "dates_pos": "06-10-2020",
             "grid_id": "50kmE4550N3400",
             "neg_cp": 0,
             "pos_cp": 1,
             "probs_neg": [],
             "probs_pos": [
              0.597000002861023
             ],
             "species": "Bergente"
            },
            "type": "Feature"
           },
           {
            "bbox": [
             13.50197778309589,
             54.08284077686821,
             14.311389424840197,
             54.555627316281914
            ],
            "geometry": {
             "coordinates": [
              [
               [
                13.50197778309589,
                54.106941474053635
               ],
               [
                13.54003738192231,
                54.555627316281914
               ],
               [
                14.311389424840197,
                54.53122757473991
               ],
               [
                14.265081438173851,
                54.08284077686821
               ],
               [
                13.50197778309589,
                54.106941474053635
               ]
              ]
             ],
             "type": "Polygon"
            },
            "id": "214",
            "properties": {
             "dates_neg": [],
             "dates_pos": "13-04-2020",
             "grid_id": "50kmE4550N3450",
             "neg_cp": 0,
             "pos_cp": 1,
             "probs_neg": [],
             "probs_pos": [
              0.13899999856948853
             ],
             "species": "Bergente"
            },
            "type": "Feature"
           },
           {
            "bbox": [
             13.54003738192231,
             54.53122757473991,
             14.358928238586309,
             55.004306543012895
            ],
            "geometry": {
             "coordinates": [
              [
               [
                13.54003738192231,
                54.555627316281914
               ],
               [
                13.579109905345867,
                55.004306543012895
               ],
               [
                14.358928238586309,
                54.97959958781377
               ],
               [
                14.311389424840197,
                54.53122757473991
               ],
               [
                13.54003738192231,
                54.555627316281914
               ]
              ]
             ],
             "type": "Polygon"
            },
            "id": "215",
            "properties": {
             "dates_neg": "12-01-2021",
             "dates_pos": [],
             "grid_id": "50kmE4550N3500",
             "neg_cp": 1,
             "pos_cp": 0,
             "probs_neg": [
              0.1940000057220459
             ],
             "probs_pos": [],
             "species": "Bergente"
            },
            "type": "Feature"
           },
           {
            "bbox": [
             13.756949915493268,
             48.22469983910044,
             14.468691061929718,
             48.6987755607516
            ],
            "geometry": {
             "coordinates": [
              [
               [
                13.756949915493268,
                48.249625501443475
               ],
               [
                13.790723778576401,
                48.6987755607516
               ],
               [
                14.468691061929718,
                48.673591758245315
               ],
               [
                14.4289113631578,
                48.22469983910044
               ],
               [
                13.756949915493268,
                48.249625501443475
               ]
              ]
             ],
             "type": "Polygon"
            },
            "id": "216",
            "properties": {
             "dates_neg": "18-11-2019",
             "dates_pos": [],
             "grid_id": "50kmE4600N2800",
             "neg_cp": 1,
             "pos_cp": 0,
             "probs_neg": [
              0.12099999934434891
             ],
             "probs_pos": [],
             "species": "Bergente"
            },
            "type": "Feature"
           },
           {
            "bbox": [
             13.790723778576401,
             48.673591758245315,
             14.509386676021647,
             49.14782849707013
            ],
            "geometry": {
             "coordinates": [
              [
               [
                13.790723778576401,
                48.6987755607516
               ],
               [
                13.825276149744958,
                49.14782849707013
               ],
               [
                14.509386676021647,
                49.122380415778935
               ],
               [
                14.468691061929718,
                48.673591758245315
               ],
               [
                13.790723778576401,
                48.6987755607516
               ]
              ]
             ],
             "type": "Polygon"
            },
            "id": "217",
            "properties": {
             "dates_neg": "05-01-2021",
             "dates_pos": [],
             "grid_id": "50kmE4600N2850",
             "neg_cp": 1,
             "pos_cp": 0,
             "probs_neg": [
              0.11299999803304672
             ],
             "probs_pos": [],
             "species": "Bergente"
            },
            "type": "Feature"
           },
           {
            "bbox": [
             13.933869213511642,
             50.46818956973434,
             14.681957798904714,
             50.9431986066582
            ],
            "geometry": {
             "coordinates": [
              [
               [
                13.933869213511642,
                50.49446942792948
               ],
               [
                13.971806714212924,
                50.9431986066582
               ],
               [
                14.681957798904714,
                50.916627757195045
               ],
               [
                14.637280136263188,
                50.46818956973434
               ],
               [
                13.933869213511642,
                50.49446942792948
               ]
              ]
             ],
             "type": "Polygon"
            },
            "id": "218",
            "properties": {
             "dates_neg": "27-04-2021",
             "dates_pos": [],
             "grid_id": "50kmE4600N3050",
             "neg_cp": 1,
             "pos_cp": 0,
             "probs_neg": [
              0.10999999940395355
             ],
             "probs_pos": [],
             "species": "Bergente"
            },
            "type": "Feature"
           },
           {
            "bbox": [
             13.971806714212924,
             50.916627757195045,
             14.727718129570054,
             51.39186290215551
            ],
            "geometry": {
             "coordinates": [
              [
               [
                13.971806714212924,
                50.9431986066582
               ],
               [
                14.010664721833768,
                51.39186290215551
               ],
               [
                14.727718129570054,
                51.36499379261255
               ],
               [
                14.681957798904714,
                50.916627757195045
               ],
               [
                13.971806714212924,
                50.9431986066582
               ]
              ]
             ],
             "type": "Polygon"
            },
            "id": "219",
            "properties": {
             "dates_neg": "22-02-2022",
             "dates_pos": [],
             "grid_id": "50kmE4600N3100",
             "neg_cp": 1,
             "pos_cp": 0,
             "probs_neg": [
              0.17499999701976776
             ],
             "probs_pos": [],
             "species": "Bergente"
            },
            "type": "Feature"
           },
           {
            "bbox": [
             14.010664721833768,
             51.36499379261255,
             14.774599329049185,
             51.84046868365779
            ],
            "geometry": {
             "coordinates": [
              [
               [
                14.010664721833768,
                51.39186290215551
               ],
               [
                14.050475775636494,
                51.84046868365779
               ],
               [
                14.774599329049185,
                51.81329378634107
               ],
               [
                14.727718129570054,
                51.36499379261255
               ],
               [
                14.010664721833768,
                51.39186290215551
               ]
              ]
             ],
             "type": "Polygon"
            },
            "id": "220",
            "properties": {
             "dates_neg": "16-03-2021",
             "dates_pos": "04-11-2019",
             "grid_id": "50kmE4600N3150",
             "neg_cp": 1,
             "pos_cp": 1,
             "probs_neg": [
              0.6639999747276306
             ],
             "probs_pos": [
              0.4580000042915344
             ],
             "species": "Bergente"
            },
            "type": "Feature"
           },
           {
            "bbox": [
             14.050475775636494,
             51.81329378634107,
             14.822641442935389,
             52.289022292329356
            ],
            "geometry": {
             "coordinates": [
              [
               [
                14.050475775636494,
                51.84046868365779
               ],
               [
                14.091273989889709,
                52.289022292329356
               ],
               [
                14.822641442935389,
                52.26153380817288
               ],
               [
                14.774599329049185,
                51.81329378634107
               ],
               [
                14.050475775636494,
                51.84046868365779
               ]
              ]
             ],
             "type": "Polygon"
            },
            "id": "221",
            "properties": {
             "dates_neg": [],
             "dates_pos": "21-12-2021",
             "grid_id": "50kmE4600N3200",
             "neg_cp": 0,
             "pos_cp": 2,
             "probs_neg": [],
             "probs_pos": [
              0.9700000286102295,
              0.9620000123977661
             ],
             "species": "Bergente"
            },
            "type": "Feature"
           },
           {
            "bbox": [
             14.091273989889709,
             52.26153380817288,
             14.87188647367395,
             52.73753004022016
            ],
            "geometry": {
             "coordinates": [
              [
               [
                14.091273989889709,
                52.289022292329356
               ],
               [
                14.13309514980295,
                52.73753004022016
               ],
               [
                14.87188647367395,
                52.709719885538625
               ],
               [
                14.822641442935389,
                52.26153380817288
               ],
               [
                14.091273989889709,
                52.289022292329356
               ]
              ]
             ],
             "type": "Polygon"
            },
            "id": "222",
            "properties": {
             "dates_neg": "01-12-2020",
             "dates_pos": "01-04-2019",
             "grid_id": "50kmE4600N3250",
             "neg_cp": 1,
             "pos_cp": 1,
             "probs_neg": [
              0.03700000047683716
             ],
             "probs_pos": [
              0.6100000143051147
             ],
             "species": "Bergente"
            },
            "type": "Feature"
           },
           {
            "bbox": [
             14.13309514980295,
             52.709719885538625,
             14.922378500875958,
             53.18599820907573
            ],
            "geometry": {
             "coordinates": [
              [
               [
                14.13309514980295,
                52.73753004022016
               ],
               [
                14.175976814561848,
                53.18599820907573
               ],
               [
                14.922378500875958,
                53.15785800150457
               ],
               [
                14.87188647367395,
                52.709719885538625
               ],
               [
                14.13309514980295,
                52.73753004022016
               ]
              ]
             ],
             "type": "Polygon"
            },
            "id": "223",
            "properties": {
             "dates_neg": [],
             "dates_pos": "16-02-2021",
             "grid_id": "50kmE4600N3300",
             "neg_cp": 0,
             "pos_cp": 1,
             "probs_neg": [],
             "probs_pos": [
              0.36500000953674316
             ],
             "species": "Bergente"
            },
            "type": "Feature"
           },
           {
            "bbox": [
             14.175976814561848,
             53.15785800150457,
             14.974163810615655,
             53.63443304898739
            ],
            "geometry": {
             "coordinates": [
              [
               [
                14.175976814561848,
                53.18599820907573
               ],
               [
                14.219958428083434,
                53.63443304898739
               ],
               [
                14.974163810615655,
                53.60595409254917
               ],
               [
                14.922378500875958,
                53.15785800150457
               ],
               [
                14.175976814561848,
                53.18599820907573
               ]
              ]
             ],
             "type": "Polygon"
            },
            "id": "224",
            "properties": {
             "dates_neg": [],
             "dates_pos": "15-02-2022",
             "grid_id": "50kmE4600N3350",
             "neg_cp": 0,
             "pos_cp": 1,
             "probs_neg": [],
             "probs_pos": [
              0.23399999737739563
             ],
             "species": "Bergente"
            },
            "type": "Feature"
           },
           {
            "bbox": [
             14.219958428083434,
             53.60595409254917,
             15.027291034501975,
             54.08284077686821
            ],
            "geometry": {
             "coordinates": [
              [
               [
                14.219958428083434,
                53.63443304898739
               ],
               [
                14.265081438173851,
                54.08284077686821
               ],
               [
                15.027291034501975,
                54.054014046100036
               ],
               [
                14.974163810615655,
                53.60595409254917
               ],
               [
                14.219958428083434,
                53.63443304898739
               ]
              ]
             ],
             "type": "Polygon"
            },
            "id": "225",
            "properties": {
             "dates_neg": [],
             "dates_pos": "09-02-2021",
             "grid_id": "50kmE4600N3400",
             "neg_cp": 0,
             "pos_cp": 1,
             "probs_neg": [],
             "probs_pos": [
              0.1809999942779541
             ],
             "species": "Bergente"
            },
            "type": "Feature"
           },
           {
            "bbox": [
             14.265081438173851,
             54.054014046100036,
             15.081811299395174,
             54.53122757473991
            ],
            "geometry": {
             "coordinates": [
              [
               [
                14.265081438173851,
                54.08284077686821
               ],
               [
                14.311389424840197,
                54.53122757473991
               ],
               [
                15.081811299395174,
                54.50204369780994
               ],
               [
                15.027291034501975,
                54.054014046100036
               ],
               [
                14.265081438173851,
                54.08284077686821
               ]
              ]
             ],
             "type": "Polygon"
            },
            "id": "226",
            "properties": {
             "dates_neg": "20-01-2020",
             "dates_pos": [],
             "grid_id": "50kmE4600N3450",
             "neg_cp": 1,
             "pos_cp": 0,
             "probs_neg": [
              0.11599999666213989
             ],
             "probs_pos": [],
             "species": "Bergente"
            },
            "type": "Feature"
           },
           {
            "bbox": [
             14.637280136263188,
             50.43760557612786,
             15.391302444582626,
             50.916627757195045
            ],
            "geometry": {
             "coordinates": [
              [
               [
                14.637280136263188,
                50.46818956973434
               ],
               [
                14.681957798904714,
                50.916627757195045
               ],
               [
                15.391302444582626,
                50.88570561534716
               ],
               [
                15.339913352069827,
                50.43760557612786
               ],
               [
                14.637280136263188,
                50.46818956973434
               ]
              ]
             ],
             "type": "Polygon"
            },
            "id": "227",
            "properties": {
             "dates_neg": [],
             "dates_pos": "26-01-2021",
             "grid_id": "50kmE4650N3050",
             "neg_cp": 0,
             "pos_cp": 1,
             "probs_neg": [],
             "probs_pos": [
              0.4050000011920929
             ],
             "species": "Bergente"
            },
            "type": "Feature"
           },
           {
            "bbox": [
             14.681957798904714,
             50.88570561534716,
             15.443934998447006,
             51.36499379261255
            ],
            "geometry": {
             "coordinates": [
              [
               [
                14.681957798904714,
                50.916627757195045
               ],
               [
                14.727718129570054,
                51.36499379261255
               ],
               [
                15.443934998447006,
                51.33372507252568
               ],
               [
                15.391302444582626,
                50.88570561534716
               ],
               [
                14.681957798904714,
                50.916627757195045
               ]
              ]
             ],
             "type": "Polygon"
            },
            "id": "228",
            "properties": {
             "dates_neg": [],
             "dates_pos": "18-01-2022",
             "grid_id": "50kmE4650N3100",
             "neg_cp": 0,
             "pos_cp": 1,
             "probs_neg": [],
             "probs_pos": [
              0.7020000219345093
             ],
             "species": "Bergente"
            },
            "type": "Feature"
           },
           {
            "bbox": [
             14.727718129570054,
             51.33372507252568,
             15.497854793523238,
             51.81329378634107
            ],
            "geometry": {
             "coordinates": [
              [
               [
                14.727718129570054,
                51.36499379261255
               ],
               [
                14.774599329049185,
                51.81329378634107
               ],
               [
                15.497854793523238,
                51.781669758655106
               ],
               [
                15.443934998447006,
                51.33372507252568
               ],
               [
                14.727718129570054,
                51.36499379261255
               ]
              ]
             ],
             "type": "Polygon"
            },
            "id": "229",
            "properties": {
             "dates_neg": "24-02-2020",
             "dates_pos": [],
             "grid_id": "50kmE4650N3150",
             "neg_cp": 1,
             "pos_cp": 0,
             "probs_neg": [
              0.11599999666213989
             ],
             "probs_pos": [],
             "species": "Bergente"
            },
            "type": "Feature"
           }
          ],
          "type": "FeatureCollection"
         },
         "hovertemplate": "index=%{location}<br>dates_pos=%{customdata[0]}<br>pos_cp=%{z}<extra></extra>",
         "locations": [
          0,
          1,
          2,
          3,
          4,
          5,
          6,
          7,
          8,
          9,
          10,
          11,
          12,
          13,
          14,
          15,
          16,
          17,
          18,
          19,
          20,
          21,
          22,
          23,
          24,
          25,
          26,
          27,
          28,
          29,
          30,
          31,
          32,
          33,
          34,
          35,
          36,
          37,
          38,
          39,
          40,
          41,
          42,
          43,
          44,
          45,
          46,
          47,
          48,
          49,
          50,
          51,
          52,
          53,
          54,
          55,
          56,
          57,
          58,
          59,
          60,
          61,
          62,
          63,
          64,
          65,
          66,
          67,
          68,
          69,
          70,
          71,
          72,
          73,
          74,
          75,
          76,
          77,
          78,
          79,
          80,
          81,
          82,
          83,
          84,
          85,
          86,
          87,
          88,
          89,
          90,
          91,
          92,
          93,
          94,
          95,
          96,
          97,
          98,
          99,
          100,
          101,
          102,
          103,
          104,
          105,
          106,
          107,
          108,
          109,
          110,
          111,
          112,
          113,
          114,
          115,
          116,
          117,
          118,
          119,
          120,
          121,
          122,
          123,
          124,
          125,
          126,
          127,
          128,
          129,
          130,
          131,
          132,
          133,
          134,
          135,
          136,
          137,
          138,
          139,
          140,
          141,
          142,
          143,
          144,
          145,
          146,
          147,
          148,
          149,
          150,
          151,
          152,
          153,
          154,
          155,
          156,
          157,
          158,
          159,
          160,
          161,
          162,
          163,
          164,
          165,
          166,
          167,
          168,
          169,
          170,
          171,
          172,
          173,
          174,
          175,
          176,
          177,
          178,
          179,
          180,
          181,
          182,
          183,
          184,
          185,
          186,
          187,
          188,
          189,
          190,
          191,
          192,
          193,
          194,
          195,
          196,
          197,
          198,
          199,
          200,
          201,
          202,
          203,
          204,
          205,
          206,
          207,
          208,
          209,
          210,
          211,
          212,
          213,
          214,
          215,
          216,
          217,
          218,
          219,
          220,
          221,
          222,
          223,
          224,
          225,
          226,
          227,
          228,
          229
         ],
         "marker": {
          "line": {
           "width": 0
          },
          "opacity": 0.8
         },
         "name": "",
         "subplot": "mapbox",
         "type": "choroplethmapbox",
         "z": [
          0,
          0,
          0,
          0,
          0,
          0,
          0,
          0,
          1,
          0,
          0,
          0,
          0,
          0,
          0,
          0,
          0,
          3,
          0,
          0,
          0,
          1,
          4,
          0,
          0,
          0,
          0,
          0,
          0,
          0,
          0,
          1,
          0,
          1,
          0,
          0,
          0,
          0,
          0,
          1,
          0,
          1,
          1,
          0,
          0,
          0,
          1,
          1,
          0,
          0,
          0,
          0,
          0,
          0,
          0,
          1,
          3,
          0,
          0,
          0,
          0,
          0,
          0,
          1,
          1,
          0,
          1,
          1,
          0,
          1,
          0,
          1,
          1,
          0,
          0,
          0,
          0,
          1,
          3,
          1,
          1,
          0,
          1,
          1,
          1,
          1,
          0,
          1,
          1,
          1,
          0,
          0,
          1,
          0,
          1,
          0,
          0,
          1,
          0,
          1,
          0,
          0,
          0,
          0,
          2,
          1,
          0,
          1,
          0,
          1,
          1,
          0,
          0,
          0,
          0,
          0,
          0,
          0,
          0,
          2,
          0,
          0,
          0,
          2,
          1,
          0,
          0,
          1,
          1,
          1,
          1,
          0,
          0,
          0,
          0,
          1,
          0,
          0,
          0,
          1,
          0,
          1,
          0,
          1,
          0,
          0,
          0,
          1,
          1,
          0,
          0,
          1,
          1,
          1,
          0,
          1,
          0,
          0,
          0,
          1,
          1,
          0,
          0,
          0,
          0,
          1,
          1,
          0,
          0,
          0,
          0,
          0,
          2,
          0,
          1,
          0,
          1,
          1,
          1,
          1,
          0,
          2,
          0,
          1,
          0,
          1,
          2,
          0,
          0,
          0,
          0,
          0,
          0,
          2,
          0,
          0,
          0,
          0,
          1,
          1,
          1,
          0,
          0,
          0,
          0,
          0,
          1,
          0,
          1,
          1,
          0,
          1,
          0,
          1,
          1,
          0,
          0,
          0,
          0,
          0,
          1,
          2,
          1,
          1,
          1,
          1,
          0,
          1,
          1,
          0
         ]
        }
       ],
       "layout": {
        "coloraxis": {
         "colorbar": {
          "title": {
           "text": "pos_cp"
          }
         },
         "colorscale": [
          [
           0,
           "rgb(255,255,229)"
          ],
          [
           0.125,
           "rgb(247,252,185)"
          ],
          [
           0.25,
           "rgb(217,240,163)"
          ],
          [
           0.375,
           "rgb(173,221,142)"
          ],
          [
           0.5,
           "rgb(120,198,121)"
          ],
          [
           0.625,
           "rgb(65,171,93)"
          ],
          [
           0.75,
           "rgb(35,132,67)"
          ],
          [
           0.875,
           "rgb(0,104,55)"
          ],
          [
           1,
           "rgb(0,69,41)"
          ]
         ]
        },
        "legend": {
         "tracegroupgap": 0
        },
        "mapbox": {
         "center": {
          "lat": 50.65663611878682,
          "lon": 9.998926774954631
         },
         "domain": {
          "x": [
           0,
           1
          ],
          "y": [
           0,
           1
          ]
         },
         "style": "open-street-map",
         "zoom": 4
        },
        "margin": {
         "b": 0,
         "l": 0,
         "r": 0,
         "t": 0
        },
        "showlegend": true,
        "template": {
         "data": {
          "bar": [
           {
            "error_x": {
             "color": "#2a3f5f"
            },
            "error_y": {
             "color": "#2a3f5f"
            },
            "marker": {
             "line": {
              "color": "#E5ECF6",
              "width": 0.5
             },
             "pattern": {
              "fillmode": "overlay",
              "size": 10,
              "solidity": 0.2
             }
            },
            "type": "bar"
           }
          ],
          "barpolar": [
           {
            "marker": {
             "line": {
              "color": "#E5ECF6",
              "width": 0.5
             },
             "pattern": {
              "fillmode": "overlay",
              "size": 10,
              "solidity": 0.2
             }
            },
            "type": "barpolar"
           }
          ],
          "carpet": [
           {
            "aaxis": {
             "endlinecolor": "#2a3f5f",
             "gridcolor": "white",
             "linecolor": "white",
             "minorgridcolor": "white",
             "startlinecolor": "#2a3f5f"
            },
            "baxis": {
             "endlinecolor": "#2a3f5f",
             "gridcolor": "white",
             "linecolor": "white",
             "minorgridcolor": "white",
             "startlinecolor": "#2a3f5f"
            },
            "type": "carpet"
           }
          ],
          "choropleth": [
           {
            "colorbar": {
             "outlinewidth": 0,
             "ticks": ""
            },
            "type": "choropleth"
           }
          ],
          "contour": [
           {
            "colorbar": {
             "outlinewidth": 0,
             "ticks": ""
            },
            "colorscale": [
             [
              0,
              "#0d0887"
             ],
             [
              0.1111111111111111,
              "#46039f"
             ],
             [
              0.2222222222222222,
              "#7201a8"
             ],
             [
              0.3333333333333333,
              "#9c179e"
             ],
             [
              0.4444444444444444,
              "#bd3786"
             ],
             [
              0.5555555555555556,
              "#d8576b"
             ],
             [
              0.6666666666666666,
              "#ed7953"
             ],
             [
              0.7777777777777778,
              "#fb9f3a"
             ],
             [
              0.8888888888888888,
              "#fdca26"
             ],
             [
              1,
              "#f0f921"
             ]
            ],
            "type": "contour"
           }
          ],
          "contourcarpet": [
           {
            "colorbar": {
             "outlinewidth": 0,
             "ticks": ""
            },
            "type": "contourcarpet"
           }
          ],
          "heatmap": [
           {
            "colorbar": {
             "outlinewidth": 0,
             "ticks": ""
            },
            "colorscale": [
             [
              0,
              "#0d0887"
             ],
             [
              0.1111111111111111,
              "#46039f"
             ],
             [
              0.2222222222222222,
              "#7201a8"
             ],
             [
              0.3333333333333333,
              "#9c179e"
             ],
             [
              0.4444444444444444,
              "#bd3786"
             ],
             [
              0.5555555555555556,
              "#d8576b"
             ],
             [
              0.6666666666666666,
              "#ed7953"
             ],
             [
              0.7777777777777778,
              "#fb9f3a"
             ],
             [
              0.8888888888888888,
              "#fdca26"
             ],
             [
              1,
              "#f0f921"
             ]
            ],
            "type": "heatmap"
           }
          ],
          "heatmapgl": [
           {
            "colorbar": {
             "outlinewidth": 0,
             "ticks": ""
            },
            "colorscale": [
             [
              0,
              "#0d0887"
             ],
             [
              0.1111111111111111,
              "#46039f"
             ],
             [
              0.2222222222222222,
              "#7201a8"
             ],
             [
              0.3333333333333333,
              "#9c179e"
             ],
             [
              0.4444444444444444,
              "#bd3786"
             ],
             [
              0.5555555555555556,
              "#d8576b"
             ],
             [
              0.6666666666666666,
              "#ed7953"
             ],
             [
              0.7777777777777778,
              "#fb9f3a"
             ],
             [
              0.8888888888888888,
              "#fdca26"
             ],
             [
              1,
              "#f0f921"
             ]
            ],
            "type": "heatmapgl"
           }
          ],
          "histogram": [
           {
            "marker": {
             "pattern": {
              "fillmode": "overlay",
              "size": 10,
              "solidity": 0.2
             }
            },
            "type": "histogram"
           }
          ],
          "histogram2d": [
           {
            "colorbar": {
             "outlinewidth": 0,
             "ticks": ""
            },
            "colorscale": [
             [
              0,
              "#0d0887"
             ],
             [
              0.1111111111111111,
              "#46039f"
             ],
             [
              0.2222222222222222,
              "#7201a8"
             ],
             [
              0.3333333333333333,
              "#9c179e"
             ],
             [
              0.4444444444444444,
              "#bd3786"
             ],
             [
              0.5555555555555556,
              "#d8576b"
             ],
             [
              0.6666666666666666,
              "#ed7953"
             ],
             [
              0.7777777777777778,
              "#fb9f3a"
             ],
             [
              0.8888888888888888,
              "#fdca26"
             ],
             [
              1,
              "#f0f921"
             ]
            ],
            "type": "histogram2d"
           }
          ],
          "histogram2dcontour": [
           {
            "colorbar": {
             "outlinewidth": 0,
             "ticks": ""
            },
            "colorscale": [
             [
              0,
              "#0d0887"
             ],
             [
              0.1111111111111111,
              "#46039f"
             ],
             [
              0.2222222222222222,
              "#7201a8"
             ],
             [
              0.3333333333333333,
              "#9c179e"
             ],
             [
              0.4444444444444444,
              "#bd3786"
             ],
             [
              0.5555555555555556,
              "#d8576b"
             ],
             [
              0.6666666666666666,
              "#ed7953"
             ],
             [
              0.7777777777777778,
              "#fb9f3a"
             ],
             [
              0.8888888888888888,
              "#fdca26"
             ],
             [
              1,
              "#f0f921"
             ]
            ],
            "type": "histogram2dcontour"
           }
          ],
          "mesh3d": [
           {
            "colorbar": {
             "outlinewidth": 0,
             "ticks": ""
            },
            "type": "mesh3d"
           }
          ],
          "parcoords": [
           {
            "line": {
             "colorbar": {
              "outlinewidth": 0,
              "ticks": ""
             }
            },
            "type": "parcoords"
           }
          ],
          "pie": [
           {
            "automargin": true,
            "type": "pie"
           }
          ],
          "scatter": [
           {
            "fillpattern": {
             "fillmode": "overlay",
             "size": 10,
             "solidity": 0.2
            },
            "type": "scatter"
           }
          ],
          "scatter3d": [
           {
            "line": {
             "colorbar": {
              "outlinewidth": 0,
              "ticks": ""
             }
            },
            "marker": {
             "colorbar": {
              "outlinewidth": 0,
              "ticks": ""
             }
            },
            "type": "scatter3d"
           }
          ],
          "scattercarpet": [
           {
            "marker": {
             "colorbar": {
              "outlinewidth": 0,
              "ticks": ""
             }
            },
            "type": "scattercarpet"
           }
          ],
          "scattergeo": [
           {
            "marker": {
             "colorbar": {
              "outlinewidth": 0,
              "ticks": ""
             }
            },
            "type": "scattergeo"
           }
          ],
          "scattergl": [
           {
            "marker": {
             "colorbar": {
              "outlinewidth": 0,
              "ticks": ""
             }
            },
            "type": "scattergl"
           }
          ],
          "scattermapbox": [
           {
            "marker": {
             "colorbar": {
              "outlinewidth": 0,
              "ticks": ""
             }
            },
            "type": "scattermapbox"
           }
          ],
          "scatterpolar": [
           {
            "marker": {
             "colorbar": {
              "outlinewidth": 0,
              "ticks": ""
             }
            },
            "type": "scatterpolar"
           }
          ],
          "scatterpolargl": [
           {
            "marker": {
             "colorbar": {
              "outlinewidth": 0,
              "ticks": ""
             }
            },
            "type": "scatterpolargl"
           }
          ],
          "scatterternary": [
           {
            "marker": {
             "colorbar": {
              "outlinewidth": 0,
              "ticks": ""
             }
            },
            "type": "scatterternary"
           }
          ],
          "surface": [
           {
            "colorbar": {
             "outlinewidth": 0,
             "ticks": ""
            },
            "colorscale": [
             [
              0,
              "#0d0887"
             ],
             [
              0.1111111111111111,
              "#46039f"
             ],
             [
              0.2222222222222222,
              "#7201a8"
             ],
             [
              0.3333333333333333,
              "#9c179e"
             ],
             [
              0.4444444444444444,
              "#bd3786"
             ],
             [
              0.5555555555555556,
              "#d8576b"
             ],
             [
              0.6666666666666666,
              "#ed7953"
             ],
             [
              0.7777777777777778,
              "#fb9f3a"
             ],
             [
              0.8888888888888888,
              "#fdca26"
             ],
             [
              1,
              "#f0f921"
             ]
            ],
            "type": "surface"
           }
          ],
          "table": [
           {
            "cells": {
             "fill": {
              "color": "#EBF0F8"
             },
             "line": {
              "color": "white"
             }
            },
            "header": {
             "fill": {
              "color": "#C8D4E3"
             },
             "line": {
              "color": "white"
             }
            },
            "type": "table"
           }
          ]
         },
         "layout": {
          "annotationdefaults": {
           "arrowcolor": "#2a3f5f",
           "arrowhead": 0,
           "arrowwidth": 1
          },
          "autotypenumbers": "strict",
          "coloraxis": {
           "colorbar": {
            "outlinewidth": 0,
            "ticks": ""
           }
          },
          "colorscale": {
           "diverging": [
            [
             0,
             "#8e0152"
            ],
            [
             0.1,
             "#c51b7d"
            ],
            [
             0.2,
             "#de77ae"
            ],
            [
             0.3,
             "#f1b6da"
            ],
            [
             0.4,
             "#fde0ef"
            ],
            [
             0.5,
             "#f7f7f7"
            ],
            [
             0.6,
             "#e6f5d0"
            ],
            [
             0.7,
             "#b8e186"
            ],
            [
             0.8,
             "#7fbc41"
            ],
            [
             0.9,
             "#4d9221"
            ],
            [
             1,
             "#276419"
            ]
           ],
           "sequential": [
            [
             0,
             "#0d0887"
            ],
            [
             0.1111111111111111,
             "#46039f"
            ],
            [
             0.2222222222222222,
             "#7201a8"
            ],
            [
             0.3333333333333333,
             "#9c179e"
            ],
            [
             0.4444444444444444,
             "#bd3786"
            ],
            [
             0.5555555555555556,
             "#d8576b"
            ],
            [
             0.6666666666666666,
             "#ed7953"
            ],
            [
             0.7777777777777778,
             "#fb9f3a"
            ],
            [
             0.8888888888888888,
             "#fdca26"
            ],
            [
             1,
             "#f0f921"
            ]
           ],
           "sequentialminus": [
            [
             0,
             "#0d0887"
            ],
            [
             0.1111111111111111,
             "#46039f"
            ],
            [
             0.2222222222222222,
             "#7201a8"
            ],
            [
             0.3333333333333333,
             "#9c179e"
            ],
            [
             0.4444444444444444,
             "#bd3786"
            ],
            [
             0.5555555555555556,
             "#d8576b"
            ],
            [
             0.6666666666666666,
             "#ed7953"
            ],
            [
             0.7777777777777778,
             "#fb9f3a"
            ],
            [
             0.8888888888888888,
             "#fdca26"
            ],
            [
             1,
             "#f0f921"
            ]
           ]
          },
          "colorway": [
           "#636efa",
           "#EF553B",
           "#00cc96",
           "#ab63fa",
           "#FFA15A",
           "#19d3f3",
           "#FF6692",
           "#B6E880",
           "#FF97FF",
           "#FECB52"
          ],
          "font": {
           "color": "#2a3f5f"
          },
          "geo": {
           "bgcolor": "white",
           "lakecolor": "white",
           "landcolor": "#E5ECF6",
           "showlakes": true,
           "showland": true,
           "subunitcolor": "white"
          },
          "hoverlabel": {
           "align": "left"
          },
          "hovermode": "closest",
          "mapbox": {
           "style": "light"
          },
          "paper_bgcolor": "white",
          "plot_bgcolor": "#E5ECF6",
          "polar": {
           "angularaxis": {
            "gridcolor": "white",
            "linecolor": "white",
            "ticks": ""
           },
           "bgcolor": "#E5ECF6",
           "radialaxis": {
            "gridcolor": "white",
            "linecolor": "white",
            "ticks": ""
           }
          },
          "scene": {
           "xaxis": {
            "backgroundcolor": "#E5ECF6",
            "gridcolor": "white",
            "gridwidth": 2,
            "linecolor": "white",
            "showbackground": true,
            "ticks": "",
            "zerolinecolor": "white"
           },
           "yaxis": {
            "backgroundcolor": "#E5ECF6",
            "gridcolor": "white",
            "gridwidth": 2,
            "linecolor": "white",
            "showbackground": true,
            "ticks": "",
            "zerolinecolor": "white"
           },
           "zaxis": {
            "backgroundcolor": "#E5ECF6",
            "gridcolor": "white",
            "gridwidth": 2,
            "linecolor": "white",
            "showbackground": true,
            "ticks": "",
            "zerolinecolor": "white"
           }
          },
          "shapedefaults": {
           "line": {
            "color": "#2a3f5f"
           }
          },
          "ternary": {
           "aaxis": {
            "gridcolor": "white",
            "linecolor": "white",
            "ticks": ""
           },
           "baxis": {
            "gridcolor": "white",
            "linecolor": "white",
            "ticks": ""
           },
           "bgcolor": "#E5ECF6",
           "caxis": {
            "gridcolor": "white",
            "linecolor": "white",
            "ticks": ""
           }
          },
          "title": {
           "x": 0.05
          },
          "xaxis": {
           "automargin": true,
           "gridcolor": "white",
           "linecolor": "white",
           "ticks": "",
           "title": {
            "standoff": 15
           },
           "zerolinecolor": "white",
           "zerolinewidth": 2
          },
          "yaxis": {
           "automargin": true,
           "gridcolor": "white",
           "linecolor": "white",
           "ticks": "",
           "title": {
            "standoff": 15
           },
           "zerolinecolor": "white",
           "zerolinewidth": 2
          }
         }
        }
       }
      }
     },
     "metadata": {},
     "output_type": "display_data"
    }
   ],
   "source": [
    "import geopandas as gpd\n",
    "import plotly.express as px\n",
    "\n",
    "fig = px.choropleth_mapbox(\n",
    "    gdf, \n",
    "    geojson=gdf, \n",
    "    locations=gdf.index, \n",
    "    color=\"pos_cp\",\n",
    "    color_continuous_scale='YlGn',\n",
    "    center={\"lat\": gdf.geometry.centroid.y.mean(), \"lon\": gdf.geometry.centroid.x.mean()},\n",
    "    zoom=10,\n",
    "    opacity=0.8,\n",
    "    hover_data={'dates_pos': True, 'probs_pos': False, 'pos_cp': True},\n",
    ")\n",
    "\n",
    "fig.update_layout(\n",
    "    mapbox=dict(\n",
    "        style='open-street-map',\n",
    "        zoom=4\n",
    "    ), \n",
    "    showlegend=True,\n",
    "    margin=dict(l=0, r=0, t=0, b=0)\n",
    ")\n",
    "\n",
    "fig.update_traces(marker_line_width=0)\n",
    "fig.show()"
   ]
  },
  {
   "cell_type": "code",
   "execution_count": 103,
   "metadata": {},
   "outputs": [
    {
     "data": {
      "application/vnd.plotly.v1+json": {
       "config": {
        "plotlyServerURL": "https://plot.ly"
       },
       "data": [
        {
         "coloraxis": "coloraxis",
         "customdata": [
          [
           "10-02-2020",
           [
            0.11400000005960464
           ],
           1
          ],
          [
           "24-12-2018",
           [
            0.210999995470047
           ],
           1
          ],
          [
           "12-10-2021",
           [
            0.9290000200271606,
            0.5910000205039978
           ],
           2
          ],
          [
           "30-03-2020",
           [
            0.11599999666213989
           ],
           1
          ],
          [
           "20-01-2020",
           [
            0.11800000071525574
           ],
           1
          ],
          [
           "11-01-2022",
           [
            0.11699999868869781
           ],
           1
          ],
          [
           "30-12-2019",
           [
            0.11699999868869781
           ],
           1
          ],
          [
           "24-11-2020",
           [
            0.12099999934434891
           ],
           1
          ],
          [
           [],
           [],
           0
          ],
          [
           "04-05-2021",
           [
            0.11599999666213989
           ],
           1
          ],
          [
           "18-05-2020",
           [
            0.11900000274181366
           ],
           1
          ],
          [
           "11-02-2019",
           [
            0.11800000071525574
           ],
           1
          ],
          [
           "16-12-2019",
           [
            0.20800000429153442
           ],
           1
          ],
          [
           "02-03-2021",
           [
            0.40700000524520874
           ],
           1
          ],
          [
           "19-01-2021",
           [
            0.20100000500679016
           ],
           1
          ],
          [
           "08-06-2020",
           [
            0.1120000034570694
           ],
           1
          ],
          [
           "06-10-2020",
           [
            0.11999999731779099
           ],
           1
          ],
          [
           [],
           [],
           0
          ],
          [
           "10-05-2022",
           [
            0.11599999666213989
           ],
           1
          ],
          [
           "16-02-2021",
           [
            0.11500000208616257
           ],
           1
          ],
          [
           "02-03-2021",
           [
            0.8519999980926514,
            0.5659999847412109,
            0.5080000162124634
           ],
           3
          ],
          [
           [],
           [],
           0
          ],
          [
           [],
           [],
           0
          ],
          [
           "08-12-2020",
           [
            0.12099999934434891
           ],
           1
          ],
          [
           "24-11-2020",
           [
            0.11800000071525574
           ],
           1
          ],
          [
           "30-11-2021",
           [
            0.4519999921321869
           ],
           1
          ],
          [
           "22-04-2019",
           [
            0.11400000005960464
           ],
           1
          ],
          [
           "23-09-2019",
           [
            0.11500000208616257
           ],
           1
          ],
          [
           "30-03-2021",
           [
            0.11900000274181366
           ],
           1
          ],
          [
           "23-12-2019",
           [
            0.11299999803304672
           ],
           1
          ],
          [
           "24-08-2021",
           [
            0.11400000005960464
           ],
           1
          ],
          [
           [],
           [],
           0
          ],
          [
           "28-01-2019",
           [
            0.20399999618530273
           ],
           1
          ],
          [
           [],
           [],
           0
          ],
          [
           "07-12-2021",
           [
            0.6539999842643738,
            0.13699999451637268
           ],
           2
          ],
          [
           "12-01-2021",
           [
            0.11500000208616257
           ],
           1
          ],
          [
           "23-03-2021",
           [
            0.11599999666213989
           ],
           1
          ],
          [
           "08-12-2020",
           [
            0.11599999666213989
           ],
           1
          ],
          [
           "05-01-2021",
           [
            0.11699999868869781
           ],
           1
          ],
          [
           [],
           [],
           0
          ],
          [
           "10-02-2020",
           [
            0.21799999475479126
           ],
           1
          ],
          [
           [],
           [],
           0
          ],
          [
           [],
           [],
           0
          ],
          [
           "09-09-2019",
           [
            0.7250000238418579,
            0.6349999904632568,
            0.34299999475479126
           ],
           3
          ],
          [
           "07-01-2019",
           [
            0.20200000703334808
           ],
           1
          ],
          [
           "08-07-2019",
           [
            0.11500000208616257
           ],
           1
          ],
          [
           [],
           [],
           0
          ],
          [
           [],
           [],
           0
          ],
          [
           "14-07-2020",
           [
            0.11400000005960464
           ],
           1
          ],
          [
           "25-08-2020",
           [
            0.11400000005960464
           ],
           1
          ],
          [
           "10-09-2018",
           [
            0.11599999666213989
           ],
           1
          ],
          [
           "11-11-2019",
           [
            0.3009999990463257
           ],
           1
          ],
          [
           [],
           [],
           0
          ],
          [
           "28-10-2019",
           [
            0.33000001311302185
           ],
           1
          ],
          [
           "21-10-2019",
           [
            0.11400000005960464
           ],
           1
          ],
          [
           [],
           [],
           0
          ],
          [
           [],
           [],
           0
          ],
          [
           "13-04-2020",
           [
            0.1120000034570694
           ],
           1
          ],
          [
           "18-01-2022",
           [
            0.5370000004768372,
            0.5270000100135803
           ],
           2
          ],
          [
           "15-07-2019",
           [
            0.11699999868869781
           ],
           1
          ],
          [
           [],
           [],
           0
          ],
          [
           "24-12-2018",
           [
            0.23000000417232513
           ],
           1
          ],
          [
           "27-01-2020",
           [
            0.2290000021457672
           ],
           1
          ],
          [
           "23-02-2021",
           [
            0.621999979019165,
            0.4830000102519989,
            0.028999999165534973
           ],
           3
          ],
          [
           [],
           [],
           0
          ],
          [
           [],
           [],
           0
          ],
          [
           [],
           [],
           0
          ],
          [
           [],
           [],
           0
          ],
          [
           "08-12-2020",
           [
            0.19200000166893005
           ],
           1
          ],
          [
           [],
           [],
           0
          ],
          [
           "15-12-2020",
           [
            0.289000004529953
           ],
           1
          ],
          [
           [],
           [],
           0
          ],
          [
           [],
           [],
           0
          ],
          [
           "11-01-2022",
           [
            0.16099999845027924
           ],
           1
          ],
          [
           "31-12-2018",
           [
            0.6970000267028809,
            0.6600000262260437
           ],
           2
          ],
          [
           "09-02-2021",
           [
            0.11400000005960464
           ],
           1
          ],
          [
           "06-07-2021",
           [
            1,
            0.33500000834465027
           ],
           2
          ],
          [
           [],
           [],
           0
          ],
          [
           [],
           [],
           0
          ],
          [
           [],
           [],
           0
          ],
          [
           [],
           [],
           0
          ],
          [
           "31-12-2018",
           [
            0.6499999761581421
           ],
           1
          ],
          [
           "29-06-2020",
           [
            0.7950000166893005
           ],
           1
          ],
          [
           [],
           [],
           0
          ],
          [
           [],
           [],
           0
          ],
          [
           [],
           [],
           0
          ],
          [
           "01-12-2020",
           [
            0.16699999570846558
           ],
           1
          ],
          [
           [],
           [],
           0
          ],
          [
           [],
           [],
           0
          ],
          [
           [],
           [],
           0
          ],
          [
           "13-10-2020",
           [
            0.11500000208616257
           ],
           1
          ],
          [
           "05-01-2021",
           [
            0.11699999868869781
           ],
           1
          ],
          [
           "26-10-2021",
           [
            0.7319999933242798
           ],
           1
          ],
          [
           "03-12-2018",
           [
            0.11599999666213989
           ],
           1
          ],
          [
           [],
           [],
           0
          ],
          [
           "09-03-2021",
           [
            0.2840000092983246
           ],
           1
          ],
          [
           "01-06-2021",
           [
            0.11699999868869781
           ],
           1
          ],
          [
           "04-11-2019",
           [
            0.9879999756813049
           ],
           1
          ],
          [
           "03-11-2020",
           [
            0.125
           ],
           1
          ],
          [
           [],
           [],
           0
          ],
          [
           "12-01-2021",
           [
            0.6439999938011169,
            0.041999999433755875
           ],
           2
          ],
          [
           [],
           [],
           0
          ],
          [
           "31-12-2018",
           [
            0.9610000252723694
           ],
           1
          ],
          [
           "18-11-2019",
           [
            0.2630000114440918
           ],
           1
          ],
          [
           [],
           [],
           0
          ],
          [
           "26-01-2021",
           [
            0.9139999747276306,
            0.75
           ],
           2
          ],
          [
           "21-10-2019",
           [
            0.45899999141693115
           ],
           1
          ],
          [
           "25-11-2019",
           [
            0.9330000281333923,
            0.8989999890327454,
            0.02199999988079071
           ],
           3
          ],
          [
           "22-07-2019",
           [
            0.23600000143051147
           ],
           1
          ],
          [
           [],
           [],
           0
          ],
          [
           [],
           [],
           0
          ],
          [
           "15-09-2020",
           [
            0.11299999803304672
           ],
           1
          ],
          [
           "12-01-2021",
           [
            0.11800000071525574
           ],
           1
          ],
          [
           "08-09-2020",
           [
            0.11599999666213989
           ],
           1
          ],
          [
           "14-01-2019",
           [
            0.7910000085830688,
            0.7419999837875366
           ],
           2
          ],
          [
           [],
           [],
           0
          ],
          [
           "04-02-2019",
           [
            0.41600000858306885
           ],
           1
          ],
          [
           "27-04-2020",
           [
            0.11299999803304672
           ],
           1
          ],
          [
           "20-04-2021",
           [
            0.11999999731779099
           ],
           1
          ],
          [
           [],
           [],
           0
          ],
          [
           "06-07-2021",
           [
            0.11500000208616257
           ],
           1
          ],
          [
           "15-03-2022",
           [
            0.23600000143051147
           ],
           1
          ],
          [
           "15-02-2022",
           [
            0.2070000022649765
           ],
           1
          ],
          [
           "16-07-2018",
           [
            0.7549999952316284
           ],
           1
          ],
          [
           [],
           [],
           0
          ],
          [
           "25-11-2019",
           [
            0.30399999022483826
           ],
           1
          ],
          [
           "19-08-2019",
           [
            0.11599999666213989
           ],
           1
          ],
          [
           [],
           [],
           0
          ],
          [
           [],
           [],
           0
          ],
          [
           [],
           [],
           0
          ],
          [
           [],
           [],
           0
          ],
          [
           "27-10-2020",
           [
            0.11800000071525574
           ],
           1
          ],
          [
           "30-12-2019",
           [
            0.11900000274181366
           ],
           1
          ],
          [
           "28-09-2021",
           [
            0.19200000166893005
           ],
           1
          ],
          [
           "04-03-2019",
           [
            0.2540000081062317
           ],
           1
          ],
          [
           [],
           [],
           0
          ],
          [
           "14-01-2019",
           [
            0.9639999866485596
           ],
           1
          ],
          [
           [],
           [],
           0
          ],
          [
           "31-12-2018",
           [
            0.26899999380111694
           ],
           1
          ],
          [
           [],
           [],
           0
          ],
          [
           "30-07-2018",
           [
            0.15199999511241913
           ],
           1
          ],
          [
           [],
           [],
           0
          ],
          [
           "10-02-2020",
           [
            0.335999995470047
           ],
           1
          ],
          [
           [],
           [],
           0
          ],
          [
           "16-03-2021",
           [
            0.2840000092983246
           ],
           1
          ],
          [
           "04-01-2022",
           [
            0.5870000123977661
           ],
           1
          ],
          [
           "26-01-2021",
           [
            0.20900000631809235
           ],
           1
          ],
          [
           [],
           [],
           0
          ],
          [
           [],
           [],
           0
          ],
          [
           "18-02-2019",
           [
            0.3330000042915344
           ],
           1
          ],
          [
           "13-07-2021",
           [
            0.11699999868869781
           ],
           1
          ],
          [
           [],
           [],
           0
          ],
          [
           [],
           [],
           0
          ],
          [
           "18-01-2022",
           [
            0.906000018119812
           ],
           1
          ],
          [
           "19-04-2022",
           [
            0.10700000077486038
           ],
           1
          ],
          [
           "30-03-2021",
           [
            0.968999981880188
           ],
           1
          ],
          [
           "15-09-2020",
           [
            0.11699999868869781
           ],
           1
          ],
          [
           "17-05-2022",
           [
            0.11800000071525574
           ],
           1
          ],
          [
           "26-10-2021",
           [
            0.11500000208616257
           ],
           1
          ],
          [
           [],
           [],
           0
          ],
          [
           [],
           [],
           0
          ],
          [
           "14-01-2019",
           [
            0.20100000500679016
           ],
           1
          ],
          [
           null,
           [
            0.824999988079071,
            null
           ],
           2
          ],
          [
           "20-08-2018",
           [
            0.8169999718666077,
            0.7760000228881836,
            0.7760000228881836,
            0.013000000268220901
           ],
           4
          ],
          [
           "24-12-2018",
           [
            0.3009999990463257
           ],
           1
          ],
          [
           [],
           [],
           0
          ],
          [
           "01-03-2022",
           [
            0.9710000157356262
           ],
           1
          ],
          [
           "12-08-2019",
           [
            0.11500000208616257
           ],
           1
          ],
          [
           "15-10-2018",
           [
            0.11500000208616257
           ],
           1
          ],
          [
           "30-09-2019",
           [
            0.19699999690055847
           ],
           1
          ],
          [
           "18-01-2022",
           [
            0.9990000128746033
           ],
           1
          ],
          [
           "15-03-2022",
           [
            0.6700000166893005
           ],
           1
          ],
          [
           [],
           [],
           0
          ],
          [
           "24-11-2020",
           [
            0.11400000005960464
           ],
           1
          ],
          [
           [],
           [],
           0
          ],
          [
           [],
           [],
           0
          ],
          [
           "11-02-2019",
           [
            0.675000011920929,
            0.3449999988079071
           ],
           2
          ],
          [
           "03-05-2022",
           [
            0.5659999847412109
           ],
           1
          ],
          [
           [],
           [],
           0
          ],
          [
           [],
           [],
           0
          ],
          [
           "08-12-2020",
           [
            0.3319999873638153
           ],
           1
          ],
          [
           null,
           [
            null
           ],
           1
          ],
          [
           "07-01-2019",
           [
            0.1850000023841858
           ],
           1
          ],
          [
           [],
           [],
           0
          ],
          [
           "16-09-2019",
           [
            0.11400000005960464
           ],
           1
          ],
          [
           [],
           [],
           0
          ],
          [
           [],
           [],
           0
          ],
          [
           "07-01-2019",
           [
            0.9860000014305115
           ],
           1
          ],
          [
           "26-10-2021",
           [
            0.11299999803304672
           ],
           1
          ],
          [
           "16-03-2020",
           [
            0.11800000071525574
           ],
           1
          ],
          [
           "08-09-2020",
           [
            0.11800000071525574
           ],
           1
          ],
          [
           "07-07-2020",
           [
            0.11299999803304672
           ],
           1
          ],
          [
           "24-12-2018",
           [
            0.7139999866485596
           ],
           1
          ],
          [
           [],
           [],
           0
          ],
          [
           "22-02-2022",
           [
            0.20100000500679016
           ],
           1
          ],
          [
           "20-01-2020",
           [
            0.1589999943971634
           ],
           1
          ],
          [
           "30-07-2018",
           [
            0.12600000202655792
           ],
           1
          ],
          [
           [],
           [],
           0
          ],
          [
           [],
           [],
           0
          ],
          [
           "26-04-2022",
           [
            0.9169999957084656
           ],
           1
          ],
          [
           [],
           [],
           0
          ],
          [
           "17-05-2022",
           [
            0.11599999666213989
           ],
           1
          ],
          [
           "12-04-2022",
           [
            0.11400000005960464
           ],
           1
          ],
          [
           [],
           [],
           0
          ],
          [
           "11-05-2021",
           [
            0.11900000274181366
           ],
           1
          ],
          [
           "15-09-2020",
           [
            0.11599999666213989
           ],
           1
          ],
          [
           [],
           [],
           0
          ],
          [
           [],
           [],
           0
          ],
          [
           "16-03-2020",
           [
            0.42399999499320984
           ],
           1
          ],
          [
           [],
           [],
           0
          ],
          [
           "12-11-2018",
           [
            0.17100000381469727
           ],
           1
          ],
          [
           [],
           [],
           0
          ],
          [
           "27-04-2020",
           [
            0.7409999966621399,
            0.3540000021457672
           ],
           2
          ],
          [
           [],
           [],
           0
          ],
          [
           [],
           [],
           0
          ],
          [
           "12-01-2021",
           [
            0.1940000057220459
           ],
           1
          ],
          [
           "18-11-2019",
           [
            0.12099999934434891
           ],
           1
          ],
          [
           "05-01-2021",
           [
            0.11299999803304672
           ],
           1
          ],
          [
           "27-04-2021",
           [
            0.10999999940395355
           ],
           1
          ],
          [
           "22-02-2022",
           [
            0.17499999701976776
           ],
           1
          ],
          [
           "16-03-2021",
           [
            0.6639999747276306
           ],
           1
          ],
          [
           [],
           [],
           0
          ],
          [
           "01-12-2020",
           [
            0.03700000047683716
           ],
           1
          ],
          [
           [],
           [],
           0
          ],
          [
           [],
           [],
           0
          ],
          [
           [],
           [],
           0
          ],
          [
           "20-01-2020",
           [
            0.11599999666213989
           ],
           1
          ],
          [
           [],
           [],
           0
          ],
          [
           [],
           [],
           0
          ],
          [
           "24-02-2020",
           [
            0.11599999666213989
           ],
           1
          ]
         ],
         "geojson": {
          "bbox": [
           5.294320277146393,
           45.53284159514133,
           15.497854793523238,
           55.49972348703258
          ],
          "features": [
           {
            "bbox": [
             5.8602054563840325,
             45.53284159514133,
             6.532877813541479,
             46.005623280024516
            ],
            "geometry": {
             "coordinates": [
              [
               [
                5.894217926409395,
                45.53284159514133
               ],
               [
                5.8602054563840325,
                45.98252552838547
               ],
               [
                6.504134109097187,
                46.005623280024516
               ],
               [
                6.532877813541479,
                45.55572004934728
               ],
               [
                5.894217926409395,
                45.53284159514133
               ]
              ]
             ],
             "type": "Polygon"
            },
            "id": "0",
            "properties": {
             "dates_neg": "10-02-2020",
             "dates_pos": [],
             "grid_id": "50kmE4000N2500",
             "neg_cp": 1,
             "pos_cp": 0,
             "probs_neg": [
              0.11400000005960464
             ],
             "probs_pos": [],
             "species": "Bergente"
            },
            "type": "Feature"
           },
           {
            "bbox": [
             5.8254524414603255,
             45.98252552838547,
             6.504134109097187,
             46.45539062852486
            ],
            "geometry": {
             "coordinates": [
              [
               [
                5.8602054563840325,
                45.98252552838547
               ],
               [
                5.8254524414603255,
                46.43206863752983
               ],
               [
                6.474763981639731,
                46.45539062852486
               ],
               [
                6.504134109097187,
                46.005623280024516
               ],
               [
                5.8602054563840325,
                45.98252552838547
               ]
              ]
             ],
             "type": "Polygon"
            },
            "id": "1",
            "properties": {
             "dates_neg": "24-12-2018",
             "dates_pos": [],
             "grid_id": "50kmE4000N2550",
             "neg_cp": 1,
             "pos_cp": 0,
             "probs_neg": [
              0.210999995470047
             ],
             "probs_pos": [],
             "species": "Bergente"
            },
            "type": "Feature"
           },
           {
            "bbox": [
             5.7899359469752305,
             46.43206863752983,
             6.474763981639731,
             46.9050287598452
            ],
            "geometry": {
             "coordinates": [
              [
               [
                5.8254524414603255,
                46.43206863752983
               ],
               [
                5.7899359469752305,
                46.88147743237545
               ],
               [
                6.44474800307047,
                46.9050287598452
               ],
               [
                6.474763981639731,
                46.45539062852486
               ],
               [
                5.8254524414603255,
                46.43206863752983
               ]
              ]
             ],
             "type": "Polygon"
            },
            "id": "2",
            "properties": {
             "dates_neg": "12-10-2021",
             "dates_pos": [],
             "grid_id": "50kmE4000N2600",
             "neg_cp": 2,
             "pos_cp": 0,
             "probs_neg": [
              0.9290000200271606,
              0.5910000205039978
             ],
             "probs_pos": [],
             "species": "Bergente"
            },
            "type": "Feature"
           },
           {
            "bbox": [
             5.60002674943289,
             48.67789862984333,
             6.317806875605944,
             49.151512844189114
            ],
            "geometry": {
             "coordinates": [
              [
               [
                5.639740964056352,
                48.67789862984333
               ],
               [
                5.60002674943289,
                49.12673246004108
               ],
               [
                6.284239411125867,
                49.151512844189114
               ],
               [
                6.317806875605944,
                48.702421618492984
               ],
               [
                5.639740964056352,
                48.67789862984333
               ]
              ]
             ],
             "type": "Polygon"
            },
            "id": "3",
            "properties": {
             "dates_neg": "30-03-2020",
             "dates_pos": [],
             "grid_id": "50kmE4000N2850",
             "neg_cp": 1,
             "pos_cp": 0,
             "probs_neg": [
              0.11599999666213989
             ],
             "probs_pos": [],
             "species": "Bergente"
            },
            "type": "Feature"
           },
           {
            "bbox": [
             5.559388847803098,
             49.12673246004108,
             6.284239411125867,
             49.60051436539798
            ],
            "geometry": {
             "coordinates": [
              [
               [
                5.60002674943289,
                49.12673246004108
               ],
               [
                5.559388847803098,
                49.57547040463253
               ],
               [
                6.249890345763067,
                49.60051436539798
               ],
               [
                6.284239411125867,
                49.151512844189114
               ],
               [
                5.60002674943289,
                49.12673246004108
               ]
              ]
             ],
             "type": "Polygon"
            },
            "id": "4",
            "properties": {
             "dates_neg": "20-01-2020",
             "dates_pos": [],
             "grid_id": "50kmE4000N2900",
             "neg_cp": 1,
             "pos_cp": 0,
             "probs_neg": [
              0.11800000071525574
             ],
             "probs_pos": [],
             "species": "Bergente"
            },
            "type": "Feature"
           },
           {
            "bbox": [
             5.517796212442044,
             49.57547040463253,
             6.249890345763067,
             50.049432687094125
            ],
            "geometry": {
             "coordinates": [
              [
               [
                5.559388847803098,
                49.57547040463253
               ],
               [
                5.517796212442044,
                50.024118758541924
               ],
               [
                6.2147333651716865,
                50.049432687094125
               ],
               [
                6.249890345763067,
                49.60051436539798
               ],
               [
                5.559388847803098,
                49.57547040463253
               ]
              ]
             ],
             "type": "Polygon"
            },
            "id": "5",
            "properties": {
             "dates_neg": "11-01-2022",
             "dates_pos": [],
             "grid_id": "50kmE4000N2950",
             "neg_cp": 1,
             "pos_cp": 0,
             "probs_neg": [
              0.11699999868869781
             ],
             "probs_pos": [],
             "species": "Bergente"
            },
            "type": "Feature"
           },
           {
            "bbox": [
             5.475216363766722,
             50.024118758541924,
             6.2147333651716865,
             50.49827429053195
            ],
            "geometry": {
             "coordinates": [
              [
               [
                5.517796212442044,
                50.024118758541924
               ],
               [
                5.475216363766722,
                50.4726837832855
               ],
               [
                6.178740938087519,
                50.49827429053195
               ],
               [
                6.2147333651716865,
                50.049432687094125
               ],
               [
                5.517796212442044,
                50.024118758541924
               ]
              ]
             ],
             "type": "Polygon"
            },
            "id": "6",
            "properties": {
             "dates_neg": "30-12-2019",
             "dates_pos": [],
             "grid_id": "50kmE4000N3000",
             "neg_cp": 1,
             "pos_cp": 0,
             "probs_neg": [
              0.11699999868869781
             ],
             "probs_pos": [],
             "species": "Bergente"
            },
            "type": "Feature"
           },
           {
            "bbox": [
             5.431615306309049,
             50.4726837832855,
             6.178740938087519,
             50.947045632773616
            ],
            "geometry": {
             "coordinates": [
              [
               [
                5.475216363766722,
                50.4726837832855
               ],
               [
                5.431615306309049,
                50.9211717059387
               ],
               [
                6.141884245635442,
                50.947045632773616
               ],
               [
                6.178740938087519,
                50.49827429053195
               ],
               [
                5.475216363766722,
                50.4726837832855
               ]
              ]
             ],
             "type": "Polygon"
            },
            "id": "7",
            "properties": {
             "dates_neg": "24-11-2020",
             "dates_pos": [],
             "grid_id": "50kmE4000N3050",
             "neg_cp": 1,
             "pos_cp": 0,
             "probs_neg": [
              0.12099999934434891
             ],
             "probs_pos": [],
             "species": "Bergente"
            },
            "type": "Feature"
           },
           {
            "bbox": [
             5.386957439844263,
             50.9211717059387,
             6.141884245635442,
             51.39575314611473
            ],
            "geometry": {
             "coordinates": [
              [
               [
                5.431615306309049,
                50.9211717059387
               ],
               [
                5.386957439844263,
                51.369588717961896
               ],
               [
                6.104133105645625,
                51.39575314611473
               ],
               [
                6.141884245635442,
                50.947045632773616
               ],
               [
                5.431615306309049,
                50.9211717059387
               ]
              ]
             ],
             "type": "Polygon"
            },
            "id": "8",
            "properties": {
             "dates_neg": [],
             "dates_pos": "08-03-2022",
             "grid_id": "50kmE4000N3100",
             "neg_cp": 0,
             "pos_cp": 1,
             "probs_neg": [],
             "probs_pos": [
              0.7720000147819519
             ],
             "species": "Bergente"
            },
            "type": "Feature"
           },
           {
            "bbox": [
             5.341205464190187,
             51.369588717961896,
             6.104133105645625,
             51.84440323740014
            ],
            "geometry": {
             "coordinates": [
              [
               [
                5.386957439844263,
                51.369588717961896
               ],
               [
                5.341205464190187,
                51.81794097387337
               ],
               [
                6.065455891563244,
                51.84440323740014
               ],
               [
                6.104133105645625,
                51.39575314611473
               ],
               [
                5.386957439844263,
                51.369588717961896
               ]
              ]
             ],
             "type": "Polygon"
            },
            "id": "9",
            "properties": {
             "dates_neg": "04-05-2021",
             "dates_pos": [],
             "grid_id": "50kmE4000N3150",
             "neg_cp": 1,
             "pos_cp": 0,
             "probs_neg": [
              0.11599999666213989
             ],
             "probs_pos": [],
             "species": "Bergente"
            },
            "type": "Feature"
           },
           {
            "bbox": [
             5.294320277146393,
             51.81794097387337,
             6.065455891563244,
             52.293002287220716
            ],
            "geometry": {
             "coordinates": [
              [
               [
                5.341205464190187,
                51.81794097387337
               ],
               [
                5.294320277146393,
                52.2662345897571
               ],
               [
                6.025819445496514,
                52.293002287220716
               ],
               [
                6.065455891563244,
                51.84440323740014
               ],
               [
                5.341205464190187,
                51.81794097387337
               ]
              ]
             ],
             "type": "Polygon"
            },
            "id": "10",
            "properties": {
             "dates_neg": "18-05-2020",
             "dates_pos": [],
             "grid_id": "50kmE4000N3200",
             "neg_cp": 1,
             "pos_cp": 0,
             "probs_neg": [
              0.11900000274181366
             ],
             "probs_pos": [],
             "species": "Bergente"
            },
            "type": "Feature"
           },
           {
            "bbox": [
             6.504134109097187,
             45.55572004934728,
             7.17197792153269,
             46.024826663152446
            ],
            "geometry": {
             "coordinates": [
              [
               [
                6.532877813541479,
                45.55572004934728
               ],
               [
                6.504134109097187,
                46.005623280024516
               ],
               [
                7.148517707465846,
                46.024826663152446
               ],
               [
                7.17197792153269,
                45.574740931513396
               ],
               [
                6.532877813541479,
                45.55572004934728
               ]
              ]
             ],
             "type": "Polygon"
            },
            "id": "11",
            "properties": {
             "dates_neg": "11-02-2019",
             "dates_pos": [],
             "grid_id": "50kmE4050N2500",
             "neg_cp": 1,
             "pos_cp": 0,
             "probs_neg": [
              0.11800000071525574
             ],
             "probs_pos": [],
             "species": "Bergente"
            },
            "type": "Feature"
           },
           {
            "bbox": [
             6.474763981639731,
             46.005623280024516,
             7.148517707465846,
             46.47478063046314
            ],
            "geometry": {
             "coordinates": [
              [
               [
                6.504134109097187,
                46.005623280024516
               ],
               [
                6.474763981639731,
                46.45539062852486
               ],
               [
                7.124545812172288,
                46.47478063046314
               ],
               [
                7.148517707465846,
                46.024826663152446
               ],
               [
                6.504134109097187,
                46.005623280024516
               ]
              ]
             ],
             "type": "Polygon"
            },
            "id": "12",
            "properties": {
             "dates_neg": "16-12-2019",
             "dates_pos": [],
             "grid_id": "50kmE4050N2550",
             "neg_cp": 1,
             "pos_cp": 0,
             "probs_neg": [
              0.20800000429153442
             ],
             "probs_pos": [],
             "species": "Bergente"
            },
            "type": "Feature"
           },
           {
            "bbox": [
             6.44474800307047,
             46.45539062852486,
             7.124545812172288,
             46.92460962800396
            ],
            "geometry": {
             "coordinates": [
              [
               [
                6.474763981639731,
                46.45539062852486
               ],
               [
                6.44474800307047,
                46.9050287598452
               ],
               [
                7.100046347295531,
                46.92460962800396
               ],
               [
                7.124545812172288,
                46.47478063046314
               ],
               [
                6.474763981639731,
                46.45539062852486
               ]
              ]
             ],
             "type": "Polygon"
            },
            "id": "13",
            "properties": {
             "dates_neg": "02-03-2021",
             "dates_pos": [],
             "grid_id": "50kmE4050N2600",
             "neg_cp": 1,
             "pos_cp": 0,
             "probs_neg": [
              0.40700000524520874
             ],
             "probs_pos": [],
             "species": "Bergente"
            },
            "type": "Feature"
           },
           {
            "bbox": [
             6.414065911585941,
             46.9050287598452,
             7.100046347295531,
             47.37432043315503
            ],
            "geometry": {
             "coordinates": [
              [
               [
                6.44474800307047,
                46.9050287598452
               ],
               [
                6.414065911585941,
                47.35454431624454
               ],
               [
                7.0750027416925745,
                47.37432043315503
               ],
               [
                7.100046347295531,
                46.92460962800396
               ],
               [
                6.44474800307047,
                46.9050287598452
               ]
              ]
             ],
             "type": "Polygon"
            },
            "id": "14",
            "properties": {
             "dates_neg": "19-01-2021",
             "dates_pos": [],
             "grid_id": "50kmE4050N2650",
             "neg_cp": 1,
             "pos_cp": 0,
             "probs_neg": [
              0.20100000500679016
             ],
             "probs_pos": [],
             "species": "Bergente"
            },
            "type": "Feature"
           },
           {
            "bbox": [
             6.382696566927923,
             47.35454431624454,
             7.0750027416925745,
             47.82391980648829
            ],
            "geometry": {
             "coordinates": [
              [
               [
                6.414065911585941,
                47.35454431624454
               ],
               [
                6.382696566927923,
                47.80394391731532
               ],
               [
                7.049397704718675,
                47.82391980648829
               ],
               [
                7.0750027416925745,
                47.37432043315503
               ],
               [
                6.414065911585941,
                47.35454431624454
               ]
              ]
             ],
             "type": "Polygon"
            },
            "id": "15",
            "properties": {
             "dates_neg": "08-06-2020",
             "dates_pos": [],
             "grid_id": "50kmE4050N2700",
             "neg_cp": 1,
             "pos_cp": 0,
             "probs_neg": [
              0.1120000034570694
             ],
             "probs_pos": [],
             "species": "Bergente"
            },
            "type": "Feature"
           },
           {
            "bbox": [
             6.284239411125867,
             48.702421618492984,
             6.996430339276242,
             49.172116695710706
            ],
            "geometry": {
             "coordinates": [
              [
               [
                6.317806875605944,
                48.702421618492984
               ],
               [
                6.284239411125867,
                49.151512844189114
               ],
               [
                6.969029466810232,
                49.172116695710706
               ],
               [
                6.996430339276242,
                48.72281121786176
               ],
               [
                6.317806875605944,
                48.702421618492984
               ]
              ]
             ],
             "type": "Polygon"
            },
            "id": "16",
            "properties": {
             "dates_neg": "06-10-2020",
             "dates_pos": [],
             "grid_id": "50kmE4050N2850",
             "neg_cp": 1,
             "pos_cp": 0,
             "probs_neg": [
              0.11999999731779099
             ],
             "probs_pos": [],
             "species": "Bergente"
            },
            "type": "Feature"
           },
           {
            "bbox": [
             6.249890345763067,
             49.151512844189114,
             6.969029466810232,
             49.62133762176975
            ],
            "geometry": {
             "coordinates": [
              [
               [
                6.284239411125867,
                49.151512844189114
               ],
               [
                6.249890345763067,
                49.60051436539798
               ],
               [
                6.940989982980571,
                49.62133762176975
               ],
               [
                6.969029466810232,
                49.172116695710706
               ],
               [
                6.284239411125867,
                49.151512844189114
               ]
              ]
             ],
             "type": "Polygon"
            },
            "id": "17",
            "properties": {
             "dates_neg": [],
             "dates_pos": "01-09-2020",
             "grid_id": "50kmE4050N2900",
             "neg_cp": 0,
             "pos_cp": 3,
             "probs_neg": [],
             "probs_pos": [
              0.9950000047683716,
              0.7720000147819519,
              0.7699999809265137
             ],
             "species": "Bergente"
            },
            "type": "Feature"
           },
           {
            "bbox": [
             6.2147333651716865,
             49.60051436539798,
             6.940989982980571,
             50.07048067650014
            ],
            "geometry": {
             "coordinates": [
              [
               [
                6.249890345763067,
                49.60051436539798
               ],
               [
                6.2147333651716865,
                50.049432687094125
               ],
               [
                6.9122903579819175,
                50.07048067650014
               ],
               [
                6.940989982980571,
                49.62133762176975
               ],
               [
                6.249890345763067,
                49.60051436539798
               ]
              ]
             ],
             "type": "Polygon"
            },
            "id": "18",
            "properties": {
             "dates_neg": "10-05-2022",
             "dates_pos": [],
             "grid_id": "50kmE4050N2950",
             "neg_cp": 1,
             "pos_cp": 0,
             "probs_neg": [
              0.11599999666213989
             ],
             "probs_pos": [],
             "species": "Bergente"
            },
            "type": "Feature"
           },
           {
            "bbox": [
             6.178740938087519,
             50.049432687094125,
             6.9122903579819175,
             50.51955252475898
            ],
            "geometry": {
             "coordinates": [
              [
               [
                6.2147333651716865,
                50.049432687094125
               ],
               [
                6.178740938087519,
                50.49827429053195
               ],
               [
                6.882908064672625,
                50.51955252475898
               ],
               [
                6.9122903579819175,
                50.07048067650014
               ],
               [
                6.2147333651716865,
                50.049432687094125
               ]
              ]
             ],
             "type": "Polygon"
            },
            "id": "19",
            "properties": {
             "dates_neg": "16-02-2021",
             "dates_pos": [],
             "grid_id": "50kmE4050N3000",
             "neg_cp": 1,
             "pos_cp": 0,
             "probs_neg": [
              0.11500000208616257
             ],
             "probs_pos": [],
             "species": "Bergente"
            },
            "type": "Feature"
           },
           {
            "bbox": [
             6.141884245635442,
             50.49827429053195,
             6.882908064672625,
             50.968559815798535
            ],
            "geometry": {
             "coordinates": [
              [
               [
                6.178740938087519,
                50.49827429053195
               ],
               [
                6.141884245635442,
                50.947045632773616
               ],
               [
                6.852819520516474,
                50.968559815798535
               ],
               [
                6.882908064672625,
                50.51955252475898
               ],
               [
                6.178740938087519,
                50.49827429053195
               ]
              ]
             ],
             "type": "Polygon"
            },
            "id": "20",
            "properties": {
             "dates_neg": "02-03-2021",
             "dates_pos": [],
             "grid_id": "50kmE4050N3050",
             "neg_cp": 3,
             "pos_cp": 0,
             "probs_neg": [
              0.8519999980926514,
              0.5659999847412109,
              0.5080000162124634
             ],
             "probs_pos": [],
             "species": "Bergente"
            },
            "type": "Feature"
           },
           {
            "bbox": [
             6.104133105645625,
             50.947045632773616,
             6.852819520516474,
             51.41750918319662
            ],
            "geometry": {
             "coordinates": [
              [
               [
                6.141884245635442,
                50.947045632773616
               ],
               [
                6.104133105645625,
                51.39575314611473
               ],
               [
                6.82200002541504,
                51.41750918319662
               ],
               [
                6.852819520516474,
                50.968559815798535
               ],
               [
                6.141884245635442,
                50.947045632773616
               ]
              ]
             ],
             "type": "Polygon"
            },
            "id": "21",
            "properties": {
             "dates_neg": [],
             "dates_pos": "09-07-2018",
             "grid_id": "50kmE4050N3100",
             "neg_cp": 0,
             "pos_cp": 1,
             "probs_neg": [],
             "probs_pos": [
              0.5320000052452087
             ],
             "species": "Bergente"
            },
            "type": "Feature"
           },
           {
            "bbox": [
             6.065455891563244,
             51.39575314611473,
             6.82200002541504,
             51.86640724471291
            ],
            "geometry": {
             "coordinates": [
              [
               [
                6.104133105645625,
                51.39575314611473
               ],
               [
                6.065455891563244,
                51.84440323740014
               ],
               [
                6.790423695087806,
                51.86640724471291
               ],
               [
                6.82200002541504,
                51.41750918319662
               ],
               [
                6.104133105645625,
                51.39575314611473
               ]
              ]
             ],
             "type": "Polygon"
            },
            "id": "22",
            "properties": {
             "dates_neg": [],
             "dates_pos": "21-12-2021",
             "grid_id": "50kmE4050N3150",
             "neg_cp": 0,
             "pos_cp": 4,
             "probs_neg": [],
             "probs_pos": [
              0.9580000042915344,
              0.9549999833106995,
              0.8700000047683716,
              0.7170000076293945
             ],
             "species": "Bergente"
            },
            "type": "Feature"
           },
           {
            "bbox": [
             6.025819445496514,
             51.84440323740014,
             6.790423695087806,
             52.31526060206531
            ],
            "geometry": {
             "coordinates": [
              [
               [
                6.065455891563244,
                51.84440323740014
               ],
               [
                6.025819445496514,
                52.293002287220716
               ],
               [
                6.758063389624033,
                52.31526060206531
               ],
               [
                6.790423695087806,
                51.86640724471291
               ],
               [
                6.065455891563244,
                51.84440323740014
               ]
              ]
             ],
             "type": "Polygon"
            },
            "id": "23",
            "properties": {
             "dates_neg": "08-12-2020",
             "dates_pos": [],
             "grid_id": "50kmE4050N3200",
             "neg_cp": 1,
             "pos_cp": 0,
             "probs_neg": [
              0.12099999934434891
             ],
             "probs_pos": [],
             "species": "Bergente"
            },
            "type": "Feature"
           },
           {
            "bbox": [
             5.985188984903533,
             52.293002287220716,
             6.758063389624033,
             52.764075840619874
            ],
            "geometry": {
             "coordinates": [
              [
               [
                6.025819445496514,
                52.293002287220716
               ],
               [
                5.985188984903533,
                52.741556648981295
               ],
               [
                6.724890636793732,
                52.764075840619874
               ],
               [
                6.758063389624033,
                52.31526060206531
               ],
               [
                6.025819445496514,
                52.293002287220716
               ]
              ]
             ],
             "type": "Polygon"
            },
            "id": "24",
            "properties": {
             "dates_neg": "24-11-2020",
             "dates_pos": [],
             "grid_id": "50kmE4050N3250",
             "neg_cp": 1,
             "pos_cp": 0,
             "probs_neg": [
              0.11800000071525574
             ],
             "probs_pos": [],
             "species": "Bergente"
            },
            "type": "Feature"
           },
           {
            "bbox": [
             5.900798157869414,
             53.19007264782961,
             6.690875549664229,
             53.661618218519415
            ],
            "geometry": {
             "coordinates": [
              [
               [
                5.943528002369289,
                53.19007264782961
               ],
               [
                5.900798157869414,
                53.63855657943358
               ],
               [
                6.65598673802355,
                53.661618218519415
               ],
               [
                6.690875549664229,
                53.21285952898756
               ],
               [
                5.943528002369289,
                53.19007264782961
               ]
              ]
             ],
             "type": "Polygon"
            },
            "id": "25",
            "properties": {
             "dates_neg": "30-11-2021",
             "dates_pos": [],
             "grid_id": "50kmE4050N3350",
             "neg_cp": 1,
             "pos_cp": 0,
             "probs_neg": [
              0.4519999921321869
             ],
             "probs_pos": [],
             "species": "Bergente"
            },
            "type": "Feature"
           },
           {
            "bbox": [
             5.856959162856438,
             53.63855657943358,
             6.65598673802355,
             54.110358442692295
            ],
            "geometry": {
             "coordinates": [
              [
               [
                5.900798157869414,
                53.63855657943358
               ],
               [
                5.856959162856438,
                54.087014708594744
               ],
               [
                6.620191213061184,
                54.110358442692295
               ],
               [
                6.65598673802355,
                53.661618218519415
               ],
               [
                5.900798157869414,
                53.63855657943358
               ]
              ]
             ],
             "type": "Polygon"
            },
            "id": "26",
            "properties": {
             "dates_neg": "22-04-2019",
             "dates_pos": [],
             "grid_id": "50kmE4050N3400",
             "neg_cp": 1,
             "pos_cp": 0,
             "probs_neg": [
              0.11400000005960464
             ],
             "probs_pos": [],
             "species": "Bergente"
            },
            "type": "Feature"
           },
           {
            "bbox": [
             5.811968655436324,
             54.087014708594744,
             6.620191213061184,
             54.55908671637455
            ],
            "geometry": {
             "coordinates": [
              [
               [
                5.856959162856438,
                54.087014708594744
               ],
               [
                5.811968655436324,
                54.53545326768263
               ],
               [
                6.583454284700534,
                54.55908671637455
               ],
               [
                6.620191213061184,
                54.110358442692295
               ],
               [
                5.856959162856438,
                54.087014708594744
               ]
              ]
             ],
             "type": "Polygon"
            },
            "id": "27",
            "properties": {
             "dates_neg": "23-09-2019",
             "dates_pos": [],
             "grid_id": "50kmE4050N3450",
             "neg_cp": 1,
             "pos_cp": 0,
             "probs_neg": [
              0.11500000208616257
             ],
             "probs_pos": [],
             "species": "Bergente"
            },
            "type": "Feature"
           },
           {
            "bbox": [
             5.718352471208469,
             54.98387845487468,
             6.545739450914322,
             55.45653337337241
            ],
            "geometry": {
             "coordinates": [
              [
               [
                5.765782065827332,
                54.98387845487468
               ],
               [
                5.718352471208469,
                55.432296432183634
               ],
               [
                6.507008278283883,
                55.45653337337241
               ],
               [
                6.545739450914322,
                55.0078095349621
               ],
               [
                5.765782065827332,
                54.98387845487468
               ]
              ]
             ],
             "type": "Polygon"
            },
            "id": "28",
            "properties": {
             "dates_neg": "30-03-2021",
             "dates_pos": [],
             "grid_id": "50kmE4050N3550",
             "neg_cp": 1,
             "pos_cp": 0,
             "probs_neg": [
              0.11900000274181366
             ],
             "probs_pos": [],
             "species": "Bergente"
            },
            "type": "Feature"
           },
           {
            "bbox": [
             7.148517707465846,
             45.574740931513396,
             7.811437649241108,
             46.04013165540312
            ],
            "geometry": {
             "coordinates": [
              [
               [
                7.17197792153269,
                45.574740931513396
               ],
               [
                7.148517707465846,
                46.024826663152446
               ],
               [
                7.793272966283078,
                46.04013165540312
               ],
               [
                7.811437649241108,
                45.58990035566735
               ],
               [
                7.17197792153269,
                45.574740931513396
               ]
              ]
             ],
             "type": "Polygon"
            },
            "id": "29",
            "properties": {
             "dates_neg": "23-12-2019",
             "dates_pos": [],
             "grid_id": "50kmE4100N2500",
             "neg_cp": 1,
             "pos_cp": 0,
             "probs_neg": [
              0.11299999803304672
             ],
             "probs_pos": [],
             "species": "Bergente"
            },
            "type": "Feature"
           },
           {
            "bbox": [
             7.124545812172288,
             46.024826663152446,
             7.793272966283078,
             46.49023447867831
            ],
            "geometry": {
             "coordinates": [
              [
               [
                7.148517707465846,
                46.024826663152446
               ],
               [
                7.124545812172288,
                46.47478063046314
               ],
               [
                7.774711851520301,
                46.49023447867831
               ],
               [
                7.793272966283078,
                46.04013165540312
               ],
               [
                7.148517707465846,
                46.024826663152446
               ]
              ]
             ],
             "type": "Polygon"
            },
            "id": "30",
            "properties": {
             "dates_neg": "24-08-2021",
             "dates_pos": [],
             "grid_id": "50kmE4100N2550",
             "neg_cp": 1,
             "pos_cp": 0,
             "probs_neg": [
              0.11400000005960464
             ],
             "probs_pos": [],
             "species": "Bergente"
            },
            "type": "Feature"
           },
           {
            "bbox": [
             7.100046347295531,
             46.47478063046314,
             7.774711851520301,
             46.940215723658554
            ],
            "geometry": {
             "coordinates": [
              [
               [
                7.124545812172288,
                46.47478063046314
               ],
               [
                7.100046347295531,
                46.92460962800396
               ],
               [
                7.75574198355447,
                46.940215723658554
               ],
               [
                7.774711851520301,
                46.49023447867831
               ],
               [
                7.124545812172288,
                46.47478063046314
               ]
              ]
             ],
             "type": "Polygon"
            },
            "id": "31",
            "properties": {
             "dates_neg": [],
             "dates_pos": "16-11-2021",
             "grid_id": "50kmE4100N2600",
             "neg_cp": 0,
             "pos_cp": 1,
             "probs_neg": [],
             "probs_pos": [
              0.23399999737739563
             ],
             "species": "Bergente"
            },
            "type": "Feature"
           },
           {
            "bbox": [
             7.0750027416925745,
             46.92460962800396,
             7.75574198355447,
             47.39008227578561
            ],
            "geometry": {
             "coordinates": [
              [
               [
                7.100046347295531,
                46.92460962800396
               ],
               [
                7.0750027416925745,
                47.37432043315503
               ],
               [
                7.736350510880769,
                47.39008227578561
               ],
               [
                7.75574198355447,
                46.940215723658554
               ],
               [
                7.100046347295531,
                46.92460962800396
               ]
              ]
             ],
             "type": "Polygon"
            },
            "id": "32",
            "properties": {
             "dates_neg": "28-01-2019",
             "dates_pos": [],
             "grid_id": "50kmE4100N2650",
             "neg_cp": 1,
             "pos_cp": 0,
             "probs_neg": [
              0.20399999618530273
             ],
             "probs_pos": [],
             "species": "Bergente"
            },
            "type": "Feature"
           },
           {
            "bbox": [
             7.049397704718675,
             47.37432043315503,
             7.736350510880769,
             47.83984100838725
            ],
            "geometry": {
             "coordinates": [
              [
               [
                7.0750027416925745,
                47.37432043315503
               ],
               [
                7.049397704718675,
                47.82391980648829
               ],
               [
                7.716524023341792,
                47.83984100838725
               ],
               [
                7.736350510880769,
                47.39008227578561
               ],
               [
                7.0750027416925745,
                47.37432043315503
               ]
              ]
             ],
             "type": "Polygon"
            },
            "id": "33",
            "properties": {
             "dates_neg": [],
             "dates_pos": "11-01-2022",
             "grid_id": "50kmE4100N2700",
             "neg_cp": 0,
             "pos_cp": 1,
             "probs_neg": [],
             "probs_pos": [
              0.3540000021457672
             ],
             "species": "Bergente"
            },
            "type": "Feature"
           },
           {
            "bbox": [
             7.023213187109591,
             47.82391980648829,
             7.716524023341792,
             48.289498783259496
            ],
            "geometry": {
             "coordinates": [
              [
               [
                7.049397704718675,
                47.82391980648829
               ],
               [
                7.023213187109591,
                48.273414492094105
               ],
               [
                7.696248521710374,
                48.289498783259496
               ],
               [
                7.716524023341792,
                47.83984100838725
               ],
               [
                7.049397704718675,
                47.82391980648829
               ]
              ]
             ],
             "type": "Polygon"
            },
            "id": "34",
            "properties": {
             "dates_neg": "07-12-2021",
             "dates_pos": [],
             "grid_id": "50kmE4100N2750",
             "neg_cp": 2,
             "pos_cp": 0,
             "probs_neg": [
              0.6539999842643738,
              0.13699999451637268
             ],
             "probs_pos": [],
             "species": "Bergente"
            },
            "type": "Feature"
           },
           {
            "bbox": [
             6.996430339276242,
             48.273414492094105,
             7.696248521710374,
             48.73906245121938
            ],
            "geometry": {
             "coordinates": [
              [
               [
                7.023213187109591,
                48.273414492094105
               ],
               [
                6.996430339276242,
                48.72281121786176
               ],
               [
                7.675509385256852,
                48.73906245121938
               ],
               [
                7.696248521710374,
                48.289498783259496
               ],
               [
                7.023213187109591,
                48.273414492094105
               ]
              ]
             ],
             "type": "Polygon"
            },
            "id": "35",
            "properties": {
             "dates_neg": "12-01-2021",
             "dates_pos": [],
             "grid_id": "50kmE4100N2800",
             "neg_cp": 1,
             "pos_cp": 0,
             "probs_neg": [
              0.11500000208616257
             ],
             "probs_pos": [],
             "species": "Bergente"
            },
            "type": "Feature"
           },
           {
            "bbox": [
             6.969029466810232,
             48.72281121786176,
             7.675509385256852,
             49.188538852627005
            ],
            "geometry": {
             "coordinates": [
              [
               [
                6.996430339276242,
                48.72281121786176
               ],
               [
                6.969029466810232,
                49.172116695710706
               ],
               [
                7.654291337143541,
                49.188538852627005
               ],
               [
                7.675509385256852,
                48.73906245121938
               ],
               [
                6.996430339276242,
                48.72281121786176
               ]
              ]
             ],
             "type": "Polygon"
            },
            "id": "36",
            "properties": {
             "dates_neg": "23-03-2021",
             "dates_pos": [],
             "grid_id": "50kmE4100N2850",
             "neg_cp": 1,
             "pos_cp": 0,
             "probs_neg": [
              0.11599999666213989
             ],
             "probs_pos": [],
             "species": "Bergente"
            },
            "type": "Feature"
           },
           {
            "bbox": [
             6.940989982980571,
             49.172116695710706,
             7.654291337143541,
             49.63793481787473
            ],
            "geometry": {
             "coordinates": [
              [
               [
                6.969029466810232,
                49.172116695710706
               ],
               [
                6.940989982980571,
                49.62133762176975
               ],
               [
                7.632578407474879,
                49.63793481787473
               ],
               [
                7.654291337143541,
                49.188538852627005
               ],
               [
                6.969029466810232,
                49.172116695710706
               ]
              ]
             ],
             "type": "Polygon"
            },
            "id": "37",
            "properties": {
             "dates_neg": "08-12-2020",
             "dates_pos": [],
             "grid_id": "50kmE4100N2900",
             "neg_cp": 1,
             "pos_cp": 0,
             "probs_neg": [
              0.11599999666213989
             ],
             "probs_pos": [],
             "species": "Bergente"
            },
            "type": "Feature"
           },
           {
            "bbox": [
             6.9122903579819175,
             49.62133762176975,
             7.632578407474879,
             50.08725716784181
            ],
            "geometry": {
             "coordinates": [
              [
               [
                6.940989982980571,
                49.62133762176975
               ],
               [
                6.9122903579819175,
                50.07048067650014
               ],
               [
                7.610353893816139,
                50.08725716784181
               ],
               [
                7.632578407474879,
                49.63793481787473
               ],
               [
                6.940989982980571,
                49.62133762176975
               ]
              ]
             ],
             "type": "Polygon"
            },
            "id": "38",
            "properties": {
             "dates_neg": "05-01-2021",
             "dates_pos": [],
             "grid_id": "50kmE4100N2950",
             "neg_cp": 1,
             "pos_cp": 0,
             "probs_neg": [
              0.11699999868869781
             ],
             "probs_pos": [],
             "species": "Bergente"
            },
            "type": "Feature"
           },
           {
            "bbox": [
             6.882908064672625,
             50.07048067650014,
             7.610353893816139,
             50.53651271431218
            ],
            "geometry": {
             "coordinates": [
              [
               [
                6.9122903579819175,
                50.07048067650014
               ],
               [
                6.882908064672625,
                50.51955252475898
               ],
               [
                7.587600318976294,
                50.53651271431218
               ],
               [
                7.610353893816139,
                50.08725716784181
               ],
               [
                6.9122903579819175,
                50.07048067650014
               ]
              ]
             ],
             "type": "Polygon"
            },
            "id": "39",
            "properties": {
             "dates_neg": [],
             "dates_pos": "15-12-2020",
             "grid_id": "50kmE4100N3000",
             "neg_cp": 0,
             "pos_cp": 1,
             "probs_neg": [],
             "probs_pos": [
              0.20200000703334808
             ],
             "species": "Bergente"
            },
            "type": "Feature"
           },
           {
            "bbox": [
             6.852819520516474,
             50.51955252475898,
             7.587600318976294,
             50.985708260352766
            ],
            "geometry": {
             "coordinates": [
              [
               [
                6.882908064672625,
                50.51955252475898
               ],
               [
                6.852819520516474,
                50.968559815798535
               ],
               [
                7.564299385831565,
                50.985708260352766
               ],
               [
                7.587600318976294,
                50.53651271431218
               ],
               [
                6.882908064672625,
                50.51955252475898
               ]
              ]
             ],
             "type": "Polygon"
            },
            "id": "40",
            "properties": {
             "dates_neg": "10-02-2020",
             "dates_pos": [],
             "grid_id": "50kmE4100N3050",
             "neg_cp": 1,
             "pos_cp": 0,
             "probs_neg": [
              0.21799999475479126
             ],
             "probs_pos": [],
             "species": "Bergente"
            },
            "type": "Feature"
           },
           {
            "bbox": [
             6.82200002541504,
             50.968559815798535,
             7.564299385831565,
             51.434850600649796
            ],
            "geometry": {
             "coordinates": [
              [
               [
                6.852819520516474,
                50.968559815798535
               ],
               [
                6.82200002541504,
                51.41750918319662
               ],
               [
                7.540431928945065,
                51.434850600649796
               ],
               [
                7.564299385831565,
                50.985708260352766
               ],
               [
                6.852819520516474,
                50.968559815798535
               ]
              ]
             ],
             "type": "Polygon"
            },
            "id": "41",
            "properties": {
             "dates_neg": [],
             "dates_pos": "22-12-2020",
             "grid_id": "50kmE4100N3100",
             "neg_cp": 0,
             "pos_cp": 1,
             "probs_neg": [],
             "probs_pos": [
              0.1860000044107437
             ],
             "species": "Bergente"
            },
            "type": "Feature"
           },
           {
            "bbox": [
             6.790423695087806,
             51.41750918319662,
             7.540431928945065,
             51.88394652180013
            ],
            "geometry": {
             "coordinates": [
              [
               [
                6.82200002541504,
                51.41750918319662
               ],
               [
                6.790423695087806,
                51.86640724471291
               ],
               [
                7.515977862714568,
                51.88394652180013
               ],
               [
                7.540431928945065,
                51.434850600649796
               ],
               [
                6.82200002541504,
                51.41750918319662
               ]
              ]
             ],
             "type": "Polygon"
            },
            "id": "42",
            "properties": {
             "dates_neg": [],
             "dates_pos": "28-12-2021",
             "grid_id": "50kmE4100N3150",
             "neg_cp": 0,
             "pos_cp": 1,
             "probs_neg": [],
             "probs_pos": [
              0.8610000014305115
             ],
             "species": "Bergente"
            },
            "type": "Feature"
           },
           {
            "bbox": [
             6.758063389624033,
             51.86640724471291,
             7.515977862714568,
             52.333002802553914
            ],
            "geometry": {
             "coordinates": [
              [
               [
                6.790423695087806,
                51.86640724471291
               ],
               [
                6.758063389624033,
                52.31526060206531
               ],
               [
                7.490916125754547,
                52.333002802553914
               ],
               [
                7.515977862714568,
                51.88394652180013
               ],
               [
                6.790423695087806,
                51.86640724471291
               ]
              ]
             ],
             "type": "Polygon"
            },
            "id": "43",
            "properties": {
             "dates_neg": "09-09-2019",
             "dates_pos": [],
             "grid_id": "50kmE4100N3200",
             "neg_cp": 3,
             "pos_cp": 0,
             "probs_neg": [
              0.7250000238418579,
              0.6349999904632568,
              0.34299999475479126
             ],
             "probs_pos": [],
             "species": "Bergente"
            },
            "type": "Feature"
           },
           {
            "bbox": [
             6.724890636793732,
             52.31526060206531,
             7.490916125754547,
             52.78202621400537
            ],
            "geometry": {
             "coordinates": [
              [
               [
                6.758063389624033,
                52.31526060206531
               ],
               [
                6.724890636793732,
                52.764075840619874
               ],
               [
                7.465224621189807,
                52.78202621400537
               ],
               [
                7.490916125754547,
                52.333002802553914
               ],
               [
                6.758063389624033,
                52.31526060206531
               ]
              ]
             ],
             "type": "Polygon"
            },
            "id": "44",
            "properties": {
             "dates_neg": "07-01-2019",
             "dates_pos": [],
             "grid_id": "50kmE4100N3250",
             "neg_cp": 1,
             "pos_cp": 0,
             "probs_neg": [
              0.20200000703334808
             ],
             "probs_pos": [],
             "species": "Bergente"
            },
            "type": "Feature"
           },
           {
            "bbox": [
             6.690875549664229,
             52.764075840619874,
             7.465224621189807,
             53.23102351972704
            ],
            "geometry": {
             "coordinates": [
              [
               [
                6.724890636793732,
                52.764075840619874
               ],
               [
                6.690875549664229,
                53.21285952898756
               ],
               [
                7.43888015250612,
                53.23102351972704
               ],
               [
                7.465224621189807,
                52.78202621400537
               ],
               [
                6.724890636793732,
                52.764075840619874
               ]
              ]
             ],
             "type": "Polygon"
            },
            "id": "45",
            "properties": {
             "dates_neg": "08-07-2019",
             "dates_pos": [],
             "grid_id": "50kmE4100N3300",
             "neg_cp": 1,
             "pos_cp": 0,
             "probs_neg": [
              0.11500000208616257
             ],
             "probs_pos": [],
             "species": "Bergente"
            },
            "type": "Feature"
           },
           {
            "bbox": [
             6.65598673802355,
             53.21285952898756,
             7.43888015250612,
             53.680001475843305
            ],
            "geometry": {
             "coordinates": [
              [
               [
                6.690875549664229,
                53.21285952898756
               ],
               [
                6.65598673802355,
                53.661618218519415
               ],
               [
                7.411858354567622,
                53.680001475843305
               ],
               [
                7.43888015250612,
                53.23102351972704
               ],
               [
                6.690875549664229,
                53.21285952898756
               ]
              ]
             ],
             "type": "Polygon"
            },
            "id": "46",
            "properties": {
             "dates_neg": [],
             "dates_pos": "05-10-2021",
             "grid_id": "50kmE4100N3350",
             "neg_cp": 0,
             "pos_cp": 1,
             "probs_neg": [],
             "probs_pos": [
              0.2460000067949295
             ],
             "species": "Bergente"
            },
            "type": "Feature"
           },
           {
            "bbox": [
             6.620191213061184,
             53.661618218519415,
             7.411858354567622,
             54.128966831038035
            ],
            "geometry": {
             "coordinates": [
              [
               [
                6.65598673802355,
                53.661618218519415
               ],
               [
                6.620191213061184,
                54.110358442692295
               ],
               [
                7.384133619371156,
                54.128966831038035
               ],
               [
                7.411858354567622,
                53.680001475843305
               ],
               [
                6.65598673802355,
                53.661618218519415
               ]
              ]
             ],
             "type": "Polygon"
            },
            "id": "47",
            "properties": {
             "dates_neg": [],
             "dates_pos": "20-10-2020",
             "grid_id": "50kmE4100N3400",
             "neg_cp": 0,
             "pos_cp": 1,
             "probs_neg": [],
             "probs_pos": [
              0.16500000655651093
             ],
             "species": "Bergente"
            },
            "type": "Feature"
           },
           {
            "bbox": [
             6.545739450914322,
             54.55908671637455,
             7.355679016063438,
             55.02688669573351
            ],
            "geometry": {
             "coordinates": [
              [
               [
                6.583454284700534,
                54.55908671637455
               ],
               [
                6.545739450914322,
                55.0078095349621
               ],
               [
                7.326466204697555,
                55.02688669573351
               ],
               [
                7.355679016063438,
                54.57792632649046
               ],
               [
                6.583454284700534,
                54.55908671637455
               ]
              ]
             ],
             "type": "Polygon"
            },
            "id": "48",
            "properties": {
             "dates_neg": "14-07-2020",
             "dates_pos": [],
             "grid_id": "50kmE4100N3500",
             "neg_cp": 1,
             "pos_cp": 0,
             "probs_neg": [
              0.11400000005960464
             ],
             "probs_pos": [],
             "species": "Bergente"
            },
            "type": "Feature"
           },
           {
            "bbox": [
             7.793272966283078,
             45.58990035566735,
             8.451176018047393,
             46.05153504541659
            ],
            "geometry": {
             "coordinates": [
              [
               [
                7.811437649241108,
                45.58990035566735
               ],
               [
                7.793272966283078,
                46.04013165540312
               ],
               [
                8.438316202995853,
                46.05153504541659
               ],
               [
                8.451176018047393,
                45.60119521945546
               ],
               [
                7.811437649241108,
                45.58990035566735
               ]
              ]
             ],
             "type": "Polygon"
            },
            "id": "49",
            "properties": {
             "dates_neg": "25-08-2020",
             "dates_pos": [],
             "grid_id": "50kmE4150N2500",
             "neg_cp": 1,
             "pos_cp": 0,
             "probs_neg": [
              0.11400000005960464
             ],
             "probs_pos": [],
             "species": "Bergente"
            },
            "type": "Feature"
           },
           {
            "bbox": [
             7.774711851520301,
             46.04013165540312,
             8.438316202995853,
             46.501748848076275
            ],
            "geometry": {
             "coordinates": [
              [
               [
                7.793272966283078,
                46.04013165540312
               ],
               [
                7.774711851520301,
                46.49023447867831
               ],
               [
                8.425175599651874,
                46.501748848076275
               ],
               [
                8.438316202995853,
                46.05153504541659
               ],
               [
                7.793272966283078,
                46.04013165540312
               ]
              ]
             ],
             "type": "Polygon"
            },
            "id": "50",
            "properties": {
             "dates_neg": "10-09-2018",
             "dates_pos": [],
             "grid_id": "50kmE4150N2550",
             "neg_cp": 1,
             "pos_cp": 0,
             "probs_neg": [
              0.11599999666213989
             ],
             "probs_pos": [],
             "species": "Bergente"
            },
            "type": "Feature"
           },
           {
            "bbox": [
             7.75574198355447,
             46.49023447867831,
             8.425175599651874,
             46.95184360299633
            ],
            "geometry": {
             "coordinates": [
              [
               [
                7.774711851520301,
                46.49023447867831
               ],
               [
                7.75574198355447,
                46.940215723658554
               ],
               [
                8.411745474732808,
                46.95184360299633
               ],
               [
                8.425175599651874,
                46.501748848076275
               ],
               [
                7.774711851520301,
                46.49023447867831
               ]
              ]
             ],
             "type": "Polygon"
            },
            "id": "51",
            "properties": {
             "dates_neg": "11-11-2019",
             "dates_pos": [],
             "grid_id": "50kmE4150N2600",
             "neg_cp": 1,
             "pos_cp": 0,
             "probs_neg": [
              0.3009999990463257
             ],
             "probs_pos": [],
             "species": "Bergente"
            },
            "type": "Feature"
           },
           {
            "bbox": [
             7.736350510880769,
             46.940215723658554,
             8.411745474732808,
             47.401826276347066
            ],
            "geometry": {
             "coordinates": [
              [
               [
                7.75574198355447,
                46.940215723658554
               ],
               [
                7.736350510880769,
                47.39008227578561
               ],
               [
                8.398016718901296,
                47.401826276347066
               ],
               [
                8.411745474732808,
                46.95184360299633
               ],
               [
                7.75574198355447,
                46.940215723658554
               ]
              ]
             ],
             "type": "Polygon"
            },
            "id": "52",
            "properties": {
             "dates_neg": [],
             "dates_pos": [],
             "grid_id": "50kmE4150N2650",
             "neg_cp": 0,
             "pos_cp": 0,
             "probs_neg": [],
             "probs_pos": [],
             "species": "Bergente"
            },
            "type": "Feature"
           },
           {
            "bbox": [
             7.716524023341792,
             47.39008227578561,
             8.398016718901296,
             47.85170382569705
            ],
            "geometry": {
             "coordinates": [
              [
               [
                7.736350510880769,
                47.39008227578561
               ],
               [
                7.716524023341792,
                47.83984100838725
               ],
               [
                8.383979826493244,
                47.85170382569705
               ],
               [
                8.398016718901296,
                47.401826276347066
               ],
               [
                7.736350510880769,
                47.39008227578561
               ]
              ]
             ],
             "type": "Polygon"
            },
            "id": "53",
            "properties": {
             "dates_neg": "28-10-2019",
             "dates_pos": [],
             "grid_id": "50kmE4150N2700",
             "neg_cp": 1,
             "pos_cp": 0,
             "probs_neg": [
              0.33000001311302185
             ],
             "probs_pos": [],
             "species": "Bergente"
            },
            "type": "Feature"
           },
           {
            "bbox": [
             7.696248521710374,
             47.83984100838725,
             8.383979826493244,
             48.301483200786855
            ],
            "geometry": {
             "coordinates": [
              [
               [
                7.716524023341792,
                47.83984100838725
               ],
               [
                7.696248521710374,
                48.289498783259496
               ],
               [
                8.369624873915331,
                48.301483200786855
               ],
               [
                8.383979826493244,
                47.85170382569705
               ],
               [
                7.716524023341792,
                47.83984100838725
               ]
              ]
             ],
             "type": "Polygon"
            },
            "id": "54",
            "properties": {
             "dates_neg": "21-10-2019",
             "dates_pos": [],
             "grid_id": "50kmE4150N2750",
             "neg_cp": 1,
             "pos_cp": 0,
             "probs_neg": [
              0.11400000005960464
             ],
             "probs_pos": [],
             "species": "Bergente"
            },
            "type": "Feature"
           },
           {
            "bbox": [
             7.675509385256852,
             48.289498783259496,
             8.369624873915331,
             48.751171344286014
            ],
            "geometry": {
             "coordinates": [
              [
               [
                7.696248521710374,
                48.289498783259496
               ],
               [
                7.675509385256852,
                48.73906245121938
               ],
               [
                8.354941496609259,
                48.751171344286014
               ],
               [
                8.369624873915331,
                48.301483200786855
               ],
               [
                7.696248521710374,
                48.289498783259496
               ]
              ]
             ],
             "type": "Polygon"
            },
            "id": "55",
            "properties": {
             "dates_neg": [],
             "dates_pos": "05-01-2021",
             "grid_id": "50kmE4150N2800",
             "neg_cp": 0,
             "pos_cp": 1,
             "probs_neg": [],
             "probs_pos": [
              0.17100000381469727
             ],
             "species": "Bergente"
            },
            "type": "Feature"
           },
           {
            "bbox": [
             7.654291337143541,
             48.73906245121938,
             8.354941496609259,
             49.20077519253294
            ],
            "geometry": {
             "coordinates": [
              [
               [
                7.675509385256852,
                48.73906245121938
               ],
               [
                7.654291337143541,
                49.188538852627005
               ],
               [
                8.339918864470704,
                49.20077519253294
               ],
               [
                8.354941496609259,
                48.751171344286014
               ],
               [
                7.675509385256852,
                48.73906245121938
               ]
              ]
             ],
             "type": "Polygon"
            },
            "id": "56",
            "properties": {
             "dates_neg": [],
             "dates_pos": "09-02-2021",
             "grid_id": "50kmE4150N2850",
             "neg_cp": 0,
             "pos_cp": 3,
             "probs_neg": [],
             "probs_pos": [
              0.9980000257492065,
              0.9850000143051147,
              0.8109999895095825
             ],
             "species": "Bergente"
            },
            "type": "Feature"
           },
           {
            "bbox": [
             7.632578407474879,
             49.188538852627005,
             8.339918864470704,
             49.65030167625689
            ],
            "geometry": {
             "coordinates": [
              [
               [
                7.654291337143541,
                49.188538852627005
               ],
               [
                7.632578407474879,
                49.63793481787473
               ],
               [
                8.32454565560083,
                49.65030167625689
               ],
               [
                8.339918864470704,
                49.20077519253294
               ],
               [
                7.654291337143541,
                49.188538852627005
               ]
              ]
             ],
             "type": "Polygon"
            },
            "id": "57",
            "properties": {
             "dates_neg": "13-04-2020",
             "dates_pos": [],
             "grid_id": "50kmE4150N2900",
             "neg_cp": 1,
             "pos_cp": 0,
             "probs_neg": [
              0.1120000034570694
             ],
             "probs_pos": [],
             "species": "Bergente"
            },
            "type": "Feature"
           },
           {
            "bbox": [
             7.610353893816139,
             49.63793481787473,
             8.32454565560083,
             50.09975772128108
            ],
            "geometry": {
             "coordinates": [
              [
               [
                7.632578407474879,
                49.63793481787473
               ],
               [
                7.610353893816139,
                50.08725716784181
               ],
               [
                8.308810028257028,
                50.09975772128108
               ],
               [
                8.32454565560083,
                49.65030167625689
               ],
               [
                7.632578407474879,
                49.63793481787473
               ]
              ]
             ],
             "type": "Polygon"
            },
            "id": "58",
            "properties": {
             "dates_neg": "18-01-2022",
             "dates_pos": [],
             "grid_id": "50kmE4150N2950",
             "neg_cp": 2,
             "pos_cp": 0,
             "probs_neg": [
              0.5370000004768372,
              0.5270000100135803
             ],
             "probs_pos": [],
             "species": "Bergente"
            },
            "type": "Feature"
           },
           {
            "bbox": [
             7.587600318976294,
             50.08725716784181,
             8.308810028257028,
             50.549150249206306
            ],
            "geometry": {
             "coordinates": [
              [
               [
                7.610353893816139,
                50.08725716784181
               ],
               [
                7.587600318976294,
                50.53651271431218
               ],
               [
                8.292699590857294,
                50.549150249206306
               ],
               [
                8.308810028257028,
                50.09975772128108
               ],
               [
                7.610353893816139,
                50.08725716784181
               ]
              ]
             ],
             "type": "Polygon"
            },
            "id": "59",
            "properties": {
             "dates_neg": "15-07-2019",
             "dates_pos": [],
             "grid_id": "50kmE4150N3000",
             "neg_cp": 1,
             "pos_cp": 0,
             "probs_neg": [
              0.11699999868869781
             ],
             "probs_pos": [],
             "species": "Bergente"
            },
            "type": "Feature"
           },
           {
            "bbox": [
             7.564299385831565,
             50.53651271431218,
             8.292699590857294,
             50.998486178073684
            ],
            "geometry": {
             "coordinates": [
              [
               [
                7.587600318976294,
                50.53651271431218
               ],
               [
                7.564299385831565,
                50.985708260352766
               ],
               [
                8.276201369878942,
                50.998486178073684
               ],
               [
                8.292699590857294,
                50.549150249206306
               ],
               [
                7.587600318976294,
                50.53651271431218
               ]
              ]
             ],
             "type": "Polygon"
            },
            "id": "60",
            "properties": {
             "dates_neg": [],
             "dates_pos": [],
             "grid_id": "50kmE4150N3050",
             "neg_cp": 0,
             "pos_cp": 0,
             "probs_neg": [],
             "probs_pos": [],
             "species": "Bergente"
            },
            "type": "Feature"
           },
           {
            "bbox": [
             7.540431928945065,
             50.985708260352766,
             8.276201369878942,
             51.4477724230056
            ],
            "geometry": {
             "coordinates": [
              [
               [
                7.564299385831565,
                50.985708260352766
               ],
               [
                7.540431928945065,
                51.434850600649796
               ],
               [
                8.259301775477372,
                51.4477724230056
               ],
               [
                8.276201369878942,
                50.998486178073684
               ],
               [
                7.564299385831565,
                50.985708260352766
               ]
              ]
             ],
             "type": "Polygon"
            },
            "id": "61",
            "properties": {
             "dates_neg": "24-12-2018",
             "dates_pos": [],
             "grid_id": "50kmE4150N3100",
             "neg_cp": 1,
             "pos_cp": 0,
             "probs_neg": [
              0.23000000417232513
             ],
             "probs_pos": [],
             "species": "Bergente"
            },
            "type": "Feature"
           },
           {
            "bbox": [
             7.515977862714568,
             51.434850600649796,
             8.259301775477372,
             51.8970158968234
            ],
            "geometry": {
             "coordinates": [
              [
               [
                7.540431928945065,
                51.434850600649796
               ],
               [
                7.515977862714568,
                51.88394652180013
               ],
               [
                8.241986564633853,
                51.8970158968234
               ],
               [
                8.259301775477372,
                51.4477724230056
               ],
               [
                7.540431928945065,
                51.434850600649796
               ]
              ]
             ],
             "type": "Polygon"
            },
            "id": "62",
            "properties": {
             "dates_neg": "27-01-2020",
             "dates_pos": [],
             "grid_id": "50kmE4150N3150",
             "neg_cp": 1,
             "pos_cp": 0,
             "probs_neg": [
              0.2290000021457672
             ],
             "probs_pos": [],
             "species": "Bergente"
            },
            "type": "Feature"
           },
           {
            "bbox": [
             7.490916125754547,
             51.88394652180013,
             8.241986564633853,
             52.34622351064028
            ],
            "geometry": {
             "coordinates": [
              [
               [
                7.515977862714568,
                51.88394652180013
               ],
               [
                7.490916125754547,
                52.333002802553914
               ],
               [
                8.224240801622818,
                52.34622351064028
               ],
               [
                8.241986564633853,
                51.8970158968234
               ],
               [
                7.515977862714568,
                51.88394652180013
               ]
              ]
             ],
             "type": "Polygon"
            },
            "id": "63",
            "properties": {
             "dates_neg": "23-02-2021",
             "dates_pos": "11-02-2019",
             "grid_id": "50kmE4150N3200",
             "neg_cp": 3,
             "pos_cp": 1,
             "probs_neg": [
              0.621999979019165,
              0.4830000102519989,
              0.028999999165534973
             ],
             "probs_pos": [
              0.8410000205039978
             ],
             "species": "Bergente"
            },
            "type": "Feature"
           },
           {
            "bbox": [
             7.465224621189807,
             52.333002802553914,
             8.224240801622818,
             52.79540217442788
            ],
            "geometry": {
             "coordinates": [
              [
               [
                7.490916125754547,
                52.333002802553914
               ],
               [
                7.465224621189807,
                52.78202621400537
               ],
               [
                8.206048815568566,
                52.79540217442788
               ],
               [
                8.224240801622818,
                52.34622351064028
               ],
               [
                7.490916125754547,
                52.333002802553914
               ]
              ]
             ],
             "type": "Polygon"
            },
            "id": "64",
            "properties": {
             "dates_neg": [],
             "dates_pos": "05-10-2021",
             "grid_id": "50kmE4150N3250",
             "neg_cp": 0,
             "pos_cp": 1,
             "probs_neg": [],
             "probs_pos": [
              0.25699999928474426
             ],
             "species": "Bergente"
            },
            "type": "Feature"
           },
           {
            "bbox": [
             7.43888015250612,
             52.78202621400537,
             8.206048815568566,
             53.244558797554404
            ],
            "geometry": {
             "coordinates": [
              [
               [
                7.465224621189807,
                52.78202621400537
               ],
               [
                7.43888015250612,
                53.23102351972704
               ],
               [
                8.187394154838481,
                53.244558797554404
               ],
               [
                8.206048815568566,
                52.79540217442788
               ],
               [
                7.465224621189807,
                52.78202621400537
               ]
              ]
             ],
             "type": "Polygon"
            },
            "id": "65",
            "properties": {
             "dates_neg": [],
             "dates_pos": [],
             "grid_id": "50kmE4150N3300",
             "neg_cp": 0,
             "pos_cp": 0,
             "probs_neg": [],
             "probs_pos": [],
             "species": "Bergente"
            },
            "type": "Feature"
           },
           {
            "bbox": [
             7.411858354567622,
             53.23102351972704,
             8.187394154838481,
             53.693700289292444
            ],
            "geometry": {
             "coordinates": [
              [
               [
                7.43888015250612,
                53.23102351972704
               ],
               [
                7.411858354567622,
                53.680001475843305
               ],
               [
                8.168259537994377,
                53.693700289292444
               ],
               [
                8.187394154838481,
                53.244558797554404
               ],
               [
                7.43888015250612,
                53.23102351972704
               ]
              ]
             ],
             "type": "Polygon"
            },
            "id": "66",
            "properties": {
             "dates_neg": [],
             "dates_pos": "03-11-2020",
             "grid_id": "50kmE4150N3350",
             "neg_cp": 0,
             "pos_cp": 1,
             "probs_neg": [],
             "probs_pos": [
              0.15299999713897705
             ],
             "species": "Bergente"
            },
            "type": "Feature"
           },
           {
            "bbox": [
             7.384133619371156,
             53.680001475843305,
             8.168259537994377,
             54.142833559293834
            ],
            "geometry": {
             "coordinates": [
              [
               [
                7.411858354567622,
                53.680001475843305
               ],
               [
                7.384133619371156,
                54.128966831038035
               ],
               [
                8.148626800995276,
                54.142833559293834
               ],
               [
                8.168259537994377,
                53.693700289292444
               ],
               [
                7.411858354567622,
                53.680001475843305
               ]
              ]
             ],
             "type": "Polygon"
            },
            "id": "67",
            "properties": {
             "dates_neg": [],
             "dates_pos": "29-09-2020",
             "grid_id": "50kmE4150N3400",
             "neg_cp": 0,
             "pos_cp": 1,
             "probs_neg": [],
             "probs_pos": [
              0.15800000727176666
             ],
             "species": "Bergente"
            },
            "type": "Feature"
           },
           {
            "bbox": [
             7.355679016063438,
             54.128966831038035,
             8.148626800995276,
             54.59196551802927
            ],
            "geometry": {
             "coordinates": [
              [
               [
                7.384133619371156,
                54.128966831038035
               ],
               [
                7.355679016063438,
                54.57792632649046
               ],
               [
                8.128476840313308,
                54.59196551802927
               ],
               [
                8.148626800995276,
                54.142833559293834
               ],
               [
                7.384133619371156,
                54.128966831038035
               ]
              ]
             ],
             "type": "Polygon"
            },
            "id": "68",
            "properties": {
             "dates_neg": "08-12-2020",
             "dates_pos": [],
             "grid_id": "50kmE4150N3450",
             "neg_cp": 1,
             "pos_cp": 0,
             "probs_neg": [
              0.19200000166893005
             ],
             "probs_pos": [],
             "species": "Bergente"
            },
            "type": "Feature"
           },
           {
            "bbox": [
             8.438316202995853,
             45.60119521945546,
             9.09111175632257,
             46.05903443727465
            ],
            "geometry": {
             "coordinates": [
              [
               [
                8.451176018047393,
                45.60119521945546
               ],
               [
                8.438316202995853,
                46.05153504541659
               ],
               [
                9.083563426597431,
                46.05903443727465
               ],
               [
                9.09111175632257,
                45.60862320835171
               ],
               [
                8.451176018047393,
                45.60119521945546
               ]
              ]
             ],
             "type": "Polygon"
            },
            "id": "69",
            "properties": {
             "dates_neg": [],
             "dates_pos": "05-01-2021",
             "grid_id": "50kmE4200N2500",
             "neg_cp": 0,
             "pos_cp": 1,
             "probs_neg": [],
             "probs_pos": [
              0.3050000071525574
             ],
             "species": "Bergente"
            },
            "type": "Feature"
           },
           {
            "bbox": [
             8.425175599651874,
             46.05153504541659,
             9.083563426597431,
             46.509321257812296
            ],
            "geometry": {
             "coordinates": [
              [
               [
                8.438316202995853,
                46.05153504541659
               ],
               [
                8.425175599651874,
                46.501748848076275
               ],
               [
                9.075850231641201,
                46.509321257812296
               ],
               [
                9.083563426597431,
                46.05903443727465
               ],
               [
                8.438316202995853,
                46.05153504541659
               ]
              ]
             ],
             "type": "Polygon"
            },
            "id": "70",
            "properties": {
             "dates_neg": "15-12-2020",
             "dates_pos": [],
             "grid_id": "50kmE4200N2550",
             "neg_cp": 1,
             "pos_cp": 0,
             "probs_neg": [
              0.289000004529953
             ],
             "probs_pos": [],
             "species": "Bergente"
            },
            "type": "Feature"
           },
           {
            "bbox": [
             8.411745474732808,
             46.501748848076275,
             9.075850231641201,
             46.95949069651937
            ],
            "geometry": {
             "coordinates": [
              [
               [
                8.425175599651874,
                46.501748848076275
               ],
               [
                8.411745474732808,
                46.95184360299633
               ],
               [
                9.067967041310354,
                46.95949069651937
               ],
               [
                9.075850231641201,
                46.509321257812296
               ],
               [
                8.425175599651874,
                46.501748848076275
               ]
              ]
             ],
             "type": "Polygon"
            },
            "id": "71",
            "properties": {
             "dates_neg": [],
             "dates_pos": "02-03-2021",
             "grid_id": "50kmE4200N2600",
             "neg_cp": 0,
             "pos_cp": 1,
             "probs_neg": [],
             "probs_pos": [
              0.28999999165534973
             ],
             "species": "Bergente"
            },
            "type": "Feature"
           },
           {
            "bbox": [
             8.398016718901296,
             46.95184360299633,
             9.067967041310354,
             47.409549772757046
            ],
            "geometry": {
             "coordinates": [
              [
               [
                8.411745474732808,
                46.95184360299633
               ],
               [
                8.398016718901296,
                47.401826276347066
               ],
               [
                9.059908504433732,
                47.409549772757046
               ],
               [
                9.067967041310354,
                46.95949069651937
               ],
               [
                8.411745474732808,
                46.95184360299633
               ]
              ]
             ],
             "type": "Polygon"
            },
            "id": "72",
            "properties": {
             "dates_neg": [],
             "dates_pos": "09-03-2020",
             "grid_id": "50kmE4200N2650",
             "neg_cp": 0,
             "pos_cp": 1,
             "probs_neg": [],
             "probs_pos": [
              0.3790000081062317
             ],
             "species": "Bergente"
            },
            "type": "Feature"
           },
           {
            "bbox": [
             8.383979826493244,
             47.401826276347066,
             9.059908504433732,
             47.85950549960135
            ],
            "geometry": {
             "coordinates": [
              [
               [
                8.398016718901296,
                47.401826276347066
               ],
               [
                8.383979826493244,
                47.85170382569705
               ],
               [
                9.051669036889214,
                47.85950549960135
               ],
               [
                9.059908504433732,
                47.409549772757046
               ],
               [
                8.398016718901296,
                47.401826276347066
               ]
              ]
             ],
             "type": "Polygon"
            },
            "id": "73",
            "properties": {
             "dates_neg": "11-01-2022",
             "dates_pos": [],
             "grid_id": "50kmE4200N2700",
             "neg_cp": 1,
             "pos_cp": 0,
             "probs_neg": [
              0.16099999845027924
             ],
             "probs_pos": [],
             "species": "Bergente"
            },
            "type": "Feature"
           },
           {
            "bbox": [
             8.369624873915331,
             47.85170382569705,
             9.051669036889214,
             48.309364884743395
            ],
            "geometry": {
             "coordinates": [
              [
               [
                8.383979826493244,
                47.85170382569705
               ],
               [
                8.369624873915331,
                48.301483200786855
               ],
               [
                9.043242808897237,
                48.309364884743395
               ],
               [
                9.051669036889214,
                47.85950549960135
               ],
               [
                8.383979826493244,
                47.85170382569705
               ]
              ]
             ],
             "type": "Polygon"
            },
            "id": "74",
            "properties": {
             "dates_neg": "31-12-2018",
             "dates_pos": [],
             "grid_id": "50kmE4200N2750",
             "neg_cp": 2,
             "pos_cp": 0,
             "probs_neg": [
              0.6970000267028809,
              0.6600000262260437
             ],
             "probs_pos": [],
             "species": "Bergente"
            },
            "type": "Feature"
           },
           {
            "bbox": [
             8.354941496609259,
             48.301483200786855,
             9.043242808897237,
             48.75913493138134
            ],
            "geometry": {
             "coordinates": [
              [
               [
                8.369624873915331,
                48.301483200786855
               ],
               [
                8.354941496609259,
                48.751171344286014
               ],
               [
                9.034623731470543,
                48.75913493138134
               ],
               [
                9.043242808897237,
                48.309364884743395
               ],
               [
                8.369624873915331,
                48.301483200786855
               ]
              ]
             ],
             "type": "Polygon"
            },
            "id": "75",
            "properties": {
             "dates_neg": "09-02-2021",
             "dates_pos": [],
             "grid_id": "50kmE4200N2800",
             "neg_cp": 1,
             "pos_cp": 0,
             "probs_neg": [
              0.11400000005960464
             ],
             "probs_pos": [],
             "species": "Bergente"
            },
            "type": "Feature"
           },
           {
            "bbox": [
             8.339918864470704,
             48.751171344286014,
             9.034623731470543,
             49.208822639104156
            ],
            "geometry": {
             "coordinates": [
              [
               [
                8.354941496609259,
                48.751171344286014
               ],
               [
                8.339918864470704,
                49.20077519253294
               ],
               [
                9.025805441954168,
                49.208822639104156
               ],
               [
                9.034623731470543,
                48.75913493138134
               ],
               [
                8.354941496609259,
                48.751171344286014
               ]
              ]
             ],
             "type": "Polygon"
            },
            "id": "76",
            "properties": {
             "dates_neg": "06-07-2021",
             "dates_pos": [],
             "grid_id": "50kmE4200N2850",
             "neg_cp": 2,
             "pos_cp": 0,
             "probs_neg": [
              1,
              0.33500000834465027
             ],
             "probs_pos": [],
             "species": "Bergente"
            },
            "type": "Feature"
           },
           {
            "bbox": [
             8.32454565560083,
             49.20077519253294,
             9.025805441954168,
             49.658435004767256
            ],
            "geometry": {
             "coordinates": [
              [
               [
                8.339918864470704,
                49.20077519253294
               ],
               [
                8.32454565560083,
                49.65030167625689
               ],
               [
                9.016781288583688,
                49.658435004767256
               ],
               [
                9.025805441954168,
                49.208822639104156
               ],
               [
                8.339918864470704,
                49.20077519253294
               ]
              ]
             ],
             "type": "Polygon"
            },
            "id": "77",
            "properties": {
             "dates_neg": [],
             "dates_pos": "29-12-2020",
             "grid_id": "50kmE4200N2900",
             "neg_cp": 0,
             "pos_cp": 1,
             "probs_neg": [],
             "probs_pos": [
              0.42399999499320984
             ],
             "species": "Bergente"
            },
            "type": "Feature"
           },
           {
            "bbox": [
             8.308810028257028,
             49.65030167625689,
             9.016781288583688,
             50.10797902336005
            ],
            "geometry": {
             "coordinates": [
              [
               [
                8.32454565560083,
                49.65030167625689
               ],
               [
                8.308810028257028,
                50.09975772128108
               ],
               [
                9.007544313983132,
                50.10797902336005
               ],
               [
                9.016781288583688,
                49.658435004767256
               ],
               [
                8.32454565560083,
                49.65030167625689
               ]
              ]
             ],
             "type": "Polygon"
            },
            "id": "78",
            "properties": {
             "dates_neg": [],
             "dates_pos": "23-12-2019",
             "grid_id": "50kmE4200N2950",
             "neg_cp": 0,
             "pos_cp": 3,
             "probs_neg": [],
             "probs_pos": [
              1,
              0.9800000190734863,
              0.5009999871253967
             ],
             "species": "Bergente"
            },
            "type": "Feature"
           },
           {
            "bbox": [
             8.292699590857294,
             50.09975772128108,
             9.007544313983132,
             50.55746168886497
            ],
            "geometry": {
             "coordinates": [
              [
               [
                8.308810028257028,
                50.09975772128108
               ],
               [
                8.292699590857294,
                50.549150249206306
               ],
               [
                8.998087237516723,
                50.55746168886497
               ],
               [
                9.007544313983132,
                50.10797902336005
               ],
               [
                8.308810028257028,
                50.09975772128108
               ]
              ]
             ],
             "type": "Polygon"
            },
            "id": "79",
            "properties": {
             "dates_neg": [],
             "dates_pos": "15-03-2022",
             "grid_id": "50kmE4200N3000",
             "neg_cp": 0,
             "pos_cp": 1,
             "probs_neg": [],
             "probs_pos": [
              0.9980000257492065
             ],
             "species": "Bergente"
            },
            "type": "Feature"
           },
           {
            "bbox": [
             8.276201369878942,
             50.549150249206306,
             8.998087237516723,
             51.006889995108345
            ],
            "geometry": {
             "coordinates": [
              [
               [
                8.292699590857294,
                50.549150249206306
               ],
               [
                8.276201369878942,
                50.998486178073684
               ],
               [
                8.988402436400596,
                51.006889995108345
               ],
               [
                8.998087237516723,
                50.55746168886497
               ],
               [
                8.292699590857294,
                50.549150249206306
               ]
              ]
             ],
             "type": "Polygon"
            },
            "id": "80",
            "properties": {
             "dates_neg": [],
             "dates_pos": "07-12-2021",
             "grid_id": "50kmE4200N3050",
             "neg_cp": 0,
             "pos_cp": 1,
             "probs_neg": [],
             "probs_pos": [
              0.972000002861023
             ],
             "species": "Bergente"
            },
            "type": "Feature"
           },
           {
            "bbox": [
             8.259301775477372,
             50.998486178073684,
             8.988402436400596,
             51.45627093660271
            ],
            "geometry": {
             "coordinates": [
              [
               [
                8.276201369878942,
                50.998486178073684
               ],
               [
                8.259301775477372,
                51.4477724230056
               ],
               [
                8.978481925471693,
                51.45627093660271
               ],
               [
                8.988402436400596,
                51.006889995108345
               ],
               [
                8.276201369878942,
                50.998486178073684
               ]
              ]
             ],
             "type": "Polygon"
            },
            "id": "81",
            "properties": {
             "dates_neg": "31-12-2018",
             "dates_pos": [],
             "grid_id": "50kmE4200N3100",
             "neg_cp": 1,
             "pos_cp": 0,
             "probs_neg": [
              0.6499999761581421
             ],
             "probs_pos": [],
             "species": "Bergente"
            },
            "type": "Feature"
           },
           {
            "bbox": [
             8.241986564633853,
             51.4477724230056,
             8.978481925471693,
             51.905611509380115
            ],
            "geometry": {
             "coordinates": [
              [
               [
                8.259301775477372,
                51.4477724230056
               ],
               [
                8.241986564633853,
                51.8970158968234
               ],
               [
                8.968317335501196,
                51.905611509380115
               ],
               [
                8.978481925471693,
                51.45627093660271
               ],
               [
                8.259301775477372,
                51.4477724230056
               ]
              ]
             ],
             "type": "Polygon"
            },
            "id": "82",
            "properties": {
             "dates_neg": "29-06-2020",
             "dates_pos": "23-12-2019",
             "grid_id": "50kmE4200N3150",
             "neg_cp": 1,
             "pos_cp": 1,
             "probs_neg": [
              0.7950000166893005
             ],
             "probs_pos": [
              0.8330000042915344
             ],
             "species": "Bergente"
            },
            "type": "Feature"
           },
           {
            "bbox": [
             8.224240801622818,
             51.8970158968234,
             8.968317335501196,
             52.35491871181676
            ],
            "geometry": {
             "coordinates": [
              [
               [
                8.241986564633853,
                51.8970158968234
               ],
               [
                8.224240801622818,
                52.34622351064028
               ],
               [
                8.95789988992899,
                52.35491871181676
               ],
               [
                8.968317335501196,
                51.905611509380115
               ],
               [
                8.241986564633853,
                51.8970158968234
               ]
              ]
             ],
             "type": "Polygon"
            },
            "id": "83",
            "properties": {
             "dates_neg": [],
             "dates_pos": "11-01-2022",
             "grid_id": "50kmE4200N3200",
             "neg_cp": 0,
             "pos_cp": 1,
             "probs_neg": [],
             "probs_pos": [
              0.6489999890327454
             ],
             "species": "Bergente"
            },
            "type": "Feature"
           },
           {
            "bbox": [
             8.206048815568566,
             52.34622351064028,
             8.95789988992899,
             52.80419954544785
            ],
            "geometry": {
             "coordinates": [
              [
               [
                8.224240801622818,
                52.34622351064028
               ],
               [
                8.206048815568566,
                52.79540217442788
               ],
               [
                8.947220379883412,
                52.80419954544785
               ],
               [
                8.95789988992899,
                52.35491871181676
               ],
               [
                8.224240801622818,
                52.34622351064028
               ]
              ]
             ],
             "type": "Polygon"
            },
            "id": "84",
            "properties": {
             "dates_neg": [],
             "dates_pos": "28-10-2019",
             "grid_id": "50kmE4200N3250",
             "neg_cp": 0,
             "pos_cp": 1,
             "probs_neg": [],
             "probs_pos": [
              0.24199999868869781
             ],
             "species": "Bergente"
            },
            "type": "Feature"
           },
           {
            "bbox": [
             8.187394154838481,
             52.79540217442788,
             8.947220379883412,
             53.25346101577304
            ],
            "geometry": {
             "coordinates": [
              [
               [
                8.206048815568566,
                52.79540217442788
               ],
               [
                8.187394154838481,
                53.244558797554404
               ],
               [
                8.936269137337133,
                53.25346101577304
               ],
               [
                8.947220379883412,
                52.80419954544785
               ],
               [
                8.206048815568566,
                52.79540217442788
               ]
              ]
             ],
             "type": "Polygon"
            },
            "id": "85",
            "properties": {
             "dates_neg": [],
             "dates_pos": "16-11-2021",
             "grid_id": "50kmE4200N3300",
             "neg_cp": 0,
             "pos_cp": 1,
             "probs_neg": [],
             "probs_pos": [
              0.5139999985694885
             ],
             "species": "Bergente"
            },
            "type": "Feature"
           },
           {
            "bbox": [
             8.168259537994377,
             53.244558797554404,
             8.936269137337133,
             53.7027101330513
            ],
            "geometry": {
             "coordinates": [
              [
               [
                8.187394154838481,
                53.244558797554404
               ],
               [
                8.168259537994377,
                53.693700289292444
               ],
               [
                8.925036006234967,
                53.7027101330513
               ],
               [
                8.936269137337133,
                53.25346101577304
               ],
               [
                8.187394154838481,
                53.244558797554404
               ]
              ]
             ],
             "type": "Polygon"
            },
            "id": "86",
            "properties": {
             "dates_neg": "01-12-2020",
             "dates_pos": [],
             "grid_id": "50kmE4200N3350",
             "neg_cp": 1,
             "pos_cp": 0,
             "probs_neg": [
              0.16699999570846558
             ],
             "probs_pos": [],
             "species": "Bergente"
            },
            "type": "Feature"
           },
           {
            "bbox": [
             8.148626800995276,
             53.693700289292444,
             8.925036006234967,
             54.15195391308504
            ],
            "geometry": {
             "coordinates": [
              [
               [
                8.168259537994377,
                53.693700289292444
               ],
               [
                8.148626800995276,
                54.142833559293834
               ],
               [
                8.91351031141262,
                54.15195391308504
               ],
               [
                8.925036006234967,
                53.7027101330513
               ],
               [
                8.168259537994377,
                53.693700289292444
               ]
              ]
             ],
             "type": "Polygon"
            },
            "id": "87",
            "properties": {
             "dates_neg": [],
             "dates_pos": "24-11-2020",
             "grid_id": "50kmE4200N3400",
             "neg_cp": 0,
             "pos_cp": 1,
             "probs_neg": [],
             "probs_pos": [
              0.28200000524520874
             ],
             "species": "Bergente"
            },
            "type": "Feature"
           },
           {
            "bbox": [
             8.128476840313308,
             54.142833559293834,
             8.91351031141262,
             54.60119937799277
            ],
            "geometry": {
             "coordinates": [
              [
               [
                8.148626800995276,
                54.142833559293834
               ],
               [
                8.128476840313308,
                54.59196551802927
               ],
               [
                8.901680825106796,
                54.60119937799277
               ],
               [
                8.91351031141262,
                54.15195391308504
               ],
               [
                8.148626800995276,
                54.142833559293834
               ]
              ]
             ],
             "type": "Polygon"
            },
            "id": "88",
            "properties": {
             "dates_neg": [],
             "dates_pos": "03-11-2020",
             "grid_id": "50kmE4200N3450",
             "neg_cp": 0,
             "pos_cp": 1,
             "probs_neg": [],
             "probs_pos": [
              0.17900000512599945
             ],
             "species": "Bergente"
            },
            "type": "Feature"
           },
           {
            "bbox": [
             8.10778955158899,
             54.59196551802927,
             8.901680825106796,
             55.050453556969224
            ],
            "geometry": {
             "coordinates": [
              [
               [
                8.128476840313308,
                54.59196551802927
               ],
               [
                8.10778955158899,
                55.04110307718915
               ],
               [
                8.889535730836064,
                55.050453556969224
               ],
               [
                8.901680825106796,
                54.60119937799277
               ],
               [
                8.128476840313308,
                54.59196551802927
               ]
              ]
             ],
             "type": "Polygon"
            },
            "id": "89",
            "properties": {
             "dates_neg": [],
             "dates_pos": "06-10-2020",
             "grid_id": "50kmE4200N3500",
             "neg_cp": 0,
             "pos_cp": 1,
             "probs_neg": [],
             "probs_pos": [
              0.20399999618530273
             ],
             "species": "Bergente"
            },
            "type": "Feature"
           },
           {
            "bbox": [
             8.086543763412685,
             55.04110307718915,
             8.889535730836064,
             55.49972348703258
            ],
            "geometry": {
             "coordinates": [
              [
               [
                8.10778955158899,
                55.04110307718915
               ],
               [
                8.086543763412685,
                55.490253150043
               ],
               [
                8.877062584408613,
                55.49972348703258
               ],
               [
                8.889535730836064,
                55.050453556969224
               ],
               [
                8.10778955158899,
                55.04110307718915
               ]
              ]
             ],
             "type": "Polygon"
            },
            "id": "90",
            "properties": {
             "dates_neg": "13-10-2020",
             "dates_pos": [],
             "grid_id": "50kmE4200N3550",
             "neg_cp": 1,
             "pos_cp": 0,
             "probs_neg": [
              0.11500000208616257
             ],
             "probs_pos": [],
             "species": "Bergente"
            },
            "type": "Feature"
           },
           {
            "bbox": [
             9.075850231641201,
             46.05903443727465,
             9.728930427287091,
             46.512950074786744
            ],
            "geometry": {
             "coordinates": [
              [
               [
                9.083563426597431,
                46.05903443727465
               ],
               [
                9.075850231641201,
                46.509321257812296
               ],
               [
                9.726648692094773,
                46.512950074786744
               ],
               [
                9.728930427287091,
                46.06262825381603
               ],
               [
                9.083563426597431,
                46.05903443727465
               ]
              ]
             ],
             "type": "Polygon"
            },
            "id": "91",
            "properties": {
             "dates_neg": "05-01-2021",
             "dates_pos": [],
             "grid_id": "50kmE4250N2550",
             "neg_cp": 1,
             "pos_cp": 0,
             "probs_neg": [
              0.11699999868869781
             ],
             "probs_pos": [],
             "species": "Bergente"
            },
            "type": "Feature"
           },
           {
            "bbox": [
             9.067967041310354,
             46.509321257812296,
             9.726648692094773,
             46.96315531273302
            ],
            "geometry": {
             "coordinates": [
              [
               [
                9.075850231641201,
                46.509321257812296
               ],
               [
                9.067967041310354,
                46.95949069651937
               ],
               [
                9.724316660863664,
                46.96315531273302
               ],
               [
                9.726648692094773,
                46.512950074786744
               ],
               [
                9.075850231641201,
                46.509321257812296
               ]
              ]
             ],
             "type": "Polygon"
            },
            "id": "92",
            "properties": {
             "dates_neg": "26-10-2021",
             "dates_pos": "16-03-2021",
             "grid_id": "50kmE4250N2600",
             "neg_cp": 1,
             "pos_cp": 1,
             "probs_neg": [
              0.7319999933242798
             ],
             "probs_pos": [
              0.032999999821186066
             ],
             "species": "Bergente"
            },
            "type": "Feature"
           },
           {
            "bbox": [
             9.059908504433732,
             46.95949069651937,
             9.724316660863664,
             47.413251012534026
            ],
            "geometry": {
             "coordinates": [
              [
               [
                9.067967041310354,
                46.95949069651937
               ],
               [
                9.059908504433732,
                47.409549772757046
               ],
               [
                9.721932749998519,
                47.413251012534026
               ],
               [
                9.724316660863664,
                46.96315531273302
               ],
               [
                9.067967041310354,
                46.95949069651937
               ]
              ]
             ],
             "type": "Polygon"
            },
            "id": "93",
            "properties": {
             "dates_neg": "03-12-2018",
             "dates_pos": [],
             "grid_id": "50kmE4250N2650",
             "neg_cp": 1,
             "pos_cp": 0,
             "probs_neg": [
              0.11599999666213989
             ],
             "probs_pos": [],
             "species": "Bergente"
            },
            "type": "Feature"
           },
           {
            "bbox": [
             9.051669036889214,
             47.409549772757046,
             9.721932749998519,
             47.86324421389587
            ],
            "geometry": {
             "coordinates": [
              [
               [
                9.059908504433732,
                47.409549772757046
               ],
               [
                9.051669036889214,
                47.85950549960135
               ],
               [
                9.719495306946975,
                47.86324421389587
               ],
               [
                9.721932749998519,
                47.413251012534026
               ],
               [
                9.059908504433732,
                47.409549772757046
               ]
              ]
             ],
             "type": "Polygon"
            },
            "id": "94",
            "properties": {
             "dates_neg": [],
             "dates_pos": "06-01-2020",
             "grid_id": "50kmE4250N2700",
             "neg_cp": 0,
             "pos_cp": 1,
             "probs_neg": [],
             "probs_pos": [
              0.17399999499320984
             ],
             "species": "Bergente"
            },
            "type": "Feature"
           },
           {
            "bbox": [
             9.043242808897237,
             47.85950549960135,
             9.719495306946975,
             48.313141952312556
            ],
            "geometry": {
             "coordinates": [
              [
               [
                9.051669036889214,
                47.85950549960135
               ],
               [
                9.043242808897237,
                48.309364884743395
               ],
               [
                9.717002606436914,
                48.313141952312556
               ],
               [
                9.719495306946975,
                47.86324421389587
               ],
               [
                9.051669036889214,
                47.85950549960135
               ]
              ]
             ],
             "type": "Polygon"
            },
            "id": "95",
            "properties": {
             "dates_neg": "09-03-2021",
             "dates_pos": [],
             "grid_id": "50kmE4250N2750",
             "neg_cp": 1,
             "pos_cp": 0,
             "probs_neg": [
              0.2840000092983246
             ],
             "probs_pos": [],
             "species": "Bergente"
            },
            "type": "Feature"
           },
           {
            "bbox": [
             9.034623731470543,
             48.309364884743395,
             9.717002606436914,
             48.762951260022845
            ],
            "geometry": {
             "coordinates": [
              [
               [
                9.043242808897237,
                48.309364884743395
               ],
               [
                9.034623731470543,
                48.75913493138134
               ],
               [
                9.714452846463924,
                48.762951260022845
               ],
               [
                9.717002606436914,
                48.313141952312556
               ],
               [
                9.043242808897237,
                48.309364884743395
               ]
              ]
             ],
             "type": "Polygon"
            },
            "id": "96",
            "properties": {
             "dates_neg": "01-06-2021",
             "dates_pos": [],
             "grid_id": "50kmE4250N2800",
             "neg_cp": 1,
             "pos_cp": 0,
             "probs_neg": [
              0.11699999868869781
             ],
             "probs_pos": [],
             "species": "Bergente"
            },
            "type": "Feature"
           },
           {
            "bbox": [
             9.025805441954168,
             48.75913493138134,
             9.714452846463924,
             49.21267916696309
            ],
            "geometry": {
             "coordinates": [
              [
               [
                9.034623731470543,
                48.75913493138134
               ],
               [
                9.025805441954168,
                49.208822639104156
               ],
               [
                9.711844144009213,
                49.21267916696309
               ],
               [
                9.714452846463924,
                48.762951260022845
               ],
               [
                9.034623731470543,
                48.75913493138134
               ]
              ]
             ],
             "type": "Polygon"
            },
            "id": "97",
            "properties": {
             "dates_neg": "04-11-2019",
             "dates_pos": "25-02-2019",
             "grid_id": "50kmE4250N2850",
             "neg_cp": 1,
             "pos_cp": 1,
             "probs_neg": [
              0.9879999756813049
             ],
             "probs_pos": [
              0.9890000224113464
             ],
             "species": "Bergente"
            },
            "type": "Feature"
           },
           {
            "bbox": [
             9.016781288583688,
             49.208822639104156,
             9.711844144009213,
             49.66233270171688
            ],
            "geometry": {
             "coordinates": [
              [
               [
                9.025805441954168,
                49.208822639104156
               ],
               [
                9.016781288583688,
                49.658435004767256
               ],
               [
                9.709174530466672,
                49.66233270171688
               ],
               [
                9.711844144009213,
                49.21267916696309
               ],
               [
                9.025805441954168,
                49.208822639104156
               ]
              ]
             ],
             "type": "Polygon"
            },
            "id": "98",
            "properties": {
             "dates_neg": "03-11-2020",
             "dates_pos": [],
             "grid_id": "50kmE4250N2900",
             "neg_cp": 1,
             "pos_cp": 0,
             "probs_neg": [
              0.125
             ],
             "probs_pos": [],
             "species": "Bergente"
            },
            "type": "Feature"
           },
           {
            "bbox": [
             9.007544313983132,
             49.658435004767256,
             9.709174530466672,
             50.11191889246122
            ],
            "geometry": {
             "coordinates": [
              [
               [
                9.016781288583688,
                49.658435004767256
               ],
               [
                9.007544313983132,
                50.10797902336005
               ],
               [
                9.706441946755833,
                50.11191889246122
               ],
               [
                9.709174530466672,
                49.66233270171688
               ],
               [
                9.016781288583688,
                49.658435004767256
               ]
              ]
             ],
             "type": "Polygon"
            },
            "id": "99",
            "properties": {
             "dates_neg": [],
             "dates_pos": "28-12-2021",
             "grid_id": "50kmE4250N2950",
             "neg_cp": 0,
             "pos_cp": 1,
             "probs_neg": [],
             "probs_pos": [
              0.33799999952316284
             ],
             "species": "Bergente"
            },
            "type": "Feature"
           },
           {
            "bbox": [
             8.998087237516723,
             50.10797902336005,
             9.706441946755833,
             50.561444767910345
            ],
            "geometry": {
             "coordinates": [
              [
               [
                9.007544313983132,
                50.10797902336005
               ],
               [
                8.998087237516723,
                50.55746168886497
               ],
               [
                9.7036442380952,
                50.561444767910345
               ],
               [
                9.706441946755833,
                50.11191889246122
               ],
               [
                9.007544313983132,
                50.10797902336005
               ]
              ]
             ],
             "type": "Polygon"
            },
            "id": "100",
            "properties": {
             "dates_neg": "12-01-2021",
             "dates_pos": [],
             "grid_id": "50kmE4250N3000",
             "neg_cp": 2,
             "pos_cp": 0,
             "probs_neg": [
              0.6439999938011169,
              0.041999999433755875
             ],
             "probs_pos": [],
             "species": "Bergente"
            },
            "type": "Feature"
           },
           {
            "bbox": [
             8.988402436400596,
             50.55746168886497,
             9.7036442380952,
             51.01091735825666
            ],
            "geometry": {
             "coordinates": [
              [
               [
                8.998087237516723,
                50.55746168886497
               ],
               [
                8.988402436400596,
                51.006889995108345
               ],
               [
                9.70077914840818,
                51.01091735825666
               ],
               [
                9.7036442380952,
                50.561444767910345
               ],
               [
                8.998087237516723,
                50.55746168886497
               ]
              ]
             ],
             "type": "Polygon"
            },
            "id": "101",
            "properties": {
             "dates_neg": [],
             "dates_pos": [],
             "grid_id": "50kmE4250N3050",
             "neg_cp": 0,
             "pos_cp": 0,
             "probs_neg": [],
             "probs_pos": [],
             "species": "Bergente"
            },
            "type": "Feature"
           },
           {
            "bbox": [
             8.978481925471693,
             51.006889995108345,
             9.70077914840818,
             51.46034369610987
            ],
            "geometry": {
             "coordinates": [
              [
               [
                8.988402436400596,
                51.006889995108345
               ],
               [
                8.978481925471693,
                51.45627093660271
               ],
               [
                9.697844314331167,
                51.46034369610987
               ],
               [
                9.70077914840818,
                51.01091735825666
               ],
               [
                8.988402436400596,
                51.006889995108345
               ]
              ]
             ],
             "type": "Polygon"
            },
            "id": "102",
            "properties": {
             "dates_neg": "31-12-2018",
             "dates_pos": [],
             "grid_id": "50kmE4250N3100",
             "neg_cp": 1,
             "pos_cp": 0,
             "probs_neg": [
              0.9610000252723694
             ],
             "probs_pos": [],
             "species": "Bergente"
            },
            "type": "Feature"
           },
           {
            "bbox": [
             8.968317335501196,
             51.45627093660271,
             9.697844314331167,
             51.90973081743419
            ],
            "geometry": {
             "coordinates": [
              [
               [
                8.978481925471693,
                51.45627093660271
               ],
               [
                8.968317335501196,
                51.905611509380115
               ],
               [
                9.694837258790294,
                51.90973081743419
               ],
               [
                9.697844314331167,
                51.46034369610987
               ],
               [
                8.978481925471693,
                51.45627093660271
               ]
              ]
             ],
             "type": "Polygon"
            },
            "id": "103",
            "properties": {
             "dates_neg": "18-11-2019",
             "dates_pos": [],
             "grid_id": "50kmE4250N3150",
             "neg_cp": 1,
             "pos_cp": 0,
             "probs_neg": [
              0.2630000114440918
             ],
             "probs_pos": [],
             "species": "Bergente"
            },
            "type": "Feature"
           },
           {
            "bbox": [
             8.95789988992899,
             51.905611509380115,
             9.694837258790294,
             52.35908576248396
            ],
            "geometry": {
             "coordinates": [
              [
               [
                8.968317335501196,
                51.905611509380115
               ],
               [
                8.95789988992899,
                52.35491871181676
               ],
               [
                9.691755384110342,
                52.35908576248396
               ],
               [
                9.694837258790294,
                51.90973081743419
               ],
               [
                8.968317335501196,
                51.905611509380115
               ]
              ]
             ],
             "type": "Polygon"
            },
            "id": "104",
            "properties": {
             "dates_neg": [],
             "dates_pos": "15-03-2022",
             "grid_id": "50kmE4250N3200",
             "neg_cp": 0,
             "pos_cp": 2,
             "probs_neg": [],
             "probs_pos": [
              0.6539999842643738,
              0.6150000095367432
             ],
             "species": "Bergente"
            },
            "type": "Feature"
           },
           {
            "bbox": [
             8.947220379883412,
             52.35491871181676,
             9.691755384110342,
             52.80841557673825
            ],
            "geometry": {
             "coordinates": [
              [
               [
                8.95789988992899,
                52.35491871181676
               ],
               [
                8.947220379883412,
                52.80419954544785
               ],
               [
                9.688595964615486,
                52.80841557673825
               ],
               [
                9.691755384110342,
                52.35908576248396
               ],
               [
                8.95789988992899,
                52.35491871181676
               ]
              ]
             ],
             "type": "Polygon"
            },
            "id": "105",
            "properties": {
             "dates_neg": "26-01-2021",
             "dates_pos": "28-12-2021",
             "grid_id": "50kmE4250N3250",
             "neg_cp": 2,
             "pos_cp": 1,
             "probs_neg": [
              0.9139999747276306,
              0.75
             ],
             "probs_pos": [
              0.9490000009536743
             ],
             "species": "Bergente"
            },
            "type": "Feature"
           },
           {
            "bbox": [
             8.936269137337133,
             52.80419954544785,
             9.688595964615486,
             53.25772731183458
            ],
            "geometry": {
             "coordinates": [
              [
               [
                8.947220379883412,
                52.80419954544785
               ],
               [
                8.936269137337133,
                53.25346101577304
               ],
               [
                9.68535613867767,
                53.25772731183458
               ],
               [
                9.688595964615486,
                52.80841557673825
               ],
               [
                8.947220379883412,
                52.80419954544785
               ]
              ]
             ],
             "type": "Polygon"
            },
            "id": "106",
            "properties": {
             "dates_neg": "21-10-2019",
             "dates_pos": [],
             "grid_id": "50kmE4250N3300",
             "neg_cp": 1,
             "pos_cp": 0,
             "probs_neg": [
              0.45899999141693115
             ],
             "probs_pos": [],
             "species": "Bergente"
            },
            "type": "Feature"
           },
           {
            "bbox": [
             8.925036006234967,
             53.25346101577304,
             9.68535613867767,
             53.70702802650191
            ],
            "geometry": {
             "coordinates": [
              [
               [
                8.936269137337133,
                53.25346101577304
               ],
               [
                8.925036006234967,
                53.7027101330513
               ],
               [
                9.682032900163954,
                53.70702802650191
               ],
               [
                9.68535613867767,
                53.25772731183458
               ],
               [
                8.936269137337133,
                53.25346101577304
               ]
              ]
             ],
             "type": "Polygon"
            },
            "id": "107",
            "properties": {
             "dates_neg": "25-11-2019",
             "dates_pos": "28-09-2021",
             "grid_id": "50kmE4250N3350",
             "neg_cp": 3,
             "pos_cp": 1,
             "probs_neg": [
              0.9330000281333923,
              0.8989999890327454,
              0.02199999988079071
             ],
             "probs_pos": [
              0.9169999957084656
             ],
             "species": "Bergente"
            },
            "type": "Feature"
           },
           {
            "bbox": [
             8.91351031141262,
             53.7027101330513,
             9.682032900163954,
             54.15632478749346
            ],
            "geometry": {
             "coordinates": [
              [
               [
                8.925036006234967,
                53.7027101330513
               ],
               [
                8.91351031141262,
                54.15195391308504
               ],
               [
                9.678623089229086,
                54.15632478749346
               ],
               [
                9.682032900163954,
                53.70702802650191
               ],
               [
                8.925036006234967,
                53.7027101330513
               ]
              ]
             ],
             "type": "Polygon"
            },
            "id": "108",
            "properties": {
             "dates_neg": "22-07-2019",
             "dates_pos": [],
             "grid_id": "50kmE4250N3400",
             "neg_cp": 1,
             "pos_cp": 0,
             "probs_neg": [
              0.23600000143051147
             ],
             "probs_pos": [],
             "species": "Bergente"
            },
            "type": "Feature"
           },
           {
            "bbox": [
             8.901680825106796,
             54.15195391308504,
             9.678623089229086,
             54.60562467051945
            ],
            "geometry": {
             "coordinates": [
              [
               [
                8.91351031141262,
                54.15195391308504
               ],
               [
                8.901680825106796,
                54.60119937799277
               ],
               [
                9.675123382394194,
                54.60562467051945
               ],
               [
                9.678623089229086,
                54.15632478749346
               ],
               [
                8.91351031141262,
                54.15195391308504
               ]
              ]
             ],
             "type": "Polygon"
            },
            "id": "109",
            "properties": {
             "dates_neg": [],
             "dates_pos": "30-11-2021",
             "grid_id": "50kmE4250N3450",
             "neg_cp": 0,
             "pos_cp": 1,
             "probs_neg": [],
             "probs_pos": [
              0.1979999989271164
             ],
             "species": "Bergente"
            },
            "type": "Feature"
           },
           {
            "bbox": [
             8.889535730836064,
             54.60119937799277,
             9.675123382394194,
             55.05493476118021
            ],
            "geometry": {
             "coordinates": [
              [
               [
                8.901680825106796,
                54.60119937799277
               ],
               [
                8.889535730836064,
                55.050453556969224
               ],
               [
                9.67153028184612,
                55.05493476118021
               ],
               [
                9.675123382394194,
                54.60562467051945
               ],
               [
                8.901680825106796,
                54.60119937799277
               ]
              ]
             ],
             "type": "Polygon"
            },
            "id": "110",
            "properties": {
             "dates_neg": [],
             "dates_pos": "30-11-2021",
             "grid_id": "50kmE4250N3500",
             "neg_cp": 0,
             "pos_cp": 1,
             "probs_neg": [],
             "probs_pos": [
              0.20999999344348907
             ],
             "species": "Bergente"
            },
            "type": "Feature"
           },
           {
            "bbox": [
             9.726648692094773,
             46.06231573882135,
             10.377483790164764,
             46.512950074786744
            ],
            "geometry": {
             "coordinates": [
              [
               [
                9.728930427287091,
                46.06262825381603
               ],
               [
                9.726648692094773,
                46.512950074786744
               ],
               [
                10.377483790164764,
                46.51263451594939
               ],
               [
                10.37433286667538,
                46.06231573882135
               ],
               [
                9.728930427287091,
                46.06262825381603
               ]
              ]
             ],
             "type": "Polygon"
            },
            "id": "111",
            "properties": {
             "dates_neg": "15-09-2020",
             "dates_pos": [],
             "grid_id": "50kmE4300N2550",
             "neg_cp": 1,
             "pos_cp": 0,
             "probs_neg": [
              0.11299999803304672
             ],
             "probs_pos": [],
             "species": "Bergente"
            },
            "type": "Feature"
           },
           {
            "bbox": [
             9.724316660863664,
             46.51263451594939,
             10.380704168200957,
             46.96315531273302
            ],
            "geometry": {
             "coordinates": [
              [
               [
                9.726648692094773,
                46.512950074786744
               ],
               [
                9.724316660863664,
                46.96315531273302
               ],
               [
                10.380704168200957,
                46.96283664057722
               ],
               [
                10.377483790164764,
                46.51263451594939
               ],
               [
                9.726648692094773,
                46.512950074786744
               ]
              ]
             ],
             "type": "Polygon"
            },
            "id": "112",
            "properties": {
             "dates_neg": "12-01-2021",
             "dates_pos": [],
             "grid_id": "50kmE4300N2600",
             "neg_cp": 1,
             "pos_cp": 0,
             "probs_neg": [
              0.11800000071525574
             ],
             "probs_pos": [],
             "species": "Bergente"
            },
            "type": "Feature"
           },
           {
            "bbox": [
             9.721932749998519,
             46.96283664057722,
             10.383996187550931,
             47.413251012534026
            ],
            "geometry": {
             "coordinates": [
              [
               [
                9.724316660863664,
                46.96315531273302
               ],
               [
                9.721932749998519,
                47.413251012534026
               ],
               [
                10.383996187550931,
                47.41292915536426
               ],
               [
                10.380704168200957,
                46.96283664057722
               ],
               [
                9.724316660863664,
                46.96315531273302
               ]
              ]
             ],
             "type": "Polygon"
            },
            "id": "113",
            "properties": {
             "dates_neg": "08-09-2020",
             "dates_pos": [],
             "grid_id": "50kmE4300N2650",
             "neg_cp": 1,
             "pos_cp": 0,
             "probs_neg": [
              0.11599999666213989
             ],
             "probs_pos": [],
             "species": "Bergente"
            },
            "type": "Feature"
           },
           {
            "bbox": [
             9.719495306946975,
             47.41292915536426,
             10.38736213020143,
             47.86324421389587
            ],
            "geometry": {
             "coordinates": [
              [
               [
                9.721932749998519,
                47.413251012534026
               ],
               [
                9.719495306946975,
                47.86324421389587
               ],
               [
                10.38736213020143,
                47.862919097700136
               ],
               [
                10.383996187550931,
                47.41292915536426
               ],
               [
                9.721932749998519,
                47.413251012534026
               ]
              ]
             ],
             "type": "Polygon"
            },
            "id": "114",
            "properties": {
             "dates_neg": "14-01-2019",
             "dates_pos": [],
             "grid_id": "50kmE4300N2700",
             "neg_cp": 2,
             "pos_cp": 0,
             "probs_neg": [
              0.7910000085830688,
              0.7419999837875366
             ],
             "probs_pos": [],
             "species": "Bergente"
            },
            "type": "Feature"
           },
           {
            "bbox": [
             9.717002606436914,
             47.862919097700136,
             10.390804378554437,
             48.313141952312556
            ],
            "geometry": {
             "coordinates": [
              [
               [
                9.719495306946975,
                47.86324421389587
               ],
               [
                9.717002606436914,
                48.313141952312556
               ],
               [
                10.390804378554437,
                48.312813500660305
               ],
               [
                10.38736213020143,
                47.862919097700136
               ],
               [
                9.719495306946975,
                47.86324421389587
               ]
              ]
             ],
             "type": "Polygon"
            },
            "id": "115",
            "properties": {
             "dates_neg": [],
             "dates_pos": [],
             "grid_id": "50kmE4300N2750",
             "neg_cp": 0,
             "pos_cp": 0,
             "probs_neg": [],
             "probs_pos": [],
             "species": "Bergente"
            },
            "type": "Feature"
           },
           {
            "bbox": [
             9.714452846463924,
             48.312813500660305,
             10.394325420967748,
             48.762951260022845
            ],
            "geometry": {
             "coordinates": [
              [
               [
                9.717002606436914,
                48.313141952312556
               ],
               [
                9.714452846463924,
                48.762951260022845
               ],
               [
                10.394325420967748,
                48.76261939395727
               ],
               [
                10.390804378554437,
                48.312813500660305
               ],
               [
                9.717002606436914,
                48.313141952312556
               ]
              ]
             ],
             "type": "Polygon"
            },
            "id": "116",
            "properties": {
             "dates_neg": "04-02-2019",
             "dates_pos": [],
             "grid_id": "50kmE4300N2800",
             "neg_cp": 1,
             "pos_cp": 0,
             "probs_neg": [
              0.41600000858306885
             ],
             "probs_pos": [],
             "species": "Bergente"
            },
            "type": "Feature"
           },
           {
            "bbox": [
             9.711844144009213,
             48.76261939395727,
             10.397927857667705,
             49.21267916696309
            ],
            "geometry": {
             "coordinates": [
              [
               [
                9.714452846463924,
                48.762951260022845
               ],
               [
                9.711844144009213,
                49.21267916696309
               ],
               [
                10.397927857667705,
                49.21234380488751
               ],
               [
                10.394325420967748,
                48.76261939395727
               ],
               [
                9.714452846463924,
                48.762951260022845
               ]
              ]
             ],
             "type": "Polygon"
            },
            "id": "117",
            "properties": {
             "dates_neg": "27-04-2020",
             "dates_pos": [],
             "grid_id": "50kmE4300N2850",
             "neg_cp": 1,
             "pos_cp": 0,
             "probs_neg": [
              0.11299999803304672
             ],
             "probs_pos": [],
             "species": "Bergente"
            },
            "type": "Feature"
           },
           {
            "bbox": [
             9.709174530466672,
             49.21234380488751,
             10.401614407063505,
             49.66233270171688
            ],
            "geometry": {
             "coordinates": [
              [
               [
                9.711844144009213,
                49.21267916696309
               ],
               [
                9.709174530466672,
                49.66233270171688
               ],
               [
                10.401614407063505,
                49.66199375927449
               ],
               [
                10.397927857667705,
                49.21234380488751
               ],
               [
                9.711844144009213,
                49.21267916696309
               ]
              ]
             ],
             "type": "Polygon"
            },
            "id": "118",
            "properties": {
             "dates_neg": "20-04-2021",
             "dates_pos": [],
             "grid_id": "50kmE4300N2900",
             "neg_cp": 1,
             "pos_cp": 0,
             "probs_neg": [
              0.11999999731779099
             ],
             "probs_pos": [],
             "species": "Bergente"
            },
            "type": "Feature"
           },
           {
            "bbox": [
             9.706441946755833,
             49.66199375927449,
             10.405387912495268,
             50.11191889246122
            ],
            "geometry": {
             "coordinates": [
              [
               [
                9.709174530466672,
                49.66233270171688
               ],
               [
                9.706441946755833,
                50.11191889246122
               ],
               [
                10.405387912495268,
                50.11157628240819
               ],
               [
                10.401614407063505,
                49.66199375927449
               ],
               [
                9.709174530466672,
                49.66233270171688
               ]
              ]
             ],
             "type": "Polygon"
            },
            "id": "119",
            "properties": {
             "dates_neg": [],
             "dates_pos": "01-02-2022",
             "grid_id": "50kmE4300N2950",
             "neg_cp": 0,
             "pos_cp": 2,
             "probs_neg": [],
             "probs_pos": [
              0.8050000071525574,
              0.8040000200271606
             ],
             "species": "Bergente"
            },
            "type": "Feature"
           },
           {
            "bbox": [
             9.7036442380952,
             50.11157628240819,
             10.40925134945098,
             50.561444767910345
            ],
            "geometry": {
             "coordinates": [
              [
               [
                9.706441946755833,
                50.11191889246122
               ],
               [
                9.7036442380952,
                50.561444767910345
               ],
               [
                10.40925134945098,
                50.561098399981404
               ],
               [
                10.405387912495268,
                50.11157628240819
               ],
               [
                9.706441946755833,
                50.11191889246122
               ]
              ]
             ],
             "type": "Polygon"
            },
            "id": "120",
            "properties": {
             "dates_neg": "06-07-2021",
             "dates_pos": [],
             "grid_id": "50kmE4300N3000",
             "neg_cp": 1,
             "pos_cp": 0,
             "probs_neg": [
              0.11500000208616257
             ],
             "probs_pos": [],
             "species": "Bergente"
            },
            "type": "Feature"
           },
           {
            "bbox": [
             9.70077914840818,
             50.561098399981404,
             10.413207833290741,
             51.01091735825666
            ],
            "geometry": {
             "coordinates": [
              [
               [
                9.7036442380952,
                50.561444767910345
               ],
               [
                9.70077914840818,
                51.01091735825666
               ],
               [
                10.413207833290741,
                51.01056713902299
               ],
               [
                10.40925134945098,
                50.561098399981404
               ],
               [
                9.7036442380952,
                50.561444767910345
               ]
              ]
             ],
             "type": "Polygon"
            },
            "id": "121",
            "properties": {
             "dates_neg": "15-03-2022",
             "dates_pos": [],
             "grid_id": "50kmE4300N3050",
             "neg_cp": 1,
             "pos_cp": 0,
             "probs_neg": [
              0.23600000143051147
             ],
             "probs_pos": [],
             "species": "Bergente"
            },
            "type": "Feature"
           },
           {
            "bbox": [
             9.697844314331167,
             51.01056713902299,
             10.41726062752039,
             51.46034369610987
            ],
            "geometry": {
             "coordinates": [
              [
               [
                9.70077914840818,
                51.01091735825666
               ],
               [
                9.697844314331167,
                51.46034369610987
               ],
               [
                10.41726062752039,
                51.459989528828345
               ],
               [
                10.413207833290741,
                51.01056713902299
               ],
               [
                9.70077914840818,
                51.01091735825666
               ]
              ]
             ],
             "type": "Polygon"
            },
            "id": "122",
            "properties": {
             "dates_neg": "15-02-2022",
             "dates_pos": [],
             "grid_id": "50kmE4300N3100",
             "neg_cp": 1,
             "pos_cp": 0,
             "probs_neg": [
              0.2070000022649765
             ],
             "probs_pos": [],
             "species": "Bergente"
            },
            "type": "Feature"
           },
           {
            "bbox": [
             9.694837258790294,
             51.459989528828345,
             10.421413152660579,
             51.90973081743419
            ],
            "geometry": {
             "coordinates": [
              [
               [
                9.697844314331167,
                51.46034369610987
               ],
               [
                9.694837258790294,
                51.90973081743419
               ],
               [
                10.421413152660579,
                51.90937260188778
               ],
               [
                10.41726062752039,
                51.459989528828345
               ],
               [
                9.697844314331167,
                51.46034369610987
               ]
              ]
             ],
             "type": "Polygon"
            },
            "id": "123",
            "properties": {
             "dates_neg": "16-07-2018",
             "dates_pos": "16-11-2021",
             "grid_id": "50kmE4300N3150",
             "neg_cp": 1,
             "pos_cp": 2,
             "probs_neg": [
              0.7549999952316284
             ],
             "probs_pos": [
              0.9929999709129333,
              0.9850000143051147
             ],
             "species": "Bergente"
            },
            "type": "Feature"
           },
           {
            "bbox": [
             9.691755384110342,
             51.90937260188778,
             10.425668995761901,
             52.35908576248396
            ],
            "geometry": {
             "coordinates": [
              [
               [
                9.694837258790294,
                51.90973081743419
               ],
               [
                9.691755384110342,
                52.35908576248396
               ],
               [
                10.425668995761901,
                52.35872339481241
               ],
               [
                10.421413152660579,
                51.90937260188778
               ],
               [
                9.694837258790294,
                51.90973081743419
               ]
              ]
             ],
             "type": "Polygon"
            },
            "id": "124",
            "properties": {
             "dates_neg": [],
             "dates_pos": "28-12-2021",
             "grid_id": "50kmE4300N3200",
             "neg_cp": 0,
             "pos_cp": 1,
             "probs_neg": [],
             "probs_pos": [
              0.28200000524520874
             ],
             "species": "Bergente"
            },
            "type": "Feature"
           },
           {
            "bbox": [
             9.688595964615486,
             52.35872339481241,
             10.430031920621625,
             52.80841557673825
            ],
            "geometry": {
             "coordinates": [
              [
               [
                9.691755384110342,
                52.35908576248396
               ],
               [
                9.688595964615486,
                52.80841557673825
               ],
               [
                10.430031920621625,
                52.808048949258314
               ],
               [
                10.425668995761901,
                52.35872339481241
               ],
               [
                9.691755384110342,
                52.35908576248396
               ]
              ]
             ],
             "type": "Polygon"
            },
            "id": "125",
            "properties": {
             "dates_neg": "25-11-2019",
             "dates_pos": [],
             "grid_id": "50kmE4300N3250",
             "neg_cp": 1,
             "pos_cp": 0,
             "probs_neg": [
              0.30399999022483826
             ],
             "probs_pos": [],
             "species": "Bergente"
            },
            "type": "Feature"
           },
           {
            "bbox": [
             9.68535613867767,
             52.808048949258314,
             10.434505878763062,
             53.25772731183458
            ],
            "geometry": {
             "coordinates": [
              [
               [
                9.688595964615486,
                52.80841557673825
               ],
               [
                9.68535613867767,
                53.25772731183458
               ],
               [
                10.434505878763062,
                53.25735631284906
               ],
               [
                10.430031920621625,
                52.808048949258314
               ],
               [
                9.688595964615486,
                52.80841557673825
               ]
              ]
             ],
             "type": "Polygon"
            },
            "id": "126",
            "properties": {
             "dates_neg": "19-08-2019",
             "dates_pos": [],
             "grid_id": "50kmE4300N3300",
             "neg_cp": 1,
             "pos_cp": 0,
             "probs_neg": [
              0.11599999666213989
             ],
             "probs_pos": [],
             "species": "Bergente"
            },
            "type": "Feature"
           },
           {
            "bbox": [
             9.682032900163954,
             53.25735631284906,
             10.439095021244855,
             53.70702802650191
            ],
            "geometry": {
             "coordinates": [
              [
               [
                9.68535613867767,
                53.25772731183458
               ],
               [
                9.682032900163954,
                53.70702802650191
               ],
               [
                10.439095021244855,
                53.70665254009678
               ],
               [
                10.434505878763062,
                53.25735631284906
               ],
               [
                9.68535613867767,
                53.25772731183458
               ]
              ]
             ],
             "type": "Polygon"
            },
            "id": "127",
            "properties": {
             "dates_neg": [],
             "dates_pos": "18-03-2019",
             "grid_id": "50kmE4300N3350",
             "neg_cp": 0,
             "pos_cp": 1,
             "probs_neg": [],
             "probs_pos": [
              0.8069999814033508
             ],
             "species": "Bergente"
            },
            "type": "Feature"
           },
           {
            "bbox": [
             9.678623089229086,
             53.70665254009678,
             10.443803711374215,
             54.15632478749346
            ],
            "geometry": {
             "coordinates": [
              [
               [
                9.682032900163954,
                53.70702802650191
               ],
               [
                9.678623089229086,
                54.15632478749346
               ],
               [
                10.443803711374215,
                54.15594469332192
               ],
               [
                10.439095021244855,
                53.70665254009678
               ],
               [
                9.682032900163954,
                53.70702802650191
               ]
              ]
             ],
             "type": "Polygon"
            },
            "id": "128",
            "properties": {
             "dates_neg": [],
             "dates_pos": "16-02-2021",
             "grid_id": "50kmE4300N3400",
             "neg_cp": 0,
             "pos_cp": 1,
             "probs_neg": [],
             "probs_pos": [
              0.21299999952316284
             ],
             "species": "Bergente"
            },
            "type": "Feature"
           },
           {
            "bbox": [
             9.675123382394194,
             54.15594469332192,
             10.448636538405916,
             54.60562467051945
            ],
            "geometry": {
             "coordinates": [
              [
               [
                9.678623089229086,
                54.15632478749346
               ],
               [
                9.675123382394194,
                54.60562467051945
               ],
               [
                10.448636538405916,
                54.605239843572164
               ],
               [
                10.443803711374215,
                54.15594469332192
               ],
               [
                9.678623089229086,
                54.15632478749346
               ]
              ]
             ],
             "type": "Polygon"
            },
            "id": "129",
            "properties": {
             "dates_neg": [],
             "dates_pos": "23-02-2021",
             "grid_id": "50kmE4300N3450",
             "neg_cp": 0,
             "pos_cp": 1,
             "probs_neg": [],
             "probs_pos": [
              0.1770000010728836
             ],
             "species": "Bergente"
            },
            "type": "Feature"
           },
           {
            "bbox": [
             9.67153028184612,
             54.605239843572164,
             10.453598332317283,
             55.05493476118021
            ],
            "geometry": {
             "coordinates": [
              [
               [
                9.675123382394194,
                54.60562467051945
               ],
               [
                9.67153028184612,
                55.05493476118021
               ],
               [
                10.453598332317283,
                55.0545450715404
               ],
               [
                10.448636538405916,
                54.605239843572164
               ],
               [
                9.675123382394194,
                54.60562467051945
               ]
              ]
             ],
             "type": "Polygon"
            },
            "id": "130",
            "properties": {
             "dates_neg": [],
             "dates_pos": "30-12-2019",
             "grid_id": "50kmE4300N3500",
             "neg_cp": 0,
             "pos_cp": 1,
             "probs_neg": [],
             "probs_pos": [
              0.16300000250339508
             ],
             "species": "Bergente"
            },
            "type": "Feature"
           },
           {
            "bbox": [
             10.377483790164764,
             46.508374649405006,
             11.037039355869384,
             46.96283664057722
            ],
            "geometry": {
             "coordinates": [
              [
               [
                10.377483790164764,
                46.51263451594939
               ],
               [
                10.380704168200957,
                46.96283664057722
               ],
               [
                11.037039355869384,
                46.958534750593124
               ],
               [
                11.028268294907988,
                46.508374649405006
               ],
               [
                10.377483790164764,
                46.51263451594939
               ]
              ]
             ],
             "type": "Polygon"
            },
            "id": "131",
            "properties": {
             "dates_neg": "27-10-2020",
             "dates_pos": [],
             "grid_id": "50kmE4350N2600",
             "neg_cp": 1,
             "pos_cp": 0,
             "probs_neg": [
              0.11800000071525574
             ],
             "probs_pos": [],
             "species": "Bergente"
            },
            "type": "Feature"
           },
           {
            "bbox": [
             10.380704168200957,
             46.958534750593124,
             11.046005504476401,
             47.41292915536426
            ],
            "geometry": {
             "coordinates": [
              [
               [
                10.380704168200957,
                46.96283664057722
               ],
               [
                10.383996187550931,
                47.41292915536426
               ],
               [
                11.046005504476401,
                47.40858427433351
               ],
               [
                11.037039355869384,
                46.958534750593124
               ],
               [
                10.380704168200957,
                46.96283664057722
               ]
              ]
             ],
             "type": "Polygon"
            },
            "id": "132",
            "properties": {
             "dates_neg": "30-12-2019",
             "dates_pos": [],
             "grid_id": "50kmE4350N2650",
             "neg_cp": 1,
             "pos_cp": 0,
             "probs_neg": [
              0.11900000274181366
             ],
             "probs_pos": [],
             "species": "Bergente"
            },
            "type": "Feature"
           },
           {
            "bbox": [
             10.383996187550931,
             47.40858427433351,
             11.055172953154765,
             47.862919097700136
            ],
            "geometry": {
             "coordinates": [
              [
               [
                10.383996187550931,
                47.41292915536426
               ],
               [
                10.38736213020143,
                47.862919097700136
               ],
               [
                11.055172953154765,
                47.85853022675874
               ],
               [
                11.046005504476401,
                47.40858427433351
               ],
               [
                10.383996187550931,
                47.41292915536426
               ]
              ]
             ],
             "type": "Polygon"
            },
            "id": "133",
            "properties": {
             "dates_neg": "28-09-2021",
             "dates_pos": [],
             "grid_id": "50kmE4350N2700",
             "neg_cp": 1,
             "pos_cp": 0,
             "probs_neg": [
              0.19200000166893005
             ],
             "probs_pos": [],
             "species": "Bergente"
            },
            "type": "Feature"
           },
           {
            "bbox": [
             10.38736213020143,
             47.85853022675874,
             11.064548187608006,
             48.312813500660305
            ],
            "geometry": {
             "coordinates": [
              [
               [
                10.38736213020143,
                47.862919097700136
               ],
               [
                10.390804378554437,
                48.312813500660305
               ],
               [
                11.064548187608006,
                48.3083796083107
               ],
               [
                11.055172953154765,
                47.85853022675874
               ],
               [
                10.38736213020143,
                47.862919097700136
               ]
              ]
             ],
             "type": "Polygon"
            },
            "id": "134",
            "properties": {
             "dates_neg": "04-03-2019",
             "dates_pos": [],
             "grid_id": "50kmE4350N2750",
             "neg_cp": 1,
             "pos_cp": 0,
             "probs_neg": [
              0.2540000081062317
             ],
             "probs_pos": [],
             "species": "Bergente"
            },
            "type": "Feature"
           },
           {
            "bbox": [
             10.390804378554437,
             48.3083796083107,
             11.074137981889884,
             48.76261939395727
            ],
            "geometry": {
             "coordinates": [
              [
               [
                10.390804378554437,
                48.312813500660305
               ],
               [
                10.394325420967748,
                48.76261939395727
               ],
               [
                11.074137981889884,
                48.75813941461569
               ],
               [
                11.064548187608006,
                48.3083796083107
               ],
               [
                10.390804378554437,
                48.312813500660305
               ]
              ]
             ],
             "type": "Polygon"
            },
            "id": "135",
            "properties": {
             "dates_neg": [],
             "dates_pos": "09-03-2021",
             "grid_id": "50kmE4350N2800",
             "neg_cp": 0,
             "pos_cp": 1,
             "probs_neg": [],
             "probs_pos": [
              0.2370000034570694
             ],
             "species": "Bergente"
            },
            "type": "Feature"
           },
           {
            "bbox": [
             10.394325420967748,
             48.75813941461569,
             11.083949414488579,
             49.21234380488751
            ],
            "geometry": {
             "coordinates": [
              [
               [
                10.394325420967748,
                48.76261939395727
               ],
               [
                10.397927857667705,
                49.21234380488751
               ],
               [
                11.083949414488579,
                49.20781663735025
               ],
               [
                11.074137981889884,
                48.75813941461569
               ],
               [
                10.394325420967748,
                48.76261939395727
               ]
              ]
             ],
             "type": "Polygon"
            },
            "id": "136",
            "properties": {
             "dates_neg": "14-01-2019",
             "dates_pos": [],
             "grid_id": "50kmE4350N2850",
             "neg_cp": 1,
             "pos_cp": 0,
             "probs_neg": [
              0.9639999866485596
             ],
             "probs_pos": [],
             "species": "Bergente"
            },
            "type": "Feature"
           },
           {
            "bbox": [
             10.397927857667705,
             49.20781663735025,
             11.093989885502877,
             49.66199375927449
            ],
            "geometry": {
             "coordinates": [
              [
               [
                10.397927857667705,
                49.21234380488751
               ],
               [
                10.401614407063505,
                49.66199375927449
               ],
               [
                11.093989885502877,
                49.65741826509745
               ],
               [
                11.083949414488579,
                49.20781663735025
               ],
               [
                10.397927857667705,
                49.21234380488751
               ]
              ]
             ],
             "type": "Polygon"
            },
            "id": "137",
            "properties": {
             "dates_neg": [],
             "dates_pos": [],
             "grid_id": "50kmE4350N2900",
             "neg_cp": 0,
             "pos_cp": 0,
             "probs_neg": [],
             "probs_pos": [],
             "species": "Bergente"
            },
            "type": "Feature"
           },
           {
            "bbox": [
             10.401614407063505,
             49.65741826509745,
             11.104267134997565,
             50.11157628240819
            ],
            "geometry": {
             "coordinates": [
              [
               [
                10.401614407063505,
                49.66199375927449
               ],
               [
                10.405387912495268,
                50.11157628240819
               ],
               [
                11.104267134997565,
                50.10695128419386
               ],
               [
                11.093989885502877,
                49.65741826509745
               ],
               [
                10.401614407063505,
                49.66199375927449
               ]
              ]
             ],
             "type": "Polygon"
            },
            "id": "138",
            "properties": {
             "dates_neg": "31-12-2018",
             "dates_pos": [],
             "grid_id": "50kmE4350N2950",
             "neg_cp": 1,
             "pos_cp": 0,
             "probs_neg": [
              0.26899999380111694
             ],
             "probs_pos": [],
             "species": "Bergente"
            },
            "type": "Feature"
           },
           {
            "bbox": [
             10.405387912495268,
             50.10695128419386,
             11.114789262633622,
             50.561098399981404
            ],
            "geometry": {
             "coordinates": [
              [
               [
                10.405387912495268,
                50.11157628240819
               ],
               [
                10.40925134945098,
                50.561098399981404
               ],
               [
                11.114789262633622,
                50.556422679566694
               ],
               [
                11.104267134997565,
                50.10695128419386
               ],
               [
                10.405387912495268,
                50.11157628240819
               ]
              ]
             ],
             "type": "Polygon"
            },
            "id": "139",
            "properties": {
             "dates_neg": [],
             "dates_pos": "26-11-2018",
             "grid_id": "50kmE4350N3000",
             "neg_cp": 0,
             "pos_cp": 1,
             "probs_neg": [],
             "probs_pos": [
              0.23399999737739563
             ],
             "species": "Bergente"
            },
            "type": "Feature"
           },
           {
            "bbox": [
             10.40925134945098,
             50.556422679566694,
             11.12556474867751,
             51.01056713902299
            ],
            "geometry": {
             "coordinates": [
              [
               [
                10.40925134945098,
                50.561098399981404
               ],
               [
                10.413207833290741,
                51.01056713902299
               ],
               [
                11.12556474867751,
                51.005839435561086
               ],
               [
                11.114789262633622,
                50.556422679566694
               ],
               [
                10.40925134945098,
                50.561098399981404
               ]
              ]
             ],
             "type": "Polygon"
            },
            "id": "140",
            "properties": {
             "dates_neg": "30-07-2018",
             "dates_pos": [],
             "grid_id": "50kmE4350N3050",
             "neg_cp": 1,
             "pos_cp": 0,
             "probs_neg": [
              0.15199999511241913
             ],
             "probs_pos": [],
             "species": "Bergente"
            },
            "type": "Feature"
           },
           {
            "bbox": [
             10.413207833290741,
             51.005839435561086,
             11.136602476503915,
             51.459989528828345
            ],
            "geometry": {
             "coordinates": [
              [
               [
                10.413207833290741,
                51.01056713902299
               ],
               [
                10.41726062752039,
                51.459989528828345
               ],
               [
                11.136602476503915,
                51.45520853675709
               ],
               [
                11.12556474867751,
                51.005839435561086
               ],
               [
                10.413207833290741,
                51.01056713902299
               ]
              ]
             ],
             "type": "Polygon"
            },
            "id": "141",
            "properties": {
             "dates_neg": [],
             "dates_pos": "20-01-2020",
             "grid_id": "50kmE4350N3100",
             "neg_cp": 0,
             "pos_cp": 1,
             "probs_neg": [],
             "probs_pos": [
              0.21299999952316284
             ],
             "species": "Bergente"
            },
            "type": "Feature"
           },
           {
            "bbox": [
             10.41726062752039,
             51.45520853675709,
             11.147911756717152,
             51.90937260188778
            ],
            "geometry": {
             "coordinates": [
              [
               [
                10.41726062752039,
                51.459989528828345
               ],
               [
                10.421413152660579,
                51.90937260188778
               ],
               [
                11.147911756717152,
                51.904536968776156
               ],
               [
                11.136602476503915,
                51.45520853675709
               ],
               [
                10.41726062752039,
                51.459989528828345
               ]
              ]
             ],
             "type": "Polygon"
            },
            "id": "142",
            "properties": {
             "dates_neg": "10-02-2020",
             "dates_pos": [],
             "grid_id": "50kmE4350N3150",
             "neg_cp": 1,
             "pos_cp": 0,
             "probs_neg": [
              0.335999995470047
             ],
             "probs_pos": [],
             "species": "Bergente"
            },
            "type": "Feature"
           },
           {
            "bbox": [
             10.421413152660579,
             51.904536968776156,
             11.159502353028607,
             52.35872339481241
            ],
            "geometry": {
             "coordinates": [
              [
               [
                10.421413152660579,
                51.90937260188778
               ],
               [
                10.425668995761901,
                52.35872339481241
               ],
               [
                11.159502353028607,
                52.353831719076595
               ],
               [
                11.147911756717152,
                51.904536968776156
               ],
               [
                10.421413152660579,
                51.90937260188778
               ]
              ]
             ],
             "type": "Polygon"
            },
            "id": "143",
            "properties": {
             "dates_neg": [],
             "dates_pos": "29-12-2020",
             "grid_id": "50kmE4350N3200",
             "neg_cp": 0,
             "pos_cp": 1,
             "probs_neg": [],
             "probs_pos": [
              0.20399999618530273
             ],
             "species": "Bergente"
            },
            "type": "Feature"
           },
           {
            "bbox": [
             10.425668995761901,
             52.353831719076595,
             11.171384510041166,
             52.808048949258314
            ],
            "geometry": {
             "coordinates": [
              [
               [
                10.425668995761901,
                52.35872339481241
               ],
               [
                10.430031920621625,
                52.808048949258314
               ],
               [
                11.171384510041166,
                52.80309977773747
               ],
               [
                11.159502353028607,
                52.353831719076595
               ],
               [
                10.425668995761901,
                52.35872339481241
               ]
              ]
             ],
             "type": "Polygon"
            },
            "id": "144",
            "properties": {
             "dates_neg": "16-03-2021",
             "dates_pos": [],
             "grid_id": "50kmE4350N3250",
             "neg_cp": 1,
             "pos_cp": 0,
             "probs_neg": [
              0.2840000092983246
             ],
             "probs_pos": [],
             "species": "Bergente"
            },
            "type": "Feature"
           },
           {
            "bbox": [
             10.430031920621625,
             52.80309977773747,
             11.183568983106415,
             53.25735631284906
            ],
            "geometry": {
             "coordinates": [
              [
               [
                10.430031920621625,
                52.808048949258314
               ],
               [
                10.434505878763062,
                53.25735631284906
               ],
               [
                11.183568983106415,
                53.25234813823044
               ],
               [
                11.171384510041166,
                52.80309977773747
               ],
               [
                10.430031920621625,
                52.808048949258314
               ]
              ]
             ],
             "type": "Polygon"
            },
            "id": "145",
            "properties": {
             "dates_neg": "04-01-2022",
             "dates_pos": [],
             "grid_id": "50kmE4350N3300",
             "neg_cp": 1,
             "pos_cp": 0,
             "probs_neg": [
              0.5870000123977661
             ],
             "probs_pos": [],
             "species": "Bergente"
            },
            "type": "Feature"
           },
           {
            "bbox": [
             10.434505878763062,
             53.25234813823044,
             11.196067070437314,
             53.70665254009678
            ],
            "geometry": {
             "coordinates": [
              [
               [
                10.434505878763062,
                53.25735631284906
               ],
               [
                10.439095021244855,
                53.70665254009678
               ],
               [
                11.196067070437314,
                53.70158379817872
               ],
               [
                11.183568983106415,
                53.25234813823044
               ],
               [
                10.434505878763062,
                53.25735631284906
               ]
              ]
             ],
             "type": "Polygon"
            },
            "id": "146",
            "properties": {
             "dates_neg": "26-01-2021",
             "dates_pos": [],
             "grid_id": "50kmE4350N3350",
             "neg_cp": 1,
             "pos_cp": 0,
             "probs_neg": [
              0.20900000631809235
             ],
             "probs_pos": [],
             "species": "Bergente"
            },
            "type": "Feature"
           },
           {
            "bbox": [
             10.439095021244855,
             53.70158379817872,
             11.208890647677459,
             54.15594469332192
            ],
            "geometry": {
             "coordinates": [
              [
               [
                10.439095021244855,
                53.70665254009678
               ],
               [
                10.443803711374215,
                54.15594469332192
               ],
               [
                11.208890647677459,
                54.1508137601025
               ],
               [
                11.196067070437314,
                53.70158379817872
               ],
               [
                10.439095021244855,
                53.70665254009678
               ]
              ]
             ],
             "type": "Polygon"
            },
            "id": "147",
            "properties": {
             "dates_neg": [],
             "dates_pos": "16-02-2021",
             "grid_id": "50kmE4350N3400",
             "neg_cp": 0,
             "pos_cp": 1,
             "probs_neg": [],
             "probs_pos": [
              0.1469999998807907
             ],
             "species": "Bergente"
            },
            "type": "Feature"
           },
           {
            "bbox": [
             10.443803711374215,
             54.1508137601025,
             11.222052205148952,
             54.605239843572164
            ],
            "geometry": {
             "coordinates": [
              [
               [
                10.443803711374215,
                54.15594469332192
               ],
               [
                10.448636538405916,
                54.605239843572164
               ],
               [
                11.222052205148952,
                54.60004503214982
               ],
               [
                11.208890647677459,
                54.1508137601025
               ],
               [
                10.443803711374215,
                54.15594469332192
               ]
              ]
             ],
             "type": "Polygon"
            },
            "id": "148",
            "properties": {
             "dates_neg": [],
             "dates_pos": "19-01-2021",
             "grid_id": "50kmE4350N3450",
             "neg_cp": 0,
             "pos_cp": 1,
             "probs_neg": [],
             "probs_pos": [
              0.26100000739097595
             ],
             "species": "Bergente"
            },
            "type": "Feature"
           },
           {
            "bbox": [
             10.448636538405916,
             54.60004503214982,
             11.23556488802409,
             55.0545450715404
            ],
            "geometry": {
             "coordinates": [
              [
               [
                10.448636538405916,
                54.605239843572164
               ],
               [
                10.453598332317283,
                55.0545450715404
               ],
               [
                11.23556488802409,
                55.04928462881177
               ],
               [
                11.222052205148952,
                54.60004503214982
               ],
               [
                10.448636538405916,
                54.605239843572164
               ]
              ]
             ],
             "type": "Polygon"
            },
            "id": "149",
            "properties": {
             "dates_neg": "18-02-2019",
             "dates_pos": [],
             "grid_id": "50kmE4350N3500",
             "neg_cp": 1,
             "pos_cp": 0,
             "probs_neg": [
              0.3330000042915344
             ],
             "probs_pos": [],
             "species": "Bergente"
            },
            "type": "Feature"
           },
           {
            "bbox": [
             11.037039355869384,
             46.95025059482167,
             11.707867449704809,
             47.40858427433351
            ],
            "geometry": {
             "coordinates": [
              [
               [
                11.037039355869384,
                46.958534750593124
               ],
               [
                11.046005504476401,
                47.40858427433351
               ],
               [
                11.707867449704809,
                47.40021735581991
               ],
               [
                11.693232074772558,
                46.95025059482167
               ],
               [
                11.037039355869384,
                46.958534750593124
               ]
              ]
             ],
             "type": "Polygon"
            },
            "id": "150",
            "properties": {
             "dates_neg": "13-07-2021",
             "dates_pos": [],
             "grid_id": "50kmE4400N2650",
             "neg_cp": 1,
             "pos_cp": 0,
             "probs_neg": [
              0.11699999868869781
             ],
             "probs_pos": [],
             "species": "Bergente"
            },
            "type": "Feature"
           },
           {
            "bbox": [
             11.046005504476401,
             47.40021735581991,
             11.722831287254383,
             47.85853022675874
            ],
            "geometry": {
             "coordinates": [
              [
               [
                11.046005504476401,
                47.40858427433351
               ],
               [
                11.055172953154765,
                47.85853022675874
               ],
               [
                11.722831287254383,
                47.85007862332814
               ],
               [
                11.707867449704809,
                47.40021735581991
               ],
               [
                11.046005504476401,
                47.40858427433351
               ]
              ]
             ],
             "type": "Polygon"
            },
            "id": "151",
            "properties": {
             "dates_neg": [],
             "dates_pos": "28-12-2021",
             "grid_id": "50kmE4400N2700",
             "neg_cp": 0,
             "pos_cp": 1,
             "probs_neg": [],
             "probs_pos": [
              0.3580000102519989
             ],
             "species": "Bergente"
            },
            "type": "Feature"
           },
           {
            "bbox": [
             11.055172953154765,
             47.85007862332814,
             11.738134164531402,
             48.3083796083107
            ],
            "geometry": {
             "coordinates": [
              [
               [
                11.055172953154765,
                47.85853022675874
               ],
               [
                11.064548187608006,
                48.3083796083107
               ],
               [
                11.738134164531402,
                48.29984133502623
               ],
               [
                11.722831287254383,
                47.85007862332814
               ],
               [
                11.055172953154765,
                47.85853022675874
               ]
              ]
             ],
             "type": "Polygon"
            },
            "id": "152",
            "properties": {
             "dates_neg": [],
             "dates_pos": "05-01-2021",
             "grid_id": "50kmE4400N2750",
             "neg_cp": 0,
             "pos_cp": 1,
             "probs_neg": [],
             "probs_pos": [
              0.421999990940094
             ],
             "species": "Bergente"
            },
            "type": "Feature"
           },
           {
            "bbox": [
             11.064548187608006,
             48.29984133502623,
             11.753787128591897,
             48.75813941461569
            ],
            "geometry": {
             "coordinates": [
              [
               [
                11.064548187608006,
                48.3083796083107
               ],
               [
                11.074137981889884,
                48.75813941461569
               ],
               [
                11.753787128591897,
                48.74951242098684
               ],
               [
                11.738134164531402,
                48.29984133502623
               ],
               [
                11.064548187608006,
                48.3083796083107
               ]
              ]
             ],
             "type": "Polygon"
            },
            "id": "153",
            "properties": {
             "dates_neg": "18-01-2022",
             "dates_pos": "02-02-2021",
             "grid_id": "50kmE4400N2800",
             "neg_cp": 1,
             "pos_cp": 1,
             "probs_neg": [
              0.906000018119812
             ],
             "probs_pos": [
              0.949999988079071
             ],
             "species": "Bergente"
            },
            "type": "Feature"
           },
           {
            "bbox": [
             11.074137981889884,
             48.74951242098684,
             11.769801722630278,
             49.20781663735025
            ],
            "geometry": {
             "coordinates": [
              [
               [
                11.074137981889884,
                48.75813941461569
               ],
               [
                11.083949414488579,
                49.20781663735025
               ],
               [
                11.769801722630278,
                49.199098804385365
               ],
               [
                11.753787128591897,
                48.74951242098684
               ],
               [
                11.074137981889884,
                48.75813941461569
               ]
              ]
             ],
             "type": "Polygon"
            },
            "id": "154",
            "properties": {
             "dates_neg": "19-04-2022",
             "dates_pos": [],
             "grid_id": "50kmE4400N2850",
             "neg_cp": 1,
             "pos_cp": 0,
             "probs_neg": [
              0.10700000077486038
             ],
             "probs_pos": [],
             "species": "Bergente"
            },
            "type": "Feature"
           },
           {
            "bbox": [
             11.083949414488579,
             49.199098804385365,
             11.786190013948252,
             49.65741826509745
            ],
            "geometry": {
             "coordinates": [
              [
               [
                11.083949414488579,
                49.20781663735025
               ],
               [
                11.093989885502877,
                49.65741826509745
               ],
               [
                11.786190013948252,
                49.64860740218985
               ],
               [
                11.769801722630278,
                49.199098804385365
               ],
               [
                11.083949414488579,
                49.20781663735025
               ]
              ]
             ],
             "type": "Polygon"
            },
            "id": "155",
            "properties": {
             "dates_neg": "30-03-2021",
             "dates_pos": "03-02-2020",
             "grid_id": "50kmE4400N2900",
             "neg_cp": 1,
             "pos_cp": 1,
             "probs_neg": [
              0.968999981880188
             ],
             "probs_pos": [
              0.7559999823570251
             ],
             "species": "Bergente"
            },
            "type": "Feature"
           },
           {
            "bbox": [
             11.093989885502877,
             49.64860740218985,
             11.802964623842145,
             50.10695128419386
            ],
            "geometry": {
             "coordinates": [
              [
               [
                11.093989885502877,
                49.65741826509745
               ],
               [
                11.104267134997565,
                50.10695128419386
               ],
               [
                11.802964623842145,
                50.09804512583014
               ],
               [
                11.786190013948252,
                49.64860740218985
               ],
               [
                11.093989885502877,
                49.65741826509745
               ]
              ]
             ],
             "type": "Polygon"
            },
            "id": "156",
            "properties": {
             "dates_neg": "15-09-2020",
             "dates_pos": [],
             "grid_id": "50kmE4400N2950",
             "neg_cp": 1,
             "pos_cp": 0,
             "probs_neg": [
              0.11699999868869781
             ],
             "probs_pos": [],
             "species": "Bergente"
            },
            "type": "Feature"
           },
           {
            "bbox": [
             11.104267134997565,
             50.09804512583014,
             11.82013875956377,
             50.556422679566694
            ],
            "geometry": {
             "coordinates": [
              [
               [
                11.104267134997565,
                50.10695128419386
               ],
               [
                11.114789262633622,
                50.556422679566694
               ],
               [
                11.82013875956377,
                50.54741888184476
               ],
               [
                11.802964623842145,
                50.09804512583014
               ],
               [
                11.104267134997565,
                50.10695128419386
               ]
              ]
             ],
             "type": "Polygon"
            },
            "id": "157",
            "properties": {
             "dates_neg": "17-05-2022",
             "dates_pos": [],
             "grid_id": "50kmE4400N3000",
             "neg_cp": 1,
             "pos_cp": 0,
             "probs_neg": [
              0.11800000071525574
             ],
             "probs_pos": [],
             "species": "Bergente"
            },
            "type": "Feature"
           },
           {
            "bbox": [
             11.114789262633622,
             50.54741888184476,
             11.837726248524454,
             51.005839435561086
            ],
            "geometry": {
             "coordinates": [
              [
               [
                11.114789262633622,
                50.556422679566694
               ],
               [
                11.12556474867751,
                51.005839435561086
               ],
               [
                11.837726248524454,
                50.99673557250485
               ],
               [
                11.82013875956377,
                50.54741888184476
               ],
               [
                11.114789262633622,
                50.556422679566694
               ]
              ]
             ],
             "type": "Polygon"
            },
            "id": "158",
            "properties": {
             "dates_neg": "26-10-2021",
             "dates_pos": [],
             "grid_id": "50kmE4400N3050",
             "neg_cp": 1,
             "pos_cp": 0,
             "probs_neg": [
              0.11500000208616257
             ],
             "probs_pos": [],
             "species": "Bergente"
            },
            "type": "Feature"
           },
           {
            "bbox": [
             11.12556474867751,
             50.99673557250485,
             11.855741574927876,
             51.45520853675709
            ],
            "geometry": {
             "coordinates": [
              [
               [
                11.12556474867751,
                51.005839435561086
               ],
               [
                11.136602476503915,
                51.45520853675709
               ],
               [
                11.855741574927876,
                51.4460020964131
               ],
               [
                11.837726248524454,
                50.99673557250485
               ],
               [
                11.12556474867751,
                51.005839435561086
               ]
              ]
             ],
             "type": "Polygon"
            },
            "id": "159",
            "properties": {
             "dates_neg": [],
             "dates_pos": "15-02-2022",
             "grid_id": "50kmE4400N3100",
             "neg_cp": 0,
             "pos_cp": 1,
             "probs_neg": [],
             "probs_pos": [
              0.29600000381469727
             ],
             "species": "Bergente"
            },
            "type": "Feature"
           },
           {
            "bbox": [
             11.136602476503915,
             51.4460020964131,
             11.874199919035165,
             51.904536968776156
            ],
            "geometry": {
             "coordinates": [
              [
               [
                11.136602476503915,
                51.45520853675709
               ],
               [
                11.147911756717152,
                51.904536968776156
               ],
               [
                11.874199919035165,
                51.89522534907663
               ],
               [
                11.855741574927876,
                51.4460020964131
               ],
               [
                11.136602476503915,
                51.45520853675709
               ]
              ]
             ],
             "type": "Polygon"
            },
            "id": "160",
            "properties": {
             "dates_neg": [],
             "dates_pos": "21-12-2021",
             "grid_id": "50kmE4400N3150",
             "neg_cp": 0,
             "pos_cp": 1,
             "probs_neg": [],
             "probs_pos": [
              0.2759999930858612
             ],
             "species": "Bergente"
            },
            "type": "Feature"
           },
           {
            "bbox": [
             11.147911756717152,
             51.89522534907663,
             11.893117199285397,
             52.353831719076595
            ],
            "geometry": {
             "coordinates": [
              [
               [
                11.147911756717152,
                51.904536968776156
               ],
               [
                11.159502353028607,
                52.353831719076595
               ],
               [
                11.893117199285397,
                52.34441222345187
               ],
               [
                11.874199919035165,
                51.89522534907663
               ],
               [
                11.147911756717152,
                51.904536968776156
               ]
              ]
             ],
             "type": "Polygon"
            },
            "id": "161",
            "properties": {
             "dates_neg": "14-01-2019",
             "dates_pos": [],
             "grid_id": "50kmE4400N3200",
             "neg_cp": 1,
             "pos_cp": 0,
             "probs_neg": [
              0.20100000500679016
             ],
             "probs_pos": [],
             "species": "Bergente"
            },
            "type": "Feature"
           },
           {
            "bbox": [
             11.159502353028607,
             52.34441222345187,
             11.912510117516529,
             52.80309977773747
            ],
            "geometry": {
             "coordinates": [
              [
               [
                11.159502353028607,
                52.353831719076595
               ],
               [
                11.171384510041166,
                52.80309977773747
               ],
               [
                11.912510117516529,
                52.79356961045933
               ],
               [
                11.893117199285397,
                52.34441222345187
               ],
               [
                11.159502353028607,
                52.353831719076595
               ]
              ]
             ],
             "type": "Polygon"
            },
            "id": "162",
            "properties": {
             "dates_neg": null,
             "dates_pos": [],
             "grid_id": "50kmE4400N3250",
             "neg_cp": 2,
             "pos_cp": 0,
             "probs_neg": [
              0.824999988079071,
              null
             ],
             "probs_pos": [],
             "species": "Bergente"
            },
            "type": "Feature"
           },
           {
            "bbox": [
             11.171384510041166,
             52.79356961045933,
             11.93239620755612,
             53.25234813823044
            ],
            "geometry": {
             "coordinates": [
              [
               [
                11.171384510041166,
                52.80309977773747
               ],
               [
                11.183568983106415,
                53.25234813823044
               ],
               [
                11.93239620755612,
                53.24270439946643
               ],
               [
                11.912510117516529,
                52.79356961045933
               ],
               [
                11.171384510041166,
                52.80309977773747
               ]
              ]
             ],
             "type": "Polygon"
            },
            "id": "163",
            "properties": {
             "dates_neg": "20-08-2018",
             "dates_pos": [],
             "grid_id": "50kmE4400N3300",
             "neg_cp": 4,
             "pos_cp": 0,
             "probs_neg": [
              0.8169999718666077,
              0.7760000228881836,
              0.7760000228881836,
              0.013000000268220901
             ],
             "probs_pos": [],
             "species": "Bergente"
            },
            "type": "Feature"
           },
           {
            "bbox": [
             11.183568983106415,
             53.24270439946643,
             11.952793887478254,
             53.70158379817872
            ],
            "geometry": {
             "coordinates": [
              [
               [
                11.183568983106415,
                53.25234813823044
               ],
               [
                11.196067070437314,
                53.70158379817872
               ],
               [
                11.952793887478254,
                53.691823478735564
               ],
               [
                11.93239620755612,
                53.24270439946643
               ],
               [
                11.183568983106415,
                53.25234813823044
               ]
              ]
             ],
             "type": "Polygon"
            },
            "id": "164",
            "properties": {
             "dates_neg": "24-12-2018",
             "dates_pos": [],
             "grid_id": "50kmE4400N3350",
             "neg_cp": 1,
             "pos_cp": 0,
             "probs_neg": [
              0.3009999990463257
             ],
             "probs_pos": [],
             "species": "Bergente"
            },
            "type": "Feature"
           },
           {
            "bbox": [
             11.196067070437314,
             53.691823478735564,
             11.973722515853325,
             54.1508137601025
            ],
            "geometry": {
             "coordinates": [
              [
               [
                11.196067070437314,
                53.70158379817872
               ],
               [
                11.208890647677459,
                54.1508137601025
               ],
               [
                11.973722515853325,
                54.140933735834714
               ],
               [
                11.952793887478254,
                53.691823478735564
               ],
               [
                11.196067070437314,
                53.70158379817872
               ]
              ]
             ],
             "type": "Polygon"
            },
            "id": "165",
            "properties": {
             "dates_neg": [],
             "dates_pos": "24-11-2020",
             "grid_id": "50kmE4400N3400",
             "neg_cp": 0,
             "pos_cp": 1,
             "probs_neg": [],
             "probs_pos": [
              0.1979999989271164
             ],
             "species": "Bergente"
            },
            "type": "Feature"
           },
           {
            "bbox": [
             11.208890647677459,
             54.140933735834714,
             11.995202452350906,
             54.60004503214982
            ],
            "geometry": {
             "coordinates": [
              [
               [
                11.208890647677459,
                54.1508137601025
               ],
               [
                11.222052205148952,
                54.60004503214982
               ],
               [
                11.995202452350906,
                54.59004205800784
               ],
               [
                11.973722515853325,
                54.140933735834714
               ],
               [
                11.208890647677459,
                54.1508137601025
               ]
              ]
             ],
             "type": "Polygon"
            },
            "id": "166",
            "properties": {
             "dates_neg": "01-03-2022",
             "dates_pos": "12-01-2021",
             "grid_id": "50kmE4400N3450",
             "neg_cp": 1,
             "pos_cp": 1,
             "probs_neg": [
              0.9710000157356262
             ],
             "probs_pos": [
              0.8539999723434448
             ],
             "species": "Bergente"
            },
            "type": "Feature"
           },
           {
            "bbox": [
             11.222052205148952,
             54.59004205800784,
             12.017255123093673,
             55.04928462881177
            ],
            "geometry": {
             "coordinates": [
              [
               [
                11.222052205148952,
                54.60004503214982
               ],
               [
                11.23556488802409,
                55.04928462881177
               ],
               [
                12.017255123093673,
                55.039155332501274
               ],
               [
                11.995202452350906,
                54.59004205800784
               ],
               [
                11.222052205148952,
                54.60004503214982
               ]
              ]
             ],
             "type": "Polygon"
            },
            "id": "167",
            "properties": {
             "dates_neg": "12-08-2019",
             "dates_pos": [],
             "grid_id": "50kmE4400N3500",
             "neg_cp": 1,
             "pos_cp": 0,
             "probs_neg": [
              0.11500000208616257
             ],
             "probs_pos": [],
             "species": "Bergente"
            },
            "type": "Feature"
           },
           {
            "bbox": [
             11.707867449704809,
             47.38783029804821,
             12.390240820693707,
             47.85007862332814
            ],
            "geometry": {
             "coordinates": [
              [
               [
                11.707867449704809,
                47.40021735581991
               ],
               [
                11.722831287254383,
                47.85007862332814
               ],
               [
                12.390240820693707,
                47.83756625464926
               ],
               [
                12.36948893966052,
                47.38783029804821
               ],
               [
                11.707867449704809,
                47.40021735581991
               ]
              ]
             ],
             "type": "Polygon"
            },
            "id": "168",
            "properties": {
             "dates_neg": "15-10-2018",
             "dates_pos": [],
             "grid_id": "50kmE4450N2700",
             "neg_cp": 1,
             "pos_cp": 0,
             "probs_neg": [
              0.11500000208616257
             ],
             "probs_pos": [],
             "species": "Bergente"
            },
            "type": "Feature"
           },
           {
            "bbox": [
             11.722831287254383,
             47.83756625464926,
             12.411462626880093,
             48.29984133502623
            ],
            "geometry": {
             "coordinates": [
              [
               [
                11.722831287254383,
                47.85007862332814
               ],
               [
                11.738134164531402,
                48.29984133502623
               ],
               [
                12.411462626880093,
                48.2872007201933
               ],
               [
                12.390240820693707,
                47.83756625464926
               ],
               [
                11.722831287254383,
                47.85007862332814
               ]
              ]
             ],
             "type": "Polygon"
            },
            "id": "169",
            "properties": {
             "dates_neg": "30-09-2019",
             "dates_pos": [],
             "grid_id": "50kmE4450N2750",
             "neg_cp": 1,
             "pos_cp": 0,
             "probs_neg": [
              0.19699999690055847
             ],
             "probs_pos": [],
             "species": "Bergente"
            },
            "type": "Feature"
           },
           {
            "bbox": [
             11.738134164531402,
             48.2872007201933,
             12.433169657606465,
             48.74951242098684
            ],
            "geometry": {
             "coordinates": [
              [
               [
                11.738134164531402,
                48.29984133502623
               ],
               [
                11.753787128591897,
                48.74951242098684
               ],
               [
                12.433169657606465,
                48.736740527909475
               ],
               [
                12.411462626880093,
                48.2872007201933
               ],
               [
                11.738134164531402,
                48.29984133502623
               ]
              ]
             ],
             "type": "Polygon"
            },
            "id": "170",
            "properties": {
             "dates_neg": "18-01-2022",
             "dates_pos": [],
             "grid_id": "50kmE4450N2800",
             "neg_cp": 1,
             "pos_cp": 0,
             "probs_neg": [
              0.9990000128746033
             ],
             "probs_pos": [],
             "species": "Bergente"
            },
            "type": "Feature"
           },
           {
            "bbox": [
             11.753787128591897,
             48.736740527909475,
             12.455377898699574,
             49.199098804385365
            ],
            "geometry": {
             "coordinates": [
              [
               [
                11.753787128591897,
                48.74951242098684
               ],
               [
                11.769801722630278,
                49.199098804385365
               ],
               [
                12.455377898699574,
                49.186192499780745
               ],
               [
                12.433169657606465,
                48.736740527909475
               ],
               [
                11.753787128591897,
                48.74951242098684
               ]
              ]
             ],
             "type": "Polygon"
            },
            "id": "171",
            "properties": {
             "dates_neg": "15-03-2022",
             "dates_pos": [],
             "grid_id": "50kmE4450N2850",
             "neg_cp": 1,
             "pos_cp": 0,
             "probs_neg": [
              0.6700000166893005
             ],
             "probs_pos": [],
             "species": "Bergente"
            },
            "type": "Feature"
           },
           {
            "bbox": [
             11.769801722630278,
             49.186192499780745,
             12.478104061075566,
             49.64860740218985
            ],
            "geometry": {
             "coordinates": [
              [
               [
                11.769801722630278,
                49.199098804385365
               ],
               [
                11.786190013948252,
                49.64860740218985
               ],
               [
                12.478104061075566,
                49.635563446988414
               ],
               [
                12.455377898699574,
                49.186192499780745
               ],
               [
                11.769801722630278,
                49.199098804385365
               ]
              ]
             ],
             "type": "Polygon"
            },
            "id": "172",
            "properties": {
             "dates_neg": [],
             "dates_pos": "09-03-2021",
             "grid_id": "50kmE4450N2900",
             "neg_cp": 0,
             "pos_cp": 2,
             "probs_neg": [],
             "probs_pos": [
              1,
              0.023000000044703484
             ],
             "species": "Bergente"
            },
            "type": "Feature"
           },
           {
            "bbox": [
             11.786190013948252,
             49.635563446988414,
             12.501365622036607,
             50.09804512583014
            ],
            "geometry": {
             "coordinates": [
              [
               [
                11.786190013948252,
                49.64860740218985
               ],
               [
                11.802964623842145,
                50.09804512583014
               ],
               [
                12.501365622036607,
                50.08486017031944
               ],
               [
                12.478104061075566,
                49.635563446988414
               ],
               [
                11.786190013948252,
                49.64860740218985
               ]
              ]
             ],
             "type": "Polygon"
            },
            "id": "173",
            "properties": {
             "dates_neg": "24-11-2020",
             "dates_pos": [],
             "grid_id": "50kmE4450N2950",
             "neg_cp": 1,
             "pos_cp": 0,
             "probs_neg": [
              0.11400000005960464
             ],
             "probs_pos": [],
             "species": "Bergente"
            },
            "type": "Feature"
           },
           {
            "bbox": [
             11.802964623842145,
             50.08486017031944,
             12.525180869428343,
             50.54741888184476
            ],
            "geometry": {
             "coordinates": [
              [
               [
                11.802964623842145,
                50.09804512583014
               ],
               [
                11.82013875956377,
                50.54741888184476
               ],
               [
                12.525180869428343,
                50.5340894605332
               ],
               [
                12.501365622036607,
                50.08486017031944
               ],
               [
                11.802964623842145,
                50.09804512583014
               ]
              ]
             ],
             "type": "Polygon"
            },
            "id": "174",
            "properties": {
             "dates_neg": [],
             "dates_pos": "23-03-2021",
             "grid_id": "50kmE4450N3000",
             "neg_cp": 0,
             "pos_cp": 1,
             "probs_neg": [],
             "probs_pos": [
              0.31700000166893005
             ],
             "species": "Bergente"
            },
            "type": "Feature"
           },
           {
            "bbox": [
             11.82013875956377,
             50.5340894605332,
             12.549568948891887,
             50.99673557250485
            ],
            "geometry": {
             "coordinates": [
              [
               [
                11.82013875956377,
                50.54741888184476
               ],
               [
                11.837726248524454,
                50.99673557250485
               ],
               [
                12.549568948891887,
                50.983258098685695
               ],
               [
                12.525180869428343,
                50.5340894605332
               ],
               [
                11.82013875956377,
                50.54741888184476
               ]
              ]
             ],
             "type": "Polygon"
            },
            "id": "175",
            "properties": {
             "dates_neg": [],
             "dates_pos": [],
             "grid_id": "50kmE4450N3050",
             "neg_cp": 0,
             "pos_cp": 0,
             "probs_neg": [],
             "probs_pos": [],
             "species": "Bergente"
            },
            "type": "Feature"
           },
           {
            "bbox": [
             11.837726248524454,
             50.983258098685695,
             12.574549914465914,
             51.4460020964131
            ],
            "geometry": {
             "coordinates": [
              [
               [
                11.837726248524454,
                50.99673557250485
               ],
               [
                11.855741574927876,
                51.4460020964131
               ],
               [
                12.574549914465914,
                51.432372856407504
               ],
               [
                12.549568948891887,
                50.983258098685695
               ],
               [
                11.837726248524454,
                50.99673557250485
               ]
              ]
             ],
             "type": "Polygon"
            },
            "id": "176",
            "properties": {
             "dates_neg": "11-02-2019",
             "dates_pos": "08-12-2020",
             "grid_id": "50kmE4450N3100",
             "neg_cp": 2,
             "pos_cp": 1,
             "probs_neg": [
              0.675000011920929,
              0.3449999988079071
             ],
             "probs_pos": [
              0.8389999866485596
             ],
             "species": "Bergente"
            },
            "type": "Feature"
           },
           {
            "bbox": [
             11.855741574927876,
             51.432372856407504,
             12.600144782819065,
             51.89522534907663
            ],
            "geometry": {
             "coordinates": [
              [
               [
                11.855741574927876,
                51.4460020964131
               ],
               [
                11.874199919035165,
                51.89522534907663
               ],
               [
                12.600144782819065,
                51.881440496132775
               ],
               [
                12.574549914465914,
                51.432372856407504
               ],
               [
                11.855741574927876,
                51.4460020964131
               ]
              ]
             ],
             "type": "Polygon"
            },
            "id": "177",
            "properties": {
             "dates_neg": "03-05-2022",
             "dates_pos": "22-12-2020",
             "grid_id": "50kmE4450N3150",
             "neg_cp": 1,
             "pos_cp": 1,
             "probs_neg": [
              0.5659999847412109
             ],
             "probs_pos": [
              0.7129999995231628
             ],
             "species": "Bergente"
            },
            "type": "Feature"
           },
           {
            "bbox": [
             11.874199919035165,
             51.881440496132775,
             12.626375591419725,
             52.34441222345187
            ],
            "geometry": {
             "coordinates": [
              [
               [
                11.874199919035165,
                51.89522534907663
               ],
               [
                11.893117199285397,
                52.34441222345187
               ],
               [
                12.626375591419725,
                52.33046777127508
               ],
               [
                12.600144782819065,
                51.881440496132775
               ],
               [
                11.874199919035165,
                51.89522534907663
               ]
              ]
             ],
             "type": "Polygon"
            },
            "id": "178",
            "properties": {
             "dates_neg": [],
             "dates_pos": "11-01-2022",
             "grid_id": "50kmE4450N3200",
             "neg_cp": 0,
             "pos_cp": 1,
             "probs_neg": [],
             "probs_pos": [
              0.9990000128746033
             ],
             "species": "Bergente"
            },
            "type": "Feature"
           },
           {
            "bbox": [
             11.893117199285397,
             52.33046777127508,
             12.653265460980554,
             52.79356961045933
            ],
            "geometry": {
             "coordinates": [
              [
               [
                11.893117199285397,
                52.34441222345187
               ],
               [
                11.912510117516529,
                52.79356961045933
               ],
               [
                12.653265460980554,
                52.77946142634623
               ],
               [
                12.626375591419725,
                52.33046777127508
               ],
               [
                11.893117199285397,
                52.34441222345187
               ]
              ]
             ],
             "type": "Polygon"
            },
            "id": "179",
            "properties": {
             "dates_neg": [],
             "dates_pos": "22-03-2022",
             "grid_id": "50kmE4450N3250",
             "neg_cp": 0,
             "pos_cp": 1,
             "probs_neg": [],
             "probs_pos": [
              0.17499999701976776
             ],
             "species": "Bergente"
            },
            "type": "Feature"
           },
           {
            "bbox": [
             11.912510117516529,
             52.77946142634623,
             12.680838662548283,
             53.24270439946643
            ],
            "geometry": {
             "coordinates": [
              [
               [
                11.912510117516529,
                52.79356961045933
               ],
               [
                11.93239620755612,
                53.24270439946643
               ],
               [
                12.680838662548283,
                53.228428197013606
               ],
               [
                12.653265460980554,
                52.77946142634623
               ],
               [
                11.912510117516529,
                52.79356961045933
               ]
              ]
             ],
             "type": "Polygon"
            },
            "id": "180",
            "properties": {
             "dates_neg": "08-12-2020",
             "dates_pos": [],
             "grid_id": "50kmE4450N3300",
             "neg_cp": 1,
             "pos_cp": 0,
             "probs_neg": [
              0.3319999873638153
             ],
             "probs_pos": [],
             "species": "Bergente"
            },
            "type": "Feature"
           },
           {
            "bbox": [
             11.93239620755612,
             53.228428197013606,
             12.709120689646689,
             53.691823478735564
            ],
            "geometry": {
             "coordinates": [
              [
               [
                11.93239620755612,
                53.24270439946643
               ],
               [
                11.952793887478254,
                53.691823478735564
               ],
               [
                12.709120689646689,
                53.67737481009061
               ],
               [
                12.680838662548283,
                53.228428197013606
               ],
               [
                11.93239620755612,
                53.24270439946643
               ]
              ]
             ],
             "type": "Polygon"
            },
            "id": "181",
            "properties": {
             "dates_neg": null,
             "dates_pos": "05-10-2021",
             "grid_id": "50kmE4450N3350",
             "neg_cp": 1,
             "pos_cp": 2,
             "probs_neg": [
              null
             ],
             "probs_pos": [
              0.9679999947547913,
              0.6340000033378601
             ],
             "species": "Bergente"
            },
            "type": "Feature"
           },
           {
            "bbox": [
             11.952793887478254,
             53.67737481009061,
             12.73813833592199,
             54.140933735834714
            ],
            "geometry": {
             "coordinates": [
              [
               [
                11.952793887478254,
                53.691823478735564
               ],
               [
                11.973722515853325,
                54.140933735834714
               ],
               [
                12.73813833592199,
                54.12630798345504
               ],
               [
                12.709120689646689,
                53.67737481009061
               ],
               [
                11.952793887478254,
                53.691823478735564
               ]
              ]
             ],
             "type": "Polygon"
            },
            "id": "182",
            "properties": {
             "dates_neg": "07-01-2019",
             "dates_pos": [],
             "grid_id": "50kmE4450N3400",
             "neg_cp": 1,
             "pos_cp": 0,
             "probs_neg": [
              0.1850000023841858
             ],
             "probs_pos": [],
             "species": "Bergente"
            },
            "type": "Feature"
           },
           {
            "bbox": [
             11.973722515853325,
             54.12630798345504,
             12.76791977878606,
             54.59004205800784
            ],
            "geometry": {
             "coordinates": [
              [
               [
                11.973722515853325,
                54.140933735834714
               ],
               [
                11.995202452350906,
                54.59004205800784
               ],
               [
                12.76791977878606,
                54.57523442588902
               ],
               [
                12.73813833592199,
                54.12630798345504
               ],
               [
                11.973722515853325,
                54.140933735834714
               ]
              ]
             ],
             "type": "Polygon"
            },
            "id": "183",
            "properties": {
             "dates_neg": [],
             "dates_pos": "29-12-2020",
             "grid_id": "50kmE4450N3450",
             "neg_cp": 0,
             "pos_cp": 1,
             "probs_neg": [],
             "probs_pos": [
              0.6990000009536743
             ],
             "species": "Bergente"
            },
            "type": "Feature"
           },
           {
            "bbox": [
             12.36948893966052,
             47.37142590830987,
             13.057305529731265,
             47.83756625464926
            ],
            "geometry": {
             "coordinates": [
              [
               [
                12.36948893966052,
                47.38783029804821
               ],
               [
                12.390240820693707,
                47.83756625464926
               ],
               [
                13.057305529731265,
                47.82099603001101
               ],
               [
                13.030777163766034,
                47.37142590830987
               ],
               [
                12.36948893966052,
                47.38783029804821
               ]
              ]
             ],
             "type": "Polygon"
            },
            "id": "184",
            "properties": {
             "dates_neg": "16-09-2019",
             "dates_pos": [],
             "grid_id": "50kmE4500N2700",
             "neg_cp": 1,
             "pos_cp": 0,
             "probs_neg": [
              0.11400000005960464
             ],
             "probs_pos": [],
             "species": "Bergente"
            },
            "type": "Feature"
           },
           {
            "bbox": [
             12.390240820693707,
             47.82099603001101,
             13.084434196357215,
             48.2872007201933
            ],
            "geometry": {
             "coordinates": [
              [
               [
                12.390240820693707,
                47.83756625464926
               ],
               [
                12.411462626880093,
                48.2872007201933
               ],
               [
                13.084434196357215,
                48.27046077971817
               ],
               [
                13.057305529731265,
                47.82099603001101
               ],
               [
                12.390240820693707,
                47.83756625464926
               ]
              ]
             ],
             "type": "Polygon"
            },
            "id": "185",
            "properties": {
             "dates_neg": [],
             "dates_pos": "13-01-2020",
             "grid_id": "50kmE4500N2750",
             "neg_cp": 0,
             "pos_cp": 1,
             "probs_neg": [],
             "probs_pos": [
              0.45899999141693115
             ],
             "species": "Bergente"
            },
            "type": "Feature"
           },
           {
            "bbox": [
             12.411462626880093,
             48.27046077971817,
             13.112182686792604,
             48.736740527909475
            ],
            "geometry": {
             "coordinates": [
              [
               [
                12.411462626880093,
                48.2872007201933
               ],
               [
                12.433169657606465,
                48.736740527909475
               ],
               [
                13.112182686792604,
                48.719826862789326
               ],
               [
                13.084434196357215,
                48.27046077971817
               ],
               [
                12.411462626880093,
                48.2872007201933
               ]
              ]
             ],
             "type": "Polygon"
            },
            "id": "186",
            "properties": {
             "dates_neg": [],
             "dates_pos": "13-04-2021",
             "grid_id": "50kmE4500N2800",
             "neg_cp": 0,
             "pos_cp": 2,
             "probs_neg": [],
             "probs_pos": [
              0.9819999933242798,
              0.5220000147819519
             ],
             "species": "Bergente"
            },
            "type": "Feature"
           },
           {
            "bbox": [
             12.433169657606465,
             48.719826862789326,
             13.14057139899229,
             49.186192499780745
            ],
            "geometry": {
             "coordinates": [
              [
               [
                12.433169657606465,
                48.736740527909475
               ],
               [
                12.455377898699574,
                49.186192499780745
               ],
               [
                13.14057139899229,
                49.16910096760349
               ],
               [
                13.112182686792604,
                48.719826862789326
               ],
               [
                12.433169657606465,
                48.736740527909475
               ]
              ]
             ],
             "type": "Polygon"
            },
            "id": "187",
            "properties": {
             "dates_neg": "07-01-2019",
             "dates_pos": [],
             "grid_id": "50kmE4500N2850",
             "neg_cp": 1,
             "pos_cp": 0,
             "probs_neg": [
              0.9860000014305115
             ],
             "probs_pos": [],
             "species": "Bergente"
            },
            "type": "Feature"
           },
           {
            "bbox": [
             12.455377898699574,
             49.16910096760349,
             13.169621654892614,
             49.635563446988414
            ],
            "geometry": {
             "coordinates": [
              [
               [
                12.455377898699574,
                49.186192499780745
               ],
               [
                12.478104061075566,
                49.635563446988414
               ],
               [
                13.169621654892614,
                49.61828976568286
               ],
               [
                13.14057139899229,
                49.16910096760349
               ],
               [
                12.455377898699574,
                49.186192499780745
               ]
              ]
             ],
             "type": "Polygon"
            },
            "id": "188",
            "properties": {
             "dates_neg": "26-10-2021",
             "dates_pos": [],
             "grid_id": "50kmE4500N2900",
             "neg_cp": 1,
             "pos_cp": 0,
             "probs_neg": [
              0.11299999803304672
             ],
             "probs_pos": [],
             "species": "Bergente"
            },
            "type": "Feature"
           },
           {
            "bbox": [
             12.478104061075566,
             49.61828976568286,
             13.199355752948362,
             50.08486017031944
            ],
            "geometry": {
             "coordinates": [
              [
               [
                12.478104061075566,
                49.635563446988414
               ],
               [
                12.501365622036607,
                50.08486017031944
               ],
               [
                13.199355752948362,
                50.067399911755466
               ],
               [
                13.169621654892614,
                49.61828976568286
               ],
               [
                12.478104061075566,
                49.635563446988414
               ]
              ]
             ],
             "type": "Polygon"
            },
            "id": "189",
            "properties": {
             "dates_neg": "16-03-2020",
             "dates_pos": [],
             "grid_id": "50kmE4500N2950",
             "neg_cp": 1,
             "pos_cp": 0,
             "probs_neg": [
              0.11800000071525574
             ],
             "probs_pos": [],
             "species": "Bergente"
            },
            "type": "Feature"
           },
           {
            "bbox": [
             12.501365622036607,
             50.067399911755466,
             13.229797024302176,
             50.5340894605332
            ],
            "geometry": {
             "coordinates": [
              [
               [
                12.501365622036607,
                50.08486017031944
               ],
               [
                12.525180869428343,
                50.5340894605332
               ],
               [
                13.229797024302176,
                50.51643804375384
               ],
               [
                13.199355752948362,
                50.067399911755466
               ],
               [
                12.501365622036607,
                50.08486017031944
               ]
              ]
             ],
             "type": "Polygon"
            },
            "id": "190",
            "properties": {
             "dates_neg": "08-09-2020",
             "dates_pos": [],
             "grid_id": "50kmE4500N3000",
             "neg_cp": 1,
             "pos_cp": 0,
             "probs_neg": [
              0.11800000071525574
             ],
             "probs_pos": [],
             "species": "Bergente"
            },
            "type": "Feature"
           },
           {
            "bbox": [
             12.525180869428343,
             50.51643804375384,
             13.260969892882333,
             50.983258098685695
            ],
            "geometry": {
             "coordinates": [
              [
               [
                12.525180869428343,
                50.5340894605332
               ],
               [
                12.549568948891887,
                50.983258098685695
               ],
               [
                13.260969892882333,
                50.96541078274497
               ],
               [
                13.229797024302176,
                50.51643804375384
               ],
               [
                12.525180869428343,
                50.5340894605332
               ]
              ]
             ],
             "type": "Polygon"
            },
            "id": "191",
            "properties": {
             "dates_neg": "07-07-2020",
             "dates_pos": [],
             "grid_id": "50kmE4500N3050",
             "neg_cp": 1,
             "pos_cp": 0,
             "probs_neg": [
              0.11299999803304672
             ],
             "probs_pos": [],
             "species": "Bergente"
            },
            "type": "Feature"
           },
           {
            "bbox": [
             12.549568948891887,
             50.96541078274497,
             13.292899939752683,
             51.432372856407504
            ],
            "geometry": {
             "coordinates": [
              [
               [
                12.549568948891887,
                50.983258098685695
               ],
               [
                12.574549914465914,
                51.432372856407504
               ],
               [
                13.292899939752683,
                51.41432473278651
               ],
               [
                13.260969892882333,
                50.96541078274497
               ],
               [
                12.549568948891887,
                50.983258098685695
               ]
              ]
             ],
             "type": "Polygon"
            },
            "id": "192",
            "properties": {
             "dates_neg": "24-12-2018",
             "dates_pos": [],
             "grid_id": "50kmE4500N3100",
             "neg_cp": 1,
             "pos_cp": 0,
             "probs_neg": [
              0.7139999866485596
             ],
             "probs_pos": [],
             "species": "Bergente"
            },
            "type": "Feature"
           },
           {
            "bbox": [
             12.574549914465914,
             51.41432473278651,
             13.325613972069442,
             51.881440496132775
            ],
            "geometry": {
             "coordinates": [
              [
               [
                12.574549914465914,
                51.432372856407504
               ],
               [
                12.600144782819065,
                51.881440496132775
               ],
               [
                13.325613972069442,
                51.8631864807036
               ],
               [
                13.292899939752683,
                51.41432473278651
               ],
               [
                12.574549914465914,
                51.432372856407504
               ]
              ]
             ],
             "type": "Polygon"
            },
            "id": "193",
            "properties": {
             "dates_neg": [],
             "dates_pos": "11-01-2022",
             "grid_id": "50kmE4500N3150",
             "neg_cp": 0,
             "pos_cp": 2,
             "probs_neg": [],
             "probs_pos": [
              0.6610000133514404,
              0.3499999940395355
             ],
             "species": "Bergente"
            },
            "type": "Feature"
           },
           {
            "bbox": [
             12.600144782819065,
             51.8631864807036,
             13.35914009703368,
             52.33046777127508
            ],
            "geometry": {
             "coordinates": [
              [
               [
                12.600144782819065,
                51.881440496132775
               ],
               [
                12.626375591419725,
                52.33046777127508
               ],
               [
                13.35914009703368,
                52.312002595780086
               ],
               [
                13.325613972069442,
                51.8631864807036
               ],
               [
                12.600144782819065,
                51.881440496132775
               ]
              ]
             ],
             "type": "Polygon"
            },
            "id": "194",
            "properties": {
             "dates_neg": "22-02-2022",
             "dates_pos": [],
             "grid_id": "50kmE4500N3200",
             "neg_cp": 1,
             "pos_cp": 0,
             "probs_neg": [
              0.20100000500679016
             ],
             "probs_pos": [],
             "species": "Bergente"
            },
            "type": "Feature"
           },
           {
            "bbox": [
             12.626375591419725,
             52.312002595780086,
             13.393507801266303,
             52.77946142634623
            ],
            "geometry": {
             "coordinates": [
              [
               [
                12.626375591419725,
                52.33046777127508
               ],
               [
                12.653265460980554,
                52.77946142634623
               ],
               [
                13.393507801266303,
                52.760779629356904
               ],
               [
                13.35914009703368,
                52.312002595780086
               ],
               [
                12.626375591419725,
                52.33046777127508
               ]
              ]
             ],
             "type": "Polygon"
            },
            "id": "195",
            "properties": {
             "dates_neg": "20-01-2020",
             "dates_pos": [],
             "grid_id": "50kmE4500N3250",
             "neg_cp": 1,
             "pos_cp": 0,
             "probs_neg": [
              0.1589999943971634
             ],
             "probs_pos": [],
             "species": "Bergente"
            },
            "type": "Feature"
           },
           {
            "bbox": [
             12.653265460980554,
             52.760779629356904,
             13.4287480360745,
             53.228428197013606
            ],
            "geometry": {
             "coordinates": [
              [
               [
                12.653265460980554,
                52.77946142634623
               ],
               [
                12.680838662548283,
                53.228428197013606
               ],
               [
                13.4287480360745,
                53.20952411433065
               ],
               [
                13.393507801266303,
                52.760779629356904
               ],
               [
                12.653265460980554,
                52.77946142634623
               ]
              ]
             ],
             "type": "Polygon"
            },
            "id": "196",
            "properties": {
             "dates_neg": "30-07-2018",
             "dates_pos": [],
             "grid_id": "50kmE4500N3300",
             "neg_cp": 1,
             "pos_cp": 0,
             "probs_neg": [
              0.12600000202655792
             ],
             "probs_pos": [],
             "species": "Bergente"
            },
            "type": "Feature"
           },
           {
            "bbox": [
             12.680838662548283,
             53.20952411433065,
             13.464893309125529,
             53.67737481009061
            ],
            "geometry": {
             "coordinates": [
              [
               [
                12.680838662548283,
                53.228428197013606
               ],
               [
                12.709120689646689,
                53.67737481009061
               ],
               [
                13.464893309125529,
                53.65824256454321
               ],
               [
                13.4287480360745,
                53.20952411433065
               ],
               [
                12.680838662548283,
                53.228428197013606
               ]
              ]
             ],
             "type": "Polygon"
            },
            "id": "197",
            "properties": {
             "dates_neg": [],
             "dates_pos": [],
             "grid_id": "50kmE4500N3350",
             "neg_cp": 0,
             "pos_cp": 0,
             "probs_neg": [],
             "probs_pos": [],
             "species": "Bergente"
            },
            "type": "Feature"
           },
           {
            "bbox": [
             12.709120689646689,
             53.65824256454321,
             13.50197778309589,
             54.12630798345504
            ],
            "geometry": {
             "coordinates": [
              [
               [
                12.709120689646689,
                53.67737481009061
               ],
               [
                12.73813833592199,
                54.12630798345504
               ],
               [
                13.50197778309589,
                54.106941474053635
               ],
               [
                13.464893309125529,
                53.65824256454321
               ],
               [
                12.709120689646689,
                53.67737481009061
               ]
              ]
             ],
             "type": "Polygon"
            },
            "id": "198",
            "properties": {
             "dates_neg": [],
             "dates_pos": "01-12-2020",
             "grid_id": "50kmE4500N3400",
             "neg_cp": 0,
             "pos_cp": 1,
             "probs_neg": [],
             "probs_pos": [
              0.5809999704360962
             ],
             "species": "Bergente"
            },
            "type": "Feature"
           },
           {
            "bbox": [
             12.73813833592199,
             54.106941474053635,
             13.54003738192231,
             54.57523442588902
            ],
            "geometry": {
             "coordinates": [
              [
               [
                12.73813833592199,
                54.12630798345504
               ],
               [
                12.76791977878606,
                54.57523442588902
               ],
               [
                13.54003738192231,
                54.555627316281914
               ],
               [
                13.50197778309589,
                54.106941474053635
               ],
               [
                12.73813833592199,
                54.12630798345504
               ]
              ]
             ],
             "type": "Polygon"
            },
            "id": "199",
            "properties": {
             "dates_neg": "26-04-2022",
             "dates_pos": "17-08-2021",
             "grid_id": "50kmE4500N3450",
             "neg_cp": 1,
             "pos_cp": 1,
             "probs_neg": [
              0.9169999957084656
             ],
             "probs_pos": [
              0.9729999899864197
             ],
             "species": "Bergente"
            },
            "type": "Feature"
           },
           {
            "bbox": [
             12.76791977878606,
             54.555627316281914,
             13.579109905345867,
             55.0241608368334
            ],
            "geometry": {
             "coordinates": [
              [
               [
                12.76791977878606,
                54.57523442588902
               ],
               [
                12.798494669604638,
                55.0241608368334
               ],
               [
                13.579109905345867,
                55.004306543012895
               ],
               [
                13.54003738192231,
                54.555627316281914
               ],
               [
                12.76791977878606,
                54.57523442588902
               ]
              ]
             ],
             "type": "Polygon"
            },
            "id": "200",
            "properties": {
             "dates_neg": [],
             "dates_pos": "28-09-2021",
             "grid_id": "50kmE4500N3500",
             "neg_cp": 0,
             "pos_cp": 1,
             "probs_neg": [],
             "probs_pos": [
              0.7829999923706055
             ],
             "species": "Bergente"
            },
            "type": "Feature"
           },
           {
            "bbox": [
             13.030777163766034,
             47.35100789885775,
             13.723929789226002,
             47.82099603001101
            ],
            "geometry": {
             "coordinates": [
              [
               [
                13.030777163766034,
                47.37142590830987
               ],
               [
                13.057305529731265,
                47.82099603001101
               ],
               [
                13.723929789226002,
                47.80037179641359
               ],
               [
                13.691639689219139,
                47.35100789885775
               ],
               [
                13.030777163766034,
                47.37142590830987
               ]
              ]
             ],
             "type": "Polygon"
            },
            "id": "201",
            "properties": {
             "dates_neg": "17-05-2022",
             "dates_pos": [],
             "grid_id": "50kmE4550N2700",
             "neg_cp": 1,
             "pos_cp": 0,
             "probs_neg": [
              0.11599999666213989
             ],
             "probs_pos": [],
             "species": "Bergente"
            },
            "type": "Feature"
           },
           {
            "bbox": [
             13.057305529731265,
             47.80037179641359,
             13.756949915493268,
             48.27046077971817
            ],
            "geometry": {
             "coordinates": [
              [
               [
                13.057305529731265,
                47.82099603001101
               ],
               [
                13.084434196357215,
                48.27046077971817
               ],
               [
                13.756949915493268,
                48.249625501443475
               ],
               [
                13.723929789226002,
                47.80037179641359
               ],
               [
                13.057305529731265,
                47.82099603001101
               ]
              ]
             ],
             "type": "Polygon"
            },
            "id": "202",
            "properties": {
             "dates_neg": "12-04-2022",
             "dates_pos": [],
             "grid_id": "50kmE4550N2750",
             "neg_cp": 1,
             "pos_cp": 0,
             "probs_neg": [
              0.11400000005960464
             ],
             "probs_pos": [],
             "species": "Bergente"
            },
            "type": "Feature"
           },
           {
            "bbox": [
             13.084434196357215,
             48.249625501443475,
             13.790723778576401,
             48.719826862789326
            ],
            "geometry": {
             "coordinates": [
              [
               [
                13.084434196357215,
                48.27046077971817
               ],
               [
                13.112182686792604,
                48.719826862789326
               ],
               [
                13.790723778576401,
                48.6987755607516
               ],
               [
                13.756949915493268,
                48.249625501443475
               ],
               [
                13.084434196357215,
                48.27046077971817
               ]
              ]
             ],
             "type": "Polygon"
            },
            "id": "203",
            "properties": {
             "dates_neg": [],
             "dates_pos": [],
             "grid_id": "50kmE4550N2800",
             "neg_cp": 0,
             "pos_cp": 0,
             "probs_neg": [],
             "probs_pos": [],
             "species": "Bergente"
            },
            "type": "Feature"
           },
           {
            "bbox": [
             13.112182686792604,
             48.6987755607516,
             13.825276149744958,
             49.16910096760349
            ],
            "geometry": {
             "coordinates": [
              [
               [
                13.112182686792604,
                48.719826862789326
               ],
               [
                13.14057139899229,
                49.16910096760349
               ],
               [
                13.825276149744958,
                49.14782849707013
               ],
               [
                13.790723778576401,
                48.6987755607516
               ],
               [
                13.112182686792604,
                48.719826862789326
               ]
              ]
             ],
             "type": "Polygon"
            },
            "id": "204",
            "properties": {
             "dates_neg": "11-05-2021",
             "dates_pos": [],
             "grid_id": "50kmE4550N2850",
             "neg_cp": 1,
             "pos_cp": 0,
             "probs_neg": [
              0.11900000274181366
             ],
             "probs_pos": [],
             "species": "Bergente"
            },
            "type": "Feature"
           },
           {
            "bbox": [
             13.199355752948362,
             50.04566896956719,
             13.933869213511642,
             50.51643804375384
            ],
            "geometry": {
             "coordinates": [
              [
               [
                13.199355752948362,
                50.067399911755466
               ],
               [
                13.229797024302176,
                50.51643804375384
               ],
               [
                13.933869213511642,
                50.49446942792948
               ],
               [
                13.896821166076204,
                50.04566896956719
               ],
               [
                13.199355752948362,
                50.067399911755466
               ]
              ]
             ],
             "type": "Polygon"
            },
            "id": "205",
            "properties": {
             "dates_neg": "15-09-2020",
             "dates_pos": [],
             "grid_id": "50kmE4550N3000",
             "neg_cp": 1,
             "pos_cp": 0,
             "probs_neg": [
              0.11599999666213989
             ],
             "probs_pos": [],
             "species": "Bergente"
            },
            "type": "Feature"
           },
           {
            "bbox": [
             13.229797024302176,
             50.49446942792948,
             13.971806714212924,
             50.96541078274497
            ],
            "geometry": {
             "coordinates": [
              [
               [
                13.229797024302176,
                50.51643804375384
               ],
               [
                13.260969892882333,
                50.96541078274497
               ],
               [
                13.971806714212924,
                50.9431986066582
               ],
               [
                13.933869213511642,
                50.49446942792948
               ],
               [
                13.229797024302176,
                50.51643804375384
               ]
              ]
             ],
             "type": "Polygon"
            },
            "id": "206",
            "properties": {
             "dates_neg": [],
             "dates_pos": "30-07-2018",
             "grid_id": "50kmE4550N3050",
             "neg_cp": 0,
             "pos_cp": 1,
             "probs_neg": [],
             "probs_pos": [
              0.23600000143051147
             ],
             "species": "Bergente"
            },
            "type": "Feature"
           },
           {
            "bbox": [
             13.260969892882333,
             50.9431986066582,
             14.010664721833768,
             51.41432473278651
            ],
            "geometry": {
             "coordinates": [
              [
               [
                13.260969892882333,
                50.96541078274497
               ],
               [
                13.292899939752683,
                51.41432473278651
               ],
               [
                14.010664721833768,
                51.39186290215551
               ],
               [
                13.971806714212924,
                50.9431986066582
               ],
               [
                13.260969892882333,
                50.96541078274497
               ]
              ]
             ],
             "type": "Polygon"
            },
            "id": "207",
            "properties": {
             "dates_neg": [],
             "dates_pos": [],
             "grid_id": "50kmE4550N3100",
             "neg_cp": 0,
             "pos_cp": 0,
             "probs_neg": [],
             "probs_pos": [],
             "species": "Bergente"
            },
            "type": "Feature"
           },
           {
            "bbox": [
             13.292899939752683,
             51.39186290215551,
             14.050475775636494,
             51.8631864807036
            ],
            "geometry": {
             "coordinates": [
              [
               [
                13.292899939752683,
                51.41432473278651
               ],
               [
                13.325613972069442,
                51.8631864807036
               ],
               [
                14.050475775636494,
                51.84046868365779
               ],
               [
                14.010664721833768,
                51.39186290215551
               ],
               [
                13.292899939752683,
                51.41432473278651
               ]
              ]
             ],
             "type": "Polygon"
            },
            "id": "208",
            "properties": {
             "dates_neg": "16-03-2020",
             "dates_pos": "21-12-2021",
             "grid_id": "50kmE4550N3150",
             "neg_cp": 1,
             "pos_cp": 1,
             "probs_neg": [
              0.42399999499320984
             ],
             "probs_pos": [
              0.7020000219345093
             ],
             "species": "Bergente"
            },
            "type": "Feature"
           },
           {
            "bbox": [
             13.325613972069442,
             51.84046868365779,
             14.091273989889709,
             52.312002595780086
            ],
            "geometry": {
             "coordinates": [
              [
               [
                13.325613972069442,
                51.8631864807036
               ],
               [
                13.35914009703368,
                52.312002595780086
               ],
               [
                14.091273989889709,
                52.289022292329356
               ],
               [
                14.050475775636494,
                51.84046868365779
               ],
               [
                13.325613972069442,
                51.8631864807036
               ]
              ]
             ],
             "type": "Polygon"
            },
            "id": "209",
            "properties": {
             "dates_neg": [],
             "dates_pos": "15-02-2022",
             "grid_id": "50kmE4550N3200",
             "neg_cp": 0,
             "pos_cp": 1,
             "probs_neg": [],
             "probs_pos": [
              0.17100000381469727
             ],
             "species": "Bergente"
            },
            "type": "Feature"
           },
           {
            "bbox": [
             13.35914009703368,
             52.289022292329356,
             14.13309514980295,
             52.760779629356904
            ],
            "geometry": {
             "coordinates": [
              [
               [
                13.35914009703368,
                52.312002595780086
               ],
               [
                13.393507801266303,
                52.760779629356904
               ],
               [
                14.13309514980295,
                52.73753004022016
               ],
               [
                14.091273989889709,
                52.289022292329356
               ],
               [
                13.35914009703368,
                52.312002595780086
               ]
              ]
             ],
             "type": "Polygon"
            },
            "id": "210",
            "properties": {
             "dates_neg": "12-11-2018",
             "dates_pos": [],
             "grid_id": "50kmE4550N3250",
             "neg_cp": 1,
             "pos_cp": 0,
             "probs_neg": [
              0.17100000381469727
             ],
             "probs_pos": [],
             "species": "Bergente"
            },
            "type": "Feature"
           },
           {
            "bbox": [
             13.393507801266303,
             52.73753004022016,
             14.175976814561848,
             53.20952411433065
            ],
            "geometry": {
             "coordinates": [
              [
               [
                13.393507801266303,
                52.760779629356904
               ],
               [
                13.4287480360745,
                53.20952411433065
               ],
               [
                14.175976814561848,
                53.18599820907573
               ],
               [
                14.13309514980295,
                52.73753004022016
               ],
               [
                13.393507801266303,
                52.760779629356904
               ]
              ]
             ],
             "type": "Polygon"
            },
            "id": "211",
            "properties": {
             "dates_neg": [],
             "dates_pos": "29-12-2020",
             "grid_id": "50kmE4550N3300",
             "neg_cp": 0,
             "pos_cp": 1,
             "probs_neg": [],
             "probs_pos": [
              0.24400000274181366
             ],
             "species": "Bergente"
            },
            "type": "Feature"
           },
           {
            "bbox": [
             13.4287480360745,
             53.18599820907573,
             14.219958428083434,
             53.65824256454321
            ],
            "geometry": {
             "coordinates": [
              [
               [
                13.4287480360745,
                53.20952411433065
               ],
               [
                13.464893309125529,
                53.65824256454321
               ],
               [
                14.219958428083434,
                53.63443304898739
               ],
               [
                14.175976814561848,
                53.18599820907573
               ],
               [
                13.4287480360745,
                53.20952411433065
               ]
              ]
             ],
             "type": "Polygon"
            },
            "id": "212",
            "properties": {
             "dates_neg": "27-04-2020",
             "dates_pos": [],
             "grid_id": "50kmE4550N3350",
             "neg_cp": 2,
             "pos_cp": 0,
             "probs_neg": [
              0.7409999966621399,
              0.3540000021457672
             ],
             "probs_pos": [],
             "species": "Bergente"
            },
            "type": "Feature"
           },
           {
            "bbox": [
             13.464893309125529,
             53.63443304898739,
             14.265081438173851,
             54.106941474053635
            ],
            "geometry": {
             "coordinates": [
              [
               [
                13.464893309125529,
                53.65824256454321
               ],
               [
                13.50197778309589,
                54.106941474053635
               ],
               [
                14.265081438173851,
                54.08284077686821
               ],
               [
                14.219958428083434,
                53.63443304898739
               ],
               [
                13.464893309125529,
                53.65824256454321
               ]
              ]
             ],
             "type": "Polygon"
            },
            "id": "213",
            "properties": {
             "dates_neg": [],
             "dates_pos": "06-10-2020",
             "grid_id": "50kmE4550N3400",
             "neg_cp": 0,
             "pos_cp": 1,
             "probs_neg": [],
             "probs_pos": [
              0.597000002861023
             ],
             "species": "Bergente"
            },
            "type": "Feature"
           },
           {
            "bbox": [
             13.50197778309589,
             54.08284077686821,
             14.311389424840197,
             54.555627316281914
            ],
            "geometry": {
             "coordinates": [
              [
               [
                13.50197778309589,
                54.106941474053635
               ],
               [
                13.54003738192231,
                54.555627316281914
               ],
               [
                14.311389424840197,
                54.53122757473991
               ],
               [
                14.265081438173851,
                54.08284077686821
               ],
               [
                13.50197778309589,
                54.106941474053635
               ]
              ]
             ],
             "type": "Polygon"
            },
            "id": "214",
            "properties": {
             "dates_neg": [],
             "dates_pos": "13-04-2020",
             "grid_id": "50kmE4550N3450",
             "neg_cp": 0,
             "pos_cp": 1,
             "probs_neg": [],
             "probs_pos": [
              0.13899999856948853
             ],
             "species": "Bergente"
            },
            "type": "Feature"
           },
           {
            "bbox": [
             13.54003738192231,
             54.53122757473991,
             14.358928238586309,
             55.004306543012895
            ],
            "geometry": {
             "coordinates": [
              [
               [
                13.54003738192231,
                54.555627316281914
               ],
               [
                13.579109905345867,
                55.004306543012895
               ],
               [
                14.358928238586309,
                54.97959958781377
               ],
               [
                14.311389424840197,
                54.53122757473991
               ],
               [
                13.54003738192231,
                54.555627316281914
               ]
              ]
             ],
             "type": "Polygon"
            },
            "id": "215",
            "properties": {
             "dates_neg": "12-01-2021",
             "dates_pos": [],
             "grid_id": "50kmE4550N3500",
             "neg_cp": 1,
             "pos_cp": 0,
             "probs_neg": [
              0.1940000057220459
             ],
             "probs_pos": [],
             "species": "Bergente"
            },
            "type": "Feature"
           },
           {
            "bbox": [
             13.756949915493268,
             48.22469983910044,
             14.468691061929718,
             48.6987755607516
            ],
            "geometry": {
             "coordinates": [
              [
               [
                13.756949915493268,
                48.249625501443475
               ],
               [
                13.790723778576401,
                48.6987755607516
               ],
               [
                14.468691061929718,
                48.673591758245315
               ],
               [
                14.4289113631578,
                48.22469983910044
               ],
               [
                13.756949915493268,
                48.249625501443475
               ]
              ]
             ],
             "type": "Polygon"
            },
            "id": "216",
            "properties": {
             "dates_neg": "18-11-2019",
             "dates_pos": [],
             "grid_id": "50kmE4600N2800",
             "neg_cp": 1,
             "pos_cp": 0,
             "probs_neg": [
              0.12099999934434891
             ],
             "probs_pos": [],
             "species": "Bergente"
            },
            "type": "Feature"
           },
           {
            "bbox": [
             13.790723778576401,
             48.673591758245315,
             14.509386676021647,
             49.14782849707013
            ],
            "geometry": {
             "coordinates": [
              [
               [
                13.790723778576401,
                48.6987755607516
               ],
               [
                13.825276149744958,
                49.14782849707013
               ],
               [
                14.509386676021647,
                49.122380415778935
               ],
               [
                14.468691061929718,
                48.673591758245315
               ],
               [
                13.790723778576401,
                48.6987755607516
               ]
              ]
             ],
             "type": "Polygon"
            },
            "id": "217",
            "properties": {
             "dates_neg": "05-01-2021",
             "dates_pos": [],
             "grid_id": "50kmE4600N2850",
             "neg_cp": 1,
             "pos_cp": 0,
             "probs_neg": [
              0.11299999803304672
             ],
             "probs_pos": [],
             "species": "Bergente"
            },
            "type": "Feature"
           },
           {
            "bbox": [
             13.933869213511642,
             50.46818956973434,
             14.681957798904714,
             50.9431986066582
            ],
            "geometry": {
             "coordinates": [
              [
               [
                13.933869213511642,
                50.49446942792948
               ],
               [
                13.971806714212924,
                50.9431986066582
               ],
               [
                14.681957798904714,
                50.916627757195045
               ],
               [
                14.637280136263188,
                50.46818956973434
               ],
               [
                13.933869213511642,
                50.49446942792948
               ]
              ]
             ],
             "type": "Polygon"
            },
            "id": "218",
            "properties": {
             "dates_neg": "27-04-2021",
             "dates_pos": [],
             "grid_id": "50kmE4600N3050",
             "neg_cp": 1,
             "pos_cp": 0,
             "probs_neg": [
              0.10999999940395355
             ],
             "probs_pos": [],
             "species": "Bergente"
            },
            "type": "Feature"
           },
           {
            "bbox": [
             13.971806714212924,
             50.916627757195045,
             14.727718129570054,
             51.39186290215551
            ],
            "geometry": {
             "coordinates": [
              [
               [
                13.971806714212924,
                50.9431986066582
               ],
               [
                14.010664721833768,
                51.39186290215551
               ],
               [
                14.727718129570054,
                51.36499379261255
               ],
               [
                14.681957798904714,
                50.916627757195045
               ],
               [
                13.971806714212924,
                50.9431986066582
               ]
              ]
             ],
             "type": "Polygon"
            },
            "id": "219",
            "properties": {
             "dates_neg": "22-02-2022",
             "dates_pos": [],
             "grid_id": "50kmE4600N3100",
             "neg_cp": 1,
             "pos_cp": 0,
             "probs_neg": [
              0.17499999701976776
             ],
             "probs_pos": [],
             "species": "Bergente"
            },
            "type": "Feature"
           },
           {
            "bbox": [
             14.010664721833768,
             51.36499379261255,
             14.774599329049185,
             51.84046868365779
            ],
            "geometry": {
             "coordinates": [
              [
               [
                14.010664721833768,
                51.39186290215551
               ],
               [
                14.050475775636494,
                51.84046868365779
               ],
               [
                14.774599329049185,
                51.81329378634107
               ],
               [
                14.727718129570054,
                51.36499379261255
               ],
               [
                14.010664721833768,
                51.39186290215551
               ]
              ]
             ],
             "type": "Polygon"
            },
            "id": "220",
            "properties": {
             "dates_neg": "16-03-2021",
             "dates_pos": "04-11-2019",
             "grid_id": "50kmE4600N3150",
             "neg_cp": 1,
             "pos_cp": 1,
             "probs_neg": [
              0.6639999747276306
             ],
             "probs_pos": [
              0.4580000042915344
             ],
             "species": "Bergente"
            },
            "type": "Feature"
           },
           {
            "bbox": [
             14.050475775636494,
             51.81329378634107,
             14.822641442935389,
             52.289022292329356
            ],
            "geometry": {
             "coordinates": [
              [
               [
                14.050475775636494,
                51.84046868365779
               ],
               [
                14.091273989889709,
                52.289022292329356
               ],
               [
                14.822641442935389,
                52.26153380817288
               ],
               [
                14.774599329049185,
                51.81329378634107
               ],
               [
                14.050475775636494,
                51.84046868365779
               ]
              ]
             ],
             "type": "Polygon"
            },
            "id": "221",
            "properties": {
             "dates_neg": [],
             "dates_pos": "21-12-2021",
             "grid_id": "50kmE4600N3200",
             "neg_cp": 0,
             "pos_cp": 2,
             "probs_neg": [],
             "probs_pos": [
              0.9700000286102295,
              0.9620000123977661
             ],
             "species": "Bergente"
            },
            "type": "Feature"
           },
           {
            "bbox": [
             14.091273989889709,
             52.26153380817288,
             14.87188647367395,
             52.73753004022016
            ],
            "geometry": {
             "coordinates": [
              [
               [
                14.091273989889709,
                52.289022292329356
               ],
               [
                14.13309514980295,
                52.73753004022016
               ],
               [
                14.87188647367395,
                52.709719885538625
               ],
               [
                14.822641442935389,
                52.26153380817288
               ],
               [
                14.091273989889709,
                52.289022292329356
               ]
              ]
             ],
             "type": "Polygon"
            },
            "id": "222",
            "properties": {
             "dates_neg": "01-12-2020",
             "dates_pos": "01-04-2019",
             "grid_id": "50kmE4600N3250",
             "neg_cp": 1,
             "pos_cp": 1,
             "probs_neg": [
              0.03700000047683716
             ],
             "probs_pos": [
              0.6100000143051147
             ],
             "species": "Bergente"
            },
            "type": "Feature"
           },
           {
            "bbox": [
             14.13309514980295,
             52.709719885538625,
             14.922378500875958,
             53.18599820907573
            ],
            "geometry": {
             "coordinates": [
              [
               [
                14.13309514980295,
                52.73753004022016
               ],
               [
                14.175976814561848,
                53.18599820907573
               ],
               [
                14.922378500875958,
                53.15785800150457
               ],
               [
                14.87188647367395,
                52.709719885538625
               ],
               [
                14.13309514980295,
                52.73753004022016
               ]
              ]
             ],
             "type": "Polygon"
            },
            "id": "223",
            "properties": {
             "dates_neg": [],
             "dates_pos": "16-02-2021",
             "grid_id": "50kmE4600N3300",
             "neg_cp": 0,
             "pos_cp": 1,
             "probs_neg": [],
             "probs_pos": [
              0.36500000953674316
             ],
             "species": "Bergente"
            },
            "type": "Feature"
           },
           {
            "bbox": [
             14.175976814561848,
             53.15785800150457,
             14.974163810615655,
             53.63443304898739
            ],
            "geometry": {
             "coordinates": [
              [
               [
                14.175976814561848,
                53.18599820907573
               ],
               [
                14.219958428083434,
                53.63443304898739
               ],
               [
                14.974163810615655,
                53.60595409254917
               ],
               [
                14.922378500875958,
                53.15785800150457
               ],
               [
                14.175976814561848,
                53.18599820907573
               ]
              ]
             ],
             "type": "Polygon"
            },
            "id": "224",
            "properties": {
             "dates_neg": [],
             "dates_pos": "15-02-2022",
             "grid_id": "50kmE4600N3350",
             "neg_cp": 0,
             "pos_cp": 1,
             "probs_neg": [],
             "probs_pos": [
              0.23399999737739563
             ],
             "species": "Bergente"
            },
            "type": "Feature"
           },
           {
            "bbox": [
             14.219958428083434,
             53.60595409254917,
             15.027291034501975,
             54.08284077686821
            ],
            "geometry": {
             "coordinates": [
              [
               [
                14.219958428083434,
                53.63443304898739
               ],
               [
                14.265081438173851,
                54.08284077686821
               ],
               [
                15.027291034501975,
                54.054014046100036
               ],
               [
                14.974163810615655,
                53.60595409254917
               ],
               [
                14.219958428083434,
                53.63443304898739
               ]
              ]
             ],
             "type": "Polygon"
            },
            "id": "225",
            "properties": {
             "dates_neg": [],
             "dates_pos": "09-02-2021",
             "grid_id": "50kmE4600N3400",
             "neg_cp": 0,
             "pos_cp": 1,
             "probs_neg": [],
             "probs_pos": [
              0.1809999942779541
             ],
             "species": "Bergente"
            },
            "type": "Feature"
           },
           {
            "bbox": [
             14.265081438173851,
             54.054014046100036,
             15.081811299395174,
             54.53122757473991
            ],
            "geometry": {
             "coordinates": [
              [
               [
                14.265081438173851,
                54.08284077686821
               ],
               [
                14.311389424840197,
                54.53122757473991
               ],
               [
                15.081811299395174,
                54.50204369780994
               ],
               [
                15.027291034501975,
                54.054014046100036
               ],
               [
                14.265081438173851,
                54.08284077686821
               ]
              ]
             ],
             "type": "Polygon"
            },
            "id": "226",
            "properties": {
             "dates_neg": "20-01-2020",
             "dates_pos": [],
             "grid_id": "50kmE4600N3450",
             "neg_cp": 1,
             "pos_cp": 0,
             "probs_neg": [
              0.11599999666213989
             ],
             "probs_pos": [],
             "species": "Bergente"
            },
            "type": "Feature"
           },
           {
            "bbox": [
             14.637280136263188,
             50.43760557612786,
             15.391302444582626,
             50.916627757195045
            ],
            "geometry": {
             "coordinates": [
              [
               [
                14.637280136263188,
                50.46818956973434
               ],
               [
                14.681957798904714,
                50.916627757195045
               ],
               [
                15.391302444582626,
                50.88570561534716
               ],
               [
                15.339913352069827,
                50.43760557612786
               ],
               [
                14.637280136263188,
                50.46818956973434
               ]
              ]
             ],
             "type": "Polygon"
            },
            "id": "227",
            "properties": {
             "dates_neg": [],
             "dates_pos": "26-01-2021",
             "grid_id": "50kmE4650N3050",
             "neg_cp": 0,
             "pos_cp": 1,
             "probs_neg": [],
             "probs_pos": [
              0.4050000011920929
             ],
             "species": "Bergente"
            },
            "type": "Feature"
           },
           {
            "bbox": [
             14.681957798904714,
             50.88570561534716,
             15.443934998447006,
             51.36499379261255
            ],
            "geometry": {
             "coordinates": [
              [
               [
                14.681957798904714,
                50.916627757195045
               ],
               [
                14.727718129570054,
                51.36499379261255
               ],
               [
                15.443934998447006,
                51.33372507252568
               ],
               [
                15.391302444582626,
                50.88570561534716
               ],
               [
                14.681957798904714,
                50.916627757195045
               ]
              ]
             ],
             "type": "Polygon"
            },
            "id": "228",
            "properties": {
             "dates_neg": [],
             "dates_pos": "18-01-2022",
             "grid_id": "50kmE4650N3100",
             "neg_cp": 0,
             "pos_cp": 1,
             "probs_neg": [],
             "probs_pos": [
              0.7020000219345093
             ],
             "species": "Bergente"
            },
            "type": "Feature"
           },
           {
            "bbox": [
             14.727718129570054,
             51.33372507252568,
             15.497854793523238,
             51.81329378634107
            ],
            "geometry": {
             "coordinates": [
              [
               [
                14.727718129570054,
                51.36499379261255
               ],
               [
                14.774599329049185,
                51.81329378634107
               ],
               [
                15.497854793523238,
                51.781669758655106
               ],
               [
                15.443934998447006,
                51.33372507252568
               ],
               [
                14.727718129570054,
                51.36499379261255
               ]
              ]
             ],
             "type": "Polygon"
            },
            "id": "229",
            "properties": {
             "dates_neg": "24-02-2020",
             "dates_pos": [],
             "grid_id": "50kmE4650N3150",
             "neg_cp": 1,
             "pos_cp": 0,
             "probs_neg": [
              0.11599999666213989
             ],
             "probs_pos": [],
             "species": "Bergente"
            },
            "type": "Feature"
           }
          ],
          "type": "FeatureCollection"
         },
         "hovertemplate": "index=%{location}<br>dates_neg=%{customdata[0]}<br>neg_cp=%{z}<extra></extra>",
         "locations": [
          0,
          1,
          2,
          3,
          4,
          5,
          6,
          7,
          8,
          9,
          10,
          11,
          12,
          13,
          14,
          15,
          16,
          17,
          18,
          19,
          20,
          21,
          22,
          23,
          24,
          25,
          26,
          27,
          28,
          29,
          30,
          31,
          32,
          33,
          34,
          35,
          36,
          37,
          38,
          39,
          40,
          41,
          42,
          43,
          44,
          45,
          46,
          47,
          48,
          49,
          50,
          51,
          52,
          53,
          54,
          55,
          56,
          57,
          58,
          59,
          60,
          61,
          62,
          63,
          64,
          65,
          66,
          67,
          68,
          69,
          70,
          71,
          72,
          73,
          74,
          75,
          76,
          77,
          78,
          79,
          80,
          81,
          82,
          83,
          84,
          85,
          86,
          87,
          88,
          89,
          90,
          91,
          92,
          93,
          94,
          95,
          96,
          97,
          98,
          99,
          100,
          101,
          102,
          103,
          104,
          105,
          106,
          107,
          108,
          109,
          110,
          111,
          112,
          113,
          114,
          115,
          116,
          117,
          118,
          119,
          120,
          121,
          122,
          123,
          124,
          125,
          126,
          127,
          128,
          129,
          130,
          131,
          132,
          133,
          134,
          135,
          136,
          137,
          138,
          139,
          140,
          141,
          142,
          143,
          144,
          145,
          146,
          147,
          148,
          149,
          150,
          151,
          152,
          153,
          154,
          155,
          156,
          157,
          158,
          159,
          160,
          161,
          162,
          163,
          164,
          165,
          166,
          167,
          168,
          169,
          170,
          171,
          172,
          173,
          174,
          175,
          176,
          177,
          178,
          179,
          180,
          181,
          182,
          183,
          184,
          185,
          186,
          187,
          188,
          189,
          190,
          191,
          192,
          193,
          194,
          195,
          196,
          197,
          198,
          199,
          200,
          201,
          202,
          203,
          204,
          205,
          206,
          207,
          208,
          209,
          210,
          211,
          212,
          213,
          214,
          215,
          216,
          217,
          218,
          219,
          220,
          221,
          222,
          223,
          224,
          225,
          226,
          227,
          228,
          229
         ],
         "marker": {
          "line": {
           "width": 0
          },
          "opacity": 0.8
         },
         "name": "",
         "subplot": "mapbox",
         "type": "choroplethmapbox",
         "z": [
          1,
          1,
          2,
          1,
          1,
          1,
          1,
          1,
          0,
          1,
          1,
          1,
          1,
          1,
          1,
          1,
          1,
          0,
          1,
          1,
          3,
          0,
          0,
          1,
          1,
          1,
          1,
          1,
          1,
          1,
          1,
          0,
          1,
          0,
          2,
          1,
          1,
          1,
          1,
          0,
          1,
          0,
          0,
          3,
          1,
          1,
          0,
          0,
          1,
          1,
          1,
          1,
          0,
          1,
          1,
          0,
          0,
          1,
          2,
          1,
          0,
          1,
          1,
          3,
          0,
          0,
          0,
          0,
          1,
          0,
          1,
          0,
          0,
          1,
          2,
          1,
          2,
          0,
          0,
          0,
          0,
          1,
          1,
          0,
          0,
          0,
          1,
          0,
          0,
          0,
          1,
          1,
          1,
          1,
          0,
          1,
          1,
          1,
          1,
          0,
          2,
          0,
          1,
          1,
          0,
          2,
          1,
          3,
          1,
          0,
          0,
          1,
          1,
          1,
          2,
          0,
          1,
          1,
          1,
          0,
          1,
          1,
          1,
          1,
          0,
          1,
          1,
          0,
          0,
          0,
          0,
          1,
          1,
          1,
          1,
          0,
          1,
          0,
          1,
          0,
          1,
          0,
          1,
          0,
          1,
          1,
          1,
          0,
          0,
          1,
          1,
          0,
          0,
          1,
          1,
          1,
          1,
          1,
          1,
          0,
          0,
          1,
          2,
          4,
          1,
          0,
          1,
          1,
          1,
          1,
          1,
          1,
          0,
          1,
          0,
          0,
          2,
          1,
          0,
          0,
          1,
          1,
          1,
          0,
          1,
          0,
          0,
          1,
          1,
          1,
          1,
          1,
          1,
          0,
          1,
          1,
          1,
          0,
          0,
          1,
          0,
          1,
          1,
          0,
          1,
          1,
          0,
          0,
          1,
          0,
          1,
          0,
          2,
          0,
          0,
          1,
          1,
          1,
          1,
          1,
          1,
          0,
          1,
          0,
          0,
          0,
          1,
          0,
          0,
          1
         ]
        }
       ],
       "layout": {
        "coloraxis": {
         "colorbar": {
          "title": {
           "text": "neg_cp"
          }
         },
         "colorscale": [
          [
           0,
           "rgb(255,245,240)"
          ],
          [
           0.125,
           "rgb(254,224,210)"
          ],
          [
           0.25,
           "rgb(252,187,161)"
          ],
          [
           0.375,
           "rgb(252,146,114)"
          ],
          [
           0.5,
           "rgb(251,106,74)"
          ],
          [
           0.625,
           "rgb(239,59,44)"
          ],
          [
           0.75,
           "rgb(203,24,29)"
          ],
          [
           0.875,
           "rgb(165,15,21)"
          ],
          [
           1,
           "rgb(103,0,13)"
          ]
         ]
        },
        "legend": {
         "tracegroupgap": 0
        },
        "mapbox": {
         "center": {
          "lat": 50.65663611878682,
          "lon": 9.998926774954631
         },
         "domain": {
          "x": [
           0,
           1
          ],
          "y": [
           0,
           1
          ]
         },
         "style": "open-street-map",
         "zoom": 4
        },
        "margin": {
         "b": 0,
         "l": 0,
         "r": 0,
         "t": 0
        },
        "showlegend": true,
        "template": {
         "data": {
          "bar": [
           {
            "error_x": {
             "color": "#2a3f5f"
            },
            "error_y": {
             "color": "#2a3f5f"
            },
            "marker": {
             "line": {
              "color": "#E5ECF6",
              "width": 0.5
             },
             "pattern": {
              "fillmode": "overlay",
              "size": 10,
              "solidity": 0.2
             }
            },
            "type": "bar"
           }
          ],
          "barpolar": [
           {
            "marker": {
             "line": {
              "color": "#E5ECF6",
              "width": 0.5
             },
             "pattern": {
              "fillmode": "overlay",
              "size": 10,
              "solidity": 0.2
             }
            },
            "type": "barpolar"
           }
          ],
          "carpet": [
           {
            "aaxis": {
             "endlinecolor": "#2a3f5f",
             "gridcolor": "white",
             "linecolor": "white",
             "minorgridcolor": "white",
             "startlinecolor": "#2a3f5f"
            },
            "baxis": {
             "endlinecolor": "#2a3f5f",
             "gridcolor": "white",
             "linecolor": "white",
             "minorgridcolor": "white",
             "startlinecolor": "#2a3f5f"
            },
            "type": "carpet"
           }
          ],
          "choropleth": [
           {
            "colorbar": {
             "outlinewidth": 0,
             "ticks": ""
            },
            "type": "choropleth"
           }
          ],
          "contour": [
           {
            "colorbar": {
             "outlinewidth": 0,
             "ticks": ""
            },
            "colorscale": [
             [
              0,
              "#0d0887"
             ],
             [
              0.1111111111111111,
              "#46039f"
             ],
             [
              0.2222222222222222,
              "#7201a8"
             ],
             [
              0.3333333333333333,
              "#9c179e"
             ],
             [
              0.4444444444444444,
              "#bd3786"
             ],
             [
              0.5555555555555556,
              "#d8576b"
             ],
             [
              0.6666666666666666,
              "#ed7953"
             ],
             [
              0.7777777777777778,
              "#fb9f3a"
             ],
             [
              0.8888888888888888,
              "#fdca26"
             ],
             [
              1,
              "#f0f921"
             ]
            ],
            "type": "contour"
           }
          ],
          "contourcarpet": [
           {
            "colorbar": {
             "outlinewidth": 0,
             "ticks": ""
            },
            "type": "contourcarpet"
           }
          ],
          "heatmap": [
           {
            "colorbar": {
             "outlinewidth": 0,
             "ticks": ""
            },
            "colorscale": [
             [
              0,
              "#0d0887"
             ],
             [
              0.1111111111111111,
              "#46039f"
             ],
             [
              0.2222222222222222,
              "#7201a8"
             ],
             [
              0.3333333333333333,
              "#9c179e"
             ],
             [
              0.4444444444444444,
              "#bd3786"
             ],
             [
              0.5555555555555556,
              "#d8576b"
             ],
             [
              0.6666666666666666,
              "#ed7953"
             ],
             [
              0.7777777777777778,
              "#fb9f3a"
             ],
             [
              0.8888888888888888,
              "#fdca26"
             ],
             [
              1,
              "#f0f921"
             ]
            ],
            "type": "heatmap"
           }
          ],
          "heatmapgl": [
           {
            "colorbar": {
             "outlinewidth": 0,
             "ticks": ""
            },
            "colorscale": [
             [
              0,
              "#0d0887"
             ],
             [
              0.1111111111111111,
              "#46039f"
             ],
             [
              0.2222222222222222,
              "#7201a8"
             ],
             [
              0.3333333333333333,
              "#9c179e"
             ],
             [
              0.4444444444444444,
              "#bd3786"
             ],
             [
              0.5555555555555556,
              "#d8576b"
             ],
             [
              0.6666666666666666,
              "#ed7953"
             ],
             [
              0.7777777777777778,
              "#fb9f3a"
             ],
             [
              0.8888888888888888,
              "#fdca26"
             ],
             [
              1,
              "#f0f921"
             ]
            ],
            "type": "heatmapgl"
           }
          ],
          "histogram": [
           {
            "marker": {
             "pattern": {
              "fillmode": "overlay",
              "size": 10,
              "solidity": 0.2
             }
            },
            "type": "histogram"
           }
          ],
          "histogram2d": [
           {
            "colorbar": {
             "outlinewidth": 0,
             "ticks": ""
            },
            "colorscale": [
             [
              0,
              "#0d0887"
             ],
             [
              0.1111111111111111,
              "#46039f"
             ],
             [
              0.2222222222222222,
              "#7201a8"
             ],
             [
              0.3333333333333333,
              "#9c179e"
             ],
             [
              0.4444444444444444,
              "#bd3786"
             ],
             [
              0.5555555555555556,
              "#d8576b"
             ],
             [
              0.6666666666666666,
              "#ed7953"
             ],
             [
              0.7777777777777778,
              "#fb9f3a"
             ],
             [
              0.8888888888888888,
              "#fdca26"
             ],
             [
              1,
              "#f0f921"
             ]
            ],
            "type": "histogram2d"
           }
          ],
          "histogram2dcontour": [
           {
            "colorbar": {
             "outlinewidth": 0,
             "ticks": ""
            },
            "colorscale": [
             [
              0,
              "#0d0887"
             ],
             [
              0.1111111111111111,
              "#46039f"
             ],
             [
              0.2222222222222222,
              "#7201a8"
             ],
             [
              0.3333333333333333,
              "#9c179e"
             ],
             [
              0.4444444444444444,
              "#bd3786"
             ],
             [
              0.5555555555555556,
              "#d8576b"
             ],
             [
              0.6666666666666666,
              "#ed7953"
             ],
             [
              0.7777777777777778,
              "#fb9f3a"
             ],
             [
              0.8888888888888888,
              "#fdca26"
             ],
             [
              1,
              "#f0f921"
             ]
            ],
            "type": "histogram2dcontour"
           }
          ],
          "mesh3d": [
           {
            "colorbar": {
             "outlinewidth": 0,
             "ticks": ""
            },
            "type": "mesh3d"
           }
          ],
          "parcoords": [
           {
            "line": {
             "colorbar": {
              "outlinewidth": 0,
              "ticks": ""
             }
            },
            "type": "parcoords"
           }
          ],
          "pie": [
           {
            "automargin": true,
            "type": "pie"
           }
          ],
          "scatter": [
           {
            "fillpattern": {
             "fillmode": "overlay",
             "size": 10,
             "solidity": 0.2
            },
            "type": "scatter"
           }
          ],
          "scatter3d": [
           {
            "line": {
             "colorbar": {
              "outlinewidth": 0,
              "ticks": ""
             }
            },
            "marker": {
             "colorbar": {
              "outlinewidth": 0,
              "ticks": ""
             }
            },
            "type": "scatter3d"
           }
          ],
          "scattercarpet": [
           {
            "marker": {
             "colorbar": {
              "outlinewidth": 0,
              "ticks": ""
             }
            },
            "type": "scattercarpet"
           }
          ],
          "scattergeo": [
           {
            "marker": {
             "colorbar": {
              "outlinewidth": 0,
              "ticks": ""
             }
            },
            "type": "scattergeo"
           }
          ],
          "scattergl": [
           {
            "marker": {
             "colorbar": {
              "outlinewidth": 0,
              "ticks": ""
             }
            },
            "type": "scattergl"
           }
          ],
          "scattermapbox": [
           {
            "marker": {
             "colorbar": {
              "outlinewidth": 0,
              "ticks": ""
             }
            },
            "type": "scattermapbox"
           }
          ],
          "scatterpolar": [
           {
            "marker": {
             "colorbar": {
              "outlinewidth": 0,
              "ticks": ""
             }
            },
            "type": "scatterpolar"
           }
          ],
          "scatterpolargl": [
           {
            "marker": {
             "colorbar": {
              "outlinewidth": 0,
              "ticks": ""
             }
            },
            "type": "scatterpolargl"
           }
          ],
          "scatterternary": [
           {
            "marker": {
             "colorbar": {
              "outlinewidth": 0,
              "ticks": ""
             }
            },
            "type": "scatterternary"
           }
          ],
          "surface": [
           {
            "colorbar": {
             "outlinewidth": 0,
             "ticks": ""
            },
            "colorscale": [
             [
              0,
              "#0d0887"
             ],
             [
              0.1111111111111111,
              "#46039f"
             ],
             [
              0.2222222222222222,
              "#7201a8"
             ],
             [
              0.3333333333333333,
              "#9c179e"
             ],
             [
              0.4444444444444444,
              "#bd3786"
             ],
             [
              0.5555555555555556,
              "#d8576b"
             ],
             [
              0.6666666666666666,
              "#ed7953"
             ],
             [
              0.7777777777777778,
              "#fb9f3a"
             ],
             [
              0.8888888888888888,
              "#fdca26"
             ],
             [
              1,
              "#f0f921"
             ]
            ],
            "type": "surface"
           }
          ],
          "table": [
           {
            "cells": {
             "fill": {
              "color": "#EBF0F8"
             },
             "line": {
              "color": "white"
             }
            },
            "header": {
             "fill": {
              "color": "#C8D4E3"
             },
             "line": {
              "color": "white"
             }
            },
            "type": "table"
           }
          ]
         },
         "layout": {
          "annotationdefaults": {
           "arrowcolor": "#2a3f5f",
           "arrowhead": 0,
           "arrowwidth": 1
          },
          "autotypenumbers": "strict",
          "coloraxis": {
           "colorbar": {
            "outlinewidth": 0,
            "ticks": ""
           }
          },
          "colorscale": {
           "diverging": [
            [
             0,
             "#8e0152"
            ],
            [
             0.1,
             "#c51b7d"
            ],
            [
             0.2,
             "#de77ae"
            ],
            [
             0.3,
             "#f1b6da"
            ],
            [
             0.4,
             "#fde0ef"
            ],
            [
             0.5,
             "#f7f7f7"
            ],
            [
             0.6,
             "#e6f5d0"
            ],
            [
             0.7,
             "#b8e186"
            ],
            [
             0.8,
             "#7fbc41"
            ],
            [
             0.9,
             "#4d9221"
            ],
            [
             1,
             "#276419"
            ]
           ],
           "sequential": [
            [
             0,
             "#0d0887"
            ],
            [
             0.1111111111111111,
             "#46039f"
            ],
            [
             0.2222222222222222,
             "#7201a8"
            ],
            [
             0.3333333333333333,
             "#9c179e"
            ],
            [
             0.4444444444444444,
             "#bd3786"
            ],
            [
             0.5555555555555556,
             "#d8576b"
            ],
            [
             0.6666666666666666,
             "#ed7953"
            ],
            [
             0.7777777777777778,
             "#fb9f3a"
            ],
            [
             0.8888888888888888,
             "#fdca26"
            ],
            [
             1,
             "#f0f921"
            ]
           ],
           "sequentialminus": [
            [
             0,
             "#0d0887"
            ],
            [
             0.1111111111111111,
             "#46039f"
            ],
            [
             0.2222222222222222,
             "#7201a8"
            ],
            [
             0.3333333333333333,
             "#9c179e"
            ],
            [
             0.4444444444444444,
             "#bd3786"
            ],
            [
             0.5555555555555556,
             "#d8576b"
            ],
            [
             0.6666666666666666,
             "#ed7953"
            ],
            [
             0.7777777777777778,
             "#fb9f3a"
            ],
            [
             0.8888888888888888,
             "#fdca26"
            ],
            [
             1,
             "#f0f921"
            ]
           ]
          },
          "colorway": [
           "#636efa",
           "#EF553B",
           "#00cc96",
           "#ab63fa",
           "#FFA15A",
           "#19d3f3",
           "#FF6692",
           "#B6E880",
           "#FF97FF",
           "#FECB52"
          ],
          "font": {
           "color": "#2a3f5f"
          },
          "geo": {
           "bgcolor": "white",
           "lakecolor": "white",
           "landcolor": "#E5ECF6",
           "showlakes": true,
           "showland": true,
           "subunitcolor": "white"
          },
          "hoverlabel": {
           "align": "left"
          },
          "hovermode": "closest",
          "mapbox": {
           "style": "light"
          },
          "paper_bgcolor": "white",
          "plot_bgcolor": "#E5ECF6",
          "polar": {
           "angularaxis": {
            "gridcolor": "white",
            "linecolor": "white",
            "ticks": ""
           },
           "bgcolor": "#E5ECF6",
           "radialaxis": {
            "gridcolor": "white",
            "linecolor": "white",
            "ticks": ""
           }
          },
          "scene": {
           "xaxis": {
            "backgroundcolor": "#E5ECF6",
            "gridcolor": "white",
            "gridwidth": 2,
            "linecolor": "white",
            "showbackground": true,
            "ticks": "",
            "zerolinecolor": "white"
           },
           "yaxis": {
            "backgroundcolor": "#E5ECF6",
            "gridcolor": "white",
            "gridwidth": 2,
            "linecolor": "white",
            "showbackground": true,
            "ticks": "",
            "zerolinecolor": "white"
           },
           "zaxis": {
            "backgroundcolor": "#E5ECF6",
            "gridcolor": "white",
            "gridwidth": 2,
            "linecolor": "white",
            "showbackground": true,
            "ticks": "",
            "zerolinecolor": "white"
           }
          },
          "shapedefaults": {
           "line": {
            "color": "#2a3f5f"
           }
          },
          "ternary": {
           "aaxis": {
            "gridcolor": "white",
            "linecolor": "white",
            "ticks": ""
           },
           "baxis": {
            "gridcolor": "white",
            "linecolor": "white",
            "ticks": ""
           },
           "bgcolor": "#E5ECF6",
           "caxis": {
            "gridcolor": "white",
            "linecolor": "white",
            "ticks": ""
           }
          },
          "title": {
           "x": 0.05
          },
          "xaxis": {
           "automargin": true,
           "gridcolor": "white",
           "linecolor": "white",
           "ticks": "",
           "title": {
            "standoff": 15
           },
           "zerolinecolor": "white",
           "zerolinewidth": 2
          },
          "yaxis": {
           "automargin": true,
           "gridcolor": "white",
           "linecolor": "white",
           "ticks": "",
           "title": {
            "standoff": 15
           },
           "zerolinecolor": "white",
           "zerolinewidth": 2
          }
         }
        }
       }
      }
     },
     "metadata": {},
     "output_type": "display_data"
    }
   ],
   "source": [
    "import geopandas as gpd\n",
    "import plotly.express as px\n",
    "\n",
    "fig = px.choropleth_mapbox(\n",
    "    gdf, \n",
    "    geojson=gdf, \n",
    "    locations=gdf.index, \n",
    "    color=\"neg_cp\",\n",
    "    color_continuous_scale='reds',\n",
    "    center={\"lat\": gdf.geometry.centroid.y.mean(), \"lon\": gdf.geometry.centroid.x.mean()},\n",
    "    zoom=10,\n",
    "    opacity=0.8,\n",
    "    hover_data={'dates_neg': True, 'probs_neg': False, 'neg_cp': True},\n",
    ")\n",
    "\n",
    "fig.update_layout(\n",
    "    mapbox=dict(\n",
    "        style='open-street-map',\n",
    "        zoom=4\n",
    "    ), \n",
    "    showlegend=True,\n",
    "    margin=dict(l=0, r=0, t=0, b=0)\n",
    ")\n",
    "\n",
    "fig.update_traces(marker_line_width=0)\n",
    "fig.show()"
   ]
  }
 ],
 "metadata": {
  "kernelspec": {
   "display_name": "bird",
   "language": "python",
   "name": "python3"
  },
  "language_info": {
   "codemirror_mode": {
    "name": "ipython",
    "version": 3
   },
   "file_extension": ".py",
   "mimetype": "text/x-python",
   "name": "python",
   "nbconvert_exporter": "python",
   "pygments_lexer": "ipython3",
   "version": "3.10.11"
  }
 },
 "nbformat": 4,
 "nbformat_minor": 2
}
