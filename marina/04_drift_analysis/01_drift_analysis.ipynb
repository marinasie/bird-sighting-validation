{
 "cells": [
  {
   "cell_type": "markdown",
   "metadata": {},
   "source": [
    "<img src=\"../../img/data_drift_analysis.png\" alt=\"Concept Drift Analysis\" style=\"width: 100%; border-radius: 20px;\"/>\n",
    "\n",
    "## Objective\n",
    "The objective of this notebook is to perform an initial analysis of the existing data drifts in the bird sightings provided by DDA and Vogelwarte Switzerland. By conducting this analysis, we aim to gain insights into the temporal changes and variations in the bird sighting data. Before delving into a more in-depth analysis, we want to ensure that there are indeed drifts in the data and develop a sense of which features indicate drifts. This initial exploration will provide a foundation for understanding the dynamics of the dataset and help in identifying potential areas of concern related to data drift.\n",
    "\n",
    "## Scope\n",
    "To gain an understanding of data drift in the dataset, the master dataset will be examined for temporal drifts using [Evidently AI](https://www.evidentlyai.com/), a widely applied library that provides tools for monitoring data drift and model performance over time. This analysis will involve comparing the distribution of key features over time to detect any significant changes or shifts. By identifying these temporal drifts, we can assess the stability and consistency of the data over different time periods. This will lay the groundwork for further exploration and mitigation of data drift in the dataset, ultimately contributing to the overall data quality and long-lasting model performance."
   ]
  },
  {
   "cell_type": "code",
   "execution_count": 41,
   "metadata": {},
   "outputs": [],
   "source": [
    "%reload_ext autoreload\n",
    "%autoreload 2\n",
    "\n",
    "import sys\n",
    "sys.path.append('../')\n",
    "sys.path.append('../../')\n",
    "\n",
    "import json\n",
    "import pandas as pd\n",
    "import plotly.express as px\n",
    "\n",
    "from evidently.report import Report\n",
    "from evidently.metric_preset import DataDriftPreset\n",
    "from evidently.metrics import *\n",
    "\n",
    "from utils.drift import *\n",
    "\n",
    "import warnings\n",
    "warnings.simplefilter(\"ignore\")"
   ]
  },
  {
   "cell_type": "markdown",
   "metadata": {},
   "source": [
    "# \n",
    "<p style=\"background-color:#4A3228;color:white;font-size:240%;border-radius:10px 10px 10px 10px;\"> &nbsp; 📚 Concept Drift: A primer </p>\n",
    "\n",
    "Concept drift refers to the phenomenon where the statistical properties of the target variable (in our case: plausible or not plausible), or the relationships between the input variables and the target variable, change over time. This can have a significant impact on the performance of predictive models, as they may become outdated and less accurate as the underlying data distribution shifts.\n",
    "\n",
    "## Understanding Concept Drift\n",
    "Concept drift can occur in various domains, such as financial markets, weather forecasting, healthcare, and online advertising. In financial markets, for example, the relationships between different economic indicators and stock prices may change over time due to changes in market conditions or regulatory policies. In healthcare, the effectiveness of a particular treatment may change as new medications or therapies are developed.\n",
    "\n",
    "Concept drift may also significantly impact our Ornitho models that estimate the plausibility of bird sightings based on historical data. We use historical sightings estimate the plausibility of certain bird species being present in specific locations. However, concept drift can occur as the distribution and behavior of bird species change over time due to various ecological factors.\n",
    "\n",
    "For example, climate change can alter the migratory patterns of bird species, leading to shifts in their geographical distribution. Habitat loss and human activities can also impact the presence and abundance of bird species in certain areas. As it is a citizen science project, user bias can also contribute to concept drift if the composition of volunteers changes or as their behaviors and biases evolve. All of these possible changes can result in concept drift, affecting the relationships between environmental variables and the plausibility of bird sightings.\n",
    "\n",
    "## Impact on modeling\n",
    "The impact of concept drift on modeling can be significant. Traditional machine learning models are trained on historical data and assume that the underlying data distribution remains constant over time. However, when concept drift occurs, these models may become less accurate and reliable. The predictive power of these models may diminish, leading to inaccuracies in assessing the likelihood of bird species being present in specific locations based on historical data. Understanding and addressing concept drift is essential for maintaining the reliability and effectiveness of models that estimate the plausibility of bird sightings, particularly in the context of ecological citizen science.\n",
    "\n",
    "## Approaches to address Concept Drift\n",
    "There are several approaches to address concept drift in modeling. One approach is to continuously monitor the performance of the model and retrain it with new data as concept drift is detected. Another approach is to use adaptive learning algorithms that can automatically adjust the model parameters in response to concept drift. Additionally, ensemble methods, such as bagging and boosting, can be used to combine multiple models trained on different time periods to account for concept drift.\n",
    "\n",
    "## Objective of this notebook\n",
    "The motivation behind this notebook is to initially assess the presence and severity of data drift in our data. In later research, we plan on developing mechanisms to mitigate the impact of concept drift on model performance and to gain a deep understanding of the drifts in the data. This approach will enable the development of robust and adaptive predictive models in the context of ecological citizen science, ensuring their reliability and relevance in the face of dynamic and evolving data."
   ]
  },
  {
   "cell_type": "markdown",
   "metadata": {},
   "source": [
    "# \n",
    "<p style=\"background-color:#4A3228;color:white;font-size:240%;border-radius:10px 10px 10px 10px;\"> &nbsp; 0️⃣ Specify your paths </p>\n",
    "\n",
    "In order to run the notebook, the following file is required:\n",
    "- Master dataset reduced to 27 species and enriched with EEA grids and land cover information: *[selected_species_50km_luse.csv](https://drive.google.com/drive/folders/18XoTsDtWnN4QdIBNGGbq-jaa6U3nVb2e)*"
   ]
  },
  {
   "cell_type": "code",
   "execution_count": 7,
   "metadata": {},
   "outputs": [],
   "source": [
    "path_data = '../../../01_Data/datasets/selected_species_50km_luse.csv'"
   ]
  },
  {
   "cell_type": "markdown",
   "metadata": {},
   "source": [
    "# \n",
    "<p style=\"background-color:#4A3228;color:white;font-size:240%;border-radius:10px 10px 10px 10px;\"> &nbsp; 1️⃣ Load data </p>\n",
    "\n",
    "In this notebook, we analyze Data Drifts based on sightings from 2018-2022 for the 27 species of interest. We will keep all features that were used in our Outlier Detection modeling, therefore we will drop the following unused features:\n",
    "- `id_species` (as it is also given in `name_species`)\n",
    "- `id_sighting`\n",
    "- `timing`\n",
    "- `precision`\n",
    "- `total_count`\n",
    "- `atlas_code`\n",
    "- `id_observer`"
   ]
  },
  {
   "cell_type": "code",
   "execution_count": 32,
   "metadata": {},
   "outputs": [
    {
     "data": {
      "text/html": [
       "<div>\n",
       "<style scoped>\n",
       "    .dataframe tbody tr th:only-of-type {\n",
       "        vertical-align: middle;\n",
       "    }\n",
       "\n",
       "    .dataframe tbody tr th {\n",
       "        vertical-align: top;\n",
       "    }\n",
       "\n",
       "    .dataframe thead th {\n",
       "        text-align: right;\n",
       "    }\n",
       "</style>\n",
       "<table border=\"1\" class=\"dataframe\">\n",
       "  <thead>\n",
       "    <tr style=\"text-align: right;\">\n",
       "      <th></th>\n",
       "      <th>id_sighting</th>\n",
       "      <th>id_species</th>\n",
       "      <th>name_species</th>\n",
       "      <th>date</th>\n",
       "      <th>timing</th>\n",
       "      <th>coord_lat</th>\n",
       "      <th>coord_lon</th>\n",
       "      <th>precision</th>\n",
       "      <th>altitude</th>\n",
       "      <th>total_count</th>\n",
       "      <th>atlas_code</th>\n",
       "      <th>id_observer</th>\n",
       "      <th>country</th>\n",
       "      <th>eea_grid_id</th>\n",
       "      <th>Numerical_LUSE</th>\n",
       "      <th>LUSE</th>\n",
       "    </tr>\n",
       "  </thead>\n",
       "  <tbody>\n",
       "    <tr>\n",
       "      <th>0</th>\n",
       "      <td>29666972</td>\n",
       "      <td>8.0</td>\n",
       "      <td>Haubentaucher</td>\n",
       "      <td>2018-01-01</td>\n",
       "      <td>NaN</td>\n",
       "      <td>53.157760</td>\n",
       "      <td>8.676993</td>\n",
       "      <td>place</td>\n",
       "      <td>-1.051010</td>\n",
       "      <td>0.0</td>\n",
       "      <td>0</td>\n",
       "      <td>37718.0</td>\n",
       "      <td>de</td>\n",
       "      <td>50kmE4200N3300</td>\n",
       "      <td>6</td>\n",
       "      <td>Water</td>\n",
       "    </tr>\n",
       "    <tr>\n",
       "      <th>1</th>\n",
       "      <td>29654244</td>\n",
       "      <td>397.0</td>\n",
       "      <td>Schwarzkehlchen</td>\n",
       "      <td>2018-01-01</td>\n",
       "      <td>NaN</td>\n",
       "      <td>53.127639</td>\n",
       "      <td>8.957263</td>\n",
       "      <td>square</td>\n",
       "      <td>0.760781</td>\n",
       "      <td>2.0</td>\n",
       "      <td>0</td>\n",
       "      <td>37803.0</td>\n",
       "      <td>de</td>\n",
       "      <td>50kmE4250N3300</td>\n",
       "      <td>3</td>\n",
       "      <td>Agriculture</td>\n",
       "    </tr>\n",
       "    <tr>\n",
       "      <th>2</th>\n",
       "      <td>29654521</td>\n",
       "      <td>463.0</td>\n",
       "      <td>Wiesenpieper</td>\n",
       "      <td>2018-01-01</td>\n",
       "      <td>NaN</td>\n",
       "      <td>50.850941</td>\n",
       "      <td>12.146953</td>\n",
       "      <td>place</td>\n",
       "      <td>270.831300</td>\n",
       "      <td>2.0</td>\n",
       "      <td>0</td>\n",
       "      <td>39627.0</td>\n",
       "      <td>de</td>\n",
       "      <td>50kmE4450N3050</td>\n",
       "      <td>1</td>\n",
       "      <td>Urban</td>\n",
       "    </tr>\n",
       "    <tr>\n",
       "      <th>3</th>\n",
       "      <td>29666414</td>\n",
       "      <td>8.0</td>\n",
       "      <td>Haubentaucher</td>\n",
       "      <td>2018-01-01</td>\n",
       "      <td>NaN</td>\n",
       "      <td>51.076006</td>\n",
       "      <td>11.038316</td>\n",
       "      <td>place</td>\n",
       "      <td>158.941010</td>\n",
       "      <td>8.0</td>\n",
       "      <td>0</td>\n",
       "      <td>38301.0</td>\n",
       "      <td>de</td>\n",
       "      <td>50kmE4350N3100</td>\n",
       "      <td>6</td>\n",
       "      <td>Water</td>\n",
       "    </tr>\n",
       "    <tr>\n",
       "      <th>4</th>\n",
       "      <td>29656211</td>\n",
       "      <td>8.0</td>\n",
       "      <td>Haubentaucher</td>\n",
       "      <td>2018-01-01</td>\n",
       "      <td>NaN</td>\n",
       "      <td>51.389380</td>\n",
       "      <td>7.067282</td>\n",
       "      <td>place</td>\n",
       "      <td>52.362160</td>\n",
       "      <td>10.0</td>\n",
       "      <td>0</td>\n",
       "      <td>108167.0</td>\n",
       "      <td>de</td>\n",
       "      <td>50kmE4100N3100</td>\n",
       "      <td>1</td>\n",
       "      <td>Urban</td>\n",
       "    </tr>\n",
       "  </tbody>\n",
       "</table>\n",
       "</div>"
      ],
      "text/plain": [
       "   id_sighting  id_species     name_species        date timing  coord_lat  \\\n",
       "0     29666972         8.0    Haubentaucher  2018-01-01    NaN  53.157760   \n",
       "1     29654244       397.0  Schwarzkehlchen  2018-01-01    NaN  53.127639   \n",
       "2     29654521       463.0     Wiesenpieper  2018-01-01    NaN  50.850941   \n",
       "3     29666414         8.0    Haubentaucher  2018-01-01    NaN  51.076006   \n",
       "4     29656211         8.0    Haubentaucher  2018-01-01    NaN  51.389380   \n",
       "\n",
       "   coord_lon precision    altitude  total_count atlas_code  id_observer  \\\n",
       "0   8.676993     place   -1.051010          0.0          0      37718.0   \n",
       "1   8.957263    square    0.760781          2.0          0      37803.0   \n",
       "2  12.146953     place  270.831300          2.0          0      39627.0   \n",
       "3  11.038316     place  158.941010          8.0          0      38301.0   \n",
       "4   7.067282     place   52.362160         10.0          0     108167.0   \n",
       "\n",
       "  country     eea_grid_id  Numerical_LUSE         LUSE  \n",
       "0      de  50kmE4200N3300               6        Water  \n",
       "1      de  50kmE4250N3300               3  Agriculture  \n",
       "2      de  50kmE4450N3050               1        Urban  \n",
       "3      de  50kmE4350N3100               6        Water  \n",
       "4      de  50kmE4100N3100               1        Urban  "
      ]
     },
     "metadata": {},
     "output_type": "display_data"
    }
   ],
   "source": [
    "data = pd.read_csv(path_data, index_col=0, low_memory=False).reset_index(drop=True)\n",
    "display(data.head())\n",
    "data = data[['name_species', 'date', 'coord_lat', 'coord_lon',  'altitude', 'eea_grid_id', 'LUSE']]\n",
    "data = data.rename(columns={'LUSE': 'land_cover'})"
   ]
  },
  {
   "cell_type": "markdown",
   "metadata": {},
   "source": [
    "# \n",
    "<p style=\"background-color:#4A3228;color:white;font-size:240%;border-radius:10px 10px 10px 10px;\"> &nbsp; 2️⃣ Species and Features affected by data drift </p>\n",
    "In this chapter, the drift is analyzed for each feature to gain an overall understanding of which bird species and features are particularly affected by data drift, and to what extent. \n",
    "\n",
    "To assess the data drift over the entire period, we first compare the data from 2018 with that of 2022. This allows us to observe and quantify the extent of drift that has occurred over the 5-year span.\n",
    "\n",
    "For this, Evidently requires two frames which are then assessed on data drift. In this notebook, we set all bird sightings of 2022 as our current dataframe, that we want to compare with all bird sightings from 2018, which is called the reference dataframe:"
   ]
  },
  {
   "cell_type": "code",
   "execution_count": 33,
   "metadata": {},
   "outputs": [],
   "source": [
    "reference = data[data.date.str.contains('2018')]\n",
    "reference['date'] = pd.to_datetime(reference.date).dt.dayofyear\n",
    "\n",
    "current = data[data.date.str.contains('2022')]\n",
    "current['date'] = pd.to_datetime(current.date).dt.dayofyear\n",
    "\n",
    "analyzed_features = ['date', 'coord_lat', 'coord_lon', 'eea_grid_id', 'altitude', 'land_cover']"
   ]
  },
  {
   "cell_type": "markdown",
   "metadata": {},
   "source": [
    "Evidently then performs Data Drift Analysis by following these steps:\n",
    "1. Data Alignment:\n",
    "Evidently aligns both frames on date, ensuring that the corresponding data points from both time periods are matched for comparison. \n",
    "\n",
    "2. Per-feature Drift Calculation:\n",
    "Using the `DataDriftPreset` as the chosen metrics, evidently calculates various statistical measures and metrics to assess data drift between the reference and current frames. The calculation differ between numerical and categorical features:\n",
    "    - **Numerical Features:** Evidently utilizes *normed Wasserstein distance* for measuring data drift in our numerical features `date`, `coord_lat`, `coord_lon`, and `altitude`. The *normed Wasserstein distance* is a measure of the difference between two probability distributions, commonly used for numerical features. It quantifies the minimum amount of work (or \"distance\") required to transform one distribution into the other. In the context of data drift, normed Wasserstein distance provides a metric for assessing the divergence between the distributions of numerical features in different datasets, indicating the extent of drift. \n",
    "    - **Categorical Features:** For the categorical features `eea_grid_id` and `land_cover`, *Jensen-Shannon distance* can be applied as a measure of similarity between two probability distributions. It combines the Kullback-Leibler divergence and symmetric properties to measure the difference between distributions.\n",
    "\n",
    "3. Report Generation:\n",
    "Based on the calculated metrics, the library compiles a comprehensive report that summarizes the data drift findings. The report provides insights into the specific features that have exhibited drift and the extent of the drift observed between the reference and current frames. In this notebook, we export this report to json-Format to extract only the magnitudes of the feature drifts, also referred to as the *drift score*. In a following notebook, a report for the pygmy owl will be visualized (see `04_drift_analysis/02_pygmy_owl_habitat_drift.ipynb`).\n",
    "\n",
    "\n",
    "### Results\n",
    "Initially, the table provides an overview of the features that have exhibited drift over the 5-year duration. A feature is identified as having drifted if its drift score, surpassing a predefined threshold of 0.1, indicates significant divergence. Subsequently, the second visualization employs a heatmap to depict the drift scores, offering a more comprehensive representation of the observed drift severities. From these visualizations, we derive the following insights:\n",
    "#### 1. Species Analysis\n",
    "The analysis conducted on the dataset from the years 2018 to 2022 revealed that 18 of the 27 bird species studied exhibited significant data drift. In contrast, the remaining 9 species did not demonstrate substantial changes in the observed features. This finding suggests that approximately two thirds of the species in this study have undergone alterations that could influence their behavioral patterns, geographical distribution, and overall population dynamics.\n",
    "\n",
    "As visible in the heatmap, particularly high drift scores are recorded for the species Rock Ptarmigan (Alpenschneehuhn), Mountain Bunting (Berghänfling), Western Bonelli's Warbler (Gelbspötter), Bearded Vulture (Gänsegeier), Fire-fronted Serin (Karmingimpel), Eurasian Pygmy Owl (Sperlingskauz), and Citril Finch (Zitronenzeisig). These species exhibit elevated drift values in multiple features when comparing 2022 to 2018 and in comparison to other bird species.\n",
    "\n",
    "#### 2. Feature Analysis\n",
    "A detailed examination of the individual features indicates the presence of data drift across all measured variables. However, the extent of drift varied among these features:\n",
    "\n",
    "- **Date and Location**: The most pronounced drift was observed in features related to date and location. The data suggests that temporal variables and spatial distribution are subject to considerable flux, likely reflecting the dynamic nature of migration patterns and habitat changes.\n",
    "- **EEA Grid ID**: Data drift was consistently noted across all species concerning the European Environment Agency (EEA) grid ID. This outcome was anticipated, as the grid ID classification does not reflect the relative geographic proximity between grids, thereby providing a less nuanced measure of habitat changes.\n",
    "\n",
    "- **Land Cover and Altitude**: Changes in land cover and altitude were identified less frequently. Birds typically exhibit strong preferences for particular habitats and elevations, making it uncommon for shifts between distinct habitat types (e.g., from lakeside to forested areas). Consequently, movements are more likely to occur within the same type of land cover, leading to drift in geographic coordinates (latitude and longitude) rather than in land cover classification or altitude.\n",
    "\n",
    "### Discussion\n",
    "These initial results indicate that the majority of the bird species analyzed are subject to data drift. The heterogeneity observed in the degree of drift among different features and species highlights the necessity for precise monitoring and the development of adaptive models. Such measures are essential to counteract the potential adverse effects on the predictive accuracy of models over time."
   ]
  },
  {
   "cell_type": "code",
   "execution_count": 39,
   "metadata": {},
   "outputs": [
    {
     "data": {
      "text/html": [
       "<div>\n",
       "<style scoped>\n",
       "    .dataframe tbody tr th:only-of-type {\n",
       "        vertical-align: middle;\n",
       "    }\n",
       "\n",
       "    .dataframe tbody tr th {\n",
       "        vertical-align: top;\n",
       "    }\n",
       "\n",
       "    .dataframe thead th {\n",
       "        text-align: right;\n",
       "    }\n",
       "</style>\n",
       "<table border=\"1\" class=\"dataframe\">\n",
       "  <thead>\n",
       "    <tr style=\"text-align: right;\">\n",
       "      <th></th>\n",
       "      <th>species_name</th>\n",
       "      <th>date</th>\n",
       "      <th>coord_lat</th>\n",
       "      <th>coord_lon</th>\n",
       "      <th>eea_grid_id</th>\n",
       "      <th>altitude</th>\n",
       "      <th>land_cover</th>\n",
       "    </tr>\n",
       "  </thead>\n",
       "  <tbody>\n",
       "    <tr>\n",
       "      <th>0</th>\n",
       "      <td>Haubentaucher</td>\n",
       "      <td>-</td>\n",
       "      <td>-</td>\n",
       "      <td>-</td>\n",
       "      <td>✅</td>\n",
       "      <td>-</td>\n",
       "      <td>-</td>\n",
       "    </tr>\n",
       "    <tr>\n",
       "      <th>1</th>\n",
       "      <td>Schwarzkehlchen</td>\n",
       "      <td>-</td>\n",
       "      <td>-</td>\n",
       "      <td>-</td>\n",
       "      <td>✅</td>\n",
       "      <td>-</td>\n",
       "      <td>-</td>\n",
       "    </tr>\n",
       "    <tr>\n",
       "      <th>2</th>\n",
       "      <td>Wiesenpieper</td>\n",
       "      <td>-</td>\n",
       "      <td>-</td>\n",
       "      <td>-</td>\n",
       "      <td>✅</td>\n",
       "      <td>-</td>\n",
       "      <td>-</td>\n",
       "    </tr>\n",
       "    <tr>\n",
       "      <th>3</th>\n",
       "      <td>Wasseramsel</td>\n",
       "      <td>-</td>\n",
       "      <td>-</td>\n",
       "      <td>-</td>\n",
       "      <td>✅</td>\n",
       "      <td>-</td>\n",
       "      <td>-</td>\n",
       "    </tr>\n",
       "    <tr>\n",
       "      <th>4</th>\n",
       "      <td>Rohrammer</td>\n",
       "      <td>-</td>\n",
       "      <td>✅</td>\n",
       "      <td>-</td>\n",
       "      <td>✅</td>\n",
       "      <td>-</td>\n",
       "      <td>-</td>\n",
       "    </tr>\n",
       "    <tr>\n",
       "      <th>5</th>\n",
       "      <td>Mittelspecht</td>\n",
       "      <td>-</td>\n",
       "      <td>-</td>\n",
       "      <td>-</td>\n",
       "      <td>✅</td>\n",
       "      <td>-</td>\n",
       "      <td>-</td>\n",
       "    </tr>\n",
       "    <tr>\n",
       "      <th>6</th>\n",
       "      <td>Bergpieper</td>\n",
       "      <td>✅</td>\n",
       "      <td>-</td>\n",
       "      <td>-</td>\n",
       "      <td>✅</td>\n",
       "      <td>-</td>\n",
       "      <td>-</td>\n",
       "    </tr>\n",
       "    <tr>\n",
       "      <th>7</th>\n",
       "      <td>Singschwan</td>\n",
       "      <td>-</td>\n",
       "      <td>✅</td>\n",
       "      <td>-</td>\n",
       "      <td>✅</td>\n",
       "      <td>-</td>\n",
       "      <td>-</td>\n",
       "    </tr>\n",
       "    <tr>\n",
       "      <th>8</th>\n",
       "      <td>Seeadler</td>\n",
       "      <td>-</td>\n",
       "      <td>-</td>\n",
       "      <td>-</td>\n",
       "      <td>✅</td>\n",
       "      <td>-</td>\n",
       "      <td>-</td>\n",
       "    </tr>\n",
       "    <tr>\n",
       "      <th>9</th>\n",
       "      <td>Rostgans</td>\n",
       "      <td>-</td>\n",
       "      <td>✅</td>\n",
       "      <td>✅</td>\n",
       "      <td>✅</td>\n",
       "      <td>-</td>\n",
       "      <td>-</td>\n",
       "    </tr>\n",
       "    <tr>\n",
       "      <th>10</th>\n",
       "      <td>Flussuferläufer</td>\n",
       "      <td>-</td>\n",
       "      <td>-</td>\n",
       "      <td>-</td>\n",
       "      <td>✅</td>\n",
       "      <td>-</td>\n",
       "      <td>-</td>\n",
       "    </tr>\n",
       "    <tr>\n",
       "      <th>11</th>\n",
       "      <td>Bergente</td>\n",
       "      <td>✅</td>\n",
       "      <td>-</td>\n",
       "      <td>✅</td>\n",
       "      <td>✅</td>\n",
       "      <td>-</td>\n",
       "      <td>-</td>\n",
       "    </tr>\n",
       "    <tr>\n",
       "      <th>12</th>\n",
       "      <td>Berghänfling</td>\n",
       "      <td>-</td>\n",
       "      <td>✅</td>\n",
       "      <td>-</td>\n",
       "      <td>✅</td>\n",
       "      <td>-</td>\n",
       "      <td>✅</td>\n",
       "    </tr>\n",
       "    <tr>\n",
       "      <th>13</th>\n",
       "      <td>Sperlingskauz</td>\n",
       "      <td>-</td>\n",
       "      <td>✅</td>\n",
       "      <td>✅</td>\n",
       "      <td>✅</td>\n",
       "      <td>✅</td>\n",
       "      <td>-</td>\n",
       "    </tr>\n",
       "    <tr>\n",
       "      <th>14</th>\n",
       "      <td>Dreizehenspecht</td>\n",
       "      <td>✅</td>\n",
       "      <td>✅</td>\n",
       "      <td>✅</td>\n",
       "      <td>✅</td>\n",
       "      <td>✅</td>\n",
       "      <td>✅</td>\n",
       "    </tr>\n",
       "    <tr>\n",
       "      <th>15</th>\n",
       "      <td>Knäkente</td>\n",
       "      <td>✅</td>\n",
       "      <td>-</td>\n",
       "      <td>-</td>\n",
       "      <td>✅</td>\n",
       "      <td>-</td>\n",
       "      <td>-</td>\n",
       "    </tr>\n",
       "    <tr>\n",
       "      <th>16</th>\n",
       "      <td>Auerhuhn</td>\n",
       "      <td>✅</td>\n",
       "      <td>✅</td>\n",
       "      <td>✅</td>\n",
       "      <td>✅</td>\n",
       "      <td>✅</td>\n",
       "      <td>✅</td>\n",
       "    </tr>\n",
       "    <tr>\n",
       "      <th>17</th>\n",
       "      <td>Alpenschneehuhn</td>\n",
       "      <td>✅</td>\n",
       "      <td>✅</td>\n",
       "      <td>✅</td>\n",
       "      <td>✅</td>\n",
       "      <td>-</td>\n",
       "      <td>-</td>\n",
       "    </tr>\n",
       "    <tr>\n",
       "      <th>18</th>\n",
       "      <td>Schwarzmilan</td>\n",
       "      <td>✅</td>\n",
       "      <td>✅</td>\n",
       "      <td>-</td>\n",
       "      <td>-</td>\n",
       "      <td>-</td>\n",
       "      <td>-</td>\n",
       "    </tr>\n",
       "    <tr>\n",
       "      <th>19</th>\n",
       "      <td>Zitronenzeisig (Zitronengirlitz)</td>\n",
       "      <td>✅</td>\n",
       "      <td>✅</td>\n",
       "      <td>✅</td>\n",
       "      <td>✅</td>\n",
       "      <td>-</td>\n",
       "      <td>-</td>\n",
       "    </tr>\n",
       "    <tr>\n",
       "      <th>20</th>\n",
       "      <td>Steinschmätzer</td>\n",
       "      <td>-</td>\n",
       "      <td>-</td>\n",
       "      <td>-</td>\n",
       "      <td>✅</td>\n",
       "      <td>-</td>\n",
       "      <td>-</td>\n",
       "    </tr>\n",
       "    <tr>\n",
       "      <th>21</th>\n",
       "      <td>Braunkehlchen</td>\n",
       "      <td>✅</td>\n",
       "      <td>-</td>\n",
       "      <td>-</td>\n",
       "      <td>✅</td>\n",
       "      <td>-</td>\n",
       "      <td>-</td>\n",
       "    </tr>\n",
       "    <tr>\n",
       "      <th>22</th>\n",
       "      <td>Gelbspötter</td>\n",
       "      <td>✅</td>\n",
       "      <td>✅</td>\n",
       "      <td>✅</td>\n",
       "      <td>✅</td>\n",
       "      <td>-</td>\n",
       "      <td>-</td>\n",
       "    </tr>\n",
       "    <tr>\n",
       "      <th>23</th>\n",
       "      <td>Orpheusspötter</td>\n",
       "      <td>-</td>\n",
       "      <td>-</td>\n",
       "      <td>-</td>\n",
       "      <td>✅</td>\n",
       "      <td>-</td>\n",
       "      <td>-</td>\n",
       "    </tr>\n",
       "    <tr>\n",
       "      <th>24</th>\n",
       "      <td>Zwergohreule</td>\n",
       "      <td>✅</td>\n",
       "      <td>✅</td>\n",
       "      <td>✅</td>\n",
       "      <td>✅</td>\n",
       "      <td>✅</td>\n",
       "      <td>✅</td>\n",
       "    </tr>\n",
       "    <tr>\n",
       "      <th>25</th>\n",
       "      <td>Karmingimpel</td>\n",
       "      <td>✅</td>\n",
       "      <td>✅</td>\n",
       "      <td>✅</td>\n",
       "      <td>✅</td>\n",
       "      <td>-</td>\n",
       "      <td>-</td>\n",
       "    </tr>\n",
       "    <tr>\n",
       "      <th>26</th>\n",
       "      <td>Gänsegeier</td>\n",
       "      <td>✅</td>\n",
       "      <td>✅</td>\n",
       "      <td>✅</td>\n",
       "      <td>✅</td>\n",
       "      <td>✅</td>\n",
       "      <td>-</td>\n",
       "    </tr>\n",
       "  </tbody>\n",
       "</table>\n",
       "</div>"
      ],
      "text/plain": [
       "                        species_name date coord_lat coord_lon eea_grid_id  \\\n",
       "0                      Haubentaucher    -         -         -           ✅   \n",
       "1                    Schwarzkehlchen    -         -         -           ✅   \n",
       "2                       Wiesenpieper    -         -         -           ✅   \n",
       "3                        Wasseramsel    -         -         -           ✅   \n",
       "4                          Rohrammer    -         ✅         -           ✅   \n",
       "5                       Mittelspecht    -         -         -           ✅   \n",
       "6                         Bergpieper    ✅         -         -           ✅   \n",
       "7                         Singschwan    -         ✅         -           ✅   \n",
       "8                           Seeadler    -         -         -           ✅   \n",
       "9                           Rostgans    -         ✅         ✅           ✅   \n",
       "10                   Flussuferläufer    -         -         -           ✅   \n",
       "11                          Bergente    ✅         -         ✅           ✅   \n",
       "12                      Berghänfling    -         ✅         -           ✅   \n",
       "13                     Sperlingskauz    -         ✅         ✅           ✅   \n",
       "14                   Dreizehenspecht    ✅         ✅         ✅           ✅   \n",
       "15                          Knäkente    ✅         -         -           ✅   \n",
       "16                          Auerhuhn    ✅         ✅         ✅           ✅   \n",
       "17                   Alpenschneehuhn    ✅         ✅         ✅           ✅   \n",
       "18                      Schwarzmilan    ✅         ✅         -           -   \n",
       "19  Zitronenzeisig (Zitronengirlitz)    ✅         ✅         ✅           ✅   \n",
       "20                    Steinschmätzer    -         -         -           ✅   \n",
       "21                     Braunkehlchen    ✅         -         -           ✅   \n",
       "22                       Gelbspötter    ✅         ✅         ✅           ✅   \n",
       "23                    Orpheusspötter    -         -         -           ✅   \n",
       "24                      Zwergohreule    ✅         ✅         ✅           ✅   \n",
       "25                      Karmingimpel    ✅         ✅         ✅           ✅   \n",
       "26                        Gänsegeier    ✅         ✅         ✅           ✅   \n",
       "\n",
       "   altitude land_cover  \n",
       "0         -          -  \n",
       "1         -          -  \n",
       "2         -          -  \n",
       "3         -          -  \n",
       "4         -          -  \n",
       "5         -          -  \n",
       "6         -          -  \n",
       "7         -          -  \n",
       "8         -          -  \n",
       "9         -          -  \n",
       "10        -          -  \n",
       "11        -          -  \n",
       "12        -          ✅  \n",
       "13        ✅          -  \n",
       "14        ✅          ✅  \n",
       "15        -          -  \n",
       "16        ✅          ✅  \n",
       "17        -          -  \n",
       "18        -          -  \n",
       "19        -          -  \n",
       "20        -          -  \n",
       "21        -          -  \n",
       "22        -          -  \n",
       "23        -          -  \n",
       "24        ✅          ✅  \n",
       "25        -          -  \n",
       "26        ✅          -  "
      ]
     },
     "execution_count": 39,
     "metadata": {},
     "output_type": "execute_result"
    }
   ],
   "source": [
    "drift_results = calculate_species_drift(data, reference, current, analyzed_features, categorical=True)\n",
    "create_drift_table(drift_results)"
   ]
  },
  {
   "cell_type": "code",
   "execution_count": 42,
   "metadata": {},
   "outputs": [
    {
     "data": {
      "image/png": "[encoded data removed]",
      "text/plain": [
       "<Figure size 1000x800 with 2 Axes>"
      ]
     },
     "metadata": {},
     "output_type": "display_data"
    }
   ],
   "source": [
    "drift_results = calculate_species_drift(data, reference, current, analyzed_features, categorical=False)\n",
    "create_drift_heatmap(drift_results, analyzed_features)"
   ]
  },
  {
   "cell_type": "markdown",
   "metadata": {},
   "source": [
    "# \n",
    "<p style=\"background-color:#4A3228;color:white;font-size:240%;border-radius:10px 10px 10px 10px;\"> &nbsp; 2️⃣ Drift behaviour over time </p>\n",
    "\n",
    "Building upon the initial examination of data drift between the years 2018 and 2022, this chapter delves deeper into the temporal dynamics of data drift. The objective is to discern patterns across the intervening years, determining whether changes in data features are gradual, sudden, recurring, or exhibit random fluctuations.\n",
    "\n",
    "To investigate the progression of data drift, a year-by-year analysis is conducted, examining the data for each year from 2018 to 2022. This approach allows to capture the nuances of drift behavior over time, rather than solely comparing the start and end points of the period under study, as performed in Chapter 1️⃣ above.\n",
    "\n",
    "For this, we compare each year with the start year 2018 and assess if and how the drift increases over time."
   ]
  },
  {
   "cell_type": "code",
   "execution_count": 8,
   "metadata": {},
   "outputs": [],
   "source": [
    "reference = data[data.date.str.contains('2018')]\n",
    "reference['date'] = pd.to_datetime(reference.date).dt.dayofyear\n",
    "\n",
    "years = ['2019', '2020', '2021', '2022']\n",
    "drift_results = {}\n",
    "for year in years:\n",
    "    year_drift_results = {}\n",
    "    current = data[data.date.str.contains(year)]\n",
    "    current['date'] = pd.to_datetime(current.date).dt.dayofyear\n",
    "    for species in data.name_species.unique():\n",
    "        species_drift = {}\n",
    "        report = drift_report(reference=reference[reference.name_species == species],\n",
    "                            current=current[current.name_species == species],\n",
    "                            analyzed_features=analyzed_features,\n",
    "                            to_json=True)\n",
    "        for metric in report['metrics']:\n",
    "            if metric['metric'] == 'DataDriftTable':\n",
    "                result = metric['result']\n",
    "                drift_by_columns = result['drift_by_columns']\n",
    "                for column_name, column_data in drift_by_columns.items():\n",
    "                    drift_score = column_data['drift_score']\n",
    "                    species_drift[column_name] = drift_score\n",
    "        year_drift_results[species] = species_drift\n",
    "    drift_results[year] = year_drift_results"
   ]
  },
  {
   "cell_type": "markdown",
   "metadata": {},
   "source": [
    "In the line plot below, the data drift over time is plotted for each feature and each species. The higher the drift score, the higher the data drift of the given feature and species. Each year is compared to the reference year 2018.\n",
    "\n",
    "### Results\n",
    "\n",
    "Based on the visualization below, our findings reveal a complex picture of data drift across different features and species:\n",
    "\n",
    "- **Gradual Changes:** Certain species demonstrated gradual shifts in specific features. For example, the altitudes of the Griffon Vulture (Gänsegeier) and the Pygmy Owl (Sperlingskauz), as well as the latitudes for the Twite (Berghänfling) showed a steady trend over the years. Similarly, the longitudes of the Citril Finch (Zitronenzeisig) displayed a consistent directional drift.\n",
    "\n",
    "- **Random Fluctuations**: However, for a lot of species and features, the data did not exhibit a consistent trend but rather fluctuated randomly from year to year. For instance, the Common Rosefinch (Karmingimpel) showed a decrease in drift in the date feature in 2022. Its drift in migration pattern was increasing gradually over four years, and then suddenly decreasing, implying that its migration pattern was very similar to 2018. This unpredictability suggests that multiple factors, possibly including environmental variability and stochastic events, influence the observed features. This shows that a 5-year-window may not be sufficient for a long-term study, as the migration pattern, for example, is highly influenced by the years temperatures, which gradually change over a long period of time (climatic change), but also fluctuate heavily in a shorter time frame of 5 years.\n",
    "\n",
    "- **Land Cover Stability:** Overall, land cover exhibited the lowest levels of drift across the species studied, aligning with the expectation that habitat preference remains relatively stable over time.\n",
    "\n",
    "- **Sporadic High Drift:** The Three-toed Woodpecker (Dreizehenspecht) experienced a significant drift in land cover, but this was an isolated event that occurred only in 2019. It may be due to anthropogenic influences or natural disturbances, or user error.\n",
    "\n",
    "- **Sporadic Altitude Drifts:** As observed in Chapter 1️⃣, altitude is generally not affected by drift. However, some species, such as the Eurasian Pygmy Owl, still exhibit relatively high drift scores for this feature. This can be related to the fact that the Eurasian Pygmy Owl has expanded further north in recent years, where altitudes are lower.\n",
    "\n",
    "### Discussion\n",
    "This analysis has revealed that data drift in bird species is not uniformly distributed over time nor consistent across species. The diverse patterns of data drift observed underscore the multifaceted nature of bird dynamics over time. Random fluctuations may indicate the influence of unpredictable environmental factors or the inherent variability in bird behavior. Gradual changes suggest that some species may be responding to consistent environmental pressures or processes."
   ]
  },
  {
   "cell_type": "code",
   "execution_count": 9,
   "metadata": {},
   "outputs": [
    {
     "data": {
      "application/vnd.plotly.v1+json": {
       "config": {
        "plotlyServerURL": "https://plot.ly"
       },
       "data": [
        {
         "mode": "lines",
         "name": "Haubentaucher",
         "type": "scatter",
         "x": [
          "2019",
          "2020",
          "2021",
          "2022"
         ],
         "xaxis": "x",
         "y": [
          0.02612284230556888,
          0.024017674212655802,
          0.09072724689901311,
          0.06670956500414851
         ],
         "yaxis": "y"
        },
        {
         "mode": "lines",
         "name": "Schwarzkehlchen",
         "type": "scatter",
         "x": [
          "2019",
          "2020",
          "2021",
          "2022"
         ],
         "xaxis": "x",
         "y": [
          0.06613201266807262,
          0.04858634550073932,
          0.08244163355283339,
          0.04536547574598688
         ],
         "yaxis": "y"
        },
        {
         "mode": "lines",
         "name": "Wiesenpieper",
         "type": "scatter",
         "x": [
          "2019",
          "2020",
          "2021",
          "2022"
         ],
         "xaxis": "x",
         "y": [
          0.017206145001418986,
          0.0987265200142937,
          0.040395093248357265,
          0.04543922562409034
         ],
         "yaxis": "y"
        },
        {
         "mode": "lines",
         "name": "Wasseramsel",
         "type": "scatter",
         "x": [
          "2019",
          "2020",
          "2021",
          "2022"
         ],
         "xaxis": "x",
         "y": [
          0.018293290263475558,
          0.1175624305185594,
          0.04276378406457643,
          0.027145071504353448
         ],
         "yaxis": "y"
        },
        {
         "mode": "lines",
         "name": "Rohrammer",
         "type": "scatter",
         "x": [
          "2019",
          "2020",
          "2021",
          "2022"
         ],
         "xaxis": "x",
         "y": [
          0.05767877175506485,
          0.05582123154952955,
          0.17179250071440835,
          0.06910114352442563
         ],
         "yaxis": "y"
        },
        {
         "mode": "lines",
         "name": "Mittelspecht",
         "type": "scatter",
         "x": [
          "2019",
          "2020",
          "2021",
          "2022"
         ],
         "xaxis": "x",
         "y": [
          0.030140959460002593,
          0.035287500280387976,
          0.15325005712914655,
          0.06302947649815457
         ],
         "yaxis": "y"
        },
        {
         "mode": "lines",
         "name": "Bergpieper",
         "type": "scatter",
         "x": [
          "2019",
          "2020",
          "2021",
          "2022"
         ],
         "xaxis": "x",
         "y": [
          0.14286817557703058,
          0.07908041534908448,
          0.2354993115210346,
          0.1467511091387978
         ],
         "yaxis": "y"
        },
        {
         "mode": "lines",
         "name": "Singschwan",
         "type": "scatter",
         "x": [
          "2019",
          "2020",
          "2021",
          "2022"
         ],
         "xaxis": "x",
         "y": [
          0.04462869501177045,
          0.11338303524184269,
          0.06208744952906861,
          0.054615649367519156
         ],
         "yaxis": "y"
        },
        {
         "mode": "lines",
         "name": "Seeadler",
         "type": "scatter",
         "x": [
          "2019",
          "2020",
          "2021",
          "2022"
         ],
         "xaxis": "x",
         "y": [
          0.018278040233908447,
          0.06731354589841193,
          0.025614685930678848,
          0.026741405678604682
         ],
         "yaxis": "y"
        },
        {
         "mode": "lines",
         "name": "Rostgans",
         "type": "scatter",
         "x": [
          "2019",
          "2020",
          "2021",
          "2022"
         ],
         "xaxis": "x",
         "y": [
          0.034292477446615684,
          0.05307712133512305,
          0.13230100161001,
          0.07863930049625863
         ],
         "yaxis": "y"
        },
        {
         "mode": "lines",
         "name": "Flussuferläufer",
         "type": "scatter",
         "x": [
          "2019",
          "2020",
          "2021",
          "2022"
         ],
         "xaxis": "x",
         "y": [
          0.13034850381374466,
          0.18441390321043144,
          0.21483278744724796,
          0.06538254271961648
         ],
         "yaxis": "y"
        },
        {
         "mode": "lines",
         "name": "Bergente",
         "type": "scatter",
         "x": [
          "2019",
          "2020",
          "2021",
          "2022"
         ],
         "xaxis": "x",
         "y": [
          0.13833547538456387,
          0.3034027092142777,
          0.0470629730117756,
          0.1487983800864495
         ],
         "yaxis": "y"
        },
        {
         "mode": "lines",
         "name": "Berghänfling",
         "type": "scatter",
         "x": [
          "2019",
          "2020",
          "2021",
          "2022"
         ],
         "xaxis": "x",
         "y": [
          0.08015498701520805,
          0.04355680222987762,
          0.0767488013248344,
          0.08774247312803536
         ],
         "yaxis": "y"
        },
        {
         "mode": "lines",
         "name": "Sperlingskauz",
         "type": "scatter",
         "x": [
          "2019",
          "2020",
          "2021",
          "2022"
         ],
         "xaxis": "x",
         "y": [
          0.08667315169190083,
          0.16271637837126354,
          0.06372040740017774,
          0.03687551408497767
         ],
         "yaxis": "y"
        },
        {
         "mode": "lines",
         "name": "Dreizehenspecht",
         "type": "scatter",
         "x": [
          "2019",
          "2020",
          "2021",
          "2022"
         ],
         "xaxis": "x",
         "y": [
          0.000004471722794157249,
          0.04139218983226264,
          0.10208023622704403,
          0.0008146085505139827
         ],
         "yaxis": "y"
        },
        {
         "mode": "lines",
         "name": "Knäkente",
         "type": "scatter",
         "x": [
          "2019",
          "2020",
          "2021",
          "2022"
         ],
         "xaxis": "x",
         "y": [
          0.18523205058055395,
          0.11598282638865834,
          0.12689447693067318,
          0.2116938119308061
         ],
         "yaxis": "y"
        },
        {
         "mode": "lines",
         "name": "Auerhuhn",
         "type": "scatter",
         "x": [
          "2019",
          "2020",
          "2021",
          "2022"
         ],
         "xaxis": "x",
         "y": [
          4.872430742747306e-51,
          9.995942207061027e-12,
          3.173234920503885e-63,
          6.796277017759531e-62
         ],
         "yaxis": "y"
        },
        {
         "mode": "lines",
         "name": "Alpenschneehuhn",
         "type": "scatter",
         "x": [
          "2019",
          "2020",
          "2021",
          "2022"
         ],
         "xaxis": "x",
         "y": [
          0.14527172686334514,
          0.10748593263646561,
          0.11076970716455187,
          0.15406709824859116
         ],
         "yaxis": "y"
        },
        {
         "mode": "lines",
         "name": "Schwarzmilan",
         "type": "scatter",
         "x": [
          "2019",
          "2020",
          "2021",
          "2022"
         ],
         "xaxis": "x",
         "y": [
          0.05976339092536007,
          0.027617217803714032,
          0.040242144617492474,
          0.11330402897551091
         ],
         "yaxis": "y"
        },
        {
         "mode": "lines",
         "name": "Zitronenzeisig (Zitronengirlitz)",
         "type": "scatter",
         "x": [
          "2019",
          "2020",
          "2021",
          "2022"
         ],
         "xaxis": "x",
         "y": [
          0.26399058354606936,
          0.21873799967421628,
          0.15450889223700007,
          0.213333311249091
         ],
         "yaxis": "y"
        },
        {
         "mode": "lines",
         "name": "Steinschmätzer",
         "type": "scatter",
         "x": [
          "2019",
          "2020",
          "2021",
          "2022"
         ],
         "xaxis": "x",
         "y": [
          0.18502549154484565,
          0.11726101174210675,
          0.14937660801356162,
          0.030854057119678587
         ],
         "yaxis": "y"
        },
        {
         "mode": "lines",
         "name": "Braunkehlchen",
         "type": "scatter",
         "x": [
          "2019",
          "2020",
          "2021",
          "2022"
         ],
         "xaxis": "x",
         "y": [
          0.1017145045020252,
          0.11641252204929231,
          0.19054969233970503,
          0.10478156189099752
         ],
         "yaxis": "y"
        },
        {
         "mode": "lines",
         "name": "Gelbspötter",
         "type": "scatter",
         "x": [
          "2019",
          "2020",
          "2021",
          "2022"
         ],
         "xaxis": "x",
         "y": [
          0.23582045725120607,
          0.1577625543065746,
          0.19989678564617716,
          0.15560846321752128
         ],
         "yaxis": "y"
        },
        {
         "mode": "lines",
         "name": "Orpheusspötter",
         "type": "scatter",
         "x": [
          "2019",
          "2020",
          "2021",
          "2022"
         ],
         "xaxis": "x",
         "y": [
          0.16623653167673347,
          0.0788483261027085,
          0.15473456869371496,
          0.07163595814301595
         ],
         "yaxis": "y"
        },
        {
         "mode": "lines",
         "name": "Zwergohreule",
         "type": "scatter",
         "x": [
          "2019",
          "2020",
          "2021",
          "2022"
         ],
         "xaxis": "x",
         "y": [
          8.22349468337862e-16,
          0.0000011351662696751883,
          1.0929315147277824e-9,
          2.5019686146200893e-7
         ],
         "yaxis": "y"
        },
        {
         "mode": "lines",
         "name": "Karmingimpel",
         "type": "scatter",
         "x": [
          "2019",
          "2020",
          "2021",
          "2022"
         ],
         "xaxis": "x",
         "y": [
          0.2793290479341026,
          0.487140311236729,
          0.6246304445053643,
          0.31250950682100376
         ],
         "yaxis": "y"
        },
        {
         "mode": "lines",
         "name": "Gänsegeier",
         "type": "scatter",
         "x": [
          "2019",
          "2020",
          "2021",
          "2022"
         ],
         "xaxis": "x",
         "y": [
          0.133745311855868,
          0.12307591693919105,
          0.3174405515237669,
          0.2059907843208054
         ],
         "yaxis": "y"
        },
        {
         "mode": "lines",
         "name": "Haubentaucher",
         "type": "scatter",
         "x": [
          "2019",
          "2020",
          "2021",
          "2022"
         ],
         "xaxis": "x2",
         "y": [
          0.01553543151899497,
          0.038453585281061284,
          0.03549042464950804,
          0.06248843272345782
         ],
         "yaxis": "y2"
        },
        {
         "mode": "lines",
         "name": "Schwarzkehlchen",
         "type": "scatter",
         "x": [
          "2019",
          "2020",
          "2021",
          "2022"
         ],
         "xaxis": "x2",
         "y": [
          0.03438324117907351,
          0.039022601325837986,
          0.05376945508366158,
          0.06352552317321761
         ],
         "yaxis": "y2"
        },
        {
         "mode": "lines",
         "name": "Wiesenpieper",
         "type": "scatter",
         "x": [
          "2019",
          "2020",
          "2021",
          "2022"
         ],
         "xaxis": "x2",
         "y": [
          0.021536930966041277,
          0.12151728368339781,
          0.10115322465472494,
          0.05768620963780463
         ],
         "yaxis": "y2"
        },
        {
         "mode": "lines",
         "name": "Wasseramsel",
         "type": "scatter",
         "x": [
          "2019",
          "2020",
          "2021",
          "2022"
         ],
         "xaxis": "x2",
         "y": [
          0.05985022068437303,
          0.06080659886496909,
          0.05851973158447067,
          0.06130568213696749
         ],
         "yaxis": "y2"
        },
        {
         "mode": "lines",
         "name": "Rohrammer",
         "type": "scatter",
         "x": [
          "2019",
          "2020",
          "2021",
          "2022"
         ],
         "xaxis": "x2",
         "y": [
          0.017892455635388316,
          0.03239098586974499,
          0.047618186550486524,
          0.11005553393253219
         ],
         "yaxis": "y2"
        },
        {
         "mode": "lines",
         "name": "Mittelspecht",
         "type": "scatter",
         "x": [
          "2019",
          "2020",
          "2021",
          "2022"
         ],
         "xaxis": "x2",
         "y": [
          0.025343681929651266,
          0.03450038780178375,
          0.03786361720804658,
          0.07966124413737201
         ],
         "yaxis": "y2"
        },
        {
         "mode": "lines",
         "name": "Bergpieper",
         "type": "scatter",
         "x": [
          "2019",
          "2020",
          "2021",
          "2022"
         ],
         "xaxis": "x2",
         "y": [
          0.07402864806092135,
          0.07805194240184343,
          0.0708688506482094,
          0.07258177289849767
         ],
         "yaxis": "y2"
        },
        {
         "mode": "lines",
         "name": "Singschwan",
         "type": "scatter",
         "x": [
          "2019",
          "2020",
          "2021",
          "2022"
         ],
         "xaxis": "x2",
         "y": [
          0.1386524918756247,
          0.1916016344205121,
          0.0917187811248927,
          0.13342630599694766
         ],
         "yaxis": "y2"
        },
        {
         "mode": "lines",
         "name": "Seeadler",
         "type": "scatter",
         "x": [
          "2019",
          "2020",
          "2021",
          "2022"
         ],
         "xaxis": "x2",
         "y": [
          0.02624507908078949,
          0.03122556279577703,
          0.035420426533759944,
          0.07519072936660516
         ],
         "yaxis": "y2"
        },
        {
         "mode": "lines",
         "name": "Rostgans",
         "type": "scatter",
         "x": [
          "2019",
          "2020",
          "2021",
          "2022"
         ],
         "xaxis": "x2",
         "y": [
          0.06038902642572057,
          0.13449612404511851,
          0.10073405356195159,
          0.1157788555636528
         ],
         "yaxis": "y2"
        },
        {
         "mode": "lines",
         "name": "Flussuferläufer",
         "type": "scatter",
         "x": [
          "2019",
          "2020",
          "2021",
          "2022"
         ],
         "xaxis": "x2",
         "y": [
          0.03342119726500834,
          0.05143806375688496,
          0.024724712320856282,
          0.04110582181271533
         ],
         "yaxis": "y2"
        },
        {
         "mode": "lines",
         "name": "Bergente",
         "type": "scatter",
         "x": [
          "2019",
          "2020",
          "2021",
          "2022"
         ],
         "xaxis": "x2",
         "y": [
          0.13952036018261865,
          0.12328606218079263,
          0.1087460616712115,
          0.06401094802869321
         ],
         "yaxis": "y2"
        },
        {
         "mode": "lines",
         "name": "Berghänfling",
         "type": "scatter",
         "x": [
          "2019",
          "2020",
          "2021",
          "2022"
         ],
         "xaxis": "x2",
         "y": [
          0.12314693856047974,
          0.11417523739582777,
          0.22863644949731377,
          0.37092292150357264
         ],
         "yaxis": "y2"
        },
        {
         "mode": "lines",
         "name": "Sperlingskauz",
         "type": "scatter",
         "x": [
          "2019",
          "2020",
          "2021",
          "2022"
         ],
         "xaxis": "x2",
         "y": [
          0.06537515229191058,
          0.06903120015428221,
          0.1035034605989804,
          0.12829986003498722
         ],
         "yaxis": "y2"
        },
        {
         "mode": "lines",
         "name": "Dreizehenspecht",
         "type": "scatter",
         "x": [
          "2019",
          "2020",
          "2021",
          "2022"
         ],
         "xaxis": "x2",
         "y": [
          0.00003149932413031751,
          0.000007455786765721845,
          5.514682741746474e-11,
          7.80996429481771e-43
         ],
         "yaxis": "y2"
        },
        {
         "mode": "lines",
         "name": "Knäkente",
         "type": "scatter",
         "x": [
          "2019",
          "2020",
          "2021",
          "2022"
         ],
         "xaxis": "x2",
         "y": [
          0.07531034159518407,
          0.19759274010196354,
          0.08253863645540124,
          0.05604929312913203
         ],
         "yaxis": "y2"
        },
        {
         "mode": "lines",
         "name": "Auerhuhn",
         "type": "scatter",
         "x": [
          "2019",
          "2020",
          "2021",
          "2022"
         ],
         "xaxis": "x2",
         "y": [
          3.6670571489079384e-19,
          1.0477276790380783e-13,
          8.58742273006162e-23,
          6.130737445613935e-20
         ],
         "yaxis": "y2"
        },
        {
         "mode": "lines",
         "name": "Alpenschneehuhn",
         "type": "scatter",
         "x": [
          "2019",
          "2020",
          "2021",
          "2022"
         ],
         "xaxis": "x2",
         "y": [
          0.08808983311517031,
          0.1337103339525598,
          0.08556343751126667,
          0.24128952415443838
         ],
         "yaxis": "y2"
        },
        {
         "mode": "lines",
         "name": "Schwarzmilan",
         "type": "scatter",
         "x": [
          "2019",
          "2020",
          "2021",
          "2022"
         ],
         "xaxis": "x2",
         "y": [
          0.03346846111151032,
          0.015558539675510526,
          0.057618166205979066,
          0.10231286594941126
         ],
         "yaxis": "y2"
        },
        {
         "mode": "lines",
         "name": "Zitronenzeisig (Zitronengirlitz)",
         "type": "scatter",
         "x": [
          "2019",
          "2020",
          "2021",
          "2022"
         ],
         "xaxis": "x2",
         "y": [
          0.05296144352292212,
          0.15320731980557628,
          0.14115701658847526,
          0.4211139932701795
         ],
         "yaxis": "y2"
        },
        {
         "mode": "lines",
         "name": "Steinschmätzer",
         "type": "scatter",
         "x": [
          "2019",
          "2020",
          "2021",
          "2022"
         ],
         "xaxis": "x2",
         "y": [
          0.03538014111549006,
          0.040112578174632735,
          0.03218650141927656,
          0.05693054548791688
         ],
         "yaxis": "y2"
        },
        {
         "mode": "lines",
         "name": "Braunkehlchen",
         "type": "scatter",
         "x": [
          "2019",
          "2020",
          "2021",
          "2022"
         ],
         "xaxis": "x2",
         "y": [
          0.07455841303472967,
          0.051150074065643605,
          0.07375021317516715,
          0.039216357262473134
         ],
         "yaxis": "y2"
        },
        {
         "mode": "lines",
         "name": "Gelbspötter",
         "type": "scatter",
         "x": [
          "2019",
          "2020",
          "2021",
          "2022"
         ],
         "xaxis": "x2",
         "y": [
          0.04106865649845868,
          0.050390042137690695,
          0.026955432541260264,
          0.12376045493085837
         ],
         "yaxis": "y2"
        },
        {
         "mode": "lines",
         "name": "Orpheusspötter",
         "type": "scatter",
         "x": [
          "2019",
          "2020",
          "2021",
          "2022"
         ],
         "xaxis": "x2",
         "y": [
          0.12027962094452134,
          0.12318654116860198,
          0.18605606903146332,
          0.06146655246846791
         ],
         "yaxis": "y2"
        },
        {
         "mode": "lines",
         "name": "Zwergohreule",
         "type": "scatter",
         "x": [
          "2019",
          "2020",
          "2021",
          "2022"
         ],
         "xaxis": "x2",
         "y": [
          6.317690555478777e-11,
          4.1363999321568504e-10,
          1.042847953689653e-10,
          6.137868925756192e-8
         ],
         "yaxis": "y2"
        },
        {
         "mode": "lines",
         "name": "Karmingimpel",
         "type": "scatter",
         "x": [
          "2019",
          "2020",
          "2021",
          "2022"
         ],
         "xaxis": "x2",
         "y": [
          0.0909979413906913,
          0.04713784606441096,
          0.050868339786028755,
          0.1357565738996664
         ],
         "yaxis": "y2"
        },
        {
         "mode": "lines",
         "name": "Gänsegeier",
         "type": "scatter",
         "x": [
          "2019",
          "2020",
          "2021",
          "2022"
         ],
         "xaxis": "x2",
         "y": [
          0.09341992445465672,
          0.13844040442121022,
          0.18481170751744164,
          0.12145500678247671
         ],
         "yaxis": "y2"
        },
        {
         "mode": "lines",
         "name": "Haubentaucher",
         "type": "scatter",
         "x": [
          "2019",
          "2020",
          "2021",
          "2022"
         ],
         "xaxis": "x3",
         "y": [
          0.0409446072788296,
          0.01804760894103989,
          0.01911143622746413,
          0.015837286928311173
         ],
         "yaxis": "y3"
        },
        {
         "mode": "lines",
         "name": "Schwarzkehlchen",
         "type": "scatter",
         "x": [
          "2019",
          "2020",
          "2021",
          "2022"
         ],
         "xaxis": "x3",
         "y": [
          0.022368916724885973,
          0.02497156083681231,
          0.023118654656983616,
          0.05849049013072247
         ],
         "yaxis": "y3"
        },
        {
         "mode": "lines",
         "name": "Wiesenpieper",
         "type": "scatter",
         "x": [
          "2019",
          "2020",
          "2021",
          "2022"
         ],
         "xaxis": "x3",
         "y": [
          0.05526931664525894,
          0.07013524547305279,
          0.06764823433747572,
          0.06701349636784146
         ],
         "yaxis": "y3"
        },
        {
         "mode": "lines",
         "name": "Wasseramsel",
         "type": "scatter",
         "x": [
          "2019",
          "2020",
          "2021",
          "2022"
         ],
         "xaxis": "x3",
         "y": [
          0.04365350036813255,
          0.03723075695539558,
          0.07237194570015973,
          0.07639998435030135
         ],
         "yaxis": "y3"
        },
        {
         "mode": "lines",
         "name": "Rohrammer",
         "type": "scatter",
         "x": [
          "2019",
          "2020",
          "2021",
          "2022"
         ],
         "xaxis": "x3",
         "y": [
          0.025640880548034616,
          0.018777588000427826,
          0.03488932299005512,
          0.07018239959227254
         ],
         "yaxis": "y3"
        },
        {
         "mode": "lines",
         "name": "Mittelspecht",
         "type": "scatter",
         "x": [
          "2019",
          "2020",
          "2021",
          "2022"
         ],
         "xaxis": "x3",
         "y": [
          0.02571421588972954,
          0.02189242436885558,
          0.04187298872679212,
          0.08297483537647171
         ],
         "yaxis": "y3"
        },
        {
         "mode": "lines",
         "name": "Bergpieper",
         "type": "scatter",
         "x": [
          "2019",
          "2020",
          "2021",
          "2022"
         ],
         "xaxis": "x3",
         "y": [
          0.04678442778257202,
          0.05272515068429465,
          0.07440049719116712,
          0.07803456954162313
         ],
         "yaxis": "y3"
        },
        {
         "mode": "lines",
         "name": "Singschwan",
         "type": "scatter",
         "x": [
          "2019",
          "2020",
          "2021",
          "2022"
         ],
         "xaxis": "x3",
         "y": [
          0.09214854807391683,
          0.04706433309486834,
          0.025991090815675688,
          0.0597867187201411
         ],
         "yaxis": "y3"
        },
        {
         "mode": "lines",
         "name": "Seeadler",
         "type": "scatter",
         "x": [
          "2019",
          "2020",
          "2021",
          "2022"
         ],
         "xaxis": "x3",
         "y": [
          0.014374353683558704,
          0.037804893883617456,
          0.03421863798274017,
          0.06463451655680329
         ],
         "yaxis": "y3"
        },
        {
         "mode": "lines",
         "name": "Rostgans",
         "type": "scatter",
         "x": [
          "2019",
          "2020",
          "2021",
          "2022"
         ],
         "xaxis": "x3",
         "y": [
          0.04236162064799111,
          0.08521479660421334,
          0.11480406633957894,
          0.14926847245706837
         ],
         "yaxis": "y3"
        },
        {
         "mode": "lines",
         "name": "Flussuferläufer",
         "type": "scatter",
         "x": [
          "2019",
          "2020",
          "2021",
          "2022"
         ],
         "xaxis": "x3",
         "y": [
          0.05105152824893323,
          0.03522064121823079,
          0.07040651738906809,
          0.03817606579661872
         ],
         "yaxis": "y3"
        },
        {
         "mode": "lines",
         "name": "Bergente",
         "type": "scatter",
         "x": [
          "2019",
          "2020",
          "2021",
          "2022"
         ],
         "xaxis": "x3",
         "y": [
          0.24020137027286623,
          0.18921701927610354,
          0.1292659805382468,
          0.12750550001794964
         ],
         "yaxis": "y3"
        },
        {
         "mode": "lines",
         "name": "Berghänfling",
         "type": "scatter",
         "x": [
          "2019",
          "2020",
          "2021",
          "2022"
         ],
         "xaxis": "x3",
         "y": [
          0.14092024758085453,
          0.0706882360290663,
          0.07066844972863033,
          0.08362655392453278
         ],
         "yaxis": "y3"
        },
        {
         "mode": "lines",
         "name": "Sperlingskauz",
         "type": "scatter",
         "x": [
          "2019",
          "2020",
          "2021",
          "2022"
         ],
         "xaxis": "x3",
         "y": [
          0.04370354833927402,
          0.14064931664077207,
          0.08350074660804882,
          0.22361616697269104
         ],
         "yaxis": "y3"
        },
        {
         "mode": "lines",
         "name": "Dreizehenspecht",
         "type": "scatter",
         "x": [
          "2019",
          "2020",
          "2021",
          "2022"
         ],
         "xaxis": "x3",
         "y": [
          0.006182651428176372,
          4.5133325987016746e-10,
          1.4797378683462324e-12,
          1.7069260568558305e-22
         ],
         "yaxis": "y3"
        },
        {
         "mode": "lines",
         "name": "Knäkente",
         "type": "scatter",
         "x": [
          "2019",
          "2020",
          "2021",
          "2022"
         ],
         "xaxis": "x3",
         "y": [
          0.021264042765929567,
          0.09934108041845283,
          0.07073753715973179,
          0.09869483199664951
         ],
         "yaxis": "y3"
        },
        {
         "mode": "lines",
         "name": "Auerhuhn",
         "type": "scatter",
         "x": [
          "2019",
          "2020",
          "2021",
          "2022"
         ],
         "xaxis": "x3",
         "y": [
          4.242776584248502e-21,
          1.5654883549580165e-8,
          2.850799735074907e-29,
          1.08020424459021e-28
         ],
         "yaxis": "y3"
        },
        {
         "mode": "lines",
         "name": "Alpenschneehuhn",
         "type": "scatter",
         "x": [
          "2019",
          "2020",
          "2021",
          "2022"
         ],
         "xaxis": "x3",
         "y": [
          0.06561177924269615,
          0.12136089863956044,
          0.12034508891704969,
          0.19095741864451762
         ],
         "yaxis": "y3"
        },
        {
         "mode": "lines",
         "name": "Schwarzmilan",
         "type": "scatter",
         "x": [
          "2019",
          "2020",
          "2021",
          "2022"
         ],
         "xaxis": "x3",
         "y": [
          0.03895969533568835,
          0.044219403544808335,
          0.011199246586479607,
          0.04451234341055886
         ],
         "yaxis": "y3"
        },
        {
         "mode": "lines",
         "name": "Zitronenzeisig (Zitronengirlitz)",
         "type": "scatter",
         "x": [
          "2019",
          "2020",
          "2021",
          "2022"
         ],
         "xaxis": "x3",
         "y": [
          0.05524405836587306,
          0.19804172736878364,
          0.2067066460919552,
          0.26056340866954225
         ],
         "yaxis": "y3"
        },
        {
         "mode": "lines",
         "name": "Steinschmätzer",
         "type": "scatter",
         "x": [
          "2019",
          "2020",
          "2021",
          "2022"
         ],
         "xaxis": "x3",
         "y": [
          0.0643954727594762,
          0.0458193112767244,
          0.027296554755439965,
          0.030417174832845076
         ],
         "yaxis": "y3"
        },
        {
         "mode": "lines",
         "name": "Braunkehlchen",
         "type": "scatter",
         "x": [
          "2019",
          "2020",
          "2021",
          "2022"
         ],
         "xaxis": "x3",
         "y": [
          0.08537494990583547,
          0.09129393318663015,
          0.08934556849865537,
          0.09799017170753095
         ],
         "yaxis": "y3"
        },
        {
         "mode": "lines",
         "name": "Gelbspötter",
         "type": "scatter",
         "x": [
          "2019",
          "2020",
          "2021",
          "2022"
         ],
         "xaxis": "x3",
         "y": [
          0.06321805527948028,
          0.035887743720215255,
          0.046981555871338544,
          0.11198039431112769
         ],
         "yaxis": "y3"
        },
        {
         "mode": "lines",
         "name": "Orpheusspötter",
         "type": "scatter",
         "x": [
          "2019",
          "2020",
          "2021",
          "2022"
         ],
         "xaxis": "x3",
         "y": [
          0.059088424996614736,
          0.14436157102594513,
          0.07685503002356447,
          0.09128846189420474
         ],
         "yaxis": "y3"
        },
        {
         "mode": "lines",
         "name": "Zwergohreule",
         "type": "scatter",
         "x": [
          "2019",
          "2020",
          "2021",
          "2022"
         ],
         "xaxis": "x3",
         "y": [
          1.8369488300737276e-10,
          0.0000031919509116579223,
          3.9514567304014075e-10,
          4.599527285081996e-10
         ],
         "yaxis": "y3"
        },
        {
         "mode": "lines",
         "name": "Karmingimpel",
         "type": "scatter",
         "x": [
          "2019",
          "2020",
          "2021",
          "2022"
         ],
         "xaxis": "x3",
         "y": [
          0.07182267665850955,
          0.054223406359795806,
          0.17797083947179768,
          0.2405866444068838
         ],
         "yaxis": "y3"
        },
        {
         "mode": "lines",
         "name": "Gänsegeier",
         "type": "scatter",
         "x": [
          "2019",
          "2020",
          "2021",
          "2022"
         ],
         "xaxis": "x3",
         "y": [
          0.09673571993119509,
          0.11602002189131792,
          0.12183278713539421,
          0.5498448032103186
         ],
         "yaxis": "y3"
        },
        {
         "mode": "lines",
         "name": "Haubentaucher",
         "type": "scatter",
         "x": [
          "2019",
          "2020",
          "2021",
          "2022"
         ],
         "xaxis": "x4",
         "y": [
          0.006081031761772828,
          0.01443630008273728,
          0.00501858017440642,
          0.05319634688209953
         ],
         "yaxis": "y4"
        },
        {
         "mode": "lines",
         "name": "Schwarzkehlchen",
         "type": "scatter",
         "x": [
          "2019",
          "2020",
          "2021",
          "2022"
         ],
         "xaxis": "x4",
         "y": [
          0.018087670754297278,
          0.010031361895461804,
          0.014723435604469448,
          0.005826908965421879
         ],
         "yaxis": "y4"
        },
        {
         "mode": "lines",
         "name": "Wiesenpieper",
         "type": "scatter",
         "x": [
          "2019",
          "2020",
          "2021",
          "2022"
         ],
         "xaxis": "x4",
         "y": [
          0.008553843238579257,
          0.05534415843564853,
          0.00933047951681252,
          0.05513655132828402
         ],
         "yaxis": "y4"
        },
        {
         "mode": "lines",
         "name": "Wasseramsel",
         "type": "scatter",
         "x": [
          "2019",
          "2020",
          "2021",
          "2022"
         ],
         "xaxis": "x4",
         "y": [
          0.042603861793724655,
          0.006043833773873323,
          0.001410205911789702,
          0.007904212249539347
         ],
         "yaxis": "y4"
        },
        {
         "mode": "lines",
         "name": "Rohrammer",
         "type": "scatter",
         "x": [
          "2019",
          "2020",
          "2021",
          "2022"
         ],
         "xaxis": "x4",
         "y": [
          0.0005700425607810669,
          0.02277643632796037,
          0.005529157257749944,
          0.015574024967263851
         ],
         "yaxis": "y4"
        },
        {
         "mode": "lines",
         "name": "Mittelspecht",
         "type": "scatter",
         "x": [
          "2019",
          "2020",
          "2021",
          "2022"
         ],
         "xaxis": "x4",
         "y": [
          0.025296609269447833,
          0.06459904850302531,
          0.020262345025957782,
          0.013594787528846908
         ],
         "yaxis": "y4"
        },
        {
         "mode": "lines",
         "name": "Bergpieper",
         "type": "scatter",
         "x": [
          "2019",
          "2020",
          "2021",
          "2022"
         ],
         "xaxis": "x4",
         "y": [
          0.011302948271736647,
          0.01496194910979833,
          0.0018154239635526505,
          0.00400071673710283
         ],
         "yaxis": "y4"
        },
        {
         "mode": "lines",
         "name": "Singschwan",
         "type": "scatter",
         "x": [
          "2019",
          "2020",
          "2021",
          "2022"
         ],
         "xaxis": "x4",
         "y": [
          0.03939482743731702,
          0.0722714251672282,
          0.04156696663128035,
          0.03781063124487956
         ],
         "yaxis": "y4"
        },
        {
         "mode": "lines",
         "name": "Seeadler",
         "type": "scatter",
         "x": [
          "2019",
          "2020",
          "2021",
          "2022"
         ],
         "xaxis": "x4",
         "y": [
          0.0182302632057239,
          0.03969317952139798,
          0.003765649681495241,
          0.007490954525235994
         ],
         "yaxis": "y4"
        },
        {
         "mode": "lines",
         "name": "Rostgans",
         "type": "scatter",
         "x": [
          "2019",
          "2020",
          "2021",
          "2022"
         ],
         "xaxis": "x4",
         "y": [
          0.02282443240843983,
          0.004562798137904632,
          0.004429865506804025,
          0.021464701851667583
         ],
         "yaxis": "y4"
        },
        {
         "mode": "lines",
         "name": "Flussuferläufer",
         "type": "scatter",
         "x": [
          "2019",
          "2020",
          "2021",
          "2022"
         ],
         "xaxis": "x4",
         "y": [
          0.05078124005991291,
          0.060847847816544766,
          0.029814588883351777,
          0.0221102318628376
         ],
         "yaxis": "y4"
        },
        {
         "mode": "lines",
         "name": "Bergente",
         "type": "scatter",
         "x": [
          "2019",
          "2020",
          "2021",
          "2022"
         ],
         "xaxis": "x4",
         "y": [
          0.10627615077308797,
          0.13570384609880665,
          0.10196537760066778,
          0.0661196666471993
         ],
         "yaxis": "y4"
        },
        {
         "mode": "lines",
         "name": "Berghänfling",
         "type": "scatter",
         "x": [
          "2019",
          "2020",
          "2021",
          "2022"
         ],
         "xaxis": "x4",
         "y": [
          0.02108512198436961,
          0.026624525739168337,
          0.03459228772059537,
          0.07438832147324835
         ],
         "yaxis": "y4"
        },
        {
         "mode": "lines",
         "name": "Sperlingskauz",
         "type": "scatter",
         "x": [
          "2019",
          "2020",
          "2021",
          "2022"
         ],
         "xaxis": "x4",
         "y": [
          0.11689871044794037,
          0.08880392828060775,
          0.2127507077321517,
          0.2814790664925283
         ],
         "yaxis": "y4"
        },
        {
         "mode": "lines",
         "name": "Dreizehenspecht",
         "type": "scatter",
         "x": [
          "2019",
          "2020",
          "2021",
          "2022"
         ],
         "xaxis": "x4",
         "y": [
          0.0017195286781652012,
          0.02159252184849582,
          8.947489345784398e-7,
          9.195276017308355e-26
         ],
         "yaxis": "y4"
        },
        {
         "mode": "lines",
         "name": "Knäkente",
         "type": "scatter",
         "x": [
          "2019",
          "2020",
          "2021",
          "2022"
         ],
         "xaxis": "x4",
         "y": [
          0.01096327761172625,
          0.012517088191594009,
          0.024839421890271905,
          0.01970271466310541
         ],
         "yaxis": "y4"
        },
        {
         "mode": "lines",
         "name": "Auerhuhn",
         "type": "scatter",
         "x": [
          "2019",
          "2020",
          "2021",
          "2022"
         ],
         "xaxis": "x4",
         "y": [
          5.5455252832393646e-14,
          1.1473410783146868e-12,
          1.247263552485994e-18,
          1.3412478584071181e-12
         ],
         "yaxis": "y4"
        },
        {
         "mode": "lines",
         "name": "Alpenschneehuhn",
         "type": "scatter",
         "x": [
          "2019",
          "2020",
          "2021",
          "2022"
         ],
         "xaxis": "x4",
         "y": [
          0.04787700639676854,
          0.045955370421053715,
          0.08938599816017459,
          0.08147257716833435
         ],
         "yaxis": "y4"
        },
        {
         "mode": "lines",
         "name": "Schwarzmilan",
         "type": "scatter",
         "x": [
          "2019",
          "2020",
          "2021",
          "2022"
         ],
         "xaxis": "x4",
         "y": [
          0.010430626052167689,
          0.011917057229045964,
          0.011707300956718906,
          0.015086242255302744
         ],
         "yaxis": "y4"
        },
        {
         "mode": "lines",
         "name": "Zitronenzeisig (Zitronengirlitz)",
         "type": "scatter",
         "x": [
          "2019",
          "2020",
          "2021",
          "2022"
         ],
         "xaxis": "x4",
         "y": [
          0.07359176390950971,
          0.0387614102030278,
          0.09592905740817283,
          0.0834413150149936
         ],
         "yaxis": "y4"
        },
        {
         "mode": "lines",
         "name": "Steinschmätzer",
         "type": "scatter",
         "x": [
          "2019",
          "2020",
          "2021",
          "2022"
         ],
         "xaxis": "x4",
         "y": [
          0.09005334211561897,
          0.08219986904580401,
          0.004762552485002765,
          0.043175934098770276
         ],
         "yaxis": "y4"
        },
        {
         "mode": "lines",
         "name": "Braunkehlchen",
         "type": "scatter",
         "x": [
          "2019",
          "2020",
          "2021",
          "2022"
         ],
         "xaxis": "x4",
         "y": [
          0.012013597337708173,
          0.03773998967572223,
          0.012702741639101817,
          0.02152427861620501
         ],
         "yaxis": "y4"
        },
        {
         "mode": "lines",
         "name": "Gelbspötter",
         "type": "scatter",
         "x": [
          "2019",
          "2020",
          "2021",
          "2022"
         ],
         "xaxis": "x4",
         "y": [
          0.04131143057886068,
          0.04655384486000608,
          0.0412683913655857,
          0.08621347188481931
         ],
         "yaxis": "y4"
        },
        {
         "mode": "lines",
         "name": "Orpheusspötter",
         "type": "scatter",
         "x": [
          "2019",
          "2020",
          "2021",
          "2022"
         ],
         "xaxis": "x4",
         "y": [
          0.10231170482707037,
          0.0980685302606809,
          0.1346329335817671,
          0.09729844436959334
         ],
         "yaxis": "y4"
        },
        {
         "mode": "lines",
         "name": "Zwergohreule",
         "type": "scatter",
         "x": [
          "2019",
          "2020",
          "2021",
          "2022"
         ],
         "xaxis": "x4",
         "y": [
          1.6718679459628256e-11,
          0.015313665805543475,
          3.6193358268310056e-7,
          0.0000036427868212977173
         ],
         "yaxis": "y4"
        },
        {
         "mode": "lines",
         "name": "Karmingimpel",
         "type": "scatter",
         "x": [
          "2019",
          "2020",
          "2021",
          "2022"
         ],
         "xaxis": "x4",
         "y": [
          0.0329575604582127,
          0.02734831046772857,
          0.1709979120689318,
          0.06332012655646614
         ],
         "yaxis": "y4"
        },
        {
         "mode": "lines",
         "name": "Gänsegeier",
         "type": "scatter",
         "x": [
          "2019",
          "2020",
          "2021",
          "2022"
         ],
         "xaxis": "x4",
         "y": [
          0.17807422298863598,
          0.24449063098713295,
          0.21323499693318115,
          0.33100034559441116
         ],
         "yaxis": "y4"
        },
        {
         "mode": "lines",
         "name": "Haubentaucher",
         "type": "scatter",
         "x": [
          "2019",
          "2020",
          "2021",
          "2022"
         ],
         "xaxis": "x5",
         "y": [
          0.07003720798509637,
          0.09422124654231649,
          0.1039741918726882,
          0.12334888574804878
         ],
         "yaxis": "y5"
        },
        {
         "mode": "lines",
         "name": "Schwarzkehlchen",
         "type": "scatter",
         "x": [
          "2019",
          "2020",
          "2021",
          "2022"
         ],
         "xaxis": "x5",
         "y": [
          0.10331167801169895,
          0.12256375813710361,
          0.13326731278098283,
          0.135133710491964
         ],
         "yaxis": "y5"
        },
        {
         "mode": "lines",
         "name": "Wiesenpieper",
         "type": "scatter",
         "x": [
          "2019",
          "2020",
          "2021",
          "2022"
         ],
         "xaxis": "x5",
         "y": [
          0.09520121630819897,
          0.1363908198623865,
          0.1326197091232716,
          0.1341304620872032
         ],
         "yaxis": "y5"
        },
        {
         "mode": "lines",
         "name": "Wasseramsel",
         "type": "scatter",
         "x": [
          "2019",
          "2020",
          "2021",
          "2022"
         ],
         "xaxis": "x5",
         "y": [
          0.11036478585611241,
          0.12733167872739387,
          0.14691817183320138,
          0.17123423323701578
         ],
         "yaxis": "y5"
        },
        {
         "mode": "lines",
         "name": "Rohrammer",
         "type": "scatter",
         "x": [
          "2019",
          "2020",
          "2021",
          "2022"
         ],
         "xaxis": "x5",
         "y": [
          0.07097383585168908,
          0.10117545572873966,
          0.11272601313802798,
          0.12186102911109709
         ],
         "yaxis": "y5"
        },
        {
         "mode": "lines",
         "name": "Mittelspecht",
         "type": "scatter",
         "x": [
          "2019",
          "2020",
          "2021",
          "2022"
         ],
         "xaxis": "x5",
         "y": [
          0.10873318576637578,
          0.12307879507437114,
          0.15214321729853839,
          0.15686914015488082
         ],
         "yaxis": "y5"
        },
        {
         "mode": "lines",
         "name": "Bergpieper",
         "type": "scatter",
         "x": [
          "2019",
          "2020",
          "2021",
          "2022"
         ],
         "xaxis": "x5",
         "y": [
          0.12175401517553106,
          0.13152586777693723,
          0.14450302815417265,
          0.15719243162887947
         ],
         "yaxis": "y5"
        },
        {
         "mode": "lines",
         "name": "Singschwan",
         "type": "scatter",
         "x": [
          "2019",
          "2020",
          "2021",
          "2022"
         ],
         "xaxis": "x5",
         "y": [
          0.1422754469121482,
          0.18078568370494671,
          0.16617899280879492,
          0.18094995879025227
         ],
         "yaxis": "y5"
        },
        {
         "mode": "lines",
         "name": "Seeadler",
         "type": "scatter",
         "x": [
          "2019",
          "2020",
          "2021",
          "2022"
         ],
         "xaxis": "x5",
         "y": [
          0.08084467874676067,
          0.11468090903443788,
          0.11863272718878543,
          0.1535798793629568
         ],
         "yaxis": "y5"
        },
        {
         "mode": "lines",
         "name": "Rostgans",
         "type": "scatter",
         "x": [
          "2019",
          "2020",
          "2021",
          "2022"
         ],
         "xaxis": "x5",
         "y": [
          0.1298727999819459,
          0.1742755143310193,
          0.19522712873844403,
          0.2069325851552681
         ],
         "yaxis": "y5"
        },
        {
         "mode": "lines",
         "name": "Flussuferläufer",
         "type": "scatter",
         "x": [
          "2019",
          "2020",
          "2021",
          "2022"
         ],
         "xaxis": "x5",
         "y": [
          0.11707907099357873,
          0.12692283892396158,
          0.14209258330307284,
          0.13511321324287545
         ],
         "yaxis": "y5"
        },
        {
         "mode": "lines",
         "name": "Bergente",
         "type": "scatter",
         "x": [
          "2019",
          "2020",
          "2021",
          "2022"
         ],
         "xaxis": "x5",
         "y": [
          0.36084530545220334,
          0.3219684874240075,
          0.3085940698081096,
          0.3634660601187423
         ],
         "yaxis": "y5"
        },
        {
         "mode": "lines",
         "name": "Berghänfling",
         "type": "scatter",
         "x": [
          "2019",
          "2020",
          "2021",
          "2022"
         ],
         "xaxis": "x5",
         "y": [
          0.2706384886510456,
          0.25595680364850804,
          0.2344106122887795,
          0.31264061398389353
         ],
         "yaxis": "y5"
        },
        {
         "mode": "lines",
         "name": "Sperlingskauz",
         "type": "scatter",
         "x": [
          "2019",
          "2020",
          "2021",
          "2022"
         ],
         "xaxis": "x5",
         "y": [
          0.27368021882996324,
          0.2968717259842695,
          0.3553723582223234,
          0.36190830460476087
         ],
         "yaxis": "y5"
        },
        {
         "mode": "lines",
         "name": "Dreizehenspecht",
         "type": "scatter",
         "x": [
          "2019",
          "2020",
          "2021",
          "2022"
         ],
         "xaxis": "x5",
         "y": [
          0,
          0,
          0,
          0
         ],
         "yaxis": "y5"
        },
        {
         "mode": "lines",
         "name": "Knäkente",
         "type": "scatter",
         "x": [
          "2019",
          "2020",
          "2021",
          "2022"
         ],
         "xaxis": "x5",
         "y": [
          0.14027792597476713,
          0.18530157004978845,
          0.1736335111011891,
          0.149354891714244
         ],
         "yaxis": "y5"
        },
        {
         "mode": "lines",
         "name": "Auerhuhn",
         "type": "scatter",
         "x": [
          "2019",
          "2020",
          "2021",
          "2022"
         ],
         "xaxis": "x5",
         "y": [
          0,
          0,
          0,
          0
         ],
         "yaxis": "y5"
        },
        {
         "mode": "lines",
         "name": "Alpenschneehuhn",
         "type": "scatter",
         "x": [
          "2019",
          "2020",
          "2021",
          "2022"
         ],
         "xaxis": "x5",
         "y": [
          0.12516112171114546,
          0.15058827946955974,
          0.12453603109073783,
          0.13763856025046856
         ],
         "yaxis": "y5"
        },
        {
         "mode": "lines",
         "name": "Schwarzmilan",
         "type": "scatter",
         "x": [
          "2019",
          "2020",
          "2021",
          "2022"
         ],
         "xaxis": "x5",
         "y": [
          0.07310381000688544,
          0.09079282983612476,
          0.09364662416149071,
          0.0985920341958996
         ],
         "yaxis": "y5"
        },
        {
         "mode": "lines",
         "name": "Zitronenzeisig (Zitronengirlitz)",
         "type": "scatter",
         "x": [
          "2019",
          "2020",
          "2021",
          "2022"
         ],
         "xaxis": "x5",
         "y": [
          0.12618068519751163,
          0.14713742758971504,
          0.15189928486018198,
          0.20965630779623612
         ],
         "yaxis": "y5"
        },
        {
         "mode": "lines",
         "name": "Steinschmätzer",
         "type": "scatter",
         "x": [
          "2019",
          "2020",
          "2021",
          "2022"
         ],
         "xaxis": "x5",
         "y": [
          0.15315052348231298,
          0.12728996669046427,
          0.12574279898278581,
          0.12683955469956806
         ],
         "yaxis": "y5"
        },
        {
         "mode": "lines",
         "name": "Braunkehlchen",
         "type": "scatter",
         "x": [
          "2019",
          "2020",
          "2021",
          "2022"
         ],
         "xaxis": "x5",
         "y": [
          0.15903094819814645,
          0.17378152506483216,
          0.1763025391974858,
          0.1771159993665048
         ],
         "yaxis": "y5"
        },
        {
         "mode": "lines",
         "name": "Gelbspötter",
         "type": "scatter",
         "x": [
          "2019",
          "2020",
          "2021",
          "2022"
         ],
         "xaxis": "x5",
         "y": [
          0.14119478174305072,
          0.14370044753615083,
          0.147061128402953,
          0.1758879323252775
         ],
         "yaxis": "y5"
        },
        {
         "mode": "lines",
         "name": "Orpheusspötter",
         "type": "scatter",
         "x": [
          "2019",
          "2020",
          "2021",
          "2022"
         ],
         "xaxis": "x5",
         "y": [
          0.23951508069205912,
          0.19997191004180648,
          0.2505535133623168,
          0.21740367067849936
         ],
         "yaxis": "y5"
        },
        {
         "mode": "lines",
         "name": "Zwergohreule",
         "type": "scatter",
         "x": [
          "2019",
          "2020",
          "2021",
          "2022"
         ],
         "xaxis": "x5",
         "y": [
          0,
          0,
          0,
          0
         ],
         "yaxis": "y5"
        },
        {
         "mode": "lines",
         "name": "Karmingimpel",
         "type": "scatter",
         "x": [
          "2019",
          "2020",
          "2021",
          "2022"
         ],
         "xaxis": "x5",
         "y": [
          0.2773038251186252,
          0.28729804678852955,
          0.32361801425235887,
          0.3493343740494244
         ],
         "yaxis": "y5"
        },
        {
         "mode": "lines",
         "name": "Gänsegeier",
         "type": "scatter",
         "x": [
          "2019",
          "2020",
          "2021",
          "2022"
         ],
         "xaxis": "x5",
         "y": [
          0.1759529806769317,
          0.17485981306968595,
          0.18889832656719974,
          0.28267236988758043
         ],
         "yaxis": "y5"
        },
        {
         "mode": "lines",
         "name": "Haubentaucher",
         "type": "scatter",
         "x": [
          "2019",
          "2020",
          "2021",
          "2022"
         ],
         "xaxis": "x6",
         "y": [
          0.011144194532928767,
          0.018900379878550738,
          0.02255825875200722,
          0.025033932477962734
         ],
         "yaxis": "y6"
        },
        {
         "mode": "lines",
         "name": "Schwarzkehlchen",
         "type": "scatter",
         "x": [
          "2019",
          "2020",
          "2021",
          "2022"
         ],
         "xaxis": "x6",
         "y": [
          0.023690397233515948,
          0.03906091318635187,
          0.04086967109561945,
          0.04780002887888018
         ],
         "yaxis": "y6"
        },
        {
         "mode": "lines",
         "name": "Wiesenpieper",
         "type": "scatter",
         "x": [
          "2019",
          "2020",
          "2021",
          "2022"
         ],
         "xaxis": "x6",
         "y": [
          0.020738075517776115,
          0.047828871479061834,
          0.035919228683331424,
          0.030672780297449926
         ],
         "yaxis": "y6"
        },
        {
         "mode": "lines",
         "name": "Wasseramsel",
         "type": "scatter",
         "x": [
          "2019",
          "2020",
          "2021",
          "2022"
         ],
         "xaxis": "x6",
         "y": [
          0.016399243209030516,
          0.018220122269410572,
          0.008238953579537389,
          0.012324545655525435
         ],
         "yaxis": "y6"
        },
        {
         "mode": "lines",
         "name": "Rohrammer",
         "type": "scatter",
         "x": [
          "2019",
          "2020",
          "2021",
          "2022"
         ],
         "xaxis": "x6",
         "y": [
          0.017029910352610717,
          0.029014281974681224,
          0.02996352774538048,
          0.027092293440050402
         ],
         "yaxis": "y6"
        },
        {
         "mode": "lines",
         "name": "Mittelspecht",
         "type": "scatter",
         "x": [
          "2019",
          "2020",
          "2021",
          "2022"
         ],
         "xaxis": "x6",
         "y": [
          0.023496383309659537,
          0.026129618408057838,
          0.05162432583060204,
          0.03792490139541303
         ],
         "yaxis": "y6"
        },
        {
         "mode": "lines",
         "name": "Bergpieper",
         "type": "scatter",
         "x": [
          "2019",
          "2020",
          "2021",
          "2022"
         ],
         "xaxis": "x6",
         "y": [
          0.03681216465580778,
          0.03443492242223951,
          0.052551834226816654,
          0.04092124828758479
         ],
         "yaxis": "y6"
        },
        {
         "mode": "lines",
         "name": "Singschwan",
         "type": "scatter",
         "x": [
          "2019",
          "2020",
          "2021",
          "2022"
         ],
         "xaxis": "x6",
         "y": [
          0.03030872330111441,
          0.04056971763648848,
          0.0219244381139744,
          0.030228531722014253
         ],
         "yaxis": "y6"
        },
        {
         "mode": "lines",
         "name": "Seeadler",
         "type": "scatter",
         "x": [
          "2019",
          "2020",
          "2021",
          "2022"
         ],
         "xaxis": "x6",
         "y": [
          0.017729675064984816,
          0.019685763173621834,
          0.018345199873539008,
          0.015190192223122696
         ],
         "yaxis": "y6"
        },
        {
         "mode": "lines",
         "name": "Rostgans",
         "type": "scatter",
         "x": [
          "2019",
          "2020",
          "2021",
          "2022"
         ],
         "xaxis": "x6",
         "y": [
          0.032275199144291715,
          0.05121401843047976,
          0.06603779102810935,
          0.0628449949298381
         ],
         "yaxis": "y6"
        },
        {
         "mode": "lines",
         "name": "Flussuferläufer",
         "type": "scatter",
         "x": [
          "2019",
          "2020",
          "2021",
          "2022"
         ],
         "xaxis": "x6",
         "y": [
          0.021468426430937913,
          0.029414478583889733,
          0.05443520796904779,
          0.03299803512449467
         ],
         "yaxis": "y6"
        },
        {
         "mode": "lines",
         "name": "Bergente",
         "type": "scatter",
         "x": [
          "2019",
          "2020",
          "2021",
          "2022"
         ],
         "xaxis": "x6",
         "y": [
          0.03667495548263218,
          0.045847285370324446,
          0.0463638791529622,
          0.050931256892764475
         ],
         "yaxis": "y6"
        },
        {
         "mode": "lines",
         "name": "Berghänfling",
         "type": "scatter",
         "x": [
          "2019",
          "2020",
          "2021",
          "2022"
         ],
         "xaxis": "x6",
         "y": [
          0.11371501928297044,
          0.13416540430803908,
          0.1564253489897128,
          0.13012459642558058
         ],
         "yaxis": "y6"
        },
        {
         "mode": "lines",
         "name": "Sperlingskauz",
         "type": "scatter",
         "x": [
          "2019",
          "2020",
          "2021",
          "2022"
         ],
         "xaxis": "x6",
         "y": [
          0.024663877772769717,
          0.032231091831779156,
          0.06263951286545916,
          0.06963131541485568
         ],
         "yaxis": "y6"
        },
        {
         "mode": "lines",
         "name": "Dreizehenspecht",
         "type": "scatter",
         "x": [
          "2019",
          "2020",
          "2021",
          "2022"
         ],
         "xaxis": "x6",
         "y": [
          0.631518185002598,
          0.012085491633838586,
          0.00009607142820296235,
          1.722587628832967e-24
         ],
         "yaxis": "y6"
        },
        {
         "mode": "lines",
         "name": "Knäkente",
         "type": "scatter",
         "x": [
          "2019",
          "2020",
          "2021",
          "2022"
         ],
         "xaxis": "x6",
         "y": [
          0.013372130844519273,
          0.02634658542517676,
          0.02297640152095734,
          0.01863564409972139
         ],
         "yaxis": "y6"
        },
        {
         "mode": "lines",
         "name": "Auerhuhn",
         "type": "scatter",
         "x": [
          "2019",
          "2020",
          "2021",
          "2022"
         ],
         "xaxis": "x6",
         "y": [
          0.0715131366155419,
          3.2538521751467035e-10,
          0,
          0
         ],
         "yaxis": "y6"
        },
        {
         "mode": "lines",
         "name": "Alpenschneehuhn",
         "type": "scatter",
         "x": [
          "2019",
          "2020",
          "2021",
          "2022"
         ],
         "xaxis": "x6",
         "y": [
          0.0578631337427303,
          0.035351138879000536,
          0.03268611771371577,
          0.026307152734561738
         ],
         "yaxis": "y6"
        },
        {
         "mode": "lines",
         "name": "Schwarzmilan",
         "type": "scatter",
         "x": [
          "2019",
          "2020",
          "2021",
          "2022"
         ],
         "xaxis": "x6",
         "y": [
          0.02085823115974735,
          0.03633896429702799,
          0.046602467260103815,
          0.023482449813580525
         ],
         "yaxis": "y6"
        },
        {
         "mode": "lines",
         "name": "Zitronenzeisig (Zitronengirlitz)",
         "type": "scatter",
         "x": [
          "2019",
          "2020",
          "2021",
          "2022"
         ],
         "xaxis": "x6",
         "y": [
          0.030843873676417416,
          0.030038228487892876,
          0.056288867511202934,
          0.04541525106880587
         ],
         "yaxis": "y6"
        },
        {
         "mode": "lines",
         "name": "Steinschmätzer",
         "type": "scatter",
         "x": [
          "2019",
          "2020",
          "2021",
          "2022"
         ],
         "xaxis": "x6",
         "y": [
          0.057372020770731495,
          0.05279795007047751,
          0.054328430649683505,
          0.02601463050509332
         ],
         "yaxis": "y6"
        },
        {
         "mode": "lines",
         "name": "Braunkehlchen",
         "type": "scatter",
         "x": [
          "2019",
          "2020",
          "2021",
          "2022"
         ],
         "xaxis": "x6",
         "y": [
          0.018530562985757695,
          0.008815842772037357,
          0.007596336305488546,
          0.01400725612392452
         ],
         "yaxis": "y6"
        },
        {
         "mode": "lines",
         "name": "Gelbspötter",
         "type": "scatter",
         "x": [
          "2019",
          "2020",
          "2021",
          "2022"
         ],
         "xaxis": "x6",
         "y": [
          0.04535265636892694,
          0.03148181485314656,
          0.05246792987110489,
          0.044724705300788745
         ],
         "yaxis": "y6"
        },
        {
         "mode": "lines",
         "name": "Orpheusspötter",
         "type": "scatter",
         "x": [
          "2019",
          "2020",
          "2021",
          "2022"
         ],
         "xaxis": "x6",
         "y": [
          0.028656498548397084,
          0.041419031191571275,
          0.025632651161010635,
          0.02539646855975023
         ],
         "yaxis": "y6"
        },
        {
         "mode": "lines",
         "name": "Zwergohreule",
         "type": "scatter",
         "x": [
          "2019",
          "2020",
          "2021",
          "2022"
         ],
         "xaxis": "x6",
         "y": [
          0.06487741121462254,
          2.9527935307519184e-51,
          2.4615031011152525e-58,
          1.952552652947033e-47
         ],
         "yaxis": "y6"
        },
        {
         "mode": "lines",
         "name": "Karmingimpel",
         "type": "scatter",
         "x": [
          "2019",
          "2020",
          "2021",
          "2022"
         ],
         "xaxis": "x6",
         "y": [
          0.04520893422303897,
          0.045799166146682606,
          0.04087116688327942,
          0.05840270470522331
         ],
         "yaxis": "y6"
        },
        {
         "mode": "lines",
         "name": "Gänsegeier",
         "type": "scatter",
         "x": [
          "2019",
          "2020",
          "2021",
          "2022"
         ],
         "xaxis": "x6",
         "y": [
          0.054176391364187386,
          0.06122555889579156,
          0.06762671974864015,
          0.0980468157118625
         ],
         "yaxis": "y6"
        }
       ],
       "layout": {
        "annotations": [
         {
          "font": {
           "size": 16
          },
          "showarrow": false,
          "text": "date",
          "x": 0.225,
          "xanchor": "center",
          "xref": "paper",
          "y": 1,
          "yanchor": "bottom",
          "yref": "paper"
         },
         {
          "font": {
           "size": 16
          },
          "showarrow": false,
          "text": "coord_lat",
          "x": 0.775,
          "xanchor": "center",
          "xref": "paper",
          "y": 1,
          "yanchor": "bottom",
          "yref": "paper"
         },
         {
          "font": {
           "size": 16
          },
          "showarrow": false,
          "text": "coord_lon",
          "x": 0.225,
          "xanchor": "center",
          "xref": "paper",
          "y": 0.6111111111111112,
          "yanchor": "bottom",
          "yref": "paper"
         },
         {
          "font": {
           "size": 16
          },
          "showarrow": false,
          "text": "altitude",
          "x": 0.775,
          "xanchor": "center",
          "xref": "paper",
          "y": 0.6111111111111112,
          "yanchor": "bottom",
          "yref": "paper"
         },
         {
          "font": {
           "size": 16
          },
          "showarrow": false,
          "text": "eea_grid_id",
          "x": 0.225,
          "xanchor": "center",
          "xref": "paper",
          "y": 0.22222222222222224,
          "yanchor": "bottom",
          "yref": "paper"
         },
         {
          "font": {
           "size": 16
          },
          "showarrow": false,
          "text": "land_cover",
          "x": 0.775,
          "xanchor": "center",
          "xref": "paper",
          "y": 0.22222222222222224,
          "yanchor": "bottom",
          "yref": "paper"
         }
        ],
        "font": {
         "color": "#4d5f81",
         "family": "Aleo",
         "size": 10
        },
        "height": 800,
        "legend": {
         "title": {
          "text": "species name"
         }
        },
        "template": {
         "data": {
          "bar": [
           {
            "error_x": {
             "color": "#2a3f5f"
            },
            "error_y": {
             "color": "#2a3f5f"
            },
            "marker": {
             "line": {
              "color": "#E5ECF6",
              "width": 0.5
             },
             "pattern": {
              "fillmode": "overlay",
              "size": 10,
              "solidity": 0.2
             }
            },
            "type": "bar"
           }
          ],
          "barpolar": [
           {
            "marker": {
             "line": {
              "color": "#E5ECF6",
              "width": 0.5
             },
             "pattern": {
              "fillmode": "overlay",
              "size": 10,
              "solidity": 0.2
             }
            },
            "type": "barpolar"
           }
          ],
          "carpet": [
           {
            "aaxis": {
             "endlinecolor": "#2a3f5f",
             "gridcolor": "white",
             "linecolor": "white",
             "minorgridcolor": "white",
             "startlinecolor": "#2a3f5f"
            },
            "baxis": {
             "endlinecolor": "#2a3f5f",
             "gridcolor": "white",
             "linecolor": "white",
             "minorgridcolor": "white",
             "startlinecolor": "#2a3f5f"
            },
            "type": "carpet"
           }
          ],
          "choropleth": [
           {
            "colorbar": {
             "outlinewidth": 0,
             "ticks": ""
            },
            "type": "choropleth"
           }
          ],
          "contour": [
           {
            "colorbar": {
             "outlinewidth": 0,
             "ticks": ""
            },
            "colorscale": [
             [
              0,
              "#0d0887"
             ],
             [
              0.1111111111111111,
              "#46039f"
             ],
             [
              0.2222222222222222,
              "#7201a8"
             ],
             [
              0.3333333333333333,
              "#9c179e"
             ],
             [
              0.4444444444444444,
              "#bd3786"
             ],
             [
              0.5555555555555556,
              "#d8576b"
             ],
             [
              0.6666666666666666,
              "#ed7953"
             ],
             [
              0.7777777777777778,
              "#fb9f3a"
             ],
             [
              0.8888888888888888,
              "#fdca26"
             ],
             [
              1,
              "#f0f921"
             ]
            ],
            "type": "contour"
           }
          ],
          "contourcarpet": [
           {
            "colorbar": {
             "outlinewidth": 0,
             "ticks": ""
            },
            "type": "contourcarpet"
           }
          ],
          "heatmap": [
           {
            "colorbar": {
             "outlinewidth": 0,
             "ticks": ""
            },
            "colorscale": [
             [
              0,
              "#0d0887"
             ],
             [
              0.1111111111111111,
              "#46039f"
             ],
             [
              0.2222222222222222,
              "#7201a8"
             ],
             [
              0.3333333333333333,
              "#9c179e"
             ],
             [
              0.4444444444444444,
              "#bd3786"
             ],
             [
              0.5555555555555556,
              "#d8576b"
             ],
             [
              0.6666666666666666,
              "#ed7953"
             ],
             [
              0.7777777777777778,
              "#fb9f3a"
             ],
             [
              0.8888888888888888,
              "#fdca26"
             ],
             [
              1,
              "#f0f921"
             ]
            ],
            "type": "heatmap"
           }
          ],
          "heatmapgl": [
           {
            "colorbar": {
             "outlinewidth": 0,
             "ticks": ""
            },
            "colorscale": [
             [
              0,
              "#0d0887"
             ],
             [
              0.1111111111111111,
              "#46039f"
             ],
             [
              0.2222222222222222,
              "#7201a8"
             ],
             [
              0.3333333333333333,
              "#9c179e"
             ],
             [
              0.4444444444444444,
              "#bd3786"
             ],
             [
              0.5555555555555556,
              "#d8576b"
             ],
             [
              0.6666666666666666,
              "#ed7953"
             ],
             [
              0.7777777777777778,
              "#fb9f3a"
             ],
             [
              0.8888888888888888,
              "#fdca26"
             ],
             [
              1,
              "#f0f921"
             ]
            ],
            "type": "heatmapgl"
           }
          ],
          "histogram": [
           {
            "marker": {
             "pattern": {
              "fillmode": "overlay",
              "size": 10,
              "solidity": 0.2
             }
            },
            "type": "histogram"
           }
          ],
          "histogram2d": [
           {
            "colorbar": {
             "outlinewidth": 0,
             "ticks": ""
            },
            "colorscale": [
             [
              0,
              "#0d0887"
             ],
             [
              0.1111111111111111,
              "#46039f"
             ],
             [
              0.2222222222222222,
              "#7201a8"
             ],
             [
              0.3333333333333333,
              "#9c179e"
             ],
             [
              0.4444444444444444,
              "#bd3786"
             ],
             [
              0.5555555555555556,
              "#d8576b"
             ],
             [
              0.6666666666666666,
              "#ed7953"
             ],
             [
              0.7777777777777778,
              "#fb9f3a"
             ],
             [
              0.8888888888888888,
              "#fdca26"
             ],
             [
              1,
              "#f0f921"
             ]
            ],
            "type": "histogram2d"
           }
          ],
          "histogram2dcontour": [
           {
            "colorbar": {
             "outlinewidth": 0,
             "ticks": ""
            },
            "colorscale": [
             [
              0,
              "#0d0887"
             ],
             [
              0.1111111111111111,
              "#46039f"
             ],
             [
              0.2222222222222222,
              "#7201a8"
             ],
             [
              0.3333333333333333,
              "#9c179e"
             ],
             [
              0.4444444444444444,
              "#bd3786"
             ],
             [
              0.5555555555555556,
              "#d8576b"
             ],
             [
              0.6666666666666666,
              "#ed7953"
             ],
             [
              0.7777777777777778,
              "#fb9f3a"
             ],
             [
              0.8888888888888888,
              "#fdca26"
             ],
             [
              1,
              "#f0f921"
             ]
            ],
            "type": "histogram2dcontour"
           }
          ],
          "mesh3d": [
           {
            "colorbar": {
             "outlinewidth": 0,
             "ticks": ""
            },
            "type": "mesh3d"
           }
          ],
          "parcoords": [
           {
            "line": {
             "colorbar": {
              "outlinewidth": 0,
              "ticks": ""
             }
            },
            "type": "parcoords"
           }
          ],
          "pie": [
           {
            "automargin": true,
            "type": "pie"
           }
          ],
          "scatter": [
           {
            "fillpattern": {
             "fillmode": "overlay",
             "size": 10,
             "solidity": 0.2
            },
            "type": "scatter"
           }
          ],
          "scatter3d": [
           {
            "line": {
             "colorbar": {
              "outlinewidth": 0,
              "ticks": ""
             }
            },
            "marker": {
             "colorbar": {
              "outlinewidth": 0,
              "ticks": ""
             }
            },
            "type": "scatter3d"
           }
          ],
          "scattercarpet": [
           {
            "marker": {
             "colorbar": {
              "outlinewidth": 0,
              "ticks": ""
             }
            },
            "type": "scattercarpet"
           }
          ],
          "scattergeo": [
           {
            "marker": {
             "colorbar": {
              "outlinewidth": 0,
              "ticks": ""
             }
            },
            "type": "scattergeo"
           }
          ],
          "scattergl": [
           {
            "marker": {
             "colorbar": {
              "outlinewidth": 0,
              "ticks": ""
             }
            },
            "type": "scattergl"
           }
          ],
          "scattermapbox": [
           {
            "marker": {
             "colorbar": {
              "outlinewidth": 0,
              "ticks": ""
             }
            },
            "type": "scattermapbox"
           }
          ],
          "scatterpolar": [
           {
            "marker": {
             "colorbar": {
              "outlinewidth": 0,
              "ticks": ""
             }
            },
            "type": "scatterpolar"
           }
          ],
          "scatterpolargl": [
           {
            "marker": {
             "colorbar": {
              "outlinewidth": 0,
              "ticks": ""
             }
            },
            "type": "scatterpolargl"
           }
          ],
          "scatterternary": [
           {
            "marker": {
             "colorbar": {
              "outlinewidth": 0,
              "ticks": ""
             }
            },
            "type": "scatterternary"
           }
          ],
          "surface": [
           {
            "colorbar": {
             "outlinewidth": 0,
             "ticks": ""
            },
            "colorscale": [
             [
              0,
              "#0d0887"
             ],
             [
              0.1111111111111111,
              "#46039f"
             ],
             [
              0.2222222222222222,
              "#7201a8"
             ],
             [
              0.3333333333333333,
              "#9c179e"
             ],
             [
              0.4444444444444444,
              "#bd3786"
             ],
             [
              0.5555555555555556,
              "#d8576b"
             ],
             [
              0.6666666666666666,
              "#ed7953"
             ],
             [
              0.7777777777777778,
              "#fb9f3a"
             ],
             [
              0.8888888888888888,
              "#fdca26"
             ],
             [
              1,
              "#f0f921"
             ]
            ],
            "type": "surface"
           }
          ],
          "table": [
           {
            "cells": {
             "fill": {
              "color": "#EBF0F8"
             },
             "line": {
              "color": "white"
             }
            },
            "header": {
             "fill": {
              "color": "#C8D4E3"
             },
             "line": {
              "color": "white"
             }
            },
            "type": "table"
           }
          ]
         },
         "layout": {
          "annotationdefaults": {
           "arrowcolor": "#2a3f5f",
           "arrowhead": 0,
           "arrowwidth": 1
          },
          "autotypenumbers": "strict",
          "coloraxis": {
           "colorbar": {
            "outlinewidth": 0,
            "ticks": ""
           }
          },
          "colorscale": {
           "diverging": [
            [
             0,
             "#8e0152"
            ],
            [
             0.1,
             "#c51b7d"
            ],
            [
             0.2,
             "#de77ae"
            ],
            [
             0.3,
             "#f1b6da"
            ],
            [
             0.4,
             "#fde0ef"
            ],
            [
             0.5,
             "#f7f7f7"
            ],
            [
             0.6,
             "#e6f5d0"
            ],
            [
             0.7,
             "#b8e186"
            ],
            [
             0.8,
             "#7fbc41"
            ],
            [
             0.9,
             "#4d9221"
            ],
            [
             1,
             "#276419"
            ]
           ],
           "sequential": [
            [
             0,
             "#0d0887"
            ],
            [
             0.1111111111111111,
             "#46039f"
            ],
            [
             0.2222222222222222,
             "#7201a8"
            ],
            [
             0.3333333333333333,
             "#9c179e"
            ],
            [
             0.4444444444444444,
             "#bd3786"
            ],
            [
             0.5555555555555556,
             "#d8576b"
            ],
            [
             0.6666666666666666,
             "#ed7953"
            ],
            [
             0.7777777777777778,
             "#fb9f3a"
            ],
            [
             0.8888888888888888,
             "#fdca26"
            ],
            [
             1,
             "#f0f921"
            ]
           ],
           "sequentialminus": [
            [
             0,
             "#0d0887"
            ],
            [
             0.1111111111111111,
             "#46039f"
            ],
            [
             0.2222222222222222,
             "#7201a8"
            ],
            [
             0.3333333333333333,
             "#9c179e"
            ],
            [
             0.4444444444444444,
             "#bd3786"
            ],
            [
             0.5555555555555556,
             "#d8576b"
            ],
            [
             0.6666666666666666,
             "#ed7953"
            ],
            [
             0.7777777777777778,
             "#fb9f3a"
            ],
            [
             0.8888888888888888,
             "#fdca26"
            ],
            [
             1,
             "#f0f921"
            ]
           ]
          },
          "colorway": [
           "#636efa",
           "#EF553B",
           "#00cc96",
           "#ab63fa",
           "#FFA15A",
           "#19d3f3",
           "#FF6692",
           "#B6E880",
           "#FF97FF",
           "#FECB52"
          ],
          "font": {
           "color": "#2a3f5f"
          },
          "geo": {
           "bgcolor": "white",
           "lakecolor": "white",
           "landcolor": "#E5ECF6",
           "showlakes": true,
           "showland": true,
           "subunitcolor": "white"
          },
          "hoverlabel": {
           "align": "left"
          },
          "hovermode": "closest",
          "mapbox": {
           "style": "light"
          },
          "paper_bgcolor": "white",
          "plot_bgcolor": "#E5ECF6",
          "polar": {
           "angularaxis": {
            "gridcolor": "white",
            "linecolor": "white",
            "ticks": ""
           },
           "bgcolor": "#E5ECF6",
           "radialaxis": {
            "gridcolor": "white",
            "linecolor": "white",
            "ticks": ""
           }
          },
          "scene": {
           "xaxis": {
            "backgroundcolor": "#E5ECF6",
            "gridcolor": "white",
            "gridwidth": 2,
            "linecolor": "white",
            "showbackground": true,
            "ticks": "",
            "zerolinecolor": "white"
           },
           "yaxis": {
            "backgroundcolor": "#E5ECF6",
            "gridcolor": "white",
            "gridwidth": 2,
            "linecolor": "white",
            "showbackground": true,
            "ticks": "",
            "zerolinecolor": "white"
           },
           "zaxis": {
            "backgroundcolor": "#E5ECF6",
            "gridcolor": "white",
            "gridwidth": 2,
            "linecolor": "white",
            "showbackground": true,
            "ticks": "",
            "zerolinecolor": "white"
           }
          },
          "shapedefaults": {
           "line": {
            "color": "#2a3f5f"
           }
          },
          "ternary": {
           "aaxis": {
            "gridcolor": "white",
            "linecolor": "white",
            "ticks": ""
           },
           "baxis": {
            "gridcolor": "white",
            "linecolor": "white",
            "ticks": ""
           },
           "bgcolor": "#E5ECF6",
           "caxis": {
            "gridcolor": "white",
            "linecolor": "white",
            "ticks": ""
           }
          },
          "title": {
           "x": 0.05
          },
          "xaxis": {
           "automargin": true,
           "gridcolor": "white",
           "linecolor": "white",
           "ticks": "",
           "title": {
            "standoff": 15
           },
           "zerolinecolor": "white",
           "zerolinewidth": 2
          },
          "yaxis": {
           "automargin": true,
           "gridcolor": "white",
           "linecolor": "white",
           "ticks": "",
           "title": {
            "standoff": 15
           },
           "zerolinecolor": "white",
           "zerolinewidth": 2
          }
         }
        },
        "title": {
         "font": {
          "size": 24
         },
         "text": "drifts scores per feature and year",
         "x": 0.5,
         "xanchor": "center",
         "y": 0.95
        },
        "width": 1000,
        "xaxis": {
         "anchor": "y",
         "domain": [
          0,
          0.45
         ],
         "title": {
          "text": "Year"
         }
        },
        "xaxis2": {
         "anchor": "y2",
         "domain": [
          0.55,
          1
         ],
         "title": {
          "text": "Year"
         }
        },
        "xaxis3": {
         "anchor": "y3",
         "domain": [
          0,
          0.45
         ],
         "title": {
          "text": "Year"
         }
        },
        "xaxis4": {
         "anchor": "y4",
         "domain": [
          0.55,
          1
         ],
         "title": {
          "text": "Year"
         }
        },
        "xaxis5": {
         "anchor": "y5",
         "domain": [
          0,
          0.45
         ],
         "title": {
          "text": "Year"
         }
        },
        "xaxis6": {
         "anchor": "y6",
         "domain": [
          0.55,
          1
         ],
         "title": {
          "text": "Year"
         }
        },
        "yaxis": {
         "anchor": "x",
         "domain": [
          0.7777777777777778,
          1
         ],
         "title": {
          "text": "Drift Score"
         }
        },
        "yaxis2": {
         "anchor": "x2",
         "domain": [
          0.7777777777777778,
          1
         ],
         "title": {
          "text": "Drift Score"
         }
        },
        "yaxis3": {
         "anchor": "x3",
         "domain": [
          0.3888888888888889,
          0.6111111111111112
         ],
         "title": {
          "text": "Drift Score"
         }
        },
        "yaxis4": {
         "anchor": "x4",
         "domain": [
          0.3888888888888889,
          0.6111111111111112
         ],
         "title": {
          "text": "Drift Score"
         }
        },
        "yaxis5": {
         "anchor": "x5",
         "domain": [
          0,
          0.22222222222222224
         ],
         "title": {
          "text": "Drift Score"
         }
        },
        "yaxis6": {
         "anchor": "x6",
         "domain": [
          0,
          0.22222222222222224
         ],
         "title": {
          "text": "Drift Score"
         }
        }
       }
      }
     },
     "metadata": {},
     "output_type": "display_data"
    }
   ],
   "source": [
    "from plotly.subplots import make_subplots\n",
    "import plotly.graph_objects as go\n",
    "features = ['date', 'coord_lat', 'coord_lon', 'altitude', 'eea_grid_id', 'land_cover']\n",
    "species = list(drift_results['2019'].keys())\n",
    "\n",
    "# Create subplots\n",
    "fig = make_subplots(rows=3, cols=2, subplot_titles=features)\n",
    "\n",
    "for i, feature in enumerate(features, start=1):\n",
    "    row = (i - 1) // 2 + 1\n",
    "    col = (i - 1) % 2 + 1\n",
    "    \n",
    "    for species_name in species:\n",
    "        fig.add_trace(go.Scatter(x=list(drift_results.keys()), \n",
    "                                 y=[drift_results[year][species_name][feature] for year in drift_results.keys()], \n",
    "                                 mode='lines',\n",
    "                                 name=species_name),\n",
    "                      row=row, col=col)\n",
    "\n",
    "    fig.update_xaxes(title_text='Year', row=row, col=col)\n",
    "    fig.update_yaxes(title_text='Drift Score', row=row, col=col)\n",
    "\n",
    "fig.update_layout(title='Drift Scores of Different Features Over Years', height=800, width=1000)\n",
    "fig.update_xaxes(title_text=\"Year\", row=3, col=1)\n",
    "fig.update_yaxes(title_text=\"Drift Score\", row=2, col=1)\n",
    "fig.update_layout(font=dict(family=\"Aleo\", size=10, color=\"#4d5f81\"),\n",
    "                title=dict(x=0.5, y=0.95, font=dict(size=24), text='drifts scores per feature and year', xanchor='center'),\n",
    "                legend_title_text='species name')\n",
    "fig.show()"
   ]
  },
  {
   "cell_type": "markdown",
   "metadata": {},
   "source": [
    "# \n",
    "<p style=\"background-color:#4A3228;color:white;font-size:240%;border-radius:10px 10px 10px 10px;\"> &nbsp; 3️⃣ Summary and Discussion</p>\n",
    "\n",
    "In summary, the initial analysis of data drift in bird sightings from 2018 to 2022 has provided valuable insights into the temporal changes and variations in the dataset. The analysis revealed that approximately two-thirds of the bird species studied exhibited significant data drift, indicating potential changes in their behavioral patterns, geographical distribution, and overall population dynamics. The features related to date and location, such as latitude, longitude, and EEA grid ID, showed the most pronounced drift, reflecting the dynamic nature of migration patterns and habitat changes.\n",
    "\n",
    "The year-by-year analysis further elucidated the complexity of data drift, with some species and features exhibiting gradual changes over time, while others displayed random fluctuations. The stability of land cover across the species studied was notable, indicating relatively consistent habitat preferences over the years. However, sporadic high drift events and isolated instances of significant drift in certain features were also observed, suggesting the influence of unpredictable environmental factors, anthropogenic influences, or user bias.\n",
    "\n",
    "The analysis has highlighted the importance of continued monitoring and adaptive modeling to effectively address the diverse patterns of data drift observed in the bird sighting dataset. To maintain high performance of our models that predict the plausibility of the collected bird sighting data, it is crucial to develop strategies that can account for the variability and unpredictability of data drift over time. The changes observed in the data were partly very random, indicating that building model adaptability will not be straightforward. Understanding and addressing these random fluctuation patterns will be essential for developing robust and adaptive modeling techniques.\n",
    "\n",
    "Furthermore, while the 5-year analysis allowed us to identify short-term drifts and fluctuations, it is evident that to capture long-term gradual shifts, such as those influenced by climate change or habitat alterations, a larger time frame would be necessary. The 5-year span may allow us to find indicators of long-term gradual shifts, but to truly understand and adapt to long-term changes, we need to consider a bigger time frame. However, it is important to note that our models should also be adapted to short-term changes, which we can effectively achieve within the 5-year time frame. This highlights the need for a balanced approach that considers both short-term and long-term data drift patterns in the development of adaptive modeling techniques.\n",
    "\n",
    "Overall, addressing data drift in bird sightings is crucial for maintaining the accuracy and effectiveness of predictive models, especially in the context of ecological citizen science and biodiversity conservation efforts. By gaining a deeper understanding of data drift and its implications, we can develop strategies to mitigate its impact and ensure the reliability of models in the face of dynamic and evolving data.\n",
    "\n",
    "\n",
    "# \n",
    "<p style=\"background-color:#4A3228;color:white;font-size:240%;border-radius:10px 10px 10px 10px;\"> &nbsp; 4️⃣ Outlook</p>\n",
    "\n",
    "\n",
    "As a next step, we will delve deeper into the drift analysis of the most impactful features, namely date and habitat, to gain a comprehensive understanding of the temporal changes and variations in these critical aspects of the bird sighting dataset. This in-depth analysis will be conducted as a case study focusing on the Eurasian Pygmy Owl (Sperlingskauz), a species that has exhibited notable data drift in these features. By conducting a detailed examination of the drift patterns of date and habitat for the pygmy owl, we aim to uncover insights that can be applied to the broader understanding of data drift in ecological processes.\n",
    "\n",
    "Building on the insights gained from the case study, we will further formulate and prioritize the actions we intend to pursue in our ongoing research on data drift in bird dynamics. This can involve developing strategies to mitigate the impact of data drift, identifying potential indicators of long-term shifts influenced by ecological factors, and adapting our modeling techniques to account for both short-term fluctuations and long-term trends. By integrating the findings, we aim to develop targeted and effective approaches to address data drift in bird populations, ultimately contributing to the reliability and relevance of our predictive models in the context of ecological citizen science.\n"
   ]
  }
 ],
 "metadata": {
  "kernelspec": {
   "display_name": "bird",
   "language": "python",
   "name": "python3"
  },
  "language_info": {
   "codemirror_mode": {
    "name": "ipython",
    "version": 3
   },
   "file_extension": ".py",
   "mimetype": "text/x-python",
   "name": "python",
   "nbconvert_exporter": "python",
   "pygments_lexer": "ipython3",
   "version": "3.10.11"
  }
 },
 "nbformat": 4,
 "nbformat_minor": 2
}
