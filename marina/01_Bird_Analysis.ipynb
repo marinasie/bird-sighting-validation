{
 "cells": [
  {
   "attachments": {},
   "cell_type": "markdown",
   "metadata": {},
   "source": [
    "# Bird Analysis"
   ]
  },
  {
   "cell_type": "code",
   "execution_count": 1,
   "metadata": {},
   "outputs": [],
   "source": [
    "import pandas as pd\n",
    "import plotly.express as px"
   ]
  },
  {
   "cell_type": "code",
   "execution_count": 2,
   "metadata": {},
   "outputs": [
    {
     "data": {
      "text/html": [
       "<div>\n",
       "<style scoped>\n",
       "    .dataframe tbody tr th:only-of-type {\n",
       "        vertical-align: middle;\n",
       "    }\n",
       "\n",
       "    .dataframe tbody tr th {\n",
       "        vertical-align: top;\n",
       "    }\n",
       "\n",
       "    .dataframe thead th {\n",
       "        text-align: right;\n",
       "    }\n",
       "</style>\n",
       "<table border=\"1\" class=\"dataframe\">\n",
       "  <thead>\n",
       "    <tr style=\"text-align: right;\">\n",
       "      <th></th>\n",
       "      <th>ID_SIGHTING</th>\n",
       "      <th>ID_SPECIES</th>\n",
       "      <th>NAME_SPECIES</th>\n",
       "      <th>DATE</th>\n",
       "      <th>TIMING</th>\n",
       "      <th>COORD_LAT</th>\n",
       "      <th>COORD_LON</th>\n",
       "      <th>PRECISION</th>\n",
       "      <th>ALTITUDE</th>\n",
       "      <th>TOTAL_COUNT</th>\n",
       "      <th>ATLAS_CODE_CH</th>\n",
       "      <th>ID_OBSERVER</th>\n",
       "    </tr>\n",
       "  </thead>\n",
       "  <tbody>\n",
       "    <tr>\n",
       "      <th>0</th>\n",
       "      <td>14731644</td>\n",
       "      <td>371.0</td>\n",
       "      <td>Blaumeise</td>\n",
       "      <td>2018-01-21</td>\n",
       "      <td>NaN</td>\n",
       "      <td>46.217211</td>\n",
       "      <td>7.582658</td>\n",
       "      <td>Exakte Lokalisierung</td>\n",
       "      <td>1150</td>\n",
       "      <td>1.0</td>\n",
       "      <td>0</td>\n",
       "      <td>11750.0</td>\n",
       "    </tr>\n",
       "    <tr>\n",
       "      <th>1</th>\n",
       "      <td>15360340</td>\n",
       "      <td>361.0</td>\n",
       "      <td>Saatkrähe</td>\n",
       "      <td>2018-03-24</td>\n",
       "      <td>10:41:00</td>\n",
       "      <td>46.923721</td>\n",
       "      <td>7.481304</td>\n",
       "      <td>Exakte Lokalisierung</td>\n",
       "      <td>510</td>\n",
       "      <td>NaN</td>\n",
       "      <td>0</td>\n",
       "      <td>2246.0</td>\n",
       "    </tr>\n",
       "    <tr>\n",
       "      <th>2</th>\n",
       "      <td>15360731</td>\n",
       "      <td>358.0</td>\n",
       "      <td>Rabenkrähe</td>\n",
       "      <td>2018-03-24</td>\n",
       "      <td>NaN</td>\n",
       "      <td>46.887983</td>\n",
       "      <td>7.545741</td>\n",
       "      <td>Ort</td>\n",
       "      <td>520</td>\n",
       "      <td>NaN</td>\n",
       "      <td>0</td>\n",
       "      <td>3539.0</td>\n",
       "    </tr>\n",
       "    <tr>\n",
       "      <th>3</th>\n",
       "      <td>15360732</td>\n",
       "      <td>495.0</td>\n",
       "      <td>Feldsperling</td>\n",
       "      <td>2018-03-24</td>\n",
       "      <td>NaN</td>\n",
       "      <td>46.887983</td>\n",
       "      <td>7.545741</td>\n",
       "      <td>Ort</td>\n",
       "      <td>520</td>\n",
       "      <td>NaN</td>\n",
       "      <td>0</td>\n",
       "      <td>3539.0</td>\n",
       "    </tr>\n",
       "    <tr>\n",
       "      <th>4</th>\n",
       "      <td>15360733</td>\n",
       "      <td>518.0</td>\n",
       "      <td>Buchfink</td>\n",
       "      <td>2018-03-24</td>\n",
       "      <td>NaN</td>\n",
       "      <td>46.887983</td>\n",
       "      <td>7.545741</td>\n",
       "      <td>Ort</td>\n",
       "      <td>520</td>\n",
       "      <td>NaN</td>\n",
       "      <td>0</td>\n",
       "      <td>3539.0</td>\n",
       "    </tr>\n",
       "  </tbody>\n",
       "</table>\n",
       "</div>"
      ],
      "text/plain": [
       "   ID_SIGHTING  ID_SPECIES  NAME_SPECIES        DATE    TIMING  COORD_LAT   \n",
       "0     14731644       371.0     Blaumeise  2018-01-21       NaN  46.217211  \\\n",
       "1     15360340       361.0     Saatkrähe  2018-03-24  10:41:00  46.923721   \n",
       "2     15360731       358.0    Rabenkrähe  2018-03-24       NaN  46.887983   \n",
       "3     15360732       495.0  Feldsperling  2018-03-24       NaN  46.887983   \n",
       "4     15360733       518.0      Buchfink  2018-03-24       NaN  46.887983   \n",
       "\n",
       "   COORD_LON             PRECISION  ALTITUDE  TOTAL_COUNT  ATLAS_CODE_CH   \n",
       "0   7.582658  Exakte Lokalisierung      1150          1.0              0  \\\n",
       "1   7.481304  Exakte Lokalisierung       510          NaN              0   \n",
       "2   7.545741                   Ort       520          NaN              0   \n",
       "3   7.545741                   Ort       520          NaN              0   \n",
       "4   7.545741                   Ort       520          NaN              0   \n",
       "\n",
       "   ID_OBSERVER  \n",
       "0      11750.0  \n",
       "1       2246.0  \n",
       "2       3539.0  \n",
       "3       3539.0  \n",
       "4       3539.0  "
      ]
     },
     "execution_count": 2,
     "metadata": {},
     "output_type": "execute_result"
    }
   ],
   "source": [
    "df = pd.read_csv('birds_ch_2018-2022.csv', delimiter=';')\n",
    "df.head()"
   ]
  },
  {
   "attachments": {},
   "cell_type": "markdown",
   "metadata": {},
   "source": [
    "## Columns\n",
    "- ID\n",
    "- Species ID & Name\n",
    "- Date & Time\n",
    "- Coordinates, Precision & Altitude\n",
    "- Count\n",
    "- Atlas Code\n",
    "- Observer ID"
   ]
  },
  {
   "attachments": {},
   "cell_type": "markdown",
   "metadata": {},
   "source": [
    "## Ideas\n",
    "- Basic Stats\n",
    "    - How many of each species? \n",
    "    - How often are they sighted? ✅\n",
    "    - Do we have power users? ✅\n",
    "    - Which columns are often missing? ✅\n",
    "    - Kartierung\n",
    "\n",
    "\n",
    "- User Error\n",
    "    - Day and time\n",
    "    - Coordinates on Map\n",
    "    - In correlation with population (e.g. only rare birds are listed, pigeons etc. are not listed since they are so many)\n",
    "\n",
    "\n",
    "\n",
    "- Feasibility of approach\n",
    "    - How many sights per species / balance ?\n",
    "    - Feature importance\n",
    "    - Precision of plain models\n",
    "\n",
    "- Extra Ideas\n",
    "    - Features\n",
    "        - Slope\n",
    "        - Aspect\n",
    "    - Seltene Sichtung? -> eBird Meldung nachschauen\n",
    "    - Grenzsichtungen - Länderüberegreifend gegenchecken\n",
    "\n",
    "- Für Simon\n",
    "    - spatiale Analyse\n",
    "    - Datenbeschaffung\n",
    "    - here Maps"
   ]
  },
  {
   "attachments": {},
   "cell_type": "markdown",
   "metadata": {},
   "source": [
    "# Basic Stats"
   ]
  },
  {
   "attachments": {},
   "cell_type": "markdown",
   "metadata": {},
   "source": [
    "## NaN values 💬"
   ]
  },
  {
   "cell_type": "code",
   "execution_count": 3,
   "metadata": {},
   "outputs": [
    {
     "data": {
      "text/plain": [
       "ID_SIGHTING       0.000000\n",
       "ID_SPECIES        0.000645\n",
       "NAME_SPECIES      0.000000\n",
       "DATE              0.000000\n",
       "TIMING           63.002890\n",
       "COORD_LAT         0.000000\n",
       "COORD_LON         0.000000\n",
       "PRECISION         0.000000\n",
       "ALTITUDE          0.000000\n",
       "TOTAL_COUNT      12.565139\n",
       "ATLAS_CODE_CH     0.000000\n",
       "ID_OBSERVER       0.000010\n",
       "dtype: float64"
      ]
     },
     "execution_count": 3,
     "metadata": {},
     "output_type": "execute_result"
    }
   ],
   "source": [
    "df.isnull().sum() * 100 / len(df)"
   ]
  },
  {
   "attachments": {},
   "cell_type": "markdown",
   "metadata": {},
   "source": [
    "## Birdos 🦜 "
   ]
  },
  {
   "attachments": {},
   "cell_type": "markdown",
   "metadata": {},
   "source": [
    "### How many species?"
   ]
  },
  {
   "cell_type": "code",
   "execution_count": 4,
   "metadata": {},
   "outputs": [
    {
     "name": "stdout",
     "output_type": "stream",
     "text": [
      "Number of species in dataset: 497\n"
     ]
    }
   ],
   "source": [
    "n_species = df['NAME_SPECIES'].nunique()\n",
    "print('Number of species in dataset:', n_species)"
   ]
  },
  {
   "attachments": {},
   "cell_type": "markdown",
   "metadata": {},
   "source": [
    "### How many of each species? "
   ]
  },
  {
   "cell_type": "code",
   "execution_count": 3,
   "metadata": {},
   "outputs": [],
   "source": [
    "n_per_species = df.groupby('NAME_SPECIES').size()"
   ]
  },
  {
   "cell_type": "code",
   "execution_count": 6,
   "metadata": {},
   "outputs": [
    {
     "data": {
      "application/vnd.plotly.v1+json": {
       "config": {
        "plotlyServerURL": "https://plot.ly"
       },
       "data": [
        {
         "alignmentgroup": "True",
         "hovertemplate": "variable=0<br>NAME_SPECIES=%{x}<br>value=%{y}<extra></extra>",
         "legendgroup": "0",
         "marker": {
          "color": "#636efa",
          "pattern": {
           "shape": ""
          }
         },
         "name": "0",
         "offsetgroup": "0",
         "orientation": "v",
         "showlegend": true,
         "textposition": "auto",
         "type": "bar",
         "x": [
          "Adlerbussard",
          "Allfarblori",
          "Alpenbraunelle",
          "Alpendohle",
          "Alpenkrähe",
          "Alpenmeise",
          "Alpenschneehuhn",
          "Alpensegler",
          "Alpenstrandläufer",
          "Amazonasente",
          "Amsel",
          "Andenente",
          "Art unbekannt",
          "Atlantiksturmtaucher",
          "Aucklandente",
          "Auerhuhn",
          "Austernfischer",
          "Aztekenmöwe",
          "Bachstelze",
          "Bahamaente",
          "Bartgeier",
          "Bartmeise",
          "Baumfalke",
          "Baumpieper",
          "Bekassine",
          "Bergente",
          "Bergfink",
          "Berghänfling",
          "Bergkarakara",
          "Berglaubsänger",
          "Bergpieper",
          "Bergstrandläufer",
          "Beutelmeise",
          "Bienenfresser",
          "Birkenzeisig",
          "Birkhuhn",
          "Blasskopfrosella",
          "Blasspötter",
          "Blaukehlchen",
          "Blaumeise",
          "Blaumerle",
          "Blauracke",
          "Blauwangenspint",
          "Bluthänfling",
          "Blässgans",
          "Blässhuhn",
          "Brachpieper",
          "Brandgans",
          "Brandseeschwalbe",
          "Braunkehlchen",
          "Braunkopfpapageimeise",
          "Braunwürger",
          "Brautente",
          "Brillengrasmücke",
          "Bruchwasserläufer",
          "Buchfink",
          "Buntspecht",
          "Buschrohrsänger",
          "Büffelkopfente",
          "Chilepfeifente",
          "Chukarhuhn",
          "Diamantfasan",
          "Diamanttäubchen",
          "Dohle",
          "Doppelschnepfe",
          "Dorngrasmücke",
          "Dreifarbenglanzstar",
          "Dreizehenmöwe",
          "Dreizehenspecht",
          "Drosselrohrsänger",
          "Drosseluferläufer",
          "Dunkler Sturmtaucher",
          "Dunkler Wasserläufer",
          "Dünnschnabelmöwe",
          "Edelpapagei",
          "Eichelhäher",
          "Eiderente",
          "Eisente",
          "Eistaucher",
          "Eisvogel",
          "Elster",
          "Erlenzeisig",
          "Fahlsegler",
          "Falkenraubmöwe",
          "Feldlerche",
          "Feldschwirl",
          "Feldsperling",
          "Felsenhuhn",
          "Felsenschwalbe",
          "Fichtenammer",
          "Fichtenkreuzschnabel",
          "Fischadler",
          "Fitis",
          "Flussregenpfeifer",
          "Flussseeschwalbe",
          "Flussuferläufer",
          "Gartenbaumläufer",
          "Gartengrasmücke",
          "Gartenrotschwanz",
          "Gebirgsstelze",
          "Gelbbrauenlaubsänger",
          "Gelbbrustpfeifgans",
          "Gelbschnabeltaucher",
          "Gelbspötter",
          "Gerfalke",
          "Gimpel",
          "Girlitz",
          "Gleitaar",
          "Goldammer",
          "Goldfasan",
          "Goldhähnchenlaubsänger",
          "Goldregenpfeifer",
          "Grasläufer",
          "Grauammer",
          "Graubruststrandläufer",
          "Graugans",
          "Graukopfkasarka",
          "Graupapagei",
          "Graureiher",
          "Grauschnäpper",
          "Grauspecht",
          "Grosser Alexandersittich",
          "Grosser Brachvogel",
          "Grünfink",
          "Grünkardinal",
          "Grünlaubsänger",
          "Grünschenkel",
          "Grünspecht",
          "Gänsegeier",
          "Gänsesäger",
          "Habicht",
          "Habichtsadler",
          "Halsbandkasarka",
          "Halsbandkrähe",
          "Halsbandschnäpper",
          "Halsbandsittich",
          "Haselhuhn",
          "Haubenlerche",
          "Haubenmeise",
          "Haubentaucher",
          "Hausente",
          "Hausgans",
          "Hausgimpel",
          "Hausrotschwanz",
          "Haussperling",
          "Haussperling x Italiensperling",
          "Hawaiigans",
          "Heckenbraunelle",
          "Heidelerche",
          "Heiliger Ibis",
          "Helmperlhuhn",
          "Heringsmöwe",
          "Heringsmöwe (L.f.fuscus)",
          "Heringsmöwe (L.f.heuglini)",
          "Hohltaube",
          "Hybridente",
          "Häherkuckuck",
          "Höckerschwan",
          "Iberienzilpzalp",
          "Isabellsteinschmätzer",
          "Italiensperling",
          "Jagdfasan",
          "Japanwachtel",
          "Kaisergans",
          "Kalanderlerche",
          "Kampfläufer",
          "Kanadagans",
          "Kanarengirlitz",
          "Kappenammer",
          "Kappensäger",
          "Karmingimpel",
          "Kernbeisser",
          "Kiebitz",
          "Kiebitzregenpfeifer",
          "Klappergrasmücke",
          "Kleiber",
          "Kleine Bergente",
          "Kleiner Gelbschenkel",
          "Kleines Sumpfhuhn",
          "Kleinspecht",
          "Knutt",
          "Knäkente",
          "Kohlmeise",
          "Kolbenente",
          "Kolkrabe",
          "Korallenmöwe",
          "Kormoran",
          "Kornweihe",
          "Kranich",
          "Krickente",
          "Kuckuck",
          "Kuhreiher",
          "Kurzschnabelgans",
          "Kurzzehenlerche",
          "Königsfasan",
          "Küstenseeschwalbe",
          "Lachmöwe",
          "Lachseeschwalbe",
          "Löffelente",
          "Löffler",
          "Magellanzeisig",
          "Mandarinente",
          "Mantelmöwe",
          "Mariskenrohrsänger",
          "Marmelente",
          "Mauerläufer",
          "Mauersegler",
          "Mehlschwalbe",
          "Merlin",
          "Mischart",
          "Misteldrossel",
          "Mittelmeermöwe",
          "Mittelmeersteinschmätzer",
          "Mittelspecht",
          "Mittelsäger",
          "Mohrenkopf",
          "Moltonigrasmücke",
          "Moorente",
          "Mornellregenpfeifer",
          "Moschusente",
          "Muskatamadine",
          "Mähnenente",
          "Mäusebussard",
          "Mönchsgeier",
          "Mönchsgrasmücke",
          "Mönchsmeise (Alpen- oder Weidenmeise)",
          "Mönchssittich",
          "Nachtigall",
          "Nachtreiher",
          "Nebelkrähe",
          "Neuntöter",
          "Nilgans",
          "Nordische Ringdrossel",
          "Nymphensittich",
          "Odinshühnchen",
          "Ohrenlerche",
          "Ohrentaucher",
          "Orientturteltaube",
          "Orpheusspötter",
          "Ortolan",
          "Pallasschwarzkehlchen",
          "Pennantsittich",
          "Pfeifente",
          "Pfirsichköpfchen",
          "Pfuhlschnepfe",
          "Pirol",
          "Prachtglanzstar",
          "Prachttaucher",
          "Provencegrasmücke",
          "Purpurglanzstar",
          "Purpurhuhn",
          "Purpurreiher",
          "Rabenkrähe",
          "Rabenkrähe x Nebelkrähe",
          "Rallenreiher",
          "Raubseeschwalbe",
          "Raubwürger",
          "Rauchschwalbe",
          "Raufussbussard",
          "Raufusskauz",
          "Rebhuhn",
          "Regenbrachvogel",
          "Reiherente",
          "Reisfink",
          "Ringdrossel",
          "Ringelgans",
          "Ringeltaube",
          "Ringschnabelente",
          "Ringschnabelmöwe",
          "Rohrammer",
          "Rohrdommel",
          "Rohrschwirl",
          "Rohrweihe",
          "Rosaflamingo",
          "Rosapelikan",
          "Rosella",
          "Rosenköpfchen",
          "Rosenschnabelente",
          "Rosenseeschwalbe",
          "Rosenstar",
          "Rostgans",
          "Rotaugenente",
          "Rotbugamazone",
          "Rotdrossel",
          "Rotflügelbrachschwalbe",
          "Rotfussfalke",
          "Rothalsgans",
          "Rothalstaucher",
          "Rothuhn",
          "Rotkardinal",
          "Rotkehlchen",
          "Rotkehlpieper",
          "Rotkopfwürger",
          "Rotmilan",
          "Rotschenkel",
          "Rotschnabelente",
          "Rotschnabelpfeifgans",
          "Rotschulterente",
          "Rotsterniges Blaukehlchen",
          "Russbülbül",
          "Rötelfalke",
          "Rötelschwalbe",
          "Saatgans",
          "Saatgans (A.f.rossicus)",
          "Saatkrähe",
          "Samtente",
          "Samtkopfgrasmücke",
          "Sanderling",
          "Sandregenpfeifer",
          "Schachwürger",
          "Schafstelze",
          "Schafstelze (M.f.cinereocapilla)",
          "Schafstelze (M.f.feldegg)",
          "Schafstelze (M.f.flava)",
          "Schafstelze (M.f.flavissima/lutea)",
          "Schafstelze (M.f.thunbergi)",
          "Schelladler",
          "Schellente",
          "Schilfrohrsänger",
          "Schlagschwirl",
          "Schlangenadler",
          "Schleiereule",
          "Schmarotzerraubmöwe",
          "Schmutzgeier",
          "Schnatterente",
          "Schneeammer",
          "Schneegans",
          "Schneesperling",
          "Schopfwachtel",
          "Schreiadler",
          "Schwalbenmöwe",
          "Schwanengans",
          "Schwanzmeise",
          "Schwanzmeise (A.c.caudatus)",
          "Schwarzbauchnonne",
          "Schwarzhalstaucher",
          "Schwarzkehlchen",
          "Schwarzkopfmöwe",
          "Schwarzkopfruderente",
          "Schwarzköpfchen",
          "Schwarzmilan",
          "Schwarzschwan",
          "Schwarzspecht",
          "Schwarzstirnwürger",
          "Schwarzstorch",
          "Seeadler",
          "Seeregenpfeifer",
          "Seggenrohrsänger",
          "Seidenreiher",
          "Seidenschwanz",
          "Seidensänger",
          "Sichelente",
          "Sichelstrandläufer",
          "Sichler",
          "Silberente",
          "Silberfasan",
          "Silbermöwe",
          "Silberreiher",
          "Singdrossel",
          "Singschwan",
          "Skua",
          "Sommergoldhähnchen",
          "Spatelraubmöwe",
          "Sperber",
          "Sperbergeier",
          "Sperbergrasmücke",
          "Sperlingskauz",
          "Spiessente",
          "Spitzschwanzente",
          "Spornammer",
          "Spornpieper",
          "Star",
          "Steinadler",
          "Steinhuhn",
          "Steinkauz",
          "Steinrötel",
          "Steinschmätzer",
          "Steinwälzer",
          "Stelzenläufer",
          "Steppenadler",
          "Steppenkiebitz",
          "Steppenmöwe",
          "Steppenweihe",
          "Sterntaucher",
          "Stieglitz",
          "Stockente",
          "Strassentaube",
          "Streifengans",
          "Sturmmöwe",
          "Sumpfläufer",
          "Sumpfmeise",
          "Sumpfohreule",
          "Sumpfrohrsänger",
          "Säbelschnäbler",
          "Tafelente",
          "Tahaweber",
          "Taigabirkenzeisig",
          "Taigazilpzalp",
          "Tannenhäher",
          "Tannenmeise",
          "Teich- oder Sumpfrohrsänger",
          "Teichhuhn",
          "Teichrohrsänger",
          "Teichwasserläufer",
          "Temminckstrandläufer",
          "Terekwasserläufer",
          "Thorshühnchen",
          "Tienschanlaubsänger",
          "Tigerfink",
          "Trauerbachstelze",
          "Trauerente",
          "Trauerschnäpper",
          "Trauerseeschwalbe",
          "Triel",
          "Tundra-Goldregenpfeifer",
          "Turmfalke",
          "Turteltaube",
          "Tüpfelsumpfhuhn",
          "Türkentaube",
          "Uferschnepfe",
          "Uferschnepfe (L.l.islandica)",
          "Uferschwalbe",
          "Uhu",
          "Virginiawachtel",
          "Wacholderdrossel",
          "Wachtel",
          "Wachtelkönig",
          "Waldammer",
          "Waldbaumläufer",
          "Waldkauz",
          "Waldlaubsänger",
          "Waldohreule",
          "Waldpieper",
          "Waldrapp",
          "Waldschnepfe",
          "Waldwasserläufer",
          "Wanderfalke",
          "Wanderpfeifgans",
          "Wasseramsel",
          "Wasserralle",
          "Weidengelbkehlchen",
          "Weidenmeise",
          "Weidensperling",
          "Weissbartgrasmücke",
          "Weissbartseeschwalbe",
          "Weissflügelseeschwalbe",
          "Weissohrbülbül",
          "Weissrückenspecht",
          "Weisssterniges Blaukehlchen",
          "Weissstorch",
          "Weisswangengans",
          "Weißkopf-Seeadler",
          "Wellenastrild",
          "Wellensittich",
          "Wendehals",
          "Wespenbussard",
          "Wiedehopf",
          "Wiesenpieper",
          "Wiesenweihe",
          "Wintergoldhähnchen",
          "Witwenpfeifgans",
          "Würgfalke",
          "Zaunammer",
          "Zaunkönig",
          "Zebrafink",
          "Ziegenmelker",
          "Zilpzalp",
          "Zimtente",
          "Zippammer",
          "Zistensänger",
          "Zitronenstelze",
          "Zitronenzeisig",
          "Zwergadler",
          "Zwergammer",
          "Zwergdommel",
          "Zwerggans",
          "Zwergkanadagans",
          "Zwergmöwe",
          "Zwergohreule",
          "Zwergscharbe",
          "Zwergschnepfe",
          "Zwergschnäpper",
          "Zwergschwan",
          "Zwergseeschwalbe",
          "Zwergstrandläufer",
          "Zwergsumpfhuhn",
          "Zwergsäger",
          "Zwergtaucher",
          "Zwergtrappe",
          "unbest. Grossmöwe",
          "unbest. Kleinmöwe",
          "unbest. Raubmöwe",
          "unbest. Schwimmente",
          "unbest. Seetaucher",
          "unbest. Weihe",
          "unbest. graue Gänse",
          "unbestimmter Wassertreter"
         ],
         "xaxis": "x",
         "y": [
          10,
          1,
          12075,
          23033,
          3365,
          12722,
          5099,
          15974,
          16996,
          49,
          247379,
          56,
          63,
          4,
          9,
          3108,
          2379,
          57,
          165959,
          1917,
          13689,
          11194,
          21039,
          30117,
          54359,
          2168,
          23094,
          4,
          2,
          18291,
          57627,
          95,
          5442,
          9195,
          7702,
          12802,
          3,
          1,
          3732,
          175514,
          1360,
          718,
          1,
          33582,
          2280,
          150848,
          1552,
          14356,
          506,
          38388,
          83,
          29,
          815,
          7,
          20311,
          240098,
          122435,
          19,
          2,
          167,
          4,
          8,
          9,
          32807,
          92,
          15758,
          2,
          186,
          2183,
          18822,
          1,
          11,
          4800,
          14,
          1,
          103832,
          6351,
          1157,
          1013,
          90264,
          126646,
          54247,
          601,
          169,
          52614,
          6730,
          71423,
          1,
          31479,
          132,
          19045,
          5538,
          24618,
          20326,
          20979,
          36473,
          65304,
          29652,
          42495,
          65778,
          311,
          22,
          1,
          1195,
          1,
          27668,
          47178,
          575,
          70001,
          6,
          9,
          1865,
          3,
          6770,
          390,
          53321,
          205,
          3,
          190876,
          22301,
          3916,
          39,
          29160,
          97299,
          3,
          20,
          17774,
          133163,
          8283,
          97930,
          14498,
          50,
          2,
          2,
          561,
          70,
          3318,
          75,
          30133,
          107961,
          6434,
          3058,
          3,
          135827,
          128202,
          968,
          64,
          29542,
          7399,
          566,
          5,
          10197,
          62,
          1,
          29530,
          4794,
          69,
          102953,
          75,
          5,
          15160,
          4349,
          1,
          3,
          58,
          18790,
          423,
          22,
          50,
          82,
          1027,
          30614,
          36311,
          2115,
          16329,
          94228,
          3,
          99,
          1800,
          13652,
          931,
          20336,
          225635,
          64713,
          70034,
          148,
          130716,
          11967,
          4647,
          70543,
          51063,
          5243,
          86,
          443,
          8,
          568,
          100481,
          194,
          45996,
          2415,
          1,
          5196,
          1513,
          242,
          55,
          5340,
          53471,
          60454,
          2185,
          1,
          59107,
          140932,
          2,
          14989,
          7295,
          1,
          23,
          6378,
          998,
          1156,
          2,
          77,
          208703,
          744,
          144114,
          5498,
          4,
          40120,
          8447,
          19464,
          53005,
          31864,
          1,
          42,
          353,
          1,
          2163,
          371,
          3671,
          1887,
          1,
          4,
          29617,
          10,
          1173,
          23346,
          2,
          5533,
          1,
          1,
          246,
          9523,
          214905,
          1974,
          1959,
          1609,
          9037,
          91140,
          511,
          1953,
          55,
          2816,
          87118,
          1,
          15903,
          85,
          154491,
          807,
          2,
          63058,
          5238,
          10603,
          26865,
          8,
          1,
          1,
          7,
          86,
          80,
          575,
          23053,
          1,
          4,
          10460,
          18,
          2153,
          2117,
          2735,
          8,
          17,
          186326,
          1577,
          582,
          222391,
          7062,
          2,
          1,
          275,
          176,
          1,
          41,
          306,
          572,
          579,
          39066,
          3983,
          248,
          1047,
          7504,
          228,
          24275,
          658,
          321,
          1767,
          109,
          1279,
          7,
          17621,
          5019,
          2,
          3073,
          3287,
          209,
          7,
          78075,
          430,
          1,
          5322,
          3,
          24,
          19,
          145,
          55686,
          267,
          1,
          17194,
          50789,
          8745,
          85,
          2,
          84467,
          977,
          42920,
          14,
          2921,
          500,
          203,
          62,
          14140,
          14,
          435,
          206,
          2144,
          1100,
          7,
          1,
          3354,
          113479,
          67800,
          5400,
          490,
          31102,
          34,
          60235,
          6,
          31,
          3817,
          20924,
          26,
          29,
          77,
          128320,
          31618,
          4051,
          3925,
          3291,
          32490,
          1416,
          2618,
          2,
          4,
          6382,
          530,
          1677,
          130286,
          188714,
          38900,
          578,
          27857,
          90,
          62227,
          566,
          11018,
          1040,
          47904,
          6,
          50,
          236,
          23710,
          60993,
          1514,
          85084,
          43688,
          258,
          2123,
          403,
          302,
          127,
          3,
          75,
          654,
          23815,
          6290,
          332,
          27,
          135660,
          5289,
          4602,
          48742,
          1952,
          112,
          14838,
          6279,
          6,
          54606,
          4413,
          1094,
          64,
          16585,
          20661,
          5298,
          9055,
          2,
          1134,
          3827,
          25330,
          24641,
          10,
          37638,
          50226,
          247,
          3076,
          1,
          442,
          1382,
          883,
          5,
          304,
          1255,
          78362,
          3307,
          2,
          6,
          57,
          21645,
          13110,
          12277,
          26621,
          1681,
          29575,
          44,
          41,
          15056,
          107922,
          11,
          1069,
          127794,
          48,
          14787,
          667,
          130,
          8220,
          13,
          94,
          11405,
          23,
          491,
          3246,
          2691,
          393,
          2708,
          3,
          823,
          236,
          4503,
          308,
          1763,
          85435,
          2,
          3163,
          1,
          165,
          1,
          74,
          392,
          123,
          7
         ],
         "yaxis": "y"
        }
       ],
       "layout": {
        "barmode": "relative",
        "legend": {
         "title": {
          "text": "variable"
         },
         "tracegroupgap": 0
        },
        "margin": {
         "t": 60
        },
        "template": {
         "data": {
          "bar": [
           {
            "error_x": {
             "color": "#2a3f5f"
            },
            "error_y": {
             "color": "#2a3f5f"
            },
            "marker": {
             "line": {
              "color": "#E5ECF6",
              "width": 0.5
             },
             "pattern": {
              "fillmode": "overlay",
              "size": 10,
              "solidity": 0.2
             }
            },
            "type": "bar"
           }
          ],
          "barpolar": [
           {
            "marker": {
             "line": {
              "color": "#E5ECF6",
              "width": 0.5
             },
             "pattern": {
              "fillmode": "overlay",
              "size": 10,
              "solidity": 0.2
             }
            },
            "type": "barpolar"
           }
          ],
          "carpet": [
           {
            "aaxis": {
             "endlinecolor": "#2a3f5f",
             "gridcolor": "white",
             "linecolor": "white",
             "minorgridcolor": "white",
             "startlinecolor": "#2a3f5f"
            },
            "baxis": {
             "endlinecolor": "#2a3f5f",
             "gridcolor": "white",
             "linecolor": "white",
             "minorgridcolor": "white",
             "startlinecolor": "#2a3f5f"
            },
            "type": "carpet"
           }
          ],
          "choropleth": [
           {
            "colorbar": {
             "outlinewidth": 0,
             "ticks": ""
            },
            "type": "choropleth"
           }
          ],
          "contour": [
           {
            "colorbar": {
             "outlinewidth": 0,
             "ticks": ""
            },
            "colorscale": [
             [
              0,
              "#0d0887"
             ],
             [
              0.1111111111111111,
              "#46039f"
             ],
             [
              0.2222222222222222,
              "#7201a8"
             ],
             [
              0.3333333333333333,
              "#9c179e"
             ],
             [
              0.4444444444444444,
              "#bd3786"
             ],
             [
              0.5555555555555556,
              "#d8576b"
             ],
             [
              0.6666666666666666,
              "#ed7953"
             ],
             [
              0.7777777777777778,
              "#fb9f3a"
             ],
             [
              0.8888888888888888,
              "#fdca26"
             ],
             [
              1,
              "#f0f921"
             ]
            ],
            "type": "contour"
           }
          ],
          "contourcarpet": [
           {
            "colorbar": {
             "outlinewidth": 0,
             "ticks": ""
            },
            "type": "contourcarpet"
           }
          ],
          "heatmap": [
           {
            "colorbar": {
             "outlinewidth": 0,
             "ticks": ""
            },
            "colorscale": [
             [
              0,
              "#0d0887"
             ],
             [
              0.1111111111111111,
              "#46039f"
             ],
             [
              0.2222222222222222,
              "#7201a8"
             ],
             [
              0.3333333333333333,
              "#9c179e"
             ],
             [
              0.4444444444444444,
              "#bd3786"
             ],
             [
              0.5555555555555556,
              "#d8576b"
             ],
             [
              0.6666666666666666,
              "#ed7953"
             ],
             [
              0.7777777777777778,
              "#fb9f3a"
             ],
             [
              0.8888888888888888,
              "#fdca26"
             ],
             [
              1,
              "#f0f921"
             ]
            ],
            "type": "heatmap"
           }
          ],
          "heatmapgl": [
           {
            "colorbar": {
             "outlinewidth": 0,
             "ticks": ""
            },
            "colorscale": [
             [
              0,
              "#0d0887"
             ],
             [
              0.1111111111111111,
              "#46039f"
             ],
             [
              0.2222222222222222,
              "#7201a8"
             ],
             [
              0.3333333333333333,
              "#9c179e"
             ],
             [
              0.4444444444444444,
              "#bd3786"
             ],
             [
              0.5555555555555556,
              "#d8576b"
             ],
             [
              0.6666666666666666,
              "#ed7953"
             ],
             [
              0.7777777777777778,
              "#fb9f3a"
             ],
             [
              0.8888888888888888,
              "#fdca26"
             ],
             [
              1,
              "#f0f921"
             ]
            ],
            "type": "heatmapgl"
           }
          ],
          "histogram": [
           {
            "marker": {
             "pattern": {
              "fillmode": "overlay",
              "size": 10,
              "solidity": 0.2
             }
            },
            "type": "histogram"
           }
          ],
          "histogram2d": [
           {
            "colorbar": {
             "outlinewidth": 0,
             "ticks": ""
            },
            "colorscale": [
             [
              0,
              "#0d0887"
             ],
             [
              0.1111111111111111,
              "#46039f"
             ],
             [
              0.2222222222222222,
              "#7201a8"
             ],
             [
              0.3333333333333333,
              "#9c179e"
             ],
             [
              0.4444444444444444,
              "#bd3786"
             ],
             [
              0.5555555555555556,
              "#d8576b"
             ],
             [
              0.6666666666666666,
              "#ed7953"
             ],
             [
              0.7777777777777778,
              "#fb9f3a"
             ],
             [
              0.8888888888888888,
              "#fdca26"
             ],
             [
              1,
              "#f0f921"
             ]
            ],
            "type": "histogram2d"
           }
          ],
          "histogram2dcontour": [
           {
            "colorbar": {
             "outlinewidth": 0,
             "ticks": ""
            },
            "colorscale": [
             [
              0,
              "#0d0887"
             ],
             [
              0.1111111111111111,
              "#46039f"
             ],
             [
              0.2222222222222222,
              "#7201a8"
             ],
             [
              0.3333333333333333,
              "#9c179e"
             ],
             [
              0.4444444444444444,
              "#bd3786"
             ],
             [
              0.5555555555555556,
              "#d8576b"
             ],
             [
              0.6666666666666666,
              "#ed7953"
             ],
             [
              0.7777777777777778,
              "#fb9f3a"
             ],
             [
              0.8888888888888888,
              "#fdca26"
             ],
             [
              1,
              "#f0f921"
             ]
            ],
            "type": "histogram2dcontour"
           }
          ],
          "mesh3d": [
           {
            "colorbar": {
             "outlinewidth": 0,
             "ticks": ""
            },
            "type": "mesh3d"
           }
          ],
          "parcoords": [
           {
            "line": {
             "colorbar": {
              "outlinewidth": 0,
              "ticks": ""
             }
            },
            "type": "parcoords"
           }
          ],
          "pie": [
           {
            "automargin": true,
            "type": "pie"
           }
          ],
          "scatter": [
           {
            "fillpattern": {
             "fillmode": "overlay",
             "size": 10,
             "solidity": 0.2
            },
            "type": "scatter"
           }
          ],
          "scatter3d": [
           {
            "line": {
             "colorbar": {
              "outlinewidth": 0,
              "ticks": ""
             }
            },
            "marker": {
             "colorbar": {
              "outlinewidth": 0,
              "ticks": ""
             }
            },
            "type": "scatter3d"
           }
          ],
          "scattercarpet": [
           {
            "marker": {
             "colorbar": {
              "outlinewidth": 0,
              "ticks": ""
             }
            },
            "type": "scattercarpet"
           }
          ],
          "scattergeo": [
           {
            "marker": {
             "colorbar": {
              "outlinewidth": 0,
              "ticks": ""
             }
            },
            "type": "scattergeo"
           }
          ],
          "scattergl": [
           {
            "marker": {
             "colorbar": {
              "outlinewidth": 0,
              "ticks": ""
             }
            },
            "type": "scattergl"
           }
          ],
          "scattermapbox": [
           {
            "marker": {
             "colorbar": {
              "outlinewidth": 0,
              "ticks": ""
             }
            },
            "type": "scattermapbox"
           }
          ],
          "scatterpolar": [
           {
            "marker": {
             "colorbar": {
              "outlinewidth": 0,
              "ticks": ""
             }
            },
            "type": "scatterpolar"
           }
          ],
          "scatterpolargl": [
           {
            "marker": {
             "colorbar": {
              "outlinewidth": 0,
              "ticks": ""
             }
            },
            "type": "scatterpolargl"
           }
          ],
          "scatterternary": [
           {
            "marker": {
             "colorbar": {
              "outlinewidth": 0,
              "ticks": ""
             }
            },
            "type": "scatterternary"
           }
          ],
          "surface": [
           {
            "colorbar": {
             "outlinewidth": 0,
             "ticks": ""
            },
            "colorscale": [
             [
              0,
              "#0d0887"
             ],
             [
              0.1111111111111111,
              "#46039f"
             ],
             [
              0.2222222222222222,
              "#7201a8"
             ],
             [
              0.3333333333333333,
              "#9c179e"
             ],
             [
              0.4444444444444444,
              "#bd3786"
             ],
             [
              0.5555555555555556,
              "#d8576b"
             ],
             [
              0.6666666666666666,
              "#ed7953"
             ],
             [
              0.7777777777777778,
              "#fb9f3a"
             ],
             [
              0.8888888888888888,
              "#fdca26"
             ],
             [
              1,
              "#f0f921"
             ]
            ],
            "type": "surface"
           }
          ],
          "table": [
           {
            "cells": {
             "fill": {
              "color": "#EBF0F8"
             },
             "line": {
              "color": "white"
             }
            },
            "header": {
             "fill": {
              "color": "#C8D4E3"
             },
             "line": {
              "color": "white"
             }
            },
            "type": "table"
           }
          ]
         },
         "layout": {
          "annotationdefaults": {
           "arrowcolor": "#2a3f5f",
           "arrowhead": 0,
           "arrowwidth": 1
          },
          "autotypenumbers": "strict",
          "coloraxis": {
           "colorbar": {
            "outlinewidth": 0,
            "ticks": ""
           }
          },
          "colorscale": {
           "diverging": [
            [
             0,
             "#8e0152"
            ],
            [
             0.1,
             "#c51b7d"
            ],
            [
             0.2,
             "#de77ae"
            ],
            [
             0.3,
             "#f1b6da"
            ],
            [
             0.4,
             "#fde0ef"
            ],
            [
             0.5,
             "#f7f7f7"
            ],
            [
             0.6,
             "#e6f5d0"
            ],
            [
             0.7,
             "#b8e186"
            ],
            [
             0.8,
             "#7fbc41"
            ],
            [
             0.9,
             "#4d9221"
            ],
            [
             1,
             "#276419"
            ]
           ],
           "sequential": [
            [
             0,
             "#0d0887"
            ],
            [
             0.1111111111111111,
             "#46039f"
            ],
            [
             0.2222222222222222,
             "#7201a8"
            ],
            [
             0.3333333333333333,
             "#9c179e"
            ],
            [
             0.4444444444444444,
             "#bd3786"
            ],
            [
             0.5555555555555556,
             "#d8576b"
            ],
            [
             0.6666666666666666,
             "#ed7953"
            ],
            [
             0.7777777777777778,
             "#fb9f3a"
            ],
            [
             0.8888888888888888,
             "#fdca26"
            ],
            [
             1,
             "#f0f921"
            ]
           ],
           "sequentialminus": [
            [
             0,
             "#0d0887"
            ],
            [
             0.1111111111111111,
             "#46039f"
            ],
            [
             0.2222222222222222,
             "#7201a8"
            ],
            [
             0.3333333333333333,
             "#9c179e"
            ],
            [
             0.4444444444444444,
             "#bd3786"
            ],
            [
             0.5555555555555556,
             "#d8576b"
            ],
            [
             0.6666666666666666,
             "#ed7953"
            ],
            [
             0.7777777777777778,
             "#fb9f3a"
            ],
            [
             0.8888888888888888,
             "#fdca26"
            ],
            [
             1,
             "#f0f921"
            ]
           ]
          },
          "colorway": [
           "#636efa",
           "#EF553B",
           "#00cc96",
           "#ab63fa",
           "#FFA15A",
           "#19d3f3",
           "#FF6692",
           "#B6E880",
           "#FF97FF",
           "#FECB52"
          ],
          "font": {
           "color": "#2a3f5f"
          },
          "geo": {
           "bgcolor": "white",
           "lakecolor": "white",
           "landcolor": "#E5ECF6",
           "showlakes": true,
           "showland": true,
           "subunitcolor": "white"
          },
          "hoverlabel": {
           "align": "left"
          },
          "hovermode": "closest",
          "mapbox": {
           "style": "light"
          },
          "paper_bgcolor": "white",
          "plot_bgcolor": "#E5ECF6",
          "polar": {
           "angularaxis": {
            "gridcolor": "white",
            "linecolor": "white",
            "ticks": ""
           },
           "bgcolor": "#E5ECF6",
           "radialaxis": {
            "gridcolor": "white",
            "linecolor": "white",
            "ticks": ""
           }
          },
          "scene": {
           "xaxis": {
            "backgroundcolor": "#E5ECF6",
            "gridcolor": "white",
            "gridwidth": 2,
            "linecolor": "white",
            "showbackground": true,
            "ticks": "",
            "zerolinecolor": "white"
           },
           "yaxis": {
            "backgroundcolor": "#E5ECF6",
            "gridcolor": "white",
            "gridwidth": 2,
            "linecolor": "white",
            "showbackground": true,
            "ticks": "",
            "zerolinecolor": "white"
           },
           "zaxis": {
            "backgroundcolor": "#E5ECF6",
            "gridcolor": "white",
            "gridwidth": 2,
            "linecolor": "white",
            "showbackground": true,
            "ticks": "",
            "zerolinecolor": "white"
           }
          },
          "shapedefaults": {
           "line": {
            "color": "#2a3f5f"
           }
          },
          "ternary": {
           "aaxis": {
            "gridcolor": "white",
            "linecolor": "white",
            "ticks": ""
           },
           "baxis": {
            "gridcolor": "white",
            "linecolor": "white",
            "ticks": ""
           },
           "bgcolor": "#E5ECF6",
           "caxis": {
            "gridcolor": "white",
            "linecolor": "white",
            "ticks": ""
           }
          },
          "title": {
           "x": 0.05
          },
          "xaxis": {
           "automargin": true,
           "gridcolor": "white",
           "linecolor": "white",
           "ticks": "",
           "title": {
            "standoff": 15
           },
           "zerolinecolor": "white",
           "zerolinewidth": 2
          },
          "yaxis": {
           "automargin": true,
           "gridcolor": "white",
           "linecolor": "white",
           "ticks": "",
           "title": {
            "standoff": 15
           },
           "zerolinecolor": "white",
           "zerolinewidth": 2
          }
         }
        },
        "xaxis": {
         "anchor": "y",
         "domain": [
          0,
          1
         ],
         "title": {
          "text": "NAME_SPECIES"
         }
        },
        "yaxis": {
         "anchor": "x",
         "domain": [
          0,
          1
         ],
         "title": {
          "text": "value"
         }
        }
       }
      }
     },
     "metadata": {},
     "output_type": "display_data"
    }
   ],
   "source": [
    "fig = px.bar(n_per_species)\n",
    "fig.show()"
   ]
  },
  {
   "attachments": {},
   "cell_type": "markdown",
   "metadata": {},
   "source": [
    "### Top 10 birdo's"
   ]
  },
  {
   "cell_type": "code",
   "execution_count": 4,
   "metadata": {},
   "outputs": [
    {
     "data": {
      "application/vnd.plotly.v1+json": {
       "config": {
        "plotlyServerURL": "https://plot.ly"
       },
       "data": [
        {
         "alignmentgroup": "True",
         "hovertemplate": "variable=0<br>NAME_SPECIES=%{x}<br>value=%{y}<extra></extra>",
         "legendgroup": "0",
         "marker": {
          "color": "#636efa",
          "pattern": {
           "shape": ""
          }
         },
         "name": "0",
         "offsetgroup": "0",
         "orientation": "v",
         "showlegend": true,
         "textposition": "auto",
         "type": "bar",
         "x": [
          "Provencegrasmücke",
          "Rotschnabelpfeifgans",
          "Rotaugenente",
          "Rosella",
          "Felsenhuhn",
          "Rosapelikan",
          "Reisfink",
          "Purpurglanzstar",
          "Blauwangenspint",
          "Pallasschwarzkehlchen",
          "Ohrenlerche",
          "Nordische Ringdrossel",
          "Mohrenkopf",
          "Mischart",
          "Magellanzeisig",
          "Japanwachtel",
          "Heringsmöwe (L.f.heuglini)",
          "Drosseluferläufer",
          "Gerfalke",
          "Gelbschnabeltaucher",
          "Russbülbül",
          "Schneegans",
          "Blasspötter",
          "Schwarzbauchnonne",
          "Allfarblori",
          "unbest. Schwimmente",
          "unbest. Kleinmöwe",
          "Weidensperling",
          "Silberfasan",
          "Edelpapagei",
          "Weißkopf-Seeadler",
          "Büffelkopfente",
          "Schwarzköpfchen",
          "Mittelmeersteinschmätzer",
          "Zwergtrappe",
          "Muskatamadine",
          "Waldpieper",
          "Halsbandkrähe",
          "Halsbandkasarka",
          "Prachtglanzstar",
          "Dreifarbenglanzstar",
          "Rotschnabelente",
          "Steppenadler",
          "Schlagschwirl",
          "Bergkarakara",
          "Ringschnabelmöwe",
          "Grünkardinal",
          "Kleine Bergente",
          "Grasläufer",
          "Schopfwachtel",
          "Blasskopfrosella",
          "Hausgimpel",
          "Kaisergans",
          "Tigerfink",
          "Graupapagei",
          "Zwergschnäpper",
          "Chukarhuhn",
          "Mönchssittich",
          "Steppenkiebitz",
          "Berghänfling",
          "Rotbugamazone",
          "Pennantsittich",
          "Atlantiksturmtaucher",
          "Weissohrbülbül",
          "Helmperlhuhn",
          "Isabellsteinschmätzer",
          "Goldfasan",
          "Wellenastrild",
          "Tahaweber",
          "Virginiawachtel",
          "Sperbergeier",
          "Rosenköpfchen",
          "Schelladler",
          "Schmutzgeier",
          "Silberente",
          "unbestimmter Wassertreter",
          "Brillengrasmücke",
          "Rosaflamingo",
          "Rothuhn",
          "Diamantfasan",
          "Königsfasan",
          "Goldhähnchenlaubsänger",
          "Diamanttäubchen",
          "Aucklandente",
          "Adlerbussard",
          "Pfirsichköpfchen",
          "Wanderpfeifgans",
          "Dunkler Sturmtaucher",
          "Zebrafink",
          "Zwergadler",
          "Seidenschwanz",
          "Schwarzstirnwürger",
          "Dünnschnabelmöwe",
          "Rotkardinal",
          "Rotflügelbrachschwalbe",
          "Schwalbenmöwe",
          "Buschrohrsänger",
          "Grünlaubsänger",
          "Gelbbrustpfeifgans",
          "Kanarengirlitz",
          "Zwerggans",
          "Moltonigrasmücke",
          "Schreiadler",
          "Spitzschwanzente",
          "Tundra-Goldregenpfeifer",
          "Braunwürger",
          "Spornammer",
          "Sperbergrasmücke",
          "Spatelraubmöwe",
          "Grosser Alexandersittich",
          "Würgfalke",
          "Rötelfalke",
          "Nymphensittich",
          "Witwenpfeifgans",
          "Zimtente",
          "Amazonasente",
          "Taigabirkenzeisig",
          "Habichtsadler",
          "Kappenammer",
          "Rebhuhn",
          "Marmelente",
          "Andenente",
          "Aztekenmöwe",
          "Wellensittich",
          "Kalanderlerche",
          "Heringsmöwe (L.f.fuscus)",
          "Seggenrohrsänger",
          "Art unbekannt",
          "Hawaiigans",
          "Waldammer",
          "Häherkuckuck",
          "Halsbandsittich",
          "unbest. Seetaucher",
          "Trauerbachstelze",
          "Iberienzilpzalp",
          "Haubenlerche",
          "Mähnenente",
          "Spornpieper",
          "Rosenseeschwalbe",
          "Kappensäger",
          "Braunkopfpapageimeise",
          "Schwarzkopfruderente",
          "Ringelgans",
          "Rosenschnabelente",
          "Kurzschnabelgans",
          "Sumpfläufer",
          "Doppelschnepfe",
          "Zwergammer",
          "Bergstrandläufer",
          "Kleiner Gelbschenkel",
          "Schafstelze (M.f.flavissima/lutea)",
          "Uferschnepfe (L.l.islandica)",
          "unbest. graue Gänse",
          "Tienschanlaubsänger",
          "Zitronenstelze",
          "Fichtenammer",
          "Schwanengans",
          "Korallenmöwe",
          "unbest. Raubmöwe",
          "Chilepfeifente",
          "Falkenraubmöwe",
          "Rotsterniges Blaukehlchen",
          "Dreizehenmöwe",
          "Lachseeschwalbe",
          "Seeregenpfeifer",
          "Graukopfkasarka",
          "Sichelente",
          "Schmarotzerraubmöwe",
          "Schachwürger",
          "Taigazilpzalp",
          "Zwergseeschwalbe",
          "Mariskenrohrsänger",
          "Purpurhuhn",
          "Weidengelbkehlchen",
          "Samtkopfgrasmücke",
          "Teichwasserläufer",
          "Schwanzmeise (A.c.caudatus)",
          "Rotschulterente",
          "Thorshühnchen",
          "Weissrückenspecht",
          "Rötelschwalbe",
          "Zwergsumpfhuhn",
          "Gelbbrauenlaubsänger",
          "Schafstelze (M.f.feldegg)",
          "Triel",
          "Odinshühnchen",
          "Orientturteltaube",
          "Graubruststrandläufer",
          "unbest. Weihe",
          "Zwergscharbe",
          "Terekwasserläufer",
          "Kanadagans",
          "Schneeammer",
          "Seidensänger",
          "Weissbartgrasmücke",
          "Kurzzehenlerche",
          "Skua",
          "Zwergkanadagans",
          "Seeadler",
          "Brandseeschwalbe",
          "Raufussbussard",
          "Steppenweihe",
          "Halsbandschnäpper",
          "Heiliger Ibis",
          "Sumpfohreule",
          "Küstenseeschwalbe",
          "Saatgans",
          "Gleitaar",
          "Rosenstar",
          "Streifengans",
          "Saatgans (A.f.rossicus)",
          "Rotkopfwürger",
          "Fahlsegler",
          "Trauerente",
          "Schafstelze (M.f.cinereocapilla)",
          "Zistensänger",
          "Blauracke",
          "Mönchsgeier",
          "Ringschnabelente",
          "Brautente",
          "Zwergschwan",
          "Weissflügelseeschwalbe",
          "Knutt",
          "Haussperling x Italiensperling",
          "Schwarzschwan",
          "Mornellregenpfeifer",
          "Eistaucher",
          "Karmingimpel",
          "Säbelschnäbler",
          "Sanderling",
          "Ziegenmelker",
          "Wachtelkönig",
          "Sichler",
          "Waldrapp",
          "Moschusente",
          "Eisente",
          "Pfuhlschnepfe",
          "Gelbspötter",
          "Weisssterniges Blaukehlchen",
          "Schafstelze (M.f.thunbergi)",
          "Blaumerle",
          "Weissbartseeschwalbe",
          "Steinwälzer",
          "Mantelmöwe",
          "Teich- oder Sumpfrohrsänger",
          "Brachpieper",
          "Rotkehlpieper",
          "Raubseeschwalbe",
          "Sterntaucher",
          "Wiesenweihe",
          "Zwergsäger",
          "Schafstelze (M.f.flava)",
          "Kleines Sumpfhuhn",
          "Goldregenpfeifer",
          "Ortolan",
          "Bahamaente",
          "Uferschnepfe",
          "Raufusskauz",
          "Rallenreiher",
          "Rabenkrähe x Nebelkrähe",
          "Kiebitzregenpfeifer",
          "Rothalsgans",
          "Temminckstrandläufer",
          "Sichelstrandläufer",
          "Rotfussfalke",
          "Ohrentaucher",
          "Bergente",
          "Dreizehenspecht",
          "Merlin",
          "Blässgans",
          "Austernfischer",
          "Löffler",
          "Stelzenläufer",
          "Zwergohreule",
          "Zwergschnepfe",
          "Rothalstaucher",
          "Regenbrachvogel",
          "Schwarzstorch",
          "Hausgans",
          "Schlangenadler",
          "Weidenmeise",
          "Auerhuhn",
          "unbest. Grossmöwe",
          "Zwergmöwe",
          "Schleiereule",
          "Steinrötel",
          "Weisswangengans",
          "Haselhuhn",
          "Silbermöwe",
          "Alpenkrähe",
          "Orpheusspötter",
          "Blaukehlchen",
          "Sperlingskauz",
          "Waldschnepfe",
          "Grauspecht",
          "Steinkauz",
          "Samtente",
          "Steinhuhn",
          "Jagdfasan",
          "Wachtel",
          "Zwergstrandläufer",
          "Tüpfelsumpfhuhn",
          "Kranich",
          "Hybridente",
          "Dunkler Wasserläufer",
          "Schilfrohrsänger",
          "Alpenschneehuhn",
          "Mandarinente",
          "Rohrdommel",
          "Kuhreiher",
          "Turteltaube",
          "Waldlaubsänger",
          "Schneesperling",
          "Mauerläufer",
          "Singschwan",
          "Beutelmeise",
          "Mönchsmeise (Alpen- oder Weidenmeise)",
          "Prachttaucher",
          "Fischadler",
          "Uhu",
          "Trauerseeschwalbe",
          "Eiderente",
          "Moorente",
          "Steppenmöwe",
          "Hausente",
          "Feldschwirl",
          "Grauammer",
          "Rotschenkel",
          "Mittelsäger",
          "Heidelerche",
          "Sandregenpfeifer",
          "Birkenzeisig",
          "Zitronenzeisig",
          "Gänsegeier",
          "Nachtreiher",
          "Schwarzkopfmöwe",
          "Raubwürger",
          "Waldohreule",
          "Bienenfresser",
          "Purpurreiher",
          "Heringsmöwe",
          "Rotdrossel",
          "Rohrschwirl",
          "Sumpfrohrsänger",
          "Bartmeise",
          "Zwergdommel",
          "Kornweihe",
          "Alpenbraunelle",
          "Wiedehopf",
          "Alpenmeise",
          "Birkhuhn",
          "Wespenbussard",
          "Kleinspecht",
          "Bartgeier",
          "Seidenreiher",
          "Brandgans",
          "Habicht",
          "Zippammer",
          "Uferschwalbe",
          "Mittelspecht",
          "Zaunammer",
          "Italiensperling",
          "Dorngrasmücke",
          "Ringdrossel",
          "Alpensegler",
          "Klappergrasmücke",
          "Waldbaumläufer",
          "Alpenstrandläufer",
          "Schwarzhalstaucher",
          "Schellente",
          "Grünschenkel",
          "Berglaubsänger",
          "Kampfläufer",
          "Drosselrohrsänger",
          "Fichtenkreuzschnabel",
          "Nebelkrähe",
          "Bruchwasserläufer",
          "Flussregenpfeifer",
          "Knäkente",
          "Waldkauz",
          "Spiessente",
          "Flussseeschwalbe",
          "Baumfalke",
          "Wendehals",
          "Grauschnäpper",
          "Alpendohle",
          "Rostgans",
          "Bergfink",
          "Pirol",
          "Tannenhäher",
          "Trauerschnäpper",
          "Schafstelze",
          "Fitis",
          "Wanderfalke",
          "Waldwasserläufer",
          "Wiesenpieper",
          "Rohrweihe",
          "Gimpel",
          "Sturmmöwe",
          "Grosser Brachvogel",
          "Hohltaube",
          "Heckenbraunelle",
          "Wintergoldhähnchen",
          "Pfeifente",
          "Gartengrasmücke",
          "Baumpieper",
          "Haubenmeise",
          "Kernbeisser",
          "Sommergoldhähnchen",
          "Felsenschwalbe",
          "Steinadler",
          "Nilgans",
          "Steinschmätzer",
          "Dohle",
          "Bluthänfling",
          "Kiebitz",
          "Flussuferläufer",
          "Wasseramsel",
          "Braunkehlchen",
          "Strassentaube",
          "Saatkrähe",
          "Nachtigall",
          "Gartenrotschwanz",
          "Schwarzspecht",
          "Teichrohrsänger",
          "Löffelente",
          "Girlitz",
          "Tafelente",
          "Türkentaube",
          "Wasserralle",
          "Schwarzkehlchen",
          "Kuckuck",
          "Feldlerche",
          "Neuntöter",
          "Graugans",
          "Mauersegler",
          "Erlenzeisig",
          "Bekassine",
          "Wacholderdrossel",
          "Schwanzmeise",
          "Bergpieper",
          "Misteldrossel",
          "Sperber",
          "Mehlschwalbe",
          "Tannenmeise",
          "Sumpfmeise",
          "Rohrammer",
          "Kolbenente",
          "Gartenbaumläufer",
          "Gebirgsstelze",
          "Singdrossel",
          "Goldammer",
          "Kolkrabe",
          "Krickente",
          "Feldsperling",
          "Schnatterente",
          "Weissstorch",
          "Schwarzmilan",
          "Teichhuhn",
          "Zwergtaucher",
          "Reiherente",
          "Eisvogel",
          "Rauchschwalbe",
          "Kleiber",
          "Grünfink",
          "Gänsesäger",
          "Lachmöwe",
          "Höckerschwan",
          "Eichelhäher",
          "Zaunkönig",
          "Haubentaucher",
          "Silberreiher",
          "Buntspecht",
          "Elster",
          "Zilpzalp",
          "Haussperling",
          "Star",
          "Stieglitz",
          "Kormoran",
          "Grünspecht",
          "Turmfalke",
          "Hausrotschwanz",
          "Mittelmeermöwe",
          "Mönchsgrasmücke",
          "Blässhuhn",
          "Ringeltaube",
          "Bachstelze",
          "Blaumeise",
          "Rotkehlchen",
          "Stockente",
          "Graureiher",
          "Mäusebussard",
          "Rabenkrähe",
          "Rotmilan",
          "Kohlmeise",
          "Buchfink",
          "Amsel"
         ],
         "xaxis": "x",
         "y": [
          1,
          1,
          1,
          1,
          1,
          1,
          1,
          1,
          1,
          1,
          1,
          1,
          1,
          1,
          1,
          1,
          1,
          1,
          1,
          1,
          1,
          1,
          1,
          1,
          1,
          1,
          1,
          1,
          1,
          1,
          2,
          2,
          2,
          2,
          2,
          2,
          2,
          2,
          2,
          2,
          2,
          2,
          2,
          2,
          2,
          2,
          3,
          3,
          3,
          3,
          3,
          3,
          3,
          3,
          3,
          3,
          4,
          4,
          4,
          4,
          4,
          4,
          4,
          5,
          5,
          5,
          6,
          6,
          6,
          6,
          6,
          7,
          7,
          7,
          7,
          7,
          7,
          8,
          8,
          8,
          8,
          9,
          9,
          9,
          10,
          10,
          10,
          11,
          11,
          13,
          14,
          14,
          14,
          17,
          18,
          19,
          19,
          20,
          22,
          22,
          23,
          23,
          24,
          26,
          27,
          29,
          29,
          31,
          34,
          39,
          41,
          41,
          42,
          44,
          48,
          49,
          50,
          50,
          50,
          55,
          55,
          56,
          57,
          57,
          58,
          62,
          62,
          63,
          64,
          64,
          69,
          70,
          74,
          75,
          75,
          75,
          77,
          77,
          80,
          82,
          83,
          85,
          85,
          86,
          86,
          90,
          92,
          94,
          95,
          99,
          109,
          112,
          123,
          127,
          130,
          132,
          145,
          148,
          165,
          167,
          169,
          176,
          186,
          194,
          203,
          205,
          206,
          209,
          228,
          236,
          236,
          242,
          246,
          247,
          248,
          258,
          267,
          275,
          302,
          304,
          306,
          308,
          311,
          321,
          332,
          353,
          371,
          390,
          392,
          393,
          403,
          423,
          430,
          435,
          442,
          443,
          490,
          491,
          500,
          506,
          511,
          530,
          561,
          566,
          566,
          568,
          572,
          575,
          575,
          578,
          579,
          582,
          601,
          654,
          658,
          667,
          718,
          744,
          807,
          815,
          823,
          883,
          931,
          968,
          977,
          998,
          1013,
          1027,
          1040,
          1047,
          1069,
          1094,
          1100,
          1134,
          1156,
          1157,
          1173,
          1195,
          1255,
          1279,
          1360,
          1382,
          1416,
          1513,
          1514,
          1552,
          1577,
          1609,
          1677,
          1681,
          1763,
          1767,
          1800,
          1865,
          1887,
          1917,
          1952,
          1953,
          1959,
          1974,
          2115,
          2117,
          2123,
          2144,
          2153,
          2163,
          2168,
          2183,
          2185,
          2280,
          2379,
          2415,
          2618,
          2691,
          2708,
          2735,
          2816,
          2921,
          3058,
          3073,
          3076,
          3108,
          3163,
          3246,
          3287,
          3291,
          3307,
          3318,
          3354,
          3365,
          3671,
          3732,
          3817,
          3827,
          3916,
          3925,
          3983,
          4051,
          4349,
          4413,
          4503,
          4602,
          4647,
          4794,
          4800,
          5019,
          5099,
          5196,
          5238,
          5243,
          5289,
          5298,
          5322,
          5340,
          5400,
          5442,
          5498,
          5533,
          5538,
          6279,
          6290,
          6351,
          6378,
          6382,
          6434,
          6730,
          6770,
          7062,
          7295,
          7399,
          7504,
          7702,
          8220,
          8283,
          8447,
          8745,
          9037,
          9055,
          9195,
          9523,
          10197,
          10460,
          10603,
          11018,
          11194,
          11405,
          11967,
          12075,
          12277,
          12722,
          12802,
          13110,
          13652,
          13689,
          14140,
          14356,
          14498,
          14787,
          14838,
          14989,
          15056,
          15160,
          15758,
          15903,
          15974,
          16329,
          16585,
          16996,
          17194,
          17621,
          17774,
          18291,
          18790,
          18822,
          19045,
          19464,
          20311,
          20326,
          20336,
          20661,
          20924,
          20979,
          21039,
          21645,
          22301,
          23033,
          23053,
          23094,
          23346,
          23710,
          23815,
          24275,
          24618,
          24641,
          25330,
          26621,
          26865,
          27668,
          27857,
          29160,
          29530,
          29542,
          29575,
          29617,
          29652,
          30117,
          30133,
          30614,
          31102,
          31479,
          31618,
          31864,
          32490,
          32807,
          33582,
          36311,
          36473,
          37638,
          38388,
          38900,
          39066,
          40120,
          42495,
          42920,
          43688,
          45996,
          47178,
          47904,
          48742,
          50226,
          50789,
          51063,
          52614,
          53005,
          53321,
          53471,
          54247,
          54359,
          54606,
          55686,
          57627,
          59107,
          60235,
          60454,
          60993,
          62227,
          63058,
          64713,
          65304,
          65778,
          67800,
          70001,
          70034,
          70543,
          71423,
          78075,
          78362,
          84467,
          85084,
          85435,
          87118,
          90264,
          91140,
          94228,
          97299,
          97930,
          100481,
          102953,
          103832,
          107922,
          107961,
          113479,
          122435,
          126646,
          127794,
          128202,
          128320,
          130286,
          130716,
          133163,
          135660,
          135827,
          140932,
          144114,
          150848,
          154491,
          165959,
          175514,
          186326,
          188714,
          190876,
          208703,
          214905,
          222391,
          225635,
          240098,
          247379
         ],
         "yaxis": "y"
        }
       ],
       "layout": {
        "barmode": "relative",
        "legend": {
         "title": {
          "text": "variable"
         },
         "tracegroupgap": 0
        },
        "margin": {
         "t": 60
        },
        "template": {
         "data": {
          "bar": [
           {
            "error_x": {
             "color": "#2a3f5f"
            },
            "error_y": {
             "color": "#2a3f5f"
            },
            "marker": {
             "line": {
              "color": "#E5ECF6",
              "width": 0.5
             },
             "pattern": {
              "fillmode": "overlay",
              "size": 10,
              "solidity": 0.2
             }
            },
            "type": "bar"
           }
          ],
          "barpolar": [
           {
            "marker": {
             "line": {
              "color": "#E5ECF6",
              "width": 0.5
             },
             "pattern": {
              "fillmode": "overlay",
              "size": 10,
              "solidity": 0.2
             }
            },
            "type": "barpolar"
           }
          ],
          "carpet": [
           {
            "aaxis": {
             "endlinecolor": "#2a3f5f",
             "gridcolor": "white",
             "linecolor": "white",
             "minorgridcolor": "white",
             "startlinecolor": "#2a3f5f"
            },
            "baxis": {
             "endlinecolor": "#2a3f5f",
             "gridcolor": "white",
             "linecolor": "white",
             "minorgridcolor": "white",
             "startlinecolor": "#2a3f5f"
            },
            "type": "carpet"
           }
          ],
          "choropleth": [
           {
            "colorbar": {
             "outlinewidth": 0,
             "ticks": ""
            },
            "type": "choropleth"
           }
          ],
          "contour": [
           {
            "colorbar": {
             "outlinewidth": 0,
             "ticks": ""
            },
            "colorscale": [
             [
              0,
              "#0d0887"
             ],
             [
              0.1111111111111111,
              "#46039f"
             ],
             [
              0.2222222222222222,
              "#7201a8"
             ],
             [
              0.3333333333333333,
              "#9c179e"
             ],
             [
              0.4444444444444444,
              "#bd3786"
             ],
             [
              0.5555555555555556,
              "#d8576b"
             ],
             [
              0.6666666666666666,
              "#ed7953"
             ],
             [
              0.7777777777777778,
              "#fb9f3a"
             ],
             [
              0.8888888888888888,
              "#fdca26"
             ],
             [
              1,
              "#f0f921"
             ]
            ],
            "type": "contour"
           }
          ],
          "contourcarpet": [
           {
            "colorbar": {
             "outlinewidth": 0,
             "ticks": ""
            },
            "type": "contourcarpet"
           }
          ],
          "heatmap": [
           {
            "colorbar": {
             "outlinewidth": 0,
             "ticks": ""
            },
            "colorscale": [
             [
              0,
              "#0d0887"
             ],
             [
              0.1111111111111111,
              "#46039f"
             ],
             [
              0.2222222222222222,
              "#7201a8"
             ],
             [
              0.3333333333333333,
              "#9c179e"
             ],
             [
              0.4444444444444444,
              "#bd3786"
             ],
             [
              0.5555555555555556,
              "#d8576b"
             ],
             [
              0.6666666666666666,
              "#ed7953"
             ],
             [
              0.7777777777777778,
              "#fb9f3a"
             ],
             [
              0.8888888888888888,
              "#fdca26"
             ],
             [
              1,
              "#f0f921"
             ]
            ],
            "type": "heatmap"
           }
          ],
          "heatmapgl": [
           {
            "colorbar": {
             "outlinewidth": 0,
             "ticks": ""
            },
            "colorscale": [
             [
              0,
              "#0d0887"
             ],
             [
              0.1111111111111111,
              "#46039f"
             ],
             [
              0.2222222222222222,
              "#7201a8"
             ],
             [
              0.3333333333333333,
              "#9c179e"
             ],
             [
              0.4444444444444444,
              "#bd3786"
             ],
             [
              0.5555555555555556,
              "#d8576b"
             ],
             [
              0.6666666666666666,
              "#ed7953"
             ],
             [
              0.7777777777777778,
              "#fb9f3a"
             ],
             [
              0.8888888888888888,
              "#fdca26"
             ],
             [
              1,
              "#f0f921"
             ]
            ],
            "type": "heatmapgl"
           }
          ],
          "histogram": [
           {
            "marker": {
             "pattern": {
              "fillmode": "overlay",
              "size": 10,
              "solidity": 0.2
             }
            },
            "type": "histogram"
           }
          ],
          "histogram2d": [
           {
            "colorbar": {
             "outlinewidth": 0,
             "ticks": ""
            },
            "colorscale": [
             [
              0,
              "#0d0887"
             ],
             [
              0.1111111111111111,
              "#46039f"
             ],
             [
              0.2222222222222222,
              "#7201a8"
             ],
             [
              0.3333333333333333,
              "#9c179e"
             ],
             [
              0.4444444444444444,
              "#bd3786"
             ],
             [
              0.5555555555555556,
              "#d8576b"
             ],
             [
              0.6666666666666666,
              "#ed7953"
             ],
             [
              0.7777777777777778,
              "#fb9f3a"
             ],
             [
              0.8888888888888888,
              "#fdca26"
             ],
             [
              1,
              "#f0f921"
             ]
            ],
            "type": "histogram2d"
           }
          ],
          "histogram2dcontour": [
           {
            "colorbar": {
             "outlinewidth": 0,
             "ticks": ""
            },
            "colorscale": [
             [
              0,
              "#0d0887"
             ],
             [
              0.1111111111111111,
              "#46039f"
             ],
             [
              0.2222222222222222,
              "#7201a8"
             ],
             [
              0.3333333333333333,
              "#9c179e"
             ],
             [
              0.4444444444444444,
              "#bd3786"
             ],
             [
              0.5555555555555556,
              "#d8576b"
             ],
             [
              0.6666666666666666,
              "#ed7953"
             ],
             [
              0.7777777777777778,
              "#fb9f3a"
             ],
             [
              0.8888888888888888,
              "#fdca26"
             ],
             [
              1,
              "#f0f921"
             ]
            ],
            "type": "histogram2dcontour"
           }
          ],
          "mesh3d": [
           {
            "colorbar": {
             "outlinewidth": 0,
             "ticks": ""
            },
            "type": "mesh3d"
           }
          ],
          "parcoords": [
           {
            "line": {
             "colorbar": {
              "outlinewidth": 0,
              "ticks": ""
             }
            },
            "type": "parcoords"
           }
          ],
          "pie": [
           {
            "automargin": true,
            "type": "pie"
           }
          ],
          "scatter": [
           {
            "fillpattern": {
             "fillmode": "overlay",
             "size": 10,
             "solidity": 0.2
            },
            "type": "scatter"
           }
          ],
          "scatter3d": [
           {
            "line": {
             "colorbar": {
              "outlinewidth": 0,
              "ticks": ""
             }
            },
            "marker": {
             "colorbar": {
              "outlinewidth": 0,
              "ticks": ""
             }
            },
            "type": "scatter3d"
           }
          ],
          "scattercarpet": [
           {
            "marker": {
             "colorbar": {
              "outlinewidth": 0,
              "ticks": ""
             }
            },
            "type": "scattercarpet"
           }
          ],
          "scattergeo": [
           {
            "marker": {
             "colorbar": {
              "outlinewidth": 0,
              "ticks": ""
             }
            },
            "type": "scattergeo"
           }
          ],
          "scattergl": [
           {
            "marker": {
             "colorbar": {
              "outlinewidth": 0,
              "ticks": ""
             }
            },
            "type": "scattergl"
           }
          ],
          "scattermapbox": [
           {
            "marker": {
             "colorbar": {
              "outlinewidth": 0,
              "ticks": ""
             }
            },
            "type": "scattermapbox"
           }
          ],
          "scatterpolar": [
           {
            "marker": {
             "colorbar": {
              "outlinewidth": 0,
              "ticks": ""
             }
            },
            "type": "scatterpolar"
           }
          ],
          "scatterpolargl": [
           {
            "marker": {
             "colorbar": {
              "outlinewidth": 0,
              "ticks": ""
             }
            },
            "type": "scatterpolargl"
           }
          ],
          "scatterternary": [
           {
            "marker": {
             "colorbar": {
              "outlinewidth": 0,
              "ticks": ""
             }
            },
            "type": "scatterternary"
           }
          ],
          "surface": [
           {
            "colorbar": {
             "outlinewidth": 0,
             "ticks": ""
            },
            "colorscale": [
             [
              0,
              "#0d0887"
             ],
             [
              0.1111111111111111,
              "#46039f"
             ],
             [
              0.2222222222222222,
              "#7201a8"
             ],
             [
              0.3333333333333333,
              "#9c179e"
             ],
             [
              0.4444444444444444,
              "#bd3786"
             ],
             [
              0.5555555555555556,
              "#d8576b"
             ],
             [
              0.6666666666666666,
              "#ed7953"
             ],
             [
              0.7777777777777778,
              "#fb9f3a"
             ],
             [
              0.8888888888888888,
              "#fdca26"
             ],
             [
              1,
              "#f0f921"
             ]
            ],
            "type": "surface"
           }
          ],
          "table": [
           {
            "cells": {
             "fill": {
              "color": "#EBF0F8"
             },
             "line": {
              "color": "white"
             }
            },
            "header": {
             "fill": {
              "color": "#C8D4E3"
             },
             "line": {
              "color": "white"
             }
            },
            "type": "table"
           }
          ]
         },
         "layout": {
          "annotationdefaults": {
           "arrowcolor": "#2a3f5f",
           "arrowhead": 0,
           "arrowwidth": 1
          },
          "autotypenumbers": "strict",
          "coloraxis": {
           "colorbar": {
            "outlinewidth": 0,
            "ticks": ""
           }
          },
          "colorscale": {
           "diverging": [
            [
             0,
             "#8e0152"
            ],
            [
             0.1,
             "#c51b7d"
            ],
            [
             0.2,
             "#de77ae"
            ],
            [
             0.3,
             "#f1b6da"
            ],
            [
             0.4,
             "#fde0ef"
            ],
            [
             0.5,
             "#f7f7f7"
            ],
            [
             0.6,
             "#e6f5d0"
            ],
            [
             0.7,
             "#b8e186"
            ],
            [
             0.8,
             "#7fbc41"
            ],
            [
             0.9,
             "#4d9221"
            ],
            [
             1,
             "#276419"
            ]
           ],
           "sequential": [
            [
             0,
             "#0d0887"
            ],
            [
             0.1111111111111111,
             "#46039f"
            ],
            [
             0.2222222222222222,
             "#7201a8"
            ],
            [
             0.3333333333333333,
             "#9c179e"
            ],
            [
             0.4444444444444444,
             "#bd3786"
            ],
            [
             0.5555555555555556,
             "#d8576b"
            ],
            [
             0.6666666666666666,
             "#ed7953"
            ],
            [
             0.7777777777777778,
             "#fb9f3a"
            ],
            [
             0.8888888888888888,
             "#fdca26"
            ],
            [
             1,
             "#f0f921"
            ]
           ],
           "sequentialminus": [
            [
             0,
             "#0d0887"
            ],
            [
             0.1111111111111111,
             "#46039f"
            ],
            [
             0.2222222222222222,
             "#7201a8"
            ],
            [
             0.3333333333333333,
             "#9c179e"
            ],
            [
             0.4444444444444444,
             "#bd3786"
            ],
            [
             0.5555555555555556,
             "#d8576b"
            ],
            [
             0.6666666666666666,
             "#ed7953"
            ],
            [
             0.7777777777777778,
             "#fb9f3a"
            ],
            [
             0.8888888888888888,
             "#fdca26"
            ],
            [
             1,
             "#f0f921"
            ]
           ]
          },
          "colorway": [
           "#636efa",
           "#EF553B",
           "#00cc96",
           "#ab63fa",
           "#FFA15A",
           "#19d3f3",
           "#FF6692",
           "#B6E880",
           "#FF97FF",
           "#FECB52"
          ],
          "font": {
           "color": "#2a3f5f"
          },
          "geo": {
           "bgcolor": "white",
           "lakecolor": "white",
           "landcolor": "#E5ECF6",
           "showlakes": true,
           "showland": true,
           "subunitcolor": "white"
          },
          "hoverlabel": {
           "align": "left"
          },
          "hovermode": "closest",
          "mapbox": {
           "style": "light"
          },
          "paper_bgcolor": "white",
          "plot_bgcolor": "#E5ECF6",
          "polar": {
           "angularaxis": {
            "gridcolor": "white",
            "linecolor": "white",
            "ticks": ""
           },
           "bgcolor": "#E5ECF6",
           "radialaxis": {
            "gridcolor": "white",
            "linecolor": "white",
            "ticks": ""
           }
          },
          "scene": {
           "xaxis": {
            "backgroundcolor": "#E5ECF6",
            "gridcolor": "white",
            "gridwidth": 2,
            "linecolor": "white",
            "showbackground": true,
            "ticks": "",
            "zerolinecolor": "white"
           },
           "yaxis": {
            "backgroundcolor": "#E5ECF6",
            "gridcolor": "white",
            "gridwidth": 2,
            "linecolor": "white",
            "showbackground": true,
            "ticks": "",
            "zerolinecolor": "white"
           },
           "zaxis": {
            "backgroundcolor": "#E5ECF6",
            "gridcolor": "white",
            "gridwidth": 2,
            "linecolor": "white",
            "showbackground": true,
            "ticks": "",
            "zerolinecolor": "white"
           }
          },
          "shapedefaults": {
           "line": {
            "color": "#2a3f5f"
           }
          },
          "ternary": {
           "aaxis": {
            "gridcolor": "white",
            "linecolor": "white",
            "ticks": ""
           },
           "baxis": {
            "gridcolor": "white",
            "linecolor": "white",
            "ticks": ""
           },
           "bgcolor": "#E5ECF6",
           "caxis": {
            "gridcolor": "white",
            "linecolor": "white",
            "ticks": ""
           }
          },
          "title": {
           "x": 0.05
          },
          "xaxis": {
           "automargin": true,
           "gridcolor": "white",
           "linecolor": "white",
           "ticks": "",
           "title": {
            "standoff": 15
           },
           "zerolinecolor": "white",
           "zerolinewidth": 2
          },
          "yaxis": {
           "automargin": true,
           "gridcolor": "white",
           "linecolor": "white",
           "ticks": "",
           "title": {
            "standoff": 15
           },
           "zerolinecolor": "white",
           "zerolinewidth": 2
          }
         }
        },
        "xaxis": {
         "anchor": "y",
         "domain": [
          0,
          1
         ],
         "title": {
          "text": "NAME_SPECIES"
         }
        },
        "yaxis": {
         "anchor": "x",
         "domain": [
          0,
          1
         ],
         "title": {
          "text": "value"
         }
        }
       }
      }
     },
     "metadata": {},
     "output_type": "display_data"
    }
   ],
   "source": [
    "fig = px.bar(n_per_species.sort_values(ascending=True))\n",
    "fig.show()"
   ]
  },
  {
   "attachments": {},
   "cell_type": "markdown",
   "metadata": {},
   "source": [
    "## Observers  👀"
   ]
  },
  {
   "attachments": {},
   "cell_type": "markdown",
   "metadata": {},
   "source": [
    "### How many observers?"
   ]
  },
  {
   "cell_type": "code",
   "execution_count": 8,
   "metadata": {},
   "outputs": [
    {
     "name": "stdout",
     "output_type": "stream",
     "text": [
      "Number of observers in dataset: 8885\n"
     ]
    }
   ],
   "source": [
    "n_observers = df['ID_OBSERVER'].nunique()\n",
    "print('Number of observers in dataset:', n_observers)"
   ]
  },
  {
   "attachments": {},
   "cell_type": "markdown",
   "metadata": {},
   "source": [
    "### Top 10 observers"
   ]
  },
  {
   "cell_type": "code",
   "execution_count": 9,
   "metadata": {},
   "outputs": [
    {
     "data": {
      "text/plain": [
       "ID_OBSERVER\n",
       "11442.0    227058\n",
       "1270.0     182857\n",
       "1052.0     166358\n",
       "3135.0     145420\n",
       "9615.0     116936\n",
       "            ...  \n",
       "22335.0         1\n",
       "22338.0         1\n",
       "22339.0         1\n",
       "22340.0         1\n",
       "nan             1\n",
       "Length: 8886, dtype: int64"
      ]
     },
     "execution_count": 9,
     "metadata": {},
     "output_type": "execute_result"
    }
   ],
   "source": [
    "df['ID_OBSERVER'] = df['ID_OBSERVER'].astype(str)\n",
    "n_per_observer = df.groupby('ID_OBSERVER').size().sort_values(ascending=False)\n",
    "n_per_observer"
   ]
  },
  {
   "cell_type": "code",
   "execution_count": 10,
   "metadata": {},
   "outputs": [
    {
     "data": {
      "application/vnd.plotly.v1+json": {
       "config": {
        "plotlyServerURL": "https://plot.ly"
       },
       "data": [
        {
         "alignmentgroup": "True",
         "hovertemplate": "variable=0<br>ID_OBSERVER=%{x}<br>value=%{y}<extra></extra>",
         "legendgroup": "0",
         "marker": {
          "color": "#636efa",
          "pattern": {
           "shape": ""
          }
         },
         "name": "0",
         "offsetgroup": "0",
         "orientation": "v",
         "showlegend": true,
         "textposition": "auto",
         "type": "bar",
         "x": [
          "11442.0",
          "1270.0",
          "1052.0",
          "3135.0",
          "9615.0",
          "1984.0",
          "5816.0",
          "9025.0",
          "1966.0",
          "1696.0"
         ],
         "xaxis": "x",
         "y": [
          227058,
          182857,
          166358,
          145420,
          116936,
          111781,
          102953,
          97076,
          92843,
          84506
         ],
         "yaxis": "y"
        }
       ],
       "layout": {
        "barmode": "relative",
        "legend": {
         "title": {
          "text": "variable"
         },
         "tracegroupgap": 0
        },
        "margin": {
         "t": 60
        },
        "template": {
         "data": {
          "bar": [
           {
            "error_x": {
             "color": "#2a3f5f"
            },
            "error_y": {
             "color": "#2a3f5f"
            },
            "marker": {
             "line": {
              "color": "#E5ECF6",
              "width": 0.5
             },
             "pattern": {
              "fillmode": "overlay",
              "size": 10,
              "solidity": 0.2
             }
            },
            "type": "bar"
           }
          ],
          "barpolar": [
           {
            "marker": {
             "line": {
              "color": "#E5ECF6",
              "width": 0.5
             },
             "pattern": {
              "fillmode": "overlay",
              "size": 10,
              "solidity": 0.2
             }
            },
            "type": "barpolar"
           }
          ],
          "carpet": [
           {
            "aaxis": {
             "endlinecolor": "#2a3f5f",
             "gridcolor": "white",
             "linecolor": "white",
             "minorgridcolor": "white",
             "startlinecolor": "#2a3f5f"
            },
            "baxis": {
             "endlinecolor": "#2a3f5f",
             "gridcolor": "white",
             "linecolor": "white",
             "minorgridcolor": "white",
             "startlinecolor": "#2a3f5f"
            },
            "type": "carpet"
           }
          ],
          "choropleth": [
           {
            "colorbar": {
             "outlinewidth": 0,
             "ticks": ""
            },
            "type": "choropleth"
           }
          ],
          "contour": [
           {
            "colorbar": {
             "outlinewidth": 0,
             "ticks": ""
            },
            "colorscale": [
             [
              0,
              "#0d0887"
             ],
             [
              0.1111111111111111,
              "#46039f"
             ],
             [
              0.2222222222222222,
              "#7201a8"
             ],
             [
              0.3333333333333333,
              "#9c179e"
             ],
             [
              0.4444444444444444,
              "#bd3786"
             ],
             [
              0.5555555555555556,
              "#d8576b"
             ],
             [
              0.6666666666666666,
              "#ed7953"
             ],
             [
              0.7777777777777778,
              "#fb9f3a"
             ],
             [
              0.8888888888888888,
              "#fdca26"
             ],
             [
              1,
              "#f0f921"
             ]
            ],
            "type": "contour"
           }
          ],
          "contourcarpet": [
           {
            "colorbar": {
             "outlinewidth": 0,
             "ticks": ""
            },
            "type": "contourcarpet"
           }
          ],
          "heatmap": [
           {
            "colorbar": {
             "outlinewidth": 0,
             "ticks": ""
            },
            "colorscale": [
             [
              0,
              "#0d0887"
             ],
             [
              0.1111111111111111,
              "#46039f"
             ],
             [
              0.2222222222222222,
              "#7201a8"
             ],
             [
              0.3333333333333333,
              "#9c179e"
             ],
             [
              0.4444444444444444,
              "#bd3786"
             ],
             [
              0.5555555555555556,
              "#d8576b"
             ],
             [
              0.6666666666666666,
              "#ed7953"
             ],
             [
              0.7777777777777778,
              "#fb9f3a"
             ],
             [
              0.8888888888888888,
              "#fdca26"
             ],
             [
              1,
              "#f0f921"
             ]
            ],
            "type": "heatmap"
           }
          ],
          "heatmapgl": [
           {
            "colorbar": {
             "outlinewidth": 0,
             "ticks": ""
            },
            "colorscale": [
             [
              0,
              "#0d0887"
             ],
             [
              0.1111111111111111,
              "#46039f"
             ],
             [
              0.2222222222222222,
              "#7201a8"
             ],
             [
              0.3333333333333333,
              "#9c179e"
             ],
             [
              0.4444444444444444,
              "#bd3786"
             ],
             [
              0.5555555555555556,
              "#d8576b"
             ],
             [
              0.6666666666666666,
              "#ed7953"
             ],
             [
              0.7777777777777778,
              "#fb9f3a"
             ],
             [
              0.8888888888888888,
              "#fdca26"
             ],
             [
              1,
              "#f0f921"
             ]
            ],
            "type": "heatmapgl"
           }
          ],
          "histogram": [
           {
            "marker": {
             "pattern": {
              "fillmode": "overlay",
              "size": 10,
              "solidity": 0.2
             }
            },
            "type": "histogram"
           }
          ],
          "histogram2d": [
           {
            "colorbar": {
             "outlinewidth": 0,
             "ticks": ""
            },
            "colorscale": [
             [
              0,
              "#0d0887"
             ],
             [
              0.1111111111111111,
              "#46039f"
             ],
             [
              0.2222222222222222,
              "#7201a8"
             ],
             [
              0.3333333333333333,
              "#9c179e"
             ],
             [
              0.4444444444444444,
              "#bd3786"
             ],
             [
              0.5555555555555556,
              "#d8576b"
             ],
             [
              0.6666666666666666,
              "#ed7953"
             ],
             [
              0.7777777777777778,
              "#fb9f3a"
             ],
             [
              0.8888888888888888,
              "#fdca26"
             ],
             [
              1,
              "#f0f921"
             ]
            ],
            "type": "histogram2d"
           }
          ],
          "histogram2dcontour": [
           {
            "colorbar": {
             "outlinewidth": 0,
             "ticks": ""
            },
            "colorscale": [
             [
              0,
              "#0d0887"
             ],
             [
              0.1111111111111111,
              "#46039f"
             ],
             [
              0.2222222222222222,
              "#7201a8"
             ],
             [
              0.3333333333333333,
              "#9c179e"
             ],
             [
              0.4444444444444444,
              "#bd3786"
             ],
             [
              0.5555555555555556,
              "#d8576b"
             ],
             [
              0.6666666666666666,
              "#ed7953"
             ],
             [
              0.7777777777777778,
              "#fb9f3a"
             ],
             [
              0.8888888888888888,
              "#fdca26"
             ],
             [
              1,
              "#f0f921"
             ]
            ],
            "type": "histogram2dcontour"
           }
          ],
          "mesh3d": [
           {
            "colorbar": {
             "outlinewidth": 0,
             "ticks": ""
            },
            "type": "mesh3d"
           }
          ],
          "parcoords": [
           {
            "line": {
             "colorbar": {
              "outlinewidth": 0,
              "ticks": ""
             }
            },
            "type": "parcoords"
           }
          ],
          "pie": [
           {
            "automargin": true,
            "type": "pie"
           }
          ],
          "scatter": [
           {
            "fillpattern": {
             "fillmode": "overlay",
             "size": 10,
             "solidity": 0.2
            },
            "type": "scatter"
           }
          ],
          "scatter3d": [
           {
            "line": {
             "colorbar": {
              "outlinewidth": 0,
              "ticks": ""
             }
            },
            "marker": {
             "colorbar": {
              "outlinewidth": 0,
              "ticks": ""
             }
            },
            "type": "scatter3d"
           }
          ],
          "scattercarpet": [
           {
            "marker": {
             "colorbar": {
              "outlinewidth": 0,
              "ticks": ""
             }
            },
            "type": "scattercarpet"
           }
          ],
          "scattergeo": [
           {
            "marker": {
             "colorbar": {
              "outlinewidth": 0,
              "ticks": ""
             }
            },
            "type": "scattergeo"
           }
          ],
          "scattergl": [
           {
            "marker": {
             "colorbar": {
              "outlinewidth": 0,
              "ticks": ""
             }
            },
            "type": "scattergl"
           }
          ],
          "scattermapbox": [
           {
            "marker": {
             "colorbar": {
              "outlinewidth": 0,
              "ticks": ""
             }
            },
            "type": "scattermapbox"
           }
          ],
          "scatterpolar": [
           {
            "marker": {
             "colorbar": {
              "outlinewidth": 0,
              "ticks": ""
             }
            },
            "type": "scatterpolar"
           }
          ],
          "scatterpolargl": [
           {
            "marker": {
             "colorbar": {
              "outlinewidth": 0,
              "ticks": ""
             }
            },
            "type": "scatterpolargl"
           }
          ],
          "scatterternary": [
           {
            "marker": {
             "colorbar": {
              "outlinewidth": 0,
              "ticks": ""
             }
            },
            "type": "scatterternary"
           }
          ],
          "surface": [
           {
            "colorbar": {
             "outlinewidth": 0,
             "ticks": ""
            },
            "colorscale": [
             [
              0,
              "#0d0887"
             ],
             [
              0.1111111111111111,
              "#46039f"
             ],
             [
              0.2222222222222222,
              "#7201a8"
             ],
             [
              0.3333333333333333,
              "#9c179e"
             ],
             [
              0.4444444444444444,
              "#bd3786"
             ],
             [
              0.5555555555555556,
              "#d8576b"
             ],
             [
              0.6666666666666666,
              "#ed7953"
             ],
             [
              0.7777777777777778,
              "#fb9f3a"
             ],
             [
              0.8888888888888888,
              "#fdca26"
             ],
             [
              1,
              "#f0f921"
             ]
            ],
            "type": "surface"
           }
          ],
          "table": [
           {
            "cells": {
             "fill": {
              "color": "#EBF0F8"
             },
             "line": {
              "color": "white"
             }
            },
            "header": {
             "fill": {
              "color": "#C8D4E3"
             },
             "line": {
              "color": "white"
             }
            },
            "type": "table"
           }
          ]
         },
         "layout": {
          "annotationdefaults": {
           "arrowcolor": "#2a3f5f",
           "arrowhead": 0,
           "arrowwidth": 1
          },
          "autotypenumbers": "strict",
          "coloraxis": {
           "colorbar": {
            "outlinewidth": 0,
            "ticks": ""
           }
          },
          "colorscale": {
           "diverging": [
            [
             0,
             "#8e0152"
            ],
            [
             0.1,
             "#c51b7d"
            ],
            [
             0.2,
             "#de77ae"
            ],
            [
             0.3,
             "#f1b6da"
            ],
            [
             0.4,
             "#fde0ef"
            ],
            [
             0.5,
             "#f7f7f7"
            ],
            [
             0.6,
             "#e6f5d0"
            ],
            [
             0.7,
             "#b8e186"
            ],
            [
             0.8,
             "#7fbc41"
            ],
            [
             0.9,
             "#4d9221"
            ],
            [
             1,
             "#276419"
            ]
           ],
           "sequential": [
            [
             0,
             "#0d0887"
            ],
            [
             0.1111111111111111,
             "#46039f"
            ],
            [
             0.2222222222222222,
             "#7201a8"
            ],
            [
             0.3333333333333333,
             "#9c179e"
            ],
            [
             0.4444444444444444,
             "#bd3786"
            ],
            [
             0.5555555555555556,
             "#d8576b"
            ],
            [
             0.6666666666666666,
             "#ed7953"
            ],
            [
             0.7777777777777778,
             "#fb9f3a"
            ],
            [
             0.8888888888888888,
             "#fdca26"
            ],
            [
             1,
             "#f0f921"
            ]
           ],
           "sequentialminus": [
            [
             0,
             "#0d0887"
            ],
            [
             0.1111111111111111,
             "#46039f"
            ],
            [
             0.2222222222222222,
             "#7201a8"
            ],
            [
             0.3333333333333333,
             "#9c179e"
            ],
            [
             0.4444444444444444,
             "#bd3786"
            ],
            [
             0.5555555555555556,
             "#d8576b"
            ],
            [
             0.6666666666666666,
             "#ed7953"
            ],
            [
             0.7777777777777778,
             "#fb9f3a"
            ],
            [
             0.8888888888888888,
             "#fdca26"
            ],
            [
             1,
             "#f0f921"
            ]
           ]
          },
          "colorway": [
           "#636efa",
           "#EF553B",
           "#00cc96",
           "#ab63fa",
           "#FFA15A",
           "#19d3f3",
           "#FF6692",
           "#B6E880",
           "#FF97FF",
           "#FECB52"
          ],
          "font": {
           "color": "#2a3f5f"
          },
          "geo": {
           "bgcolor": "white",
           "lakecolor": "white",
           "landcolor": "#E5ECF6",
           "showlakes": true,
           "showland": true,
           "subunitcolor": "white"
          },
          "hoverlabel": {
           "align": "left"
          },
          "hovermode": "closest",
          "mapbox": {
           "style": "light"
          },
          "paper_bgcolor": "white",
          "plot_bgcolor": "#E5ECF6",
          "polar": {
           "angularaxis": {
            "gridcolor": "white",
            "linecolor": "white",
            "ticks": ""
           },
           "bgcolor": "#E5ECF6",
           "radialaxis": {
            "gridcolor": "white",
            "linecolor": "white",
            "ticks": ""
           }
          },
          "scene": {
           "xaxis": {
            "backgroundcolor": "#E5ECF6",
            "gridcolor": "white",
            "gridwidth": 2,
            "linecolor": "white",
            "showbackground": true,
            "ticks": "",
            "zerolinecolor": "white"
           },
           "yaxis": {
            "backgroundcolor": "#E5ECF6",
            "gridcolor": "white",
            "gridwidth": 2,
            "linecolor": "white",
            "showbackground": true,
            "ticks": "",
            "zerolinecolor": "white"
           },
           "zaxis": {
            "backgroundcolor": "#E5ECF6",
            "gridcolor": "white",
            "gridwidth": 2,
            "linecolor": "white",
            "showbackground": true,
            "ticks": "",
            "zerolinecolor": "white"
           }
          },
          "shapedefaults": {
           "line": {
            "color": "#2a3f5f"
           }
          },
          "ternary": {
           "aaxis": {
            "gridcolor": "white",
            "linecolor": "white",
            "ticks": ""
           },
           "baxis": {
            "gridcolor": "white",
            "linecolor": "white",
            "ticks": ""
           },
           "bgcolor": "#E5ECF6",
           "caxis": {
            "gridcolor": "white",
            "linecolor": "white",
            "ticks": ""
           }
          },
          "title": {
           "x": 0.05
          },
          "xaxis": {
           "automargin": true,
           "gridcolor": "white",
           "linecolor": "white",
           "ticks": "",
           "title": {
            "standoff": 15
           },
           "zerolinecolor": "white",
           "zerolinewidth": 2
          },
          "yaxis": {
           "automargin": true,
           "gridcolor": "white",
           "linecolor": "white",
           "ticks": "",
           "title": {
            "standoff": 15
           },
           "zerolinecolor": "white",
           "zerolinewidth": 2
          }
         }
        },
        "xaxis": {
         "anchor": "y",
         "domain": [
          0,
          1
         ],
         "title": {
          "text": "ID_OBSERVER"
         }
        },
        "yaxis": {
         "anchor": "x",
         "domain": [
          0,
          1
         ],
         "title": {
          "text": "value"
         }
        }
       }
      }
     },
     "metadata": {},
     "output_type": "display_data"
    }
   ],
   "source": [
    "fig = px.bar(n_per_observer[0:10])\n",
    "fig.show()"
   ]
  }
 ],
 "metadata": {
  "kernelspec": {
   "display_name": "bird",
   "language": "python",
   "name": "python3"
  },
  "language_info": {
   "codemirror_mode": {
    "name": "ipython",
    "version": 3
   },
   "file_extension": ".py",
   "mimetype": "text/x-python",
   "name": "python",
   "nbconvert_exporter": "python",
   "pygments_lexer": "ipython3",
   "version": "3.10.11"
  },
  "orig_nbformat": 4
 },
 "nbformat": 4,
 "nbformat_minor": 2
}
