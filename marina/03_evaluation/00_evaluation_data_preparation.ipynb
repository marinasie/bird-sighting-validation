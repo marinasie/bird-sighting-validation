{
 "cells": [
  {
   "cell_type": "markdown",
   "metadata": {},
   "source": [
    "<img src=\"../../img/evaluation_data_preparation.png\" alt=\"Evaluation data preparation\" style=\"width: 100%; border-radius: 20px;\"/>"
   ]
  },
  {
   "cell_type": "code",
   "execution_count": 1,
   "metadata": {},
   "outputs": [
    {
     "data": {
      "text/html": [
       "<style>\n",
       "    body {\n",
       "        --vscode-font-family: \"Itim\"\n",
       "    }\n",
       "</style>\n"
      ],
      "text/plain": [
       "<IPython.core.display.HTML object>"
      ]
     },
     "metadata": {},
     "output_type": "display_data"
    }
   ],
   "source": [
    "%%HTML\n",
    "<style>\n",
    "    body {\n",
    "        --vscode-font-family: \"Itim\"\n",
    "    }\n",
    "</style>"
   ]
  },
  {
   "cell_type": "code",
   "execution_count": 2,
   "metadata": {},
   "outputs": [],
   "source": [
    "import sys\n",
    "sys.path.append('../')\n",
    "sys.path.append('../../')\n",
    "\n",
    "import pandas as pd\n",
    "\n",
    "from utils.data_preparation import *"
   ]
  },
  {
   "cell_type": "markdown",
   "metadata": {},
   "source": [
    "## Validation data"
   ]
  },
  {
   "cell_type": "markdown",
   "metadata": {},
   "source": [
    "### Swiss data"
   ]
  },
  {
   "cell_type": "code",
   "execution_count": 3,
   "metadata": {},
   "outputs": [],
   "source": [
    "# Load and standardize validation data\n",
    "path_validata_ch = '../../../01_Data/datasets/validata_ornitho_ch_2023.csv'\n",
    "date_format = '%d.%m.%Y'  # ch: '%d.%m.%Y'; de: %m/%d/%Y\n",
    "\n",
    "# Data we need for data preparation\n",
    "path_translator_names = '../../../01_Data/translators/translation_species_names_de_vs_ch.csv'\n",
    "path_eea_grids = '../../../01_Data/shp_files/grids/eea_europe_grids_50km/inspire_compatible_grid_50km.shp'\n",
    "\n",
    "# Load and standardize validation data\n",
    "validata_ch = pd.read_csv(path_validata_ch, delimiter=get_delimiter(path_validata_ch), low_memory=False)\n",
    "validata_ch = standardize_data(validata_ch, \n",
    "                            date_format=date_format,\n",
    "                            path_translator_species_names=path_translator_names)\n",
    "validata_ch = assign_eea_grids(validata_ch, path_eea_grids)\n",
    "validata_ch.total_count = validata_ch.total_count.astype(float)\n",
    "validata_ch.altitude = validata_ch.altitude.astype(float)"
   ]
  },
  {
   "cell_type": "code",
   "execution_count": 4,
   "metadata": {},
   "outputs": [],
   "source": [
    "# sort validata by id_validata\n",
    "validata_ch = validata_ch.sort_values(by=['id_validata']).reset_index(drop=True)"
   ]
  },
  {
   "cell_type": "code",
   "execution_count": 5,
   "metadata": {},
   "outputs": [],
   "source": [
    "# Load validata with ground truth\n",
    "path_validata_with_ground_truth = '../../../01_Data/datasets/evaluation_data_with_gt_ch.csv'\n",
    "validata_with_ground_truth = pd.read_csv(path_validata_with_ground_truth, delimiter=get_delimiter(path_validata_with_ground_truth), low_memory=False)\n",
    "\n",
    "validata_with_ground_truth.columns = validata_with_ground_truth.columns.str.lower()\n",
    "validata_with_ground_truth = validata_with_ground_truth.sort_values(by=['id_validata']).reset_index(drop=True)\n",
    "\n",
    "ground_truth_ch = validata_with_ground_truth[['id_validata', 'change_type']]  # not using: 'date_original', 'coord_lat_original', 'coord_lon_original', 'altitude_original'\n"
   ]
  },
  {
   "cell_type": "code",
   "execution_count": 6,
   "metadata": {},
   "outputs": [],
   "source": [
    "# Append ground truth\n",
    "validata_ch = pd.merge(validata_ch, ground_truth_ch, on='id_validata', how='left')"
   ]
  },
  {
   "cell_type": "code",
   "execution_count": 7,
   "metadata": {},
   "outputs": [],
   "source": [
    "# Drop unnecessary columns\n",
    "validata_ch = validata_ch.drop(columns=['id_sighting', 'timing', 'precision', 'id_observer'])"
   ]
  },
  {
   "cell_type": "code",
   "execution_count": 8,
   "metadata": {},
   "outputs": [],
   "source": [
    "# Rename columns, add 'edited' and 'country' column\n",
    "validata_ch = validata_ch.rename(columns={'change_type': 'edit_type'})\n",
    "validata_ch['edited'] = validata_ch['edit_type'].notnull().astype(int)\n",
    "validata_ch['country'] = 'ch'"
   ]
  },
  {
   "cell_type": "markdown",
   "metadata": {},
   "source": [
    "### German data"
   ]
  },
  {
   "cell_type": "code",
   "execution_count": 9,
   "metadata": {},
   "outputs": [],
   "source": [
    "# Load and standardize validation data\n",
    "path_validata = '../../../01_Data/datasets/validata_ornitho_de_2023.csv'\n",
    "date_format = '%m/%d/%Y'  # ch: '%d.%m.%Y'; de: %m/%d/%Y\n",
    "\n",
    "# Data we need for data preparation\n",
    "path_translator_names = '../../../01_Data/translators/translation_species_names_de_vs_ch.csv'\n",
    "path_translator_ids = '../../../01_Data/translators/translation_species_id_de_vs_ornitho.csv'\n",
    "path_eea_grids = '../../../01_Data/shp_files/grids/eea_europe_grids_50km/inspire_compatible_grid_50km.shp'"
   ]
  },
  {
   "cell_type": "code",
   "execution_count": 10,
   "metadata": {},
   "outputs": [],
   "source": [
    "# Load and standardize validation data\n",
    "validata_de = pd.read_csv(path_validata, delimiter=get_delimiter(path_validata), low_memory=False)\n",
    "validata_de = standardize_data(validata_de, \n",
    "                           path_translator_species_names=path_translator_names,\n",
    "                           path_translator_species_ids=path_translator_ids,\n",
    "                           date_format=date_format)\n",
    "validata_de = assign_eea_grids(validata_de, path_eea_grids)\n",
    "validata_de.total_count = validata_de.total_count.astype(float)\n",
    "validata_de.altitude = validata_de.altitude.astype(float)"
   ]
  },
  {
   "cell_type": "code",
   "execution_count": 11,
   "metadata": {},
   "outputs": [],
   "source": [
    "# Load ground truth for validation data\n",
    "validata_de_gt_path = '../../../01_Data/datasets/Validata_DE_manipulierte_DS.txt'\n",
    "validata_de_gt = pd.read_csv(validata_de_gt_path, delimiter=get_delimiter(validata_de_gt_path), low_memory=False)\n",
    "validata_de_gt.columns = validata_de_gt.columns.str.lower()\n",
    "validata_de_gt['id_validata_de'] = validata_de_gt['id_validata_de'].str.replace(',', '.').astype(float).astype(int)"
   ]
  },
  {
   "cell_type": "code",
   "execution_count": 12,
   "metadata": {},
   "outputs": [],
   "source": [
    "# Append ground truth\n",
    "validata_de = pd.merge(validata_de, validata_de_gt, on='id_validata_de', how='left')"
   ]
  },
  {
   "cell_type": "code",
   "execution_count": 13,
   "metadata": {},
   "outputs": [],
   "source": [
    "# Drop unnecessary columns\n",
    "validata_de = validata_de.drop(columns=['timing', 'precision'])"
   ]
  },
  {
   "cell_type": "code",
   "execution_count": 14,
   "metadata": {},
   "outputs": [],
   "source": [
    "# Rename columns, add 'edited' and 'country' column\n",
    "validata_de = validata_de.rename(columns={'id_validata_de': 'id_validata'})\n",
    "validata_de['edited'] = validata_de['edit_type'].notnull().astype(int)\n",
    "validata_de['country'] = 'de'"
   ]
  },
  {
   "cell_type": "code",
   "execution_count": 15,
   "metadata": {},
   "outputs": [],
   "source": [
    "edit_types = {'Habitat': 'habitat (coord)',\n",
    "              'Verbreitung': 'distribution (coord)',\n",
    "              'Phänologie': 'date',\n",
    "              'Anzahl': 'count'}\n",
    "validata_de.edit_type = validata_de.edit_type.map(edit_types)"
   ]
  },
  {
   "cell_type": "code",
   "execution_count": 17,
   "metadata": {},
   "outputs": [],
   "source": [
    "# one sighting has nan as coord_lon. We will drop it\n",
    "validata_de = validata_de.dropna(subset=['coord_lon'])"
   ]
  },
  {
   "cell_type": "markdown",
   "metadata": {},
   "source": [
    "### Merge swiss and german validata"
   ]
  },
  {
   "cell_type": "code",
   "execution_count": 19,
   "metadata": {},
   "outputs": [],
   "source": [
    "master_validata = pd.concat([validata_de, validata_ch])"
   ]
  },
  {
   "cell_type": "code",
   "execution_count": 20,
   "metadata": {},
   "outputs": [],
   "source": [
    "master_validata.to_csv('master_validata.csv')"
   ]
  },
  {
   "cell_type": "markdown",
   "metadata": {},
   "source": [
    "## Training data"
   ]
  },
  {
   "cell_type": "code",
   "execution_count": 21,
   "metadata": {},
   "outputs": [],
   "source": [
    "path_train = '../../../01_Data/datasets/land_use_on_coord.csv'\n",
    "train_data = pd.read_csv(path_train, index_col=0, low_memory=False).reset_index(drop=True)"
   ]
  },
  {
   "cell_type": "code",
   "execution_count": 23,
   "metadata": {},
   "outputs": [],
   "source": [
    "# Drop unnecessary columns\n",
    "train_data = train_data.drop(columns=['timing', 'precision', 'id_observer', 'Code_18'])"
   ]
  },
  {
   "cell_type": "code",
   "execution_count": 25,
   "metadata": {},
   "outputs": [],
   "source": [
    "# Change column types to int\n",
    "train_data.id_species = train_data.id_species.astype(int)\n",
    "train_data.total_count = train_data.total_count.fillna(1).astype(int)"
   ]
  },
  {
   "cell_type": "code",
   "execution_count": 29,
   "metadata": {},
   "outputs": [],
   "source": [
    "train_data.to_csv('master_train.csv')"
   ]
  }
 ],
 "metadata": {
  "kernelspec": {
   "display_name": "bird",
   "language": "python",
   "name": "python3"
  },
  "language_info": {
   "codemirror_mode": {
    "name": "ipython",
    "version": 3
   },
   "file_extension": ".py",
   "mimetype": "text/x-python",
   "name": "python",
   "nbconvert_exporter": "python",
   "pygments_lexer": "ipython3",
   "version": "3.10.11"
  }
 },
 "nbformat": 4,
 "nbformat_minor": 2
}
