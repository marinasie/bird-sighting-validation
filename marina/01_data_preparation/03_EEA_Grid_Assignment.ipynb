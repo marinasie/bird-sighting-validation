{
 "cells": [
  {
   "cell_type": "markdown",
   "metadata": {},
   "source": [
    "<img src=\"../../img/eea_grid_assignment.png\" alt=\"EEA Grid Assignment\" style=\"width: 100%; border-radius: 20px;\"/>\n",
    "\n",
    "## Objective\n",
    "To discretize the latitude-longitude information of each bird sighting, we aim to assign each sighting to a grid cell of the official EEA-Grid for Europe. The discretization is necessary to cap the number of possible bird species-date-location pairs for the subsequent Emergent Filter modeling. <br>\n",
    "Additionally, we anticipate the following benefits from this discretization:\n",
    "- **Reduction of Computational Cost:** Instead of calculating features for each location specifically, we can calculate the features for each grid and match the bird sightings based on grids they fall into, which is computationally less demanding.\n",
    "- **Minimize inaccuracies in bird sighting locations:** Some bird sightings are recorded with an accuracy of approximately 1 square kilometer, leading to inaccuracies when relying on the provided location. Even if the location is precise, the observer might report their own position, which could be in some distance from the actual bird. Expanding the geospatial area of interest for each bird sighting allows for a more comprehensive perspective, addressing potential discrepancies in observer-reported locations.\n",
    "- **Improved model generalization by reducing sensitivity to small variations:** Assigning sightings to a grid can help in generalizing patterns and trends. It allows to capture broader spatial relationships rather than focusing on specific point locations. \n",
    "\n",
    "## Scope\n",
    "The starting point of this notebook is the merged dataset that includes bird sightings from Switzerland and Germany, which has been reduced to 27 species in *02_Dataset_Reduction_27_species.ipynb*. In this notebook, each data point in this dataset is assigned to an EEA grid, and this assignment is stored as an additional feature.<br>\n",
    "Based on a recommendation of @Jerôme, we use the reference grid of the European Environment Agency (EEA). It is a standardized and commonly applied grid system used to facilitate the spatial analysis and reporting of environmental data across European countries. Online ([here](https://www.eea.europa.eu/en/datahub/datahubitem-view/3c362237-daa4-45e2-8c16-aaadfb1a003b)), grid sizes of 1km, 10km, 50km and 100km are available. As a compromise between grid size, number of species per grid, and computational complexity, we have chosen a grid size of 50x50km. The 50x50km version is also the most recent iteration, being published in 2018.\n",
    "\n",
    "## Output data\n",
    "\n",
    "You can download the resulting dataset *selected_bird_species_with_grids_50km.csv* [here](https://drive.google.com/drive/folders/18XoTsDtWnN4QdIBNGGbq-jaa6U3nVb2e).<br>"
   ]
  },
  {
   "cell_type": "code",
   "execution_count": 1,
   "metadata": {},
   "outputs": [
    {
     "data": {
      "text/html": [
       "<style>\n",
       "    body {\n",
       "        --vscode-font-family: \"Itim\"\n",
       "    }\n",
       "</style>\n"
      ],
      "text/plain": [
       "<IPython.core.display.HTML object>"
      ]
     },
     "metadata": {},
     "output_type": "display_data"
    }
   ],
   "source": [
    "%%HTML\n",
    "<style>\n",
    "    body {\n",
    "        --vscode-font-family: \"Itim\"\n",
    "    }\n",
    "</style>"
   ]
  },
  {
   "cell_type": "code",
   "execution_count": 2,
   "metadata": {},
   "outputs": [],
   "source": [
    "import pandas as pd\n",
    "import geopandas as gpd\n",
    "import geojson\n",
    "\n",
    "import plotly.express as px\n",
    "import plotly.graph_objects as go"
   ]
  },
  {
   "cell_type": "markdown",
   "metadata": {},
   "source": [
    "## 0️⃣ Specify your paths\n",
    "In order to run the notebook, the following files are required:\n",
    "- Master dataset reduced to 27 species: *[master_bird_data_selected_species.csv](https://drive.google.com/drive/folders/18XoTsDtWnN4QdIBNGGbq-jaa6U3nVb2e)*\n",
    "- Shapefile of 50x50km EEA grids of Europe: *[eea_50_km_ref-grid-europe/inspire_compatible_grid_50km.shp](https://drive.google.com/drive/folders/1atS5eomHYxX-q_5b8WGqFVDtqP3-d8qP)*\n",
    "\n",
    "If you wish to store the resulting dataset, please specify a target path where it should be stored."
   ]
  },
  {
   "cell_type": "code",
   "execution_count": 3,
   "metadata": {},
   "outputs": [],
   "source": [
    "data_path = '../../../01_Data/datasets/master_bird_data_selected_species.csv'  # Provide path to csv file 'master_bird_data_selected_species.csv'\n",
    "eea_shapefile_path = '../../../01_Data/shp_files/grids/eea_europe_grids_50km/inspire_compatible_grid_50km.shp'  # Provide path to shp file inside the shapefile folder (e.g. 'path/eea_50_km_ref-grid-europe/inspire_compatible_grid_50km.shp')\n",
    "\n",
    "target_path = 'selected_bird_species_with_grids_50km.csv'  # Provide path where the csv file should be saved"
   ]
  },
  {
   "cell_type": "markdown",
   "metadata": {},
   "source": [
    "## 1️⃣ Load data"
   ]
  },
  {
   "cell_type": "markdown",
   "metadata": {},
   "source": [
    "### Bird sightings"
   ]
  },
  {
   "cell_type": "code",
   "execution_count": 4,
   "metadata": {},
   "outputs": [
    {
     "data": {
      "text/html": [
       "<div>\n",
       "<style scoped>\n",
       "    .dataframe tbody tr th:only-of-type {\n",
       "        vertical-align: middle;\n",
       "    }\n",
       "\n",
       "    .dataframe tbody tr th {\n",
       "        vertical-align: top;\n",
       "    }\n",
       "\n",
       "    .dataframe thead th {\n",
       "        text-align: right;\n",
       "    }\n",
       "</style>\n",
       "<table border=\"1\" class=\"dataframe\">\n",
       "  <thead>\n",
       "    <tr style=\"text-align: right;\">\n",
       "      <th></th>\n",
       "      <th>id_sighting</th>\n",
       "      <th>id_species</th>\n",
       "      <th>name_species</th>\n",
       "      <th>date</th>\n",
       "      <th>timing</th>\n",
       "      <th>coord_lat</th>\n",
       "      <th>coord_lon</th>\n",
       "      <th>precision</th>\n",
       "      <th>altitude</th>\n",
       "      <th>total_count</th>\n",
       "      <th>atlas_code</th>\n",
       "      <th>id_observer</th>\n",
       "      <th>country</th>\n",
       "    </tr>\n",
       "  </thead>\n",
       "  <tbody>\n",
       "    <tr>\n",
       "      <th>14</th>\n",
       "      <td>29666972</td>\n",
       "      <td>8.0</td>\n",
       "      <td>Haubentaucher</td>\n",
       "      <td>2018-01-01</td>\n",
       "      <td>NaN</td>\n",
       "      <td>53.157760</td>\n",
       "      <td>8.676993</td>\n",
       "      <td>place</td>\n",
       "      <td>0</td>\n",
       "      <td>0.0</td>\n",
       "      <td>NaN</td>\n",
       "      <td>37718.0</td>\n",
       "      <td>de</td>\n",
       "    </tr>\n",
       "    <tr>\n",
       "      <th>17</th>\n",
       "      <td>29654244</td>\n",
       "      <td>397.0</td>\n",
       "      <td>Schwarzkehlchen</td>\n",
       "      <td>2018-01-01</td>\n",
       "      <td>NaN</td>\n",
       "      <td>53.127639</td>\n",
       "      <td>8.957263</td>\n",
       "      <td>square</td>\n",
       "      <td>0</td>\n",
       "      <td>2.0</td>\n",
       "      <td>NaN</td>\n",
       "      <td>37803.0</td>\n",
       "      <td>de</td>\n",
       "    </tr>\n",
       "    <tr>\n",
       "      <th>30</th>\n",
       "      <td>29654521</td>\n",
       "      <td>463.0</td>\n",
       "      <td>Wiesenpieper</td>\n",
       "      <td>2018-01-01</td>\n",
       "      <td>NaN</td>\n",
       "      <td>50.850941</td>\n",
       "      <td>12.146953</td>\n",
       "      <td>place</td>\n",
       "      <td>0</td>\n",
       "      <td>2.0</td>\n",
       "      <td>NaN</td>\n",
       "      <td>39627.0</td>\n",
       "      <td>de</td>\n",
       "    </tr>\n",
       "    <tr>\n",
       "      <th>49</th>\n",
       "      <td>29666414</td>\n",
       "      <td>8.0</td>\n",
       "      <td>Haubentaucher</td>\n",
       "      <td>2018-01-01</td>\n",
       "      <td>NaN</td>\n",
       "      <td>51.076006</td>\n",
       "      <td>11.038316</td>\n",
       "      <td>place</td>\n",
       "      <td>0</td>\n",
       "      <td>8.0</td>\n",
       "      <td>NaN</td>\n",
       "      <td>38301.0</td>\n",
       "      <td>de</td>\n",
       "    </tr>\n",
       "    <tr>\n",
       "      <th>77</th>\n",
       "      <td>29656211</td>\n",
       "      <td>8.0</td>\n",
       "      <td>Haubentaucher</td>\n",
       "      <td>2018-01-01</td>\n",
       "      <td>NaN</td>\n",
       "      <td>51.389380</td>\n",
       "      <td>7.067282</td>\n",
       "      <td>place</td>\n",
       "      <td>0</td>\n",
       "      <td>10.0</td>\n",
       "      <td>NaN</td>\n",
       "      <td>108167.0</td>\n",
       "      <td>de</td>\n",
       "    </tr>\n",
       "  </tbody>\n",
       "</table>\n",
       "</div>"
      ],
      "text/plain": [
       "    id_sighting  id_species     name_species        date timing  coord_lat   \n",
       "14     29666972         8.0    Haubentaucher  2018-01-01    NaN  53.157760  \\\n",
       "17     29654244       397.0  Schwarzkehlchen  2018-01-01    NaN  53.127639   \n",
       "30     29654521       463.0     Wiesenpieper  2018-01-01    NaN  50.850941   \n",
       "49     29666414         8.0    Haubentaucher  2018-01-01    NaN  51.076006   \n",
       "77     29656211         8.0    Haubentaucher  2018-01-01    NaN  51.389380   \n",
       "\n",
       "    coord_lon precision  altitude  total_count atlas_code  id_observer country  \n",
       "14   8.676993     place         0          0.0        NaN      37718.0      de  \n",
       "17   8.957263    square         0          2.0        NaN      37803.0      de  \n",
       "30  12.146953     place         0          2.0        NaN      39627.0      de  \n",
       "49  11.038316     place         0          8.0        NaN      38301.0      de  \n",
       "77   7.067282     place         0         10.0        NaN     108167.0      de  "
      ]
     },
     "execution_count": 4,
     "metadata": {},
     "output_type": "execute_result"
    }
   ],
   "source": [
    "df = pd.read_csv(data_path, index_col=0, low_memory=False)\n",
    "df.head()"
   ]
  },
  {
   "cell_type": "markdown",
   "metadata": {},
   "source": [
    "### EEA grids\n",
    "The EEA geopandas dataframe holds the information for all square 50x50km polygons of Europe:"
   ]
  },
  {
   "cell_type": "code",
   "execution_count": 5,
   "metadata": {},
   "outputs": [
    {
     "data": {
      "text/html": [
       "<div>\n",
       "<style scoped>\n",
       "    .dataframe tbody tr th:only-of-type {\n",
       "        vertical-align: middle;\n",
       "    }\n",
       "\n",
       "    .dataframe tbody tr th {\n",
       "        vertical-align: top;\n",
       "    }\n",
       "\n",
       "    .dataframe thead th {\n",
       "        text-align: right;\n",
       "    }\n",
       "</style>\n",
       "<table border=\"1\" class=\"dataframe\">\n",
       "  <thead>\n",
       "    <tr style=\"text-align: right;\">\n",
       "      <th></th>\n",
       "      <th>cellcode</th>\n",
       "      <th>eoforigin</th>\n",
       "      <th>noforigin</th>\n",
       "      <th>gid</th>\n",
       "      <th>geometry</th>\n",
       "    </tr>\n",
       "  </thead>\n",
       "  <tbody>\n",
       "    <tr>\n",
       "      <th>0</th>\n",
       "      <td>50kmE700N0</td>\n",
       "      <td>700000</td>\n",
       "      <td>0</td>\n",
       "      <td>1</td>\n",
       "      <td>POLYGON ((700000.000 0.000, 700000.000 50000.0...</td>\n",
       "    </tr>\n",
       "    <tr>\n",
       "      <th>1</th>\n",
       "      <td>50kmE750N0</td>\n",
       "      <td>750000</td>\n",
       "      <td>0</td>\n",
       "      <td>2</td>\n",
       "      <td>POLYGON ((750000.000 0.000, 750000.000 50000.0...</td>\n",
       "    </tr>\n",
       "    <tr>\n",
       "      <th>2</th>\n",
       "      <td>50kmE800N0</td>\n",
       "      <td>800000</td>\n",
       "      <td>0</td>\n",
       "      <td>3</td>\n",
       "      <td>POLYGON ((800000.000 0.000, 800000.000 50000.0...</td>\n",
       "    </tr>\n",
       "    <tr>\n",
       "      <th>3</th>\n",
       "      <td>50kmE850N0</td>\n",
       "      <td>850000</td>\n",
       "      <td>0</td>\n",
       "      <td>4</td>\n",
       "      <td>POLYGON ((850000.000 0.000, 850000.000 50000.0...</td>\n",
       "    </tr>\n",
       "    <tr>\n",
       "      <th>4</th>\n",
       "      <td>50kmE900N0</td>\n",
       "      <td>900000</td>\n",
       "      <td>0</td>\n",
       "      <td>5</td>\n",
       "      <td>POLYGON ((900000.000 0.000, 900000.000 50000.0...</td>\n",
       "    </tr>\n",
       "  </tbody>\n",
       "</table>\n",
       "</div>"
      ],
      "text/plain": [
       "     cellcode  eoforigin  noforigin  gid   \n",
       "0  50kmE700N0     700000          0    1  \\\n",
       "1  50kmE750N0     750000          0    2   \n",
       "2  50kmE800N0     800000          0    3   \n",
       "3  50kmE850N0     850000          0    4   \n",
       "4  50kmE900N0     900000          0    5   \n",
       "\n",
       "                                            geometry  \n",
       "0  POLYGON ((700000.000 0.000, 700000.000 50000.0...  \n",
       "1  POLYGON ((750000.000 0.000, 750000.000 50000.0...  \n",
       "2  POLYGON ((800000.000 0.000, 800000.000 50000.0...  \n",
       "3  POLYGON ((850000.000 0.000, 850000.000 50000.0...  \n",
       "4  POLYGON ((900000.000 0.000, 900000.000 50000.0...  "
      ]
     },
     "execution_count": 5,
     "metadata": {},
     "output_type": "execute_result"
    }
   ],
   "source": [
    "eea_grid = gpd.read_file(eea_shapefile_path)\n",
    "eea_grid.head()"
   ]
  },
  {
   "cell_type": "markdown",
   "metadata": {},
   "source": [
    "## 2️⃣  Align Coordinate Reference System (CRS) of bird sightings and EEA grids\n",
    "Initially, it is crucial to ensure that both the bird sightings and the grid cells utilize the same coordinate reference system to enable accurate matching.<br>\n",
    "The EEA grids are specified in the CRS EPSG:3035:"
   ]
  },
  {
   "cell_type": "code",
   "execution_count": 6,
   "metadata": {},
   "outputs": [
    {
     "data": {
      "text/plain": [
       "<Projected CRS: EPSG:3035>\n",
       "Name: ETRS89-extended / LAEA Europe\n",
       "Axis Info [cartesian]:\n",
       "- Y[north]: Northing (metre)\n",
       "- X[east]: Easting (metre)\n",
       "Area of Use:\n",
       "- name: Europe - European Union (EU) countries and candidates. Europe - onshore and offshore: Albania; Andorra; Austria; Belgium; Bosnia and Herzegovina; Bulgaria; Croatia; Cyprus; Czechia; Denmark; Estonia; Faroe Islands; Finland; France; Germany; Gibraltar; Greece; Hungary; Iceland; Ireland; Italy; Kosovo; Latvia; Liechtenstein; Lithuania; Luxembourg; Malta; Monaco; Montenegro; Netherlands; North Macedonia; Norway including Svalbard and Jan Mayen; Poland; Portugal including Madeira and Azores; Romania; San Marino; Serbia; Slovakia; Slovenia; Spain including Canary Islands; Sweden; Switzerland; Türkiye (Turkey); United Kingdom (UK) including Channel Islands and Isle of Man; Vatican City State.\n",
       "- bounds: (-35.58, 24.6, 44.83, 84.73)\n",
       "Coordinate Operation:\n",
       "- name: Europe Equal Area 2001\n",
       "- method: Lambert Azimuthal Equal Area\n",
       "Datum: European Terrestrial Reference System 1989 ensemble\n",
       "- Ellipsoid: GRS 1980\n",
       "- Prime Meridian: Greenwich"
      ]
     },
     "execution_count": 6,
     "metadata": {},
     "output_type": "execute_result"
    }
   ],
   "source": [
    "eea_grid.crs"
   ]
  },
  {
   "cell_type": "markdown",
   "metadata": {},
   "source": [
    "EPSG:3035 is a projected coordinate reference system used for Europe. It is based on the European Terrestrial Reference System 1989 (ETRS89) and uses the Lambert Azimuthal Equal Area (LAEA) projection. This projection minimizes distortion for area measurements but may distort shapes and angles in favor of maintaining accurate area representations.\n",
    "\n",
    "However, our bird sightings are specified in the CRS WGS84. WGS84 is a global geodetic datum commonly used to represent locations on the Earth's surface using latitude and longitude coordinates. The EPSG code for WGS84 is EPSG:4326.\n",
    "\n",
    "In order to ensure proper alignment, we need to perform a coordinate transformation of the EEA grids to EPSG:4326 (WGS84):\n"
   ]
  },
  {
   "cell_type": "code",
   "execution_count": 7,
   "metadata": {},
   "outputs": [
    {
     "data": {
      "text/html": [
       "<div>\n",
       "<style scoped>\n",
       "    .dataframe tbody tr th:only-of-type {\n",
       "        vertical-align: middle;\n",
       "    }\n",
       "\n",
       "    .dataframe tbody tr th {\n",
       "        vertical-align: top;\n",
       "    }\n",
       "\n",
       "    .dataframe thead th {\n",
       "        text-align: right;\n",
       "    }\n",
       "</style>\n",
       "<table border=\"1\" class=\"dataframe\">\n",
       "  <thead>\n",
       "    <tr style=\"text-align: right;\">\n",
       "      <th></th>\n",
       "      <th>cellcode</th>\n",
       "      <th>eoforigin</th>\n",
       "      <th>noforigin</th>\n",
       "      <th>gid</th>\n",
       "      <th>geometry</th>\n",
       "    </tr>\n",
       "  </thead>\n",
       "  <tbody>\n",
       "    <tr>\n",
       "      <th>0</th>\n",
       "      <td>50kmE700N0</td>\n",
       "      <td>700000</td>\n",
       "      <td>0</td>\n",
       "      <td>1</td>\n",
       "      <td>POLYGON ((-23.10211 15.84476, -23.22593 16.278...</td>\n",
       "    </tr>\n",
       "    <tr>\n",
       "      <th>1</th>\n",
       "      <td>50kmE750N0</td>\n",
       "      <td>750000</td>\n",
       "      <td>0</td>\n",
       "      <td>2</td>\n",
       "      <td>POLYGON ((-22.66889 16.03070, -22.79169 16.465...</td>\n",
       "    </tr>\n",
       "    <tr>\n",
       "      <th>2</th>\n",
       "      <td>50kmE800N0</td>\n",
       "      <td>800000</td>\n",
       "      <td>0</td>\n",
       "      <td>3</td>\n",
       "      <td>POLYGON ((-22.23489 16.21425, -22.35664 16.649...</td>\n",
       "    </tr>\n",
       "    <tr>\n",
       "      <th>3</th>\n",
       "      <td>50kmE850N0</td>\n",
       "      <td>850000</td>\n",
       "      <td>0</td>\n",
       "      <td>4</td>\n",
       "      <td>POLYGON ((-21.80011 16.39541, -21.92078 16.831...</td>\n",
       "    </tr>\n",
       "    <tr>\n",
       "      <th>4</th>\n",
       "      <td>50kmE900N0</td>\n",
       "      <td>900000</td>\n",
       "      <td>0</td>\n",
       "      <td>5</td>\n",
       "      <td>POLYGON ((-21.36453 16.57416, -21.48410 17.010...</td>\n",
       "    </tr>\n",
       "  </tbody>\n",
       "</table>\n",
       "</div>"
      ],
      "text/plain": [
       "     cellcode  eoforigin  noforigin  gid   \n",
       "0  50kmE700N0     700000          0    1  \\\n",
       "1  50kmE750N0     750000          0    2   \n",
       "2  50kmE800N0     800000          0    3   \n",
       "3  50kmE850N0     850000          0    4   \n",
       "4  50kmE900N0     900000          0    5   \n",
       "\n",
       "                                            geometry  \n",
       "0  POLYGON ((-23.10211 15.84476, -23.22593 16.278...  \n",
       "1  POLYGON ((-22.66889 16.03070, -22.79169 16.465...  \n",
       "2  POLYGON ((-22.23489 16.21425, -22.35664 16.649...  \n",
       "3  POLYGON ((-21.80011 16.39541, -21.92078 16.831...  \n",
       "4  POLYGON ((-21.36453 16.57416, -21.48410 17.010...  "
      ]
     },
     "execution_count": 7,
     "metadata": {},
     "output_type": "execute_result"
    }
   ],
   "source": [
    "eea_grid = eea_grid.to_crs('EPSG:4326')\n",
    "eea_grid.head()"
   ]
  },
  {
   "cell_type": "markdown",
   "metadata": {},
   "source": [
    "## 2️⃣  Assign an EEA grid cell to each datapoint in our ornitho dataset\n",
    "Prior to matching each bird sighting to an EEA grid cell, we shrink the Area of Interest by reducing the EEA grid so that only German and Swiss grids are left. This significantly speeds up the assignment process<br>\n"
   ]
  },
  {
   "cell_type": "code",
   "execution_count": 8,
   "metadata": {},
   "outputs": [],
   "source": [
    "germany_switzerland_bbox = eea_grid.cx[5.210942:15.669926, 45.614516:55.379499]\n",
    "eea_grid_filtered = eea_grid[eea_grid.intersects(germany_switzerland_bbox.unary_union)]\n",
    "eea_grid_filtered.reset_index(drop=True, inplace=True)"
   ]
  },
  {
   "cell_type": "markdown",
   "metadata": {},
   "source": [
    "Now, the coordinates of each bird sighting are assigned to a grid and noted in a new column in the dataset. To do so, we perform a spatial join operation to joint the datapoints and the grids based on their spatial relationship (points being within polygons).<br>"
   ]
  },
  {
   "cell_type": "code",
   "execution_count": 9,
   "metadata": {},
   "outputs": [],
   "source": [
    "geometry = gpd.points_from_xy(df['coord_lon'], df['coord_lat'])\n",
    "gdf = gpd.GeoDataFrame(df, geometry=geometry, crs='EPSG:4326')\n",
    "\n",
    "joined_gdf = gpd.sjoin(gdf, eea_grid_filtered, how='left', predicate='within')\n",
    "joined_gdf.rename(columns={'cellcode': 'eea_grid_id'}, inplace=True)\n",
    "result_gdf = joined_gdf.drop(columns=['index_right', 'geometry', 'noforigin', 'eoforigin', 'gid'])"
   ]
  },
  {
   "cell_type": "markdown",
   "metadata": {},
   "source": [
    "In the resulting geo-dataframe there is now another column `eea_grid_id` which assigns each point to a polygon of size 50x50km:"
   ]
  },
  {
   "cell_type": "code",
   "execution_count": 10,
   "metadata": {},
   "outputs": [
    {
     "data": {
      "text/html": [
       "<div>\n",
       "<style scoped>\n",
       "    .dataframe tbody tr th:only-of-type {\n",
       "        vertical-align: middle;\n",
       "    }\n",
       "\n",
       "    .dataframe tbody tr th {\n",
       "        vertical-align: top;\n",
       "    }\n",
       "\n",
       "    .dataframe thead th {\n",
       "        text-align: right;\n",
       "    }\n",
       "</style>\n",
       "<table border=\"1\" class=\"dataframe\">\n",
       "  <thead>\n",
       "    <tr style=\"text-align: right;\">\n",
       "      <th></th>\n",
       "      <th>id_sighting</th>\n",
       "      <th>id_species</th>\n",
       "      <th>name_species</th>\n",
       "      <th>date</th>\n",
       "      <th>timing</th>\n",
       "      <th>coord_lat</th>\n",
       "      <th>coord_lon</th>\n",
       "      <th>precision</th>\n",
       "      <th>altitude</th>\n",
       "      <th>total_count</th>\n",
       "      <th>atlas_code</th>\n",
       "      <th>id_observer</th>\n",
       "      <th>country</th>\n",
       "      <th>eea_grid_id</th>\n",
       "    </tr>\n",
       "  </thead>\n",
       "  <tbody>\n",
       "    <tr>\n",
       "      <th>14</th>\n",
       "      <td>29666972</td>\n",
       "      <td>8.0</td>\n",
       "      <td>Haubentaucher</td>\n",
       "      <td>2018-01-01</td>\n",
       "      <td>NaN</td>\n",
       "      <td>53.157760</td>\n",
       "      <td>8.676993</td>\n",
       "      <td>place</td>\n",
       "      <td>0</td>\n",
       "      <td>0.0</td>\n",
       "      <td>NaN</td>\n",
       "      <td>37718.0</td>\n",
       "      <td>de</td>\n",
       "      <td>50kmE4200N3300</td>\n",
       "    </tr>\n",
       "    <tr>\n",
       "      <th>17</th>\n",
       "      <td>29654244</td>\n",
       "      <td>397.0</td>\n",
       "      <td>Schwarzkehlchen</td>\n",
       "      <td>2018-01-01</td>\n",
       "      <td>NaN</td>\n",
       "      <td>53.127639</td>\n",
       "      <td>8.957263</td>\n",
       "      <td>square</td>\n",
       "      <td>0</td>\n",
       "      <td>2.0</td>\n",
       "      <td>NaN</td>\n",
       "      <td>37803.0</td>\n",
       "      <td>de</td>\n",
       "      <td>50kmE4250N3300</td>\n",
       "    </tr>\n",
       "    <tr>\n",
       "      <th>30</th>\n",
       "      <td>29654521</td>\n",
       "      <td>463.0</td>\n",
       "      <td>Wiesenpieper</td>\n",
       "      <td>2018-01-01</td>\n",
       "      <td>NaN</td>\n",
       "      <td>50.850941</td>\n",
       "      <td>12.146953</td>\n",
       "      <td>place</td>\n",
       "      <td>0</td>\n",
       "      <td>2.0</td>\n",
       "      <td>NaN</td>\n",
       "      <td>39627.0</td>\n",
       "      <td>de</td>\n",
       "      <td>50kmE4450N3050</td>\n",
       "    </tr>\n",
       "    <tr>\n",
       "      <th>49</th>\n",
       "      <td>29666414</td>\n",
       "      <td>8.0</td>\n",
       "      <td>Haubentaucher</td>\n",
       "      <td>2018-01-01</td>\n",
       "      <td>NaN</td>\n",
       "      <td>51.076006</td>\n",
       "      <td>11.038316</td>\n",
       "      <td>place</td>\n",
       "      <td>0</td>\n",
       "      <td>8.0</td>\n",
       "      <td>NaN</td>\n",
       "      <td>38301.0</td>\n",
       "      <td>de</td>\n",
       "      <td>50kmE4350N3100</td>\n",
       "    </tr>\n",
       "    <tr>\n",
       "      <th>77</th>\n",
       "      <td>29656211</td>\n",
       "      <td>8.0</td>\n",
       "      <td>Haubentaucher</td>\n",
       "      <td>2018-01-01</td>\n",
       "      <td>NaN</td>\n",
       "      <td>51.389380</td>\n",
       "      <td>7.067282</td>\n",
       "      <td>place</td>\n",
       "      <td>0</td>\n",
       "      <td>10.0</td>\n",
       "      <td>NaN</td>\n",
       "      <td>108167.0</td>\n",
       "      <td>de</td>\n",
       "      <td>50kmE4100N3100</td>\n",
       "    </tr>\n",
       "    <tr>\n",
       "      <th>...</th>\n",
       "      <td>...</td>\n",
       "      <td>...</td>\n",
       "      <td>...</td>\n",
       "      <td>...</td>\n",
       "      <td>...</td>\n",
       "      <td>...</td>\n",
       "      <td>...</td>\n",
       "      <td>...</td>\n",
       "      <td>...</td>\n",
       "      <td>...</td>\n",
       "      <td>...</td>\n",
       "      <td>...</td>\n",
       "      <td>...</td>\n",
       "      <td>...</td>\n",
       "    </tr>\n",
       "    <tr>\n",
       "      <th>9922826</th>\n",
       "      <td>27523548</td>\n",
       "      <td>469.0</td>\n",
       "      <td>Bergpieper</td>\n",
       "      <td>2022-08-01</td>\n",
       "      <td>09:35:04</td>\n",
       "      <td>46.563896</td>\n",
       "      <td>8.551648</td>\n",
       "      <td>precise</td>\n",
       "      <td>2085</td>\n",
       "      <td>4.0</td>\n",
       "      <td>0</td>\n",
       "      <td>11482.0</td>\n",
       "      <td>ch</td>\n",
       "      <td>50kmE4200N2600</td>\n",
       "    </tr>\n",
       "    <tr>\n",
       "      <th>9922833</th>\n",
       "      <td>27523686</td>\n",
       "      <td>338.0</td>\n",
       "      <td>Mittelspecht</td>\n",
       "      <td>2022-10-08</td>\n",
       "      <td>09:17:16</td>\n",
       "      <td>47.383318</td>\n",
       "      <td>7.666533</td>\n",
       "      <td>precise</td>\n",
       "      <td>798</td>\n",
       "      <td>1.0</td>\n",
       "      <td>0</td>\n",
       "      <td>11482.0</td>\n",
       "      <td>ch</td>\n",
       "      <td>50kmE4100N2650</td>\n",
       "    </tr>\n",
       "    <tr>\n",
       "      <th>9922862</th>\n",
       "      <td>15002272</td>\n",
       "      <td>123.0</td>\n",
       "      <td>Bergente</td>\n",
       "      <td>2018-02-17</td>\n",
       "      <td>NaN</td>\n",
       "      <td>47.512154</td>\n",
       "      <td>9.436332</td>\n",
       "      <td>precise</td>\n",
       "      <td>390</td>\n",
       "      <td>1.0</td>\n",
       "      <td>0</td>\n",
       "      <td>11245.0</td>\n",
       "      <td>ch</td>\n",
       "      <td>50kmE4250N2700</td>\n",
       "    </tr>\n",
       "    <tr>\n",
       "      <th>9922867</th>\n",
       "      <td>15002282</td>\n",
       "      <td>8.0</td>\n",
       "      <td>Haubentaucher</td>\n",
       "      <td>2018-02-17</td>\n",
       "      <td>NaN</td>\n",
       "      <td>47.512154</td>\n",
       "      <td>9.436332</td>\n",
       "      <td>precise</td>\n",
       "      <td>390</td>\n",
       "      <td>NaN</td>\n",
       "      <td>0</td>\n",
       "      <td>11245.0</td>\n",
       "      <td>ch</td>\n",
       "      <td>50kmE4250N2700</td>\n",
       "    </tr>\n",
       "    <tr>\n",
       "      <th>9922871</th>\n",
       "      <td>15002291</td>\n",
       "      <td>8.0</td>\n",
       "      <td>Haubentaucher</td>\n",
       "      <td>2018-02-17</td>\n",
       "      <td>11:11:00</td>\n",
       "      <td>47.121205</td>\n",
       "      <td>7.240961</td>\n",
       "      <td>precise</td>\n",
       "      <td>430</td>\n",
       "      <td>1.0</td>\n",
       "      <td>0</td>\n",
       "      <td>14061.0</td>\n",
       "      <td>ch</td>\n",
       "      <td>50kmE4100N2650</td>\n",
       "    </tr>\n",
       "  </tbody>\n",
       "</table>\n",
       "<p>2660043 rows × 14 columns</p>\n",
       "</div>"
      ],
      "text/plain": [
       "         id_sighting  id_species     name_species        date    timing   \n",
       "14          29666972         8.0    Haubentaucher  2018-01-01       NaN  \\\n",
       "17          29654244       397.0  Schwarzkehlchen  2018-01-01       NaN   \n",
       "30          29654521       463.0     Wiesenpieper  2018-01-01       NaN   \n",
       "49          29666414         8.0    Haubentaucher  2018-01-01       NaN   \n",
       "77          29656211         8.0    Haubentaucher  2018-01-01       NaN   \n",
       "...              ...         ...              ...         ...       ...   \n",
       "9922826     27523548       469.0       Bergpieper  2022-08-01  09:35:04   \n",
       "9922833     27523686       338.0     Mittelspecht  2022-10-08  09:17:16   \n",
       "9922862     15002272       123.0         Bergente  2018-02-17       NaN   \n",
       "9922867     15002282         8.0    Haubentaucher  2018-02-17       NaN   \n",
       "9922871     15002291         8.0    Haubentaucher  2018-02-17  11:11:00   \n",
       "\n",
       "         coord_lat  coord_lon precision  altitude  total_count atlas_code   \n",
       "14       53.157760   8.676993     place         0          0.0        NaN  \\\n",
       "17       53.127639   8.957263    square         0          2.0        NaN   \n",
       "30       50.850941  12.146953     place         0          2.0        NaN   \n",
       "49       51.076006  11.038316     place         0          8.0        NaN   \n",
       "77       51.389380   7.067282     place         0         10.0        NaN   \n",
       "...            ...        ...       ...       ...          ...        ...   \n",
       "9922826  46.563896   8.551648   precise      2085          4.0          0   \n",
       "9922833  47.383318   7.666533   precise       798          1.0          0   \n",
       "9922862  47.512154   9.436332   precise       390          1.0          0   \n",
       "9922867  47.512154   9.436332   precise       390          NaN          0   \n",
       "9922871  47.121205   7.240961   precise       430          1.0          0   \n",
       "\n",
       "         id_observer country     eea_grid_id  \n",
       "14           37718.0      de  50kmE4200N3300  \n",
       "17           37803.0      de  50kmE4250N3300  \n",
       "30           39627.0      de  50kmE4450N3050  \n",
       "49           38301.0      de  50kmE4350N3100  \n",
       "77          108167.0      de  50kmE4100N3100  \n",
       "...              ...     ...             ...  \n",
       "9922826      11482.0      ch  50kmE4200N2600  \n",
       "9922833      11482.0      ch  50kmE4100N2650  \n",
       "9922862      11245.0      ch  50kmE4250N2700  \n",
       "9922867      11245.0      ch  50kmE4250N2700  \n",
       "9922871      14061.0      ch  50kmE4100N2650  \n",
       "\n",
       "[2660043 rows x 14 columns]"
      ]
     },
     "execution_count": 10,
     "metadata": {},
     "output_type": "execute_result"
    }
   ],
   "source": [
    "result_gdf"
   ]
  },
  {
   "cell_type": "markdown",
   "metadata": {},
   "source": [
    "We also check if any bird sighting could not be assigned to a grid by checking if there are any NaN values in that column. As we can see, all bird sightings could be assigned to a respective EEA grid:"
   ]
  },
  {
   "cell_type": "code",
   "execution_count": 11,
   "metadata": {},
   "outputs": [
    {
     "data": {
      "text/plain": [
       "False"
      ]
     },
     "execution_count": 11,
     "metadata": {},
     "output_type": "execute_result"
    }
   ],
   "source": [
    "result_gdf.eea_grid_id.isna().any().any()"
   ]
  },
  {
   "cell_type": "markdown",
   "metadata": {},
   "source": [
    "Finally, we store the new dataframe to a csv-file."
   ]
  },
  {
   "cell_type": "code",
   "execution_count": 12,
   "metadata": {},
   "outputs": [],
   "source": [
    "result_gdf.to_csv(target_path)"
   ]
  },
  {
   "cell_type": "markdown",
   "metadata": {},
   "source": [
    "## 3️⃣  Verify correctness of grid assignments\n",
    "To show that the bird sightings are indeed located in the corresponding assigned grid, the first 20 data points are plotted alongside their grid as an example. As can be seen, all data points lie within the grid selected for them."
   ]
  },
  {
   "cell_type": "code",
   "execution_count": 14,
   "metadata": {},
   "outputs": [
    {
     "data": {
      "application/vnd.plotly.v1+json": {
       "config": {
        "plotlyServerURL": "https://plot.ly"
       },
       "data": [
        {
         "lat": [
          52.795402,
          53.244559,
          53.253461,
          52.8042,
          52.795402
         ],
         "lon": [
          8.206049,
          8.187394,
          8.936269,
          8.94722,
          8.206049
         ],
         "marker": {
          "color": "#d00000",
          "size": 10
         },
         "mode": "markers+lines",
         "type": "scattermapbox"
        },
        {
         "hovertemplate": "<b>%{hovertext}</b><br><br>coord_lat=%{lat}<br>coord_lon=%{lon}<extra></extra>",
         "hovertext": [
          "50kmE4200N3300"
         ],
         "lat": [
          53.15776
         ],
         "legendgroup": "",
         "lon": [
          8.676993
         ],
         "marker": {
          "color": [
           "#d00000"
          ]
         },
         "mode": "markers",
         "name": "",
         "showlegend": false,
         "subplot": "mapbox",
         "type": "scattermapbox"
        },
        {
         "lat": [
          52.8042,
          53.253461,
          53.257727,
          52.808416,
          52.8042
         ],
         "lon": [
          8.94722,
          8.936269,
          9.685356,
          9.688596,
          8.94722
         ],
         "marker": {
          "color": "#d00000",
          "size": 10
         },
         "mode": "markers+lines",
         "type": "scattermapbox"
        },
        {
         "hovertemplate": "<b>%{hovertext}</b><br><br>coord_lat=%{lat}<br>coord_lon=%{lon}<extra></extra>",
         "hovertext": [
          "50kmE4250N3300"
         ],
         "lat": [
          53.1276386382315
         ],
         "legendgroup": "",
         "lon": [
          8.95726303725536
         ],
         "marker": {
          "color": [
           "#d00000"
          ]
         },
         "mode": "markers",
         "name": "",
         "showlegend": false,
         "subplot": "mapbox",
         "type": "scattermapbox"
        },
        {
         "lat": [
          50.547419,
          50.996736,
          50.983258,
          50.534089,
          50.547419
         ],
         "lon": [
          11.820139,
          11.837726,
          12.549569,
          12.525181,
          11.820139
         ],
         "marker": {
          "color": "#d00000",
          "size": 10
         },
         "mode": "markers+lines",
         "type": "scattermapbox"
        },
        {
         "hovertemplate": "<b>%{hovertext}</b><br><br>coord_lat=%{lat}<br>coord_lon=%{lon}<extra></extra>",
         "hovertext": [
          "50kmE4450N3050"
         ],
         "lat": [
          50.850940867151
         ],
         "legendgroup": "",
         "lon": [
          12.146953061704
         ],
         "marker": {
          "color": [
           "#d00000"
          ]
         },
         "mode": "markers",
         "name": "",
         "showlegend": false,
         "subplot": "mapbox",
         "type": "scattermapbox"
        },
        {
         "lat": [
          51.010567,
          51.45999,
          51.455209,
          51.005839,
          51.010567
         ],
         "lon": [
          10.413208,
          10.417261,
          11.136602,
          11.125565,
          10.413208
         ],
         "marker": {
          "color": "#d00000",
          "size": 10
         },
         "mode": "markers+lines",
         "type": "scattermapbox"
        },
        {
         "hovertemplate": "<b>%{hovertext}</b><br><br>coord_lat=%{lat}<br>coord_lon=%{lon}<extra></extra>",
         "hovertext": [
          "50kmE4350N3100"
         ],
         "lat": [
          51.076005907145
         ],
         "legendgroup": "",
         "lon": [
          11.038315600852
         ],
         "marker": {
          "color": [
           "#d00000"
          ]
         },
         "mode": "markers",
         "name": "",
         "showlegend": false,
         "subplot": "mapbox",
         "type": "scattermapbox"
        },
        {
         "lat": [
          50.96856,
          51.417509,
          51.434851,
          50.985708,
          50.96856
         ],
         "lon": [
          6.85282,
          6.822,
          7.540432,
          7.564299,
          6.85282
         ],
         "marker": {
          "color": "#d00000",
          "size": 10
         },
         "mode": "markers+lines",
         "type": "scattermapbox"
        },
        {
         "hovertemplate": "<b>%{hovertext}</b><br><br>coord_lat=%{lat}<br>coord_lon=%{lon}<extra></extra>",
         "hovertext": [
          "50kmE4100N3100"
         ],
         "lat": [
          51.38938
         ],
         "legendgroup": "",
         "lon": [
          7.067282
         ],
         "marker": {
          "color": [
           "#d00000"
          ]
         },
         "mode": "markers",
         "name": "",
         "showlegend": false,
         "subplot": "mapbox",
         "type": "scattermapbox"
        },
        {
         "lat": [
          50.96856,
          51.417509,
          51.434851,
          50.985708,
          50.96856
         ],
         "lon": [
          6.85282,
          6.822,
          7.540432,
          7.564299,
          6.85282
         ],
         "marker": {
          "color": "#d00000",
          "size": 10
         },
         "mode": "markers+lines",
         "type": "scattermapbox"
        },
        {
         "hovertemplate": "<b>%{hovertext}</b><br><br>coord_lat=%{lat}<br>coord_lon=%{lon}<extra></extra>",
         "hovertext": [
          "50kmE4100N3100"
         ],
         "lat": [
          50.9945583591
         ],
         "legendgroup": "",
         "lon": [
          7.4989729893944
         ],
         "marker": {
          "color": [
           "#d00000"
          ]
         },
         "mode": "markers",
         "name": "",
         "showlegend": false,
         "subplot": "mapbox",
         "type": "scattermapbox"
        },
        {
         "lat": [
          50.070481,
          50.519553,
          50.536513,
          50.087257,
          50.070481
         ],
         "lon": [
          6.91229,
          6.882908,
          7.5876,
          7.610354,
          6.91229
         ],
         "marker": {
          "color": "#d00000",
          "size": 10
         },
         "mode": "markers+lines",
         "type": "scattermapbox"
        },
        {
         "hovertemplate": "<b>%{hovertext}</b><br><br>coord_lat=%{lat}<br>coord_lon=%{lon}<extra></extra>",
         "hovertext": [
          "50kmE4100N3000"
         ],
         "lat": [
          50.42398
         ],
         "legendgroup": "",
         "lon": [
          7.510501
         ],
         "marker": {
          "color": [
           "#d00000"
          ]
         },
         "mode": "markers",
         "name": "",
         "showlegend": false,
         "subplot": "mapbox",
         "type": "scattermapbox"
        },
        {
         "lat": [
          50.070481,
          50.519553,
          50.536513,
          50.087257,
          50.070481
         ],
         "lon": [
          6.91229,
          6.882908,
          7.5876,
          7.610354,
          6.91229
         ],
         "marker": {
          "color": "#d00000",
          "size": 10
         },
         "mode": "markers+lines",
         "type": "scattermapbox"
        },
        {
         "hovertemplate": "<b>%{hovertext}</b><br><br>coord_lat=%{lat}<br>coord_lon=%{lon}<extra></extra>",
         "hovertext": [
          "50kmE4100N3000"
         ],
         "lat": [
          50.419474085611
         ],
         "legendgroup": "",
         "lon": [
          7.5055530116602
         ],
         "marker": {
          "color": [
           "#d00000"
          ]
         },
         "mode": "markers",
         "name": "",
         "showlegend": false,
         "subplot": "mapbox",
         "type": "scattermapbox"
        },
        {
         "lat": [
          50.498274,
          50.947046,
          50.96856,
          50.519553,
          50.498274
         ],
         "lon": [
          6.178741,
          6.141884,
          6.85282,
          6.882908,
          6.178741
         ],
         "marker": {
          "color": "#d00000",
          "size": 10
         },
         "mode": "markers+lines",
         "type": "scattermapbox"
        },
        {
         "hovertemplate": "<b>%{hovertext}</b><br><br>coord_lat=%{lat}<br>coord_lon=%{lon}<extra></extra>",
         "hovertext": [
          "50kmE4050N3050"
         ],
         "lat": [
          50.87416
         ],
         "legendgroup": "",
         "lon": [
          6.844856
         ],
         "marker": {
          "color": [
           "#d00000"
          ]
         },
         "mode": "markers",
         "name": "",
         "showlegend": false,
         "subplot": "mapbox",
         "type": "scattermapbox"
        },
        {
         "lat": [
          51.417509,
          51.866407,
          51.883947,
          51.434851,
          51.417509
         ],
         "lon": [
          6.822,
          6.790424,
          7.515978,
          7.540432,
          6.822
         ],
         "marker": {
          "color": "#d00000",
          "size": 10
         },
         "mode": "markers+lines",
         "type": "scattermapbox"
        },
        {
         "hovertemplate": "<b>%{hovertext}</b><br><br>coord_lat=%{lat}<br>coord_lon=%{lon}<extra></extra>",
         "hovertext": [
          "50kmE4100N3150"
         ],
         "lat": [
          51.53729011963234
         ],
         "legendgroup": "",
         "lon": [
          7.444546384440203
         ],
         "marker": {
          "color": [
           "#d00000"
          ]
         },
         "mode": "markers",
         "name": "",
         "showlegend": false,
         "subplot": "mapbox",
         "type": "scattermapbox"
        },
        {
         "lat": [
          50.96856,
          51.417509,
          51.434851,
          50.985708,
          50.96856
         ],
         "lon": [
          6.85282,
          6.822,
          7.540432,
          7.564299,
          6.85282
         ],
         "marker": {
          "color": "#d00000",
          "size": 10
         },
         "mode": "markers+lines",
         "type": "scattermapbox"
        },
        {
         "hovertemplate": "<b>%{hovertext}</b><br><br>coord_lat=%{lat}<br>coord_lon=%{lon}<extra></extra>",
         "hovertext": [
          "50kmE4100N3100"
         ],
         "lat": [
          50.98880634801749
         ],
         "legendgroup": "",
         "lon": [
          6.852005925737461
         ],
         "marker": {
          "color": [
           "#d00000"
          ]
         },
         "mode": "markers",
         "name": "",
         "showlegend": false,
         "subplot": "mapbox",
         "type": "scattermapbox"
        },
        {
         "lat": [
          50.996736,
          51.446002,
          51.432373,
          50.983258,
          50.996736
         ],
         "lon": [
          11.837726,
          11.855742,
          12.57455,
          12.549569,
          11.837726
         ],
         "marker": {
          "color": "#d00000",
          "size": 10
         },
         "mode": "markers+lines",
         "type": "scattermapbox"
        },
        {
         "hovertemplate": "<b>%{hovertext}</b><br><br>coord_lat=%{lat}<br>coord_lon=%{lon}<extra></extra>",
         "hovertext": [
          "50kmE4450N3100"
         ],
         "lat": [
          51.369117755864
         ],
         "legendgroup": "",
         "lon": [
          12.063602699578
         ],
         "marker": {
          "color": [
           "#d00000"
          ]
         },
         "mode": "markers",
         "name": "",
         "showlegend": false,
         "subplot": "mapbox",
         "type": "scattermapbox"
        },
        {
         "lat": [
          51.909373,
          52.358723,
          52.353832,
          51.904537,
          51.909373
         ],
         "lon": [
          10.421413,
          10.425669,
          11.159502,
          11.147912,
          10.421413
         ],
         "marker": {
          "color": "#d00000",
          "size": 10
         },
         "mode": "markers+lines",
         "type": "scattermapbox"
        },
        {
         "hovertemplate": "<b>%{hovertext}</b><br><br>coord_lat=%{lat}<br>coord_lon=%{lon}<extra></extra>",
         "hovertext": [
          "50kmE4350N3200"
         ],
         "lat": [
          52.32175
         ],
         "legendgroup": "",
         "lon": [
          10.4328
         ],
         "marker": {
          "color": [
           "#d00000"
          ]
         },
         "mode": "markers",
         "name": "",
         "showlegend": false,
         "subplot": "mapbox",
         "type": "scattermapbox"
        },
        {
         "lat": [
          49.200775,
          49.650302,
          49.658435,
          49.208823,
          49.200775
         ],
         "lon": [
          8.339919,
          8.324546,
          9.016781,
          9.025805,
          8.339919
         ],
         "marker": {
          "color": "#d00000",
          "size": 10
         },
         "mode": "markers+lines",
         "type": "scattermapbox"
        },
        {
         "hovertemplate": "<b>%{hovertext}</b><br><br>coord_lat=%{lat}<br>coord_lon=%{lon}<extra></extra>",
         "hovertext": [
          "50kmE4200N2900"
         ],
         "lat": [
          49.24994
         ],
         "legendgroup": "",
         "lon": [
          8.398034
         ],
         "marker": {
          "color": [
           "#d00000"
          ]
         },
         "mode": "markers",
         "name": "",
         "showlegend": false,
         "subplot": "mapbox",
         "type": "scattermapbox"
        },
        {
         "lat": [
          53.252348,
          53.701584,
          53.691823,
          53.242704,
          53.252348
         ],
         "lon": [
          11.183569,
          11.196067,
          11.952794,
          11.932396,
          11.183569
         ],
         "marker": {
          "color": "#d00000",
          "size": 10
         },
         "mode": "markers+lines",
         "type": "scattermapbox"
        },
        {
         "hovertemplate": "<b>%{hovertext}</b><br><br>coord_lat=%{lat}<br>coord_lon=%{lon}<extra></extra>",
         "hovertext": [
          "50kmE4400N3350"
         ],
         "lat": [
          53.358763260193
         ],
         "legendgroup": "",
         "lon": [
          11.280887221838
         ],
         "marker": {
          "color": [
           "#d00000"
          ]
         },
         "mode": "markers",
         "name": "",
         "showlegend": false,
         "subplot": "mapbox",
         "type": "scattermapbox"
        },
        {
         "lat": [
          53.228428,
          53.677375,
          53.658243,
          53.209524,
          53.228428
         ],
         "lon": [
          12.680839,
          12.709121,
          13.464893,
          13.428748,
          12.680839
         ],
         "marker": {
          "color": "#d00000",
          "size": 10
         },
         "mode": "markers+lines",
         "type": "scattermapbox"
        },
        {
         "hovertemplate": "<b>%{hovertext}</b><br><br>coord_lat=%{lat}<br>coord_lon=%{lon}<extra></extra>",
         "hovertext": [
          "50kmE4500N3350"
         ],
         "lat": [
          53.370989197369
         ],
         "legendgroup": "",
         "lon": [
          13.048725187261
         ],
         "marker": {
          "color": [
           "#d00000"
          ]
         },
         "mode": "markers",
         "name": "",
         "showlegend": false,
         "subplot": "mapbox",
         "type": "scattermapbox"
        },
        {
         "lat": [
          53.252348,
          53.701584,
          53.691823,
          53.242704,
          53.252348
         ],
         "lon": [
          11.183569,
          11.196067,
          11.952794,
          11.932396,
          11.183569
         ],
         "marker": {
          "color": "#d00000",
          "size": 10
         },
         "mode": "markers+lines",
         "type": "scattermapbox"
        },
        {
         "hovertemplate": "<b>%{hovertext}</b><br><br>coord_lat=%{lat}<br>coord_lon=%{lon}<extra></extra>",
         "hovertext": [
          "50kmE4400N3350"
         ],
         "lat": [
          53.437281387126
         ],
         "legendgroup": "",
         "lon": [
          11.610634930083
         ],
         "marker": {
          "color": [
           "#d00000"
          ]
         },
         "mode": "markers",
         "name": "",
         "showlegend": false,
         "subplot": "mapbox",
         "type": "scattermapbox"
        },
        {
         "lat": [
          53.706653,
          54.155945,
          54.150814,
          53.701584,
          53.706653
         ],
         "lon": [
          10.439095,
          10.443804,
          11.208891,
          11.196067,
          10.439095
         ],
         "marker": {
          "color": "#d00000",
          "size": 10
         },
         "mode": "markers+lines",
         "type": "scattermapbox"
        },
        {
         "hovertemplate": "<b>%{hovertext}</b><br><br>coord_lat=%{lat}<br>coord_lon=%{lon}<extra></extra>",
         "hovertext": [
          "50kmE4350N3400"
         ],
         "lat": [
          53.7525873765607
         ],
         "legendgroup": "",
         "lon": [
          10.8902731640435
         ],
         "marker": {
          "color": [
           "#d00000"
          ]
         },
         "mode": "markers",
         "name": "",
         "showlegend": false,
         "subplot": "mapbox",
         "type": "scattermapbox"
        },
        {
         "lat": [
          53.677375,
          54.126308,
          54.106941,
          53.658243,
          53.677375
         ],
         "lon": [
          12.709121,
          12.738138,
          13.501978,
          13.464893,
          12.709121
         ],
         "marker": {
          "color": "#d00000",
          "size": 10
         },
         "mode": "markers+lines",
         "type": "scattermapbox"
        },
        {
         "hovertemplate": "<b>%{hovertext}</b><br><br>coord_lat=%{lat}<br>coord_lon=%{lon}<extra></extra>",
         "hovertext": [
          "50kmE4500N3400"
         ],
         "lat": [
          53.86919165642
         ],
         "legendgroup": "",
         "lon": [
          12.8730515936
         ],
         "marker": {
          "color": [
           "#d00000"
          ]
         },
         "mode": "markers",
         "name": "",
         "showlegend": false,
         "subplot": "mapbox",
         "type": "scattermapbox"
        },
        {
         "lat": [
          54.140934,
          54.590042,
          54.575234,
          54.126308,
          54.140934
         ],
         "lon": [
          11.973723,
          11.995202,
          12.76792,
          12.738138,
          11.973723
         ],
         "marker": {
          "color": "#d00000",
          "size": 10
         },
         "mode": "markers+lines",
         "type": "scattermapbox"
        },
        {
         "hovertemplate": "<b>%{hovertext}</b><br><br>coord_lat=%{lat}<br>coord_lon=%{lon}<extra></extra>",
         "hovertext": [
          "50kmE4450N3450"
         ],
         "lat": [
          54.322831
         ],
         "legendgroup": "",
         "lon": [
          12.387342
         ],
         "marker": {
          "color": [
           "#d00000"
          ]
         },
         "mode": "markers",
         "name": "",
         "showlegend": false,
         "subplot": "mapbox",
         "type": "scattermapbox"
        },
        {
         "lat": [
          53.677375,
          54.126308,
          54.106941,
          53.658243,
          53.677375
         ],
         "lon": [
          12.709121,
          12.738138,
          13.501978,
          13.464893,
          12.709121
         ],
         "marker": {
          "color": "#d00000",
          "size": 10
         },
         "mode": "markers+lines",
         "type": "scattermapbox"
        },
        {
         "hovertemplate": "<b>%{hovertext}</b><br><br>coord_lat=%{lat}<br>coord_lon=%{lon}<extra></extra>",
         "hovertext": [
          "50kmE4500N3400"
         ],
         "lat": [
          54.033271467286
         ],
         "legendgroup": "",
         "lon": [
          12.808342765321
         ],
         "marker": {
          "color": [
           "#d00000"
          ]
         },
         "mode": "markers",
         "name": "",
         "showlegend": false,
         "subplot": "mapbox",
         "type": "scattermapbox"
        }
       ],
       "layout": {
        "mapbox": {
         "center": {
          "lat": 54.033271467286,
          "lon": 12.808342765321
         },
         "style": "open-street-map",
         "zoom": 5
        },
        "margin": {
         "b": 0,
         "l": 0,
         "r": 0,
         "t": 0
        },
        "showlegend": false,
        "template": {
         "data": {
          "bar": [
           {
            "error_x": {
             "color": "#2a3f5f"
            },
            "error_y": {
             "color": "#2a3f5f"
            },
            "marker": {
             "line": {
              "color": "#E5ECF6",
              "width": 0.5
             },
             "pattern": {
              "fillmode": "overlay",
              "size": 10,
              "solidity": 0.2
             }
            },
            "type": "bar"
           }
          ],
          "barpolar": [
           {
            "marker": {
             "line": {
              "color": "#E5ECF6",
              "width": 0.5
             },
             "pattern": {
              "fillmode": "overlay",
              "size": 10,
              "solidity": 0.2
             }
            },
            "type": "barpolar"
           }
          ],
          "carpet": [
           {
            "aaxis": {
             "endlinecolor": "#2a3f5f",
             "gridcolor": "white",
             "linecolor": "white",
             "minorgridcolor": "white",
             "startlinecolor": "#2a3f5f"
            },
            "baxis": {
             "endlinecolor": "#2a3f5f",
             "gridcolor": "white",
             "linecolor": "white",
             "minorgridcolor": "white",
             "startlinecolor": "#2a3f5f"
            },
            "type": "carpet"
           }
          ],
          "choropleth": [
           {
            "colorbar": {
             "outlinewidth": 0,
             "ticks": ""
            },
            "type": "choropleth"
           }
          ],
          "contour": [
           {
            "colorbar": {
             "outlinewidth": 0,
             "ticks": ""
            },
            "colorscale": [
             [
              0,
              "#0d0887"
             ],
             [
              0.1111111111111111,
              "#46039f"
             ],
             [
              0.2222222222222222,
              "#7201a8"
             ],
             [
              0.3333333333333333,
              "#9c179e"
             ],
             [
              0.4444444444444444,
              "#bd3786"
             ],
             [
              0.5555555555555556,
              "#d8576b"
             ],
             [
              0.6666666666666666,
              "#ed7953"
             ],
             [
              0.7777777777777778,
              "#fb9f3a"
             ],
             [
              0.8888888888888888,
              "#fdca26"
             ],
             [
              1,
              "#f0f921"
             ]
            ],
            "type": "contour"
           }
          ],
          "contourcarpet": [
           {
            "colorbar": {
             "outlinewidth": 0,
             "ticks": ""
            },
            "type": "contourcarpet"
           }
          ],
          "heatmap": [
           {
            "colorbar": {
             "outlinewidth": 0,
             "ticks": ""
            },
            "colorscale": [
             [
              0,
              "#0d0887"
             ],
             [
              0.1111111111111111,
              "#46039f"
             ],
             [
              0.2222222222222222,
              "#7201a8"
             ],
             [
              0.3333333333333333,
              "#9c179e"
             ],
             [
              0.4444444444444444,
              "#bd3786"
             ],
             [
              0.5555555555555556,
              "#d8576b"
             ],
             [
              0.6666666666666666,
              "#ed7953"
             ],
             [
              0.7777777777777778,
              "#fb9f3a"
             ],
             [
              0.8888888888888888,
              "#fdca26"
             ],
             [
              1,
              "#f0f921"
             ]
            ],
            "type": "heatmap"
           }
          ],
          "heatmapgl": [
           {
            "colorbar": {
             "outlinewidth": 0,
             "ticks": ""
            },
            "colorscale": [
             [
              0,
              "#0d0887"
             ],
             [
              0.1111111111111111,
              "#46039f"
             ],
             [
              0.2222222222222222,
              "#7201a8"
             ],
             [
              0.3333333333333333,
              "#9c179e"
             ],
             [
              0.4444444444444444,
              "#bd3786"
             ],
             [
              0.5555555555555556,
              "#d8576b"
             ],
             [
              0.6666666666666666,
              "#ed7953"
             ],
             [
              0.7777777777777778,
              "#fb9f3a"
             ],
             [
              0.8888888888888888,
              "#fdca26"
             ],
             [
              1,
              "#f0f921"
             ]
            ],
            "type": "heatmapgl"
           }
          ],
          "histogram": [
           {
            "marker": {
             "pattern": {
              "fillmode": "overlay",
              "size": 10,
              "solidity": 0.2
             }
            },
            "type": "histogram"
           }
          ],
          "histogram2d": [
           {
            "colorbar": {
             "outlinewidth": 0,
             "ticks": ""
            },
            "colorscale": [
             [
              0,
              "#0d0887"
             ],
             [
              0.1111111111111111,
              "#46039f"
             ],
             [
              0.2222222222222222,
              "#7201a8"
             ],
             [
              0.3333333333333333,
              "#9c179e"
             ],
             [
              0.4444444444444444,
              "#bd3786"
             ],
             [
              0.5555555555555556,
              "#d8576b"
             ],
             [
              0.6666666666666666,
              "#ed7953"
             ],
             [
              0.7777777777777778,
              "#fb9f3a"
             ],
             [
              0.8888888888888888,
              "#fdca26"
             ],
             [
              1,
              "#f0f921"
             ]
            ],
            "type": "histogram2d"
           }
          ],
          "histogram2dcontour": [
           {
            "colorbar": {
             "outlinewidth": 0,
             "ticks": ""
            },
            "colorscale": [
             [
              0,
              "#0d0887"
             ],
             [
              0.1111111111111111,
              "#46039f"
             ],
             [
              0.2222222222222222,
              "#7201a8"
             ],
             [
              0.3333333333333333,
              "#9c179e"
             ],
             [
              0.4444444444444444,
              "#bd3786"
             ],
             [
              0.5555555555555556,
              "#d8576b"
             ],
             [
              0.6666666666666666,
              "#ed7953"
             ],
             [
              0.7777777777777778,
              "#fb9f3a"
             ],
             [
              0.8888888888888888,
              "#fdca26"
             ],
             [
              1,
              "#f0f921"
             ]
            ],
            "type": "histogram2dcontour"
           }
          ],
          "mesh3d": [
           {
            "colorbar": {
             "outlinewidth": 0,
             "ticks": ""
            },
            "type": "mesh3d"
           }
          ],
          "parcoords": [
           {
            "line": {
             "colorbar": {
              "outlinewidth": 0,
              "ticks": ""
             }
            },
            "type": "parcoords"
           }
          ],
          "pie": [
           {
            "automargin": true,
            "type": "pie"
           }
          ],
          "scatter": [
           {
            "fillpattern": {
             "fillmode": "overlay",
             "size": 10,
             "solidity": 0.2
            },
            "type": "scatter"
           }
          ],
          "scatter3d": [
           {
            "line": {
             "colorbar": {
              "outlinewidth": 0,
              "ticks": ""
             }
            },
            "marker": {
             "colorbar": {
              "outlinewidth": 0,
              "ticks": ""
             }
            },
            "type": "scatter3d"
           }
          ],
          "scattercarpet": [
           {
            "marker": {
             "colorbar": {
              "outlinewidth": 0,
              "ticks": ""
             }
            },
            "type": "scattercarpet"
           }
          ],
          "scattergeo": [
           {
            "marker": {
             "colorbar": {
              "outlinewidth": 0,
              "ticks": ""
             }
            },
            "type": "scattergeo"
           }
          ],
          "scattergl": [
           {
            "marker": {
             "colorbar": {
              "outlinewidth": 0,
              "ticks": ""
             }
            },
            "type": "scattergl"
           }
          ],
          "scattermapbox": [
           {
            "marker": {
             "colorbar": {
              "outlinewidth": 0,
              "ticks": ""
             }
            },
            "type": "scattermapbox"
           }
          ],
          "scatterpolar": [
           {
            "marker": {
             "colorbar": {
              "outlinewidth": 0,
              "ticks": ""
             }
            },
            "type": "scatterpolar"
           }
          ],
          "scatterpolargl": [
           {
            "marker": {
             "colorbar": {
              "outlinewidth": 0,
              "ticks": ""
             }
            },
            "type": "scatterpolargl"
           }
          ],
          "scatterternary": [
           {
            "marker": {
             "colorbar": {
              "outlinewidth": 0,
              "ticks": ""
             }
            },
            "type": "scatterternary"
           }
          ],
          "surface": [
           {
            "colorbar": {
             "outlinewidth": 0,
             "ticks": ""
            },
            "colorscale": [
             [
              0,
              "#0d0887"
             ],
             [
              0.1111111111111111,
              "#46039f"
             ],
             [
              0.2222222222222222,
              "#7201a8"
             ],
             [
              0.3333333333333333,
              "#9c179e"
             ],
             [
              0.4444444444444444,
              "#bd3786"
             ],
             [
              0.5555555555555556,
              "#d8576b"
             ],
             [
              0.6666666666666666,
              "#ed7953"
             ],
             [
              0.7777777777777778,
              "#fb9f3a"
             ],
             [
              0.8888888888888888,
              "#fdca26"
             ],
             [
              1,
              "#f0f921"
             ]
            ],
            "type": "surface"
           }
          ],
          "table": [
           {
            "cells": {
             "fill": {
              "color": "#EBF0F8"
             },
             "line": {
              "color": "white"
             }
            },
            "header": {
             "fill": {
              "color": "#C8D4E3"
             },
             "line": {
              "color": "white"
             }
            },
            "type": "table"
           }
          ]
         },
         "layout": {
          "annotationdefaults": {
           "arrowcolor": "#2a3f5f",
           "arrowhead": 0,
           "arrowwidth": 1
          },
          "autotypenumbers": "strict",
          "coloraxis": {
           "colorbar": {
            "outlinewidth": 0,
            "ticks": ""
           }
          },
          "colorscale": {
           "diverging": [
            [
             0,
             "#8e0152"
            ],
            [
             0.1,
             "#c51b7d"
            ],
            [
             0.2,
             "#de77ae"
            ],
            [
             0.3,
             "#f1b6da"
            ],
            [
             0.4,
             "#fde0ef"
            ],
            [
             0.5,
             "#f7f7f7"
            ],
            [
             0.6,
             "#e6f5d0"
            ],
            [
             0.7,
             "#b8e186"
            ],
            [
             0.8,
             "#7fbc41"
            ],
            [
             0.9,
             "#4d9221"
            ],
            [
             1,
             "#276419"
            ]
           ],
           "sequential": [
            [
             0,
             "#0d0887"
            ],
            [
             0.1111111111111111,
             "#46039f"
            ],
            [
             0.2222222222222222,
             "#7201a8"
            ],
            [
             0.3333333333333333,
             "#9c179e"
            ],
            [
             0.4444444444444444,
             "#bd3786"
            ],
            [
             0.5555555555555556,
             "#d8576b"
            ],
            [
             0.6666666666666666,
             "#ed7953"
            ],
            [
             0.7777777777777778,
             "#fb9f3a"
            ],
            [
             0.8888888888888888,
             "#fdca26"
            ],
            [
             1,
             "#f0f921"
            ]
           ],
           "sequentialminus": [
            [
             0,
             "#0d0887"
            ],
            [
             0.1111111111111111,
             "#46039f"
            ],
            [
             0.2222222222222222,
             "#7201a8"
            ],
            [
             0.3333333333333333,
             "#9c179e"
            ],
            [
             0.4444444444444444,
             "#bd3786"
            ],
            [
             0.5555555555555556,
             "#d8576b"
            ],
            [
             0.6666666666666666,
             "#ed7953"
            ],
            [
             0.7777777777777778,
             "#fb9f3a"
            ],
            [
             0.8888888888888888,
             "#fdca26"
            ],
            [
             1,
             "#f0f921"
            ]
           ]
          },
          "colorway": [
           "#636efa",
           "#EF553B",
           "#00cc96",
           "#ab63fa",
           "#FFA15A",
           "#19d3f3",
           "#FF6692",
           "#B6E880",
           "#FF97FF",
           "#FECB52"
          ],
          "font": {
           "color": "#2a3f5f"
          },
          "geo": {
           "bgcolor": "white",
           "lakecolor": "white",
           "landcolor": "#E5ECF6",
           "showlakes": true,
           "showland": true,
           "subunitcolor": "white"
          },
          "hoverlabel": {
           "align": "left"
          },
          "hovermode": "closest",
          "mapbox": {
           "style": "light"
          },
          "paper_bgcolor": "white",
          "plot_bgcolor": "#E5ECF6",
          "polar": {
           "angularaxis": {
            "gridcolor": "white",
            "linecolor": "white",
            "ticks": ""
           },
           "bgcolor": "#E5ECF6",
           "radialaxis": {
            "gridcolor": "white",
            "linecolor": "white",
            "ticks": ""
           }
          },
          "scene": {
           "xaxis": {
            "backgroundcolor": "#E5ECF6",
            "gridcolor": "white",
            "gridwidth": 2,
            "linecolor": "white",
            "showbackground": true,
            "ticks": "",
            "zerolinecolor": "white"
           },
           "yaxis": {
            "backgroundcolor": "#E5ECF6",
            "gridcolor": "white",
            "gridwidth": 2,
            "linecolor": "white",
            "showbackground": true,
            "ticks": "",
            "zerolinecolor": "white"
           },
           "zaxis": {
            "backgroundcolor": "#E5ECF6",
            "gridcolor": "white",
            "gridwidth": 2,
            "linecolor": "white",
            "showbackground": true,
            "ticks": "",
            "zerolinecolor": "white"
           }
          },
          "shapedefaults": {
           "line": {
            "color": "#2a3f5f"
           }
          },
          "ternary": {
           "aaxis": {
            "gridcolor": "white",
            "linecolor": "white",
            "ticks": ""
           },
           "baxis": {
            "gridcolor": "white",
            "linecolor": "white",
            "ticks": ""
           },
           "bgcolor": "#E5ECF6",
           "caxis": {
            "gridcolor": "white",
            "linecolor": "white",
            "ticks": ""
           }
          },
          "title": {
           "x": 0.05
          },
          "xaxis": {
           "automargin": true,
           "gridcolor": "white",
           "linecolor": "white",
           "ticks": "",
           "title": {
            "standoff": 15
           },
           "zerolinecolor": "white",
           "zerolinewidth": 2
          },
          "yaxis": {
           "automargin": true,
           "gridcolor": "white",
           "linecolor": "white",
           "ticks": "",
           "title": {
            "standoff": 15
           },
           "zerolinecolor": "white",
           "zerolinewidth": 2
          }
         }
        }
       }
      }
     },
     "metadata": {},
     "output_type": "display_data"
    }
   ],
   "source": [
    "layout = go.Layout(\n",
    "        mapbox=dict(\n",
    "            style='open-street-map',\n",
    "            zoom=10), showlegend=False, margin=dict(l=0, r=0, t=0, b=0))\n",
    "fig = go.Figure(layout=layout)\n",
    "\n",
    "for i in range(0,21):\n",
    "    # Get bird sighting\n",
    "    bird_sighting = result_gdf.iloc[i].copy()\n",
    "    bird_sighting['color'] = '#d00000'\n",
    "    geometry = gpd.points_from_xy([bird_sighting['coord_lon']], [bird_sighting['coord_lat']])\n",
    "    gdf_data_point = gpd.GeoDataFrame([bird_sighting], geometry=geometry, crs='EPSG:4326')\n",
    "\n",
    "    # Get polygon assigned to that bird sighting\n",
    "    eea_grid_id = bird_sighting['eea_grid_id']\n",
    "    polygon = eea_grid_filtered[eea_grid_filtered['cellcode'] == eea_grid_id]['geometry'].iloc[0]\n",
    "    geojson_polygon = geojson.Feature(geometry=polygon, properties={})\n",
    "\n",
    "    # Add polygon to map\n",
    "    fig.add_trace(trace = go.Scattermapbox(\n",
    "        lon=[lon for lon, lat in geojson_polygon['geometry']['coordinates'][0]],\n",
    "        lat=[lat for lon, lat in geojson_polygon['geometry']['coordinates'][0]],\n",
    "        mode='markers+lines',\n",
    "        marker=dict(size=10, color='#d00000')))\n",
    "\n",
    "    # Add point to map\n",
    "    fig.add_trace(px.scatter_mapbox(gdf_data_point,\n",
    "                    lat='coord_lat', lon='coord_lon', hover_name='eea_grid_id', size_max=10, color_discrete_sequence=[gdf_data_point.color]).data[0])\n",
    "\n",
    "# Show the plot\n",
    "fig.update_layout(mapbox_style='open-street-map', mapbox_zoom=5,\n",
    "                    mapbox_center={'lat': bird_sighting['coord_lat'], 'lon': bird_sighting['coord_lon']})\n",
    "fig.show()"
   ]
  }
 ],
 "metadata": {
  "kernelspec": {
   "display_name": "bird",
   "language": "python",
   "name": "python3"
  },
  "language_info": {
   "codemirror_mode": {
    "name": "ipython",
    "version": 3
   },
   "file_extension": ".py",
   "mimetype": "text/x-python",
   "name": "python",
   "nbconvert_exporter": "python",
   "pygments_lexer": "ipython3",
   "version": "3.10.11"
  },
  "orig_nbformat": 4
 },
 "nbformat": 4,
 "nbformat_minor": 2
}
