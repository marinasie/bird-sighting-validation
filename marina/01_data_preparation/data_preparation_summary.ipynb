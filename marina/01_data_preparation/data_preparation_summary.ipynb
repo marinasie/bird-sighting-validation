{
 "cells": [
  {
   "cell_type": "code",
   "execution_count": 1,
   "metadata": {},
   "outputs": [],
   "source": [
    "%reload_ext autoreload\n",
    "\n",
    "import sys\n",
    "sys.path.append('../')\n",
    "\n",
    "import pandas as pd\n",
    "\n",
    "from utils.data_preparation import *"
   ]
  },
  {
   "cell_type": "code",
   "execution_count": 2,
   "metadata": {},
   "outputs": [],
   "source": [
    "data_path_ch = '../../../01_Data/datasets/birds_ch_2018-2022.csv'  # Provide data path of swiss dataset\n",
    "data_path_de =  '../../../01_Data/datasets/birds_de_2018-2022.csv'  # Provide data path of german dataset\n",
    "target = '../../../01_Data/datasets/master_bird_data_quick.csv'  # Provide data path where merged dataset shall be saved\n",
    "\n",
    "path_translator_ids = '../../../01_Data/translators/translation_species_id_de_vs_ch.csv'\n",
    "path_translator_names = '../../../01_Data/translators/translation_species_names_de_vs_ch.csv'\n",
    "path_eea_grids = '../../../01_Data/eea_gridfiles/eea_europe_grids_50km/inspire_compatible_grid_50km.shp'"
   ]
  },
  {
   "cell_type": "code",
   "execution_count": null,
   "metadata": {},
   "outputs": [],
   "source": [
    "data_de = pd.read_csv(data_path_de, delimiter=get_delimiter(data_path_de), low_memory=False)\n",
    "data_de = standardize_data(df=data_de, \n",
    "                           path_translator_species_names=path_translator_names, \n",
    "                           path_translator_species_ids=path_translator_ids,\n",
    "                           eea_shapefile_path=path_eea_grids,\n",
    "                           adjust_ids=True)"
   ]
  }
 ],
 "metadata": {
  "kernelspec": {
   "display_name": "bird",
   "language": "python",
   "name": "python3"
  },
  "language_info": {
   "codemirror_mode": {
    "name": "ipython",
    "version": 3
   },
   "file_extension": ".py",
   "mimetype": "text/x-python",
   "name": "python",
   "nbconvert_exporter": "python",
   "pygments_lexer": "ipython3",
   "version": "3.10.11"
  },
  "orig_nbformat": 4
 },
 "nbformat": 4,
 "nbformat_minor": 2
}
