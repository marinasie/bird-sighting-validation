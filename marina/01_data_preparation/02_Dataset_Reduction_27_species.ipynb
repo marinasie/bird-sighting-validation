{
 "cells": [
  {
   "cell_type": "markdown",
   "metadata": {},
   "source": [
    "<img src=\"../../img/species_reduction.png\" alt=\"Species Reduction\" style=\"width: 100%; border-radius: 20px;\"/>\n",
    "\n",
    "## Objective\n",
    "To limit the amount of data for the outlier analysis, the number of bird species is initially limited to 27 species. The selection was made jointly by the ornithologists from Germany and Switzerland. They chose bird species from which they expect particularly interesting results.<br>\n",
    "\n",
    "## Scope\n",
    "In this notebook, we filter the selected species from the master dataset that contains all sightings from 2018-2022 of Germany and Switzerland (merged in *00_Dataset_Merging.ipynb*) and save the resulting dataset in a new csv file.<br>\n",
    "\n",
    "## Output data\n",
    "The resulting filtered dataset can be found [here](https://drive.google.com/drive/folders/18XoTsDtWnN4QdIBNGGbq-jaa6U3nVb2e) as *master_bird_data_selected_species.csv*."
   ]
  },
  {
   "cell_type": "code",
   "execution_count": 3,
   "metadata": {},
   "outputs": [],
   "source": [
    "import pandas as pd\n",
    "import plotly.express as px"
   ]
  },
  {
   "cell_type": "markdown",
   "metadata": {},
   "source": [
    "# \n",
    "<p style=\"background-color:#4A3228;color:white;font-size:240%;border-radius:10px 10px 10px 10px;\"> &nbsp; 0️⃣ Specify your paths </p>\n",
    "\n",
    "In order to run the notebook, the following datasets are required:\n",
    "- Master dataset: *[master_bird_data.csv](https://drive.google.com/drive/folders/1eznk8GyIKt8fPJCb4TVqEIkrNcwonn9m)*\n",
    "- Table containing the species list that the ornithologists decided on: *[selected_species_of_interest.csv](https://drive.google.com/drive/folders/1SbXMiMweOrHgfGJZ0cOtPJzQo6bbvyJJ)*\n",
    "\n",
    "If you wish to store the resulting reduced master dataset, please specify a target path where it should be stored."
   ]
  },
  {
   "cell_type": "code",
   "execution_count": 1,
   "metadata": {},
   "outputs": [],
   "source": [
    "data_path_master = '../../../01_Data/datasets/master_bird_data.csv'  # Provide data of master dataset\n",
    "data_path_selected_species = '../../../01_Data/datasets/selected_species_of_interest.csv'  # Provide data path of species to be selected\n",
    "data_path_target = 'master_bird_data_selected_species.csv'  # Provide data path where reduced dataset shall be saved"
   ]
  },
  {
   "cell_type": "markdown",
   "metadata": {},
   "source": [
    "# \n",
    "<p style=\"background-color:#4A3228;color:white;font-size:240%;border-radius:10px 10px 10px 10px;\"> &nbsp; 1️⃣ Load data </p>\n",
    "First, we load both the master dataset holding the bird observations, as well as the table that contains a list of all species and whether they are one of the selected species or not."
   ]
  },
  {
   "cell_type": "markdown",
   "metadata": {},
   "source": [
    "## Master dataset"
   ]
  },
  {
   "cell_type": "code",
   "execution_count": 4,
   "metadata": {},
   "outputs": [],
   "source": [
    "df = pd.read_csv(data_path_master, index_col=0, low_memory=False)"
   ]
  },
  {
   "cell_type": "markdown",
   "metadata": {},
   "source": [
    "## Table of species of interest"
   ]
  },
  {
   "cell_type": "code",
   "execution_count": 5,
   "metadata": {},
   "outputs": [],
   "source": [
    "species = pd.read_csv(data_path_selected_species, usecols = ['ornithoid','namedt', 'finale Auswahl'])"
   ]
  },
  {
   "cell_type": "markdown",
   "metadata": {},
   "source": [
    "# \n",
    "<p style=\"background-color:#4A3228;color:white;font-size:240%;border-radius:10px 10px 10px 10px;\"> &nbsp; 2️⃣ Filter the master dataset to only include 27 species of interest </p>\n",
    "\n",
    "Below, we filter the decision table to only show the 27 species of interest."
   ]
  },
  {
   "cell_type": "code",
   "execution_count": 6,
   "metadata": {},
   "outputs": [
    {
     "data": {
      "text/html": [
       "<div>\n",
       "<style scoped>\n",
       "    .dataframe tbody tr th:only-of-type {\n",
       "        vertical-align: middle;\n",
       "    }\n",
       "\n",
       "    .dataframe tbody tr th {\n",
       "        vertical-align: top;\n",
       "    }\n",
       "\n",
       "    .dataframe thead th {\n",
       "        text-align: right;\n",
       "    }\n",
       "</style>\n",
       "<table border=\"1\" class=\"dataframe\">\n",
       "  <thead>\n",
       "    <tr style=\"text-align: right;\">\n",
       "      <th></th>\n",
       "      <th>ornithoid</th>\n",
       "      <th>namedt</th>\n",
       "      <th>finale Auswahl</th>\n",
       "    </tr>\n",
       "  </thead>\n",
       "  <tbody>\n",
       "    <tr>\n",
       "      <th>10</th>\n",
       "      <td>8.0</td>\n",
       "      <td>Haubentaucher</td>\n",
       "      <td>1.0</td>\n",
       "    </tr>\n",
       "    <tr>\n",
       "      <th>62</th>\n",
       "      <td>52.0</td>\n",
       "      <td>Singschwan</td>\n",
       "      <td>1.0</td>\n",
       "    </tr>\n",
       "    <tr>\n",
       "      <th>88</th>\n",
       "      <td>77.0</td>\n",
       "      <td>Rostgans</td>\n",
       "      <td>1.0</td>\n",
       "    </tr>\n",
       "    <tr>\n",
       "      <th>103</th>\n",
       "      <td>92.0</td>\n",
       "      <td>Knäkente</td>\n",
       "      <td>1.0</td>\n",
       "    </tr>\n",
       "    <tr>\n",
       "      <th>136</th>\n",
       "      <td>123.0</td>\n",
       "      <td>Bergente</td>\n",
       "      <td>1.0</td>\n",
       "    </tr>\n",
       "    <tr>\n",
       "      <th>162</th>\n",
       "      <td>146.0</td>\n",
       "      <td>Schwarzmilan</td>\n",
       "      <td>1.0</td>\n",
       "    </tr>\n",
       "    <tr>\n",
       "      <th>177</th>\n",
       "      <td>158.0</td>\n",
       "      <td>Seeadler</td>\n",
       "      <td>1.0</td>\n",
       "    </tr>\n",
       "    <tr>\n",
       "      <th>179</th>\n",
       "      <td>160.0</td>\n",
       "      <td>Gänsegeier</td>\n",
       "      <td>1.0</td>\n",
       "    </tr>\n",
       "    <tr>\n",
       "      <th>202</th>\n",
       "      <td>181.0</td>\n",
       "      <td>Auerhuhn</td>\n",
       "      <td>1.0</td>\n",
       "    </tr>\n",
       "    <tr>\n",
       "      <th>205</th>\n",
       "      <td>183.0</td>\n",
       "      <td>Alpenschneehuhn</td>\n",
       "      <td>1.0</td>\n",
       "    </tr>\n",
       "    <tr>\n",
       "      <th>267</th>\n",
       "      <td>233.0</td>\n",
       "      <td>Flussuferläufer</td>\n",
       "      <td>1.0</td>\n",
       "    </tr>\n",
       "    <tr>\n",
       "      <th>368</th>\n",
       "      <td>316.0</td>\n",
       "      <td>Zwergohreule</td>\n",
       "      <td>1.0</td>\n",
       "    </tr>\n",
       "    <tr>\n",
       "      <th>372</th>\n",
       "      <td>319.0</td>\n",
       "      <td>Sperlingskauz</td>\n",
       "      <td>1.0</td>\n",
       "    </tr>\n",
       "    <tr>\n",
       "      <th>396</th>\n",
       "      <td>338.0</td>\n",
       "      <td>Mittelspecht</td>\n",
       "      <td>1.0</td>\n",
       "    </tr>\n",
       "    <tr>\n",
       "      <th>399</th>\n",
       "      <td>341.0</td>\n",
       "      <td>Dreizehenspecht</td>\n",
       "      <td>1.0</td>\n",
       "    </tr>\n",
       "    <tr>\n",
       "      <th>454</th>\n",
       "      <td>384.0</td>\n",
       "      <td>Wasseramsel</td>\n",
       "      <td>1.0</td>\n",
       "    </tr>\n",
       "    <tr>\n",
       "      <th>466</th>\n",
       "      <td>396.0</td>\n",
       "      <td>Braunkehlchen</td>\n",
       "      <td>1.0</td>\n",
       "    </tr>\n",
       "    <tr>\n",
       "      <th>467</th>\n",
       "      <td>397.0</td>\n",
       "      <td>Schwarzkehlchen</td>\n",
       "      <td>1.0</td>\n",
       "    </tr>\n",
       "    <tr>\n",
       "      <th>471</th>\n",
       "      <td>399.0</td>\n",
       "      <td>Steinschmätzer</td>\n",
       "      <td>1.0</td>\n",
       "    </tr>\n",
       "    <tr>\n",
       "      <th>506</th>\n",
       "      <td>428.0</td>\n",
       "      <td>Orpheusspötter</td>\n",
       "      <td>1.0</td>\n",
       "    </tr>\n",
       "    <tr>\n",
       "      <th>507</th>\n",
       "      <td>429.0</td>\n",
       "      <td>Gelbspötter</td>\n",
       "      <td>1.0</td>\n",
       "    </tr>\n",
       "    <tr>\n",
       "      <th>551</th>\n",
       "      <td>463.0</td>\n",
       "      <td>Wiesenpieper</td>\n",
       "      <td>1.0</td>\n",
       "    </tr>\n",
       "    <tr>\n",
       "      <th>557</th>\n",
       "      <td>469.0</td>\n",
       "      <td>Bergpieper</td>\n",
       "      <td>1.0</td>\n",
       "    </tr>\n",
       "    <tr>\n",
       "      <th>604</th>\n",
       "      <td>503.0</td>\n",
       "      <td>Berghänfling</td>\n",
       "      <td>1.0</td>\n",
       "    </tr>\n",
       "    <tr>\n",
       "      <th>609</th>\n",
       "      <td>507.0</td>\n",
       "      <td>Zitronenzeisig</td>\n",
       "      <td>1.0</td>\n",
       "    </tr>\n",
       "    <tr>\n",
       "      <th>616</th>\n",
       "      <td>512.0</td>\n",
       "      <td>Karmingimpel</td>\n",
       "      <td>1.0</td>\n",
       "    </tr>\n",
       "    <tr>\n",
       "      <th>638</th>\n",
       "      <td>531.0</td>\n",
       "      <td>Rohrammer</td>\n",
       "      <td>1.0</td>\n",
       "    </tr>\n",
       "  </tbody>\n",
       "</table>\n",
       "</div>"
      ],
      "text/plain": [
       "     ornithoid           namedt  finale Auswahl\n",
       "10         8.0    Haubentaucher             1.0\n",
       "62        52.0       Singschwan             1.0\n",
       "88        77.0         Rostgans             1.0\n",
       "103       92.0         Knäkente             1.0\n",
       "136      123.0         Bergente             1.0\n",
       "162      146.0     Schwarzmilan             1.0\n",
       "177      158.0         Seeadler             1.0\n",
       "179      160.0       Gänsegeier             1.0\n",
       "202      181.0         Auerhuhn             1.0\n",
       "205      183.0  Alpenschneehuhn             1.0\n",
       "267      233.0  Flussuferläufer             1.0\n",
       "368      316.0     Zwergohreule             1.0\n",
       "372      319.0    Sperlingskauz             1.0\n",
       "396      338.0     Mittelspecht             1.0\n",
       "399      341.0  Dreizehenspecht             1.0\n",
       "454      384.0      Wasseramsel             1.0\n",
       "466      396.0    Braunkehlchen             1.0\n",
       "467      397.0  Schwarzkehlchen             1.0\n",
       "471      399.0   Steinschmätzer             1.0\n",
       "506      428.0   Orpheusspötter             1.0\n",
       "507      429.0      Gelbspötter             1.0\n",
       "551      463.0     Wiesenpieper             1.0\n",
       "557      469.0       Bergpieper             1.0\n",
       "604      503.0     Berghänfling             1.0\n",
       "609      507.0   Zitronenzeisig             1.0\n",
       "616      512.0     Karmingimpel             1.0\n",
       "638      531.0        Rohrammer             1.0"
      ]
     },
     "execution_count": 6,
     "metadata": {},
     "output_type": "execute_result"
    }
   ],
   "source": [
    "selected_species = species[species['finale Auswahl']==1]\n",
    "selected_species"
   ]
  },
  {
   "cell_type": "markdown",
   "metadata": {},
   "source": [
    "We can now filter the master dataset to only include bird sightings of the respective species of interest and store it:"
   ]
  },
  {
   "cell_type": "code",
   "execution_count": 7,
   "metadata": {},
   "outputs": [],
   "source": [
    "master_selected_species = df[df.id_species.isin(selected_species.ornithoid)]\n",
    "master_selected_species.to_csv(data_path_target)"
   ]
  },
  {
   "cell_type": "markdown",
   "metadata": {},
   "source": [
    "# \n",
    "<p style=\"background-color:#4A3228;color:white;font-size:240%;border-radius:10px 10px 10px 10px;\"> &nbsp; 3️⃣ Species distribution analysis </p>\n",
    "\n",
    "Below, we can see the 27 species of interest and their sighting frequencies in the dataset. The dataset is imbalanced, with the number of data points ranging from approximately 3,000 sightings (*Zwergohreule*) to around 430,000 sightings (*Haubentaucher*)."
   ]
  },
  {
   "cell_type": "code",
   "execution_count": 8,
   "metadata": {},
   "outputs": [
    {
     "data": {
      "image/svg+xml": [
       "<svg class=\"main-svg\" xmlns=\"http://www.w3.org/2000/svg\" xmlns:xlink=\"http://www.w3.org/1999/xlink\" width=\"700\" height=\"500\" style=\"\" viewBox=\"0 0 700 500\"><rect x=\"0\" y=\"0\" width=\"700\" height=\"500\" style=\"fill: rgb(255, 255, 255); fill-opacity: 1;\"/><defs id=\"defs-5bd9b2\"><g class=\"clips\"><clipPath id=\"clip5bd9b2xyplot\" class=\"plotclip\"><rect width=\"540\" height=\"212\"/></clipPath><clipPath class=\"axesclip\" id=\"clip5bd9b2x\"><rect x=\"80\" y=\"0\" width=\"540\" height=\"500\"/></clipPath><clipPath class=\"axesclip\" id=\"clip5bd9b2y\"><rect x=\"0\" y=\"60\" width=\"700\" height=\"212\"/></clipPath><clipPath class=\"axesclip\" id=\"clip5bd9b2xy\"><rect x=\"80\" y=\"60\" width=\"540\" height=\"212\"/></clipPath></g><g class=\"gradients\"/><g class=\"patterns\"/></defs><g class=\"bglayer\"><rect class=\"bg\" x=\"80\" y=\"60\" width=\"540\" height=\"212\" style=\"fill: rgb(229, 236, 246); fill-opacity: 1; stroke-width: 0;\"/></g><g class=\"layer-below\"><g class=\"imagelayer\"/><g class=\"shapelayer\"/></g><g class=\"cartesianlayer\"><g class=\"subplot xy\"><g class=\"layer-subplot\"><g class=\"shapelayer\"/><g class=\"imagelayer\"/></g><g class=\"minor-gridlayer\"><g class=\"x\"/><g class=\"y\"/></g><g class=\"gridlayer\"><g class=\"x\"/><g class=\"y\"><path class=\"ygrid crisp\" transform=\"translate(0,225.01)\" d=\"M80,0h540\" style=\"stroke: rgb(255, 255, 255); stroke-opacity: 1; stroke-width: 1px;\"/><path class=\"ygrid crisp\" transform=\"translate(0,178.01999999999998)\" d=\"M80,0h540\" style=\"stroke: rgb(255, 255, 255); stroke-opacity: 1; stroke-width: 1px;\"/><path class=\"ygrid crisp\" transform=\"translate(0,131.03)\" d=\"M80,0h540\" style=\"stroke: rgb(255, 255, 255); stroke-opacity: 1; stroke-width: 1px;\"/><path class=\"ygrid crisp\" transform=\"translate(0,84.03)\" d=\"M80,0h540\" style=\"stroke: rgb(255, 255, 255); stroke-opacity: 1; stroke-width: 1px;\"/></g></g><g class=\"zerolinelayer\"><path class=\"yzl zl crisp\" transform=\"translate(0,272)\" d=\"M80,0h540\" style=\"stroke: rgb(255, 255, 255); stroke-opacity: 1; stroke-width: 2px;\"/></g><path class=\"xlines-below\"/><path class=\"ylines-below\"/><g class=\"overlines-below\"/><g class=\"xaxislayer-below\"/><g class=\"yaxislayer-below\"/><g class=\"overaxes-below\"/><g class=\"plot\" transform=\"translate(80,60)\" clip-path=\"url(#clip5bd9b2xyplot)\"><g class=\"barlayer mlayer\"><g class=\"trace bars\" style=\"opacity: 1;\"><g class=\"points\"><g class=\"point\"><path d=\"M2,212V209.21H18V212Z\" style=\"vector-effect: none; opacity: 1; stroke-width: 0.5px; fill: rgb(102, 119, 97); fill-opacity: 1; stroke: rgb(229, 236, 246); stroke-opacity: 1;\"/></g><g class=\"point\"><path d=\"M22,212V209.54H38V212Z\" style=\"vector-effect: none; opacity: 1; stroke-width: 0.5px; fill: rgb(102, 119, 97); fill-opacity: 1; stroke: rgb(229, 236, 246); stroke-opacity: 1;\"/></g><g class=\"point\"><path d=\"M42,212V204.91H58V212Z\" style=\"vector-effect: none; opacity: 1; stroke-width: 0.5px; fill: rgb(102, 119, 97); fill-opacity: 1; stroke: rgb(229, 236, 246); stroke-opacity: 1;\"/></g><g class=\"point\"><path d=\"M62,212V208.36H78V212Z\" style=\"vector-effect: none; opacity: 1; stroke-width: 0.5px; fill: rgb(102, 119, 97); fill-opacity: 1; stroke: rgb(229, 236, 246); stroke-opacity: 1;\"/></g><g class=\"point\"><path d=\"M82,212V161.33H98V212Z\" style=\"vector-effect: none; opacity: 1; stroke-width: 0.5px; fill: rgb(102, 119, 97); fill-opacity: 1; stroke: rgb(229, 236, 246); stroke-opacity: 1;\"/></g><g class=\"point\"><path d=\"M102,212V151.01H118V212Z\" style=\"vector-effect: none; opacity: 1; stroke-width: 0.5px; fill: rgb(102, 119, 97); fill-opacity: 1; stroke: rgb(229, 236, 246); stroke-opacity: 1;\"/></g><g class=\"point\"><path d=\"M122,212V209.57H138V212Z\" style=\"vector-effect: none; opacity: 1; stroke-width: 0.5px; fill: rgb(102, 119, 97); fill-opacity: 1; stroke: rgb(229, 236, 246); stroke-opacity: 1;\"/></g><g class=\"point\"><path d=\"M142,212V141.83H158V212Z\" style=\"vector-effect: none; opacity: 1; stroke-width: 0.5px; fill: rgb(102, 119, 97); fill-opacity: 1; stroke: rgb(229, 236, 246); stroke-opacity: 1;\"/></g><g class=\"point\"><path d=\"M162,212V184.73H178V212Z\" style=\"vector-effect: none; opacity: 1; stroke-width: 0.5px; fill: rgb(102, 119, 97); fill-opacity: 1; stroke: rgb(229, 236, 246); stroke-opacity: 1;\"/></g><g class=\"point\"><path d=\"M182,212V207.96H198V212Z\" style=\"vector-effect: none; opacity: 1; stroke-width: 0.5px; fill: rgb(102, 119, 97); fill-opacity: 1; stroke: rgb(229, 236, 246); stroke-opacity: 1;\"/></g><g class=\"point\"><path d=\"M202,212V10.6H218V212Z\" style=\"vector-effect: none; opacity: 1; stroke-width: 0.5px; fill: rgb(102, 119, 97); fill-opacity: 1; stroke: rgb(229, 236, 246); stroke-opacity: 1;\"/></g><g class=\"point\"><path d=\"M222,212V208.33H238V212Z\" style=\"vector-effect: none; opacity: 1; stroke-width: 0.5px; fill: rgb(102, 119, 97); fill-opacity: 1; stroke: rgb(229, 236, 246); stroke-opacity: 1;\"/></g><g class=\"point\"><path d=\"M242,212V171.44H258V212Z\" style=\"vector-effect: none; opacity: 1; stroke-width: 0.5px; fill: rgb(102, 119, 97); fill-opacity: 1; stroke: rgb(229, 236, 246); stroke-opacity: 1;\"/></g><g class=\"point\"><path d=\"M262,212V164.93H278V212Z\" style=\"vector-effect: none; opacity: 1; stroke-width: 0.5px; fill: rgb(102, 119, 97); fill-opacity: 1; stroke: rgb(229, 236, 246); stroke-opacity: 1;\"/></g><g class=\"point\"><path d=\"M282,212V207.82H298V212Z\" style=\"vector-effect: none; opacity: 1; stroke-width: 0.5px; fill: rgb(102, 119, 97); fill-opacity: 1; stroke: rgb(229, 236, 246); stroke-opacity: 1;\"/></g><g class=\"point\"><path d=\"M302,212V81.61H318V212Z\" style=\"vector-effect: none; opacity: 1; stroke-width: 0.5px; fill: rgb(102, 119, 97); fill-opacity: 1; stroke: rgb(229, 236, 246); stroke-opacity: 1;\"/></g><g class=\"point\"><path d=\"M322,212V165.02H338V212Z\" style=\"vector-effect: none; opacity: 1; stroke-width: 0.5px; fill: rgb(102, 119, 97); fill-opacity: 1; stroke: rgb(229, 236, 246); stroke-opacity: 1;\"/></g><g class=\"point\"><path d=\"M342,212V88.75H358V212Z\" style=\"vector-effect: none; opacity: 1; stroke-width: 0.5px; fill: rgb(102, 119, 97); fill-opacity: 1; stroke: rgb(229, 236, 246); stroke-opacity: 1;\"/></g><g class=\"point\"><path d=\"M362,212V99.35H378V212Z\" style=\"vector-effect: none; opacity: 1; stroke-width: 0.5px; fill: rgb(102, 119, 97); fill-opacity: 1; stroke: rgb(229, 236, 246); stroke-opacity: 1;\"/></g><g class=\"point\"><path d=\"M382,212V146.35H398V212Z\" style=\"vector-effect: none; opacity: 1; stroke-width: 0.5px; fill: rgb(102, 119, 97); fill-opacity: 1; stroke: rgb(229, 236, 246); stroke-opacity: 1;\"/></g><g class=\"point\"><path d=\"M402,212V172.77H418V212Z\" style=\"vector-effect: none; opacity: 1; stroke-width: 0.5px; fill: rgb(102, 119, 97); fill-opacity: 1; stroke: rgb(229, 236, 246); stroke-opacity: 1;\"/></g><g class=\"point\"><path d=\"M422,212V205.47H438V212Z\" style=\"vector-effect: none; opacity: 1; stroke-width: 0.5px; fill: rgb(102, 119, 97); fill-opacity: 1; stroke: rgb(229, 236, 246); stroke-opacity: 1;\"/></g><g class=\"point\"><path d=\"M442,212V155.55H458V212Z\" style=\"vector-effect: none; opacity: 1; stroke-width: 0.5px; fill: rgb(102, 119, 97); fill-opacity: 1; stroke: rgb(229, 236, 246); stroke-opacity: 1;\"/></g><g class=\"point\"><path d=\"M462,212V170.48H478V212Z\" style=\"vector-effect: none; opacity: 1; stroke-width: 0.5px; fill: rgb(102, 119, 97); fill-opacity: 1; stroke: rgb(229, 236, 246); stroke-opacity: 1;\"/></g><g class=\"point\"><path d=\"M482,212V119.49H498V212Z\" style=\"vector-effect: none; opacity: 1; stroke-width: 0.5px; fill: rgb(102, 119, 97); fill-opacity: 1; stroke: rgb(229, 236, 246); stroke-opacity: 1;\"/></g><g class=\"point\"><path d=\"M502,212V207.31H518V212Z\" style=\"vector-effect: none; opacity: 1; stroke-width: 0.5px; fill: rgb(102, 119, 97); fill-opacity: 1; stroke: rgb(229, 236, 246); stroke-opacity: 1;\"/></g><g class=\"point\"><path d=\"M522,212V210.31H538V212Z\" style=\"vector-effect: none; opacity: 1; stroke-width: 0.5px; fill: rgb(102, 119, 97); fill-opacity: 1; stroke: rgb(229, 236, 246); stroke-opacity: 1;\"/></g></g></g></g></g><g class=\"overplot\"/><path class=\"xlines-above crisp\" d=\"M0,0\" style=\"fill: none;\"/><path class=\"ylines-above crisp\" d=\"M0,0\" style=\"fill: none;\"/><g class=\"overlines-above\"/><g class=\"xaxislayer-above\"><g class=\"xtick\"><text text-anchor=\"start\" x=\"0\" y=\"285\" transform=\"translate(90,0) rotate(90,0,279)\" style=\"font-family: 'Open Sans', verdana, arial, sans-serif; font-size: 12px; fill: rgb(42, 63, 95); fill-opacity: 1; white-space: pre; opacity: 1;\">Alpenschneehuhn</text></g><g class=\"xtick\"><text text-anchor=\"start\" x=\"0\" y=\"285\" transform=\"translate(110,0) rotate(90,0,279)\" style=\"font-family: 'Open Sans', verdana, arial, sans-serif; font-size: 12px; fill: rgb(42, 63, 95); fill-opacity: 1; white-space: pre; opacity: 1;\">Auerhuhn</text></g><g class=\"xtick\"><text text-anchor=\"start\" x=\"0\" y=\"285\" transform=\"translate(130,0) rotate(90,0,279)\" style=\"font-family: 'Open Sans', verdana, arial, sans-serif; font-size: 12px; fill: rgb(42, 63, 95); fill-opacity: 1; white-space: pre; opacity: 1;\">Bergente</text></g><g class=\"xtick\"><text text-anchor=\"start\" x=\"0\" y=\"285\" transform=\"translate(150,0) rotate(90,0,279)\" style=\"font-family: 'Open Sans', verdana, arial, sans-serif; font-size: 12px; fill: rgb(42, 63, 95); fill-opacity: 1; white-space: pre; opacity: 1;\">Berghänfling</text></g><g class=\"xtick\"><text text-anchor=\"start\" x=\"0\" y=\"285\" transform=\"translate(170,0) rotate(90,0,279)\" style=\"font-family: 'Open Sans', verdana, arial, sans-serif; font-size: 12px; fill: rgb(42, 63, 95); fill-opacity: 1; white-space: pre; opacity: 1;\">Bergpieper</text></g><g class=\"xtick\"><text text-anchor=\"start\" x=\"0\" y=\"285\" transform=\"translate(190,0) rotate(90,0,279)\" style=\"font-family: 'Open Sans', verdana, arial, sans-serif; font-size: 12px; fill: rgb(42, 63, 95); fill-opacity: 1; white-space: pre; opacity: 1;\">Braunkehlchen</text></g><g class=\"xtick\"><text text-anchor=\"start\" x=\"0\" y=\"285\" transform=\"translate(210,0) rotate(90,0,279)\" style=\"font-family: 'Open Sans', verdana, arial, sans-serif; font-size: 12px; fill: rgb(42, 63, 95); fill-opacity: 1; white-space: pre; opacity: 1;\">Dreizehenspecht</text></g><g class=\"xtick\"><text text-anchor=\"start\" x=\"0\" y=\"285\" transform=\"translate(230,0) rotate(90,0,279)\" style=\"font-family: 'Open Sans', verdana, arial, sans-serif; font-size: 12px; fill: rgb(42, 63, 95); fill-opacity: 1; white-space: pre; opacity: 1;\">Flussuferläufer</text></g><g class=\"xtick\"><text text-anchor=\"start\" x=\"0\" y=\"285\" transform=\"translate(250,0) rotate(90,0,279)\" style=\"font-family: 'Open Sans', verdana, arial, sans-serif; font-size: 12px; fill: rgb(42, 63, 95); fill-opacity: 1; white-space: pre; opacity: 1;\">Gelbspötter</text></g><g class=\"xtick\"><text text-anchor=\"start\" x=\"0\" y=\"285\" transform=\"translate(270,0) rotate(90,0,279)\" style=\"font-family: 'Open Sans', verdana, arial, sans-serif; font-size: 12px; fill: rgb(42, 63, 95); fill-opacity: 1; white-space: pre; opacity: 1;\">Gänsegeier</text></g><g class=\"xtick\"><text text-anchor=\"start\" x=\"0\" y=\"285\" transform=\"translate(290,0) rotate(90,0,279)\" style=\"font-family: 'Open Sans', verdana, arial, sans-serif; font-size: 12px; fill: rgb(42, 63, 95); fill-opacity: 1; white-space: pre; opacity: 1;\">Haubentaucher</text></g><g class=\"xtick\"><text text-anchor=\"start\" x=\"0\" y=\"285\" transform=\"translate(310,0) rotate(90,0,279)\" style=\"font-family: 'Open Sans', verdana, arial, sans-serif; font-size: 12px; fill: rgb(42, 63, 95); fill-opacity: 1; white-space: pre; opacity: 1;\">Karmingimpel</text></g><g class=\"xtick\"><text text-anchor=\"start\" x=\"0\" y=\"285\" transform=\"translate(330,0) rotate(90,0,279)\" style=\"font-family: 'Open Sans', verdana, arial, sans-serif; font-size: 12px; fill: rgb(42, 63, 95); fill-opacity: 1; white-space: pre; opacity: 1;\">Knäkente</text></g><g class=\"xtick\"><text text-anchor=\"start\" x=\"0\" y=\"285\" transform=\"translate(350,0) rotate(90,0,279)\" style=\"font-family: 'Open Sans', verdana, arial, sans-serif; font-size: 12px; fill: rgb(42, 63, 95); fill-opacity: 1; white-space: pre; opacity: 1;\">Mittelspecht</text></g><g class=\"xtick\"><text text-anchor=\"start\" x=\"0\" y=\"285\" transform=\"translate(370,0) rotate(90,0,279)\" style=\"font-family: 'Open Sans', verdana, arial, sans-serif; font-size: 12px; fill: rgb(42, 63, 95); fill-opacity: 1; white-space: pre; opacity: 1;\">Orpheusspötter</text></g><g class=\"xtick\"><text text-anchor=\"start\" x=\"0\" y=\"285\" transform=\"translate(390,0) rotate(90,0,279)\" style=\"font-family: 'Open Sans', verdana, arial, sans-serif; font-size: 12px; fill: rgb(42, 63, 95); fill-opacity: 1; white-space: pre; opacity: 1;\">Rohrammer</text></g><g class=\"xtick\"><text text-anchor=\"start\" x=\"0\" y=\"285\" transform=\"translate(410,0) rotate(90,0,279)\" style=\"font-family: 'Open Sans', verdana, arial, sans-serif; font-size: 12px; fill: rgb(42, 63, 95); fill-opacity: 1; white-space: pre; opacity: 1;\">Rostgans</text></g><g class=\"xtick\"><text text-anchor=\"start\" x=\"0\" y=\"285\" transform=\"translate(430,0) rotate(90,0,279)\" style=\"font-family: 'Open Sans', verdana, arial, sans-serif; font-size: 12px; fill: rgb(42, 63, 95); fill-opacity: 1; white-space: pre; opacity: 1;\">Schwarzkehlchen</text></g><g class=\"xtick\"><text text-anchor=\"start\" x=\"0\" y=\"285\" transform=\"translate(450,0) rotate(90,0,279)\" style=\"font-family: 'Open Sans', verdana, arial, sans-serif; font-size: 12px; fill: rgb(42, 63, 95); fill-opacity: 1; white-space: pre; opacity: 1;\">Schwarzmilan</text></g><g class=\"xtick\"><text text-anchor=\"start\" x=\"0\" y=\"285\" transform=\"translate(470,0) rotate(90,0,279)\" style=\"font-family: 'Open Sans', verdana, arial, sans-serif; font-size: 12px; fill: rgb(42, 63, 95); fill-opacity: 1; white-space: pre; opacity: 1;\">Seeadler</text></g><g class=\"xtick\"><text text-anchor=\"start\" x=\"0\" y=\"285\" transform=\"translate(490,0) rotate(90,0,279)\" style=\"font-family: 'Open Sans', verdana, arial, sans-serif; font-size: 12px; fill: rgb(42, 63, 95); fill-opacity: 1; white-space: pre; opacity: 1;\">Singschwan</text></g><g class=\"xtick\"><text text-anchor=\"start\" x=\"0\" y=\"285\" transform=\"translate(510,0) rotate(90,0,279)\" style=\"font-family: 'Open Sans', verdana, arial, sans-serif; font-size: 12px; fill: rgb(42, 63, 95); fill-opacity: 1; white-space: pre; opacity: 1;\">Sperlingskauz</text></g><g class=\"xtick\"><text text-anchor=\"start\" x=\"0\" y=\"285\" transform=\"translate(530,0) rotate(90,0,279)\" style=\"font-family: 'Open Sans', verdana, arial, sans-serif; font-size: 12px; fill: rgb(42, 63, 95); fill-opacity: 1; white-space: pre; opacity: 1;\">Steinschmätzer</text></g><g class=\"xtick\"><text text-anchor=\"start\" x=\"0\" y=\"285\" transform=\"translate(550,0) rotate(90,0,279)\" style=\"font-family: 'Open Sans', verdana, arial, sans-serif; font-size: 12px; fill: rgb(42, 63, 95); fill-opacity: 1; white-space: pre; opacity: 1;\">Wasseramsel</text></g><g class=\"xtick\"><text text-anchor=\"start\" x=\"0\" y=\"285\" transform=\"translate(570,0) rotate(90,0,279)\" style=\"font-family: 'Open Sans', verdana, arial, sans-serif; font-size: 12px; fill: rgb(42, 63, 95); fill-opacity: 1; white-space: pre; opacity: 1;\">Wiesenpieper</text></g><g class=\"xtick\"><text text-anchor=\"start\" x=\"0\" y=\"285\" transform=\"translate(590,0) rotate(90,0,279)\" style=\"font-family: 'Open Sans', verdana, arial, sans-serif; font-size: 12px; fill: rgb(42, 63, 95); fill-opacity: 1; white-space: pre; opacity: 1;\">Zitronenzeisig (Zitronengirlitz)</text></g><g class=\"xtick\"><text text-anchor=\"start\" x=\"0\" y=\"285\" transform=\"translate(610,0) rotate(90,0,279)\" style=\"font-family: 'Open Sans', verdana, arial, sans-serif; font-size: 12px; fill: rgb(42, 63, 95); fill-opacity: 1; white-space: pre; opacity: 1;\">Zwergohreule</text></g></g><g class=\"yaxislayer-above\"><g class=\"ytick\"><text text-anchor=\"end\" x=\"79\" y=\"4.199999999999999\" transform=\"translate(0,272)\" style=\"font-family: 'Open Sans', verdana, arial, sans-serif; font-size: 12px; fill: rgb(42, 63, 95); fill-opacity: 1; white-space: pre; opacity: 1;\">0</text></g><g class=\"ytick\"><text text-anchor=\"end\" x=\"79\" y=\"4.199999999999999\" style=\"font-family: 'Open Sans', verdana, arial, sans-serif; font-size: 12px; fill: rgb(42, 63, 95); fill-opacity: 1; white-space: pre; opacity: 1;\" transform=\"translate(0,225.01)\">100k</text></g><g class=\"ytick\"><text text-anchor=\"end\" x=\"79\" y=\"4.199999999999999\" style=\"font-family: 'Open Sans', verdana, arial, sans-serif; font-size: 12px; fill: rgb(42, 63, 95); fill-opacity: 1; white-space: pre; opacity: 1;\" transform=\"translate(0,178.01999999999998)\">200k</text></g><g class=\"ytick\"><text text-anchor=\"end\" x=\"79\" y=\"4.199999999999999\" style=\"font-family: 'Open Sans', verdana, arial, sans-serif; font-size: 12px; fill: rgb(42, 63, 95); fill-opacity: 1; white-space: pre; opacity: 1;\" transform=\"translate(0,131.03)\">300k</text></g><g class=\"ytick\"><text text-anchor=\"end\" x=\"79\" y=\"4.199999999999999\" style=\"font-family: 'Open Sans', verdana, arial, sans-serif; font-size: 12px; fill: rgb(42, 63, 95); fill-opacity: 1; white-space: pre; opacity: 1;\" transform=\"translate(0,84.03)\">400k</text></g></g><g class=\"overaxes-above\"/></g></g><g class=\"polarlayer\"/><g class=\"smithlayer\"/><g class=\"ternarylayer\"/><g class=\"geolayer\"/><g class=\"funnelarealayer\"/><g class=\"pielayer\"/><g class=\"iciclelayer\"/><g class=\"treemaplayer\"/><g class=\"sunburstlayer\"/><g class=\"glimages\"/><defs id=\"topdefs-5bd9b2\"><g class=\"clips\"/></defs><g class=\"layer-above\"><g class=\"imagelayer\"/><g class=\"shapelayer\"/></g><g class=\"infolayer\"><g class=\"g-gtitle\"/><g class=\"g-xtitle\"><text class=\"xtitle\" x=\"350\" y=\"487.659375\" text-anchor=\"middle\" style=\"font-family: 'Open Sans', verdana, arial, sans-serif; font-size: 14px; fill: rgb(42, 63, 95); opacity: 1; font-weight: normal; white-space: pre;\">species</text></g><g class=\"g-ytitle\"><text class=\"ytitle\" transform=\"rotate(-90,24.700000000000003,166)\" x=\"24.700000000000003\" y=\"166\" text-anchor=\"middle\" style=\"font-family: 'Open Sans', verdana, arial, sans-serif; font-size: 14px; fill: rgb(42, 63, 95); opacity: 1; font-weight: normal; white-space: pre;\"># sightings</text></g></g></svg>"
      ]
     },
     "metadata": {},
     "output_type": "display_data"
    }
   ],
   "source": [
    "n_per_species = master_selected_species.groupby('name_species').size()\n",
    "fig = px.bar(n_per_species)\n",
    "fig.update_layout(showlegend=False, xaxis_title='species', yaxis_title='# sightings')\n",
    "fig.update_traces(marker=dict(color='#667761'))\n",
    "fig.show()"
   ]
  }
 ],
 "metadata": {
  "kernelspec": {
   "display_name": "bird",
   "language": "python",
   "name": "python3"
  },
  "language_info": {
   "codemirror_mode": {
    "name": "ipython",
    "version": 3
   },
   "file_extension": ".py",
   "mimetype": "text/x-python",
   "name": "python",
   "nbconvert_exporter": "python",
   "pygments_lexer": "ipython3",
   "version": "3.10.11"
  },
  "orig_nbformat": 4
 },
 "nbformat": 4,
 "nbformat_minor": 2
}
