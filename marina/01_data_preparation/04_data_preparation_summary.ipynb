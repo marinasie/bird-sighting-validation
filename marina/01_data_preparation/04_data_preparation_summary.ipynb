{
 "cells": [
  {
   "cell_type": "markdown",
   "metadata": {},
   "source": [
    "<img src=\"../../img/data_preparation_summary.png\" alt=\"Data preparation summary\" style=\"width: 100%; border-radius: 20px;\"/>\n",
    "\n",
    "## Objective\n",
    "To facilitate new users in preparing data for our modeling and to provide a concise overview of the entire preprocessing procedure conducted in *01_data_preparation*, this notebook aims to summarize all the steps from the following notebooks:\n",
    "- 01_Dataset_Merging.ipynb\n",
    "- 02_Dataset_Reduction_27_species.ipynb\n",
    "- 03_EEA_Grid_Assignment.ipynb \n",
    "\n",
    "The following steps are executed:\n",
    "- **Standardize raw data:** The raw data received from the ornithologists is transformed into a uniform schema for use in all our modeling notebooks. This involves standardizing column names, data types, date formats, precisions, as well as species IDs and names. These steps are further explained in the notebook *01_Dataset_Merging.ipynb*.\n",
    "- **Filter for selected 27 species:** The data is filtered for the 27 species of interest, as chosen by the ornithologists. The detailed procedure is described in the notebook *02_Dataset_Reduction_27_species.ipynb*.\n",
    "- **Assign to EEA grids:** Each bird sighting is assigned to an EEA grid. The detailed procedure is explained in the notebook *03_EEA_Grid_Assignment.ipynb*.\n",
    "\n",
    "All functions used in this notebook can be found in the *utils* directory under `data_preparation.py`."
   ]
  },
  {
   "cell_type": "code",
   "execution_count": 1,
   "metadata": {},
   "outputs": [
    {
     "data": {
      "text/html": [
       "<style>\n",
       "    body {\n",
       "        --vscode-font-family: \"Itim\"\n",
       "    }\n",
       "</style>\n"
      ],
      "text/plain": [
       "<IPython.core.display.HTML object>"
      ]
     },
     "metadata": {},
     "output_type": "display_data"
    }
   ],
   "source": [
    "%%HTML\n",
    "<style>\n",
    "    body {\n",
    "        --vscode-font-family: \"Itim\"\n",
    "    }\n",
    "</style>"
   ]
  },
  {
   "cell_type": "code",
   "execution_count": 2,
   "metadata": {},
   "outputs": [],
   "source": [
    "import sys\n",
    "sys.path.append('../')\n",
    "\n",
    "import pandas as pd\n",
    "from utils.data_preparation import *"
   ]
  },
  {
   "cell_type": "markdown",
   "metadata": {},
   "source": [
    "#\n",
    "<p style=\"background-color:#4A3228;color:white;font-size:240%;border-radius:10px 10px 10px 10px;\"> &nbsp; 0️⃣ Specify your paths </p>\n",
    "\n",
    "In order to run the notebook, the following datasets are required:\n",
    "- Swiss dataset: *[birds_ch_2018-2022.csv](https://drive.google.com/drive/folders/1eznk8GyIKt8fPJCb4TVqEIkrNcwonn9m)*\n",
    "- German dataset: *[birds_de_2018-2022.csv](https://drive.google.com/drive/folders/1eznk8GyIKt8fPJCb4TVqEIkrNcwonn9m)*\n",
    "- ID translator file that translates german species ID's into ornitho species ID's: *[translation_species_id_germany_vs_ornitho.csv](https://drive.google.com/drive/folders/1VN87gPc_XA212rpyaq2xpJcOSDu8hN5v)* <br>\n",
    "- Name translator file that translates swiss species names into ornitho species names: *[translation_species_names_de_vs_ch.csv](https://drive.google.com/drive/folders/1VN87gPc_XA212rpyaq2xpJcOSDu8hN5v)*\n",
    "- Table containing the species list that the ornithologists decided on: *[selected_species_of_interest.csv](https://drive.google.com/drive/folders/1SbXMiMweOrHgfGJZ0cOtPJzQo6bbvyJJ)*\n",
    "- Shapefile of 50x50km EEA grids of Europe: *[eea_50_km_ref-grid-europe/inspire_compatible_grid_50km.shp](https://drive.google.com/drive/folders/1atS5eomHYxX-q_5b8WGqFVDtqP3-d8qP)*\n",
    "\n",
    "If you wish to store the resulting dataset, please specify a target path where it should be stored."
   ]
  },
  {
   "cell_type": "code",
   "execution_count": 3,
   "metadata": {},
   "outputs": [],
   "source": [
    "data_path_ch = '../../../01_Data/datasets/birds_ch_2018-2022.csv'  # Provide data path of swiss dataset\n",
    "data_path_de =  '../../../01_Data/datasets/birds_de_2018-2022.csv'  # Provide data path of german dataset\n",
    "\n",
    "path_translator_ids = '../../../01_Data/translators/translation_species_id_de_vs_ornitho.csv'  # Provide path to translator file for species ids\n",
    "path_translator_names = '../../../01_Data/translators/translation_species_names_de_vs_ch.csv'  # Provide path to translator file for species names\n",
    "\n",
    "data_path_selected_species = '../../../01_Data/datasets/selected_species_of_interest.csv'  # Provide path to file with selected species of interest\n",
    "\n",
    "path_eea_grids = '../../../01_Data/shp_files/grids/eea_europe_grids_50km/inspire_compatible_grid_50km.shp'  # Provide path to EEA shp file\n",
    "\n",
    "target = '../../../01_Data/datasets/master_bird_data_quick.csv'  # Provide data path where merged dataset shall be saved"
   ]
  },
  {
   "cell_type": "markdown",
   "metadata": {},
   "source": [
    "#\n",
    "<p style=\"background-color:#4A3228;color:white;font-size:240%;border-radius:10px 10px 10px 10px;\"> &nbsp; 1️⃣ Step-by-step: What we do to get from raw data to dataset to train / predict on  </p>"
   ]
  },
  {
   "cell_type": "markdown",
   "metadata": {},
   "source": [
    "## 1. Standardize German dataset"
   ]
  },
  {
   "cell_type": "code",
   "execution_count": 4,
   "metadata": {},
   "outputs": [],
   "source": [
    "data_de = pd.read_csv(data_path_de, delimiter=get_delimiter(data_path_de), low_memory=False)\n",
    "\n",
    "data_de = standardize_data(data_de, \n",
    "                           path_translator_species_names=path_translator_names,\n",
    "                           adjust_ids=True,\n",
    "                           path_translator_species_ids=path_translator_ids,\n",
    "                           date_format='%d.%m.%Y')"
   ]
  },
  {
   "cell_type": "markdown",
   "metadata": {},
   "source": [
    "## 2. Standardize Swiss dataset"
   ]
  },
  {
   "cell_type": "code",
   "execution_count": 5,
   "metadata": {},
   "outputs": [],
   "source": [
    "data_ch = pd.read_csv(data_path_ch, delimiter=get_delimiter(data_path_ch), low_memory=False)\n",
    "\n",
    "data_ch = standardize_data(data_ch,\n",
    "                           path_translator_species_names=path_translator_names,\n",
    "                           adjust_ids=False,\n",
    "                           date_format='%Y-%m-%d')"
   ]
  },
  {
   "cell_type": "markdown",
   "metadata": {},
   "source": [
    "## 3. Merge datasets"
   ]
  },
  {
   "cell_type": "code",
   "execution_count": 6,
   "metadata": {},
   "outputs": [],
   "source": [
    "data_de['country'] = 'de'\n",
    "data_ch['country'] = 'ch'\n",
    "\n",
    "master_data = pd.concat([data_de, data_ch])"
   ]
  },
  {
   "cell_type": "markdown",
   "metadata": {},
   "source": [
    "## 4. Filter for selected 27 species"
   ]
  },
  {
   "cell_type": "code",
   "execution_count": 7,
   "metadata": {},
   "outputs": [],
   "source": [
    "species = pd.read_csv(data_path_selected_species, usecols = ['ornithoid','namedt', 'finale Auswahl'])\n",
    "selected_species = species[species['finale Auswahl']==1]\n",
    "master_selected_species = master_data[master_data.id_species.isin(selected_species.ornithoid)]"
   ]
  },
  {
   "cell_type": "markdown",
   "metadata": {},
   "source": [
    "## 5. Assign EEA grids"
   ]
  },
  {
   "cell_type": "code",
   "execution_count": 8,
   "metadata": {},
   "outputs": [],
   "source": [
    "master_selected_species = assign_eea_grids(master_selected_species, path_eea_grids)"
   ]
  },
  {
   "cell_type": "markdown",
   "metadata": {},
   "source": [
    "## 6. Store as csv"
   ]
  },
  {
   "cell_type": "code",
   "execution_count": 9,
   "metadata": {},
   "outputs": [],
   "source": [
    "master_selected_species.to_csv(target)"
   ]
  },
  {
   "cell_type": "markdown",
   "metadata": {},
   "source": [
    "## The final dataset structure:"
   ]
  },
  {
   "cell_type": "code",
   "execution_count": 10,
   "metadata": {},
   "outputs": [
    {
     "data": {
      "text/html": [
       "<div>\n",
       "<style scoped>\n",
       "    .dataframe tbody tr th:only-of-type {\n",
       "        vertical-align: middle;\n",
       "    }\n",
       "\n",
       "    .dataframe tbody tr th {\n",
       "        vertical-align: top;\n",
       "    }\n",
       "\n",
       "    .dataframe thead th {\n",
       "        text-align: right;\n",
       "    }\n",
       "</style>\n",
       "<table border=\"1\" class=\"dataframe\">\n",
       "  <thead>\n",
       "    <tr style=\"text-align: right;\">\n",
       "      <th></th>\n",
       "      <th>id_sighting</th>\n",
       "      <th>id_species</th>\n",
       "      <th>name_species</th>\n",
       "      <th>date</th>\n",
       "      <th>timing</th>\n",
       "      <th>coord_lat</th>\n",
       "      <th>coord_lon</th>\n",
       "      <th>precision</th>\n",
       "      <th>altitude</th>\n",
       "      <th>total_count</th>\n",
       "      <th>atlas_code</th>\n",
       "      <th>id_observer</th>\n",
       "      <th>country</th>\n",
       "      <th>eea_grid_id</th>\n",
       "    </tr>\n",
       "  </thead>\n",
       "  <tbody>\n",
       "    <tr>\n",
       "      <th>14</th>\n",
       "      <td>29666972</td>\n",
       "      <td>8</td>\n",
       "      <td>Haubentaucher</td>\n",
       "      <td>2018-01-01</td>\n",
       "      <td>NaN</td>\n",
       "      <td>53.157760</td>\n",
       "      <td>8.676993</td>\n",
       "      <td>place</td>\n",
       "      <td>0</td>\n",
       "      <td>0</td>\n",
       "      <td>NaN</td>\n",
       "      <td>37718</td>\n",
       "      <td>de</td>\n",
       "      <td>50kmE4200N3300</td>\n",
       "    </tr>\n",
       "    <tr>\n",
       "      <th>17</th>\n",
       "      <td>29654244</td>\n",
       "      <td>397</td>\n",
       "      <td>Braunkehlchen</td>\n",
       "      <td>2018-01-01</td>\n",
       "      <td>NaN</td>\n",
       "      <td>53.127639</td>\n",
       "      <td>8.957263</td>\n",
       "      <td>square</td>\n",
       "      <td>0</td>\n",
       "      <td>2</td>\n",
       "      <td>NaN</td>\n",
       "      <td>37803</td>\n",
       "      <td>de</td>\n",
       "      <td>50kmE4250N3300</td>\n",
       "    </tr>\n",
       "    <tr>\n",
       "      <th>30</th>\n",
       "      <td>29654521</td>\n",
       "      <td>463</td>\n",
       "      <td>Wiesenpieper</td>\n",
       "      <td>2018-01-01</td>\n",
       "      <td>NaN</td>\n",
       "      <td>50.850941</td>\n",
       "      <td>12.146953</td>\n",
       "      <td>place</td>\n",
       "      <td>0</td>\n",
       "      <td>2</td>\n",
       "      <td>NaN</td>\n",
       "      <td>39627</td>\n",
       "      <td>de</td>\n",
       "      <td>50kmE4450N3050</td>\n",
       "    </tr>\n",
       "    <tr>\n",
       "      <th>49</th>\n",
       "      <td>29666414</td>\n",
       "      <td>8</td>\n",
       "      <td>Haubentaucher</td>\n",
       "      <td>2018-01-01</td>\n",
       "      <td>NaN</td>\n",
       "      <td>51.076006</td>\n",
       "      <td>11.038316</td>\n",
       "      <td>place</td>\n",
       "      <td>0</td>\n",
       "      <td>8</td>\n",
       "      <td>NaN</td>\n",
       "      <td>38301</td>\n",
       "      <td>de</td>\n",
       "      <td>50kmE4350N3100</td>\n",
       "    </tr>\n",
       "    <tr>\n",
       "      <th>77</th>\n",
       "      <td>29656211</td>\n",
       "      <td>8</td>\n",
       "      <td>Haubentaucher</td>\n",
       "      <td>2018-01-01</td>\n",
       "      <td>NaN</td>\n",
       "      <td>51.389380</td>\n",
       "      <td>7.067282</td>\n",
       "      <td>place</td>\n",
       "      <td>0</td>\n",
       "      <td>10</td>\n",
       "      <td>NaN</td>\n",
       "      <td>108167</td>\n",
       "      <td>de</td>\n",
       "      <td>50kmE4100N3100</td>\n",
       "    </tr>\n",
       "  </tbody>\n",
       "</table>\n",
       "</div>"
      ],
      "text/plain": [
       "    id_sighting  id_species   name_species        date timing  coord_lat   \n",
       "14     29666972           8  Haubentaucher  2018-01-01    NaN  53.157760  \\\n",
       "17     29654244         397  Braunkehlchen  2018-01-01    NaN  53.127639   \n",
       "30     29654521         463   Wiesenpieper  2018-01-01    NaN  50.850941   \n",
       "49     29666414           8  Haubentaucher  2018-01-01    NaN  51.076006   \n",
       "77     29656211           8  Haubentaucher  2018-01-01    NaN  51.389380   \n",
       "\n",
       "    coord_lon precision  altitude  total_count atlas_code  id_observer   \n",
       "14   8.676993     place         0            0        NaN        37718  \\\n",
       "17   8.957263    square         0            2        NaN        37803   \n",
       "30  12.146953     place         0            2        NaN        39627   \n",
       "49  11.038316     place         0            8        NaN        38301   \n",
       "77   7.067282     place         0           10        NaN       108167   \n",
       "\n",
       "   country     eea_grid_id  \n",
       "14      de  50kmE4200N3300  \n",
       "17      de  50kmE4250N3300  \n",
       "30      de  50kmE4450N3050  \n",
       "49      de  50kmE4350N3100  \n",
       "77      de  50kmE4100N3100  "
      ]
     },
     "execution_count": 10,
     "metadata": {},
     "output_type": "execute_result"
    }
   ],
   "source": [
    "master_selected_species.head()"
   ]
  }
 ],
 "metadata": {
  "kernelspec": {
   "display_name": "bird",
   "language": "python",
   "name": "python3"
  },
  "language_info": {
   "codemirror_mode": {
    "name": "ipython",
    "version": 3
   },
   "file_extension": ".py",
   "mimetype": "text/x-python",
   "name": "python",
   "nbconvert_exporter": "python",
   "pygments_lexer": "ipython3",
   "version": "3.10.11"
  },
  "orig_nbformat": 4
 },
 "nbformat": 4,
 "nbformat_minor": 2
}
