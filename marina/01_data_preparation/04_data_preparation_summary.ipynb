{
 "cells": [
  {
   "cell_type": "markdown",
   "metadata": {},
   "source": [
    "<img src=\"../../img/data_preparation_summary.png\" alt=\"Data preparation summary\" style=\"width: 100%; border-radius: 20px;\"/>\n",
    "\n",
    "## Objective\n",
    "To facilitate new users in preparing data for our modeling and to provide a concise overview of the entire preprocessing procedure conducted in *01_data_preparation*, this notebook aims to summarize all the steps from the following notebooks:\n",
    "- 01_Dataset_Merging.ipynb\n",
    "- 02_Dataset_Reduction_27_species.ipynb\n",
    "- 03_EEA_Grid_Assignment.ipynb \n",
    "\n",
    "The following steps are executed:\n",
    "- **Standardize raw data:** The raw data received from the ornithologists is transformed into a uniform schema for use in all our modeling notebooks. This involves standardizing column names, data types, date formats, precisions, as well as species IDs and names. These steps are further explained in the notebook *01_Dataset_Merging.ipynb*.\n",
    "- **Filter for selected 27 species:** The data is filtered for the 27 species of interest, as chosen by the ornithologists. The detailed procedure is described in the notebook *02_Dataset_Reduction_27_species.ipynb*.\n",
    "- **Assign to EEA grids:** Each bird sighting is assigned to an EEA grid. The detailed procedure is explained in the notebook *03_EEA_Grid_Assignment.ipynb*.\n",
    "\n",
    "All functions used in this notebook can be found in the *utils* directory under `data_preparation.py`."
   ]
  },
  {
   "cell_type": "code",
   "execution_count": 1,
   "metadata": {},
   "outputs": [
    {
     "data": {
      "text/html": [
       "<style>\n",
       "    body {\n",
       "        --vscode-font-family: \"Itim\"\n",
       "    }\n",
       "</style>\n"
      ],
      "text/plain": [
       "<IPython.core.display.HTML object>"
      ]
     },
     "metadata": {},
     "output_type": "display_data"
    }
   ],
   "source": [
    "%%HTML\n",
    "<style>\n",
    "    body {\n",
    "        --vscode-font-family: \"Itim\"\n",
    "    }\n",
    "</style>"
   ]
  },
  {
   "cell_type": "code",
   "execution_count": 2,
   "metadata": {},
   "outputs": [],
   "source": [
    "import sys\n",
    "sys.path.append('../')\n",
    "\n",
    "import pandas as pd\n",
    "from utils.data_preparation import *"
   ]
  },
  {
   "cell_type": "markdown",
   "metadata": {},
   "source": [
    "## 0️⃣ Specify your paths\n",
    "\n",
    "In order to run the notebook, the following datasets are required:\n",
    "- Swiss dataset: *[birds_ch_2018-2022.csv](https://drive.google.com/drive/folders/1eznk8GyIKt8fPJCb4TVqEIkrNcwonn9m)*\n",
    "- German dataset: *[birds_de_2018-2022.csv](https://drive.google.com/drive/folders/1eznk8GyIKt8fPJCb4TVqEIkrNcwonn9m)*\n",
    "- ID translator file that translates german species ID's into ornitho species ID's: *[translation_species_id_germany_vs_ornitho.csv](https://drive.google.com/drive/folders/1VN87gPc_XA212rpyaq2xpJcOSDu8hN5v)* <br>\n",
    "- Name translator file that translates swiss species names into ornitho species names: *[translation_species_names_de_vs_ch.csv](https://drive.google.com/drive/folders/1VN87gPc_XA212rpyaq2xpJcOSDu8hN5v)*\n",
    "- Table containing the species list that the ornithologists decided on: *[selected_species_of_interest.csv](https://drive.google.com/drive/folders/1SbXMiMweOrHgfGJZ0cOtPJzQo6bbvyJJ)*\n",
    "- Shapefile of 50x50km EEA grids of Europe: *[eea_50_km_ref-grid-europe/inspire_compatible_grid_50km.shp](https://drive.google.com/drive/folders/1atS5eomHYxX-q_5b8WGqFVDtqP3-d8qP)*\n",
    "\n",
    "If you wish to store the resulting dataset, please specify a target path where it should be stored."
   ]
  },
  {
   "cell_type": "code",
   "execution_count": 8,
   "metadata": {},
   "outputs": [],
   "source": [
    "data_path_ch = '../../../01_Data/datasets/birds_ch_2018-2022.csv'  # Provide data path of swiss dataset\n",
    "data_path_de =  '../../../01_Data/datasets/birds_de_2018-2022.csv'  # Provide data path of german dataset\n",
    "\n",
    "path_translator_ids = '../../../01_Data/translators/translation_species_id_de_vs_ornitho.csv'  # Provide path to translator file for species ids\n",
    "path_translator_names = '../../../01_Data/translators/translation_species_names_de_vs_ch.csv'  # Provide path to translator file for species names\n",
    "\n",
    "data_path_selected_species = '../../../01_Data/datasets/selected_species_of_interest.csv'  # Provide path to file with selected species of interest\n",
    "\n",
    "path_eea_grids = '../../../01_Data/shp_files/grids/eea_europe_grids_50km/inspire_compatible_grid_50km.shp'  # Provide path to EEA shp file\n",
    "\n",
    "target = '../../../01_Data/datasets/master_bird_data_quick.csv'  # Provide data path where merged dataset shall be saved"
   ]
  },
  {
   "cell_type": "markdown",
   "metadata": {},
   "source": [
    "## 1️⃣ Step-by-step: What we do to get from raw data to dataset to train / predict on "
   ]
  },
  {
   "cell_type": "markdown",
   "metadata": {},
   "source": [
    "#### 1. Standardize German dataset"
   ]
  },
  {
   "cell_type": "code",
   "execution_count": 4,
   "metadata": {},
   "outputs": [],
   "source": [
    "data_de = pd.read_csv(data_path_de, delimiter=get_delimiter(data_path_de), low_memory=False)\n",
    "\n",
    "data_de = standardize_data(data_de, \n",
    "                           path_translator_species_names=path_translator_names,\n",
    "                           adjust_ids=True,\n",
    "                           path_translator_species_ids=path_translator_ids,\n",
    "                           date_format='%d.%m.%Y')"
   ]
  },
  {
   "cell_type": "markdown",
   "metadata": {},
   "source": [
    "#### 2. Standardize Swiss dataset"
   ]
  },
  {
   "cell_type": "code",
   "execution_count": 9,
   "metadata": {},
   "outputs": [],
   "source": [
    "data_ch = pd.read_csv(data_path_ch, delimiter=get_delimiter(data_path_ch), low_memory=False)\n",
    "\n",
    "data_ch = standardize_data(data_ch,\n",
    "                           path_translator_species_names=path_translator_names,\n",
    "                           adjust_ids=False,\n",
    "                           date_format='%Y-%m-%d')"
   ]
  },
  {
   "cell_type": "markdown",
   "metadata": {},
   "source": [
    "#### 3. Merge datasets"
   ]
  },
  {
   "cell_type": "code",
   "execution_count": 10,
   "metadata": {},
   "outputs": [],
   "source": [
    "data_de['country'] = 'de'\n",
    "data_ch['country'] = 'ch'\n",
    "\n",
    "master_data = pd.concat([data_de, data_ch])"
   ]
  },
  {
   "cell_type": "markdown",
   "metadata": {},
   "source": [
    "#### 4. Filter for selected 27 species"
   ]
  },
  {
   "cell_type": "code",
   "execution_count": 11,
   "metadata": {},
   "outputs": [],
   "source": [
    "species = pd.read_csv(data_path_selected_species, usecols = ['ornithoid','namedt', 'finale Auswahl'])\n",
    "selected_species = species[species['finale Auswahl']==1]\n",
    "master_selected_species = master_data[master_data.id_species.isin(selected_species.ornithoid)]"
   ]
  },
  {
   "cell_type": "markdown",
   "metadata": {},
   "source": [
    "#### 5. Assign EEA grids"
   ]
  },
  {
   "cell_type": "code",
   "execution_count": 12,
   "metadata": {},
   "outputs": [],
   "source": [
    "master_selected_species = assign_eea_grids(master_selected_species, path_eea_grids)"
   ]
  },
  {
   "cell_type": "markdown",
   "metadata": {},
   "source": [
    "#### 6. Store as csv"
   ]
  },
  {
   "cell_type": "code",
   "execution_count": 13,
   "metadata": {},
   "outputs": [],
   "source": [
    "master_selected_species.to_csv(target)"
   ]
  },
  {
   "cell_type": "markdown",
   "metadata": {},
   "source": [
    "#### The final dataset structure:"
   ]
  },
  {
   "cell_type": "code",
   "execution_count": null,
   "metadata": {},
   "outputs": [],
   "source": [
    "master_selected_species.head()"
   ]
  }
 ],
 "metadata": {
  "kernelspec": {
   "display_name": "bird",
   "language": "python",
   "name": "python3"
  },
  "language_info": {
   "codemirror_mode": {
    "name": "ipython",
    "version": 3
   },
   "file_extension": ".py",
   "mimetype": "text/x-python",
   "name": "python",
   "nbconvert_exporter": "python",
   "pygments_lexer": "ipython3",
   "version": "3.10.11"
  },
  "orig_nbformat": 4
 },
 "nbformat": 4,
 "nbformat_minor": 2
}
