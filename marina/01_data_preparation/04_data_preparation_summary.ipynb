{
 "cells": [
  {
   "cell_type": "code",
   "execution_count": 1,
   "metadata": {},
   "outputs": [],
   "source": [
    "%reload_ext autoreload\n",
    "\n",
    "import sys\n",
    "sys.path.append('../')\n",
    "\n",
    "import pandas as pd\n",
    "\n",
    "from utils.data_preparation import *"
   ]
  },
  {
   "cell_type": "code",
   "execution_count": 2,
   "metadata": {},
   "outputs": [],
   "source": [
    "data_path_ch = '../../../01_Data/datasets/birds_ch_2018-2022.csv'  # Provide data path of swiss dataset\n",
    "data_path_de =  '../../../01_Data/datasets/birds_de_2018-2022.csv'  # Provide data path of german dataset\n",
    "target = '../../../01_Data/datasets/master_bird_data_quick.csv'  # Provide data path where merged dataset shall be saved\n",
    "\n",
    "path_translator_ids = '../../../01_Data/translators/translation_species_id_de_vs_ch.csv'\n",
    "path_translator_names = '../../../01_Data/translators/translation_species_names_de_vs_ch.csv'\n",
    "path_eea_grids = '../../../01_Data/eea_gridfiles/eea_europe_grids_50km/inspire_compatible_grid_50km.shp'"
   ]
  },
  {
   "cell_type": "markdown",
   "metadata": {},
   "source": [
    "# Standardize raw data"
   ]
  },
  {
   "cell_type": "code",
   "execution_count": 3,
   "metadata": {},
   "outputs": [],
   "source": [
    "data_de = pd.read_csv(data_path_de, delimiter=get_delimiter(data_path_de), low_memory=False)"
   ]
  },
  {
   "cell_type": "code",
   "execution_count": null,
   "metadata": {},
   "outputs": [],
   "source": [
    "data_de.drop(columns=['estimation_code'], inplace=True)\n",
    "data_de = standardize_column_names(data_de)\n",
    "data_de = standardize_dtypes(data_de)\n",
    "data_de = standardize_date_format(data_de, format='%d.%m.%Y')\n",
    "data_de = standardize_precisions(data_de)\n",
    "data_de = standardize_id_species(data_de, path_translator_ids)"
   ]
  },
  {
   "cell_type": "code",
   "execution_count": 11,
   "metadata": {},
   "outputs": [],
   "source": [
    "data_ch = pd.read_csv(data_path_ch, delimiter=get_delimiter(data_path_ch), low_memory=False)"
   ]
  },
  {
   "cell_type": "code",
   "execution_count": null,
   "metadata": {},
   "outputs": [],
   "source": [
    "data_ch = standardize_column_names(data_ch)\n",
    "data_ch = standardize_dtypes(data_ch)\n",
    "data_ch = standardize_precisions(data_ch)\n",
    "data_ch = standardize_name_species(data_ch, path_translator_names)"
   ]
  },
  {
   "cell_type": "code",
   "execution_count": 9,
   "metadata": {},
   "outputs": [],
   "source": [
    "data_de['country'] = 'de'\n",
    "data_ch['country'] = 'ch'"
   ]
  },
  {
   "cell_type": "code",
   "execution_count": 10,
   "metadata": {},
   "outputs": [],
   "source": [
    "master_data = pd.concat([data_de, data_ch])\n",
    "master_data.to_csv(target)"
   ]
  },
  {
   "cell_type": "markdown",
   "metadata": {},
   "source": [
    "# Filter for selected 27 species"
   ]
  },
  {
   "cell_type": "code",
   "execution_count": 13,
   "metadata": {},
   "outputs": [],
   "source": [
    "data_path_selected_species = '../../../01_Data/archive/selected_species_of_interest.csv'  # Provide data path of species to be selected\n",
    "species = pd.read_csv(data_path_selected_species, usecols = ['ornithoid','namedt', 'finale Auswahl'])\n",
    "selected_species = species[species['finale Auswahl']==1]\n",
    "master_selected_species = master_data[master_data.id_species.isin(selected_species.ornithoid)]"
   ]
  },
  {
   "cell_type": "markdown",
   "metadata": {},
   "source": [
    "# Assign EEA grids"
   ]
  },
  {
   "cell_type": "code",
   "execution_count": null,
   "metadata": {},
   "outputs": [],
   "source": [
    "master_selected_species = assign_eea_grids(master_selected_species, path_eea_grids)"
   ]
  },
  {
   "cell_type": "code",
   "execution_count": null,
   "metadata": {},
   "outputs": [],
   "source": [
    "master_selected_species.to_csv('../../../01_Data/datasets/bird_data_selected_species_with_50km_grids_quick.csv')"
   ]
  }
 ],
 "metadata": {
  "kernelspec": {
   "display_name": "bird",
   "language": "python",
   "name": "python3"
  },
  "language_info": {
   "codemirror_mode": {
    "name": "ipython",
    "version": 3
   },
   "file_extension": ".py",
   "mimetype": "text/x-python",
   "name": "python",
   "nbconvert_exporter": "python",
   "pygments_lexer": "ipython3",
   "version": "3.10.11"
  },
  "orig_nbformat": 4
 },
 "nbformat": 4,
 "nbformat_minor": 2
}
