{
 "cells": [
  {
   "cell_type": "markdown",
   "metadata": {},
   "source": [
    "# Validata preparation"
   ]
  },
  {
   "cell_type": "code",
   "execution_count": 4,
   "metadata": {},
   "outputs": [],
   "source": [
    "import pandas as pd\n",
    "import geopandas as gpd"
   ]
  },
  {
   "cell_type": "markdown",
   "metadata": {},
   "source": [
    "## Swiss data"
   ]
  },
  {
   "cell_type": "code",
   "execution_count": 2,
   "metadata": {},
   "outputs": [],
   "source": [
    "validata_path = '/Users/marinasiebold/Library/Mobile Documents/com~apple~CloudDocs/Studium/Bird_Research/01_Data/validata_ornitho.ch_2023.csv'\n",
    "master_path = '/Users/marinasiebold/Library/Mobile Documents/com~apple~CloudDocs/Studium/Bird_Research/01_Data/master_bird_data_selected_species.csv'\n",
    "eea_shapefile_path = '/Users/marinasiebold/Downloads/eea_v_3035_50_km_eea-ref-grid-europe_p_2018_v01_r00 2/inspire_compatible_grid_50km.shp'\n",
    "target_path = '/Users/marinasiebold/Library/Mobile Documents/com~apple~CloudDocs/Studium/Bird_Research/01_Data/validata_prepared.csv'"
   ]
  },
  {
   "cell_type": "code",
   "execution_count": 5,
   "metadata": {},
   "outputs": [],
   "source": [
    "ch_data = pd.read_csv(validata_path, delimiter=';')\n",
    "master_data = pd.read_csv(master_path, low_memory=False)"
   ]
  },
  {
   "cell_type": "code",
   "execution_count": 47,
   "metadata": {},
   "outputs": [],
   "source": [
    "# Align feature names\n",
    "ch_data.columns = ch_data.columns.str.lower()\n",
    "ch_data.rename({'atlas_code_ch': 'atlas_code'}, axis='columns', inplace=True)"
   ]
  },
  {
   "cell_type": "code",
   "execution_count": 48,
   "metadata": {},
   "outputs": [],
   "source": [
    "# Align dtypes\n",
    "ch_data.id_species = ch_data.id_species.astype('Int64')\n",
    "ch_data.total_count = ch_data.total_count.astype('Int64')\n",
    "ch_data.id_observer = ch_data.id_observer.astype('Int64')"
   ]
  },
  {
   "cell_type": "code",
   "execution_count": 49,
   "metadata": {},
   "outputs": [],
   "source": [
    "# Align date format\n",
    "def change_dateformat(date):\n",
    "    d_m_y = date.split('.')\n",
    "    y_m_d = '{}-{}-{}'.format(d_m_y[2], d_m_y[1], d_m_y[0])\n",
    "    return y_m_d\n",
    "\n",
    "ch_data.date = ch_data.date.apply(change_dateformat)"
   ]
  },
  {
   "cell_type": "code",
   "execution_count": 50,
   "metadata": {},
   "outputs": [],
   "source": [
    "# Align precisions\n",
    "precisions = {'Exakte Lokalisierung': 'precise', \n",
    "              'Kilometerquadrat': 'square', \n",
    "              'Ort': 'place'}\n",
    "ch_data.precision = ch_data.precision.map(precisions)"
   ]
  },
  {
   "cell_type": "code",
   "execution_count": 51,
   "metadata": {},
   "outputs": [],
   "source": [
    "# Align bird names\n",
    "species_map = dict(zip(master_data.id_species, master_data.name_species))\n",
    "ch_data.name_species = ch_data.id_species.map(species_map).fillna(ch_data.name_species)"
   ]
  },
  {
   "cell_type": "code",
   "execution_count": 52,
   "metadata": {},
   "outputs": [],
   "source": [
    "# Assign eea grids\n",
    "eea_grid = gpd.read_file(eea_shapefile_path)\n",
    "eea_grid = eea_grid.to_crs('EPSG:4326')\n",
    "\n",
    "germany_switzerland_bbox = eea_grid.cx[5.210942:15.669926, 45.614516:55.379499]\n",
    "eea_grid_filtered = eea_grid[eea_grid.intersects(germany_switzerland_bbox.unary_union)]\n",
    "eea_grid_filtered.reset_index(drop=True, inplace=True)\n",
    "\n",
    "geometry = gpd.points_from_xy(ch_data['coord_lon'], ch_data['coord_lat'])\n",
    "gdf = gpd.GeoDataFrame(ch_data, geometry=geometry, crs='EPSG:4326')\n",
    "\n",
    "ch_data = gpd.sjoin(gdf, eea_grid_filtered, how='left', predicate='within')\n",
    "ch_data.rename(columns={'cellcode': 'eea_grid_id'}, inplace=True)\n",
    "ch_data = ch_data.drop(columns=['index_right', 'geometry', 'noforigin', 'eoforigin', 'gid'])"
   ]
  },
  {
   "cell_type": "code",
   "execution_count": 56,
   "metadata": {},
   "outputs": [],
   "source": [
    "ch_data.to_csv(target_path)"
   ]
  },
  {
   "cell_type": "markdown",
   "metadata": {},
   "source": [
    "## German data"
   ]
  }
 ],
 "metadata": {
  "kernelspec": {
   "display_name": "bird",
   "language": "python",
   "name": "python3"
  },
  "language_info": {
   "codemirror_mode": {
    "name": "ipython",
    "version": 3
   },
   "file_extension": ".py",
   "mimetype": "text/x-python",
   "name": "python",
   "nbconvert_exporter": "python",
   "pygments_lexer": "ipython3",
   "version": "3.10.11"
  },
  "orig_nbformat": 4
 },
 "nbformat": 4,
 "nbformat_minor": 2
}
