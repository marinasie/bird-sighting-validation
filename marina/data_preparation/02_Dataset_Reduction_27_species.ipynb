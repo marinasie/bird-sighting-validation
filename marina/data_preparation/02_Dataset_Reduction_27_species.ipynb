{
 "cells": [
  {
   "cell_type": "markdown",
   "metadata": {},
   "source": [
    "# Dataset Reduction to 27 selected species\n",
    "To limit the amount of data for the outlier analysis, the number of bird species is initially limited to 27 species. The selection was made jointly by the ornithologists from Germany and Switzerland. They chose bird species from which they expect particularly interesting results.<br>\n",
    "In this notebook, we filter the selected species from the master dataset that contains all sightings from 2018-2022 of Germany and Switzerland (merged in 00_Dataset_Merging.ipynb) and save the resulting dataset in a new csv file.<br>\n",
    "The master dataset as well as the filtered master dataset is is downloadable on our Gdrive [here](https://drive.google.com/drive/folders/1HRut-trvpeH6Iqm7KN79vWGcBLjvCoBH)."
   ]
  },
  {
   "cell_type": "code",
   "execution_count": 1,
   "metadata": {},
   "outputs": [],
   "source": [
    "import pandas as pd"
   ]
  },
  {
   "cell_type": "code",
   "execution_count": 22,
   "metadata": {},
   "outputs": [],
   "source": [
    "data_path_master = '/Users/marinasiebold/Library/Mobile Documents/com~apple~CloudDocs/Studium/Bird_Research/01_Data/master_bird_data.csv'  # Provide data of master dataset\n",
    "data_path_selected_species = '/Users/marinasiebold/Library/Mobile Documents/com~apple~CloudDocs/Studium/Bird_Research/01_Data/selected_species_of_interest.csv'  # Provide data path of species to be selected\n",
    "data_path_target = '/Users/marinasiebold/Library/Mobile Documents/com~apple~CloudDocs/Studium/Bird_Research/01_Data/master_bird_data_selected_species.csv'  # Provide data path where reduced dataset shall be saved"
   ]
  },
  {
   "cell_type": "code",
   "execution_count": 4,
   "metadata": {},
   "outputs": [],
   "source": [
    "df = pd.read_csv(data_path_master, index_col=0, low_memory=False)\n",
    "species = pd.read_csv(data_path_selected_species, usecols = ['ornithoid','namedt', 'finale Auswahl'])"
   ]
  },
  {
   "cell_type": "code",
   "execution_count": 13,
   "metadata": {},
   "outputs": [],
   "source": [
    "selected_species = species[species['finale Auswahl']==1]\n",
    "selected_species"
   ]
  },
  {
   "cell_type": "code",
   "execution_count": 20,
   "metadata": {},
   "outputs": [],
   "source": [
    "master_selected_species = master_data[master_data.id_species.isin(selected_species.ornithoid)]\n",
    "master_selected_species.to_csv(data_path_target)"
   ]
  }
 ],
 "metadata": {
  "kernelspec": {
   "display_name": "bird",
   "language": "python",
   "name": "python3"
  },
  "language_info": {
   "codemirror_mode": {
    "name": "ipython",
    "version": 3
   },
   "file_extension": ".py",
   "mimetype": "text/x-python",
   "name": "python",
   "nbconvert_exporter": "python",
   "pygments_lexer": "ipython3",
   "version": "3.10.11"
  },
  "orig_nbformat": 4
 },
 "nbformat": 4,
 "nbformat_minor": 2
}
