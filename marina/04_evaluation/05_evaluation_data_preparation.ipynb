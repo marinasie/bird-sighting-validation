{
 "cells": [
  {
   "cell_type": "markdown",
   "metadata": {},
   "source": [
    "<img src=\"../../img/evaluation_data_preparation.png\" alt=\"Evaluation data preparation\" style=\"width: 100%; border-radius: 20px;\"/>"
   ]
  },
  {
   "cell_type": "code",
   "execution_count": 21,
   "metadata": {},
   "outputs": [
    {
     "data": {
      "text/html": [
       "<style>\n",
       "    body {\n",
       "        --vscode-font-family: \"Itim\"\n",
       "    }\n",
       "</style>\n"
      ],
      "text/plain": [
       "<IPython.core.display.HTML object>"
      ]
     },
     "metadata": {},
     "output_type": "display_data"
    }
   ],
   "source": [
    "%%HTML\n",
    "<style>\n",
    "    body {\n",
    "        --vscode-font-family: \"Itim\"\n",
    "    }\n",
    "</style>"
   ]
  },
  {
   "cell_type": "code",
   "execution_count": 22,
   "metadata": {},
   "outputs": [],
   "source": [
    "import sys\n",
    "sys.path.append('../')\n",
    "sys.path.append('../../')\n",
    "\n",
    "import pandas as pd\n",
    "\n",
    "from utils.data_preparation import *\n",
    "from simon.utils.feature_generation import *"
   ]
  },
  {
   "cell_type": "code",
   "execution_count": 23,
   "metadata": {},
   "outputs": [],
   "source": [
    "# Load and standardize validation data\n",
    "path_validata = '../../../01_Data/datasets/validata_ornitho_ch_2023.csv'\n",
    "date_format = '%d.%m.%Y'  # ch: '%d.%m.%Y'; de: %m/%d/%Y\n",
    "\n",
    "# Data we need for data preparation\n",
    "path_translator_names = '../../../01_Data/translators/translation_species_names_de_vs_ch.csv'\n",
    "path_eea_grids = '../../../01_Data/shp_files/grids/eea_europe_grids_50km/inspire_compatible_grid_50km.shp'\n",
    "\n",
    "# Load and standardize validation data\n",
    "validata = pd.read_csv(path_validata, delimiter=get_delimiter(path_validata), low_memory=False)\n",
    "validata = standardize_data(validata, \n",
    "                            date_format=date_format,\n",
    "                            path_translator_species_names=path_translator_names,\n",
    "                            eea_shapefile_path=path_eea_grids)\n",
    "validata.total_count = validata.total_count.astype(float)\n",
    "validata.altitude = validata.altitude.astype(float)\n",
    "\n",
    "# Add land use feature according to CORINE Land Cover\n",
    "validata = generate_land_use_clc(validata)\n",
    "validata.to_csv('validata_ch_with_luse.csv')"
   ]
  },
  {
   "cell_type": "code",
   "execution_count": 67,
   "metadata": {},
   "outputs": [],
   "source": [
    "# sort validata by id_validata\n",
    "validata = validata.sort_values(by=['id_validata']).reset_index(drop=True)"
   ]
  },
  {
   "cell_type": "code",
   "execution_count": 68,
   "metadata": {},
   "outputs": [],
   "source": [
    "# Load validata with ground truth\n",
    "path_validata_with_ground_truth = '../../../01_Data/datasets/evaluation_data_with_gt_ch.csv'\n",
    "validata_with_ground_truth = pd.read_csv(path_validata_with_ground_truth, delimiter=get_delimiter(path_validata_with_ground_truth), low_memory=False)\n",
    "\n",
    "validata_with_ground_truth.columns = validata_with_ground_truth.columns.str.lower()\n",
    "validata_with_ground_truth = validata_with_ground_truth.sort_values(by=['id_validata']).reset_index(drop=True)\n",
    "\n",
    "ground_truth_information = validata_with_ground_truth[['id_validata', 'date_original', 'coord_lat_original', 'coord_lon_original', 'altitude_original', 'change_type']]"
   ]
  },
  {
   "cell_type": "code",
   "execution_count": 69,
   "metadata": {},
   "outputs": [],
   "source": [
    "validata_merged = pd.merge(validata, ground_truth_information, on='id_validata', how='left')"
   ]
  },
  {
   "cell_type": "code",
   "execution_count": 80,
   "metadata": {},
   "outputs": [],
   "source": [
    "# standardized validata with ground truth and land cover\n",
    "validata_merged.to_csv('validata_ch_with_luse_and_gt.csv')"
   ]
  }
 ],
 "metadata": {
  "kernelspec": {
   "display_name": "bird",
   "language": "python",
   "name": "python3"
  },
  "language_info": {
   "codemirror_mode": {
    "name": "ipython",
    "version": 3
   },
   "file_extension": ".py",
   "mimetype": "text/x-python",
   "name": "python",
   "nbconvert_exporter": "python",
   "pygments_lexer": "ipython3",
   "version": "3.10.11"
  }
 },
 "nbformat": 4,
 "nbformat_minor": 2
}
