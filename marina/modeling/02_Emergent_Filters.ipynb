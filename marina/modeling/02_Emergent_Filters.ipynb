{
 "cells": [
  {
   "cell_type": "markdown",
   "metadata": {},
   "source": [
    "# Emergent Filters\n",
    "Our first approach to detecting unusual sightings is adapted directly from eBird. Part of their process is what they call Emergent Filters, which only factor in the location and date of the sighting. They describe them as follows:\n",
    "> [...] [An emergent filter] is a measure of how frequently a species is reported, which is calculated using the number of checklists that reported the species divided by the total number of checklists submitted for a specific region. The result is a measure of the “likelihood” of observing a specific bird species [...] at any spatial level and for any date. [...] We set the emergent data filters at 5% of total frequency as a threshold level to identify all outlier observations.\n",
    "In diesem Notebook möchten wir diese Idee prototypisch umsetzen und für die von ornitho.de und ornitho.ch ausgewählten 27 Spezien Emergent Filters berechnen."
   ]
  },
  {
   "cell_type": "code",
   "execution_count": 17,
   "metadata": {},
   "outputs": [],
   "source": [
    "import pandas as pd\n",
    "import plotly.express as px"
   ]
  },
  {
   "cell_type": "code",
   "execution_count": 18,
   "metadata": {},
   "outputs": [],
   "source": [
    "data = ''  # please provide path to selected_bird_species_with_grids_50km.csv"
   ]
  },
  {
   "cell_type": "code",
   "execution_count": 19,
   "metadata": {},
   "outputs": [
    {
     "data": {
      "text/html": [
       "<div>\n",
       "<style scoped>\n",
       "    .dataframe tbody tr th:only-of-type {\n",
       "        vertical-align: middle;\n",
       "    }\n",
       "\n",
       "    .dataframe tbody tr th {\n",
       "        vertical-align: top;\n",
       "    }\n",
       "\n",
       "    .dataframe thead th {\n",
       "        text-align: right;\n",
       "    }\n",
       "</style>\n",
       "<table border=\"1\" class=\"dataframe\">\n",
       "  <thead>\n",
       "    <tr style=\"text-align: right;\">\n",
       "      <th></th>\n",
       "      <th>id_sighting</th>\n",
       "      <th>id_species</th>\n",
       "      <th>name_species</th>\n",
       "      <th>date</th>\n",
       "      <th>timing</th>\n",
       "      <th>coord_lat</th>\n",
       "      <th>coord_lon</th>\n",
       "      <th>precision</th>\n",
       "      <th>altitude</th>\n",
       "      <th>total_count</th>\n",
       "      <th>atlas_code</th>\n",
       "      <th>id_observer</th>\n",
       "      <th>country</th>\n",
       "      <th>eea_grid_id</th>\n",
       "    </tr>\n",
       "  </thead>\n",
       "  <tbody>\n",
       "    <tr>\n",
       "      <th>0</th>\n",
       "      <td>29666972</td>\n",
       "      <td>8.0</td>\n",
       "      <td>Haubentaucher</td>\n",
       "      <td>2018-01-01</td>\n",
       "      <td>NaN</td>\n",
       "      <td>53.157760</td>\n",
       "      <td>8.676993</td>\n",
       "      <td>place</td>\n",
       "      <td>0</td>\n",
       "      <td>0.0</td>\n",
       "      <td>NaN</td>\n",
       "      <td>37718.0</td>\n",
       "      <td>de</td>\n",
       "      <td>50kmE4200N3300</td>\n",
       "    </tr>\n",
       "    <tr>\n",
       "      <th>1</th>\n",
       "      <td>29654244</td>\n",
       "      <td>397.0</td>\n",
       "      <td>Schwarzkehlchen</td>\n",
       "      <td>2018-01-01</td>\n",
       "      <td>NaN</td>\n",
       "      <td>53.127639</td>\n",
       "      <td>8.957263</td>\n",
       "      <td>square</td>\n",
       "      <td>0</td>\n",
       "      <td>2.0</td>\n",
       "      <td>NaN</td>\n",
       "      <td>37803.0</td>\n",
       "      <td>de</td>\n",
       "      <td>50kmE4250N3300</td>\n",
       "    </tr>\n",
       "    <tr>\n",
       "      <th>2</th>\n",
       "      <td>29654521</td>\n",
       "      <td>463.0</td>\n",
       "      <td>Wiesenpieper</td>\n",
       "      <td>2018-01-01</td>\n",
       "      <td>NaN</td>\n",
       "      <td>50.850941</td>\n",
       "      <td>12.146953</td>\n",
       "      <td>place</td>\n",
       "      <td>0</td>\n",
       "      <td>2.0</td>\n",
       "      <td>NaN</td>\n",
       "      <td>39627.0</td>\n",
       "      <td>de</td>\n",
       "      <td>50kmE4450N3050</td>\n",
       "    </tr>\n",
       "    <tr>\n",
       "      <th>3</th>\n",
       "      <td>29666414</td>\n",
       "      <td>8.0</td>\n",
       "      <td>Haubentaucher</td>\n",
       "      <td>2018-01-01</td>\n",
       "      <td>NaN</td>\n",
       "      <td>51.076006</td>\n",
       "      <td>11.038316</td>\n",
       "      <td>place</td>\n",
       "      <td>0</td>\n",
       "      <td>8.0</td>\n",
       "      <td>NaN</td>\n",
       "      <td>38301.0</td>\n",
       "      <td>de</td>\n",
       "      <td>50kmE4350N3100</td>\n",
       "    </tr>\n",
       "    <tr>\n",
       "      <th>4</th>\n",
       "      <td>29656211</td>\n",
       "      <td>8.0</td>\n",
       "      <td>Haubentaucher</td>\n",
       "      <td>2018-01-01</td>\n",
       "      <td>NaN</td>\n",
       "      <td>51.389380</td>\n",
       "      <td>7.067282</td>\n",
       "      <td>place</td>\n",
       "      <td>0</td>\n",
       "      <td>10.0</td>\n",
       "      <td>NaN</td>\n",
       "      <td>108167.0</td>\n",
       "      <td>de</td>\n",
       "      <td>50kmE4100N3100</td>\n",
       "    </tr>\n",
       "  </tbody>\n",
       "</table>\n",
       "</div>"
      ],
      "text/plain": [
       "   id_sighting  id_species     name_species        date timing  coord_lat   \n",
       "0     29666972         8.0    Haubentaucher  2018-01-01    NaN  53.157760  \\\n",
       "1     29654244       397.0  Schwarzkehlchen  2018-01-01    NaN  53.127639   \n",
       "2     29654521       463.0     Wiesenpieper  2018-01-01    NaN  50.850941   \n",
       "3     29666414         8.0    Haubentaucher  2018-01-01    NaN  51.076006   \n",
       "4     29656211         8.0    Haubentaucher  2018-01-01    NaN  51.389380   \n",
       "\n",
       "   coord_lon precision  altitude  total_count atlas_code  id_observer country   \n",
       "0   8.676993     place         0          0.0        NaN      37718.0      de  \\\n",
       "1   8.957263    square         0          2.0        NaN      37803.0      de   \n",
       "2  12.146953     place         0          2.0        NaN      39627.0      de   \n",
       "3  11.038316     place         0          8.0        NaN      38301.0      de   \n",
       "4   7.067282     place         0         10.0        NaN     108167.0      de   \n",
       "\n",
       "      eea_grid_id  \n",
       "0  50kmE4200N3300  \n",
       "1  50kmE4250N3300  \n",
       "2  50kmE4450N3050  \n",
       "3  50kmE4350N3100  \n",
       "4  50kmE4100N3100  "
      ]
     },
     "execution_count": 19,
     "metadata": {},
     "output_type": "execute_result"
    }
   ],
   "source": [
    "df = pd.read_csv(data, index_col=0, low_memory=False).reset_index(drop=True)\n",
    "df.head()"
   ]
  },
  {
   "cell_type": "markdown",
   "metadata": {},
   "source": [
    "## Creating Emergent Filters\n",
    "Using historical data, the filters calculate the relative proportions of bird sightings for each species in the past year. From this, they derive the probability of a bird sighting for each species, grid, and date in the following year. This process results in probability curves throughout the year for sighting a particular bird species within a specific grid.\n",
    "\n",
    "In this notebook, we compute the emergent filters for the year 2023 for the 27 species of interest. This computation is based on the data from the year 2022. To achieve this, we narrow down the available data to sightings in the year 2022. Similar to the approach used in eBird, each sighting is assigned a 'day of year' value, ranging from 1 to 365 [1]."
   ]
  },
  {
   "cell_type": "code",
   "execution_count": 20,
   "metadata": {},
   "outputs": [],
   "source": [
    "bird_sightings = df[df.date.str.contains('2022')].copy()\n",
    "bird_sightings['day_of_year'] = pd.to_datetime(bird_sightings.date).dt.dayofyear\n",
    "bird_sightings.drop(columns=['id_sighting', 'id_species', 'timing', 'date', 'coord_lat', 'coord_lon', 'precision', 'altitude', 'total_count', 'atlas_code', 'id_observer', 'country'], inplace=True)"
   ]
  },
  {
   "cell_type": "code",
   "execution_count": 21,
   "metadata": {},
   "outputs": [
    {
     "data": {
      "text/html": [
       "<div>\n",
       "<style scoped>\n",
       "    .dataframe tbody tr th:only-of-type {\n",
       "        vertical-align: middle;\n",
       "    }\n",
       "\n",
       "    .dataframe tbody tr th {\n",
       "        vertical-align: top;\n",
       "    }\n",
       "\n",
       "    .dataframe thead th {\n",
       "        text-align: right;\n",
       "    }\n",
       "</style>\n",
       "<table border=\"1\" class=\"dataframe\">\n",
       "  <thead>\n",
       "    <tr style=\"text-align: right;\">\n",
       "      <th></th>\n",
       "      <th>name_species</th>\n",
       "      <th>eea_grid_id</th>\n",
       "      <th>day_of_year</th>\n",
       "    </tr>\n",
       "  </thead>\n",
       "  <tbody>\n",
       "    <tr>\n",
       "      <th>3760</th>\n",
       "      <td>Rohrammer</td>\n",
       "      <td>50kmE4150N2750</td>\n",
       "      <td>1</td>\n",
       "    </tr>\n",
       "    <tr>\n",
       "      <th>3761</th>\n",
       "      <td>Bergpieper</td>\n",
       "      <td>50kmE4050N3100</td>\n",
       "      <td>1</td>\n",
       "    </tr>\n",
       "    <tr>\n",
       "      <th>3762</th>\n",
       "      <td>Wiesenpieper</td>\n",
       "      <td>50kmE4050N3050</td>\n",
       "      <td>1</td>\n",
       "    </tr>\n",
       "    <tr>\n",
       "      <th>3763</th>\n",
       "      <td>Wiesenpieper</td>\n",
       "      <td>50kmE4150N2800</td>\n",
       "      <td>1</td>\n",
       "    </tr>\n",
       "    <tr>\n",
       "      <th>3764</th>\n",
       "      <td>Haubentaucher</td>\n",
       "      <td>50kmE4100N3000</td>\n",
       "      <td>1</td>\n",
       "    </tr>\n",
       "    <tr>\n",
       "      <th>...</th>\n",
       "      <td>...</td>\n",
       "      <td>...</td>\n",
       "      <td>...</td>\n",
       "    </tr>\n",
       "    <tr>\n",
       "      <th>2660035</th>\n",
       "      <td>Steinschmätzer</td>\n",
       "      <td>50kmE4200N2600</td>\n",
       "      <td>213</td>\n",
       "    </tr>\n",
       "    <tr>\n",
       "      <th>2660036</th>\n",
       "      <td>Steinschmätzer</td>\n",
       "      <td>50kmE4200N2700</td>\n",
       "      <td>288</td>\n",
       "    </tr>\n",
       "    <tr>\n",
       "      <th>2660037</th>\n",
       "      <td>Schwarzkehlchen</td>\n",
       "      <td>50kmE4200N2700</td>\n",
       "      <td>288</td>\n",
       "    </tr>\n",
       "    <tr>\n",
       "      <th>2660038</th>\n",
       "      <td>Bergpieper</td>\n",
       "      <td>50kmE4200N2600</td>\n",
       "      <td>213</td>\n",
       "    </tr>\n",
       "    <tr>\n",
       "      <th>2660039</th>\n",
       "      <td>Mittelspecht</td>\n",
       "      <td>50kmE4100N2650</td>\n",
       "      <td>281</td>\n",
       "    </tr>\n",
       "  </tbody>\n",
       "</table>\n",
       "<p>579076 rows × 3 columns</p>\n",
       "</div>"
      ],
      "text/plain": [
       "            name_species     eea_grid_id  day_of_year\n",
       "3760           Rohrammer  50kmE4150N2750            1\n",
       "3761          Bergpieper  50kmE4050N3100            1\n",
       "3762        Wiesenpieper  50kmE4050N3050            1\n",
       "3763        Wiesenpieper  50kmE4150N2800            1\n",
       "3764       Haubentaucher  50kmE4100N3000            1\n",
       "...                  ...             ...          ...\n",
       "2660035   Steinschmätzer  50kmE4200N2600          213\n",
       "2660036   Steinschmätzer  50kmE4200N2700          288\n",
       "2660037  Schwarzkehlchen  50kmE4200N2700          288\n",
       "2660038       Bergpieper  50kmE4200N2600          213\n",
       "2660039     Mittelspecht  50kmE4100N2650          281\n",
       "\n",
       "[579076 rows x 3 columns]"
      ]
     },
     "execution_count": 21,
     "metadata": {},
     "output_type": "execute_result"
    }
   ],
   "source": [
    "bird_sightings"
   ]
  },
  {
   "cell_type": "markdown",
   "metadata": {},
   "source": [
    "Next, eBird computes a metric that reflects the frequency of species reporting. This metric is obtained by dividing the number of checklists reporting a specific species by the total number of checklists submitted for a particular region. The outcome provides an indication of the 'probability' of encountering a particular bird species within that specific region. Since each observation includes information about the bird's location and time of detection, it becomes feasible to calculate the occurrence frequencies of bird species at various spatial scales and for any given date [1].\n",
    "\n",
    "We implement this concept through a multi-step process.\n",
    "\n",
    "Initially, we generate a dataframe encompassing all potential combinations of bird species, grids, and dates. This step is aimed to calculate the likelihood of a sighting for all possible combinations."
   ]
  },
  {
   "cell_type": "code",
   "execution_count": 22,
   "metadata": {},
   "outputs": [
    {
     "data": {
      "text/html": [
       "<div>\n",
       "<style scoped>\n",
       "    .dataframe tbody tr th:only-of-type {\n",
       "        vertical-align: middle;\n",
       "    }\n",
       "\n",
       "    .dataframe tbody tr th {\n",
       "        vertical-align: top;\n",
       "    }\n",
       "\n",
       "    .dataframe thead th {\n",
       "        text-align: right;\n",
       "    }\n",
       "</style>\n",
       "<table border=\"1\" class=\"dataframe\">\n",
       "  <thead>\n",
       "    <tr style=\"text-align: right;\">\n",
       "      <th></th>\n",
       "      <th>name_species</th>\n",
       "      <th>eea_grid_id</th>\n",
       "      <th>day_of_year</th>\n",
       "    </tr>\n",
       "  </thead>\n",
       "  <tbody>\n",
       "    <tr>\n",
       "      <th>0</th>\n",
       "      <td>Rohrammer</td>\n",
       "      <td>50kmE4150N2750</td>\n",
       "      <td>1</td>\n",
       "    </tr>\n",
       "    <tr>\n",
       "      <th>1</th>\n",
       "      <td>Rohrammer</td>\n",
       "      <td>50kmE4150N2750</td>\n",
       "      <td>2</td>\n",
       "    </tr>\n",
       "    <tr>\n",
       "      <th>2</th>\n",
       "      <td>Rohrammer</td>\n",
       "      <td>50kmE4150N2750</td>\n",
       "      <td>3</td>\n",
       "    </tr>\n",
       "    <tr>\n",
       "      <th>3</th>\n",
       "      <td>Rohrammer</td>\n",
       "      <td>50kmE4150N2750</td>\n",
       "      <td>4</td>\n",
       "    </tr>\n",
       "    <tr>\n",
       "      <th>4</th>\n",
       "      <td>Rohrammer</td>\n",
       "      <td>50kmE4150N2750</td>\n",
       "      <td>5</td>\n",
       "    </tr>\n",
       "    <tr>\n",
       "      <th>...</th>\n",
       "      <td>...</td>\n",
       "      <td>...</td>\n",
       "      <td>...</td>\n",
       "    </tr>\n",
       "    <tr>\n",
       "      <th>2207515</th>\n",
       "      <td>Gänsegeier</td>\n",
       "      <td>50kmE4150N2500</td>\n",
       "      <td>361</td>\n",
       "    </tr>\n",
       "    <tr>\n",
       "      <th>2207516</th>\n",
       "      <td>Gänsegeier</td>\n",
       "      <td>50kmE4150N2500</td>\n",
       "      <td>362</td>\n",
       "    </tr>\n",
       "    <tr>\n",
       "      <th>2207517</th>\n",
       "      <td>Gänsegeier</td>\n",
       "      <td>50kmE4150N2500</td>\n",
       "      <td>363</td>\n",
       "    </tr>\n",
       "    <tr>\n",
       "      <th>2207518</th>\n",
       "      <td>Gänsegeier</td>\n",
       "      <td>50kmE4150N2500</td>\n",
       "      <td>364</td>\n",
       "    </tr>\n",
       "    <tr>\n",
       "      <th>2207519</th>\n",
       "      <td>Gänsegeier</td>\n",
       "      <td>50kmE4150N2500</td>\n",
       "      <td>365</td>\n",
       "    </tr>\n",
       "  </tbody>\n",
       "</table>\n",
       "<p>2207520 rows × 3 columns</p>\n",
       "</div>"
      ],
      "text/plain": [
       "        name_species     eea_grid_id  day_of_year\n",
       "0          Rohrammer  50kmE4150N2750            1\n",
       "1          Rohrammer  50kmE4150N2750            2\n",
       "2          Rohrammer  50kmE4150N2750            3\n",
       "3          Rohrammer  50kmE4150N2750            4\n",
       "4          Rohrammer  50kmE4150N2750            5\n",
       "...              ...             ...          ...\n",
       "2207515   Gänsegeier  50kmE4150N2500          361\n",
       "2207516   Gänsegeier  50kmE4150N2500          362\n",
       "2207517   Gänsegeier  50kmE4150N2500          363\n",
       "2207518   Gänsegeier  50kmE4150N2500          364\n",
       "2207519   Gänsegeier  50kmE4150N2500          365\n",
       "\n",
       "[2207520 rows x 3 columns]"
      ]
     },
     "execution_count": 22,
     "metadata": {},
     "output_type": "execute_result"
    }
   ],
   "source": [
    "# fill df so that we have all possible day/grid combinations\n",
    "\n",
    "grid_list = bird_sightings.eea_grid_id.unique()\n",
    "day_list = range(1, 366)\n",
    "species_list = bird_sightings.name_species.unique()\n",
    "all_combinations = pd.MultiIndex.from_product([species_list, grid_list, day_list], names=['name_species', 'eea_grid_id', 'day_of_year'])\n",
    "all_combinations = pd.DataFrame(index=all_combinations).reset_index()\n",
    "all_combinations"
   ]
  },
  {
   "cell_type": "markdown",
   "metadata": {},
   "source": [
    "Subsequently, for each combination, the total number of submitted sightings on that specific day and grid, as well as the count of the corresponding bird species, is determined:"
   ]
  },
  {
   "cell_type": "code",
   "execution_count": 23,
   "metadata": {},
   "outputs": [
    {
     "data": {
      "text/html": [
       "<div>\n",
       "<style scoped>\n",
       "    .dataframe tbody tr th:only-of-type {\n",
       "        vertical-align: middle;\n",
       "    }\n",
       "\n",
       "    .dataframe tbody tr th {\n",
       "        vertical-align: top;\n",
       "    }\n",
       "\n",
       "    .dataframe thead th {\n",
       "        text-align: right;\n",
       "    }\n",
       "</style>\n",
       "<table border=\"1\" class=\"dataframe\">\n",
       "  <thead>\n",
       "    <tr style=\"text-align: right;\">\n",
       "      <th></th>\n",
       "      <th>name_species</th>\n",
       "      <th>eea_grid_id</th>\n",
       "      <th>day_of_year</th>\n",
       "      <th>total_sightings</th>\n",
       "    </tr>\n",
       "  </thead>\n",
       "  <tbody>\n",
       "    <tr>\n",
       "      <th>0</th>\n",
       "      <td>Rohrammer</td>\n",
       "      <td>50kmE4150N2750</td>\n",
       "      <td>1</td>\n",
       "      <td>32</td>\n",
       "    </tr>\n",
       "    <tr>\n",
       "      <th>1</th>\n",
       "      <td>Rohrammer</td>\n",
       "      <td>50kmE4150N2750</td>\n",
       "      <td>2</td>\n",
       "      <td>14</td>\n",
       "    </tr>\n",
       "    <tr>\n",
       "      <th>2</th>\n",
       "      <td>Rohrammer</td>\n",
       "      <td>50kmE4150N2750</td>\n",
       "      <td>3</td>\n",
       "      <td>12</td>\n",
       "    </tr>\n",
       "    <tr>\n",
       "      <th>3</th>\n",
       "      <td>Rohrammer</td>\n",
       "      <td>50kmE4150N2750</td>\n",
       "      <td>4</td>\n",
       "      <td>1</td>\n",
       "    </tr>\n",
       "    <tr>\n",
       "      <th>4</th>\n",
       "      <td>Rohrammer</td>\n",
       "      <td>50kmE4150N2750</td>\n",
       "      <td>5</td>\n",
       "      <td>16</td>\n",
       "    </tr>\n",
       "    <tr>\n",
       "      <th>...</th>\n",
       "      <td>...</td>\n",
       "      <td>...</td>\n",
       "      <td>...</td>\n",
       "      <td>...</td>\n",
       "    </tr>\n",
       "    <tr>\n",
       "      <th>2207515</th>\n",
       "      <td>Gänsegeier</td>\n",
       "      <td>50kmE4150N2500</td>\n",
       "      <td>361</td>\n",
       "      <td>0</td>\n",
       "    </tr>\n",
       "    <tr>\n",
       "      <th>2207516</th>\n",
       "      <td>Gänsegeier</td>\n",
       "      <td>50kmE4150N2500</td>\n",
       "      <td>362</td>\n",
       "      <td>0</td>\n",
       "    </tr>\n",
       "    <tr>\n",
       "      <th>2207517</th>\n",
       "      <td>Gänsegeier</td>\n",
       "      <td>50kmE4150N2500</td>\n",
       "      <td>363</td>\n",
       "      <td>0</td>\n",
       "    </tr>\n",
       "    <tr>\n",
       "      <th>2207518</th>\n",
       "      <td>Gänsegeier</td>\n",
       "      <td>50kmE4150N2500</td>\n",
       "      <td>364</td>\n",
       "      <td>0</td>\n",
       "    </tr>\n",
       "    <tr>\n",
       "      <th>2207519</th>\n",
       "      <td>Gänsegeier</td>\n",
       "      <td>50kmE4150N2500</td>\n",
       "      <td>365</td>\n",
       "      <td>0</td>\n",
       "    </tr>\n",
       "  </tbody>\n",
       "</table>\n",
       "<p>2207520 rows × 4 columns</p>\n",
       "</div>"
      ],
      "text/plain": [
       "        name_species     eea_grid_id  day_of_year  total_sightings\n",
       "0          Rohrammer  50kmE4150N2750            1               32\n",
       "1          Rohrammer  50kmE4150N2750            2               14\n",
       "2          Rohrammer  50kmE4150N2750            3               12\n",
       "3          Rohrammer  50kmE4150N2750            4                1\n",
       "4          Rohrammer  50kmE4150N2750            5               16\n",
       "...              ...             ...          ...              ...\n",
       "2207515   Gänsegeier  50kmE4150N2500          361                0\n",
       "2207516   Gänsegeier  50kmE4150N2500          362                0\n",
       "2207517   Gänsegeier  50kmE4150N2500          363                0\n",
       "2207518   Gänsegeier  50kmE4150N2500          364                0\n",
       "2207519   Gänsegeier  50kmE4150N2500          365                0\n",
       "\n",
       "[2207520 rows x 4 columns]"
      ]
     },
     "execution_count": 23,
     "metadata": {},
     "output_type": "execute_result"
    }
   ],
   "source": [
    "# number of all sightings per grid per day\n",
    "by_days = bird_sightings.groupby(['day_of_year', 'eea_grid_id']).count().reset_index()\n",
    "by_days.rename(columns={'name_species':'total_sightings'}, inplace=True)\n",
    "by_days = all_combinations.merge(by_days, on=['eea_grid_id', 'day_of_year'], how='left')\n",
    "by_days['total_sightings'] = by_days['total_sightings'].fillna(0).astype(int)\n",
    "by_days"
   ]
  },
  {
   "cell_type": "code",
   "execution_count": 24,
   "metadata": {},
   "outputs": [
    {
     "data": {
      "text/html": [
       "<div>\n",
       "<style scoped>\n",
       "    .dataframe tbody tr th:only-of-type {\n",
       "        vertical-align: middle;\n",
       "    }\n",
       "\n",
       "    .dataframe tbody tr th {\n",
       "        vertical-align: top;\n",
       "    }\n",
       "\n",
       "    .dataframe thead th {\n",
       "        text-align: right;\n",
       "    }\n",
       "</style>\n",
       "<table border=\"1\" class=\"dataframe\">\n",
       "  <thead>\n",
       "    <tr style=\"text-align: right;\">\n",
       "      <th></th>\n",
       "      <th>name_species</th>\n",
       "      <th>eea_grid_id</th>\n",
       "      <th>day_of_year</th>\n",
       "      <th>total_sightings</th>\n",
       "      <th>n_sightings</th>\n",
       "    </tr>\n",
       "  </thead>\n",
       "  <tbody>\n",
       "    <tr>\n",
       "      <th>0</th>\n",
       "      <td>Rohrammer</td>\n",
       "      <td>50kmE4150N2750</td>\n",
       "      <td>1</td>\n",
       "      <td>32</td>\n",
       "      <td>7</td>\n",
       "    </tr>\n",
       "    <tr>\n",
       "      <th>1</th>\n",
       "      <td>Rohrammer</td>\n",
       "      <td>50kmE4150N2750</td>\n",
       "      <td>2</td>\n",
       "      <td>14</td>\n",
       "      <td>1</td>\n",
       "    </tr>\n",
       "    <tr>\n",
       "      <th>2</th>\n",
       "      <td>Rohrammer</td>\n",
       "      <td>50kmE4150N2750</td>\n",
       "      <td>3</td>\n",
       "      <td>12</td>\n",
       "      <td>3</td>\n",
       "    </tr>\n",
       "    <tr>\n",
       "      <th>3</th>\n",
       "      <td>Rohrammer</td>\n",
       "      <td>50kmE4150N2750</td>\n",
       "      <td>4</td>\n",
       "      <td>1</td>\n",
       "      <td>0</td>\n",
       "    </tr>\n",
       "    <tr>\n",
       "      <th>4</th>\n",
       "      <td>Rohrammer</td>\n",
       "      <td>50kmE4150N2750</td>\n",
       "      <td>5</td>\n",
       "      <td>16</td>\n",
       "      <td>2</td>\n",
       "    </tr>\n",
       "    <tr>\n",
       "      <th>...</th>\n",
       "      <td>...</td>\n",
       "      <td>...</td>\n",
       "      <td>...</td>\n",
       "      <td>...</td>\n",
       "      <td>...</td>\n",
       "    </tr>\n",
       "    <tr>\n",
       "      <th>2207515</th>\n",
       "      <td>Gänsegeier</td>\n",
       "      <td>50kmE4150N2500</td>\n",
       "      <td>361</td>\n",
       "      <td>0</td>\n",
       "      <td>0</td>\n",
       "    </tr>\n",
       "    <tr>\n",
       "      <th>2207516</th>\n",
       "      <td>Gänsegeier</td>\n",
       "      <td>50kmE4150N2500</td>\n",
       "      <td>362</td>\n",
       "      <td>0</td>\n",
       "      <td>0</td>\n",
       "    </tr>\n",
       "    <tr>\n",
       "      <th>2207517</th>\n",
       "      <td>Gänsegeier</td>\n",
       "      <td>50kmE4150N2500</td>\n",
       "      <td>363</td>\n",
       "      <td>0</td>\n",
       "      <td>0</td>\n",
       "    </tr>\n",
       "    <tr>\n",
       "      <th>2207518</th>\n",
       "      <td>Gänsegeier</td>\n",
       "      <td>50kmE4150N2500</td>\n",
       "      <td>364</td>\n",
       "      <td>0</td>\n",
       "      <td>0</td>\n",
       "    </tr>\n",
       "    <tr>\n",
       "      <th>2207519</th>\n",
       "      <td>Gänsegeier</td>\n",
       "      <td>50kmE4150N2500</td>\n",
       "      <td>365</td>\n",
       "      <td>0</td>\n",
       "      <td>0</td>\n",
       "    </tr>\n",
       "  </tbody>\n",
       "</table>\n",
       "<p>2207520 rows × 5 columns</p>\n",
       "</div>"
      ],
      "text/plain": [
       "        name_species     eea_grid_id  day_of_year  total_sightings   \n",
       "0          Rohrammer  50kmE4150N2750            1               32  \\\n",
       "1          Rohrammer  50kmE4150N2750            2               14   \n",
       "2          Rohrammer  50kmE4150N2750            3               12   \n",
       "3          Rohrammer  50kmE4150N2750            4                1   \n",
       "4          Rohrammer  50kmE4150N2750            5               16   \n",
       "...              ...             ...          ...              ...   \n",
       "2207515   Gänsegeier  50kmE4150N2500          361                0   \n",
       "2207516   Gänsegeier  50kmE4150N2500          362                0   \n",
       "2207517   Gänsegeier  50kmE4150N2500          363                0   \n",
       "2207518   Gänsegeier  50kmE4150N2500          364                0   \n",
       "2207519   Gänsegeier  50kmE4150N2500          365                0   \n",
       "\n",
       "         n_sightings  \n",
       "0                  7  \n",
       "1                  1  \n",
       "2                  3  \n",
       "3                  0  \n",
       "4                  2  \n",
       "...              ...  \n",
       "2207515            0  \n",
       "2207516            0  \n",
       "2207517            0  \n",
       "2207518            0  \n",
       "2207519            0  \n",
       "\n",
       "[2207520 rows x 5 columns]"
      ]
     },
     "execution_count": 24,
     "metadata": {},
     "output_type": "execute_result"
    }
   ],
   "source": [
    "# number of sightings for specific species per day per grid\n",
    "by_days_and_species = bird_sightings.groupby(['name_species', 'day_of_year', 'eea_grid_id']).size().reset_index()\n",
    "by_days_and_species.rename(columns={0:'n_sightings'}, inplace=True)\n",
    "by_days_and_species\n",
    "\n",
    "total_df = by_days.merge(by_days_and_species, on=['name_species', 'eea_grid_id', 'day_of_year'], how='left')\n",
    "total_df['n_sightings'] = total_df['n_sightings'].fillna(0).astype(int)\n",
    "total_df"
   ]
  },
  {
   "cell_type": "markdown",
   "metadata": {},
   "source": [
    "Finally, we calculate the likelihood or frequency of bird sightings, following the methodology employed by eBird. This is expressed as:\n",
    "$$frequency = \\frac{n\\_sightings}{total\\_sightings}$$"
   ]
  },
  {
   "cell_type": "code",
   "execution_count": 25,
   "metadata": {},
   "outputs": [
    {
     "data": {
      "text/html": [
       "<div>\n",
       "<style scoped>\n",
       "    .dataframe tbody tr th:only-of-type {\n",
       "        vertical-align: middle;\n",
       "    }\n",
       "\n",
       "    .dataframe tbody tr th {\n",
       "        vertical-align: top;\n",
       "    }\n",
       "\n",
       "    .dataframe thead th {\n",
       "        text-align: right;\n",
       "    }\n",
       "</style>\n",
       "<table border=\"1\" class=\"dataframe\">\n",
       "  <thead>\n",
       "    <tr style=\"text-align: right;\">\n",
       "      <th></th>\n",
       "      <th>name_species</th>\n",
       "      <th>eea_grid_id</th>\n",
       "      <th>day_of_year</th>\n",
       "      <th>total_sightings</th>\n",
       "      <th>n_sightings</th>\n",
       "      <th>frequency</th>\n",
       "    </tr>\n",
       "  </thead>\n",
       "  <tbody>\n",
       "    <tr>\n",
       "      <th>0</th>\n",
       "      <td>Rohrammer</td>\n",
       "      <td>50kmE4150N2750</td>\n",
       "      <td>1</td>\n",
       "      <td>32</td>\n",
       "      <td>7</td>\n",
       "      <td>0.218750</td>\n",
       "    </tr>\n",
       "    <tr>\n",
       "      <th>1</th>\n",
       "      <td>Rohrammer</td>\n",
       "      <td>50kmE4150N2750</td>\n",
       "      <td>2</td>\n",
       "      <td>14</td>\n",
       "      <td>1</td>\n",
       "      <td>0.071429</td>\n",
       "    </tr>\n",
       "    <tr>\n",
       "      <th>2</th>\n",
       "      <td>Rohrammer</td>\n",
       "      <td>50kmE4150N2750</td>\n",
       "      <td>3</td>\n",
       "      <td>12</td>\n",
       "      <td>3</td>\n",
       "      <td>0.250000</td>\n",
       "    </tr>\n",
       "    <tr>\n",
       "      <th>3</th>\n",
       "      <td>Rohrammer</td>\n",
       "      <td>50kmE4150N2750</td>\n",
       "      <td>4</td>\n",
       "      <td>1</td>\n",
       "      <td>0</td>\n",
       "      <td>0.000000</td>\n",
       "    </tr>\n",
       "    <tr>\n",
       "      <th>4</th>\n",
       "      <td>Rohrammer</td>\n",
       "      <td>50kmE4150N2750</td>\n",
       "      <td>5</td>\n",
       "      <td>16</td>\n",
       "      <td>2</td>\n",
       "      <td>0.125000</td>\n",
       "    </tr>\n",
       "    <tr>\n",
       "      <th>...</th>\n",
       "      <td>...</td>\n",
       "      <td>...</td>\n",
       "      <td>...</td>\n",
       "      <td>...</td>\n",
       "      <td>...</td>\n",
       "      <td>...</td>\n",
       "    </tr>\n",
       "    <tr>\n",
       "      <th>2207515</th>\n",
       "      <td>Gänsegeier</td>\n",
       "      <td>50kmE4150N2500</td>\n",
       "      <td>361</td>\n",
       "      <td>0</td>\n",
       "      <td>0</td>\n",
       "      <td>0.000000</td>\n",
       "    </tr>\n",
       "    <tr>\n",
       "      <th>2207516</th>\n",
       "      <td>Gänsegeier</td>\n",
       "      <td>50kmE4150N2500</td>\n",
       "      <td>362</td>\n",
       "      <td>0</td>\n",
       "      <td>0</td>\n",
       "      <td>0.000000</td>\n",
       "    </tr>\n",
       "    <tr>\n",
       "      <th>2207517</th>\n",
       "      <td>Gänsegeier</td>\n",
       "      <td>50kmE4150N2500</td>\n",
       "      <td>363</td>\n",
       "      <td>0</td>\n",
       "      <td>0</td>\n",
       "      <td>0.000000</td>\n",
       "    </tr>\n",
       "    <tr>\n",
       "      <th>2207518</th>\n",
       "      <td>Gänsegeier</td>\n",
       "      <td>50kmE4150N2500</td>\n",
       "      <td>364</td>\n",
       "      <td>0</td>\n",
       "      <td>0</td>\n",
       "      <td>0.000000</td>\n",
       "    </tr>\n",
       "    <tr>\n",
       "      <th>2207519</th>\n",
       "      <td>Gänsegeier</td>\n",
       "      <td>50kmE4150N2500</td>\n",
       "      <td>365</td>\n",
       "      <td>0</td>\n",
       "      <td>0</td>\n",
       "      <td>0.000000</td>\n",
       "    </tr>\n",
       "  </tbody>\n",
       "</table>\n",
       "<p>2207520 rows × 6 columns</p>\n",
       "</div>"
      ],
      "text/plain": [
       "        name_species     eea_grid_id  day_of_year  total_sightings   \n",
       "0          Rohrammer  50kmE4150N2750            1               32  \\\n",
       "1          Rohrammer  50kmE4150N2750            2               14   \n",
       "2          Rohrammer  50kmE4150N2750            3               12   \n",
       "3          Rohrammer  50kmE4150N2750            4                1   \n",
       "4          Rohrammer  50kmE4150N2750            5               16   \n",
       "...              ...             ...          ...              ...   \n",
       "2207515   Gänsegeier  50kmE4150N2500          361                0   \n",
       "2207516   Gänsegeier  50kmE4150N2500          362                0   \n",
       "2207517   Gänsegeier  50kmE4150N2500          363                0   \n",
       "2207518   Gänsegeier  50kmE4150N2500          364                0   \n",
       "2207519   Gänsegeier  50kmE4150N2500          365                0   \n",
       "\n",
       "         n_sightings  frequency  \n",
       "0                  7   0.218750  \n",
       "1                  1   0.071429  \n",
       "2                  3   0.250000  \n",
       "3                  0   0.000000  \n",
       "4                  2   0.125000  \n",
       "...              ...        ...  \n",
       "2207515            0   0.000000  \n",
       "2207516            0   0.000000  \n",
       "2207517            0   0.000000  \n",
       "2207518            0   0.000000  \n",
       "2207519            0   0.000000  \n",
       "\n",
       "[2207520 rows x 6 columns]"
      ]
     },
     "execution_count": 25,
     "metadata": {},
     "output_type": "execute_result"
    }
   ],
   "source": [
    "total_df['frequency'] = total_df.n_sightings / total_df.total_sightings\n",
    "total_df['frequency'] = total_df['frequency'].fillna(0)\n",
    "total_df"
   ]
  },
  {
   "cell_type": "markdown",
   "metadata": {},
   "source": [
    "Additionally, eBird introduces one more step:\n",
    ">\"To account for this variation in the number of checklists per day the frequencies were calculated based on a sliding 7-day window. The frequency for day X was calculated using a total number of checklists from 3 days prior through 3 days after day X. We then assigned the highest initial frequency within that same sliding 7- day window to day X. The resulting frequency is an estimate of the likelihood of observing a species on each of the 365 days of the year.\" [1]\n",
    "\n",
    "Thus, we determine the rolling frequency using a centered sliding 7-day window based on the prior calculated frequency. \n",
    "\n",
    "As the only modification to the eBird methodology, we subsequently introduce an additional centered rolling window that averages the values over 30 days, aimed at smoothing out the values. Due to the relatively smaller dataset available from ornitho.de and ornitho.ch compared to eBird, the plausibility values can exhibit considerable fluctuations even with the 7-day window due to the limited number of sightings. The averaging effect of the rolling window aims to mitigate this impact and compensate for the reduced data volume.\n",
    "\n",
    "By utilizing the calculated plausibility values, the sightings can now be assigned a plausibility rating ranging from 0 to 100%."
   ]
  },
  {
   "cell_type": "code",
   "execution_count": 26,
   "metadata": {},
   "outputs": [
    {
     "data": {
      "text/html": [
       "<div>\n",
       "<style scoped>\n",
       "    .dataframe tbody tr th:only-of-type {\n",
       "        vertical-align: middle;\n",
       "    }\n",
       "\n",
       "    .dataframe tbody tr th {\n",
       "        vertical-align: top;\n",
       "    }\n",
       "\n",
       "    .dataframe thead th {\n",
       "        text-align: right;\n",
       "    }\n",
       "</style>\n",
       "<table border=\"1\" class=\"dataframe\">\n",
       "  <thead>\n",
       "    <tr style=\"text-align: right;\">\n",
       "      <th></th>\n",
       "      <th>name_species</th>\n",
       "      <th>eea_grid_id</th>\n",
       "      <th>day_of_year</th>\n",
       "      <th>total_sightings</th>\n",
       "      <th>n_sightings</th>\n",
       "      <th>frequency</th>\n",
       "      <th>frequency_rolling</th>\n",
       "      <th>plausibility</th>\n",
       "    </tr>\n",
       "  </thead>\n",
       "  <tbody>\n",
       "    <tr>\n",
       "      <th>0</th>\n",
       "      <td>Alpenschneehuhn</td>\n",
       "      <td>50kmE4000N2500</td>\n",
       "      <td>1</td>\n",
       "      <td>0</td>\n",
       "      <td>0</td>\n",
       "      <td>0.0</td>\n",
       "      <td>0.0</td>\n",
       "      <td>0.0</td>\n",
       "    </tr>\n",
       "    <tr>\n",
       "      <th>1</th>\n",
       "      <td>Alpenschneehuhn</td>\n",
       "      <td>50kmE4000N2500</td>\n",
       "      <td>2</td>\n",
       "      <td>0</td>\n",
       "      <td>0</td>\n",
       "      <td>0.0</td>\n",
       "      <td>0.0</td>\n",
       "      <td>0.0</td>\n",
       "    </tr>\n",
       "    <tr>\n",
       "      <th>2</th>\n",
       "      <td>Alpenschneehuhn</td>\n",
       "      <td>50kmE4000N2500</td>\n",
       "      <td>3</td>\n",
       "      <td>0</td>\n",
       "      <td>0</td>\n",
       "      <td>0.0</td>\n",
       "      <td>0.0</td>\n",
       "      <td>0.0</td>\n",
       "    </tr>\n",
       "    <tr>\n",
       "      <th>3</th>\n",
       "      <td>Alpenschneehuhn</td>\n",
       "      <td>50kmE4000N2500</td>\n",
       "      <td>4</td>\n",
       "      <td>0</td>\n",
       "      <td>0</td>\n",
       "      <td>0.0</td>\n",
       "      <td>0.0</td>\n",
       "      <td>0.0</td>\n",
       "    </tr>\n",
       "    <tr>\n",
       "      <th>4</th>\n",
       "      <td>Alpenschneehuhn</td>\n",
       "      <td>50kmE4000N2500</td>\n",
       "      <td>5</td>\n",
       "      <td>0</td>\n",
       "      <td>0</td>\n",
       "      <td>0.0</td>\n",
       "      <td>0.0</td>\n",
       "      <td>0.0</td>\n",
       "    </tr>\n",
       "    <tr>\n",
       "      <th>...</th>\n",
       "      <td>...</td>\n",
       "      <td>...</td>\n",
       "      <td>...</td>\n",
       "      <td>...</td>\n",
       "      <td>...</td>\n",
       "      <td>...</td>\n",
       "      <td>...</td>\n",
       "      <td>...</td>\n",
       "    </tr>\n",
       "    <tr>\n",
       "      <th>2207515</th>\n",
       "      <td>Zwergohreule</td>\n",
       "      <td>50kmE4650N3150</td>\n",
       "      <td>361</td>\n",
       "      <td>2</td>\n",
       "      <td>0</td>\n",
       "      <td>0.0</td>\n",
       "      <td>0.0</td>\n",
       "      <td>0.0</td>\n",
       "    </tr>\n",
       "    <tr>\n",
       "      <th>2207516</th>\n",
       "      <td>Zwergohreule</td>\n",
       "      <td>50kmE4650N3150</td>\n",
       "      <td>362</td>\n",
       "      <td>0</td>\n",
       "      <td>0</td>\n",
       "      <td>0.0</td>\n",
       "      <td>0.0</td>\n",
       "      <td>0.0</td>\n",
       "    </tr>\n",
       "    <tr>\n",
       "      <th>2207517</th>\n",
       "      <td>Zwergohreule</td>\n",
       "      <td>50kmE4650N3150</td>\n",
       "      <td>363</td>\n",
       "      <td>0</td>\n",
       "      <td>0</td>\n",
       "      <td>0.0</td>\n",
       "      <td>0.0</td>\n",
       "      <td>0.0</td>\n",
       "    </tr>\n",
       "    <tr>\n",
       "      <th>2207518</th>\n",
       "      <td>Zwergohreule</td>\n",
       "      <td>50kmE4650N3150</td>\n",
       "      <td>364</td>\n",
       "      <td>0</td>\n",
       "      <td>0</td>\n",
       "      <td>0.0</td>\n",
       "      <td>0.0</td>\n",
       "      <td>0.0</td>\n",
       "    </tr>\n",
       "    <tr>\n",
       "      <th>2207519</th>\n",
       "      <td>Zwergohreule</td>\n",
       "      <td>50kmE4650N3150</td>\n",
       "      <td>365</td>\n",
       "      <td>0</td>\n",
       "      <td>0</td>\n",
       "      <td>0.0</td>\n",
       "      <td>0.0</td>\n",
       "      <td>0.0</td>\n",
       "    </tr>\n",
       "  </tbody>\n",
       "</table>\n",
       "<p>2207520 rows × 8 columns</p>\n",
       "</div>"
      ],
      "text/plain": [
       "            name_species     eea_grid_id  day_of_year  total_sightings   \n",
       "0        Alpenschneehuhn  50kmE4000N2500            1                0  \\\n",
       "1        Alpenschneehuhn  50kmE4000N2500            2                0   \n",
       "2        Alpenschneehuhn  50kmE4000N2500            3                0   \n",
       "3        Alpenschneehuhn  50kmE4000N2500            4                0   \n",
       "4        Alpenschneehuhn  50kmE4000N2500            5                0   \n",
       "...                  ...             ...          ...              ...   \n",
       "2207515     Zwergohreule  50kmE4650N3150          361                2   \n",
       "2207516     Zwergohreule  50kmE4650N3150          362                0   \n",
       "2207517     Zwergohreule  50kmE4650N3150          363                0   \n",
       "2207518     Zwergohreule  50kmE4650N3150          364                0   \n",
       "2207519     Zwergohreule  50kmE4650N3150          365                0   \n",
       "\n",
       "         n_sightings  frequency  frequency_rolling  plausibility  \n",
       "0                  0        0.0                0.0           0.0  \n",
       "1                  0        0.0                0.0           0.0  \n",
       "2                  0        0.0                0.0           0.0  \n",
       "3                  0        0.0                0.0           0.0  \n",
       "4                  0        0.0                0.0           0.0  \n",
       "...              ...        ...                ...           ...  \n",
       "2207515            0        0.0                0.0           0.0  \n",
       "2207516            0        0.0                0.0           0.0  \n",
       "2207517            0        0.0                0.0           0.0  \n",
       "2207518            0        0.0                0.0           0.0  \n",
       "2207519            0        0.0                0.0           0.0  \n",
       "\n",
       "[2207520 rows x 8 columns]"
      ]
     },
     "execution_count": 26,
     "metadata": {},
     "output_type": "execute_result"
    }
   ],
   "source": [
    "groups = total_df.groupby(['name_species', 'eea_grid_id'])\n",
    "\n",
    "def circular_rolling(group):\n",
    "    df = group.copy()\n",
    "    df = pd.concat([df.iloc[-19:], df, df.iloc[:17]])\n",
    "    df['frequency_rolling'] = df.frequency.rolling(window=7, center=True).max()\n",
    "    df['plausibility'] = df.frequency_rolling.rolling(window=30, center=True).mean()\n",
    "    return df.iloc[19:].iloc[:-17]\n",
    "\n",
    "result_df = pd.concat([circular_rolling(group) for _, group in groups])\n",
    "result_df.reset_index(drop=True, inplace=True)\n",
    "result_df"
   ]
  },
  {
   "cell_type": "markdown",
   "metadata": {},
   "source": [
    "Lastly, we verify whether all plausibility values have been successfully computed, ensuring that no NaN values remain, which is the case:"
   ]
  },
  {
   "cell_type": "code",
   "execution_count": 27,
   "metadata": {},
   "outputs": [
    {
     "data": {
      "text/plain": [
       "False"
      ]
     },
     "execution_count": 27,
     "metadata": {},
     "output_type": "execute_result"
    }
   ],
   "source": [
    "result_df.plausibility.isna().any()"
   ]
  },
  {
   "cell_type": "markdown",
   "metadata": {},
   "source": [
    "## Visualization of Emergent Filters\n",
    "The calculated values now yield probability curves throughout the year for sighting a particular species within a specific grid.\n",
    "\n",
    "As an illustrative example in this notebook, we visualize the emergent filters for the 'Knäkente' and the 'Seeadler' in a grid near Hannover for the year 2023.\n",
    "\n",
    "If the probability of a sighting on a specific day falls below a certain threshold (for instance, 5%, as done at eBird), all sightings for that day are flagged. Examining the data for the Knäkente, it becomes apparent that migratory birds outside their stay in Germany would consistently be flagged. The graph also aligns well with the species' migration phenology. In the chosen grid and with a 5% threshold, 'Seeadler' would always pass through without being flagged."
   ]
  },
  {
   "cell_type": "code",
   "execution_count": 28,
   "metadata": {},
   "outputs": [],
   "source": [
    "def plot_plausibility_over_year(df, species, grid, sign='🦆', threshold=0.05):\n",
    "    data = df[(df.name_species == species) & (df.eea_grid_id == grid)]\n",
    "    fig = px.line(data, x='day_of_year', y='plausibility', color_discrete_sequence=['#0074D9'])\n",
    "    fig.add_shape(type=\"rect\", x0=0, x1=365, y0=0, y1=threshold, fillcolor=\"red\", opacity=0.1)\n",
    "    fig.add_shape(type=\"rect\", x0=0, x1=365, y0=threshold, y1=data.plausibility.max(), fillcolor=\"green\", opacity=0.1)\n",
    "    fig.add_annotation(x=365/2, y=threshold/2, text='flagged for review', showarrow=False, font=dict(color=\"red\"))\n",
    "    fig.add_annotation(x=365/2, y=threshold+0.02, text='OK', showarrow=False, font=dict(color=\"green\"))\n",
    "    fig.update_layout(title={'text': \"{} Plausibility for seeing a {} in '{}' {}\".format(sign, species, grid, sign),\n",
    "                             'x': 0.5,'xanchor': 'center','yanchor': 'top'},\n",
    "                      xaxis_title='Day of Year', yaxis_title='Likelihood',\n",
    "                      font=dict(family=\"Gill Sans\", size=15, color=\"#333333\"))\n",
    "    fig.show()"
   ]
  },
  {
   "cell_type": "code",
   "execution_count": 29,
   "metadata": {},
   "outputs": [
    {
     "data": {
      "application/vnd.plotly.v1+json": {
       "config": {
        "plotlyServerURL": "https://plot.ly"
       },
       "data": [
        {
         "hovertemplate": "day_of_year=%{x}<br>plausibility=%{y}<extra></extra>",
         "legendgroup": "",
         "line": {
          "color": "#0074D9",
          "dash": "solid"
         },
         "marker": {
          "symbol": "circle"
         },
         "mode": "lines",
         "name": "",
         "orientation": "v",
         "showlegend": false,
         "type": "scatter",
         "x": [
          1,
          2,
          3,
          4,
          5,
          6,
          7,
          8,
          9,
          10,
          11,
          12,
          13,
          14,
          15,
          16,
          17,
          18,
          19,
          20,
          21,
          22,
          23,
          24,
          25,
          26,
          27,
          28,
          29,
          30,
          31,
          32,
          33,
          34,
          35,
          36,
          37,
          38,
          39,
          40,
          41,
          42,
          43,
          44,
          45,
          46,
          47,
          48,
          49,
          50,
          51,
          52,
          53,
          54,
          55,
          56,
          57,
          58,
          59,
          60,
          61,
          62,
          63,
          64,
          65,
          66,
          67,
          68,
          69,
          70,
          71,
          72,
          73,
          74,
          75,
          76,
          77,
          78,
          79,
          80,
          81,
          82,
          83,
          84,
          85,
          86,
          87,
          88,
          89,
          90,
          91,
          92,
          93,
          94,
          95,
          96,
          97,
          98,
          99,
          100,
          101,
          102,
          103,
          104,
          105,
          106,
          107,
          108,
          109,
          110,
          111,
          112,
          113,
          114,
          115,
          116,
          117,
          118,
          119,
          120,
          121,
          122,
          123,
          124,
          125,
          126,
          127,
          128,
          129,
          130,
          131,
          132,
          133,
          134,
          135,
          136,
          137,
          138,
          139,
          140,
          141,
          142,
          143,
          144,
          145,
          146,
          147,
          148,
          149,
          150,
          151,
          152,
          153,
          154,
          155,
          156,
          157,
          158,
          159,
          160,
          161,
          162,
          163,
          164,
          165,
          166,
          167,
          168,
          169,
          170,
          171,
          172,
          173,
          174,
          175,
          176,
          177,
          178,
          179,
          180,
          181,
          182,
          183,
          184,
          185,
          186,
          187,
          188,
          189,
          190,
          191,
          192,
          193,
          194,
          195,
          196,
          197,
          198,
          199,
          200,
          201,
          202,
          203,
          204,
          205,
          206,
          207,
          208,
          209,
          210,
          211,
          212,
          213,
          214,
          215,
          216,
          217,
          218,
          219,
          220,
          221,
          222,
          223,
          224,
          225,
          226,
          227,
          228,
          229,
          230,
          231,
          232,
          233,
          234,
          235,
          236,
          237,
          238,
          239,
          240,
          241,
          242,
          243,
          244,
          245,
          246,
          247,
          248,
          249,
          250,
          251,
          252,
          253,
          254,
          255,
          256,
          257,
          258,
          259,
          260,
          261,
          262,
          263,
          264,
          265,
          266,
          267,
          268,
          269,
          270,
          271,
          272,
          273,
          274,
          275,
          276,
          277,
          278,
          279,
          280,
          281,
          282,
          283,
          284,
          285,
          286,
          287,
          288,
          289,
          290,
          291,
          292,
          293,
          294,
          295,
          296,
          297,
          298,
          299,
          300,
          301,
          302,
          303,
          304,
          305,
          306,
          307,
          308,
          309,
          310,
          311,
          312,
          313,
          314,
          315,
          316,
          317,
          318,
          319,
          320,
          321,
          322,
          323,
          324,
          325,
          326,
          327,
          328,
          329,
          330,
          331,
          332,
          333,
          334,
          335,
          336,
          337,
          338,
          339,
          340,
          341,
          342,
          343,
          344,
          345,
          346,
          347,
          348,
          349,
          350,
          351,
          352,
          353,
          354,
          355,
          356,
          357,
          358,
          359,
          360,
          361,
          362,
          363,
          364,
          365
         ],
         "xaxis": "x",
         "y": [
          0,
          0,
          0,
          0,
          0,
          0,
          0,
          0,
          0,
          0,
          0,
          0,
          0,
          0,
          0,
          0,
          0,
          0,
          0,
          0,
          0,
          0,
          0,
          0,
          0,
          0,
          0,
          0,
          0,
          0,
          0,
          0,
          0,
          0,
          0,
          0,
          0,
          0,
          0,
          0,
          0,
          0,
          0,
          0,
          0,
          0,
          0,
          0,
          0,
          0,
          0,
          0,
          0,
          0,
          0,
          0,
          0.0047619047619047615,
          0.009523809523809523,
          0.017857142857142856,
          0.02738095238095238,
          0.036904761904761905,
          0.04642857142857142,
          0.05595238095238095,
          0.06547619047619048,
          0.075,
          0.08452380952380951,
          0.09404761904761903,
          0.10357142857142856,
          0.1130952380952381,
          0.1242063492063492,
          0.13632756132756133,
          0.152994227994228,
          0.16966089466089465,
          0.18632756132756131,
          0.20299422799422798,
          0.21966089466089464,
          0.23632756132756133,
          0.252994227994228,
          0.27204184704184703,
          0.29426406926406923,
          0.3164862914862915,
          0.3387085137085137,
          0.3609307359307359,
          0.38315295815295813,
          0.40537518037518033,
          0.4275974025974026,
          0.43394660894660897,
          0.4402958152958153,
          0.443073593073593,
          0.44466089466089465,
          0.4462481962481962,
          0.4478354978354978,
          0.4494227994227994,
          0.451010101010101,
          0.45259740259740255,
          0.45418470418470414,
          0.4557720057720058,
          0.4573593073593073,
          0.45894660894660894,
          0.45259740259740255,
          0.4452380952380952,
          0.43333333333333335,
          0.42142857142857143,
          0.4095238095238095,
          0.39761904761904765,
          0.38571428571428573,
          0.37380952380952376,
          0.36190476190476184,
          0.3476190476190476,
          0.3291005291005291,
          0.31058201058201057,
          0.292063492063492,
          0.274969474969475,
          0.2578754578754579,
          0.24078144078144076,
          0.22368742368742367,
          0.2177045177045177,
          0.21172161172161172,
          0.21394383394383393,
          0.21616605616605616,
          0.21838827838827837,
          0.2206105006105006,
          0.22283272283272282,
          0.22505494505494505,
          0.2272771672771673,
          0.2217216117216117,
          0.21616605616605616,
          0.20981684981684984,
          0.20346764346764346,
          0.20173604173604173,
          0.20000444000443998,
          0.2007980907980908,
          0.2015917415917416,
          0.20238539238539238,
          0.20317904317904317,
          0.20397269397269396,
          0.20476634476634475,
          0.20555999555999555,
          0.2045017945017945,
          0.2045017945017945,
          0.2045017945017945,
          0.2045017945017945,
          0.20307729307729308,
          0.20165279165279165,
          0.1995548895548896,
          0.19745698745698748,
          0.19535908535908536,
          0.19326118326118327,
          0.18295815295815296,
          0.16962481962481962,
          0.16462481962481962,
          0.1596248196248196,
          0.1546248196248196,
          0.14962481962481963,
          0.1446248196248196,
          0.1474025974025974,
          0.15018037518037516,
          0.15208513708513707,
          0.153989898989899,
          0.15572150072150073,
          0.15745310245310246,
          0.15769464834682226,
          0.15793619424054206,
          0.15978804609239391,
          0.16256582387017168,
          0.16534360164794945,
          0.16812137942572727,
          0.17089915720350504,
          0.17552878683313466,
          0.1801584164627643,
          0.18478804609239394,
          0.18663989794424576,
          0.18849174979609762,
          0.19034360164794947,
          0.19564663195097978,
          0.20094966225401006,
          0.20625269255704037,
          0.21274619905054687,
          0.21923970554405336,
          0.22876351506786288,
          0.22995399125833907,
          0.23114446744881528,
          0.23233494363929147,
          0.23352541982976766,
          0.22519208649643432,
          0.216858753163101,
          0.20852541982976766,
          0.20185875316310098,
          0.19519208649643432,
          0.19043018173452958,
          0.1856682769726248,
          0.1846330802852542,
          0.1835978835978836,
          0.18095238095238092,
          0.17738095238095236,
          0.17738095238095236,
          0.17738095238095236,
          0.17738095238095236,
          0.17738095238095236,
          0.17738095238095236,
          0.17738095238095236,
          0.18015873015873013,
          0.18015873015873016,
          0.18015873015873013,
          0.17738095238095236,
          0.1746031746031746,
          0.1718253968253968,
          0.16836219336219335,
          0.1648989898989899,
          0.16143578643578643,
          0.157972582972583,
          0.16094877344877342,
          0.16392496392496392,
          0.16690115440115438,
          0.1794011544011544,
          0.19190115440115438,
          0.2044011544011544,
          0.2169011544011544,
          0.2502344877344877,
          0.2835678210678211,
          0.3169011544011544,
          0.345472582972583,
          0.37404401154401157,
          0.4026154401154401,
          0.4311868686868687,
          0.43952020202020203,
          0.4422979797979798,
          0.44507575757575757,
          0.4434090909090909,
          0.4417424242424242,
          0.4467424242424242,
          0.4517424242424243,
          0.45952020202020205,
          0.46729797979797977,
          0.47507575757575754,
          0.48285353535353537,
          0.49063131313131314,
          0.48713480963480965,
          0.48107420357420355,
          0.4750135975135975,
          0.46895299145299146,
          0.45645299145299145,
          0.4506196581196581,
          0.4492307692307692,
          0.4478418803418804,
          0.44645299145299144,
          0.44506410256410256,
          0.4436752136752137,
          0.4214529914529914,
          0.3992307692307692,
          0.37423076923076926,
          0.34923076923076923,
          0.32330484330484327,
          0.32330484330484327,
          0.32330484330484327,
          0.33997150997150993,
          0.36219373219373213,
          0.3844159544159544,
          0.41108262108262106,
          0.43774928774928773,
          0.44108262108262103,
          0.4444159544159544,
          0.4477492877492877,
          0.44274928774928773,
          0.43774928774928773,
          0.4327492877492877,
          0.4277492877492877,
          0.42518518518518517,
          0.42518518518518517,
          0.42518518518518517,
          0.42518518518518517,
          0.42518518518518517,
          0.4185185185185185,
          0.4074074074074074,
          0.39629629629629626,
          0.3851851851851852,
          0.37407407407407406,
          0.36296296296296293,
          0.35185185185185186,
          0.34074074074074073,
          0.3324074074074074,
          0.32407407407407407,
          0.31666666666666665,
          0.2833333333333333,
          0.25277777777777777,
          0.2222222222222222,
          0.19166666666666668,
          0.1611111111111111,
          0.13055555555555556,
          0.1,
          0.08611111111111111,
          0.06944444444444443,
          0.05277777777777778,
          0.04444444444444444,
          0.03611111111111111,
          0.027777777777777776,
          0.01944444444444444,
          0.01944444444444444,
          0.01944444444444444,
          0.01944444444444444,
          0.01944444444444444,
          0.01944444444444444,
          0.01944444444444444,
          0.01944444444444444,
          0.01944444444444444,
          0.01944444444444444,
          0.01944444444444444,
          0.01944444444444444,
          0.01944444444444444,
          0.01944444444444444,
          0.01944444444444444,
          0.01944444444444444,
          0.01944444444444444,
          0.01944444444444444,
          0.016666666666666666,
          0.013888888888888888,
          0.01111111111111111,
          0.008333333333333333,
          0.005555555555555556,
          0.0027777777777777775,
          0,
          0,
          0,
          0,
          0,
          0,
          0,
          0,
          0,
          0,
          0,
          0,
          0,
          0,
          0,
          0,
          0,
          0,
          0,
          0,
          0,
          0,
          0,
          0,
          0,
          0,
          0,
          0,
          0,
          0,
          0,
          0,
          0,
          0,
          0,
          0,
          0,
          0,
          0,
          0,
          0,
          0,
          0,
          0,
          0
         ],
         "yaxis": "y"
        }
       ],
       "layout": {
        "annotations": [
         {
          "font": {
           "color": "red"
          },
          "showarrow": false,
          "text": "flagged for review",
          "x": 182.5,
          "y": 0.025
         },
         {
          "font": {
           "color": "green"
          },
          "showarrow": false,
          "text": "OK",
          "x": 182.5,
          "y": 0.07
         }
        ],
        "font": {
         "color": "#333333",
         "family": "Gill Sans",
         "size": 15
        },
        "legend": {
         "tracegroupgap": 0
        },
        "margin": {
         "t": 60
        },
        "shapes": [
         {
          "fillcolor": "red",
          "opacity": 0.1,
          "type": "rect",
          "x0": 0,
          "x1": 365,
          "y0": 0,
          "y1": 0.05
         },
         {
          "fillcolor": "green",
          "opacity": 0.1,
          "type": "rect",
          "x0": 0,
          "x1": 365,
          "y0": 0.05,
          "y1": 0.49063131313131314
         }
        ],
        "template": {
         "data": {
          "bar": [
           {
            "error_x": {
             "color": "#2a3f5f"
            },
            "error_y": {
             "color": "#2a3f5f"
            },
            "marker": {
             "line": {
              "color": "#E5ECF6",
              "width": 0.5
             },
             "pattern": {
              "fillmode": "overlay",
              "size": 10,
              "solidity": 0.2
             }
            },
            "type": "bar"
           }
          ],
          "barpolar": [
           {
            "marker": {
             "line": {
              "color": "#E5ECF6",
              "width": 0.5
             },
             "pattern": {
              "fillmode": "overlay",
              "size": 10,
              "solidity": 0.2
             }
            },
            "type": "barpolar"
           }
          ],
          "carpet": [
           {
            "aaxis": {
             "endlinecolor": "#2a3f5f",
             "gridcolor": "white",
             "linecolor": "white",
             "minorgridcolor": "white",
             "startlinecolor": "#2a3f5f"
            },
            "baxis": {
             "endlinecolor": "#2a3f5f",
             "gridcolor": "white",
             "linecolor": "white",
             "minorgridcolor": "white",
             "startlinecolor": "#2a3f5f"
            },
            "type": "carpet"
           }
          ],
          "choropleth": [
           {
            "colorbar": {
             "outlinewidth": 0,
             "ticks": ""
            },
            "type": "choropleth"
           }
          ],
          "contour": [
           {
            "colorbar": {
             "outlinewidth": 0,
             "ticks": ""
            },
            "colorscale": [
             [
              0,
              "#0d0887"
             ],
             [
              0.1111111111111111,
              "#46039f"
             ],
             [
              0.2222222222222222,
              "#7201a8"
             ],
             [
              0.3333333333333333,
              "#9c179e"
             ],
             [
              0.4444444444444444,
              "#bd3786"
             ],
             [
              0.5555555555555556,
              "#d8576b"
             ],
             [
              0.6666666666666666,
              "#ed7953"
             ],
             [
              0.7777777777777778,
              "#fb9f3a"
             ],
             [
              0.8888888888888888,
              "#fdca26"
             ],
             [
              1,
              "#f0f921"
             ]
            ],
            "type": "contour"
           }
          ],
          "contourcarpet": [
           {
            "colorbar": {
             "outlinewidth": 0,
             "ticks": ""
            },
            "type": "contourcarpet"
           }
          ],
          "heatmap": [
           {
            "colorbar": {
             "outlinewidth": 0,
             "ticks": ""
            },
            "colorscale": [
             [
              0,
              "#0d0887"
             ],
             [
              0.1111111111111111,
              "#46039f"
             ],
             [
              0.2222222222222222,
              "#7201a8"
             ],
             [
              0.3333333333333333,
              "#9c179e"
             ],
             [
              0.4444444444444444,
              "#bd3786"
             ],
             [
              0.5555555555555556,
              "#d8576b"
             ],
             [
              0.6666666666666666,
              "#ed7953"
             ],
             [
              0.7777777777777778,
              "#fb9f3a"
             ],
             [
              0.8888888888888888,
              "#fdca26"
             ],
             [
              1,
              "#f0f921"
             ]
            ],
            "type": "heatmap"
           }
          ],
          "heatmapgl": [
           {
            "colorbar": {
             "outlinewidth": 0,
             "ticks": ""
            },
            "colorscale": [
             [
              0,
              "#0d0887"
             ],
             [
              0.1111111111111111,
              "#46039f"
             ],
             [
              0.2222222222222222,
              "#7201a8"
             ],
             [
              0.3333333333333333,
              "#9c179e"
             ],
             [
              0.4444444444444444,
              "#bd3786"
             ],
             [
              0.5555555555555556,
              "#d8576b"
             ],
             [
              0.6666666666666666,
              "#ed7953"
             ],
             [
              0.7777777777777778,
              "#fb9f3a"
             ],
             [
              0.8888888888888888,
              "#fdca26"
             ],
             [
              1,
              "#f0f921"
             ]
            ],
            "type": "heatmapgl"
           }
          ],
          "histogram": [
           {
            "marker": {
             "pattern": {
              "fillmode": "overlay",
              "size": 10,
              "solidity": 0.2
             }
            },
            "type": "histogram"
           }
          ],
          "histogram2d": [
           {
            "colorbar": {
             "outlinewidth": 0,
             "ticks": ""
            },
            "colorscale": [
             [
              0,
              "#0d0887"
             ],
             [
              0.1111111111111111,
              "#46039f"
             ],
             [
              0.2222222222222222,
              "#7201a8"
             ],
             [
              0.3333333333333333,
              "#9c179e"
             ],
             [
              0.4444444444444444,
              "#bd3786"
             ],
             [
              0.5555555555555556,
              "#d8576b"
             ],
             [
              0.6666666666666666,
              "#ed7953"
             ],
             [
              0.7777777777777778,
              "#fb9f3a"
             ],
             [
              0.8888888888888888,
              "#fdca26"
             ],
             [
              1,
              "#f0f921"
             ]
            ],
            "type": "histogram2d"
           }
          ],
          "histogram2dcontour": [
           {
            "colorbar": {
             "outlinewidth": 0,
             "ticks": ""
            },
            "colorscale": [
             [
              0,
              "#0d0887"
             ],
             [
              0.1111111111111111,
              "#46039f"
             ],
             [
              0.2222222222222222,
              "#7201a8"
             ],
             [
              0.3333333333333333,
              "#9c179e"
             ],
             [
              0.4444444444444444,
              "#bd3786"
             ],
             [
              0.5555555555555556,
              "#d8576b"
             ],
             [
              0.6666666666666666,
              "#ed7953"
             ],
             [
              0.7777777777777778,
              "#fb9f3a"
             ],
             [
              0.8888888888888888,
              "#fdca26"
             ],
             [
              1,
              "#f0f921"
             ]
            ],
            "type": "histogram2dcontour"
           }
          ],
          "mesh3d": [
           {
            "colorbar": {
             "outlinewidth": 0,
             "ticks": ""
            },
            "type": "mesh3d"
           }
          ],
          "parcoords": [
           {
            "line": {
             "colorbar": {
              "outlinewidth": 0,
              "ticks": ""
             }
            },
            "type": "parcoords"
           }
          ],
          "pie": [
           {
            "automargin": true,
            "type": "pie"
           }
          ],
          "scatter": [
           {
            "fillpattern": {
             "fillmode": "overlay",
             "size": 10,
             "solidity": 0.2
            },
            "type": "scatter"
           }
          ],
          "scatter3d": [
           {
            "line": {
             "colorbar": {
              "outlinewidth": 0,
              "ticks": ""
             }
            },
            "marker": {
             "colorbar": {
              "outlinewidth": 0,
              "ticks": ""
             }
            },
            "type": "scatter3d"
           }
          ],
          "scattercarpet": [
           {
            "marker": {
             "colorbar": {
              "outlinewidth": 0,
              "ticks": ""
             }
            },
            "type": "scattercarpet"
           }
          ],
          "scattergeo": [
           {
            "marker": {
             "colorbar": {
              "outlinewidth": 0,
              "ticks": ""
             }
            },
            "type": "scattergeo"
           }
          ],
          "scattergl": [
           {
            "marker": {
             "colorbar": {
              "outlinewidth": 0,
              "ticks": ""
             }
            },
            "type": "scattergl"
           }
          ],
          "scattermapbox": [
           {
            "marker": {
             "colorbar": {
              "outlinewidth": 0,
              "ticks": ""
             }
            },
            "type": "scattermapbox"
           }
          ],
          "scatterpolar": [
           {
            "marker": {
             "colorbar": {
              "outlinewidth": 0,
              "ticks": ""
             }
            },
            "type": "scatterpolar"
           }
          ],
          "scatterpolargl": [
           {
            "marker": {
             "colorbar": {
              "outlinewidth": 0,
              "ticks": ""
             }
            },
            "type": "scatterpolargl"
           }
          ],
          "scatterternary": [
           {
            "marker": {
             "colorbar": {
              "outlinewidth": 0,
              "ticks": ""
             }
            },
            "type": "scatterternary"
           }
          ],
          "surface": [
           {
            "colorbar": {
             "outlinewidth": 0,
             "ticks": ""
            },
            "colorscale": [
             [
              0,
              "#0d0887"
             ],
             [
              0.1111111111111111,
              "#46039f"
             ],
             [
              0.2222222222222222,
              "#7201a8"
             ],
             [
              0.3333333333333333,
              "#9c179e"
             ],
             [
              0.4444444444444444,
              "#bd3786"
             ],
             [
              0.5555555555555556,
              "#d8576b"
             ],
             [
              0.6666666666666666,
              "#ed7953"
             ],
             [
              0.7777777777777778,
              "#fb9f3a"
             ],
             [
              0.8888888888888888,
              "#fdca26"
             ],
             [
              1,
              "#f0f921"
             ]
            ],
            "type": "surface"
           }
          ],
          "table": [
           {
            "cells": {
             "fill": {
              "color": "#EBF0F8"
             },
             "line": {
              "color": "white"
             }
            },
            "header": {
             "fill": {
              "color": "#C8D4E3"
             },
             "line": {
              "color": "white"
             }
            },
            "type": "table"
           }
          ]
         },
         "layout": {
          "annotationdefaults": {
           "arrowcolor": "#2a3f5f",
           "arrowhead": 0,
           "arrowwidth": 1
          },
          "autotypenumbers": "strict",
          "coloraxis": {
           "colorbar": {
            "outlinewidth": 0,
            "ticks": ""
           }
          },
          "colorscale": {
           "diverging": [
            [
             0,
             "#8e0152"
            ],
            [
             0.1,
             "#c51b7d"
            ],
            [
             0.2,
             "#de77ae"
            ],
            [
             0.3,
             "#f1b6da"
            ],
            [
             0.4,
             "#fde0ef"
            ],
            [
             0.5,
             "#f7f7f7"
            ],
            [
             0.6,
             "#e6f5d0"
            ],
            [
             0.7,
             "#b8e186"
            ],
            [
             0.8,
             "#7fbc41"
            ],
            [
             0.9,
             "#4d9221"
            ],
            [
             1,
             "#276419"
            ]
           ],
           "sequential": [
            [
             0,
             "#0d0887"
            ],
            [
             0.1111111111111111,
             "#46039f"
            ],
            [
             0.2222222222222222,
             "#7201a8"
            ],
            [
             0.3333333333333333,
             "#9c179e"
            ],
            [
             0.4444444444444444,
             "#bd3786"
            ],
            [
             0.5555555555555556,
             "#d8576b"
            ],
            [
             0.6666666666666666,
             "#ed7953"
            ],
            [
             0.7777777777777778,
             "#fb9f3a"
            ],
            [
             0.8888888888888888,
             "#fdca26"
            ],
            [
             1,
             "#f0f921"
            ]
           ],
           "sequentialminus": [
            [
             0,
             "#0d0887"
            ],
            [
             0.1111111111111111,
             "#46039f"
            ],
            [
             0.2222222222222222,
             "#7201a8"
            ],
            [
             0.3333333333333333,
             "#9c179e"
            ],
            [
             0.4444444444444444,
             "#bd3786"
            ],
            [
             0.5555555555555556,
             "#d8576b"
            ],
            [
             0.6666666666666666,
             "#ed7953"
            ],
            [
             0.7777777777777778,
             "#fb9f3a"
            ],
            [
             0.8888888888888888,
             "#fdca26"
            ],
            [
             1,
             "#f0f921"
            ]
           ]
          },
          "colorway": [
           "#636efa",
           "#EF553B",
           "#00cc96",
           "#ab63fa",
           "#FFA15A",
           "#19d3f3",
           "#FF6692",
           "#B6E880",
           "#FF97FF",
           "#FECB52"
          ],
          "font": {
           "color": "#2a3f5f"
          },
          "geo": {
           "bgcolor": "white",
           "lakecolor": "white",
           "landcolor": "#E5ECF6",
           "showlakes": true,
           "showland": true,
           "subunitcolor": "white"
          },
          "hoverlabel": {
           "align": "left"
          },
          "hovermode": "closest",
          "mapbox": {
           "style": "light"
          },
          "paper_bgcolor": "white",
          "plot_bgcolor": "#E5ECF6",
          "polar": {
           "angularaxis": {
            "gridcolor": "white",
            "linecolor": "white",
            "ticks": ""
           },
           "bgcolor": "#E5ECF6",
           "radialaxis": {
            "gridcolor": "white",
            "linecolor": "white",
            "ticks": ""
           }
          },
          "scene": {
           "xaxis": {
            "backgroundcolor": "#E5ECF6",
            "gridcolor": "white",
            "gridwidth": 2,
            "linecolor": "white",
            "showbackground": true,
            "ticks": "",
            "zerolinecolor": "white"
           },
           "yaxis": {
            "backgroundcolor": "#E5ECF6",
            "gridcolor": "white",
            "gridwidth": 2,
            "linecolor": "white",
            "showbackground": true,
            "ticks": "",
            "zerolinecolor": "white"
           },
           "zaxis": {
            "backgroundcolor": "#E5ECF6",
            "gridcolor": "white",
            "gridwidth": 2,
            "linecolor": "white",
            "showbackground": true,
            "ticks": "",
            "zerolinecolor": "white"
           }
          },
          "shapedefaults": {
           "line": {
            "color": "#2a3f5f"
           }
          },
          "ternary": {
           "aaxis": {
            "gridcolor": "white",
            "linecolor": "white",
            "ticks": ""
           },
           "baxis": {
            "gridcolor": "white",
            "linecolor": "white",
            "ticks": ""
           },
           "bgcolor": "#E5ECF6",
           "caxis": {
            "gridcolor": "white",
            "linecolor": "white",
            "ticks": ""
           }
          },
          "title": {
           "x": 0.05
          },
          "xaxis": {
           "automargin": true,
           "gridcolor": "white",
           "linecolor": "white",
           "ticks": "",
           "title": {
            "standoff": 15
           },
           "zerolinecolor": "white",
           "zerolinewidth": 2
          },
          "yaxis": {
           "automargin": true,
           "gridcolor": "white",
           "linecolor": "white",
           "ticks": "",
           "title": {
            "standoff": 15
           },
           "zerolinecolor": "white",
           "zerolinewidth": 2
          }
         }
        },
        "title": {
         "text": "🦆 Plausibility for seeing a Knäkente in '50kmE4350N3250' 🦆",
         "x": 0.5,
         "xanchor": "center",
         "yanchor": "top"
        },
        "xaxis": {
         "anchor": "y",
         "domain": [
          0,
          1
         ],
         "title": {
          "text": "Day of Year"
         }
        },
        "yaxis": {
         "anchor": "x",
         "domain": [
          0,
          1
         ],
         "title": {
          "text": "Likelihood"
         }
        }
       }
      }
     },
     "metadata": {},
     "output_type": "display_data"
    }
   ],
   "source": [
    "plot_plausibility_over_year(result_df, species='Knäkente', grid='50kmE4350N3250', sign='🦆')"
   ]
  },
  {
   "cell_type": "code",
   "execution_count": 30,
   "metadata": {},
   "outputs": [
    {
     "data": {
      "application/vnd.plotly.v1+json": {
       "config": {
        "plotlyServerURL": "https://plot.ly"
       },
       "data": [
        {
         "hovertemplate": "day_of_year=%{x}<br>plausibility=%{y}<extra></extra>",
         "legendgroup": "",
         "line": {
          "color": "#0074D9",
          "dash": "solid"
         },
         "marker": {
          "symbol": "circle"
         },
         "mode": "lines",
         "name": "",
         "orientation": "v",
         "showlegend": false,
         "type": "scatter",
         "x": [
          1,
          2,
          3,
          4,
          5,
          6,
          7,
          8,
          9,
          10,
          11,
          12,
          13,
          14,
          15,
          16,
          17,
          18,
          19,
          20,
          21,
          22,
          23,
          24,
          25,
          26,
          27,
          28,
          29,
          30,
          31,
          32,
          33,
          34,
          35,
          36,
          37,
          38,
          39,
          40,
          41,
          42,
          43,
          44,
          45,
          46,
          47,
          48,
          49,
          50,
          51,
          52,
          53,
          54,
          55,
          56,
          57,
          58,
          59,
          60,
          61,
          62,
          63,
          64,
          65,
          66,
          67,
          68,
          69,
          70,
          71,
          72,
          73,
          74,
          75,
          76,
          77,
          78,
          79,
          80,
          81,
          82,
          83,
          84,
          85,
          86,
          87,
          88,
          89,
          90,
          91,
          92,
          93,
          94,
          95,
          96,
          97,
          98,
          99,
          100,
          101,
          102,
          103,
          104,
          105,
          106,
          107,
          108,
          109,
          110,
          111,
          112,
          113,
          114,
          115,
          116,
          117,
          118,
          119,
          120,
          121,
          122,
          123,
          124,
          125,
          126,
          127,
          128,
          129,
          130,
          131,
          132,
          133,
          134,
          135,
          136,
          137,
          138,
          139,
          140,
          141,
          142,
          143,
          144,
          145,
          146,
          147,
          148,
          149,
          150,
          151,
          152,
          153,
          154,
          155,
          156,
          157,
          158,
          159,
          160,
          161,
          162,
          163,
          164,
          165,
          166,
          167,
          168,
          169,
          170,
          171,
          172,
          173,
          174,
          175,
          176,
          177,
          178,
          179,
          180,
          181,
          182,
          183,
          184,
          185,
          186,
          187,
          188,
          189,
          190,
          191,
          192,
          193,
          194,
          195,
          196,
          197,
          198,
          199,
          200,
          201,
          202,
          203,
          204,
          205,
          206,
          207,
          208,
          209,
          210,
          211,
          212,
          213,
          214,
          215,
          216,
          217,
          218,
          219,
          220,
          221,
          222,
          223,
          224,
          225,
          226,
          227,
          228,
          229,
          230,
          231,
          232,
          233,
          234,
          235,
          236,
          237,
          238,
          239,
          240,
          241,
          242,
          243,
          244,
          245,
          246,
          247,
          248,
          249,
          250,
          251,
          252,
          253,
          254,
          255,
          256,
          257,
          258,
          259,
          260,
          261,
          262,
          263,
          264,
          265,
          266,
          267,
          268,
          269,
          270,
          271,
          272,
          273,
          274,
          275,
          276,
          277,
          278,
          279,
          280,
          281,
          282,
          283,
          284,
          285,
          286,
          287,
          288,
          289,
          290,
          291,
          292,
          293,
          294,
          295,
          296,
          297,
          298,
          299,
          300,
          301,
          302,
          303,
          304,
          305,
          306,
          307,
          308,
          309,
          310,
          311,
          312,
          313,
          314,
          315,
          316,
          317,
          318,
          319,
          320,
          321,
          322,
          323,
          324,
          325,
          326,
          327,
          328,
          329,
          330,
          331,
          332,
          333,
          334,
          335,
          336,
          337,
          338,
          339,
          340,
          341,
          342,
          343,
          344,
          345,
          346,
          347,
          348,
          349,
          350,
          351,
          352,
          353,
          354,
          355,
          356,
          357,
          358,
          359,
          360,
          361,
          362,
          363,
          364,
          365
         ],
         "xaxis": "x",
         "y": [
          0.5183333333333333,
          0.5183333333333333,
          0.5183333333333333,
          0.5183333333333333,
          0.5183333333333333,
          0.5116666666666666,
          0.505,
          0.4983333333333333,
          0.49166666666666664,
          0.485,
          0.4738888888888889,
          0.48500000000000004,
          0.4961111111111111,
          0.5072222222222222,
          0.5183333333333333,
          0.5294444444444444,
          0.5405555555555555,
          0.5516666666666666,
          0.5483333333333333,
          0.5449999999999999,
          0.5416666666666666,
          0.5513888888888889,
          0.5611111111111111,
          0.5708333333333333,
          0.5805555555555555,
          0.5902777777777778,
          0.6,
          0.611111111111111,
          0.6277777777777779,
          0.6444444444444445,
          0.6611111111111112,
          0.6777777777777778,
          0.6944444444444445,
          0.7111111111111111,
          0.7277777777777779,
          0.74,
          0.7522222222222222,
          0.7644444444444444,
          0.7744444444444445,
          0.7844444444444445,
          0.7988888888888889,
          0.7855555555555556,
          0.7559259259259259,
          0.7262962962962962,
          0.6966666666666667,
          0.667037037037037,
          0.6397643097643098,
          0.6124915824915824,
          0.6018855218855219,
          0.5912794612794612,
          0.5806734006734007,
          0.5645117845117846,
          0.548956228956229,
          0.5341414141414141,
          0.5193265993265993,
          0.5045117845117846,
          0.48969696969696963,
          0.4808080808080808,
          0.46080808080808083,
          0.4408080808080808,
          0.42080808080808085,
          0.4008080808080808,
          0.3808080808080808,
          0.3608080808080808,
          0.3326029526029526,
          0.31550893550893555,
          0.2984149184149184,
          0.28035936285936286,
          0.2656225207540997,
          0.2508856786488366,
          0.2361488365435734,
          0.22141199443831025,
          0.22297144862934334,
          0.2287915544494492,
          0.23619896185685663,
          0.243606369264264,
          0.24865687431476907,
          0.2537073793652741,
          0.2587578844157792,
          0.2638083894662842,
          0.26885889451678924,
          0.2739093995672943,
          0.2720046376625324,
          0.2704795831963015,
          0.26895452873007053,
          0.2674294742638396,
          0.2659044197976087,
          0.259237753130942,
          0.2525710864642753,
          0.24590441979760866,
          0.239237753130942,
          0.2354282293214182,
          0.23161870551189437,
          0.22780918170237055,
          0.23220478609797496,
          0.23660039049357934,
          0.24099599488918375,
          0.24635313774632658,
          0.2458518846134945,
          0.24535063148066247,
          0.24484937834783035,
          0.24236399823087132,
          0.23987861811391223,
          0.23313258636788048,
          0.2242436974789916,
          0.21535480859010273,
          0.20646591970121383,
          0.19868814192343603,
          0.19091036414565826,
          0.1831325863678805,
          0.17535480859010272,
          0.16757703081232492,
          0.16614845938375353,
          0.16359943977591038,
          0.15886651212209021,
          0.1552830097556264,
          0.1533222254419009,
          0.1505771274026852,
          0.14783202936346954,
          0.14592726745870763,
          0.14402250555394572,
          0.13926060079204097,
          0.13449869603013617,
          0.12973679126823143,
          0.12497488650632668,
          0.12021298174442192,
          0.11545107698251715,
          0.11068917222061239,
          0.11068917222061239,
          0.1100939341253743,
          0.1094986960301362,
          0.11227647380791397,
          0.11505425158569176,
          0.11783202936346954,
          0.12116536269680285,
          0.1244986960301362,
          0.12783202936346952,
          0.13005425158569175,
          0.132276473807914,
          0.13449869603013617,
          0.13672091825235844,
          0.13894314047458065,
          0.14116536269680285,
          0.1511653626968029,
          0.16334927074277988,
          0.17438375350140056,
          0.1837955182072829,
          0.19320728291316527,
          0.20261904761904764,
          0.21119047619047618,
          0.211984126984127,
          0.2127777777777778,
          0.2146825396825397,
          0.21825396825396826,
          0.22182539682539681,
          0.2253968253968254,
          0.22896825396825396,
          0.23253968253968255,
          0.2361111111111111,
          0.24027777777777776,
          0.2427777777777778,
          0.24198412698412702,
          0.2411904761904762,
          0.24039682539682541,
          0.2431746031746032,
          0.24761904761904763,
          0.25317460317460316,
          0.25873015873015875,
          0.2642857142857143,
          0.2753968253968254,
          0.2865079365079365,
          0.29761904761904756,
          0.30873015873015874,
          0.31206349206349204,
          0.3153968253968254,
          0.3187301587301588,
          0.31565323565323566,
          0.3125763125763126,
          0.31590964590964593,
          0.31924297924297923,
          0.33035409035409036,
          0.3414652014652015,
          0.35146520146520144,
          0.3597985347985348,
          0.3681318681318681,
          0.37646520146520146,
          0.3847985347985348,
          0.3931318681318681,
          0.4014652014652015,
          0.4026556776556776,
          0.4055128205128205,
          0.41027472527472525,
          0.41503663003663,
          0.4197985347985348,
          0.420989010989011,
          0.41932234432234433,
          0.41654456654456656,
          0.4101953601953602,
          0.42130647130647136,
          0.4268620268620269,
          0.43241758241758244,
          0.437973137973138,
          0.44352869352869356,
          0.4490842490842491,
          0.4546398046398047,
          0.4546398046398047,
          0.4610500610500611,
          0.46412698412698405,
          0.4724603174603174,
          0.4807936507936507,
          0.4891269841269841,
          0.49746031746031744,
          0.5057936507936508,
          0.5141269841269841,
          0.5224603174603174,
          0.5182936507936508,
          0.5141269841269841,
          0.5099603174603174,
          0.5057936507936508,
          0.5053607503607503,
          0.5053607503607503,
          0.5053607503607503,
          0.5053607503607503,
          0.5069480519480519,
          0.5085353535353535,
          0.5135353535353535,
          0.5185353535353535,
          0.5271067821067822,
          0.5182178932178931,
          0.5093290043290043,
          0.5004401154401155,
          0.49155122655122657,
          0.4804401154401154,
          0.46821789321789326,
          0.45599567099567107,
          0.44932900432900436,
          0.44266233766233765,
          0.43932900432900435,
          0.42432900432900433,
          0.40913292589763184,
          0.3952440370087429,
          0.3869107036754096,
          0.3785773703420762,
          0.3702440370087429,
          0.36191070367540956,
          0.3660773703420762,
          0.3702440370087429,
          0.3744107036754096,
          0.3952440370087429,
          0.4194864612511671,
          0.44329598506069096,
          0.46710550887021474,
          0.4909150326797385,
          0.5131372549019608,
          0.5353594771241831,
          0.555359477124183,
          0.575359477124183,
          0.5953594771241829,
          0.615359477124183,
          0.6153594771241832,
          0.615359477124183,
          0.615359477124183,
          0.6185340802987862,
          0.6228197945845005,
          0.6271055088702149,
          0.6393277310924369,
          0.6515499533146591,
          0.6637721755368814,
          0.6759943977591036,
          0.6884126984126984,
          0.6995238095238095,
          0.7050793650793651,
          0.7017460317460318,
          0.6984126984126984,
          0.6950793650793651,
          0.6917460317460318,
          0.6884126984126984,
          0.6850793650793652,
          0.665079365079365,
          0.645079365079365,
          0.6250793650793651,
          0.6050793650793651,
          0.5850793650793651,
          0.5650793650793651,
          0.5428571428571428,
          0.5206349206349207,
          0.4984126984126984,
          0.4734126984126984,
          0.44841269841269843,
          0.4434126984126984,
          0.45230158730158726,
          0.4611904761904762,
          0.46912698412698417,
          0.4770634920634921,
          0.48500000000000004,
          0.48500000000000004,
          0.485,
          0.47944444444444445,
          0.4738888888888889,
          0.4683333333333333,
          0.4627777777777778,
          0.45722222222222225,
          0.4438888888888889,
          0.4305555555555555,
          0.4255555555555555,
          0.42055555555555557,
          0.41555555555555557,
          0.41055555555555556,
          0.40555555555555556,
          0.4005555555555555,
          0.3955555555555555,
          0.39055555555555554,
          0.38555555555555554,
          0.38055555555555554,
          0.3777777777777777,
          0.36666666666666664,
          0.3555555555555555,
          0.3472222222222222,
          0.33888888888888885,
          0.33055555555555555,
          0.3416666666666667,
          0.35277777777777775,
          0.3638888888888889,
          0.375,
          0.38611111111111107,
          0.3972222222222222,
          0.4083333333333333,
          0.39722222222222225,
          0.3861111111111111,
          0.375,
          0.36388888888888893,
          0.3527777777777778,
          0.36944444444444446,
          0.3861111111111111,
          0.3944444444444445,
          0.4027777777777778,
          0.41111111111111115,
          0.41944444444444445,
          0.4277777777777778,
          0.4361111111111111,
          0.4444444444444445,
          0.4527777777777778,
          0.46111111111111114,
          0.46944444444444444,
          0.4777777777777778,
          0.49444444444444446,
          0.5166666666666667,
          0.538888888888889,
          0.5611111111111111,
          0.5833333333333334,
          0.5722222222222223,
          0.5611111111111111,
          0.55,
          0.5366666666666667,
          0.5233333333333333,
          0.51,
          0.4891666666666667,
          0.49611111111111117,
          0.5030555555555556,
          0.51,
          0.5169444444444445,
          0.5238888888888888,
          0.5183333333333333,
          0.5183333333333333,
          0.5183333333333333
         ],
         "yaxis": "y"
        }
       ],
       "layout": {
        "annotations": [
         {
          "font": {
           "color": "red"
          },
          "showarrow": false,
          "text": "flagged for review",
          "x": 182.5,
          "y": 0.025
         },
         {
          "font": {
           "color": "green"
          },
          "showarrow": false,
          "text": "OK",
          "x": 182.5,
          "y": 0.07
         }
        ],
        "font": {
         "color": "#333333",
         "family": "Gill Sans",
         "size": 15
        },
        "legend": {
         "tracegroupgap": 0
        },
        "margin": {
         "t": 60
        },
        "shapes": [
         {
          "fillcolor": "red",
          "opacity": 0.1,
          "type": "rect",
          "x0": 0,
          "x1": 365,
          "y0": 0,
          "y1": 0.05
         },
         {
          "fillcolor": "green",
          "opacity": 0.1,
          "type": "rect",
          "x0": 0,
          "x1": 365,
          "y0": 0.05,
          "y1": 0.7988888888888889
         }
        ],
        "template": {
         "data": {
          "bar": [
           {
            "error_x": {
             "color": "#2a3f5f"
            },
            "error_y": {
             "color": "#2a3f5f"
            },
            "marker": {
             "line": {
              "color": "#E5ECF6",
              "width": 0.5
             },
             "pattern": {
              "fillmode": "overlay",
              "size": 10,
              "solidity": 0.2
             }
            },
            "type": "bar"
           }
          ],
          "barpolar": [
           {
            "marker": {
             "line": {
              "color": "#E5ECF6",
              "width": 0.5
             },
             "pattern": {
              "fillmode": "overlay",
              "size": 10,
              "solidity": 0.2
             }
            },
            "type": "barpolar"
           }
          ],
          "carpet": [
           {
            "aaxis": {
             "endlinecolor": "#2a3f5f",
             "gridcolor": "white",
             "linecolor": "white",
             "minorgridcolor": "white",
             "startlinecolor": "#2a3f5f"
            },
            "baxis": {
             "endlinecolor": "#2a3f5f",
             "gridcolor": "white",
             "linecolor": "white",
             "minorgridcolor": "white",
             "startlinecolor": "#2a3f5f"
            },
            "type": "carpet"
           }
          ],
          "choropleth": [
           {
            "colorbar": {
             "outlinewidth": 0,
             "ticks": ""
            },
            "type": "choropleth"
           }
          ],
          "contour": [
           {
            "colorbar": {
             "outlinewidth": 0,
             "ticks": ""
            },
            "colorscale": [
             [
              0,
              "#0d0887"
             ],
             [
              0.1111111111111111,
              "#46039f"
             ],
             [
              0.2222222222222222,
              "#7201a8"
             ],
             [
              0.3333333333333333,
              "#9c179e"
             ],
             [
              0.4444444444444444,
              "#bd3786"
             ],
             [
              0.5555555555555556,
              "#d8576b"
             ],
             [
              0.6666666666666666,
              "#ed7953"
             ],
             [
              0.7777777777777778,
              "#fb9f3a"
             ],
             [
              0.8888888888888888,
              "#fdca26"
             ],
             [
              1,
              "#f0f921"
             ]
            ],
            "type": "contour"
           }
          ],
          "contourcarpet": [
           {
            "colorbar": {
             "outlinewidth": 0,
             "ticks": ""
            },
            "type": "contourcarpet"
           }
          ],
          "heatmap": [
           {
            "colorbar": {
             "outlinewidth": 0,
             "ticks": ""
            },
            "colorscale": [
             [
              0,
              "#0d0887"
             ],
             [
              0.1111111111111111,
              "#46039f"
             ],
             [
              0.2222222222222222,
              "#7201a8"
             ],
             [
              0.3333333333333333,
              "#9c179e"
             ],
             [
              0.4444444444444444,
              "#bd3786"
             ],
             [
              0.5555555555555556,
              "#d8576b"
             ],
             [
              0.6666666666666666,
              "#ed7953"
             ],
             [
              0.7777777777777778,
              "#fb9f3a"
             ],
             [
              0.8888888888888888,
              "#fdca26"
             ],
             [
              1,
              "#f0f921"
             ]
            ],
            "type": "heatmap"
           }
          ],
          "heatmapgl": [
           {
            "colorbar": {
             "outlinewidth": 0,
             "ticks": ""
            },
            "colorscale": [
             [
              0,
              "#0d0887"
             ],
             [
              0.1111111111111111,
              "#46039f"
             ],
             [
              0.2222222222222222,
              "#7201a8"
             ],
             [
              0.3333333333333333,
              "#9c179e"
             ],
             [
              0.4444444444444444,
              "#bd3786"
             ],
             [
              0.5555555555555556,
              "#d8576b"
             ],
             [
              0.6666666666666666,
              "#ed7953"
             ],
             [
              0.7777777777777778,
              "#fb9f3a"
             ],
             [
              0.8888888888888888,
              "#fdca26"
             ],
             [
              1,
              "#f0f921"
             ]
            ],
            "type": "heatmapgl"
           }
          ],
          "histogram": [
           {
            "marker": {
             "pattern": {
              "fillmode": "overlay",
              "size": 10,
              "solidity": 0.2
             }
            },
            "type": "histogram"
           }
          ],
          "histogram2d": [
           {
            "colorbar": {
             "outlinewidth": 0,
             "ticks": ""
            },
            "colorscale": [
             [
              0,
              "#0d0887"
             ],
             [
              0.1111111111111111,
              "#46039f"
             ],
             [
              0.2222222222222222,
              "#7201a8"
             ],
             [
              0.3333333333333333,
              "#9c179e"
             ],
             [
              0.4444444444444444,
              "#bd3786"
             ],
             [
              0.5555555555555556,
              "#d8576b"
             ],
             [
              0.6666666666666666,
              "#ed7953"
             ],
             [
              0.7777777777777778,
              "#fb9f3a"
             ],
             [
              0.8888888888888888,
              "#fdca26"
             ],
             [
              1,
              "#f0f921"
             ]
            ],
            "type": "histogram2d"
           }
          ],
          "histogram2dcontour": [
           {
            "colorbar": {
             "outlinewidth": 0,
             "ticks": ""
            },
            "colorscale": [
             [
              0,
              "#0d0887"
             ],
             [
              0.1111111111111111,
              "#46039f"
             ],
             [
              0.2222222222222222,
              "#7201a8"
             ],
             [
              0.3333333333333333,
              "#9c179e"
             ],
             [
              0.4444444444444444,
              "#bd3786"
             ],
             [
              0.5555555555555556,
              "#d8576b"
             ],
             [
              0.6666666666666666,
              "#ed7953"
             ],
             [
              0.7777777777777778,
              "#fb9f3a"
             ],
             [
              0.8888888888888888,
              "#fdca26"
             ],
             [
              1,
              "#f0f921"
             ]
            ],
            "type": "histogram2dcontour"
           }
          ],
          "mesh3d": [
           {
            "colorbar": {
             "outlinewidth": 0,
             "ticks": ""
            },
            "type": "mesh3d"
           }
          ],
          "parcoords": [
           {
            "line": {
             "colorbar": {
              "outlinewidth": 0,
              "ticks": ""
             }
            },
            "type": "parcoords"
           }
          ],
          "pie": [
           {
            "automargin": true,
            "type": "pie"
           }
          ],
          "scatter": [
           {
            "fillpattern": {
             "fillmode": "overlay",
             "size": 10,
             "solidity": 0.2
            },
            "type": "scatter"
           }
          ],
          "scatter3d": [
           {
            "line": {
             "colorbar": {
              "outlinewidth": 0,
              "ticks": ""
             }
            },
            "marker": {
             "colorbar": {
              "outlinewidth": 0,
              "ticks": ""
             }
            },
            "type": "scatter3d"
           }
          ],
          "scattercarpet": [
           {
            "marker": {
             "colorbar": {
              "outlinewidth": 0,
              "ticks": ""
             }
            },
            "type": "scattercarpet"
           }
          ],
          "scattergeo": [
           {
            "marker": {
             "colorbar": {
              "outlinewidth": 0,
              "ticks": ""
             }
            },
            "type": "scattergeo"
           }
          ],
          "scattergl": [
           {
            "marker": {
             "colorbar": {
              "outlinewidth": 0,
              "ticks": ""
             }
            },
            "type": "scattergl"
           }
          ],
          "scattermapbox": [
           {
            "marker": {
             "colorbar": {
              "outlinewidth": 0,
              "ticks": ""
             }
            },
            "type": "scattermapbox"
           }
          ],
          "scatterpolar": [
           {
            "marker": {
             "colorbar": {
              "outlinewidth": 0,
              "ticks": ""
             }
            },
            "type": "scatterpolar"
           }
          ],
          "scatterpolargl": [
           {
            "marker": {
             "colorbar": {
              "outlinewidth": 0,
              "ticks": ""
             }
            },
            "type": "scatterpolargl"
           }
          ],
          "scatterternary": [
           {
            "marker": {
             "colorbar": {
              "outlinewidth": 0,
              "ticks": ""
             }
            },
            "type": "scatterternary"
           }
          ],
          "surface": [
           {
            "colorbar": {
             "outlinewidth": 0,
             "ticks": ""
            },
            "colorscale": [
             [
              0,
              "#0d0887"
             ],
             [
              0.1111111111111111,
              "#46039f"
             ],
             [
              0.2222222222222222,
              "#7201a8"
             ],
             [
              0.3333333333333333,
              "#9c179e"
             ],
             [
              0.4444444444444444,
              "#bd3786"
             ],
             [
              0.5555555555555556,
              "#d8576b"
             ],
             [
              0.6666666666666666,
              "#ed7953"
             ],
             [
              0.7777777777777778,
              "#fb9f3a"
             ],
             [
              0.8888888888888888,
              "#fdca26"
             ],
             [
              1,
              "#f0f921"
             ]
            ],
            "type": "surface"
           }
          ],
          "table": [
           {
            "cells": {
             "fill": {
              "color": "#EBF0F8"
             },
             "line": {
              "color": "white"
             }
            },
            "header": {
             "fill": {
              "color": "#C8D4E3"
             },
             "line": {
              "color": "white"
             }
            },
            "type": "table"
           }
          ]
         },
         "layout": {
          "annotationdefaults": {
           "arrowcolor": "#2a3f5f",
           "arrowhead": 0,
           "arrowwidth": 1
          },
          "autotypenumbers": "strict",
          "coloraxis": {
           "colorbar": {
            "outlinewidth": 0,
            "ticks": ""
           }
          },
          "colorscale": {
           "diverging": [
            [
             0,
             "#8e0152"
            ],
            [
             0.1,
             "#c51b7d"
            ],
            [
             0.2,
             "#de77ae"
            ],
            [
             0.3,
             "#f1b6da"
            ],
            [
             0.4,
             "#fde0ef"
            ],
            [
             0.5,
             "#f7f7f7"
            ],
            [
             0.6,
             "#e6f5d0"
            ],
            [
             0.7,
             "#b8e186"
            ],
            [
             0.8,
             "#7fbc41"
            ],
            [
             0.9,
             "#4d9221"
            ],
            [
             1,
             "#276419"
            ]
           ],
           "sequential": [
            [
             0,
             "#0d0887"
            ],
            [
             0.1111111111111111,
             "#46039f"
            ],
            [
             0.2222222222222222,
             "#7201a8"
            ],
            [
             0.3333333333333333,
             "#9c179e"
            ],
            [
             0.4444444444444444,
             "#bd3786"
            ],
            [
             0.5555555555555556,
             "#d8576b"
            ],
            [
             0.6666666666666666,
             "#ed7953"
            ],
            [
             0.7777777777777778,
             "#fb9f3a"
            ],
            [
             0.8888888888888888,
             "#fdca26"
            ],
            [
             1,
             "#f0f921"
            ]
           ],
           "sequentialminus": [
            [
             0,
             "#0d0887"
            ],
            [
             0.1111111111111111,
             "#46039f"
            ],
            [
             0.2222222222222222,
             "#7201a8"
            ],
            [
             0.3333333333333333,
             "#9c179e"
            ],
            [
             0.4444444444444444,
             "#bd3786"
            ],
            [
             0.5555555555555556,
             "#d8576b"
            ],
            [
             0.6666666666666666,
             "#ed7953"
            ],
            [
             0.7777777777777778,
             "#fb9f3a"
            ],
            [
             0.8888888888888888,
             "#fdca26"
            ],
            [
             1,
             "#f0f921"
            ]
           ]
          },
          "colorway": [
           "#636efa",
           "#EF553B",
           "#00cc96",
           "#ab63fa",
           "#FFA15A",
           "#19d3f3",
           "#FF6692",
           "#B6E880",
           "#FF97FF",
           "#FECB52"
          ],
          "font": {
           "color": "#2a3f5f"
          },
          "geo": {
           "bgcolor": "white",
           "lakecolor": "white",
           "landcolor": "#E5ECF6",
           "showlakes": true,
           "showland": true,
           "subunitcolor": "white"
          },
          "hoverlabel": {
           "align": "left"
          },
          "hovermode": "closest",
          "mapbox": {
           "style": "light"
          },
          "paper_bgcolor": "white",
          "plot_bgcolor": "#E5ECF6",
          "polar": {
           "angularaxis": {
            "gridcolor": "white",
            "linecolor": "white",
            "ticks": ""
           },
           "bgcolor": "#E5ECF6",
           "radialaxis": {
            "gridcolor": "white",
            "linecolor": "white",
            "ticks": ""
           }
          },
          "scene": {
           "xaxis": {
            "backgroundcolor": "#E5ECF6",
            "gridcolor": "white",
            "gridwidth": 2,
            "linecolor": "white",
            "showbackground": true,
            "ticks": "",
            "zerolinecolor": "white"
           },
           "yaxis": {
            "backgroundcolor": "#E5ECF6",
            "gridcolor": "white",
            "gridwidth": 2,
            "linecolor": "white",
            "showbackground": true,
            "ticks": "",
            "zerolinecolor": "white"
           },
           "zaxis": {
            "backgroundcolor": "#E5ECF6",
            "gridcolor": "white",
            "gridwidth": 2,
            "linecolor": "white",
            "showbackground": true,
            "ticks": "",
            "zerolinecolor": "white"
           }
          },
          "shapedefaults": {
           "line": {
            "color": "#2a3f5f"
           }
          },
          "ternary": {
           "aaxis": {
            "gridcolor": "white",
            "linecolor": "white",
            "ticks": ""
           },
           "baxis": {
            "gridcolor": "white",
            "linecolor": "white",
            "ticks": ""
           },
           "bgcolor": "#E5ECF6",
           "caxis": {
            "gridcolor": "white",
            "linecolor": "white",
            "ticks": ""
           }
          },
          "title": {
           "x": 0.05
          },
          "xaxis": {
           "automargin": true,
           "gridcolor": "white",
           "linecolor": "white",
           "ticks": "",
           "title": {
            "standoff": 15
           },
           "zerolinecolor": "white",
           "zerolinewidth": 2
          },
          "yaxis": {
           "automargin": true,
           "gridcolor": "white",
           "linecolor": "white",
           "ticks": "",
           "title": {
            "standoff": 15
           },
           "zerolinecolor": "white",
           "zerolinewidth": 2
          }
         }
        },
        "title": {
         "text": "🦅 Plausibility for seeing a Seeadler in '50kmE4350N3250' 🦅",
         "x": 0.5,
         "xanchor": "center",
         "yanchor": "top"
        },
        "xaxis": {
         "anchor": "y",
         "domain": [
          0,
          1
         ],
         "title": {
          "text": "Day of Year"
         }
        },
        "yaxis": {
         "anchor": "x",
         "domain": [
          0,
          1
         ],
         "title": {
          "text": "Likelihood"
         }
        }
       }
      }
     },
     "metadata": {},
     "output_type": "display_data"
    }
   ],
   "source": [
    "plot_plausibility_over_year(result_df, species='Seeadler', grid='50kmE4350N3250', sign='🦅')"
   ]
  },
  {
   "cell_type": "markdown",
   "metadata": {},
   "source": [
    "## Applying emergent filters for flagging unusual sightings\n",
    "Below is an example code demonstrating how the emergent filters could be utilized to assess newly incoming sightings. In this process, we simply need to extract the dataframe row corresponding to the relevant species, grid, and date, and retrieve the plausibility value. If this value falls below the predetermined threshold (here set at 5%), the `flagged_for_review` flag is set to True. An expert can subsequently filter based on this flag and review the corresponding sightings. Similarly, a system with continuous values could be established, allowing the plausibility value to be directly associated with the new sighting. An expert can then sort the sightings by plausibility, starting with those having the lowest plausibility values."
   ]
  },
  {
   "cell_type": "code",
   "execution_count": 31,
   "metadata": {},
   "outputs": [],
   "source": [
    "def create_emergent_filters_lookup(emergent_filters):\n",
    "    lookup = emergent_filters.groupby(['name_species', 'eea_grid_id', 'day_of_year'])['plausibility'].first().to_dict()\n",
    "    return lookup\n",
    "\n",
    "def is_unlikely(sighting, emergent_filters_lookup, threshold=0.05):\n",
    "    key = (sighting['name_species'], sighting['eea_grid_id'], sighting['day_of_year'])\n",
    "    plausibility = emergent_filters_lookup.get(key, None)\n",
    "    return plausibility is not None and plausibility < threshold"
   ]
  },
  {
   "cell_type": "code",
   "execution_count": 32,
   "metadata": {},
   "outputs": [],
   "source": [
    "emergent_filters_lookup = create_emergent_filters_lookup(result_df)  # convert pandas df to dict as it is more efficient to compute with"
   ]
  },
  {
   "cell_type": "code",
   "execution_count": 33,
   "metadata": {},
   "outputs": [
    {
     "name": "stdout",
     "output_type": "stream",
     "text": [
      "Should this datapoint be flagged for review? False\n",
      "Should this datapoint be flagged for review? True\n"
     ]
    }
   ],
   "source": [
    "# flag single datapoints\n",
    "\n",
    "# let's set threshold to <5% (as at eBird)\n",
    "threshold = 0.05\n",
    "\n",
    "# let's artificially create a usual datapoint and an unusual datapoint\n",
    "# sighting at Jan 30 '22 (unusual)\n",
    "unusual_knaekente = {'name_species': 'Knäkente', 'eea_grid_id': '50kmE4350N3250', 'day_of_year': 30}\n",
    "\n",
    "# sighting at Apr 1 '22 (usual)\n",
    "usual_knaekente = {'name_species': 'Knäkente', 'eea_grid_id': '50kmE4350N3250', 'day_of_year': 100}\n",
    "\n",
    "print('Should this datapoint be flagged for review?', is_unlikely(usual_knaekente, emergent_filters_lookup, threshold))\n",
    "print('Should this datapoint be flagged for review?', is_unlikely(unusual_knaekente, emergent_filters_lookup, threshold))"
   ]
  },
  {
   "cell_type": "code",
   "execution_count": 34,
   "metadata": {},
   "outputs": [
    {
     "data": {
      "text/html": [
       "<div>\n",
       "<style scoped>\n",
       "    .dataframe tbody tr th:only-of-type {\n",
       "        vertical-align: middle;\n",
       "    }\n",
       "\n",
       "    .dataframe tbody tr th {\n",
       "        vertical-align: top;\n",
       "    }\n",
       "\n",
       "    .dataframe thead th {\n",
       "        text-align: right;\n",
       "    }\n",
       "</style>\n",
       "<table border=\"1\" class=\"dataframe\">\n",
       "  <thead>\n",
       "    <tr style=\"text-align: right;\">\n",
       "      <th></th>\n",
       "      <th>name_species</th>\n",
       "      <th>eea_grid_id</th>\n",
       "      <th>day_of_year</th>\n",
       "      <th>total_sightings</th>\n",
       "      <th>n_sightings</th>\n",
       "      <th>frequency</th>\n",
       "      <th>frequency_rolling</th>\n",
       "      <th>plausibility</th>\n",
       "      <th>flagged_for_review</th>\n",
       "    </tr>\n",
       "  </thead>\n",
       "  <tbody>\n",
       "    <tr>\n",
       "      <th>0</th>\n",
       "      <td>Alpenschneehuhn</td>\n",
       "      <td>50kmE4000N2500</td>\n",
       "      <td>1</td>\n",
       "      <td>0</td>\n",
       "      <td>0</td>\n",
       "      <td>0.0</td>\n",
       "      <td>0.0</td>\n",
       "      <td>0.0</td>\n",
       "      <td>True</td>\n",
       "    </tr>\n",
       "    <tr>\n",
       "      <th>1</th>\n",
       "      <td>Alpenschneehuhn</td>\n",
       "      <td>50kmE4000N2500</td>\n",
       "      <td>2</td>\n",
       "      <td>0</td>\n",
       "      <td>0</td>\n",
       "      <td>0.0</td>\n",
       "      <td>0.0</td>\n",
       "      <td>0.0</td>\n",
       "      <td>True</td>\n",
       "    </tr>\n",
       "    <tr>\n",
       "      <th>2</th>\n",
       "      <td>Alpenschneehuhn</td>\n",
       "      <td>50kmE4000N2500</td>\n",
       "      <td>3</td>\n",
       "      <td>0</td>\n",
       "      <td>0</td>\n",
       "      <td>0.0</td>\n",
       "      <td>0.0</td>\n",
       "      <td>0.0</td>\n",
       "      <td>True</td>\n",
       "    </tr>\n",
       "    <tr>\n",
       "      <th>3</th>\n",
       "      <td>Alpenschneehuhn</td>\n",
       "      <td>50kmE4000N2500</td>\n",
       "      <td>4</td>\n",
       "      <td>0</td>\n",
       "      <td>0</td>\n",
       "      <td>0.0</td>\n",
       "      <td>0.0</td>\n",
       "      <td>0.0</td>\n",
       "      <td>True</td>\n",
       "    </tr>\n",
       "    <tr>\n",
       "      <th>4</th>\n",
       "      <td>Alpenschneehuhn</td>\n",
       "      <td>50kmE4000N2500</td>\n",
       "      <td>5</td>\n",
       "      <td>0</td>\n",
       "      <td>0</td>\n",
       "      <td>0.0</td>\n",
       "      <td>0.0</td>\n",
       "      <td>0.0</td>\n",
       "      <td>True</td>\n",
       "    </tr>\n",
       "    <tr>\n",
       "      <th>...</th>\n",
       "      <td>...</td>\n",
       "      <td>...</td>\n",
       "      <td>...</td>\n",
       "      <td>...</td>\n",
       "      <td>...</td>\n",
       "      <td>...</td>\n",
       "      <td>...</td>\n",
       "      <td>...</td>\n",
       "      <td>...</td>\n",
       "    </tr>\n",
       "    <tr>\n",
       "      <th>2207515</th>\n",
       "      <td>Zwergohreule</td>\n",
       "      <td>50kmE4650N3150</td>\n",
       "      <td>361</td>\n",
       "      <td>2</td>\n",
       "      <td>0</td>\n",
       "      <td>0.0</td>\n",
       "      <td>0.0</td>\n",
       "      <td>0.0</td>\n",
       "      <td>True</td>\n",
       "    </tr>\n",
       "    <tr>\n",
       "      <th>2207516</th>\n",
       "      <td>Zwergohreule</td>\n",
       "      <td>50kmE4650N3150</td>\n",
       "      <td>362</td>\n",
       "      <td>0</td>\n",
       "      <td>0</td>\n",
       "      <td>0.0</td>\n",
       "      <td>0.0</td>\n",
       "      <td>0.0</td>\n",
       "      <td>True</td>\n",
       "    </tr>\n",
       "    <tr>\n",
       "      <th>2207517</th>\n",
       "      <td>Zwergohreule</td>\n",
       "      <td>50kmE4650N3150</td>\n",
       "      <td>363</td>\n",
       "      <td>0</td>\n",
       "      <td>0</td>\n",
       "      <td>0.0</td>\n",
       "      <td>0.0</td>\n",
       "      <td>0.0</td>\n",
       "      <td>True</td>\n",
       "    </tr>\n",
       "    <tr>\n",
       "      <th>2207518</th>\n",
       "      <td>Zwergohreule</td>\n",
       "      <td>50kmE4650N3150</td>\n",
       "      <td>364</td>\n",
       "      <td>0</td>\n",
       "      <td>0</td>\n",
       "      <td>0.0</td>\n",
       "      <td>0.0</td>\n",
       "      <td>0.0</td>\n",
       "      <td>True</td>\n",
       "    </tr>\n",
       "    <tr>\n",
       "      <th>2207519</th>\n",
       "      <td>Zwergohreule</td>\n",
       "      <td>50kmE4650N3150</td>\n",
       "      <td>365</td>\n",
       "      <td>0</td>\n",
       "      <td>0</td>\n",
       "      <td>0.0</td>\n",
       "      <td>0.0</td>\n",
       "      <td>0.0</td>\n",
       "      <td>True</td>\n",
       "    </tr>\n",
       "  </tbody>\n",
       "</table>\n",
       "<p>2207520 rows × 9 columns</p>\n",
       "</div>"
      ],
      "text/plain": [
       "            name_species     eea_grid_id  day_of_year  total_sightings   \n",
       "0        Alpenschneehuhn  50kmE4000N2500            1                0  \\\n",
       "1        Alpenschneehuhn  50kmE4000N2500            2                0   \n",
       "2        Alpenschneehuhn  50kmE4000N2500            3                0   \n",
       "3        Alpenschneehuhn  50kmE4000N2500            4                0   \n",
       "4        Alpenschneehuhn  50kmE4000N2500            5                0   \n",
       "...                  ...             ...          ...              ...   \n",
       "2207515     Zwergohreule  50kmE4650N3150          361                2   \n",
       "2207516     Zwergohreule  50kmE4650N3150          362                0   \n",
       "2207517     Zwergohreule  50kmE4650N3150          363                0   \n",
       "2207518     Zwergohreule  50kmE4650N3150          364                0   \n",
       "2207519     Zwergohreule  50kmE4650N3150          365                0   \n",
       "\n",
       "         n_sightings  frequency  frequency_rolling  plausibility   \n",
       "0                  0        0.0                0.0           0.0  \\\n",
       "1                  0        0.0                0.0           0.0   \n",
       "2                  0        0.0                0.0           0.0   \n",
       "3                  0        0.0                0.0           0.0   \n",
       "4                  0        0.0                0.0           0.0   \n",
       "...              ...        ...                ...           ...   \n",
       "2207515            0        0.0                0.0           0.0   \n",
       "2207516            0        0.0                0.0           0.0   \n",
       "2207517            0        0.0                0.0           0.0   \n",
       "2207518            0        0.0                0.0           0.0   \n",
       "2207519            0        0.0                0.0           0.0   \n",
       "\n",
       "         flagged_for_review  \n",
       "0                      True  \n",
       "1                      True  \n",
       "2                      True  \n",
       "3                      True  \n",
       "4                      True  \n",
       "...                     ...  \n",
       "2207515                True  \n",
       "2207516                True  \n",
       "2207517                True  \n",
       "2207518                True  \n",
       "2207519                True  \n",
       "\n",
       "[2207520 rows x 9 columns]"
      ]
     },
     "execution_count": 34,
     "metadata": {},
     "output_type": "execute_result"
    }
   ],
   "source": [
    "# flag a whole dataframe\n",
    "result_df['flagged_for_review'] = result_df.apply(is_unlikely, args=(emergent_filters_lookup, threshold,), axis=1)\n",
    "result_df"
   ]
  },
  {
   "cell_type": "markdown",
   "metadata": {},
   "source": [
    "## Initial Assessment: Possible Opportunities and Limitations\n",
    "The Emergent Filters represent a method already implemented in practice and established at eBird. Therefore, we intend to utilize this approach as a benchmark for our outlier analysis. While they are relatively resource-efficient to compute, they narrow down data points solely on location and time, disregarding other features that can significantly influence plausibility. For instance, a Knäkente with Atlas code 0 might be highly plausible, while one with a high Atlas code (indicating breeding) could be quite unusual.\n",
    "\n",
    "We aim to benchmark the Emergent Filters against our outlier analysis to test whether the outlier analysis, which considers all features and employs common outlier detection algorithms, performs better, equal, or worse. This comparison will help us determine whether the established Emergent Filters, while straightforward, are indeed effective or if the more comprehensive outlier analysis offers superior performance by encompassing all available features and calculations."
   ]
  }
 ],
 "metadata": {
  "kernelspec": {
   "display_name": "bird",
   "language": "python",
   "name": "python3"
  },
  "language_info": {
   "codemirror_mode": {
    "name": "ipython",
    "version": 3
   },
   "file_extension": ".py",
   "mimetype": "text/x-python",
   "name": "python",
   "nbconvert_exporter": "python",
   "pygments_lexer": "ipython3",
   "version": "3.10.11"
  }
 },
 "nbformat": 4,
 "nbformat_minor": 2
}
